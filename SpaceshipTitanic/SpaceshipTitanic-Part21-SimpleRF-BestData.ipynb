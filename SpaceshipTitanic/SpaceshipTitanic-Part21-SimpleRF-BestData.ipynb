{
 "cells": [
  {
   "cell_type": "markdown",
   "id": "d95e1a8c",
   "metadata": {},
   "source": [
    "This worksheet is to utilize different combinations of data manipulation with the simple random forest model to find the best data combination. "
   ]
  },
  {
   "cell_type": "markdown",
   "id": "3fd550af",
   "metadata": {},
   "source": [
    "# Data Preprocessing"
   ]
  },
  {
   "cell_type": "markdown",
   "id": "fd33f9c0",
   "metadata": {},
   "source": [
    "First I've imported all of fastai which includes pandas and numpy. Then I'll import some of the other functionality I'll need. Next I uploaded the train and test csv files as dataframes and then show their heads just to see what the columns contain. "
   ]
  },
  {
   "cell_type": "code",
   "execution_count": 1,
   "id": "16b27946",
   "metadata": {},
   "outputs": [],
   "source": [
    "from fastai.imports import *\n",
    "\n",
    "from fastai.tabular.all import *\n",
    "from sklearn.ensemble import RandomForestRegressor\n",
    "#from sklearn.tree import DecisionTreeRegressor"
   ]
  },
  {
   "cell_type": "code",
   "execution_count": 2,
   "id": "d95bfbbd",
   "metadata": {},
   "outputs": [],
   "source": [
    "from sklearn.impute import SimpleImputer\n",
    "from sklearn.preprocessing import OneHotEncoder\n",
    "from sklearn.metrics import mean_absolute_error\n",
    "import pandas as pd\n",
    "import numpy as np\n",
    "import base64\n",
    "import seaborn as sns\n",
    "import matplotlib.pyplot as plt\n",
    "import os\n",
    "import random\n",
    "import gc\n",
    "\n",
    "from sklearn.impute import SimpleImputer\n",
    "from sklearn.preprocessing import OneHotEncoder\n",
    "from sklearn.preprocessing import StandardScaler\n",
    "from sklearn.utils import shuffle\n",
    "from sklearn.model_selection import train_test_split\n",
    "from sklearn.utils import shuffle\n",
    "from sklearn.metrics import log_loss\n",
    "from sklearn.metrics import accuracy_score\n",
    "import optuna\n",
    "import xgboost as xgb\n",
    "from sklearn.ensemble import (RandomForestClassifier, AdaBoostClassifier, GradientBoostingClassifier, \n",
    "                              ExtraTreesClassifier, VotingClassifier)\n",
    "from sklearn.discriminant_analysis import LinearDiscriminantAnalysis\n",
    "from sklearn.linear_model import LogisticRegression\n",
    "from sklearn.neighbors import KNeighborsClassifier\n",
    "from sklearn.tree import DecisionTreeClassifier\n",
    "from sklearn.neural_network import MLPClassifier\n",
    "from catboost import CatBoostClassifier\n",
    "from sklearn.svm import SVC\n",
    "from sklearn import datasets, linear_model\n",
    "import lightgbm as lgb\n",
    "from sklearn.model_selection import cross_val_score\n",
    "from sklearn.model_selection import StratifiedKFold\n",
    "from sklearn.model_selection import GridSearchCV\n",
    "\n",
    "pd.set_option('display.max_columns', None)   \n",
    "\n",
    "from sklearn.model_selection import train_test_split\n",
    "from sklearn.ensemble import RandomForestClassifier\n",
    "import eli5\n",
    "from eli5.sklearn import PermutationImportance"
   ]
  },
  {
   "cell_type": "code",
   "execution_count": 130,
   "id": "dc3ca419",
   "metadata": {},
   "outputs": [],
   "source": [
    "from sklearn.ensemble import RandomForestClassifier\n",
    "from sklearn.metrics import mean_absolute_error\n",
    "\n",
    "from sklearn.metrics import accuracy_score"
   ]
  },
  {
   "cell_type": "code",
   "execution_count": 103,
   "id": "a414c599",
   "metadata": {},
   "outputs": [],
   "source": [
    "train = pd.read_csv('train.csv')\n",
    "test = pd.read_csv('test.csv')\n",
    "sample = pd.read_csv('sample_submission.csv')"
   ]
  },
  {
   "cell_type": "markdown",
   "id": "1d969ce2",
   "metadata": {},
   "source": [
    "To separate the PassengerId out so I can use if for the Kaggle submission later, since it will be taken out of the test dataset. "
   ]
  },
  {
   "cell_type": "code",
   "execution_count": 104,
   "id": "2c827f9a",
   "metadata": {},
   "outputs": [],
   "source": [
    "passengerid = pd.DataFrame(test['PassengerId'])"
   ]
  },
  {
   "cell_type": "code",
   "execution_count": 105,
   "id": "9c7c2947",
   "metadata": {},
   "outputs": [
    {
     "data": {
      "text/html": [
       "<div>\n",
       "<style scoped>\n",
       "    .dataframe tbody tr th:only-of-type {\n",
       "        vertical-align: middle;\n",
       "    }\n",
       "\n",
       "    .dataframe tbody tr th {\n",
       "        vertical-align: top;\n",
       "    }\n",
       "\n",
       "    .dataframe thead th {\n",
       "        text-align: right;\n",
       "    }\n",
       "</style>\n",
       "<table border=\"1\" class=\"dataframe\">\n",
       "  <thead>\n",
       "    <tr style=\"text-align: right;\">\n",
       "      <th></th>\n",
       "      <th>PassengerId</th>\n",
       "    </tr>\n",
       "  </thead>\n",
       "  <tbody>\n",
       "    <tr>\n",
       "      <th>0</th>\n",
       "      <td>0013_01</td>\n",
       "    </tr>\n",
       "    <tr>\n",
       "      <th>1</th>\n",
       "      <td>0018_01</td>\n",
       "    </tr>\n",
       "    <tr>\n",
       "      <th>2</th>\n",
       "      <td>0019_01</td>\n",
       "    </tr>\n",
       "    <tr>\n",
       "      <th>3</th>\n",
       "      <td>0021_01</td>\n",
       "    </tr>\n",
       "    <tr>\n",
       "      <th>4</th>\n",
       "      <td>0023_01</td>\n",
       "    </tr>\n",
       "  </tbody>\n",
       "</table>\n",
       "</div>"
      ],
      "text/plain": [
       "  PassengerId\n",
       "0     0013_01\n",
       "1     0018_01\n",
       "2     0019_01\n",
       "3     0021_01\n",
       "4     0023_01"
      ]
     },
     "execution_count": 105,
     "metadata": {},
     "output_type": "execute_result"
    }
   ],
   "source": [
    "passengerid.head()"
   ]
  },
  {
   "cell_type": "markdown",
   "id": "4bef98f6",
   "metadata": {},
   "source": [
    "To combine the train and test datasets into one dataset for prepocessing work. "
   ]
  },
  {
   "cell_type": "code",
   "execution_count": 15,
   "id": "a556a8e6",
   "metadata": {},
   "outputs": [],
   "source": [
    "#OUT\n",
    "#train_test1=train.append(test)"
   ]
  },
  {
   "cell_type": "code",
   "execution_count": 106,
   "id": "d3b187ac",
   "metadata": {},
   "outputs": [],
   "source": [
    "#NEW\n",
    "train_test = pd.concat([train, test])"
   ]
  },
  {
   "cell_type": "code",
   "execution_count": 107,
   "id": "5182155f",
   "metadata": {},
   "outputs": [],
   "source": [
    "Expenses_columns = ['RoomService','FoodCourt','ShoppingMall','Spa','VRDeck']"
   ]
  },
  {
   "cell_type": "markdown",
   "id": "30cb8b38",
   "metadata": {},
   "source": [
    "To set all expenses to 0 if someone is in cryosleep, since they can't spend money then. "
   ]
  },
  {
   "cell_type": "code",
   "execution_count": 108,
   "id": "5f5e2cb0",
   "metadata": {},
   "outputs": [],
   "source": [
    "train_test.loc[:,Expenses_columns]=train_test.apply(lambda x: 0 if x.CryoSleep == True else x,axis =1)"
   ]
  },
  {
   "cell_type": "markdown",
   "id": "77d41bd0",
   "metadata": {},
   "source": [
    "To create a new Expenses category that sums up all the other expenses. "
   ]
  },
  {
   "cell_type": "code",
   "execution_count": 109,
   "id": "fd70f41f",
   "metadata": {},
   "outputs": [],
   "source": [
    "train_test['Expenses'] = train_test.loc[:,Expenses_columns].sum(axis=1)"
   ]
  },
  {
   "cell_type": "markdown",
   "id": "a6c1d833",
   "metadata": {},
   "source": [
    "For any expenses that are NaN and where cryosleep is true, those missing values will be made equal to zero. This appeared to eliminate all NaNs from expenses. I'm not sure how it did that for instances where CryoSleep was false????"
   ]
  },
  {
   "cell_type": "code",
   "execution_count": 110,
   "id": "3ea014f6",
   "metadata": {},
   "outputs": [],
   "source": [
    "train_test.loc[:,['CryoSleep']]=train_test.apply(lambda x: True if x.Expenses == 0 and pd.isna(x.CryoSleep) else x,axis =1)"
   ]
  },
  {
   "cell_type": "code",
   "execution_count": 111,
   "id": "96a9fb9b",
   "metadata": {},
   "outputs": [
    {
     "data": {
      "text/plain": [
       "PassengerId        0\n",
       "HomePlanet       288\n",
       "CryoSleep        174\n",
       "Cabin            299\n",
       "Destination      274\n",
       "Age              270\n",
       "VIP              296\n",
       "RoomService      170\n",
       "FoodCourt        180\n",
       "ShoppingMall     175\n",
       "Spa              177\n",
       "VRDeck           177\n",
       "Name             294\n",
       "Transported     4277\n",
       "Expenses           0\n",
       "dtype: int64"
      ]
     },
     "execution_count": 111,
     "metadata": {},
     "output_type": "execute_result"
    }
   ],
   "source": [
    "train_test.isna().sum()"
   ]
  },
  {
   "cell_type": "markdown",
   "id": "5a417d90",
   "metadata": {},
   "source": [
    "Here any missing names are filled with 'Unknown Unknown'."
   ]
  },
  {
   "cell_type": "code",
   "execution_count": 12,
   "id": "10407449",
   "metadata": {},
   "outputs": [],
   "source": [
    "#OUT\n",
    "#train_test.Name = train_test.Name.fillna('Unknown Unknown')"
   ]
  },
  {
   "cell_type": "markdown",
   "id": "c3cca6e5",
   "metadata": {},
   "source": [
    "This creates a new Room category which is simply the first four numbers of the PassengerID values. "
   ]
  },
  {
   "cell_type": "code",
   "execution_count": 112,
   "id": "72f7a905",
   "metadata": {},
   "outputs": [],
   "source": [
    "train_test.loc[:,['Group']] = train_test.PassengerId.apply(lambda x: x[0:4] )"
   ]
  },
  {
   "cell_type": "markdown",
   "id": "988e863d",
   "metadata": {},
   "source": [
    "This code creates the Cabin_y, VIP_y, HomePlanet_y and Destination_y columns which has the same information as their namesake columns. "
   ]
  },
  {
   "cell_type": "code",
   "execution_count": 13,
   "id": "59282b7a",
   "metadata": {},
   "outputs": [],
   "source": [
    "#OUT\n",
    "#guide_VIP=train_test.loc[:,['Room','VIP']].dropna().drop_duplicates('Room')"
   ]
  },
  {
   "cell_type": "code",
   "execution_count": 14,
   "id": "caef9741",
   "metadata": {},
   "outputs": [],
   "source": [
    "\"\"\"OUT\n",
    "guide_Cabin=train_test.loc[:,['Room','Cabin']].dropna().drop_duplicates('Room')\n",
    "guide_HomePlanet=train_test.loc[:,['Room','HomePlanet']].dropna().drop_duplicates('Room')\n",
    "guide_Destination=train_test.loc[:,['Room','Destination']].dropna().drop_duplicates('Room')\n",
    "train_test=pd.merge(train_test,guide_Cabin,how=\"left\",on='Room',suffixes=('','_y'))\n",
    "train_test=pd.merge(train_test,guide_VIP,how=\"left\",on='Room',suffixes=('','_y'))\n",
    "train_test=pd.merge(train_test,guide_HomePlanet,how=\"left\",on='Room',suffixes=('','_y'))\n",
    "train_test=pd.merge(train_test,guide_Destination,how=\"left\",on='Room',suffixes=('','_y'))"
   ]
  },
  {
   "cell_type": "code",
   "execution_count": 15,
   "id": "89cd6835",
   "metadata": {},
   "outputs": [],
   "source": [
    "\"\"\"OUT\n",
    "train_test.loc[:,['VIP']]=train_test.apply(lambda x: x.VIP_y if pd.isna(x.VIP) else x,axis=1)\n",
    "train_test.loc[:,['Cabin']]=train_test.apply(lambda x:  x.Cabin_y if pd.isna(x.Cabin) else x,axis=1)\n",
    "train_test.loc[:,['HomePlanet']]=train_test.apply(lambda x:  x.HomePlanet_y if pd.isna(x.HomePlanet) else x,axis=1)\n",
    "train_test.loc[:,['Destination']]=train_test.apply(lambda x:  x.Destination_y if pd.isna(x.Destination) else x,axis=1)"
   ]
  },
  {
   "cell_type": "markdown",
   "id": "3738996a",
   "metadata": {},
   "source": [
    "To break out the 3 values in Cabin each into a new column. "
   ]
  },
  {
   "cell_type": "code",
   "execution_count": 43,
   "id": "f091b3e7",
   "metadata": {},
   "outputs": [],
   "source": [
    "'''OUT\n",
    "train_test.loc[:,['Cabin_1']] = train_test.Cabin.str.split(\"/\",expand=True).iloc[:,0]\n",
    "train_test.loc[:,['Cabin_2']] = train_test.Cabin.str.split(\"/\",expand=True).iloc[:,1]\n",
    "train_test.loc[:,['Cabin_3']] = train_test.Cabin.str.split(\"/\",expand=True).iloc[:,2]"
   ]
  },
  {
   "cell_type": "code",
   "execution_count": 113,
   "id": "ec2986c2",
   "metadata": {},
   "outputs": [],
   "source": [
    "#NEW\n",
    "train_test[['Deck', 'Number', 'Side']] = train_test['Cabin'].str.split('/', expand=True)"
   ]
  },
  {
   "cell_type": "markdown",
   "id": "f4e2f894",
   "metadata": {},
   "source": [
    "To break out Name into FirstName and SecondName columns. "
   ]
  },
  {
   "cell_type": "code",
   "execution_count": 114,
   "id": "9c66b9f6",
   "metadata": {},
   "outputs": [],
   "source": [
    "train_test.loc[:,['FirstName']] = train_test.Name.str.split(\" \",expand=True).iloc[:,0]\n",
    "train_test.loc[:,['SecondName']] = train_test.Name.str.split(\" \",expand=True).iloc[:,1]"
   ]
  },
  {
   "cell_type": "markdown",
   "id": "7d39e42f",
   "metadata": {},
   "source": [
    "To create a Name_key column by combining the SecondName and Room values. I'm not sure why this was done. "
   ]
  },
  {
   "cell_type": "code",
   "execution_count": 115,
   "id": "f865d6d1",
   "metadata": {},
   "outputs": [],
   "source": [
    "train_test['Name_key']=train_test['SecondName']+train_test['Group']"
   ]
  },
  {
   "cell_type": "markdown",
   "id": "655402fd",
   "metadata": {},
   "source": [
    "To identify the numeric and categorical columns that will be used for further processing. "
   ]
  },
  {
   "cell_type": "code",
   "execution_count": 116,
   "id": "aa6f7be0",
   "metadata": {},
   "outputs": [],
   "source": [
    "num_cols = ['ShoppingMall','FoodCourt','RoomService','Spa','VRDeck','Expenses','Age']\n",
    "cat_cols = ['CryoSleep','Deck','Number','Side','VIP','HomePlanet','Destination','Name_key','Group','Name','Cabin']\n",
    "transported=['Transported']"
   ]
  },
  {
   "cell_type": "code",
   "execution_count": 117,
   "id": "3591a71e",
   "metadata": {},
   "outputs": [],
   "source": [
    "passengerid = pd.DataFrame(test['PassengerId'])"
   ]
  },
  {
   "cell_type": "code",
   "execution_count": 118,
   "id": "5ea3b905",
   "metadata": {},
   "outputs": [
    {
     "data": {
      "text/html": [
       "<div>\n",
       "<style scoped>\n",
       "    .dataframe tbody tr th:only-of-type {\n",
       "        vertical-align: middle;\n",
       "    }\n",
       "\n",
       "    .dataframe tbody tr th {\n",
       "        vertical-align: top;\n",
       "    }\n",
       "\n",
       "    .dataframe thead th {\n",
       "        text-align: right;\n",
       "    }\n",
       "</style>\n",
       "<table border=\"1\" class=\"dataframe\">\n",
       "  <thead>\n",
       "    <tr style=\"text-align: right;\">\n",
       "      <th></th>\n",
       "      <th>PassengerId</th>\n",
       "    </tr>\n",
       "  </thead>\n",
       "  <tbody>\n",
       "    <tr>\n",
       "      <th>0</th>\n",
       "      <td>0013_01</td>\n",
       "    </tr>\n",
       "    <tr>\n",
       "      <th>1</th>\n",
       "      <td>0018_01</td>\n",
       "    </tr>\n",
       "    <tr>\n",
       "      <th>2</th>\n",
       "      <td>0019_01</td>\n",
       "    </tr>\n",
       "    <tr>\n",
       "      <th>3</th>\n",
       "      <td>0021_01</td>\n",
       "    </tr>\n",
       "    <tr>\n",
       "      <th>4</th>\n",
       "      <td>0023_01</td>\n",
       "    </tr>\n",
       "  </tbody>\n",
       "</table>\n",
       "</div>"
      ],
      "text/plain": [
       "  PassengerId\n",
       "0     0013_01\n",
       "1     0018_01\n",
       "2     0019_01\n",
       "3     0021_01\n",
       "4     0023_01"
      ]
     },
     "execution_count": 118,
     "metadata": {},
     "output_type": "execute_result"
    }
   ],
   "source": [
    "passengerid.head()"
   ]
  },
  {
   "cell_type": "markdown",
   "id": "93918ac6",
   "metadata": {},
   "source": [
    "To create a new train_test dataset with only the columns identified above. "
   ]
  },
  {
   "cell_type": "code",
   "execution_count": 119,
   "id": "90265c1f",
   "metadata": {},
   "outputs": [],
   "source": [
    "train_test = train_test[num_cols+cat_cols+transported].copy()"
   ]
  },
  {
   "cell_type": "code",
   "execution_count": 120,
   "id": "94fe01c2",
   "metadata": {},
   "outputs": [
    {
     "data": {
      "text/plain": [
       "ShoppingMall               0.0\n",
       "FoodCourt                  0.0\n",
       "RoomService                0.0\n",
       "Spa                        0.0\n",
       "VRDeck                     0.0\n",
       "Expenses                   0.0\n",
       "Age                       18.0\n",
       "CryoSleep                False\n",
       "Deck                         F\n",
       "Number                      82\n",
       "Side                         S\n",
       "VIP                      False\n",
       "HomePlanet               Earth\n",
       "Destination        TRAPPIST-1e\n",
       "Name_key         Bonnondry8956\n",
       "Group                     0339\n",
       "Name            Alasmon Meteet\n",
       "Cabin                  G/160/P\n",
       "Name: 0, dtype: object"
      ]
     },
     "execution_count": 120,
     "metadata": {},
     "output_type": "execute_result"
    }
   ],
   "source": [
    "#NEW\n",
    "modes = train_test[num_cols+cat_cols].mode().iloc[0]\n",
    "modes"
   ]
  },
  {
   "cell_type": "code",
   "execution_count": 121,
   "id": "9ac04efb",
   "metadata": {},
   "outputs": [],
   "source": [
    "#NEW\n",
    "train_test.fillna(modes, inplace=True)"
   ]
  },
  {
   "cell_type": "code",
   "execution_count": 122,
   "id": "483a9d14",
   "metadata": {},
   "outputs": [
    {
     "data": {
      "text/plain": [
       "ShoppingMall       0\n",
       "FoodCourt          0\n",
       "RoomService        0\n",
       "Spa                0\n",
       "VRDeck             0\n",
       "Expenses           0\n",
       "Age                0\n",
       "CryoSleep          0\n",
       "Deck               0\n",
       "Number             0\n",
       "Side               0\n",
       "VIP                0\n",
       "HomePlanet         0\n",
       "Destination        0\n",
       "Name_key           0\n",
       "Group              0\n",
       "Name               0\n",
       "Cabin              0\n",
       "Transported     4277\n",
       "dtype: int64"
      ]
     },
     "execution_count": 122,
     "metadata": {},
     "output_type": "execute_result"
    }
   ],
   "source": [
    "#NEW\n",
    "train_test.isna().sum()"
   ]
  },
  {
   "cell_type": "markdown",
   "id": "5bde1428",
   "metadata": {},
   "source": [
    "To create the process for filling in the NaN values. "
   ]
  },
  {
   "cell_type": "code",
   "execution_count": 149,
   "id": "439bb779",
   "metadata": {},
   "outputs": [],
   "source": [
    "#OUT\n",
    "#num_imp = SimpleImputer(strategy='mean')\n",
    "#OUT\n",
    "#cat_imp = SimpleImputer(strategy='most_frequent')"
   ]
  },
  {
   "cell_type": "code",
   "execution_count": null,
   "id": "a96e4901",
   "metadata": {},
   "outputs": [],
   "source": [
    "#OUT\n",
    "#ohe = OneHotEncoder (handle_unknown='ignore',sparse = False)"
   ]
  },
  {
   "cell_type": "markdown",
   "id": "b14744db",
   "metadata": {},
   "source": [
    "To fill all the missing values in the numeric categories. "
   ]
  },
  {
   "cell_type": "code",
   "execution_count": 23,
   "id": "e104ec63",
   "metadata": {},
   "outputs": [],
   "source": [
    "#OUT\n",
    "#train_test[num_cols] = pd.DataFrame(num_imp.fit_transform(train_test[num_cols]),columns=num_cols)"
   ]
  },
  {
   "cell_type": "markdown",
   "id": "09ba377a",
   "metadata": {},
   "source": [
    "To fill all the missing values in the categorical categories. But for some reason there were still missing values in Cabin_3 after this was run. "
   ]
  },
  {
   "cell_type": "code",
   "execution_count": 24,
   "id": "7cc5d01e",
   "metadata": {},
   "outputs": [],
   "source": [
    "#OUT\n",
    "#train_test[cat_cols] = pd.DataFrame(cat_imp.fit_transform(train_test[cat_cols]),columns=cat_cols)"
   ]
  },
  {
   "cell_type": "markdown",
   "id": "7c3669a9",
   "metadata": {},
   "source": [
    "To use one hot encoding on the categorical columns and place those values in a temporary dataframe. "
   ]
  },
  {
   "cell_type": "code",
   "execution_count": 150,
   "id": "a0aebe67",
   "metadata": {},
   "outputs": [],
   "source": [
    "#OUT\n",
    "#temp_train = pd.DataFrame(ohe.fit_transform(train_test[cat_cols]),columns= ohe.get_feature_names_out())"
   ]
  },
  {
   "cell_type": "markdown",
   "id": "f9297e10",
   "metadata": {},
   "source": [
    "To drop out the existing categorical columns and replace them with the one hot encoded columns from the temporary dataset. "
   ]
  },
  {
   "cell_type": "code",
   "execution_count": 151,
   "id": "a8a82b79",
   "metadata": {},
   "outputs": [],
   "source": [
    "#OUT\n",
    "#train_test = train_test.drop(cat_cols,axis=1)"
   ]
  },
  {
   "cell_type": "code",
   "execution_count": 153,
   "id": "34277f02",
   "metadata": {},
   "outputs": [],
   "source": [
    "#OUT\n",
    "#train_test = pd.concat([train_test,temp_train],axis=1)"
   ]
  },
  {
   "cell_type": "code",
   "execution_count": 123,
   "id": "0371c569",
   "metadata": {},
   "outputs": [],
   "source": [
    "#NEW\n",
    "for column in cat_cols:\n",
    "     train_test[column] = pd.factorize(train_test[column])[0]"
   ]
  },
  {
   "cell_type": "markdown",
   "id": "0289a46a",
   "metadata": {},
   "source": [
    "To recreate the train dataset by pulling in all the rows in train_test that include Transported values. "
   ]
  },
  {
   "cell_type": "code",
   "execution_count": 124,
   "id": "79ab8323",
   "metadata": {},
   "outputs": [],
   "source": [
    "train = train_test[train_test['Transported'].notnull()].copy()"
   ]
  },
  {
   "cell_type": "markdown",
   "id": "81e5e2cd",
   "metadata": {},
   "source": [
    "To convert the boolean values of Transported into integers; go from True/False to 0/1. "
   ]
  },
  {
   "cell_type": "code",
   "execution_count": 125,
   "id": "6a059b63",
   "metadata": {},
   "outputs": [],
   "source": [
    "train.Transported =train.Transported.astype('int')"
   ]
  },
  {
   "cell_type": "markdown",
   "id": "cdf01aaf",
   "metadata": {},
   "source": [
    "To recreate the test dataset by pulling all the rows in train_test where Transported have no values, and then drop the Transported column. However, the Transported column didn't seem to drop here. "
   ]
  },
  {
   "cell_type": "code",
   "execution_count": 126,
   "id": "c345ae23",
   "metadata": {},
   "outputs": [],
   "source": [
    "test = train_test[train_test['Transported'].isnull()].drop(\"Transported\",axis=1)"
   ]
  },
  {
   "cell_type": "markdown",
   "id": "5cb7f329",
   "metadata": {},
   "source": [
    "To identify the independent and dependent variables. "
   ]
  },
  {
   "cell_type": "code",
   "execution_count": 127,
   "id": "1b938872",
   "metadata": {},
   "outputs": [],
   "source": [
    "X = train.drop('Transported',axis=1)\n",
    "y = train.Transported"
   ]
  },
  {
   "cell_type": "code",
   "execution_count": 128,
   "id": "283b2798",
   "metadata": {},
   "outputs": [
    {
     "data": {
      "text/html": [
       "<div>\n",
       "<style scoped>\n",
       "    .dataframe tbody tr th:only-of-type {\n",
       "        vertical-align: middle;\n",
       "    }\n",
       "\n",
       "    .dataframe tbody tr th {\n",
       "        vertical-align: top;\n",
       "    }\n",
       "\n",
       "    .dataframe thead th {\n",
       "        text-align: right;\n",
       "    }\n",
       "</style>\n",
       "<table border=\"1\" class=\"dataframe\">\n",
       "  <thead>\n",
       "    <tr style=\"text-align: right;\">\n",
       "      <th></th>\n",
       "      <th>ShoppingMall</th>\n",
       "      <th>FoodCourt</th>\n",
       "      <th>RoomService</th>\n",
       "      <th>Spa</th>\n",
       "      <th>VRDeck</th>\n",
       "      <th>Expenses</th>\n",
       "      <th>Age</th>\n",
       "      <th>CryoSleep</th>\n",
       "      <th>Deck</th>\n",
       "      <th>Number</th>\n",
       "      <th>Side</th>\n",
       "      <th>VIP</th>\n",
       "      <th>HomePlanet</th>\n",
       "      <th>Destination</th>\n",
       "      <th>Name_key</th>\n",
       "      <th>Group</th>\n",
       "      <th>Name</th>\n",
       "      <th>Cabin</th>\n",
       "    </tr>\n",
       "  </thead>\n",
       "  <tbody>\n",
       "    <tr>\n",
       "      <th>0</th>\n",
       "      <td>0.0</td>\n",
       "      <td>0.0</td>\n",
       "      <td>0.0</td>\n",
       "      <td>0.0</td>\n",
       "      <td>0.0</td>\n",
       "      <td>0.0</td>\n",
       "      <td>27.0</td>\n",
       "      <td>1</td>\n",
       "      <td>3</td>\n",
       "      <td>3</td>\n",
       "      <td>1</td>\n",
       "      <td>0</td>\n",
       "      <td>1</td>\n",
       "      <td>0</td>\n",
       "      <td>6387</td>\n",
       "      <td>6217</td>\n",
       "      <td>8473</td>\n",
       "      <td>6561</td>\n",
       "    </tr>\n",
       "    <tr>\n",
       "      <th>1</th>\n",
       "      <td>0.0</td>\n",
       "      <td>9.0</td>\n",
       "      <td>0.0</td>\n",
       "      <td>2823.0</td>\n",
       "      <td>0.0</td>\n",
       "      <td>2832.0</td>\n",
       "      <td>19.0</td>\n",
       "      <td>0</td>\n",
       "      <td>1</td>\n",
       "      <td>5</td>\n",
       "      <td>1</td>\n",
       "      <td>0</td>\n",
       "      <td>1</td>\n",
       "      <td>0</td>\n",
       "      <td>6388</td>\n",
       "      <td>6218</td>\n",
       "      <td>8474</td>\n",
       "      <td>6562</td>\n",
       "    </tr>\n",
       "    <tr>\n",
       "      <th>2</th>\n",
       "      <td>0.0</td>\n",
       "      <td>0.0</td>\n",
       "      <td>0.0</td>\n",
       "      <td>0.0</td>\n",
       "      <td>0.0</td>\n",
       "      <td>0.0</td>\n",
       "      <td>31.0</td>\n",
       "      <td>1</td>\n",
       "      <td>6</td>\n",
       "      <td>0</td>\n",
       "      <td>1</td>\n",
       "      <td>0</td>\n",
       "      <td>0</td>\n",
       "      <td>2</td>\n",
       "      <td>6389</td>\n",
       "      <td>6219</td>\n",
       "      <td>8475</td>\n",
       "      <td>6563</td>\n",
       "    </tr>\n",
       "    <tr>\n",
       "      <th>3</th>\n",
       "      <td>0.0</td>\n",
       "      <td>6652.0</td>\n",
       "      <td>0.0</td>\n",
       "      <td>181.0</td>\n",
       "      <td>585.0</td>\n",
       "      <td>7418.0</td>\n",
       "      <td>38.0</td>\n",
       "      <td>0</td>\n",
       "      <td>6</td>\n",
       "      <td>1</td>\n",
       "      <td>1</td>\n",
       "      <td>0</td>\n",
       "      <td>0</td>\n",
       "      <td>0</td>\n",
       "      <td>6390</td>\n",
       "      <td>6220</td>\n",
       "      <td>8476</td>\n",
       "      <td>6564</td>\n",
       "    </tr>\n",
       "    <tr>\n",
       "      <th>4</th>\n",
       "      <td>635.0</td>\n",
       "      <td>0.0</td>\n",
       "      <td>10.0</td>\n",
       "      <td>0.0</td>\n",
       "      <td>0.0</td>\n",
       "      <td>645.0</td>\n",
       "      <td>20.0</td>\n",
       "      <td>0</td>\n",
       "      <td>1</td>\n",
       "      <td>6</td>\n",
       "      <td>1</td>\n",
       "      <td>0</td>\n",
       "      <td>1</td>\n",
       "      <td>0</td>\n",
       "      <td>6391</td>\n",
       "      <td>6221</td>\n",
       "      <td>8477</td>\n",
       "      <td>6565</td>\n",
       "    </tr>\n",
       "  </tbody>\n",
       "</table>\n",
       "</div>"
      ],
      "text/plain": [
       "   ShoppingMall  FoodCourt  RoomService     Spa  VRDeck  Expenses   Age  \\\n",
       "0           0.0        0.0          0.0     0.0     0.0       0.0  27.0   \n",
       "1           0.0        9.0          0.0  2823.0     0.0    2832.0  19.0   \n",
       "2           0.0        0.0          0.0     0.0     0.0       0.0  31.0   \n",
       "3           0.0     6652.0          0.0   181.0   585.0    7418.0  38.0   \n",
       "4         635.0        0.0         10.0     0.0     0.0     645.0  20.0   \n",
       "\n",
       "   CryoSleep  Deck  Number  Side  VIP  HomePlanet  Destination  Name_key  \\\n",
       "0          1     3       3     1    0           1            0      6387   \n",
       "1          0     1       5     1    0           1            0      6388   \n",
       "2          1     6       0     1    0           0            2      6389   \n",
       "3          0     6       1     1    0           0            0      6390   \n",
       "4          0     1       6     1    0           1            0      6391   \n",
       "\n",
       "   Group  Name  Cabin  \n",
       "0   6217  8473   6561  \n",
       "1   6218  8474   6562  \n",
       "2   6219  8475   6563  \n",
       "3   6220  8476   6564  \n",
       "4   6221  8477   6565  "
      ]
     },
     "execution_count": 128,
     "metadata": {},
     "output_type": "execute_result"
    }
   ],
   "source": [
    "test.head()"
   ]
  },
  {
   "cell_type": "markdown",
   "id": "192c7912",
   "metadata": {},
   "source": [
    "# Utilizing the Model"
   ]
  },
  {
   "cell_type": "markdown",
   "id": "afa9defb",
   "metadata": {},
   "source": [
    "I'll need to split the test dataset between the training and validation sections, with 25% being the percent allocated to validation. "
   ]
  },
  {
   "cell_type": "code",
   "execution_count": 33,
   "id": "1d23c14f",
   "metadata": {},
   "outputs": [],
   "source": [
    "\n",
    "#trn_df,val_df = train_test_split(train, test_size=0.001)\n",
    "#trn_df,val_df = train_test_split(train, test_size=0.05)\n",
    "#trn_df,val_df = train_test_split(train, test_size=0.25)"
   ]
  },
  {
   "cell_type": "code",
   "execution_count": 129,
   "id": "acfd7875",
   "metadata": {},
   "outputs": [],
   "source": [
    "(X_train, X_test, y_train, y_test) = train_test_split(X, y, test_size=.25, random_state=42)"
   ]
  },
  {
   "cell_type": "code",
   "execution_count": null,
   "id": "96c64e11",
   "metadata": {},
   "outputs": [],
   "source": []
  },
  {
   "cell_type": "markdown",
   "id": "4930e752",
   "metadata": {},
   "source": [
    "Finally, I import and run a basic random forest model on the data. The number of estimators is 100 and the minimum number of samples to split a node is at 5. I tried slightly higher and lower numbers for the samples and they came out worse. "
   ]
  },
  {
   "cell_type": "code",
   "execution_count": 131,
   "id": "7801d6f5",
   "metadata": {},
   "outputs": [],
   "source": [
    "rf_model = RandomForestClassifier(100, min_samples_leaf=5, random_state=42)"
   ]
  },
  {
   "cell_type": "code",
   "execution_count": 132,
   "id": "45d0ef78",
   "metadata": {},
   "outputs": [
    {
     "data": {
      "text/plain": [
       "0.7816091954022989"
      ]
     },
     "execution_count": 132,
     "metadata": {},
     "output_type": "execute_result"
    }
   ],
   "source": [
    "rf_model.fit(X_train, y_train)\n",
    "rf_predictions = rf_model.predict(X_test)\n",
    "accuracy_score(y_test, rf_predictions)"
   ]
  },
  {
   "cell_type": "markdown",
   "id": "335bc39c",
   "metadata": {},
   "source": [
    "The base model has a score of 0.79025. With only using the mode, the score moved up to 0.79163. Using factorize instead of one hot encoding for the categorical data improves the score to 0.79255. The score is the same with removing all the '_y' columns that seemed to be used for one hot encoding. \n",
    "\n",
    "Going from test_train merge to test_train concat improved the score to 0.79439. Dropping having all the Expenses column go to zero if Cryosleep is True dropped the score to 0.79163, so that should be kept. \n",
    "\n",
    "Adding all the columns dropped the score to 0.79025. So probably need to go column by column to see what to keep. Adding Name_key and Number increased the score to 0.79301. Adding Room and Name increased the score to 0.79393. Adding Cabin increases the score to 0.79945. Adding FirstName and SecondName drops the score to 0.79761. Moving the validation down to 5% reduced the score to 0.78161."
   ]
  },
  {
   "cell_type": "markdown",
   "id": "b3842c32",
   "metadata": {},
   "source": [
    "One nice thing about random forests is that they can give you which variable has the biggest impact. This shows a number of the categories had a stronger impact. "
   ]
  },
  {
   "cell_type": "code",
   "execution_count": 94,
   "id": "49a561f6",
   "metadata": {},
   "outputs": [
    {
     "data": {
      "image/png": "[encoded data removed]",
      "text/plain": [
       "<Figure size 640x480 with 1 Axes>"
      ]
     },
     "metadata": {},
     "output_type": "display_data"
    }
   ],
   "source": [
    "pd.DataFrame(dict(cols=X_train.columns, imp=rf_model.feature_importances_)).plot('cols', 'imp', 'barh');"
   ]
  },
  {
   "cell_type": "markdown",
   "id": "def53296",
   "metadata": {},
   "source": [
    "# Create Submission File"
   ]
  },
  {
   "cell_type": "markdown",
   "id": "c55b2b99",
   "metadata": {},
   "source": [
    "Here I'm converting the Transported column back into the True/False boolean values that will be needed for submission. "
   ]
  },
  {
   "cell_type": "code",
   "execution_count": 95,
   "id": "854b740d",
   "metadata": {},
   "outputs": [],
   "source": [
    "test['Transported'] = rf_model.predict(test)"
   ]
  },
  {
   "cell_type": "code",
   "execution_count": 96,
   "id": "9d295c39",
   "metadata": {},
   "outputs": [
    {
     "data": {
      "text/html": [
       "<div>\n",
       "<style scoped>\n",
       "    .dataframe tbody tr th:only-of-type {\n",
       "        vertical-align: middle;\n",
       "    }\n",
       "\n",
       "    .dataframe tbody tr th {\n",
       "        vertical-align: top;\n",
       "    }\n",
       "\n",
       "    .dataframe thead th {\n",
       "        text-align: right;\n",
       "    }\n",
       "</style>\n",
       "<table border=\"1\" class=\"dataframe\">\n",
       "  <thead>\n",
       "    <tr style=\"text-align: right;\">\n",
       "      <th></th>\n",
       "      <th>PassengerId</th>\n",
       "    </tr>\n",
       "  </thead>\n",
       "  <tbody>\n",
       "    <tr>\n",
       "      <th>0</th>\n",
       "      <td>0013_01</td>\n",
       "    </tr>\n",
       "    <tr>\n",
       "      <th>1</th>\n",
       "      <td>0018_01</td>\n",
       "    </tr>\n",
       "    <tr>\n",
       "      <th>2</th>\n",
       "      <td>0019_01</td>\n",
       "    </tr>\n",
       "    <tr>\n",
       "      <th>3</th>\n",
       "      <td>0021_01</td>\n",
       "    </tr>\n",
       "    <tr>\n",
       "      <th>4</th>\n",
       "      <td>0023_01</td>\n",
       "    </tr>\n",
       "    <tr>\n",
       "      <th>...</th>\n",
       "      <td>...</td>\n",
       "    </tr>\n",
       "    <tr>\n",
       "      <th>4272</th>\n",
       "      <td>9266_02</td>\n",
       "    </tr>\n",
       "    <tr>\n",
       "      <th>4273</th>\n",
       "      <td>9269_01</td>\n",
       "    </tr>\n",
       "    <tr>\n",
       "      <th>4274</th>\n",
       "      <td>9271_01</td>\n",
       "    </tr>\n",
       "    <tr>\n",
       "      <th>4275</th>\n",
       "      <td>9273_01</td>\n",
       "    </tr>\n",
       "    <tr>\n",
       "      <th>4276</th>\n",
       "      <td>9277_01</td>\n",
       "    </tr>\n",
       "  </tbody>\n",
       "</table>\n",
       "<p>4277 rows × 1 columns</p>\n",
       "</div>"
      ],
      "text/plain": [
       "     PassengerId\n",
       "0        0013_01\n",
       "1        0018_01\n",
       "2        0019_01\n",
       "3        0021_01\n",
       "4        0023_01\n",
       "...          ...\n",
       "4272     9266_02\n",
       "4273     9269_01\n",
       "4274     9271_01\n",
       "4275     9273_01\n",
       "4276     9277_01\n",
       "\n",
       "[4277 rows x 1 columns]"
      ]
     },
     "execution_count": 96,
     "metadata": {},
     "output_type": "execute_result"
    }
   ],
   "source": [
    "passengerid"
   ]
  },
  {
   "cell_type": "code",
   "execution_count": 97,
   "id": "9d7d4a95",
   "metadata": {},
   "outputs": [],
   "source": [
    "test['PassengerId'] = passengerid.values"
   ]
  },
  {
   "cell_type": "code",
   "execution_count": 98,
   "id": "7b1a3c6b",
   "metadata": {},
   "outputs": [
    {
     "data": {
      "text/html": [
       "<div>\n",
       "<style scoped>\n",
       "    .dataframe tbody tr th:only-of-type {\n",
       "        vertical-align: middle;\n",
       "    }\n",
       "\n",
       "    .dataframe tbody tr th {\n",
       "        vertical-align: top;\n",
       "    }\n",
       "\n",
       "    .dataframe thead th {\n",
       "        text-align: right;\n",
       "    }\n",
       "</style>\n",
       "<table border=\"1\" class=\"dataframe\">\n",
       "  <thead>\n",
       "    <tr style=\"text-align: right;\">\n",
       "      <th></th>\n",
       "      <th>ShoppingMall</th>\n",
       "      <th>FoodCourt</th>\n",
       "      <th>RoomService</th>\n",
       "      <th>Spa</th>\n",
       "      <th>VRDeck</th>\n",
       "      <th>Expenses</th>\n",
       "      <th>Age</th>\n",
       "      <th>CryoSleep</th>\n",
       "      <th>Deck</th>\n",
       "      <th>Number</th>\n",
       "      <th>Side</th>\n",
       "      <th>VIP</th>\n",
       "      <th>HomePlanet</th>\n",
       "      <th>Destination</th>\n",
       "      <th>Name_key</th>\n",
       "      <th>Group</th>\n",
       "      <th>Name</th>\n",
       "      <th>Cabin</th>\n",
       "      <th>Transported</th>\n",
       "      <th>PassengerId</th>\n",
       "    </tr>\n",
       "  </thead>\n",
       "  <tbody>\n",
       "    <tr>\n",
       "      <th>0</th>\n",
       "      <td>0.0</td>\n",
       "      <td>0.0</td>\n",
       "      <td>0.0</td>\n",
       "      <td>0.0</td>\n",
       "      <td>0.0</td>\n",
       "      <td>0.0</td>\n",
       "      <td>27.0</td>\n",
       "      <td>1</td>\n",
       "      <td>3</td>\n",
       "      <td>3</td>\n",
       "      <td>1</td>\n",
       "      <td>0</td>\n",
       "      <td>1</td>\n",
       "      <td>0</td>\n",
       "      <td>6387</td>\n",
       "      <td>6217</td>\n",
       "      <td>8473</td>\n",
       "      <td>6561</td>\n",
       "      <td>1</td>\n",
       "      <td>0013_01</td>\n",
       "    </tr>\n",
       "    <tr>\n",
       "      <th>1</th>\n",
       "      <td>0.0</td>\n",
       "      <td>9.0</td>\n",
       "      <td>0.0</td>\n",
       "      <td>2823.0</td>\n",
       "      <td>0.0</td>\n",
       "      <td>2832.0</td>\n",
       "      <td>19.0</td>\n",
       "      <td>0</td>\n",
       "      <td>1</td>\n",
       "      <td>5</td>\n",
       "      <td>1</td>\n",
       "      <td>0</td>\n",
       "      <td>1</td>\n",
       "      <td>0</td>\n",
       "      <td>6388</td>\n",
       "      <td>6218</td>\n",
       "      <td>8474</td>\n",
       "      <td>6562</td>\n",
       "      <td>0</td>\n",
       "      <td>0018_01</td>\n",
       "    </tr>\n",
       "    <tr>\n",
       "      <th>2</th>\n",
       "      <td>0.0</td>\n",
       "      <td>0.0</td>\n",
       "      <td>0.0</td>\n",
       "      <td>0.0</td>\n",
       "      <td>0.0</td>\n",
       "      <td>0.0</td>\n",
       "      <td>31.0</td>\n",
       "      <td>1</td>\n",
       "      <td>6</td>\n",
       "      <td>0</td>\n",
       "      <td>1</td>\n",
       "      <td>0</td>\n",
       "      <td>0</td>\n",
       "      <td>2</td>\n",
       "      <td>6389</td>\n",
       "      <td>6219</td>\n",
       "      <td>8475</td>\n",
       "      <td>6563</td>\n",
       "      <td>1</td>\n",
       "      <td>0019_01</td>\n",
       "    </tr>\n",
       "    <tr>\n",
       "      <th>3</th>\n",
       "      <td>0.0</td>\n",
       "      <td>6652.0</td>\n",
       "      <td>0.0</td>\n",
       "      <td>181.0</td>\n",
       "      <td>585.0</td>\n",
       "      <td>7418.0</td>\n",
       "      <td>38.0</td>\n",
       "      <td>0</td>\n",
       "      <td>6</td>\n",
       "      <td>1</td>\n",
       "      <td>1</td>\n",
       "      <td>0</td>\n",
       "      <td>0</td>\n",
       "      <td>0</td>\n",
       "      <td>6390</td>\n",
       "      <td>6220</td>\n",
       "      <td>8476</td>\n",
       "      <td>6564</td>\n",
       "      <td>1</td>\n",
       "      <td>0021_01</td>\n",
       "    </tr>\n",
       "    <tr>\n",
       "      <th>4</th>\n",
       "      <td>635.0</td>\n",
       "      <td>0.0</td>\n",
       "      <td>10.0</td>\n",
       "      <td>0.0</td>\n",
       "      <td>0.0</td>\n",
       "      <td>645.0</td>\n",
       "      <td>20.0</td>\n",
       "      <td>0</td>\n",
       "      <td>1</td>\n",
       "      <td>6</td>\n",
       "      <td>1</td>\n",
       "      <td>0</td>\n",
       "      <td>1</td>\n",
       "      <td>0</td>\n",
       "      <td>6391</td>\n",
       "      <td>6221</td>\n",
       "      <td>8477</td>\n",
       "      <td>6565</td>\n",
       "      <td>0</td>\n",
       "      <td>0023_01</td>\n",
       "    </tr>\n",
       "    <tr>\n",
       "      <th>...</th>\n",
       "      <td>...</td>\n",
       "      <td>...</td>\n",
       "      <td>...</td>\n",
       "      <td>...</td>\n",
       "      <td>...</td>\n",
       "      <td>...</td>\n",
       "      <td>...</td>\n",
       "      <td>...</td>\n",
       "      <td>...</td>\n",
       "      <td>...</td>\n",
       "      <td>...</td>\n",
       "      <td>...</td>\n",
       "      <td>...</td>\n",
       "      <td>...</td>\n",
       "      <td>...</td>\n",
       "      <td>...</td>\n",
       "      <td>...</td>\n",
       "      <td>...</td>\n",
       "      <td>...</td>\n",
       "      <td>...</td>\n",
       "    </tr>\n",
       "    <tr>\n",
       "      <th>4272</th>\n",
       "      <td>0.0</td>\n",
       "      <td>0.0</td>\n",
       "      <td>0.0</td>\n",
       "      <td>0.0</td>\n",
       "      <td>0.0</td>\n",
       "      <td>0.0</td>\n",
       "      <td>34.0</td>\n",
       "      <td>1</td>\n",
       "      <td>3</td>\n",
       "      <td>1529</td>\n",
       "      <td>1</td>\n",
       "      <td>0</td>\n",
       "      <td>1</td>\n",
       "      <td>0</td>\n",
       "      <td>9531</td>\n",
       "      <td>9275</td>\n",
       "      <td>12624</td>\n",
       "      <td>9821</td>\n",
       "      <td>1</td>\n",
       "      <td>9266_02</td>\n",
       "    </tr>\n",
       "    <tr>\n",
       "      <th>4273</th>\n",
       "      <td>17.0</td>\n",
       "      <td>847.0</td>\n",
       "      <td>0.0</td>\n",
       "      <td>10.0</td>\n",
       "      <td>144.0</td>\n",
       "      <td>1018.0</td>\n",
       "      <td>42.0</td>\n",
       "      <td>0</td>\n",
       "      <td>1</td>\n",
       "      <td>4</td>\n",
       "      <td>1</td>\n",
       "      <td>0</td>\n",
       "      <td>1</td>\n",
       "      <td>0</td>\n",
       "      <td>9532</td>\n",
       "      <td>9276</td>\n",
       "      <td>12625</td>\n",
       "      <td>12</td>\n",
       "      <td>0</td>\n",
       "      <td>9269_01</td>\n",
       "    </tr>\n",
       "    <tr>\n",
       "      <th>4274</th>\n",
       "      <td>0.0</td>\n",
       "      <td>0.0</td>\n",
       "      <td>0.0</td>\n",
       "      <td>0.0</td>\n",
       "      <td>0.0</td>\n",
       "      <td>0.0</td>\n",
       "      <td>18.0</td>\n",
       "      <td>1</td>\n",
       "      <td>5</td>\n",
       "      <td>361</td>\n",
       "      <td>0</td>\n",
       "      <td>0</td>\n",
       "      <td>2</td>\n",
       "      <td>2</td>\n",
       "      <td>9533</td>\n",
       "      <td>9277</td>\n",
       "      <td>12626</td>\n",
       "      <td>9822</td>\n",
       "      <td>1</td>\n",
       "      <td>9271_01</td>\n",
       "    </tr>\n",
       "    <tr>\n",
       "      <th>4275</th>\n",
       "      <td>0.0</td>\n",
       "      <td>2680.0</td>\n",
       "      <td>0.0</td>\n",
       "      <td>0.0</td>\n",
       "      <td>523.0</td>\n",
       "      <td>3203.0</td>\n",
       "      <td>18.0</td>\n",
       "      <td>0</td>\n",
       "      <td>5</td>\n",
       "      <td>287</td>\n",
       "      <td>0</td>\n",
       "      <td>0</td>\n",
       "      <td>0</td>\n",
       "      <td>0</td>\n",
       "      <td>9534</td>\n",
       "      <td>9278</td>\n",
       "      <td>12627</td>\n",
       "      <td>9823</td>\n",
       "      <td>1</td>\n",
       "      <td>9273_01</td>\n",
       "    </tr>\n",
       "    <tr>\n",
       "      <th>4276</th>\n",
       "      <td>0.0</td>\n",
       "      <td>0.0</td>\n",
       "      <td>0.0</td>\n",
       "      <td>0.0</td>\n",
       "      <td>0.0</td>\n",
       "      <td>0.0</td>\n",
       "      <td>43.0</td>\n",
       "      <td>1</td>\n",
       "      <td>3</td>\n",
       "      <td>1811</td>\n",
       "      <td>1</td>\n",
       "      <td>0</td>\n",
       "      <td>1</td>\n",
       "      <td>1</td>\n",
       "      <td>9535</td>\n",
       "      <td>9279</td>\n",
       "      <td>12628</td>\n",
       "      <td>9824</td>\n",
       "      <td>1</td>\n",
       "      <td>9277_01</td>\n",
       "    </tr>\n",
       "  </tbody>\n",
       "</table>\n",
       "<p>4277 rows × 20 columns</p>\n",
       "</div>"
      ],
      "text/plain": [
       "      ShoppingMall  FoodCourt  RoomService     Spa  VRDeck  Expenses   Age  \\\n",
       "0              0.0        0.0          0.0     0.0     0.0       0.0  27.0   \n",
       "1              0.0        9.0          0.0  2823.0     0.0    2832.0  19.0   \n",
       "2              0.0        0.0          0.0     0.0     0.0       0.0  31.0   \n",
       "3              0.0     6652.0          0.0   181.0   585.0    7418.0  38.0   \n",
       "4            635.0        0.0         10.0     0.0     0.0     645.0  20.0   \n",
       "...            ...        ...          ...     ...     ...       ...   ...   \n",
       "4272           0.0        0.0          0.0     0.0     0.0       0.0  34.0   \n",
       "4273          17.0      847.0          0.0    10.0   144.0    1018.0  42.0   \n",
       "4274           0.0        0.0          0.0     0.0     0.0       0.0  18.0   \n",
       "4275           0.0     2680.0          0.0     0.0   523.0    3203.0  18.0   \n",
       "4276           0.0        0.0          0.0     0.0     0.0       0.0  43.0   \n",
       "\n",
       "      CryoSleep  Deck  Number  Side  VIP  HomePlanet  Destination  Name_key  \\\n",
       "0             1     3       3     1    0           1            0      6387   \n",
       "1             0     1       5     1    0           1            0      6388   \n",
       "2             1     6       0     1    0           0            2      6389   \n",
       "3             0     6       1     1    0           0            0      6390   \n",
       "4             0     1       6     1    0           1            0      6391   \n",
       "...         ...   ...     ...   ...  ...         ...          ...       ...   \n",
       "4272          1     3    1529     1    0           1            0      9531   \n",
       "4273          0     1       4     1    0           1            0      9532   \n",
       "4274          1     5     361     0    0           2            2      9533   \n",
       "4275          0     5     287     0    0           0            0      9534   \n",
       "4276          1     3    1811     1    0           1            1      9535   \n",
       "\n",
       "      Group   Name  Cabin  Transported PassengerId  \n",
       "0      6217   8473   6561            1     0013_01  \n",
       "1      6218   8474   6562            0     0018_01  \n",
       "2      6219   8475   6563            1     0019_01  \n",
       "3      6220   8476   6564            1     0021_01  \n",
       "4      6221   8477   6565            0     0023_01  \n",
       "...     ...    ...    ...          ...         ...  \n",
       "4272   9275  12624   9821            1     9266_02  \n",
       "4273   9276  12625     12            0     9269_01  \n",
       "4274   9277  12626   9822            1     9271_01  \n",
       "4275   9278  12627   9823            1     9273_01  \n",
       "4276   9279  12628   9824            1     9277_01  \n",
       "\n",
       "[4277 rows x 20 columns]"
      ]
     },
     "execution_count": 98,
     "metadata": {},
     "output_type": "execute_result"
    }
   ],
   "source": [
    "test"
   ]
  },
  {
   "cell_type": "markdown",
   "id": "beb6130a",
   "metadata": {},
   "source": [
    "This creates the actual submission file with this initial benchmark random forest model. "
   ]
  },
  {
   "cell_type": "code",
   "execution_count": 99,
   "id": "23eda549",
   "metadata": {},
   "outputs": [],
   "source": [
    "test['Transported'] = np.where(test['Transported'] == 1, 'True', 'False')"
   ]
  },
  {
   "cell_type": "code",
   "execution_count": 100,
   "id": "3f26b568",
   "metadata": {},
   "outputs": [],
   "source": [
    "submit_file = test[['PassengerId', 'Transported']]"
   ]
  },
  {
   "cell_type": "code",
   "execution_count": 101,
   "id": "994b2b67",
   "metadata": {},
   "outputs": [
    {
     "data": {
      "text/html": [
       "<div>\n",
       "<style scoped>\n",
       "    .dataframe tbody tr th:only-of-type {\n",
       "        vertical-align: middle;\n",
       "    }\n",
       "\n",
       "    .dataframe tbody tr th {\n",
       "        vertical-align: top;\n",
       "    }\n",
       "\n",
       "    .dataframe thead th {\n",
       "        text-align: right;\n",
       "    }\n",
       "</style>\n",
       "<table border=\"1\" class=\"dataframe\">\n",
       "  <thead>\n",
       "    <tr style=\"text-align: right;\">\n",
       "      <th></th>\n",
       "      <th>PassengerId</th>\n",
       "      <th>Transported</th>\n",
       "    </tr>\n",
       "  </thead>\n",
       "  <tbody>\n",
       "    <tr>\n",
       "      <th>0</th>\n",
       "      <td>0013_01</td>\n",
       "      <td>True</td>\n",
       "    </tr>\n",
       "    <tr>\n",
       "      <th>1</th>\n",
       "      <td>0018_01</td>\n",
       "      <td>False</td>\n",
       "    </tr>\n",
       "    <tr>\n",
       "      <th>2</th>\n",
       "      <td>0019_01</td>\n",
       "      <td>True</td>\n",
       "    </tr>\n",
       "    <tr>\n",
       "      <th>3</th>\n",
       "      <td>0021_01</td>\n",
       "      <td>True</td>\n",
       "    </tr>\n",
       "    <tr>\n",
       "      <th>4</th>\n",
       "      <td>0023_01</td>\n",
       "      <td>False</td>\n",
       "    </tr>\n",
       "  </tbody>\n",
       "</table>\n",
       "</div>"
      ],
      "text/plain": [
       "  PassengerId Transported\n",
       "0     0013_01        True\n",
       "1     0018_01       False\n",
       "2     0019_01        True\n",
       "3     0021_01        True\n",
       "4     0023_01       False"
      ]
     },
     "execution_count": 101,
     "metadata": {},
     "output_type": "execute_result"
    }
   ],
   "source": [
    "submit_file.head()"
   ]
  },
  {
   "cell_type": "code",
   "execution_count": 102,
   "id": "c352d887",
   "metadata": {},
   "outputs": [],
   "source": [
    "submit_file.to_csv('submit_simple_rf_best_data.csv', index=False)"
   ]
  },
  {
   "cell_type": "markdown",
   "id": "ba3bf7d9",
   "metadata": {},
   "source": [
    "Received a Kaggle score of 0.79611."
   ]
  },
  {
   "cell_type": "code",
   "execution_count": null,
   "id": "31d5f3cd",
   "metadata": {},
   "outputs": [],
   "source": []
  }
 ],
 "metadata": {
  "kernelspec": {
   "display_name": "Python 3 (ipykernel)",
   "language": "python",
   "name": "python3"
  },
  "language_info": {
   "codemirror_mode": {
    "name": "ipython",
    "version": 3
   },
   "file_extension": ".py",
   "mimetype": "text/x-python",
   "name": "python",
   "nbconvert_exporter": "python",
   "pygments_lexer": "ipython3",
   "version": "3.9.13"
  }
 },
 "nbformat": 4,
 "nbformat_minor": 5
}
