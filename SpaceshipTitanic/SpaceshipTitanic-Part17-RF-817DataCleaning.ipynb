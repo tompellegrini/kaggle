{
 "cells": [
  {
   "cell_type": "markdown",
   "id": "d95e1a8c",
   "metadata": {},
   "source": [
    "This worksheet is to take the basic random forest benchmark work from Part 1 and add break out some additional featues to see if they improve the score.  "
   ]
  },
  {
   "cell_type": "markdown",
   "id": "3fd550af",
   "metadata": {},
   "source": [
    "# Data Preprocessing"
   ]
  },
  {
   "cell_type": "markdown",
   "id": "fd33f9c0",
   "metadata": {},
   "source": [
    "First I've imported all of fastai which includes pandas and numpy. Then I'll import some of the other functionality I'll need. Next I uploaded the train and test csv files as dataframes and then show their heads just to see what the columns contain. "
   ]
  },
  {
   "cell_type": "code",
   "execution_count": 1,
   "id": "16b27946",
   "metadata": {},
   "outputs": [],
   "source": [
    "from fastai.imports import *\n",
    "\n",
    "from fastai.tabular.all import *\n",
    "from sklearn.ensemble import RandomForestRegressor\n",
    "#from sklearn.tree import DecisionTreeRegressor"
   ]
  },
  {
   "cell_type": "code",
   "execution_count": 2,
   "id": "d95bfbbd",
   "metadata": {},
   "outputs": [],
   "source": [
    "from sklearn.impute import SimpleImputer\n",
    "from sklearn.preprocessing import OneHotEncoder\n",
    "from sklearn.metrics import mean_absolute_error\n",
    "import pandas as pd\n",
    "import numpy as np\n",
    "import base64\n",
    "import seaborn as sns\n",
    "import matplotlib.pyplot as plt\n",
    "import os\n",
    "import random\n",
    "import gc\n",
    "\n",
    "from sklearn.impute import SimpleImputer\n",
    "from sklearn.preprocessing import OneHotEncoder\n",
    "from sklearn.preprocessing import StandardScaler\n",
    "from sklearn.utils import shuffle\n",
    "from sklearn.model_selection import train_test_split\n",
    "from sklearn.utils import shuffle\n",
    "from sklearn.metrics import log_loss\n",
    "from sklearn.metrics import accuracy_score\n",
    "import optuna\n",
    "import xgboost as xgb\n",
    "from sklearn.ensemble import (RandomForestClassifier, AdaBoostClassifier, GradientBoostingClassifier, \n",
    "                              ExtraTreesClassifier, VotingClassifier)\n",
    "from sklearn.discriminant_analysis import LinearDiscriminantAnalysis\n",
    "from sklearn.linear_model import LogisticRegression\n",
    "from sklearn.neighbors import KNeighborsClassifier\n",
    "from sklearn.tree import DecisionTreeClassifier\n",
    "from sklearn.neural_network import MLPClassifier\n",
    "from catboost import CatBoostClassifier\n",
    "from sklearn.svm import SVC\n",
    "from sklearn import datasets, linear_model\n",
    "import lightgbm as lgb\n",
    "from sklearn.model_selection import cross_val_score\n",
    "from sklearn.model_selection import StratifiedKFold\n",
    "\n",
    "pd.set_option('display.max_columns', None)   \n",
    "\n",
    "from sklearn.model_selection import train_test_split\n",
    "from sklearn.ensemble import RandomForestClassifier\n",
    "import eli5\n",
    "from eli5.sklearn import PermutationImportance"
   ]
  },
  {
   "cell_type": "code",
   "execution_count": 3,
   "id": "a414c599",
   "metadata": {},
   "outputs": [],
   "source": [
    "train = pd.read_csv('train.csv')\n",
    "test = pd.read_csv('test.csv')\n",
    "sample = pd.read_csv('sample_submission.csv')"
   ]
  },
  {
   "cell_type": "markdown",
   "id": "1d969ce2",
   "metadata": {},
   "source": [
    "To separate the PassengerId out so I can use if for the Kaggle submission later, since it will be taken out of the test dataset. "
   ]
  },
  {
   "cell_type": "code",
   "execution_count": 4,
   "id": "2c827f9a",
   "metadata": {},
   "outputs": [],
   "source": [
    "passengerid = pd.DataFrame(test['PassengerId'])"
   ]
  },
  {
   "cell_type": "code",
   "execution_count": 5,
   "id": "9c7c2947",
   "metadata": {},
   "outputs": [
    {
     "data": {
      "text/html": [
       "<div>\n",
       "<style scoped>\n",
       "    .dataframe tbody tr th:only-of-type {\n",
       "        vertical-align: middle;\n",
       "    }\n",
       "\n",
       "    .dataframe tbody tr th {\n",
       "        vertical-align: top;\n",
       "    }\n",
       "\n",
       "    .dataframe thead th {\n",
       "        text-align: right;\n",
       "    }\n",
       "</style>\n",
       "<table border=\"1\" class=\"dataframe\">\n",
       "  <thead>\n",
       "    <tr style=\"text-align: right;\">\n",
       "      <th></th>\n",
       "      <th>PassengerId</th>\n",
       "    </tr>\n",
       "  </thead>\n",
       "  <tbody>\n",
       "    <tr>\n",
       "      <th>0</th>\n",
       "      <td>0013_01</td>\n",
       "    </tr>\n",
       "    <tr>\n",
       "      <th>1</th>\n",
       "      <td>0018_01</td>\n",
       "    </tr>\n",
       "    <tr>\n",
       "      <th>2</th>\n",
       "      <td>0019_01</td>\n",
       "    </tr>\n",
       "    <tr>\n",
       "      <th>3</th>\n",
       "      <td>0021_01</td>\n",
       "    </tr>\n",
       "    <tr>\n",
       "      <th>4</th>\n",
       "      <td>0023_01</td>\n",
       "    </tr>\n",
       "  </tbody>\n",
       "</table>\n",
       "</div>"
      ],
      "text/plain": [
       "  PassengerId\n",
       "0     0013_01\n",
       "1     0018_01\n",
       "2     0019_01\n",
       "3     0021_01\n",
       "4     0023_01"
      ]
     },
     "execution_count": 5,
     "metadata": {},
     "output_type": "execute_result"
    }
   ],
   "source": [
    "passengerid.head()"
   ]
  },
  {
   "cell_type": "markdown",
   "id": "4bef98f6",
   "metadata": {},
   "source": [
    "To combine the train and test datasets into one dataset for prepocessing work. "
   ]
  },
  {
   "cell_type": "code",
   "execution_count": 6,
   "id": "a556a8e6",
   "metadata": {},
   "outputs": [
    {
     "name": "stderr",
     "output_type": "stream",
     "text": [
      "C:\\Users\\tompe\\AppData\\Local\\Temp\\ipykernel_19604\\3828291759.py:1: FutureWarning: The frame.append method is deprecated and will be removed from pandas in a future version. Use pandas.concat instead.\n",
      "  train_test=train.append(test)\n"
     ]
    }
   ],
   "source": [
    "train_test=train.append(test)"
   ]
  },
  {
   "cell_type": "code",
   "execution_count": 7,
   "id": "5182155f",
   "metadata": {},
   "outputs": [],
   "source": [
    "Expenses_columns = ['RoomService','FoodCourt','ShoppingMall','Spa','VRDeck']"
   ]
  },
  {
   "cell_type": "markdown",
   "id": "30cb8b38",
   "metadata": {},
   "source": [
    "To set all expenses to 0 if someone is in cryosleep, since they can't spend money then. "
   ]
  },
  {
   "cell_type": "code",
   "execution_count": 8,
   "id": "5f5e2cb0",
   "metadata": {},
   "outputs": [],
   "source": [
    "train_test.loc[:,Expenses_columns]=train_test.apply(lambda x: 0 if x.CryoSleep == True else x,axis =1)"
   ]
  },
  {
   "cell_type": "markdown",
   "id": "77d41bd0",
   "metadata": {},
   "source": [
    "To create a new Expenses category that sums up all the other expenses. "
   ]
  },
  {
   "cell_type": "code",
   "execution_count": 9,
   "id": "fd70f41f",
   "metadata": {},
   "outputs": [],
   "source": [
    "train_test['Expenses'] = train_test.loc[:,Expenses_columns].sum(axis=1)"
   ]
  },
  {
   "cell_type": "markdown",
   "id": "a6c1d833",
   "metadata": {},
   "source": [
    "For any expenses that are NaN and where cryosleep is true, those missing values will be made equal to zero. This appeared to eliminate all NaNs from expenses. I'm not sure how it did that for instances where CryoSleep was false????"
   ]
  },
  {
   "cell_type": "code",
   "execution_count": 10,
   "id": "3ea014f6",
   "metadata": {},
   "outputs": [],
   "source": [
    "train_test.loc[:,['CryoSleep']]=train_test.apply(lambda x: True if x.Expenses == 0 and pd.isna(x.CryoSleep) else x,axis =1)"
   ]
  },
  {
   "cell_type": "code",
   "execution_count": 11,
   "id": "96a9fb9b",
   "metadata": {},
   "outputs": [
    {
     "data": {
      "text/plain": [
       "PassengerId        0\n",
       "HomePlanet       288\n",
       "CryoSleep        174\n",
       "Cabin            299\n",
       "Destination      274\n",
       "Age              270\n",
       "VIP              296\n",
       "RoomService      170\n",
       "FoodCourt        180\n",
       "ShoppingMall     175\n",
       "Spa              177\n",
       "VRDeck           177\n",
       "Name             294\n",
       "Transported     4277\n",
       "Expenses           0\n",
       "dtype: int64"
      ]
     },
     "execution_count": 11,
     "metadata": {},
     "output_type": "execute_result"
    }
   ],
   "source": [
    "train_test.isna().sum()"
   ]
  },
  {
   "cell_type": "markdown",
   "id": "5a417d90",
   "metadata": {},
   "source": [
    "Here any missing names are filled with 'Unknown Unknown'."
   ]
  },
  {
   "cell_type": "code",
   "execution_count": 12,
   "id": "10407449",
   "metadata": {},
   "outputs": [],
   "source": [
    "train_test.Name = train_test.Name.fillna('Unknown Unknown')"
   ]
  },
  {
   "cell_type": "markdown",
   "id": "c3cca6e5",
   "metadata": {},
   "source": [
    "This creates a new Room category which is simply the first four numbers of the PassengerID values. "
   ]
  },
  {
   "cell_type": "code",
   "execution_count": 13,
   "id": "72f7a905",
   "metadata": {},
   "outputs": [],
   "source": [
    "train_test.loc[:,['Room']] = train_test.PassengerId.apply(lambda x: x[0:4] )"
   ]
  },
  {
   "cell_type": "markdown",
   "id": "988e863d",
   "metadata": {},
   "source": [
    "This code creates the Cabin_y, VIP_y, HomePlanet_y and Destination_y columns which has the same information as their namesake columns. "
   ]
  },
  {
   "cell_type": "code",
   "execution_count": 14,
   "id": "59282b7a",
   "metadata": {},
   "outputs": [],
   "source": [
    "guide_VIP=train_test.loc[:,['Room','VIP']].dropna().drop_duplicates('Room')"
   ]
  },
  {
   "cell_type": "code",
   "execution_count": 15,
   "id": "caef9741",
   "metadata": {},
   "outputs": [],
   "source": [
    "guide_Cabin=train_test.loc[:,['Room','Cabin']].dropna().drop_duplicates('Room')\n",
    "guide_HomePlanet=train_test.loc[:,['Room','HomePlanet']].dropna().drop_duplicates('Room')\n",
    "guide_Destination=train_test.loc[:,['Room','Destination']].dropna().drop_duplicates('Room')\n",
    "train_test=pd.merge(train_test,guide_Cabin,how=\"left\",on='Room',suffixes=('','_y'))\n",
    "train_test=pd.merge(train_test,guide_VIP,how=\"left\",on='Room',suffixes=('','_y'))\n",
    "train_test=pd.merge(train_test,guide_HomePlanet,how=\"left\",on='Room',suffixes=('','_y'))\n",
    "train_test=pd.merge(train_test,guide_Destination,how=\"left\",on='Room',suffixes=('','_y'))"
   ]
  },
  {
   "cell_type": "code",
   "execution_count": 16,
   "id": "89cd6835",
   "metadata": {},
   "outputs": [],
   "source": [
    "train_test.loc[:,['VIP']]=train_test.apply(lambda x: x.VIP_y if pd.isna(x.VIP) else x,axis=1)\n",
    "train_test.loc[:,['Cabin']]=train_test.apply(lambda x:  x.Cabin_y if pd.isna(x.Cabin) else x,axis=1)\n",
    "train_test.loc[:,['HomePlanet']]=train_test.apply(lambda x:  x.HomePlanet_y if pd.isna(x.HomePlanet) else x,axis=1)\n",
    "train_test.loc[:,['Destination']]=train_test.apply(lambda x:  x.Destination_y if pd.isna(x.Destination) else x,axis=1)"
   ]
  },
  {
   "cell_type": "markdown",
   "id": "3738996a",
   "metadata": {},
   "source": [
    "To break out the 3 values in Cabin each into a new column. "
   ]
  },
  {
   "cell_type": "code",
   "execution_count": 17,
   "id": "f091b3e7",
   "metadata": {},
   "outputs": [],
   "source": [
    "train_test.loc[:,['Cabin_1']] = train_test.Cabin.str.split(\"/\",expand=True).iloc[:,0]\n",
    "train_test.loc[:,['Cabin_2']] = train_test.Cabin.str.split(\"/\",expand=True).iloc[:,1]\n",
    "train_test.loc[:,['Cabin_3']] = train_test.Cabin.str.split(\"/\",expand=True).iloc[:,2]"
   ]
  },
  {
   "cell_type": "markdown",
   "id": "f4e2f894",
   "metadata": {},
   "source": [
    "To break out Name into FirstName and SecondName columns. "
   ]
  },
  {
   "cell_type": "code",
   "execution_count": 18,
   "id": "9c66b9f6",
   "metadata": {},
   "outputs": [],
   "source": [
    "train_test.loc[:,['FirstName']] = train_test.Name.str.split(\" \",expand=True).iloc[:,0]\n",
    "train_test.loc[:,['SecondName']] = train_test.Name.str.split(\" \",expand=True).iloc[:,1]"
   ]
  },
  {
   "cell_type": "markdown",
   "id": "7d39e42f",
   "metadata": {},
   "source": [
    "To create a Name_key column by combining the SecondName and Room values. I'm not sure why this was done. "
   ]
  },
  {
   "cell_type": "code",
   "execution_count": 19,
   "id": "f865d6d1",
   "metadata": {},
   "outputs": [],
   "source": [
    "train_test['Name_key']=train_test['SecondName']+train_test['Room']"
   ]
  },
  {
   "cell_type": "markdown",
   "id": "655402fd",
   "metadata": {},
   "source": [
    "To identify the numeric and categorical columns that will be used for further processing. "
   ]
  },
  {
   "cell_type": "code",
   "execution_count": 20,
   "id": "aa6f7be0",
   "metadata": {},
   "outputs": [],
   "source": [
    "num_cols = ['ShoppingMall','FoodCourt','RoomService','Spa','VRDeck','Expenses','Age']\n",
    "cat_cols = ['CryoSleep','Cabin_1','Cabin_3','VIP','HomePlanet','Destination']\n",
    "transported=['Transported']"
   ]
  },
  {
   "cell_type": "markdown",
   "id": "93918ac6",
   "metadata": {},
   "source": [
    "To create a new train_test dataset with only the columns identified above. "
   ]
  },
  {
   "cell_type": "code",
   "execution_count": 21,
   "id": "90265c1f",
   "metadata": {},
   "outputs": [],
   "source": [
    "train_test = train_test[num_cols+cat_cols+transported].copy()"
   ]
  },
  {
   "cell_type": "markdown",
   "id": "5bde1428",
   "metadata": {},
   "source": [
    "To create the process for filling in the NaN values. "
   ]
  },
  {
   "cell_type": "code",
   "execution_count": 22,
   "id": "439bb779",
   "metadata": {},
   "outputs": [],
   "source": [
    "num_imp = SimpleImputer(strategy='mean')\n",
    "cat_imp = SimpleImputer(strategy='most_frequent')\n",
    "ohe = OneHotEncoder (handle_unknown='ignore',sparse = False)"
   ]
  },
  {
   "cell_type": "markdown",
   "id": "b14744db",
   "metadata": {},
   "source": [
    "To fill all the missing values in the numberic categories. "
   ]
  },
  {
   "cell_type": "code",
   "execution_count": 23,
   "id": "e104ec63",
   "metadata": {},
   "outputs": [],
   "source": [
    "train_test[num_cols] = pd.DataFrame(num_imp.fit_transform(train_test[num_cols]),columns=num_cols)"
   ]
  },
  {
   "cell_type": "markdown",
   "id": "09ba377a",
   "metadata": {},
   "source": [
    "To fill all the missing values in the categorical categories. But for some reason there were still missing values in Cabin_3 after this was run. "
   ]
  },
  {
   "cell_type": "code",
   "execution_count": 24,
   "id": "7cc5d01e",
   "metadata": {},
   "outputs": [],
   "source": [
    "train_test[cat_cols] = pd.DataFrame(cat_imp.fit_transform(train_test[cat_cols]),columns=cat_cols)"
   ]
  },
  {
   "cell_type": "markdown",
   "id": "7c3669a9",
   "metadata": {},
   "source": [
    "To use one hot encoding on the categorical columns and place those values in a temporary dataframe. "
   ]
  },
  {
   "cell_type": "code",
   "execution_count": 25,
   "id": "a0aebe67",
   "metadata": {},
   "outputs": [],
   "source": [
    "temp_train = pd.DataFrame(ohe.fit_transform(train_test[cat_cols]),columns= ohe.get_feature_names_out())"
   ]
  },
  {
   "cell_type": "markdown",
   "id": "f9297e10",
   "metadata": {},
   "source": [
    "To drop out the existing categorical columns and replace them with the one hot encoded columns from the temporary dataset. "
   ]
  },
  {
   "cell_type": "code",
   "execution_count": 26,
   "id": "a8a82b79",
   "metadata": {},
   "outputs": [],
   "source": [
    "train_test = train_test.drop(cat_cols,axis=1)"
   ]
  },
  {
   "cell_type": "code",
   "execution_count": 27,
   "id": "34277f02",
   "metadata": {},
   "outputs": [],
   "source": [
    "train_test = pd.concat([train_test,temp_train],axis=1)"
   ]
  },
  {
   "cell_type": "markdown",
   "id": "0289a46a",
   "metadata": {},
   "source": [
    "To recreate the train dataset by pulling in all the rows in train_test that include Transported values. "
   ]
  },
  {
   "cell_type": "code",
   "execution_count": 28,
   "id": "79ab8323",
   "metadata": {},
   "outputs": [],
   "source": [
    "train = train_test[train_test['Transported'].notnull()].copy()"
   ]
  },
  {
   "cell_type": "markdown",
   "id": "81e5e2cd",
   "metadata": {},
   "source": [
    "To convert the boolean values of Transported into integers; go from True/False to 0/1. "
   ]
  },
  {
   "cell_type": "code",
   "execution_count": 29,
   "id": "6a059b63",
   "metadata": {},
   "outputs": [],
   "source": [
    "train.Transported =train.Transported.astype('int')"
   ]
  },
  {
   "cell_type": "markdown",
   "id": "cdf01aaf",
   "metadata": {},
   "source": [
    "To recreate the test dataset by pulling all the rows in train_test where Transported have no values, and then drop the Transported column. However, the Transported column didn't seem to drop here. "
   ]
  },
  {
   "cell_type": "code",
   "execution_count": 30,
   "id": "c345ae23",
   "metadata": {},
   "outputs": [],
   "source": [
    "test = train_test[train_test['Transported'].isnull()].drop(\"Transported\",axis=1)"
   ]
  },
  {
   "cell_type": "markdown",
   "id": "5cb7f329",
   "metadata": {},
   "source": [
    "To identify the independent and dependent variables. "
   ]
  },
  {
   "cell_type": "code",
   "execution_count": 31,
   "id": "1b938872",
   "metadata": {},
   "outputs": [],
   "source": [
    "X = train.drop('Transported',axis=1)\n",
    "y = train.Transported"
   ]
  },
  {
   "cell_type": "code",
   "execution_count": 32,
   "id": "283b2798",
   "metadata": {},
   "outputs": [
    {
     "data": {
      "text/html": [
       "<div>\n",
       "<style scoped>\n",
       "    .dataframe tbody tr th:only-of-type {\n",
       "        vertical-align: middle;\n",
       "    }\n",
       "\n",
       "    .dataframe tbody tr th {\n",
       "        vertical-align: top;\n",
       "    }\n",
       "\n",
       "    .dataframe thead th {\n",
       "        text-align: right;\n",
       "    }\n",
       "</style>\n",
       "<table border=\"1\" class=\"dataframe\">\n",
       "  <thead>\n",
       "    <tr style=\"text-align: right;\">\n",
       "      <th></th>\n",
       "      <th>ShoppingMall</th>\n",
       "      <th>FoodCourt</th>\n",
       "      <th>RoomService</th>\n",
       "      <th>Spa</th>\n",
       "      <th>VRDeck</th>\n",
       "      <th>Expenses</th>\n",
       "      <th>Age</th>\n",
       "      <th>CryoSleep_False</th>\n",
       "      <th>CryoSleep_True</th>\n",
       "      <th>Cabin_1_A</th>\n",
       "      <th>Cabin_1_B</th>\n",
       "      <th>Cabin_1_C</th>\n",
       "      <th>Cabin_1_D</th>\n",
       "      <th>Cabin_1_E</th>\n",
       "      <th>Cabin_1_F</th>\n",
       "      <th>Cabin_1_G</th>\n",
       "      <th>Cabin_1_T</th>\n",
       "      <th>Cabin_3_P</th>\n",
       "      <th>Cabin_3_S</th>\n",
       "      <th>Cabin_3_None</th>\n",
       "      <th>VIP_False</th>\n",
       "      <th>VIP_True</th>\n",
       "      <th>HomePlanet_Earth</th>\n",
       "      <th>HomePlanet_Europa</th>\n",
       "      <th>HomePlanet_Mars</th>\n",
       "      <th>Destination_55 Cancri e</th>\n",
       "      <th>Destination_PSO J318.5-22</th>\n",
       "      <th>Destination_TRAPPIST-1e</th>\n",
       "    </tr>\n",
       "  </thead>\n",
       "  <tbody>\n",
       "    <tr>\n",
       "      <th>8693</th>\n",
       "      <td>0.0</td>\n",
       "      <td>0.0</td>\n",
       "      <td>0.0</td>\n",
       "      <td>0.0</td>\n",
       "      <td>0.0</td>\n",
       "      <td>0.0</td>\n",
       "      <td>27.0</td>\n",
       "      <td>0.0</td>\n",
       "      <td>1.0</td>\n",
       "      <td>0.0</td>\n",
       "      <td>0.0</td>\n",
       "      <td>0.0</td>\n",
       "      <td>0.0</td>\n",
       "      <td>0.0</td>\n",
       "      <td>0.0</td>\n",
       "      <td>1.0</td>\n",
       "      <td>0.0</td>\n",
       "      <td>0.0</td>\n",
       "      <td>1.0</td>\n",
       "      <td>0.0</td>\n",
       "      <td>1.0</td>\n",
       "      <td>0.0</td>\n",
       "      <td>1.0</td>\n",
       "      <td>0.0</td>\n",
       "      <td>0.0</td>\n",
       "      <td>0.0</td>\n",
       "      <td>0.0</td>\n",
       "      <td>1.0</td>\n",
       "    </tr>\n",
       "    <tr>\n",
       "      <th>8694</th>\n",
       "      <td>0.0</td>\n",
       "      <td>9.0</td>\n",
       "      <td>0.0</td>\n",
       "      <td>2823.0</td>\n",
       "      <td>0.0</td>\n",
       "      <td>2832.0</td>\n",
       "      <td>19.0</td>\n",
       "      <td>1.0</td>\n",
       "      <td>0.0</td>\n",
       "      <td>0.0</td>\n",
       "      <td>0.0</td>\n",
       "      <td>0.0</td>\n",
       "      <td>0.0</td>\n",
       "      <td>0.0</td>\n",
       "      <td>1.0</td>\n",
       "      <td>0.0</td>\n",
       "      <td>0.0</td>\n",
       "      <td>0.0</td>\n",
       "      <td>1.0</td>\n",
       "      <td>0.0</td>\n",
       "      <td>1.0</td>\n",
       "      <td>0.0</td>\n",
       "      <td>1.0</td>\n",
       "      <td>0.0</td>\n",
       "      <td>0.0</td>\n",
       "      <td>0.0</td>\n",
       "      <td>0.0</td>\n",
       "      <td>1.0</td>\n",
       "    </tr>\n",
       "    <tr>\n",
       "      <th>8695</th>\n",
       "      <td>0.0</td>\n",
       "      <td>0.0</td>\n",
       "      <td>0.0</td>\n",
       "      <td>0.0</td>\n",
       "      <td>0.0</td>\n",
       "      <td>0.0</td>\n",
       "      <td>31.0</td>\n",
       "      <td>0.0</td>\n",
       "      <td>1.0</td>\n",
       "      <td>0.0</td>\n",
       "      <td>0.0</td>\n",
       "      <td>1.0</td>\n",
       "      <td>0.0</td>\n",
       "      <td>0.0</td>\n",
       "      <td>0.0</td>\n",
       "      <td>0.0</td>\n",
       "      <td>0.0</td>\n",
       "      <td>0.0</td>\n",
       "      <td>1.0</td>\n",
       "      <td>0.0</td>\n",
       "      <td>1.0</td>\n",
       "      <td>0.0</td>\n",
       "      <td>0.0</td>\n",
       "      <td>1.0</td>\n",
       "      <td>0.0</td>\n",
       "      <td>1.0</td>\n",
       "      <td>0.0</td>\n",
       "      <td>0.0</td>\n",
       "    </tr>\n",
       "    <tr>\n",
       "      <th>8696</th>\n",
       "      <td>0.0</td>\n",
       "      <td>6652.0</td>\n",
       "      <td>0.0</td>\n",
       "      <td>181.0</td>\n",
       "      <td>585.0</td>\n",
       "      <td>7418.0</td>\n",
       "      <td>38.0</td>\n",
       "      <td>1.0</td>\n",
       "      <td>0.0</td>\n",
       "      <td>0.0</td>\n",
       "      <td>0.0</td>\n",
       "      <td>1.0</td>\n",
       "      <td>0.0</td>\n",
       "      <td>0.0</td>\n",
       "      <td>0.0</td>\n",
       "      <td>0.0</td>\n",
       "      <td>0.0</td>\n",
       "      <td>0.0</td>\n",
       "      <td>1.0</td>\n",
       "      <td>0.0</td>\n",
       "      <td>1.0</td>\n",
       "      <td>0.0</td>\n",
       "      <td>0.0</td>\n",
       "      <td>1.0</td>\n",
       "      <td>0.0</td>\n",
       "      <td>0.0</td>\n",
       "      <td>0.0</td>\n",
       "      <td>1.0</td>\n",
       "    </tr>\n",
       "    <tr>\n",
       "      <th>8697</th>\n",
       "      <td>635.0</td>\n",
       "      <td>0.0</td>\n",
       "      <td>10.0</td>\n",
       "      <td>0.0</td>\n",
       "      <td>0.0</td>\n",
       "      <td>645.0</td>\n",
       "      <td>20.0</td>\n",
       "      <td>1.0</td>\n",
       "      <td>0.0</td>\n",
       "      <td>0.0</td>\n",
       "      <td>0.0</td>\n",
       "      <td>0.0</td>\n",
       "      <td>0.0</td>\n",
       "      <td>0.0</td>\n",
       "      <td>1.0</td>\n",
       "      <td>0.0</td>\n",
       "      <td>0.0</td>\n",
       "      <td>0.0</td>\n",
       "      <td>1.0</td>\n",
       "      <td>0.0</td>\n",
       "      <td>1.0</td>\n",
       "      <td>0.0</td>\n",
       "      <td>1.0</td>\n",
       "      <td>0.0</td>\n",
       "      <td>0.0</td>\n",
       "      <td>0.0</td>\n",
       "      <td>0.0</td>\n",
       "      <td>1.0</td>\n",
       "    </tr>\n",
       "  </tbody>\n",
       "</table>\n",
       "</div>"
      ],
      "text/plain": [
       "      ShoppingMall  FoodCourt  RoomService     Spa  VRDeck  Expenses   Age  \\\n",
       "8693           0.0        0.0          0.0     0.0     0.0       0.0  27.0   \n",
       "8694           0.0        9.0          0.0  2823.0     0.0    2832.0  19.0   \n",
       "8695           0.0        0.0          0.0     0.0     0.0       0.0  31.0   \n",
       "8696           0.0     6652.0          0.0   181.0   585.0    7418.0  38.0   \n",
       "8697         635.0        0.0         10.0     0.0     0.0     645.0  20.0   \n",
       "\n",
       "      CryoSleep_False  CryoSleep_True  Cabin_1_A  Cabin_1_B  Cabin_1_C  \\\n",
       "8693              0.0             1.0        0.0        0.0        0.0   \n",
       "8694              1.0             0.0        0.0        0.0        0.0   \n",
       "8695              0.0             1.0        0.0        0.0        1.0   \n",
       "8696              1.0             0.0        0.0        0.0        1.0   \n",
       "8697              1.0             0.0        0.0        0.0        0.0   \n",
       "\n",
       "      Cabin_1_D  Cabin_1_E  Cabin_1_F  Cabin_1_G  Cabin_1_T  Cabin_3_P  \\\n",
       "8693        0.0        0.0        0.0        1.0        0.0        0.0   \n",
       "8694        0.0        0.0        1.0        0.0        0.0        0.0   \n",
       "8695        0.0        0.0        0.0        0.0        0.0        0.0   \n",
       "8696        0.0        0.0        0.0        0.0        0.0        0.0   \n",
       "8697        0.0        0.0        1.0        0.0        0.0        0.0   \n",
       "\n",
       "      Cabin_3_S  Cabin_3_None  VIP_False  VIP_True  HomePlanet_Earth  \\\n",
       "8693        1.0           0.0        1.0       0.0               1.0   \n",
       "8694        1.0           0.0        1.0       0.0               1.0   \n",
       "8695        1.0           0.0        1.0       0.0               0.0   \n",
       "8696        1.0           0.0        1.0       0.0               0.0   \n",
       "8697        1.0           0.0        1.0       0.0               1.0   \n",
       "\n",
       "      HomePlanet_Europa  HomePlanet_Mars  Destination_55 Cancri e  \\\n",
       "8693                0.0              0.0                      0.0   \n",
       "8694                0.0              0.0                      0.0   \n",
       "8695                1.0              0.0                      1.0   \n",
       "8696                1.0              0.0                      0.0   \n",
       "8697                0.0              0.0                      0.0   \n",
       "\n",
       "      Destination_PSO J318.5-22  Destination_TRAPPIST-1e  \n",
       "8693                        0.0                      1.0  \n",
       "8694                        0.0                      1.0  \n",
       "8695                        0.0                      0.0  \n",
       "8696                        0.0                      1.0  \n",
       "8697                        0.0                      1.0  "
      ]
     },
     "execution_count": 32,
     "metadata": {},
     "output_type": "execute_result"
    }
   ],
   "source": [
    "test.head()"
   ]
  },
  {
   "cell_type": "code",
   "execution_count": null,
   "id": "a800d41c",
   "metadata": {},
   "outputs": [],
   "source": []
  },
  {
   "cell_type": "code",
   "execution_count": null,
   "id": "95d248a5",
   "metadata": {},
   "outputs": [],
   "source": []
  },
  {
   "cell_type": "code",
   "execution_count": null,
   "id": "360fd7d7",
   "metadata": {},
   "outputs": [],
   "source": []
  },
  {
   "cell_type": "markdown",
   "id": "192c7912",
   "metadata": {},
   "source": [
    "# Utilizing the Model"
   ]
  },
  {
   "cell_type": "markdown",
   "id": "afa9defb",
   "metadata": {},
   "source": [
    "I'll need to split the test dataset between the training and validation sections, with 25% being the percent allocated to validation. "
   ]
  },
  {
   "cell_type": "code",
   "execution_count": 33,
   "id": "1d23c14f",
   "metadata": {},
   "outputs": [],
   "source": [
    "\n",
    "#trn_df,val_df = train_test_split(train, test_size=0.001)\n",
    "#trn_df,val_df = train_test_split(train, test_size=0.05)\n",
    "#trn_df,val_df = train_test_split(train, test_size=0.25)"
   ]
  },
  {
   "cell_type": "code",
   "execution_count": 33,
   "id": "acfd7875",
   "metadata": {},
   "outputs": [],
   "source": [
    "random.seed(42)\n",
    "(X_train, X_test, y_train, y_test) = train_test_split(X, y, test_size=.25)"
   ]
  },
  {
   "cell_type": "code",
   "execution_count": null,
   "id": "96c64e11",
   "metadata": {},
   "outputs": [],
   "source": []
  },
  {
   "cell_type": "markdown",
   "id": "4930e752",
   "metadata": {},
   "source": [
    "Finally, I import and run a basic random forest model on the data. The number of estimators is 100 and the minimum number of samples to split a node is at 5. I tried slightly higher and lower numbers for the samples and they came out worse. "
   ]
  },
  {
   "cell_type": "code",
   "execution_count": 34,
   "id": "dc3ca419",
   "metadata": {},
   "outputs": [],
   "source": [
    "from sklearn.ensemble import RandomForestClassifier\n",
    "from sklearn.metrics import mean_absolute_error\n",
    "from sklearn.model_selection import GridSearchCV\n",
    "from sklearn.metrics import accuracy_score"
   ]
  },
  {
   "cell_type": "code",
   "execution_count": 57,
   "id": "2241d09e",
   "metadata": {},
   "outputs": [
    {
     "name": "stdout",
     "output_type": "stream",
     "text": [
      "Best Parameters :  {'max_depth': 11, 'min_samples_leaf': 18, 'min_samples_split': 8, 'n_estimators': 25}\n",
      "\n",
      "Best Accuracy :  0.7985902047657835\n"
     ]
    }
   ],
   "source": [
    "\"\"\"parameters = {\n",
    "    \"n_estimators\": [5, 10, 15, 20, 25], \n",
    "    \"max_depth\": [3, 5, 7, 9, 11, 12],\n",
    "    \"min_samples_leaf\" : [18, 19, 20],\n",
    "    \"min_samples_split\" : [8, 9, 10]\n",
    "}\n",
    "\n",
    "\n",
    "RFC_Model = RandomForestClassifier(random_state=0)\n",
    "RFC_grid = GridSearchCV(RFC_Model, param_grid = parameters, cv = 5, scoring = 'accuracy', n_jobs= -1)\n",
    "RFC_grid.fit(trn_xs, trn_y)\n",
    "print('Best Parameters : ', RFC_grid.best_params_)\n",
    "print()\n",
    "print('Best Accuracy : ', RFC_grid.best_score_)\"\"\""
   ]
  },
  {
   "cell_type": "code",
   "execution_count": 53,
   "id": "18211b4a",
   "metadata": {},
   "outputs": [
    {
     "name": "stdout",
     "output_type": "stream",
     "text": [
      "Best Parameters :  {'criterion': 'entropy', 'max_depth': 16, 'max_features': 'log2', 'min_samples_leaf': 1, 'min_samples_split': 14, 'n_estimators': 300}\n",
      "\n",
      "Best Accuracy :  0.8076404616058269\n"
     ]
    }
   ],
   "source": [
    "parameters = {\n",
    "    \"n_estimators\": [25, 50, 100, 200, 300, 400, 500], \n",
    "    \"max_depth\": [2, 4, 8, 16, 32, 64],\n",
    "    \"min_samples_leaf\" : [1, 5, 10, 20],\n",
    "    \"min_samples_split\" : [2, 4, 10, 14, 18],\n",
    "    \"max_features\": ['log2', 'sqrt', None],\n",
    "    \"criterion\" : [\"gini\", \"entropy\"]\n",
    "}\n",
    "\n",
    "RFC_Model = RandomForestClassifier(random_state=0)\n",
    "RFC_grid = GridSearchCV(RFC_Model, param_grid = parameters, cv = 5, scoring = 'accuracy', n_jobs= -1)\n",
    "RFC_grid.fit(X_train, y_train)\n",
    "print('Best Parameters : ', RFC_grid.best_params_)\n",
    "print()\n",
    "print('Best Accuracy : ', RFC_grid.best_score_)"
   ]
  },
  {
   "cell_type": "code",
   "execution_count": 35,
   "id": "de39ba11",
   "metadata": {},
   "outputs": [],
   "source": [
    "rf_model = RandomForestClassifier(criterion='entropy', \n",
    "                                  n_estimators=300,\n",
    "                                  min_samples_split=14,\n",
    "                                  min_samples_leaf=1,\n",
    "                                  oob_score=True,\n",
    "                                  max_depth=16,\n",
    "                                  random_state=1,\n",
    "                                  max_features='log2',\n",
    "                                  n_jobs=-1)"
   ]
  },
  {
   "cell_type": "code",
   "execution_count": 36,
   "id": "45d0ef78",
   "metadata": {},
   "outputs": [
    {
     "data": {
      "text/plain": [
       "0.7989880404783809"
      ]
     },
     "execution_count": 36,
     "metadata": {},
     "output_type": "execute_result"
    }
   ],
   "source": [
    "rf_model.fit(X_train, y_train)\n",
    "rf_predictions = rf_model.predict(X_test)\n",
    "accuracy_score(y_test, rf_predictions)"
   ]
  },
  {
   "cell_type": "code",
   "execution_count": 55,
   "id": "d37f1760",
   "metadata": {},
   "outputs": [
    {
     "name": "stderr",
     "output_type": "stream",
     "text": [
      "C:\\Users\\tompe\\anaconda3\\lib\\site-packages\\sklearn\\base.py:450: UserWarning: X does not have valid feature names, but RandomForestClassifier was fitted with feature names\n",
      "  warnings.warn(\n"
     ]
    },
    {
     "data": {
      "text/plain": [
       "0.7724137931034483"
      ]
     },
     "execution_count": 55,
     "metadata": {},
     "output_type": "execute_result"
    }
   ],
   "source": [
    "\"\"\"rf_model.fit(trn_xs, trn_y)\n",
    "\n",
    "rf_predictions = rf_model.predict(val_xs.values)\n",
    "accuracy_score(val_y, rf_predictions)\"\"\""
   ]
  },
  {
   "cell_type": "code",
   "execution_count": 55,
   "id": "e5770957",
   "metadata": {},
   "outputs": [],
   "source": [
    "#rf = RandomForestClassifier(100, min_samples_leaf=5)\n",
    "#rf.fit(trn_xs, trn_y);\n",
    "#mean_absolute_error(val_y, rf.predict(val_xs))"
   ]
  },
  {
   "cell_type": "markdown",
   "id": "b3842c32",
   "metadata": {},
   "source": [
    "One nice thing about random forests is that they can give you which variable has the biggest impact. This shows a number of the categories had a stronger impact. "
   ]
  },
  {
   "cell_type": "code",
   "execution_count": 38,
   "id": "49a561f6",
   "metadata": {},
   "outputs": [
    {
     "data": {
      "image/png": "[encoded data removed]",
      "text/plain": [
       "<Figure size 640x480 with 1 Axes>"
      ]
     },
     "metadata": {},
     "output_type": "display_data"
    }
   ],
   "source": [
    "pd.DataFrame(dict(cols=X_train.columns, imp=rf_model.feature_importances_)).plot('cols', 'imp', 'barh');"
   ]
  },
  {
   "cell_type": "markdown",
   "id": "def53296",
   "metadata": {},
   "source": [
    "# Create Submission File"
   ]
  },
  {
   "cell_type": "markdown",
   "id": "c55b2b99",
   "metadata": {},
   "source": [
    "Here I'm converting the Transported column back into the True/False boolean values that will be needed for submission. "
   ]
  },
  {
   "cell_type": "code",
   "execution_count": null,
   "id": "144aa872",
   "metadata": {},
   "outputs": [],
   "source": []
  },
  {
   "cell_type": "code",
   "execution_count": 37,
   "id": "854b740d",
   "metadata": {},
   "outputs": [],
   "source": [
    "test['Transported'] = rf_model.predict(test)"
   ]
  },
  {
   "cell_type": "code",
   "execution_count": 38,
   "id": "9d295c39",
   "metadata": {},
   "outputs": [
    {
     "data": {
      "text/html": [
       "<div>\n",
       "<style scoped>\n",
       "    .dataframe tbody tr th:only-of-type {\n",
       "        vertical-align: middle;\n",
       "    }\n",
       "\n",
       "    .dataframe tbody tr th {\n",
       "        vertical-align: top;\n",
       "    }\n",
       "\n",
       "    .dataframe thead th {\n",
       "        text-align: right;\n",
       "    }\n",
       "</style>\n",
       "<table border=\"1\" class=\"dataframe\">\n",
       "  <thead>\n",
       "    <tr style=\"text-align: right;\">\n",
       "      <th></th>\n",
       "      <th>PassengerId</th>\n",
       "    </tr>\n",
       "  </thead>\n",
       "  <tbody>\n",
       "    <tr>\n",
       "      <th>0</th>\n",
       "      <td>0013_01</td>\n",
       "    </tr>\n",
       "    <tr>\n",
       "      <th>1</th>\n",
       "      <td>0018_01</td>\n",
       "    </tr>\n",
       "    <tr>\n",
       "      <th>2</th>\n",
       "      <td>0019_01</td>\n",
       "    </tr>\n",
       "    <tr>\n",
       "      <th>3</th>\n",
       "      <td>0021_01</td>\n",
       "    </tr>\n",
       "    <tr>\n",
       "      <th>4</th>\n",
       "      <td>0023_01</td>\n",
       "    </tr>\n",
       "    <tr>\n",
       "      <th>...</th>\n",
       "      <td>...</td>\n",
       "    </tr>\n",
       "    <tr>\n",
       "      <th>4272</th>\n",
       "      <td>9266_02</td>\n",
       "    </tr>\n",
       "    <tr>\n",
       "      <th>4273</th>\n",
       "      <td>9269_01</td>\n",
       "    </tr>\n",
       "    <tr>\n",
       "      <th>4274</th>\n",
       "      <td>9271_01</td>\n",
       "    </tr>\n",
       "    <tr>\n",
       "      <th>4275</th>\n",
       "      <td>9273_01</td>\n",
       "    </tr>\n",
       "    <tr>\n",
       "      <th>4276</th>\n",
       "      <td>9277_01</td>\n",
       "    </tr>\n",
       "  </tbody>\n",
       "</table>\n",
       "<p>4277 rows × 1 columns</p>\n",
       "</div>"
      ],
      "text/plain": [
       "     PassengerId\n",
       "0        0013_01\n",
       "1        0018_01\n",
       "2        0019_01\n",
       "3        0021_01\n",
       "4        0023_01\n",
       "...          ...\n",
       "4272     9266_02\n",
       "4273     9269_01\n",
       "4274     9271_01\n",
       "4275     9273_01\n",
       "4276     9277_01\n",
       "\n",
       "[4277 rows x 1 columns]"
      ]
     },
     "execution_count": 38,
     "metadata": {},
     "output_type": "execute_result"
    }
   ],
   "source": [
    "passengerid"
   ]
  },
  {
   "cell_type": "code",
   "execution_count": 39,
   "id": "9d7d4a95",
   "metadata": {},
   "outputs": [],
   "source": [
    "test['PassengerId'] = passengerid.values"
   ]
  },
  {
   "cell_type": "code",
   "execution_count": 40,
   "id": "7b1a3c6b",
   "metadata": {},
   "outputs": [
    {
     "data": {
      "text/html": [
       "<div>\n",
       "<style scoped>\n",
       "    .dataframe tbody tr th:only-of-type {\n",
       "        vertical-align: middle;\n",
       "    }\n",
       "\n",
       "    .dataframe tbody tr th {\n",
       "        vertical-align: top;\n",
       "    }\n",
       "\n",
       "    .dataframe thead th {\n",
       "        text-align: right;\n",
       "    }\n",
       "</style>\n",
       "<table border=\"1\" class=\"dataframe\">\n",
       "  <thead>\n",
       "    <tr style=\"text-align: right;\">\n",
       "      <th></th>\n",
       "      <th>ShoppingMall</th>\n",
       "      <th>FoodCourt</th>\n",
       "      <th>RoomService</th>\n",
       "      <th>Spa</th>\n",
       "      <th>VRDeck</th>\n",
       "      <th>Expenses</th>\n",
       "      <th>Age</th>\n",
       "      <th>CryoSleep_False</th>\n",
       "      <th>CryoSleep_True</th>\n",
       "      <th>Cabin_1_A</th>\n",
       "      <th>Cabin_1_B</th>\n",
       "      <th>Cabin_1_C</th>\n",
       "      <th>Cabin_1_D</th>\n",
       "      <th>Cabin_1_E</th>\n",
       "      <th>Cabin_1_F</th>\n",
       "      <th>Cabin_1_G</th>\n",
       "      <th>Cabin_1_T</th>\n",
       "      <th>Cabin_3_P</th>\n",
       "      <th>Cabin_3_S</th>\n",
       "      <th>Cabin_3_None</th>\n",
       "      <th>VIP_False</th>\n",
       "      <th>VIP_True</th>\n",
       "      <th>HomePlanet_Earth</th>\n",
       "      <th>HomePlanet_Europa</th>\n",
       "      <th>HomePlanet_Mars</th>\n",
       "      <th>Destination_55 Cancri e</th>\n",
       "      <th>Destination_PSO J318.5-22</th>\n",
       "      <th>Destination_TRAPPIST-1e</th>\n",
       "      <th>Transported</th>\n",
       "      <th>PassengerId</th>\n",
       "    </tr>\n",
       "  </thead>\n",
       "  <tbody>\n",
       "    <tr>\n",
       "      <th>8693</th>\n",
       "      <td>0.0</td>\n",
       "      <td>0.0</td>\n",
       "      <td>0.0</td>\n",
       "      <td>0.0</td>\n",
       "      <td>0.0</td>\n",
       "      <td>0.0</td>\n",
       "      <td>27.000000</td>\n",
       "      <td>0.0</td>\n",
       "      <td>1.0</td>\n",
       "      <td>0.0</td>\n",
       "      <td>0.0</td>\n",
       "      <td>0.0</td>\n",
       "      <td>0.0</td>\n",
       "      <td>0.0</td>\n",
       "      <td>0.0</td>\n",
       "      <td>1.0</td>\n",
       "      <td>0.0</td>\n",
       "      <td>0.0</td>\n",
       "      <td>1.0</td>\n",
       "      <td>0.0</td>\n",
       "      <td>1.0</td>\n",
       "      <td>0.0</td>\n",
       "      <td>1.0</td>\n",
       "      <td>0.0</td>\n",
       "      <td>0.0</td>\n",
       "      <td>0.0</td>\n",
       "      <td>0.0</td>\n",
       "      <td>1.0</td>\n",
       "      <td>1</td>\n",
       "      <td>0013_01</td>\n",
       "    </tr>\n",
       "    <tr>\n",
       "      <th>8694</th>\n",
       "      <td>0.0</td>\n",
       "      <td>9.0</td>\n",
       "      <td>0.0</td>\n",
       "      <td>2823.0</td>\n",
       "      <td>0.0</td>\n",
       "      <td>2832.0</td>\n",
       "      <td>19.000000</td>\n",
       "      <td>1.0</td>\n",
       "      <td>0.0</td>\n",
       "      <td>0.0</td>\n",
       "      <td>0.0</td>\n",
       "      <td>0.0</td>\n",
       "      <td>0.0</td>\n",
       "      <td>0.0</td>\n",
       "      <td>1.0</td>\n",
       "      <td>0.0</td>\n",
       "      <td>0.0</td>\n",
       "      <td>0.0</td>\n",
       "      <td>1.0</td>\n",
       "      <td>0.0</td>\n",
       "      <td>1.0</td>\n",
       "      <td>0.0</td>\n",
       "      <td>1.0</td>\n",
       "      <td>0.0</td>\n",
       "      <td>0.0</td>\n",
       "      <td>0.0</td>\n",
       "      <td>0.0</td>\n",
       "      <td>1.0</td>\n",
       "      <td>0</td>\n",
       "      <td>0018_01</td>\n",
       "    </tr>\n",
       "    <tr>\n",
       "      <th>8695</th>\n",
       "      <td>0.0</td>\n",
       "      <td>0.0</td>\n",
       "      <td>0.0</td>\n",
       "      <td>0.0</td>\n",
       "      <td>0.0</td>\n",
       "      <td>0.0</td>\n",
       "      <td>31.000000</td>\n",
       "      <td>0.0</td>\n",
       "      <td>1.0</td>\n",
       "      <td>0.0</td>\n",
       "      <td>0.0</td>\n",
       "      <td>1.0</td>\n",
       "      <td>0.0</td>\n",
       "      <td>0.0</td>\n",
       "      <td>0.0</td>\n",
       "      <td>0.0</td>\n",
       "      <td>0.0</td>\n",
       "      <td>0.0</td>\n",
       "      <td>1.0</td>\n",
       "      <td>0.0</td>\n",
       "      <td>1.0</td>\n",
       "      <td>0.0</td>\n",
       "      <td>0.0</td>\n",
       "      <td>1.0</td>\n",
       "      <td>0.0</td>\n",
       "      <td>1.0</td>\n",
       "      <td>0.0</td>\n",
       "      <td>0.0</td>\n",
       "      <td>1</td>\n",
       "      <td>0019_01</td>\n",
       "    </tr>\n",
       "    <tr>\n",
       "      <th>8696</th>\n",
       "      <td>0.0</td>\n",
       "      <td>6652.0</td>\n",
       "      <td>0.0</td>\n",
       "      <td>181.0</td>\n",
       "      <td>585.0</td>\n",
       "      <td>7418.0</td>\n",
       "      <td>38.000000</td>\n",
       "      <td>1.0</td>\n",
       "      <td>0.0</td>\n",
       "      <td>0.0</td>\n",
       "      <td>0.0</td>\n",
       "      <td>1.0</td>\n",
       "      <td>0.0</td>\n",
       "      <td>0.0</td>\n",
       "      <td>0.0</td>\n",
       "      <td>0.0</td>\n",
       "      <td>0.0</td>\n",
       "      <td>0.0</td>\n",
       "      <td>1.0</td>\n",
       "      <td>0.0</td>\n",
       "      <td>1.0</td>\n",
       "      <td>0.0</td>\n",
       "      <td>0.0</td>\n",
       "      <td>1.0</td>\n",
       "      <td>0.0</td>\n",
       "      <td>0.0</td>\n",
       "      <td>0.0</td>\n",
       "      <td>1.0</td>\n",
       "      <td>1</td>\n",
       "      <td>0021_01</td>\n",
       "    </tr>\n",
       "    <tr>\n",
       "      <th>8697</th>\n",
       "      <td>635.0</td>\n",
       "      <td>0.0</td>\n",
       "      <td>10.0</td>\n",
       "      <td>0.0</td>\n",
       "      <td>0.0</td>\n",
       "      <td>645.0</td>\n",
       "      <td>20.000000</td>\n",
       "      <td>1.0</td>\n",
       "      <td>0.0</td>\n",
       "      <td>0.0</td>\n",
       "      <td>0.0</td>\n",
       "      <td>0.0</td>\n",
       "      <td>0.0</td>\n",
       "      <td>0.0</td>\n",
       "      <td>1.0</td>\n",
       "      <td>0.0</td>\n",
       "      <td>0.0</td>\n",
       "      <td>0.0</td>\n",
       "      <td>1.0</td>\n",
       "      <td>0.0</td>\n",
       "      <td>1.0</td>\n",
       "      <td>0.0</td>\n",
       "      <td>1.0</td>\n",
       "      <td>0.0</td>\n",
       "      <td>0.0</td>\n",
       "      <td>0.0</td>\n",
       "      <td>0.0</td>\n",
       "      <td>1.0</td>\n",
       "      <td>1</td>\n",
       "      <td>0023_01</td>\n",
       "    </tr>\n",
       "    <tr>\n",
       "      <th>...</th>\n",
       "      <td>...</td>\n",
       "      <td>...</td>\n",
       "      <td>...</td>\n",
       "      <td>...</td>\n",
       "      <td>...</td>\n",
       "      <td>...</td>\n",
       "      <td>...</td>\n",
       "      <td>...</td>\n",
       "      <td>...</td>\n",
       "      <td>...</td>\n",
       "      <td>...</td>\n",
       "      <td>...</td>\n",
       "      <td>...</td>\n",
       "      <td>...</td>\n",
       "      <td>...</td>\n",
       "      <td>...</td>\n",
       "      <td>...</td>\n",
       "      <td>...</td>\n",
       "      <td>...</td>\n",
       "      <td>...</td>\n",
       "      <td>...</td>\n",
       "      <td>...</td>\n",
       "      <td>...</td>\n",
       "      <td>...</td>\n",
       "      <td>...</td>\n",
       "      <td>...</td>\n",
       "      <td>...</td>\n",
       "      <td>...</td>\n",
       "      <td>...</td>\n",
       "      <td>...</td>\n",
       "    </tr>\n",
       "    <tr>\n",
       "      <th>12965</th>\n",
       "      <td>0.0</td>\n",
       "      <td>0.0</td>\n",
       "      <td>0.0</td>\n",
       "      <td>0.0</td>\n",
       "      <td>0.0</td>\n",
       "      <td>0.0</td>\n",
       "      <td>34.000000</td>\n",
       "      <td>0.0</td>\n",
       "      <td>1.0</td>\n",
       "      <td>0.0</td>\n",
       "      <td>0.0</td>\n",
       "      <td>0.0</td>\n",
       "      <td>0.0</td>\n",
       "      <td>0.0</td>\n",
       "      <td>0.0</td>\n",
       "      <td>1.0</td>\n",
       "      <td>0.0</td>\n",
       "      <td>0.0</td>\n",
       "      <td>1.0</td>\n",
       "      <td>0.0</td>\n",
       "      <td>1.0</td>\n",
       "      <td>0.0</td>\n",
       "      <td>1.0</td>\n",
       "      <td>0.0</td>\n",
       "      <td>0.0</td>\n",
       "      <td>0.0</td>\n",
       "      <td>0.0</td>\n",
       "      <td>1.0</td>\n",
       "      <td>1</td>\n",
       "      <td>9266_02</td>\n",
       "    </tr>\n",
       "    <tr>\n",
       "      <th>12966</th>\n",
       "      <td>17.0</td>\n",
       "      <td>847.0</td>\n",
       "      <td>0.0</td>\n",
       "      <td>10.0</td>\n",
       "      <td>144.0</td>\n",
       "      <td>1018.0</td>\n",
       "      <td>42.000000</td>\n",
       "      <td>1.0</td>\n",
       "      <td>0.0</td>\n",
       "      <td>0.0</td>\n",
       "      <td>0.0</td>\n",
       "      <td>0.0</td>\n",
       "      <td>0.0</td>\n",
       "      <td>0.0</td>\n",
       "      <td>1.0</td>\n",
       "      <td>0.0</td>\n",
       "      <td>0.0</td>\n",
       "      <td>0.0</td>\n",
       "      <td>0.0</td>\n",
       "      <td>1.0</td>\n",
       "      <td>1.0</td>\n",
       "      <td>0.0</td>\n",
       "      <td>1.0</td>\n",
       "      <td>0.0</td>\n",
       "      <td>0.0</td>\n",
       "      <td>0.0</td>\n",
       "      <td>0.0</td>\n",
       "      <td>1.0</td>\n",
       "      <td>0</td>\n",
       "      <td>9269_01</td>\n",
       "    </tr>\n",
       "    <tr>\n",
       "      <th>12967</th>\n",
       "      <td>0.0</td>\n",
       "      <td>0.0</td>\n",
       "      <td>0.0</td>\n",
       "      <td>0.0</td>\n",
       "      <td>0.0</td>\n",
       "      <td>0.0</td>\n",
       "      <td>28.771969</td>\n",
       "      <td>0.0</td>\n",
       "      <td>1.0</td>\n",
       "      <td>0.0</td>\n",
       "      <td>0.0</td>\n",
       "      <td>0.0</td>\n",
       "      <td>1.0</td>\n",
       "      <td>0.0</td>\n",
       "      <td>0.0</td>\n",
       "      <td>0.0</td>\n",
       "      <td>0.0</td>\n",
       "      <td>1.0</td>\n",
       "      <td>0.0</td>\n",
       "      <td>0.0</td>\n",
       "      <td>1.0</td>\n",
       "      <td>0.0</td>\n",
       "      <td>0.0</td>\n",
       "      <td>0.0</td>\n",
       "      <td>1.0</td>\n",
       "      <td>1.0</td>\n",
       "      <td>0.0</td>\n",
       "      <td>0.0</td>\n",
       "      <td>1</td>\n",
       "      <td>9271_01</td>\n",
       "    </tr>\n",
       "    <tr>\n",
       "      <th>12968</th>\n",
       "      <td>0.0</td>\n",
       "      <td>2680.0</td>\n",
       "      <td>0.0</td>\n",
       "      <td>0.0</td>\n",
       "      <td>523.0</td>\n",
       "      <td>3203.0</td>\n",
       "      <td>28.771969</td>\n",
       "      <td>1.0</td>\n",
       "      <td>0.0</td>\n",
       "      <td>0.0</td>\n",
       "      <td>0.0</td>\n",
       "      <td>0.0</td>\n",
       "      <td>1.0</td>\n",
       "      <td>0.0</td>\n",
       "      <td>0.0</td>\n",
       "      <td>0.0</td>\n",
       "      <td>0.0</td>\n",
       "      <td>1.0</td>\n",
       "      <td>0.0</td>\n",
       "      <td>0.0</td>\n",
       "      <td>1.0</td>\n",
       "      <td>0.0</td>\n",
       "      <td>0.0</td>\n",
       "      <td>1.0</td>\n",
       "      <td>0.0</td>\n",
       "      <td>0.0</td>\n",
       "      <td>0.0</td>\n",
       "      <td>1.0</td>\n",
       "      <td>1</td>\n",
       "      <td>9273_01</td>\n",
       "    </tr>\n",
       "    <tr>\n",
       "      <th>12969</th>\n",
       "      <td>0.0</td>\n",
       "      <td>0.0</td>\n",
       "      <td>0.0</td>\n",
       "      <td>0.0</td>\n",
       "      <td>0.0</td>\n",
       "      <td>0.0</td>\n",
       "      <td>43.000000</td>\n",
       "      <td>0.0</td>\n",
       "      <td>1.0</td>\n",
       "      <td>0.0</td>\n",
       "      <td>0.0</td>\n",
       "      <td>0.0</td>\n",
       "      <td>0.0</td>\n",
       "      <td>0.0</td>\n",
       "      <td>0.0</td>\n",
       "      <td>1.0</td>\n",
       "      <td>0.0</td>\n",
       "      <td>0.0</td>\n",
       "      <td>1.0</td>\n",
       "      <td>0.0</td>\n",
       "      <td>1.0</td>\n",
       "      <td>0.0</td>\n",
       "      <td>1.0</td>\n",
       "      <td>0.0</td>\n",
       "      <td>0.0</td>\n",
       "      <td>0.0</td>\n",
       "      <td>1.0</td>\n",
       "      <td>0.0</td>\n",
       "      <td>0</td>\n",
       "      <td>9277_01</td>\n",
       "    </tr>\n",
       "  </tbody>\n",
       "</table>\n",
       "<p>4277 rows × 30 columns</p>\n",
       "</div>"
      ],
      "text/plain": [
       "       ShoppingMall  FoodCourt  RoomService     Spa  VRDeck  Expenses  \\\n",
       "8693            0.0        0.0          0.0     0.0     0.0       0.0   \n",
       "8694            0.0        9.0          0.0  2823.0     0.0    2832.0   \n",
       "8695            0.0        0.0          0.0     0.0     0.0       0.0   \n",
       "8696            0.0     6652.0          0.0   181.0   585.0    7418.0   \n",
       "8697          635.0        0.0         10.0     0.0     0.0     645.0   \n",
       "...             ...        ...          ...     ...     ...       ...   \n",
       "12965           0.0        0.0          0.0     0.0     0.0       0.0   \n",
       "12966          17.0      847.0          0.0    10.0   144.0    1018.0   \n",
       "12967           0.0        0.0          0.0     0.0     0.0       0.0   \n",
       "12968           0.0     2680.0          0.0     0.0   523.0    3203.0   \n",
       "12969           0.0        0.0          0.0     0.0     0.0       0.0   \n",
       "\n",
       "             Age  CryoSleep_False  CryoSleep_True  Cabin_1_A  Cabin_1_B  \\\n",
       "8693   27.000000              0.0             1.0        0.0        0.0   \n",
       "8694   19.000000              1.0             0.0        0.0        0.0   \n",
       "8695   31.000000              0.0             1.0        0.0        0.0   \n",
       "8696   38.000000              1.0             0.0        0.0        0.0   \n",
       "8697   20.000000              1.0             0.0        0.0        0.0   \n",
       "...          ...              ...             ...        ...        ...   \n",
       "12965  34.000000              0.0             1.0        0.0        0.0   \n",
       "12966  42.000000              1.0             0.0        0.0        0.0   \n",
       "12967  28.771969              0.0             1.0        0.0        0.0   \n",
       "12968  28.771969              1.0             0.0        0.0        0.0   \n",
       "12969  43.000000              0.0             1.0        0.0        0.0   \n",
       "\n",
       "       Cabin_1_C  Cabin_1_D  Cabin_1_E  Cabin_1_F  Cabin_1_G  Cabin_1_T  \\\n",
       "8693         0.0        0.0        0.0        0.0        1.0        0.0   \n",
       "8694         0.0        0.0        0.0        1.0        0.0        0.0   \n",
       "8695         1.0        0.0        0.0        0.0        0.0        0.0   \n",
       "8696         1.0        0.0        0.0        0.0        0.0        0.0   \n",
       "8697         0.0        0.0        0.0        1.0        0.0        0.0   \n",
       "...          ...        ...        ...        ...        ...        ...   \n",
       "12965        0.0        0.0        0.0        0.0        1.0        0.0   \n",
       "12966        0.0        0.0        0.0        1.0        0.0        0.0   \n",
       "12967        0.0        1.0        0.0        0.0        0.0        0.0   \n",
       "12968        0.0        1.0        0.0        0.0        0.0        0.0   \n",
       "12969        0.0        0.0        0.0        0.0        1.0        0.0   \n",
       "\n",
       "       Cabin_3_P  Cabin_3_S  Cabin_3_None  VIP_False  VIP_True  \\\n",
       "8693         0.0        1.0           0.0        1.0       0.0   \n",
       "8694         0.0        1.0           0.0        1.0       0.0   \n",
       "8695         0.0        1.0           0.0        1.0       0.0   \n",
       "8696         0.0        1.0           0.0        1.0       0.0   \n",
       "8697         0.0        1.0           0.0        1.0       0.0   \n",
       "...          ...        ...           ...        ...       ...   \n",
       "12965        0.0        1.0           0.0        1.0       0.0   \n",
       "12966        0.0        0.0           1.0        1.0       0.0   \n",
       "12967        1.0        0.0           0.0        1.0       0.0   \n",
       "12968        1.0        0.0           0.0        1.0       0.0   \n",
       "12969        0.0        1.0           0.0        1.0       0.0   \n",
       "\n",
       "       HomePlanet_Earth  HomePlanet_Europa  HomePlanet_Mars  \\\n",
       "8693                1.0                0.0              0.0   \n",
       "8694                1.0                0.0              0.0   \n",
       "8695                0.0                1.0              0.0   \n",
       "8696                0.0                1.0              0.0   \n",
       "8697                1.0                0.0              0.0   \n",
       "...                 ...                ...              ...   \n",
       "12965               1.0                0.0              0.0   \n",
       "12966               1.0                0.0              0.0   \n",
       "12967               0.0                0.0              1.0   \n",
       "12968               0.0                1.0              0.0   \n",
       "12969               1.0                0.0              0.0   \n",
       "\n",
       "       Destination_55 Cancri e  Destination_PSO J318.5-22  \\\n",
       "8693                       0.0                        0.0   \n",
       "8694                       0.0                        0.0   \n",
       "8695                       1.0                        0.0   \n",
       "8696                       0.0                        0.0   \n",
       "8697                       0.0                        0.0   \n",
       "...                        ...                        ...   \n",
       "12965                      0.0                        0.0   \n",
       "12966                      0.0                        0.0   \n",
       "12967                      1.0                        0.0   \n",
       "12968                      0.0                        0.0   \n",
       "12969                      0.0                        1.0   \n",
       "\n",
       "       Destination_TRAPPIST-1e  Transported PassengerId  \n",
       "8693                       1.0            1     0013_01  \n",
       "8694                       1.0            0     0018_01  \n",
       "8695                       0.0            1     0019_01  \n",
       "8696                       1.0            1     0021_01  \n",
       "8697                       1.0            1     0023_01  \n",
       "...                        ...          ...         ...  \n",
       "12965                      1.0            1     9266_02  \n",
       "12966                      1.0            0     9269_01  \n",
       "12967                      0.0            1     9271_01  \n",
       "12968                      1.0            1     9273_01  \n",
       "12969                      0.0            0     9277_01  \n",
       "\n",
       "[4277 rows x 30 columns]"
      ]
     },
     "execution_count": 40,
     "metadata": {},
     "output_type": "execute_result"
    }
   ],
   "source": [
    "test"
   ]
  },
  {
   "cell_type": "markdown",
   "id": "beb6130a",
   "metadata": {},
   "source": [
    "This creates the actual submission file with this initial benchmark random forest model. "
   ]
  },
  {
   "cell_type": "code",
   "execution_count": 41,
   "id": "3f26b568",
   "metadata": {},
   "outputs": [],
   "source": [
    "submit_file = test[['PassengerId', 'Transported']]"
   ]
  },
  {
   "cell_type": "code",
   "execution_count": 46,
   "id": "dfc84c9b",
   "metadata": {},
   "outputs": [
    {
     "ename": "AttributeError",
     "evalue": "'_LocIndexer' object has no attribute 'astype'",
     "output_type": "error",
     "traceback": [
      "\u001b[1;31m---------------------------------------------------------------------------\u001b[0m",
      "\u001b[1;31mAttributeError\u001b[0m                            Traceback (most recent call last)",
      "\u001b[1;32m~\\AppData\\Local\\Temp\\ipykernel_19604\\224157119.py\u001b[0m in \u001b[0;36m<module>\u001b[1;34m\u001b[0m\n\u001b[1;32m----> 1\u001b[1;33m \u001b[0msubmit_file\u001b[0m\u001b[1;33m[\u001b[0m\u001b[1;34m'Transported'\u001b[0m\u001b[1;33m]\u001b[0m \u001b[1;33m=\u001b[0m \u001b[0msubmit_file\u001b[0m\u001b[1;33m[\u001b[0m\u001b[1;34m'Transported'\u001b[0m\u001b[1;33m]\u001b[0m\u001b[1;33m.\u001b[0m\u001b[0mloc\u001b[0m\u001b[1;33m.\u001b[0m\u001b[0mastype\u001b[0m\u001b[1;33m(\u001b[0m\u001b[0mbool\u001b[0m\u001b[1;33m)\u001b[0m\u001b[1;33m.\u001b[0m\u001b[0mastype\u001b[0m\u001b[1;33m(\u001b[0m\u001b[0mint\u001b[0m\u001b[1;33m)\u001b[0m\u001b[1;33m\u001b[0m\u001b[1;33m\u001b[0m\u001b[0m\n\u001b[0m",
      "\u001b[1;31mAttributeError\u001b[0m: '_LocIndexer' object has no attribute 'astype'"
     ]
    }
   ],
   "source": [
    "submit_file['Transported'] = submit_file['Transported'].astype(int).astype(bool)"
   ]
  },
  {
   "cell_type": "code",
   "execution_count": 43,
   "id": "994b2b67",
   "metadata": {},
   "outputs": [
    {
     "data": {
      "text/html": [
       "<div>\n",
       "<style scoped>\n",
       "    .dataframe tbody tr th:only-of-type {\n",
       "        vertical-align: middle;\n",
       "    }\n",
       "\n",
       "    .dataframe tbody tr th {\n",
       "        vertical-align: top;\n",
       "    }\n",
       "\n",
       "    .dataframe thead th {\n",
       "        text-align: right;\n",
       "    }\n",
       "</style>\n",
       "<table border=\"1\" class=\"dataframe\">\n",
       "  <thead>\n",
       "    <tr style=\"text-align: right;\">\n",
       "      <th></th>\n",
       "      <th>PassengerId</th>\n",
       "      <th>Transported</th>\n",
       "    </tr>\n",
       "  </thead>\n",
       "  <tbody>\n",
       "    <tr>\n",
       "      <th>8693</th>\n",
       "      <td>0013_01</td>\n",
       "      <td>True</td>\n",
       "    </tr>\n",
       "    <tr>\n",
       "      <th>8694</th>\n",
       "      <td>0018_01</td>\n",
       "      <td>False</td>\n",
       "    </tr>\n",
       "    <tr>\n",
       "      <th>8695</th>\n",
       "      <td>0019_01</td>\n",
       "      <td>True</td>\n",
       "    </tr>\n",
       "    <tr>\n",
       "      <th>8696</th>\n",
       "      <td>0021_01</td>\n",
       "      <td>True</td>\n",
       "    </tr>\n",
       "    <tr>\n",
       "      <th>8697</th>\n",
       "      <td>0023_01</td>\n",
       "      <td>True</td>\n",
       "    </tr>\n",
       "  </tbody>\n",
       "</table>\n",
       "</div>"
      ],
      "text/plain": [
       "     PassengerId  Transported\n",
       "8693     0013_01         True\n",
       "8694     0018_01        False\n",
       "8695     0019_01         True\n",
       "8696     0021_01         True\n",
       "8697     0023_01         True"
      ]
     },
     "execution_count": 43,
     "metadata": {},
     "output_type": "execute_result"
    }
   ],
   "source": [
    "submit_file.head()"
   ]
  },
  {
   "cell_type": "code",
   "execution_count": 44,
   "id": "c352d887",
   "metadata": {},
   "outputs": [],
   "source": [
    "submit_file.to_csv('submit_rf_817data.csv', index=False)"
   ]
  },
  {
   "cell_type": "markdown",
   "id": "ba3bf7d9",
   "metadata": {},
   "source": [
    "For this submission with file named \"submit_rf_large_gridsearch.csv\" I received a score of 0.80056 which is at position 656 out of 2374 submissions, which is around the 72nd percentile. \n",
    "\n",
    "I then changed the validation set split down from 25% to 5% and got a 0.80336 which moved me up to the 81st percentile. \n",
    "\n",
    "I then moved it down to 0.1% and got a score of 0.80219, which was a bit lower than the 5%. So that seems to be the best split. "
   ]
  },
  {
   "cell_type": "code",
   "execution_count": null,
   "id": "31d5f3cd",
   "metadata": {},
   "outputs": [],
   "source": []
  }
 ],
 "metadata": {
  "kernelspec": {
   "display_name": "Python 3 (ipykernel)",
   "language": "python",
   "name": "python3"
  },
  "language_info": {
   "codemirror_mode": {
    "name": "ipython",
    "version": 3
   },
   "file_extension": ".py",
   "mimetype": "text/x-python",
   "name": "python",
   "nbconvert_exporter": "python",
   "pygments_lexer": "ipython3",
   "version": "3.9.13"
  }
 },
 "nbformat": 4,
 "nbformat_minor": 5
}
