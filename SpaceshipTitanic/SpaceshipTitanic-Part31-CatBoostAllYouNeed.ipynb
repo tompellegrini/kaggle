{
 "cells": [
  {
   "cell_type": "code",
   "execution_count": 1,
   "id": "486ec6c0",
   "metadata": {
    "_cell_guid": "b1076dfc-b9ad-4769-8c92-a6c4dae69d19",
    "_uuid": "8f2839f25d086af736a60e9eeb907d3b93b6e0e5",
    "execution": {
     "iopub.execute_input": "2023-04-16T12:19:16.579373Z",
     "iopub.status.busy": "2023-04-16T12:19:16.578389Z",
     "iopub.status.idle": "2023-04-16T12:19:16.596949Z",
     "shell.execute_reply": "2023-04-16T12:19:16.595381Z"
    },
    "papermill": {
     "duration": 0.029404,
     "end_time": "2023-04-16T12:19:16.599969",
     "exception": false,
     "start_time": "2023-04-16T12:19:16.570565",
     "status": "completed"
    },
    "tags": []
   },
   "outputs": [],
   "source": [
    "# This Python 3 environment comes with many helpful analytics libraries installed\n",
    "# It is defined by the kaggle/python Docker image: https://github.com/kaggle/docker-python\n",
    "# For example, here's several helpful packages to load\n",
    "\n",
    "import numpy as np # linear algebra\n",
    "import pandas as pd # data processing, CSV file I/O (e.g. pd.read_csv)\n",
    "\n",
    "# Input data files are available in the read-only \"../input/\" directory\n",
    "# For example, running this (by clicking run or pressing Shift+Enter) will list all files under the input directory\n",
    "\n",
    "#import os\n",
    "#for dirname, _, filenames in os.walk('/kaggle/input'):\n",
    "#    for filename in filenames:\n",
    "#        print(os.path.join(dirname, filename))\n",
    "\n",
    "# You can write up to 20GB to the current directory (/kaggle/working/) that gets preserved as output when you create a version using \"Save & Run All\" \n",
    "# You can also write temporary files to /kaggle/temp/, but they won't be saved outside of the current session"
   ]
  },
  {
   "cell_type": "code",
   "execution_count": 2,
   "id": "c5bd5046",
   "metadata": {
    "execution": {
     "iopub.execute_input": "2023-04-16T12:19:16.611416Z",
     "iopub.status.busy": "2023-04-16T12:19:16.611004Z",
     "iopub.status.idle": "2023-04-16T12:19:16.726923Z",
     "shell.execute_reply": "2023-04-16T12:19:16.725592Z"
    },
    "papermill": {
     "duration": 0.12496,
     "end_time": "2023-04-16T12:19:16.729875",
     "exception": false,
     "start_time": "2023-04-16T12:19:16.604915",
     "status": "completed"
    },
    "tags": []
   },
   "outputs": [
    {
     "data": {
      "text/html": [
       "<div>\n",
       "<style scoped>\n",
       "    .dataframe tbody tr th:only-of-type {\n",
       "        vertical-align: middle;\n",
       "    }\n",
       "\n",
       "    .dataframe tbody tr th {\n",
       "        vertical-align: top;\n",
       "    }\n",
       "\n",
       "    .dataframe thead th {\n",
       "        text-align: right;\n",
       "    }\n",
       "</style>\n",
       "<table border=\"1\" class=\"dataframe\">\n",
       "  <thead>\n",
       "    <tr style=\"text-align: right;\">\n",
       "      <th></th>\n",
       "      <th>PassengerId</th>\n",
       "      <th>HomePlanet</th>\n",
       "      <th>CryoSleep</th>\n",
       "      <th>Cabin</th>\n",
       "      <th>Destination</th>\n",
       "      <th>Age</th>\n",
       "      <th>VIP</th>\n",
       "      <th>RoomService</th>\n",
       "      <th>FoodCourt</th>\n",
       "      <th>ShoppingMall</th>\n",
       "      <th>Spa</th>\n",
       "      <th>VRDeck</th>\n",
       "      <th>Name</th>\n",
       "      <th>Transported</th>\n",
       "    </tr>\n",
       "  </thead>\n",
       "  <tbody>\n",
       "    <tr>\n",
       "      <th>0</th>\n",
       "      <td>0001_01</td>\n",
       "      <td>Europa</td>\n",
       "      <td>False</td>\n",
       "      <td>B/0/P</td>\n",
       "      <td>TRAPPIST-1e</td>\n",
       "      <td>39.0</td>\n",
       "      <td>False</td>\n",
       "      <td>0.0</td>\n",
       "      <td>0.0</td>\n",
       "      <td>0.0</td>\n",
       "      <td>0.0</td>\n",
       "      <td>0.0</td>\n",
       "      <td>Maham Ofracculy</td>\n",
       "      <td>False</td>\n",
       "    </tr>\n",
       "    <tr>\n",
       "      <th>1</th>\n",
       "      <td>0002_01</td>\n",
       "      <td>Earth</td>\n",
       "      <td>False</td>\n",
       "      <td>F/0/S</td>\n",
       "      <td>TRAPPIST-1e</td>\n",
       "      <td>24.0</td>\n",
       "      <td>False</td>\n",
       "      <td>109.0</td>\n",
       "      <td>9.0</td>\n",
       "      <td>25.0</td>\n",
       "      <td>549.0</td>\n",
       "      <td>44.0</td>\n",
       "      <td>Juanna Vines</td>\n",
       "      <td>True</td>\n",
       "    </tr>\n",
       "    <tr>\n",
       "      <th>2</th>\n",
       "      <td>0003_01</td>\n",
       "      <td>Europa</td>\n",
       "      <td>False</td>\n",
       "      <td>A/0/S</td>\n",
       "      <td>TRAPPIST-1e</td>\n",
       "      <td>58.0</td>\n",
       "      <td>True</td>\n",
       "      <td>43.0</td>\n",
       "      <td>3576.0</td>\n",
       "      <td>0.0</td>\n",
       "      <td>6715.0</td>\n",
       "      <td>49.0</td>\n",
       "      <td>Altark Susent</td>\n",
       "      <td>False</td>\n",
       "    </tr>\n",
       "    <tr>\n",
       "      <th>3</th>\n",
       "      <td>0003_02</td>\n",
       "      <td>Europa</td>\n",
       "      <td>False</td>\n",
       "      <td>A/0/S</td>\n",
       "      <td>TRAPPIST-1e</td>\n",
       "      <td>33.0</td>\n",
       "      <td>False</td>\n",
       "      <td>0.0</td>\n",
       "      <td>1283.0</td>\n",
       "      <td>371.0</td>\n",
       "      <td>3329.0</td>\n",
       "      <td>193.0</td>\n",
       "      <td>Solam Susent</td>\n",
       "      <td>False</td>\n",
       "    </tr>\n",
       "    <tr>\n",
       "      <th>4</th>\n",
       "      <td>0004_01</td>\n",
       "      <td>Earth</td>\n",
       "      <td>False</td>\n",
       "      <td>F/1/S</td>\n",
       "      <td>TRAPPIST-1e</td>\n",
       "      <td>16.0</td>\n",
       "      <td>False</td>\n",
       "      <td>303.0</td>\n",
       "      <td>70.0</td>\n",
       "      <td>151.0</td>\n",
       "      <td>565.0</td>\n",
       "      <td>2.0</td>\n",
       "      <td>Willy Santantines</td>\n",
       "      <td>True</td>\n",
       "    </tr>\n",
       "  </tbody>\n",
       "</table>\n",
       "</div>"
      ],
      "text/plain": [
       "  PassengerId HomePlanet CryoSleep  Cabin  Destination   Age    VIP  \\\n",
       "0     0001_01     Europa     False  B/0/P  TRAPPIST-1e  39.0  False   \n",
       "1     0002_01      Earth     False  F/0/S  TRAPPIST-1e  24.0  False   \n",
       "2     0003_01     Europa     False  A/0/S  TRAPPIST-1e  58.0   True   \n",
       "3     0003_02     Europa     False  A/0/S  TRAPPIST-1e  33.0  False   \n",
       "4     0004_01      Earth     False  F/1/S  TRAPPIST-1e  16.0  False   \n",
       "\n",
       "   RoomService  FoodCourt  ShoppingMall     Spa  VRDeck               Name  \\\n",
       "0          0.0        0.0           0.0     0.0     0.0    Maham Ofracculy   \n",
       "1        109.0        9.0          25.0   549.0    44.0       Juanna Vines   \n",
       "2         43.0     3576.0           0.0  6715.0    49.0      Altark Susent   \n",
       "3          0.0     1283.0         371.0  3329.0   193.0       Solam Susent   \n",
       "4        303.0       70.0         151.0   565.0     2.0  Willy Santantines   \n",
       "\n",
       "   Transported  \n",
       "0        False  \n",
       "1         True  \n",
       "2        False  \n",
       "3        False  \n",
       "4         True  "
      ]
     },
     "execution_count": 2,
     "metadata": {},
     "output_type": "execute_result"
    }
   ],
   "source": [
    "train_data = pd.read_csv(\"train.csv\")\n",
    "test_data = pd.read_csv(\"test.csv\")\n",
    "train_data.head()"
   ]
  },
  {
   "cell_type": "markdown",
   "id": "4107e06d",
   "metadata": {
    "papermill": {
     "duration": 0.004571,
     "end_time": "2023-04-16T12:19:16.739551",
     "exception": false,
     "start_time": "2023-04-16T12:19:16.734980",
     "status": "completed"
    },
    "tags": []
   },
   "source": [
    "# NOTE: \n",
    "**This code represents only a fraction of what I tried to get the best possible results. I recommend that you try other models, features, ideas to get an even better result**"
   ]
  },
  {
   "cell_type": "markdown",
   "id": "15ba806b",
   "metadata": {
    "papermill": {
     "duration": 0.004476,
     "end_time": "2023-04-16T12:19:16.748890",
     "exception": false,
     "start_time": "2023-04-16T12:19:16.744414",
     "status": "completed"
    },
    "tags": []
   },
   "source": [
    "# Exploratory data analysis(EDA)"
   ]
  },
  {
   "cell_type": "code",
   "execution_count": 3,
   "id": "0ff5f728",
   "metadata": {
    "execution": {
     "iopub.execute_input": "2023-04-16T12:19:16.760526Z",
     "iopub.status.busy": "2023-04-16T12:19:16.760061Z",
     "iopub.status.idle": "2023-04-16T12:19:16.774805Z",
     "shell.execute_reply": "2023-04-16T12:19:16.773553Z"
    },
    "papermill": {
     "duration": 0.023651,
     "end_time": "2023-04-16T12:19:16.777388",
     "exception": false,
     "start_time": "2023-04-16T12:19:16.753737",
     "status": "completed"
    },
    "tags": []
   },
   "outputs": [
    {
     "data": {
      "text/plain": [
       "PassengerId       0\n",
       "HomePlanet      201\n",
       "CryoSleep       217\n",
       "Cabin           199\n",
       "Destination     182\n",
       "Age             179\n",
       "VIP             203\n",
       "RoomService     181\n",
       "FoodCourt       183\n",
       "ShoppingMall    208\n",
       "Spa             183\n",
       "VRDeck          188\n",
       "Name            200\n",
       "Transported       0\n",
       "dtype: int64"
      ]
     },
     "execution_count": 3,
     "metadata": {},
     "output_type": "execute_result"
    }
   ],
   "source": [
    "train_data.isnull().sum()"
   ]
  },
  {
   "cell_type": "markdown",
   "id": "5862d292",
   "metadata": {
    "papermill": {
     "duration": 0.004642,
     "end_time": "2023-04-16T12:19:16.786973",
     "exception": false,
     "start_time": "2023-04-16T12:19:16.782331",
     "status": "completed"
    },
    "tags": []
   },
   "source": [
    "ProfileReport - \"The pandas_profiling library in Python include a method named as ProfileReport() which generate a basic report on the input DataFrame.\""
   ]
  },
  {
   "cell_type": "code",
   "execution_count": 4,
   "id": "274e002c",
   "metadata": {
    "execution": {
     "iopub.execute_input": "2023-04-16T12:19:16.799934Z",
     "iopub.status.busy": "2023-04-16T12:19:16.799283Z",
     "iopub.status.idle": "2023-04-16T12:19:16.803300Z",
     "shell.execute_reply": "2023-04-16T12:19:16.802385Z"
    },
    "papermill": {
     "duration": 0.01357,
     "end_time": "2023-04-16T12:19:16.805555",
     "exception": false,
     "start_time": "2023-04-16T12:19:16.791985",
     "status": "completed"
    },
    "tags": []
   },
   "outputs": [],
   "source": [
    "\n",
    "\n",
    "#CODE BELOW MAKES AUTOMATED REPORT WITH GRAPHS, I RECOMEND IT\n",
    "\n",
    "\n",
    "# from pandas_profiling import ProfileReport\n",
    "# train_profile = ProfileReport(train_data)\n",
    "# train_profile"
   ]
  },
  {
   "cell_type": "markdown",
   "id": "fb98fbd6",
   "metadata": {
    "papermill": {
     "duration": 0.004598,
     "end_time": "2023-04-16T12:19:16.815140",
     "exception": false,
     "start_time": "2023-04-16T12:19:16.810542",
     "status": "completed"
    },
    "tags": []
   },
   "source": [
    "KNNImputer - \"Imputation for completing missing values using k-Nearest Neighbors.\n",
    "Each sample’s missing values are imputed using the mean value from n_neighbors nearest neighbors found in the training set. Two samples are close if the features that neither is missing are close.\""
   ]
  },
  {
   "cell_type": "code",
   "execution_count": 4,
   "id": "d7e4d5ea",
   "metadata": {
    "execution": {
     "iopub.execute_input": "2023-04-16T12:19:16.827447Z",
     "iopub.status.busy": "2023-04-16T12:19:16.826822Z",
     "iopub.status.idle": "2023-04-16T12:19:19.431705Z",
     "shell.execute_reply": "2023-04-16T12:19:19.430337Z"
    },
    "papermill": {
     "duration": 2.614657,
     "end_time": "2023-04-16T12:19:19.434626",
     "exception": false,
     "start_time": "2023-04-16T12:19:16.819969",
     "status": "completed"
    },
    "tags": []
   },
   "outputs": [],
   "source": [
    "from sklearn.impute import KNNImputer\n",
    "\n",
    "train_data['Transported'] = train_data['Transported']*1\n",
    "train_data['CryoSleep'] = train_data['CryoSleep']*1\n",
    "test_data['CryoSleep'] = test_data['CryoSleep']*1\n",
    "\n",
    "imputer = KNNImputer(n_neighbors=2, weights=\"uniform\")\n",
    "\n",
    "\n",
    "train_data[[\"Deck\", \"Num\", \"Side\"]] = train_data[\"Cabin\"].str.split(\"/\", expand=True)\n",
    "train_data[['Age', 'RoomService', 'FoodCourt', 'ShoppingMall', 'Spa', 'VRDeck', 'CryoSleep', 'Num']] = imputer.fit_transform(train_data[['Age', 'RoomService', 'FoodCourt', 'ShoppingMall', 'Spa', 'VRDeck', 'CryoSleep', 'Num']])\n",
    "\n",
    "\n",
    "\n",
    "test_data[[\"Deck\", \"Num\", \"Side\"]] = test_data[\"Cabin\"].str.split(\"/\", expand=True)\n",
    "test_data[['Age', 'RoomService', 'FoodCourt', 'ShoppingMall', 'Spa', 'VRDeck', 'CryoSleep', 'Num']] = imputer.fit_transform(test_data[['Age', 'RoomService', 'FoodCourt', 'ShoppingMall', 'Spa', 'VRDeck', 'CryoSleep', 'Num']])\n",
    "\n",
    "\n",
    "train_data['HomePlanet'].fillna(\"Earth\", inplace=True)\n",
    "train_data['Destination'].fillna(\"TRAPPIST-1e\", inplace=True)\n",
    "train_data['Deck'].fillna(\"F\", inplace=True)\n",
    "train_data['Side'].fillna(\"P\", inplace=True)\n",
    "\n",
    "\n",
    "\n",
    "test_data['HomePlanet'].fillna(\"Earth\", inplace=True)\n",
    "test_data['Destination'].fillna(\"TRAPPIST-1e\", inplace=True)\n",
    "test_data['Deck'].fillna(\"F\", inplace=True)\n",
    "test_data['Side'].fillna(\"P\", inplace=True)"
   ]
  },
  {
   "cell_type": "markdown",
   "id": "0443f77e",
   "metadata": {
    "papermill": {
     "duration": 0.004734,
     "end_time": "2023-04-16T12:19:19.444976",
     "exception": false,
     "start_time": "2023-04-16T12:19:19.440242",
     "status": "completed"
    },
    "tags": []
   },
   "source": [
    "LabelEncoder - \"Encode target labels with value between 0 and n_classes-1.\""
   ]
  },
  {
   "cell_type": "code",
   "execution_count": 5,
   "id": "0db540e9",
   "metadata": {
    "execution": {
     "iopub.execute_input": "2023-04-16T12:19:19.457783Z",
     "iopub.status.busy": "2023-04-16T12:19:19.457071Z",
     "iopub.status.idle": "2023-04-16T12:19:19.477635Z",
     "shell.execute_reply": "2023-04-16T12:19:19.476666Z"
    },
    "papermill": {
     "duration": 0.030188,
     "end_time": "2023-04-16T12:19:19.480219",
     "exception": false,
     "start_time": "2023-04-16T12:19:19.450031",
     "status": "completed"
    },
    "tags": []
   },
   "outputs": [],
   "source": [
    "from sklearn.preprocessing import LabelEncoder\n",
    "le = LabelEncoder()\n",
    "train_data[\"Deck\"]= le.fit_transform(train_data[\"Deck\"])\n",
    "\n",
    "le = LabelEncoder()\n",
    "train_data[\"Num\"]= le.fit_transform(train_data[\"Num\"])\n",
    "\n",
    "le = LabelEncoder()\n",
    "train_data[\"Side\"]= le.fit_transform(train_data[\"Side\"])\n",
    "\n",
    "le = LabelEncoder()\n",
    "test_data[\"Deck\"]= le.fit_transform(test_data[\"Deck\"])\n",
    "\n",
    "le = LabelEncoder()\n",
    "test_data[\"Num\"]= le.fit_transform(test_data[\"Num\"])\n",
    "\n",
    "le = LabelEncoder()\n",
    "test_data[\"Side\"]= le.fit_transform(test_data[\"Side\"])"
   ]
  },
  {
   "cell_type": "markdown",
   "id": "e4281bdb",
   "metadata": {
    "papermill": {
     "duration": 0.004582,
     "end_time": "2023-04-16T12:19:19.489779",
     "exception": false,
     "start_time": "2023-04-16T12:19:19.485197",
     "status": "completed"
    },
    "tags": []
   },
   "source": [
    "Make new feature called \"AllSpending\" "
   ]
  },
  {
   "cell_type": "code",
   "execution_count": 6,
   "id": "0e6a175f",
   "metadata": {
    "execution": {
     "iopub.execute_input": "2023-04-16T12:19:19.502158Z",
     "iopub.status.busy": "2023-04-16T12:19:19.501454Z",
     "iopub.status.idle": "2023-04-16T12:19:19.512226Z",
     "shell.execute_reply": "2023-04-16T12:19:19.510942Z"
    },
    "papermill": {
     "duration": 0.02036,
     "end_time": "2023-04-16T12:19:19.515053",
     "exception": false,
     "start_time": "2023-04-16T12:19:19.494693",
     "status": "completed"
    },
    "tags": []
   },
   "outputs": [],
   "source": [
    "train_data['AllSpending'] = train_data['RoomService'] + train_data['ShoppingMall'] + train_data['FoodCourt'] + train_data['Spa'] + train_data['VRDeck']\n",
    "test_data['AllSpending'] = test_data['AllShop'] = test_data['RoomService'] + test_data['ShoppingMall'] + test_data['FoodCourt'] + test_data['Spa'] + test_data['VRDeck']"
   ]
  },
  {
   "cell_type": "markdown",
   "id": "0f949066",
   "metadata": {
    "papermill": {
     "duration": 0.004596,
     "end_time": "2023-04-16T12:19:19.524814",
     "exception": false,
     "start_time": "2023-04-16T12:19:19.520218",
     "status": "completed"
    },
    "tags": []
   },
   "source": [
    "# Feature selection, scaling"
   ]
  },
  {
   "cell_type": "code",
   "execution_count": 7,
   "id": "d039b9ed",
   "metadata": {
    "execution": {
     "iopub.execute_input": "2023-04-16T12:19:19.536716Z",
     "iopub.status.busy": "2023-04-16T12:19:19.536151Z",
     "iopub.status.idle": "2023-04-16T12:19:19.567101Z",
     "shell.execute_reply": "2023-04-16T12:19:19.565837Z"
    },
    "papermill": {
     "duration": 0.040524,
     "end_time": "2023-04-16T12:19:19.570275",
     "exception": false,
     "start_time": "2023-04-16T12:19:19.529751",
     "status": "completed"
    },
    "tags": []
   },
   "outputs": [],
   "source": [
    "from sklearn.preprocessing import StandardScaler\n",
    "\n",
    "y = train_data[\"Transported\"]\n",
    "\n",
    "\n",
    "features = [\"CryoSleep\",\"RoomService\",\"Spa\",\"VRDeck\",\"Deck\",\"Side\",\"AllSpending\"]\n",
    "\n",
    "cols_to_normalize = [\"RoomService\",\"Spa\",\"VRDeck\",\"AllSpending\"]\n",
    "scaler = StandardScaler()\n",
    "\n",
    "train_data[cols_to_normalize ] = scaler.fit_transform(train_data[cols_to_normalize ])\n",
    "test_data[cols_to_normalize ] = scaler.transform(test_data[cols_to_normalize ])\n",
    "\n",
    "X = pd.get_dummies(train_data[features])\n",
    "X_test = pd.get_dummies(test_data[features])"
   ]
  },
  {
   "cell_type": "markdown",
   "id": "66a5c0a2",
   "metadata": {},
   "source": [
    "To use optuna to get the find the most optimal parameters."
   ]
  },
  {
   "cell_type": "code",
   "execution_count": 10,
   "id": "0fe00676",
   "metadata": {},
   "outputs": [],
   "source": [
    "'''def catboost_objective(trial):\n",
    "    #print(\"START__________________________________\")\n",
    "    param = {  \n",
    "        \n",
    "        \"objective\": trial.suggest_categorical(\"objective\", [\"Logloss\", \"CrossEntropy\"]),\n",
    "        \"colsample_bylevel\": trial.suggest_float(\"colsample_bylevel\", 0.01, 0.1),\n",
    "        \"depth\": trial.suggest_int(\"depth\", 1, 12),\n",
    "        \"boosting_type\": trial.suggest_categorical(\"boosting_type\", [\"Ordered\", \"Plain\"]),\n",
    "        \"bootstrap_type\": trial.suggest_categorical(\"bootstrap_type\", [\"Bayesian\", \"Bernoulli\", \"MVS\"])\n",
    "            }\n",
    "        \n",
    "\n",
    "    if param[\"bootstrap_type\"] == \"Bayesian\":\n",
    "        param[\"bagging_temperature\"] = trial.suggest_float(\"bagging_temperature\", 0, 10)\n",
    "    elif param[\"bootstrap_type\"] == \"Bernoulli\":\n",
    "        param[\"subsample\"] = trial.suggest_float(\"subsample\", 0.1, 1)\n",
    "        \n",
    "        \n",
    "    skf = StratifiedKFold(n_splits=4)\n",
    "    results=[]\n",
    "    n_iterations=[]\n",
    "    for train_index, test_index in skf.split(X, y):\n",
    "        train_X, valid_X = X.iloc[train_index], X.iloc[test_index]\n",
    "        train_y, valid_y = y.iloc[train_index], y.iloc[test_index]\n",
    "        model = cb.CatBoostClassifier(**param).fit(train_X,train_y, verbose=0)\n",
    "                                 \n",
    "        #n_iteration = model.get_booster().best_iteration\n",
    "        #n_iterations.append(n_iteration)\n",
    "        result = accuracy_score(valid_y,(model.predict(valid_X)))\n",
    "        results.append(result)\n",
    "        #i=int(sum(n_iterations)/len(n_iterations))\n",
    "   # print(\"Average n_ite=\" + str(i))\n",
    "   # print(\"% of scatter =\" + str(np.std(n_iterations)/i))    \n",
    "    n=sum(results)/len(results) \n",
    "    #print (n)\n",
    "    #print(\"FINISH__________________________________\\n\")\n",
    "    return n'''\n"
   ]
  },
  {
   "cell_type": "code",
   "execution_count": 16,
   "id": "7ab6eda8",
   "metadata": {},
   "outputs": [
    {
     "data": {
      "text/plain": [
       "\"import optuna\\nfrom sklearn.model_selection import StratifiedKFold\\nimport catboost as cb\\n\\nstudy_catboost = optuna.create_study(pruner=optuna.pruners.HyperbandPruner(),\\n                            direction='maximize')\\nstudy_catboost.optimize(catboost_objective, n_trials=1000)\\nprint('Number of finished trials:', len(study_catboost.trials))\\nprint('Best trial:', study_catboost.best_trial.params)\""
      ]
     },
     "execution_count": 16,
     "metadata": {},
     "output_type": "execute_result"
    }
   ],
   "source": [
    "'''import optuna\n",
    "from sklearn.model_selection import StratifiedKFold\n",
    "import catboost as cb\n",
    "\n",
    "study_catboost = optuna.create_study(pruner=optuna.pruners.HyperbandPruner(),\n",
    "                            direction='maximize')\n",
    "study_catboost.optimize(catboost_objective, n_trials=1000)\n",
    "print('Number of finished trials:', len(study_catboost.trials))\n",
    "print('Best trial:', study_catboost.best_trial.params)'''"
   ]
  },
  {
   "cell_type": "code",
   "execution_count": null,
   "id": "378e342a",
   "metadata": {},
   "outputs": [],
   "source": []
  },
  {
   "cell_type": "markdown",
   "id": "bed6cd2c",
   "metadata": {
    "papermill": {
     "duration": 0.004758,
     "end_time": "2023-04-16T12:19:19.580240",
     "exception": false,
     "start_time": "2023-04-16T12:19:19.575482",
     "status": "completed"
    },
    "tags": []
   },
   "source": [
    "# Model training"
   ]
  },
  {
   "cell_type": "code",
   "execution_count": 8,
   "id": "9692339f",
   "metadata": {
    "execution": {
     "iopub.execute_input": "2023-04-16T12:19:19.592398Z",
     "iopub.status.busy": "2023-04-16T12:19:19.591660Z",
     "iopub.status.idle": "2023-04-16T12:19:24.336148Z",
     "shell.execute_reply": "2023-04-16T12:19:24.334729Z"
    },
    "papermill": {
     "duration": 4.753749,
     "end_time": "2023-04-16T12:19:24.338946",
     "exception": false,
     "start_time": "2023-04-16T12:19:19.585197",
     "status": "completed"
    },
    "tags": []
   },
   "outputs": [
    {
     "name": "stdout",
     "output_type": "stream",
     "text": [
      "[[3444  871]\n",
      " [ 548 3830]]\n",
      "0.836765213390084\n",
      "Submission was successfully saved!\n"
     ]
    }
   ],
   "source": [
    "from catboost import CatBoostClassifier\n",
    "from sklearn.metrics import accuracy_score, confusion_matrix\n",
    "\n",
    "cat_model = CatBoostClassifier(verbose=0)\n",
    "cat_model.fit(X, y)\n",
    "\n",
    "y_pred = cat_model.predict(X)\n",
    "print(confusion_matrix(y, y_pred))\n",
    "asc=accuracy_score(y, y_pred)\n",
    "print(asc)\n",
    "predictions = cat_model.predict(X_test)\n",
    "\n",
    "output = pd.DataFrame({'PassengerId': test_data.PassengerId, 'Transported': predictions})\n",
    "output = output.replace({0: False, 1: True})\n",
    "\n",
    "output.to_csv('submit_catboost_simple.csv', index=False)\n",
    "print(\"Submission was successfully saved!\")"
   ]
  },
  {
   "cell_type": "markdown",
   "id": "6e500072",
   "metadata": {},
   "source": [
    "Initial Kaggle score matched origional notebook of 0.81038. "
   ]
  }
 ],
 "metadata": {
  "kernelspec": {
   "display_name": "Python 3 (ipykernel)",
   "language": "python",
   "name": "python3"
  },
  "language_info": {
   "codemirror_mode": {
    "name": "ipython",
    "version": 3
   },
   "file_extension": ".py",
   "mimetype": "text/x-python",
   "name": "python",
   "nbconvert_exporter": "python",
   "pygments_lexer": "ipython3",
   "version": "3.9.13"
  },
  "papermill": {
   "default_parameters": {},
   "duration": 19.443844,
   "end_time": "2023-04-16T12:19:25.168376",
   "environment_variables": {},
   "exception": null,
   "input_path": "__notebook__.ipynb",
   "output_path": "__notebook__.ipynb",
   "parameters": {},
   "start_time": "2023-04-16T12:19:05.724532",
   "version": "2.4.0"
  }
 },
 "nbformat": 4,
 "nbformat_minor": 5
}
