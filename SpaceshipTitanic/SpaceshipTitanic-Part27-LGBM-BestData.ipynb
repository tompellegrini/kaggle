{
 "cells": [
  {
   "cell_type": "markdown",
   "id": "f103cf7f",
   "metadata": {
    "papermill": {
     "duration": 0.017756,
     "end_time": "2022-12-24T17:07:01.162150",
     "exception": false,
     "start_time": "2022-12-24T17:07:01.144394",
     "status": "completed"
    },
    "tags": []
   },
   "source": [
    "## **##### 1.Importing necessary libraries**"
   ]
  },
  {
   "cell_type": "code",
   "execution_count": 1,
   "id": "07b9b659",
   "metadata": {
    "_cell_guid": "0cfe2334-113b-4f61-bb84-6b29ebe5cc7e",
    "_uuid": "8fd78f5e-805b-43bb-ac43-55254d27c773",
    "execution": {
     "iopub.execute_input": "2022-12-24T17:07:01.197106Z",
     "iopub.status.busy": "2022-12-24T17:07:01.196163Z",
     "iopub.status.idle": "2022-12-24T17:07:11.741336Z",
     "shell.execute_reply": "2022-12-24T17:07:11.740208Z"
    },
    "jupyter": {
     "outputs_hidden": false
    },
    "papermill": {
     "duration": 10.565736,
     "end_time": "2022-12-24T17:07:11.744253",
     "exception": false,
     "start_time": "2022-12-24T17:07:01.178517",
     "status": "completed"
    },
    "tags": []
   },
   "outputs": [],
   "source": [
    "from sklearn.impute import SimpleImputer\n",
    "from sklearn.preprocessing import OneHotEncoder\n",
    "from sklearn.metrics import mean_absolute_error\n",
    "import pandas as pd\n",
    "import numpy as np\n",
    "import base64\n",
    "import seaborn as sns\n",
    "import matplotlib.pyplot as plt\n",
    "import os\n",
    "import random\n",
    "import gc\n",
    "\n",
    "from sklearn.impute import SimpleImputer\n",
    "from sklearn.preprocessing import OneHotEncoder\n",
    "from sklearn.preprocessing import StandardScaler\n",
    "from sklearn.utils import shuffle\n",
    "from sklearn.model_selection import train_test_split\n",
    "from sklearn.utils import shuffle\n",
    "from sklearn.metrics import log_loss\n",
    "from sklearn.metrics import accuracy_score\n",
    "import optuna\n",
    "import xgboost as xgb\n",
    "from sklearn.ensemble import (RandomForestClassifier, AdaBoostClassifier, GradientBoostingClassifier, \n",
    "                              ExtraTreesClassifier, VotingClassifier)\n",
    "from sklearn.discriminant_analysis import LinearDiscriminantAnalysis\n",
    "from sklearn.linear_model import LogisticRegression\n",
    "from sklearn.neighbors import KNeighborsClassifier\n",
    "from sklearn.tree import DecisionTreeClassifier\n",
    "from sklearn.neural_network import MLPClassifier\n",
    "from catboost import CatBoostClassifier\n",
    "from sklearn.svm import SVC\n",
    "from sklearn import datasets, linear_model\n",
    "import lightgbm as lgb\n",
    "from sklearn.model_selection import cross_val_score\n",
    "from sklearn.model_selection import StratifiedKFold\n",
    "\n",
    "pd.set_option('display.max_columns', None)   \n",
    "\n",
    "from sklearn.model_selection import train_test_split\n",
    "from sklearn.ensemble import RandomForestClassifier\n",
    "import eli5\n",
    "from eli5.sklearn import PermutationImportance\n",
    "\n",
    "import lightgbm as lgbm\n",
    "from optuna.integration import LightGBMPruningCallback"
   ]
  },
  {
   "cell_type": "markdown",
   "id": "fc425a07",
   "metadata": {
    "papermill": {
     "duration": 0.016349,
     "end_time": "2022-12-24T17:07:11.777315",
     "exception": false,
     "start_time": "2022-12-24T17:07:11.760966",
     "status": "completed"
    },
    "tags": []
   },
   "source": [
    "## **##### 2.Loading datasets**"
   ]
  },
  {
   "cell_type": "code",
   "execution_count": 2,
   "id": "da459ecc",
   "metadata": {
    "_cell_guid": "aec5ba70-d2ee-4148-a962-ee07d5acb350",
    "_uuid": "8a40a6ab-5d88-458f-ba89-88887ab7387f",
    "execution": {
     "iopub.execute_input": "2022-12-24T17:07:11.813649Z",
     "iopub.status.busy": "2022-12-24T17:07:11.812776Z",
     "iopub.status.idle": "2022-12-24T17:07:11.899962Z",
     "shell.execute_reply": "2022-12-24T17:07:11.898872Z"
    },
    "jupyter": {
     "outputs_hidden": false
    },
    "papermill": {
     "duration": 0.10905,
     "end_time": "2022-12-24T17:07:11.903055",
     "exception": false,
     "start_time": "2022-12-24T17:07:11.794005",
     "status": "completed"
    },
    "tags": []
   },
   "outputs": [],
   "source": [
    "test = pd.read_csv('test.csv')\n",
    "sample = pd.read_csv('sample_submission.csv')\n",
    "train = pd.read_csv('train.csv')"
   ]
  },
  {
   "cell_type": "code",
   "execution_count": 3,
   "id": "e627f265",
   "metadata": {},
   "outputs": [],
   "source": [
    "train_test = pd.concat([train, test], ignore_index=True)"
   ]
  },
  {
   "cell_type": "code",
   "execution_count": 4,
   "id": "2b620d54",
   "metadata": {
    "_cell_guid": "2f78e892-9961-4846-ab4f-8bea9074e566",
    "_uuid": "eec7f859-db11-4e3a-a6c2-0d38e7a1b626",
    "execution": {
     "iopub.execute_input": "2022-12-24T17:07:14.251566Z",
     "iopub.status.busy": "2022-12-24T17:07:14.250676Z",
     "iopub.status.idle": "2022-12-24T17:07:14.255455Z",
     "shell.execute_reply": "2022-12-24T17:07:14.254683Z"
    },
    "jupyter": {
     "outputs_hidden": false
    },
    "papermill": {
     "duration": 0.027046,
     "end_time": "2022-12-24T17:07:14.257755",
     "exception": false,
     "start_time": "2022-12-24T17:07:14.230709",
     "status": "completed"
    },
    "tags": []
   },
   "outputs": [],
   "source": [
    "Expenses_columns = ['RoomService','FoodCourt','ShoppingMall','Spa','VRDeck']"
   ]
  },
  {
   "cell_type": "code",
   "execution_count": 5,
   "id": "a6eb68a0",
   "metadata": {
    "_cell_guid": "68a3af2d-f7ba-44a0-a854-9b0dd1fed38a",
    "_uuid": "f289b27f-cce7-4c8b-9736-cc6abe483d2b",
    "execution": {
     "iopub.execute_input": "2022-12-24T17:07:15.487642Z",
     "iopub.status.busy": "2022-12-24T17:07:15.487203Z",
     "iopub.status.idle": "2022-12-24T17:07:15.495063Z",
     "shell.execute_reply": "2022-12-24T17:07:15.494007Z"
    },
    "jupyter": {
     "outputs_hidden": false
    },
    "papermill": {
     "duration": 0.03007,
     "end_time": "2022-12-24T17:07:15.497306",
     "exception": false,
     "start_time": "2022-12-24T17:07:15.467236",
     "status": "completed"
    },
    "tags": []
   },
   "outputs": [],
   "source": [
    "train_test['Expenses'] = train_test.loc[:,Expenses_columns].sum(axis=1)"
   ]
  },
  {
   "cell_type": "code",
   "execution_count": 6,
   "id": "282d8fba",
   "metadata": {
    "_cell_guid": "255f9952-70b6-4e3d-adbc-834b3ce33889",
    "_uuid": "0020e5cc-fd11-4b7a-bbd6-e44d63417d05",
    "execution": {
     "iopub.execute_input": "2022-12-24T17:07:15.537250Z",
     "iopub.status.busy": "2022-12-24T17:07:15.536846Z",
     "iopub.status.idle": "2022-12-24T17:07:16.628615Z",
     "shell.execute_reply": "2022-12-24T17:07:16.627693Z"
    },
    "jupyter": {
     "outputs_hidden": false
    },
    "papermill": {
     "duration": 1.115324,
     "end_time": "2022-12-24T17:07:16.631274",
     "exception": false,
     "start_time": "2022-12-24T17:07:15.515950",
     "status": "completed"
    },
    "tags": []
   },
   "outputs": [],
   "source": [
    "train_test.loc[:,['CryoSleep']]=train_test.apply(lambda x: True if x.Expenses == 0 and pd.isna(x.CryoSleep) else x,axis =1)"
   ]
  },
  {
   "cell_type": "code",
   "execution_count": 7,
   "id": "44ec2971",
   "metadata": {},
   "outputs": [],
   "source": [
    "train_test.loc[:,['Group']] = train_test.PassengerId.apply(lambda x: x[0:4] )"
   ]
  },
  {
   "cell_type": "code",
   "execution_count": 8,
   "id": "1c9797d5",
   "metadata": {},
   "outputs": [],
   "source": [
    "train_test[['Deck', 'Number', 'Side']] = train_test['Cabin'].str.split('/', expand=True)"
   ]
  },
  {
   "cell_type": "code",
   "execution_count": 9,
   "id": "b8dfa47a",
   "metadata": {
    "execution": {
     "iopub.execute_input": "2022-12-24T17:07:25.597768Z",
     "iopub.status.busy": "2022-12-24T17:07:25.596989Z",
     "iopub.status.idle": "2022-12-24T17:07:25.651032Z",
     "shell.execute_reply": "2022-12-24T17:07:25.650088Z"
    },
    "papermill": {
     "duration": 0.080871,
     "end_time": "2022-12-24T17:07:25.653827",
     "exception": false,
     "start_time": "2022-12-24T17:07:25.572956",
     "status": "completed"
    },
    "tags": []
   },
   "outputs": [],
   "source": [
    "train_test.loc[:,['FirstName']] = train_test.Name.str.split(\" \",expand=True).iloc[:,0]\n",
    "train_test.loc[:,['SecondName']] = train_test.Name.str.split(\" \",expand=True).iloc[:,1]\n",
    "train_test['Name_key']=train_test['SecondName']+train_test['Group']"
   ]
  },
  {
   "cell_type": "code",
   "execution_count": 10,
   "id": "71669762",
   "metadata": {
    "_cell_guid": "2d7f8181-c940-4bc6-8383-9e94f4895cea",
    "_uuid": "d9b09e8d-ea2d-432d-a3e5-aa3ad0a2ace7",
    "execution": {
     "iopub.execute_input": "2022-12-24T17:07:25.746954Z",
     "iopub.status.busy": "2022-12-24T17:07:25.746578Z",
     "iopub.status.idle": "2022-12-24T17:07:25.821355Z",
     "shell.execute_reply": "2022-12-24T17:07:25.820400Z"
    },
    "jupyter": {
     "outputs_hidden": false
    },
    "papermill": {
     "duration": 0.101089,
     "end_time": "2022-12-24T17:07:25.823993",
     "exception": false,
     "start_time": "2022-12-24T17:07:25.722904",
     "status": "completed"
    },
    "tags": []
   },
   "outputs": [],
   "source": [
    "num_cols = ['ShoppingMall','FoodCourt','RoomService','Spa','VRDeck','Expenses','Age']\n",
    "cat_cols = ['CryoSleep','Deck','Side','VIP','HomePlanet','Destination']\n",
    "transported=['Transported']"
   ]
  },
  {
   "cell_type": "code",
   "execution_count": 11,
   "id": "297f2b36",
   "metadata": {},
   "outputs": [],
   "source": [
    "train_test = train_test[num_cols+cat_cols+transported].copy()"
   ]
  },
  {
   "cell_type": "code",
   "execution_count": 12,
   "id": "68ab0598",
   "metadata": {},
   "outputs": [],
   "source": [
    "num_imp = SimpleImputer(strategy='mean')\n",
    "cat_imp = SimpleImputer(strategy='most_frequent')"
   ]
  },
  {
   "cell_type": "code",
   "execution_count": 13,
   "id": "a59e18a5",
   "metadata": {},
   "outputs": [],
   "source": [
    "train_test[num_cols] = pd.DataFrame(num_imp.fit_transform(train_test[num_cols]),columns=num_cols)\n",
    "train_test[cat_cols] = pd.DataFrame(cat_imp.fit_transform(train_test[cat_cols]),columns=cat_cols)"
   ]
  },
  {
   "cell_type": "code",
   "execution_count": 14,
   "id": "aaaf760f",
   "metadata": {},
   "outputs": [],
   "source": [
    "ohe = OneHotEncoder (handle_unknown='ignore',sparse = False)"
   ]
  },
  {
   "cell_type": "code",
   "execution_count": 15,
   "id": "12f6667f",
   "metadata": {},
   "outputs": [],
   "source": [
    "temp_train = pd.DataFrame(ohe.fit_transform(train_test[cat_cols]),columns=ohe.get_feature_names_out())"
   ]
  },
  {
   "cell_type": "code",
   "execution_count": 16,
   "id": "256f4d24",
   "metadata": {},
   "outputs": [],
   "source": [
    "train_test = train_test.drop(cat_cols,axis=1)"
   ]
  },
  {
   "cell_type": "code",
   "execution_count": 17,
   "id": "f5dd8c63",
   "metadata": {},
   "outputs": [],
   "source": [
    "train_test = pd.concat([train_test,temp_train],axis=1)"
   ]
  },
  {
   "cell_type": "code",
   "execution_count": 18,
   "id": "0e85bdf8",
   "metadata": {},
   "outputs": [
    {
     "data": {
      "text/html": [
       "<div>\n",
       "<style scoped>\n",
       "    .dataframe tbody tr th:only-of-type {\n",
       "        vertical-align: middle;\n",
       "    }\n",
       "\n",
       "    .dataframe tbody tr th {\n",
       "        vertical-align: top;\n",
       "    }\n",
       "\n",
       "    .dataframe thead th {\n",
       "        text-align: right;\n",
       "    }\n",
       "</style>\n",
       "<table border=\"1\" class=\"dataframe\">\n",
       "  <thead>\n",
       "    <tr style=\"text-align: right;\">\n",
       "      <th></th>\n",
       "      <th>ShoppingMall</th>\n",
       "      <th>FoodCourt</th>\n",
       "      <th>RoomService</th>\n",
       "      <th>Spa</th>\n",
       "      <th>VRDeck</th>\n",
       "      <th>Expenses</th>\n",
       "      <th>Age</th>\n",
       "      <th>Transported</th>\n",
       "      <th>CryoSleep_False</th>\n",
       "      <th>CryoSleep_True</th>\n",
       "      <th>Deck_A</th>\n",
       "      <th>Deck_B</th>\n",
       "      <th>Deck_C</th>\n",
       "      <th>Deck_D</th>\n",
       "      <th>Deck_E</th>\n",
       "      <th>Deck_F</th>\n",
       "      <th>Deck_G</th>\n",
       "      <th>Deck_T</th>\n",
       "      <th>Side_P</th>\n",
       "      <th>Side_S</th>\n",
       "      <th>VIP_False</th>\n",
       "      <th>VIP_True</th>\n",
       "      <th>HomePlanet_Earth</th>\n",
       "      <th>HomePlanet_Europa</th>\n",
       "      <th>HomePlanet_Mars</th>\n",
       "      <th>Destination_55 Cancri e</th>\n",
       "      <th>Destination_PSO J318.5-22</th>\n",
       "      <th>Destination_TRAPPIST-1e</th>\n",
       "    </tr>\n",
       "  </thead>\n",
       "  <tbody>\n",
       "    <tr>\n",
       "      <th>0</th>\n",
       "      <td>0.0</td>\n",
       "      <td>0.0</td>\n",
       "      <td>0.0</td>\n",
       "      <td>0.0</td>\n",
       "      <td>0.0</td>\n",
       "      <td>0.0</td>\n",
       "      <td>39.000000</td>\n",
       "      <td>False</td>\n",
       "      <td>1.0</td>\n",
       "      <td>0.0</td>\n",
       "      <td>0.0</td>\n",
       "      <td>1.0</td>\n",
       "      <td>0.0</td>\n",
       "      <td>0.0</td>\n",
       "      <td>0.0</td>\n",
       "      <td>0.0</td>\n",
       "      <td>0.0</td>\n",
       "      <td>0.0</td>\n",
       "      <td>1.0</td>\n",
       "      <td>0.0</td>\n",
       "      <td>1.0</td>\n",
       "      <td>0.0</td>\n",
       "      <td>0.0</td>\n",
       "      <td>1.0</td>\n",
       "      <td>0.0</td>\n",
       "      <td>0.0</td>\n",
       "      <td>0.0</td>\n",
       "      <td>1.0</td>\n",
       "    </tr>\n",
       "    <tr>\n",
       "      <th>1</th>\n",
       "      <td>25.0</td>\n",
       "      <td>9.0</td>\n",
       "      <td>109.0</td>\n",
       "      <td>549.0</td>\n",
       "      <td>44.0</td>\n",
       "      <td>736.0</td>\n",
       "      <td>24.000000</td>\n",
       "      <td>True</td>\n",
       "      <td>1.0</td>\n",
       "      <td>0.0</td>\n",
       "      <td>0.0</td>\n",
       "      <td>0.0</td>\n",
       "      <td>0.0</td>\n",
       "      <td>0.0</td>\n",
       "      <td>0.0</td>\n",
       "      <td>1.0</td>\n",
       "      <td>0.0</td>\n",
       "      <td>0.0</td>\n",
       "      <td>0.0</td>\n",
       "      <td>1.0</td>\n",
       "      <td>1.0</td>\n",
       "      <td>0.0</td>\n",
       "      <td>1.0</td>\n",
       "      <td>0.0</td>\n",
       "      <td>0.0</td>\n",
       "      <td>0.0</td>\n",
       "      <td>0.0</td>\n",
       "      <td>1.0</td>\n",
       "    </tr>\n",
       "    <tr>\n",
       "      <th>2</th>\n",
       "      <td>0.0</td>\n",
       "      <td>3576.0</td>\n",
       "      <td>43.0</td>\n",
       "      <td>6715.0</td>\n",
       "      <td>49.0</td>\n",
       "      <td>10383.0</td>\n",
       "      <td>58.000000</td>\n",
       "      <td>False</td>\n",
       "      <td>1.0</td>\n",
       "      <td>0.0</td>\n",
       "      <td>1.0</td>\n",
       "      <td>0.0</td>\n",
       "      <td>0.0</td>\n",
       "      <td>0.0</td>\n",
       "      <td>0.0</td>\n",
       "      <td>0.0</td>\n",
       "      <td>0.0</td>\n",
       "      <td>0.0</td>\n",
       "      <td>0.0</td>\n",
       "      <td>1.0</td>\n",
       "      <td>0.0</td>\n",
       "      <td>1.0</td>\n",
       "      <td>0.0</td>\n",
       "      <td>1.0</td>\n",
       "      <td>0.0</td>\n",
       "      <td>0.0</td>\n",
       "      <td>0.0</td>\n",
       "      <td>1.0</td>\n",
       "    </tr>\n",
       "    <tr>\n",
       "      <th>3</th>\n",
       "      <td>371.0</td>\n",
       "      <td>1283.0</td>\n",
       "      <td>0.0</td>\n",
       "      <td>3329.0</td>\n",
       "      <td>193.0</td>\n",
       "      <td>5176.0</td>\n",
       "      <td>33.000000</td>\n",
       "      <td>False</td>\n",
       "      <td>1.0</td>\n",
       "      <td>0.0</td>\n",
       "      <td>1.0</td>\n",
       "      <td>0.0</td>\n",
       "      <td>0.0</td>\n",
       "      <td>0.0</td>\n",
       "      <td>0.0</td>\n",
       "      <td>0.0</td>\n",
       "      <td>0.0</td>\n",
       "      <td>0.0</td>\n",
       "      <td>0.0</td>\n",
       "      <td>1.0</td>\n",
       "      <td>1.0</td>\n",
       "      <td>0.0</td>\n",
       "      <td>0.0</td>\n",
       "      <td>1.0</td>\n",
       "      <td>0.0</td>\n",
       "      <td>0.0</td>\n",
       "      <td>0.0</td>\n",
       "      <td>1.0</td>\n",
       "    </tr>\n",
       "    <tr>\n",
       "      <th>4</th>\n",
       "      <td>151.0</td>\n",
       "      <td>70.0</td>\n",
       "      <td>303.0</td>\n",
       "      <td>565.0</td>\n",
       "      <td>2.0</td>\n",
       "      <td>1091.0</td>\n",
       "      <td>16.000000</td>\n",
       "      <td>True</td>\n",
       "      <td>1.0</td>\n",
       "      <td>0.0</td>\n",
       "      <td>0.0</td>\n",
       "      <td>0.0</td>\n",
       "      <td>0.0</td>\n",
       "      <td>0.0</td>\n",
       "      <td>0.0</td>\n",
       "      <td>1.0</td>\n",
       "      <td>0.0</td>\n",
       "      <td>0.0</td>\n",
       "      <td>0.0</td>\n",
       "      <td>1.0</td>\n",
       "      <td>1.0</td>\n",
       "      <td>0.0</td>\n",
       "      <td>1.0</td>\n",
       "      <td>0.0</td>\n",
       "      <td>0.0</td>\n",
       "      <td>0.0</td>\n",
       "      <td>0.0</td>\n",
       "      <td>1.0</td>\n",
       "    </tr>\n",
       "    <tr>\n",
       "      <th>...</th>\n",
       "      <td>...</td>\n",
       "      <td>...</td>\n",
       "      <td>...</td>\n",
       "      <td>...</td>\n",
       "      <td>...</td>\n",
       "      <td>...</td>\n",
       "      <td>...</td>\n",
       "      <td>...</td>\n",
       "      <td>...</td>\n",
       "      <td>...</td>\n",
       "      <td>...</td>\n",
       "      <td>...</td>\n",
       "      <td>...</td>\n",
       "      <td>...</td>\n",
       "      <td>...</td>\n",
       "      <td>...</td>\n",
       "      <td>...</td>\n",
       "      <td>...</td>\n",
       "      <td>...</td>\n",
       "      <td>...</td>\n",
       "      <td>...</td>\n",
       "      <td>...</td>\n",
       "      <td>...</td>\n",
       "      <td>...</td>\n",
       "      <td>...</td>\n",
       "      <td>...</td>\n",
       "      <td>...</td>\n",
       "      <td>...</td>\n",
       "    </tr>\n",
       "    <tr>\n",
       "      <th>12965</th>\n",
       "      <td>0.0</td>\n",
       "      <td>0.0</td>\n",
       "      <td>0.0</td>\n",
       "      <td>0.0</td>\n",
       "      <td>0.0</td>\n",
       "      <td>0.0</td>\n",
       "      <td>34.000000</td>\n",
       "      <td>NaN</td>\n",
       "      <td>0.0</td>\n",
       "      <td>1.0</td>\n",
       "      <td>0.0</td>\n",
       "      <td>0.0</td>\n",
       "      <td>0.0</td>\n",
       "      <td>0.0</td>\n",
       "      <td>0.0</td>\n",
       "      <td>0.0</td>\n",
       "      <td>1.0</td>\n",
       "      <td>0.0</td>\n",
       "      <td>0.0</td>\n",
       "      <td>1.0</td>\n",
       "      <td>1.0</td>\n",
       "      <td>0.0</td>\n",
       "      <td>1.0</td>\n",
       "      <td>0.0</td>\n",
       "      <td>0.0</td>\n",
       "      <td>0.0</td>\n",
       "      <td>0.0</td>\n",
       "      <td>1.0</td>\n",
       "    </tr>\n",
       "    <tr>\n",
       "      <th>12966</th>\n",
       "      <td>17.0</td>\n",
       "      <td>847.0</td>\n",
       "      <td>0.0</td>\n",
       "      <td>10.0</td>\n",
       "      <td>144.0</td>\n",
       "      <td>1018.0</td>\n",
       "      <td>42.000000</td>\n",
       "      <td>NaN</td>\n",
       "      <td>1.0</td>\n",
       "      <td>0.0</td>\n",
       "      <td>0.0</td>\n",
       "      <td>0.0</td>\n",
       "      <td>0.0</td>\n",
       "      <td>0.0</td>\n",
       "      <td>0.0</td>\n",
       "      <td>1.0</td>\n",
       "      <td>0.0</td>\n",
       "      <td>0.0</td>\n",
       "      <td>0.0</td>\n",
       "      <td>1.0</td>\n",
       "      <td>1.0</td>\n",
       "      <td>0.0</td>\n",
       "      <td>1.0</td>\n",
       "      <td>0.0</td>\n",
       "      <td>0.0</td>\n",
       "      <td>0.0</td>\n",
       "      <td>0.0</td>\n",
       "      <td>1.0</td>\n",
       "    </tr>\n",
       "    <tr>\n",
       "      <th>12967</th>\n",
       "      <td>0.0</td>\n",
       "      <td>0.0</td>\n",
       "      <td>0.0</td>\n",
       "      <td>0.0</td>\n",
       "      <td>0.0</td>\n",
       "      <td>0.0</td>\n",
       "      <td>28.771969</td>\n",
       "      <td>NaN</td>\n",
       "      <td>0.0</td>\n",
       "      <td>1.0</td>\n",
       "      <td>0.0</td>\n",
       "      <td>0.0</td>\n",
       "      <td>0.0</td>\n",
       "      <td>1.0</td>\n",
       "      <td>0.0</td>\n",
       "      <td>0.0</td>\n",
       "      <td>0.0</td>\n",
       "      <td>0.0</td>\n",
       "      <td>1.0</td>\n",
       "      <td>0.0</td>\n",
       "      <td>1.0</td>\n",
       "      <td>0.0</td>\n",
       "      <td>0.0</td>\n",
       "      <td>0.0</td>\n",
       "      <td>1.0</td>\n",
       "      <td>1.0</td>\n",
       "      <td>0.0</td>\n",
       "      <td>0.0</td>\n",
       "    </tr>\n",
       "    <tr>\n",
       "      <th>12968</th>\n",
       "      <td>0.0</td>\n",
       "      <td>2680.0</td>\n",
       "      <td>0.0</td>\n",
       "      <td>0.0</td>\n",
       "      <td>523.0</td>\n",
       "      <td>3203.0</td>\n",
       "      <td>28.771969</td>\n",
       "      <td>NaN</td>\n",
       "      <td>1.0</td>\n",
       "      <td>0.0</td>\n",
       "      <td>0.0</td>\n",
       "      <td>0.0</td>\n",
       "      <td>0.0</td>\n",
       "      <td>1.0</td>\n",
       "      <td>0.0</td>\n",
       "      <td>0.0</td>\n",
       "      <td>0.0</td>\n",
       "      <td>0.0</td>\n",
       "      <td>1.0</td>\n",
       "      <td>0.0</td>\n",
       "      <td>1.0</td>\n",
       "      <td>0.0</td>\n",
       "      <td>0.0</td>\n",
       "      <td>1.0</td>\n",
       "      <td>0.0</td>\n",
       "      <td>0.0</td>\n",
       "      <td>0.0</td>\n",
       "      <td>1.0</td>\n",
       "    </tr>\n",
       "    <tr>\n",
       "      <th>12969</th>\n",
       "      <td>0.0</td>\n",
       "      <td>0.0</td>\n",
       "      <td>0.0</td>\n",
       "      <td>0.0</td>\n",
       "      <td>0.0</td>\n",
       "      <td>0.0</td>\n",
       "      <td>43.000000</td>\n",
       "      <td>NaN</td>\n",
       "      <td>0.0</td>\n",
       "      <td>1.0</td>\n",
       "      <td>0.0</td>\n",
       "      <td>0.0</td>\n",
       "      <td>0.0</td>\n",
       "      <td>0.0</td>\n",
       "      <td>0.0</td>\n",
       "      <td>0.0</td>\n",
       "      <td>1.0</td>\n",
       "      <td>0.0</td>\n",
       "      <td>0.0</td>\n",
       "      <td>1.0</td>\n",
       "      <td>1.0</td>\n",
       "      <td>0.0</td>\n",
       "      <td>1.0</td>\n",
       "      <td>0.0</td>\n",
       "      <td>0.0</td>\n",
       "      <td>0.0</td>\n",
       "      <td>1.0</td>\n",
       "      <td>0.0</td>\n",
       "    </tr>\n",
       "  </tbody>\n",
       "</table>\n",
       "<p>12970 rows × 28 columns</p>\n",
       "</div>"
      ],
      "text/plain": [
       "       ShoppingMall  FoodCourt  RoomService     Spa  VRDeck  Expenses  \\\n",
       "0               0.0        0.0          0.0     0.0     0.0       0.0   \n",
       "1              25.0        9.0        109.0   549.0    44.0     736.0   \n",
       "2               0.0     3576.0         43.0  6715.0    49.0   10383.0   \n",
       "3             371.0     1283.0          0.0  3329.0   193.0    5176.0   \n",
       "4             151.0       70.0        303.0   565.0     2.0    1091.0   \n",
       "...             ...        ...          ...     ...     ...       ...   \n",
       "12965           0.0        0.0          0.0     0.0     0.0       0.0   \n",
       "12966          17.0      847.0          0.0    10.0   144.0    1018.0   \n",
       "12967           0.0        0.0          0.0     0.0     0.0       0.0   \n",
       "12968           0.0     2680.0          0.0     0.0   523.0    3203.0   \n",
       "12969           0.0        0.0          0.0     0.0     0.0       0.0   \n",
       "\n",
       "             Age Transported  CryoSleep_False  CryoSleep_True  Deck_A  Deck_B  \\\n",
       "0      39.000000       False              1.0             0.0     0.0     1.0   \n",
       "1      24.000000        True              1.0             0.0     0.0     0.0   \n",
       "2      58.000000       False              1.0             0.0     1.0     0.0   \n",
       "3      33.000000       False              1.0             0.0     1.0     0.0   \n",
       "4      16.000000        True              1.0             0.0     0.0     0.0   \n",
       "...          ...         ...              ...             ...     ...     ...   \n",
       "12965  34.000000         NaN              0.0             1.0     0.0     0.0   \n",
       "12966  42.000000         NaN              1.0             0.0     0.0     0.0   \n",
       "12967  28.771969         NaN              0.0             1.0     0.0     0.0   \n",
       "12968  28.771969         NaN              1.0             0.0     0.0     0.0   \n",
       "12969  43.000000         NaN              0.0             1.0     0.0     0.0   \n",
       "\n",
       "       Deck_C  Deck_D  Deck_E  Deck_F  Deck_G  Deck_T  Side_P  Side_S  \\\n",
       "0         0.0     0.0     0.0     0.0     0.0     0.0     1.0     0.0   \n",
       "1         0.0     0.0     0.0     1.0     0.0     0.0     0.0     1.0   \n",
       "2         0.0     0.0     0.0     0.0     0.0     0.0     0.0     1.0   \n",
       "3         0.0     0.0     0.0     0.0     0.0     0.0     0.0     1.0   \n",
       "4         0.0     0.0     0.0     1.0     0.0     0.0     0.0     1.0   \n",
       "...       ...     ...     ...     ...     ...     ...     ...     ...   \n",
       "12965     0.0     0.0     0.0     0.0     1.0     0.0     0.0     1.0   \n",
       "12966     0.0     0.0     0.0     1.0     0.0     0.0     0.0     1.0   \n",
       "12967     0.0     1.0     0.0     0.0     0.0     0.0     1.0     0.0   \n",
       "12968     0.0     1.0     0.0     0.0     0.0     0.0     1.0     0.0   \n",
       "12969     0.0     0.0     0.0     0.0     1.0     0.0     0.0     1.0   \n",
       "\n",
       "       VIP_False  VIP_True  HomePlanet_Earth  HomePlanet_Europa  \\\n",
       "0            1.0       0.0               0.0                1.0   \n",
       "1            1.0       0.0               1.0                0.0   \n",
       "2            0.0       1.0               0.0                1.0   \n",
       "3            1.0       0.0               0.0                1.0   \n",
       "4            1.0       0.0               1.0                0.0   \n",
       "...          ...       ...               ...                ...   \n",
       "12965        1.0       0.0               1.0                0.0   \n",
       "12966        1.0       0.0               1.0                0.0   \n",
       "12967        1.0       0.0               0.0                0.0   \n",
       "12968        1.0       0.0               0.0                1.0   \n",
       "12969        1.0       0.0               1.0                0.0   \n",
       "\n",
       "       HomePlanet_Mars  Destination_55 Cancri e  Destination_PSO J318.5-22  \\\n",
       "0                  0.0                      0.0                        0.0   \n",
       "1                  0.0                      0.0                        0.0   \n",
       "2                  0.0                      0.0                        0.0   \n",
       "3                  0.0                      0.0                        0.0   \n",
       "4                  0.0                      0.0                        0.0   \n",
       "...                ...                      ...                        ...   \n",
       "12965              0.0                      0.0                        0.0   \n",
       "12966              0.0                      0.0                        0.0   \n",
       "12967              1.0                      1.0                        0.0   \n",
       "12968              0.0                      0.0                        0.0   \n",
       "12969              0.0                      0.0                        1.0   \n",
       "\n",
       "       Destination_TRAPPIST-1e  \n",
       "0                          1.0  \n",
       "1                          1.0  \n",
       "2                          1.0  \n",
       "3                          1.0  \n",
       "4                          1.0  \n",
       "...                        ...  \n",
       "12965                      1.0  \n",
       "12966                      1.0  \n",
       "12967                      0.0  \n",
       "12968                      1.0  \n",
       "12969                      0.0  \n",
       "\n",
       "[12970 rows x 28 columns]"
      ]
     },
     "execution_count": 18,
     "metadata": {},
     "output_type": "execute_result"
    }
   ],
   "source": [
    "train_test"
   ]
  },
  {
   "cell_type": "code",
   "execution_count": 19,
   "id": "79fb5230",
   "metadata": {
    "_cell_guid": "b2ed8583-c551-43bc-95a9-a1c3c81b0f1b",
    "_uuid": "d9e24109-64ef-43d0-8f68-a5891772406c",
    "execution": {
     "iopub.execute_input": "2022-12-24T17:07:25.916438Z",
     "iopub.status.busy": "2022-12-24T17:07:25.916038Z",
     "iopub.status.idle": "2022-12-24T17:07:25.931363Z",
     "shell.execute_reply": "2022-12-24T17:07:25.930096Z"
    },
    "jupyter": {
     "outputs_hidden": false
    },
    "papermill": {
     "duration": 0.041293,
     "end_time": "2022-12-24T17:07:25.933613",
     "exception": false,
     "start_time": "2022-12-24T17:07:25.892320",
     "status": "completed"
    },
    "tags": []
   },
   "outputs": [],
   "source": [
    "train = train_test[train_test['Transported'].notnull()].copy()"
   ]
  },
  {
   "cell_type": "code",
   "execution_count": 20,
   "id": "770fc141",
   "metadata": {},
   "outputs": [],
   "source": [
    "train.Transported =train.Transported.astype('int')"
   ]
  },
  {
   "cell_type": "code",
   "execution_count": 21,
   "id": "474ec512",
   "metadata": {},
   "outputs": [],
   "source": [
    "test = train_test[train_test['Transported'].isnull()].drop(\"Transported\",axis=1)"
   ]
  },
  {
   "cell_type": "code",
   "execution_count": 22,
   "id": "80738b34",
   "metadata": {
    "execution": {
     "iopub.execute_input": "2022-12-24T17:07:25.980786Z",
     "iopub.status.busy": "2022-12-24T17:07:25.980368Z",
     "iopub.status.idle": "2022-12-24T17:07:25.987011Z",
     "shell.execute_reply": "2022-12-24T17:07:25.985927Z"
    },
    "papermill": {
     "duration": 0.03309,
     "end_time": "2022-12-24T17:07:25.989218",
     "exception": false,
     "start_time": "2022-12-24T17:07:25.956128",
     "status": "completed"
    },
    "tags": []
   },
   "outputs": [],
   "source": [
    "X = train.drop('Transported',axis=1)\n",
    "y = train.Transported"
   ]
  },
  {
   "cell_type": "code",
   "execution_count": 23,
   "id": "f5975cfb",
   "metadata": {},
   "outputs": [],
   "source": [
    "drop_list=['ShoppingMall','Age','CryoSleep_True','HomePlanet_Earth','HomePlanet_Europa',\n",
    "'VIP_True','HomePlanet_Mars','Destination_PSO J318.5-22','VIP_False',\n",
    "'Destination_55 Cancri e','FoodCourt','Destination_TRAPPIST-1e']"
   ]
  },
  {
   "cell_type": "code",
   "execution_count": 24,
   "id": "ea0b659c",
   "metadata": {},
   "outputs": [],
   "source": [
    "X=X.drop(drop_list,axis=1)\n",
    "test=test.drop(drop_list,axis=1)"
   ]
  },
  {
   "cell_type": "code",
   "execution_count": 34,
   "id": "495a549b",
   "metadata": {},
   "outputs": [],
   "source": [
    "'''def lgbm_objective(trial):\n",
    "    #print(\"START__________________________________\")\n",
    "    param = {  \n",
    "        \n",
    "        \"n_estimators\": trial.suggest_categorical(\"n_estimators\", [10000]),\n",
    "        \"learning_rate\": trial.suggest_float(\"learning_rate\", 0.01, 0.3),\n",
    "        \"num_leaves\": trial.suggest_int(\"num_leaves\", 20, 3000, step=20),\n",
    "        \"max_depth\": trial.suggest_int(\"max_depth\", 3, 12),\n",
    "        \"min_data_in_leaf\": trial.suggest_int(\"min_data_in_leaf\", 100, 10000, step=100),\n",
    "        \"lambda_l1\": trial.suggest_int(\"lambda_l1\", 5, 100, step=5),\n",
    "        \"lambda_l2\": trial.suggest_int(\"lambda_l2\", 5, 100, step=5),\n",
    "        \"min_gain_to_split\": trial.suggest_float(\"min_gain_to_split\", 0.5, 15),\n",
    "        \"bagging_fraction\": trial.suggest_float(\"bagging_fraction\", 0.2, 0.95),\n",
    "        \"bagging_freq\": trial.suggest_categorical(\"bagging_freq\", [1]),\n",
    "        \"feature_fraction\": trial.suggest_float(\"feature_fraction\", 0.2, 0.95),\n",
    "    }\n",
    "        \n",
    "     \n",
    "    skf = StratifiedKFold(n_splits=4)\n",
    "    results=[]\n",
    "    n_iterations=[]\n",
    "    for train_index, test_index in skf.split(X, y):\n",
    "        train_X, valid_X = X.iloc[train_index], X.iloc[test_index]\n",
    "        train_y, valid_y = y.iloc[train_index], y.iloc[test_index]\n",
    "        model = lgbm.LGBMClassifier(**param).fit(train_X,train_y, verbose=0)\n",
    "                                 \n",
    "        #n_iteration = model.get_booster().best_iteration\n",
    "        #n_iterations.append(n_iteration)\n",
    "        result = accuracy_score(valid_y,(model.predict(valid_X)))\n",
    "        results.append(result)\n",
    "        #i=int(sum(n_iterations)/len(n_iterations))\n",
    "   # print(\"Average n_ite=\" + str(i))\n",
    "   # print(\"% of scatter =\" + str(np.std(n_iterations)/i))    \n",
    "    n=sum(results)/len(results) \n",
    "    #print (n)\n",
    "    #print(\"FINISH__________________________________\\n\")\n",
    "    return n'''\n"
   ]
  },
  {
   "cell_type": "code",
   "execution_count": 91,
   "id": "156740e6",
   "metadata": {},
   "outputs": [],
   "source": [
    "#study_lgbm = optuna.create_study(pruner=optuna.pruners.HyperbandPruner(),\n",
    "#                            direction='maximize')\n",
    "#study_lgbm.optimize(lgbm_objective, n_trials=1000)\n",
    "#print('Number of finished trials:', len(study_lgbm.trials))\n",
    "#print('Best trial:', study_lgbm.best_trial.params)"
   ]
  },
  {
   "cell_type": "markdown",
   "id": "95952f84",
   "metadata": {},
   "source": [
    "Trial 231 finished with value: 0.80099090790165 and parameters: {'n_estimators': 10000, 'learning_rate': 0.1884447278780494, 'num_leaves': 2080, 'max_depth': 11, 'min_data_in_leaf': 100, 'lambda_l1': 5, 'lambda_l2': 20, 'min_gain_to_split': 0.500091629779335, 'bagging_fraction': 0.8291007330402973, 'bagging_freq': 1, 'feature_fraction': 0.6252699183719049}. Best is trial 231 with value: 0.80099090790165."
   ]
  },
  {
   "cell_type": "code",
   "execution_count": 25,
   "id": "a1fcf77d",
   "metadata": {},
   "outputs": [],
   "source": [
    "# Optuna model\n",
    "lgbm_model = lgbm.LGBMClassifier(learning_rate=0.188447278, \n",
    "                                 n_estimators=10000,\n",
    "                                 num_leaves=2080,\n",
    "                                 min_data_in_leaf=100,\n",
    "                                 lambda_l1=5,\n",
    "                                 lambda_l2=20,\n",
    "                                 max_depth=11,\n",
    "                                 min_gain_to_split=0.50009162978,\n",
    "                                 bagging_fraction=0.829100733,\n",
    "                                 bagging_freq=1,\n",
    "                                 feature_fraction=0.6252699)"
   ]
  },
  {
   "cell_type": "code",
   "execution_count": 26,
   "id": "a06fc633",
   "metadata": {},
   "outputs": [],
   "source": [
    "X,y = shuffle(X,y, random_state=42)\n",
    "X = X.reset_index(drop=True)\n",
    "y = y.reset_index(drop=True)"
   ]
  },
  {
   "cell_type": "code",
   "execution_count": 27,
   "id": "5f0247cd",
   "metadata": {},
   "outputs": [],
   "source": [
    "def get_score(model,X,y):\n",
    "    n = cross_val_score(model,X,y,scoring ='accuracy',cv=20)\n",
    "    return n"
   ]
  },
  {
   "cell_type": "code",
   "execution_count": 28,
   "id": "5dfe09ff",
   "metadata": {},
   "outputs": [
    {
     "name": "stdout",
     "output_type": "stream",
     "text": [
      "[LightGBM] [Warning] feature_fraction is set=0.6252699, colsample_bytree=1.0 will be ignored. Current value: feature_fraction=0.6252699\n",
      "[LightGBM] [Warning] min_data_in_leaf is set=100, min_child_samples=20 will be ignored. Current value: min_data_in_leaf=100\n",
      "[LightGBM] [Warning] min_gain_to_split is set=0.50009162978, min_split_gain=0.0 will be ignored. Current value: min_gain_to_split=0.50009162978\n",
      "[LightGBM] [Warning] lambda_l1 is set=5, reg_alpha=0.0 will be ignored. Current value: lambda_l1=5\n",
      "[LightGBM] [Warning] bagging_fraction is set=0.829100733, subsample=1.0 will be ignored. Current value: bagging_fraction=0.829100733\n",
      "[LightGBM] [Warning] lambda_l2 is set=20, reg_lambda=0.0 will be ignored. Current value: lambda_l2=20\n",
      "[LightGBM] [Warning] bagging_freq is set=1, subsample_freq=0 will be ignored. Current value: bagging_freq=1\n",
      "[LightGBM] [Warning] feature_fraction is set=0.6252699, colsample_bytree=1.0 will be ignored. Current value: feature_fraction=0.6252699\n",
      "[LightGBM] [Warning] min_data_in_leaf is set=100, min_child_samples=20 will be ignored. Current value: min_data_in_leaf=100\n",
      "[LightGBM] [Warning] min_gain_to_split is set=0.50009162978, min_split_gain=0.0 will be ignored. Current value: min_gain_to_split=0.50009162978\n",
      "[LightGBM] [Warning] lambda_l1 is set=5, reg_alpha=0.0 will be ignored. Current value: lambda_l1=5\n",
      "[LightGBM] [Warning] bagging_fraction is set=0.829100733, subsample=1.0 will be ignored. Current value: bagging_fraction=0.829100733\n",
      "[LightGBM] [Warning] lambda_l2 is set=20, reg_lambda=0.0 will be ignored. Current value: lambda_l2=20\n",
      "[LightGBM] [Warning] bagging_freq is set=1, subsample_freq=0 will be ignored. Current value: bagging_freq=1\n",
      "[LightGBM] [Warning] feature_fraction is set=0.6252699, colsample_bytree=1.0 will be ignored. Current value: feature_fraction=0.6252699\n",
      "[LightGBM] [Warning] min_data_in_leaf is set=100, min_child_samples=20 will be ignored. Current value: min_data_in_leaf=100\n",
      "[LightGBM] [Warning] min_gain_to_split is set=0.50009162978, min_split_gain=0.0 will be ignored. Current value: min_gain_to_split=0.50009162978\n",
      "[LightGBM] [Warning] lambda_l1 is set=5, reg_alpha=0.0 will be ignored. Current value: lambda_l1=5\n",
      "[LightGBM] [Warning] bagging_fraction is set=0.829100733, subsample=1.0 will be ignored. Current value: bagging_fraction=0.829100733\n",
      "[LightGBM] [Warning] lambda_l2 is set=20, reg_lambda=0.0 will be ignored. Current value: lambda_l2=20\n",
      "[LightGBM] [Warning] bagging_freq is set=1, subsample_freq=0 will be ignored. Current value: bagging_freq=1\n",
      "[LightGBM] [Warning] feature_fraction is set=0.6252699, colsample_bytree=1.0 will be ignored. Current value: feature_fraction=0.6252699\n",
      "[LightGBM] [Warning] min_data_in_leaf is set=100, min_child_samples=20 will be ignored. Current value: min_data_in_leaf=100\n",
      "[LightGBM] [Warning] min_gain_to_split is set=0.50009162978, min_split_gain=0.0 will be ignored. Current value: min_gain_to_split=0.50009162978\n",
      "[LightGBM] [Warning] lambda_l1 is set=5, reg_alpha=0.0 will be ignored. Current value: lambda_l1=5\n",
      "[LightGBM] [Warning] bagging_fraction is set=0.829100733, subsample=1.0 will be ignored. Current value: bagging_fraction=0.829100733\n",
      "[LightGBM] [Warning] lambda_l2 is set=20, reg_lambda=0.0 will be ignored. Current value: lambda_l2=20\n",
      "[LightGBM] [Warning] bagging_freq is set=1, subsample_freq=0 will be ignored. Current value: bagging_freq=1\n",
      "[LightGBM] [Warning] feature_fraction is set=0.6252699, colsample_bytree=1.0 will be ignored. Current value: feature_fraction=0.6252699\n",
      "[LightGBM] [Warning] min_data_in_leaf is set=100, min_child_samples=20 will be ignored. Current value: min_data_in_leaf=100\n",
      "[LightGBM] [Warning] min_gain_to_split is set=0.50009162978, min_split_gain=0.0 will be ignored. Current value: min_gain_to_split=0.50009162978\n",
      "[LightGBM] [Warning] lambda_l1 is set=5, reg_alpha=0.0 will be ignored. Current value: lambda_l1=5\n",
      "[LightGBM] [Warning] bagging_fraction is set=0.829100733, subsample=1.0 will be ignored. Current value: bagging_fraction=0.829100733\n",
      "[LightGBM] [Warning] lambda_l2 is set=20, reg_lambda=0.0 will be ignored. Current value: lambda_l2=20\n",
      "[LightGBM] [Warning] bagging_freq is set=1, subsample_freq=0 will be ignored. Current value: bagging_freq=1\n",
      "[LightGBM] [Warning] feature_fraction is set=0.6252699, colsample_bytree=1.0 will be ignored. Current value: feature_fraction=0.6252699\n",
      "[LightGBM] [Warning] min_data_in_leaf is set=100, min_child_samples=20 will be ignored. Current value: min_data_in_leaf=100\n",
      "[LightGBM] [Warning] min_gain_to_split is set=0.50009162978, min_split_gain=0.0 will be ignored. Current value: min_gain_to_split=0.50009162978\n",
      "[LightGBM] [Warning] lambda_l1 is set=5, reg_alpha=0.0 will be ignored. Current value: lambda_l1=5\n",
      "[LightGBM] [Warning] bagging_fraction is set=0.829100733, subsample=1.0 will be ignored. Current value: bagging_fraction=0.829100733\n",
      "[LightGBM] [Warning] lambda_l2 is set=20, reg_lambda=0.0 will be ignored. Current value: lambda_l2=20\n",
      "[LightGBM] [Warning] bagging_freq is set=1, subsample_freq=0 will be ignored. Current value: bagging_freq=1\n",
      "[LightGBM] [Warning] feature_fraction is set=0.6252699, colsample_bytree=1.0 will be ignored. Current value: feature_fraction=0.6252699\n",
      "[LightGBM] [Warning] min_data_in_leaf is set=100, min_child_samples=20 will be ignored. Current value: min_data_in_leaf=100\n",
      "[LightGBM] [Warning] min_gain_to_split is set=0.50009162978, min_split_gain=0.0 will be ignored. Current value: min_gain_to_split=0.50009162978\n",
      "[LightGBM] [Warning] lambda_l1 is set=5, reg_alpha=0.0 will be ignored. Current value: lambda_l1=5\n",
      "[LightGBM] [Warning] bagging_fraction is set=0.829100733, subsample=1.0 will be ignored. Current value: bagging_fraction=0.829100733\n",
      "[LightGBM] [Warning] lambda_l2 is set=20, reg_lambda=0.0 will be ignored. Current value: lambda_l2=20\n",
      "[LightGBM] [Warning] bagging_freq is set=1, subsample_freq=0 will be ignored. Current value: bagging_freq=1\n",
      "[LightGBM] [Warning] feature_fraction is set=0.6252699, colsample_bytree=1.0 will be ignored. Current value: feature_fraction=0.6252699\n",
      "[LightGBM] [Warning] min_data_in_leaf is set=100, min_child_samples=20 will be ignored. Current value: min_data_in_leaf=100\n",
      "[LightGBM] [Warning] min_gain_to_split is set=0.50009162978, min_split_gain=0.0 will be ignored. Current value: min_gain_to_split=0.50009162978\n",
      "[LightGBM] [Warning] lambda_l1 is set=5, reg_alpha=0.0 will be ignored. Current value: lambda_l1=5\n",
      "[LightGBM] [Warning] bagging_fraction is set=0.829100733, subsample=1.0 will be ignored. Current value: bagging_fraction=0.829100733\n",
      "[LightGBM] [Warning] lambda_l2 is set=20, reg_lambda=0.0 will be ignored. Current value: lambda_l2=20\n",
      "[LightGBM] [Warning] bagging_freq is set=1, subsample_freq=0 will be ignored. Current value: bagging_freq=1\n",
      "[LightGBM] [Warning] feature_fraction is set=0.6252699, colsample_bytree=1.0 will be ignored. Current value: feature_fraction=0.6252699\n",
      "[LightGBM] [Warning] min_data_in_leaf is set=100, min_child_samples=20 will be ignored. Current value: min_data_in_leaf=100\n",
      "[LightGBM] [Warning] min_gain_to_split is set=0.50009162978, min_split_gain=0.0 will be ignored. Current value: min_gain_to_split=0.50009162978\n",
      "[LightGBM] [Warning] lambda_l1 is set=5, reg_alpha=0.0 will be ignored. Current value: lambda_l1=5\n",
      "[LightGBM] [Warning] bagging_fraction is set=0.829100733, subsample=1.0 will be ignored. Current value: bagging_fraction=0.829100733\n",
      "[LightGBM] [Warning] lambda_l2 is set=20, reg_lambda=0.0 will be ignored. Current value: lambda_l2=20\n",
      "[LightGBM] [Warning] bagging_freq is set=1, subsample_freq=0 will be ignored. Current value: bagging_freq=1\n",
      "[LightGBM] [Warning] feature_fraction is set=0.6252699, colsample_bytree=1.0 will be ignored. Current value: feature_fraction=0.6252699\n",
      "[LightGBM] [Warning] min_data_in_leaf is set=100, min_child_samples=20 will be ignored. Current value: min_data_in_leaf=100\n",
      "[LightGBM] [Warning] min_gain_to_split is set=0.50009162978, min_split_gain=0.0 will be ignored. Current value: min_gain_to_split=0.50009162978\n",
      "[LightGBM] [Warning] lambda_l1 is set=5, reg_alpha=0.0 will be ignored. Current value: lambda_l1=5\n",
      "[LightGBM] [Warning] bagging_fraction is set=0.829100733, subsample=1.0 will be ignored. Current value: bagging_fraction=0.829100733\n",
      "[LightGBM] [Warning] lambda_l2 is set=20, reg_lambda=0.0 will be ignored. Current value: lambda_l2=20\n",
      "[LightGBM] [Warning] bagging_freq is set=1, subsample_freq=0 will be ignored. Current value: bagging_freq=1\n"
     ]
    },
    {
     "name": "stdout",
     "output_type": "stream",
     "text": [
      "[LightGBM] [Warning] feature_fraction is set=0.6252699, colsample_bytree=1.0 will be ignored. Current value: feature_fraction=0.6252699\n",
      "[LightGBM] [Warning] min_data_in_leaf is set=100, min_child_samples=20 will be ignored. Current value: min_data_in_leaf=100\n",
      "[LightGBM] [Warning] min_gain_to_split is set=0.50009162978, min_split_gain=0.0 will be ignored. Current value: min_gain_to_split=0.50009162978\n",
      "[LightGBM] [Warning] lambda_l1 is set=5, reg_alpha=0.0 will be ignored. Current value: lambda_l1=5\n",
      "[LightGBM] [Warning] bagging_fraction is set=0.829100733, subsample=1.0 will be ignored. Current value: bagging_fraction=0.829100733\n",
      "[LightGBM] [Warning] lambda_l2 is set=20, reg_lambda=0.0 will be ignored. Current value: lambda_l2=20\n",
      "[LightGBM] [Warning] bagging_freq is set=1, subsample_freq=0 will be ignored. Current value: bagging_freq=1\n",
      "[LightGBM] [Warning] feature_fraction is set=0.6252699, colsample_bytree=1.0 will be ignored. Current value: feature_fraction=0.6252699\n",
      "[LightGBM] [Warning] min_data_in_leaf is set=100, min_child_samples=20 will be ignored. Current value: min_data_in_leaf=100\n",
      "[LightGBM] [Warning] min_gain_to_split is set=0.50009162978, min_split_gain=0.0 will be ignored. Current value: min_gain_to_split=0.50009162978\n",
      "[LightGBM] [Warning] lambda_l1 is set=5, reg_alpha=0.0 will be ignored. Current value: lambda_l1=5\n",
      "[LightGBM] [Warning] bagging_fraction is set=0.829100733, subsample=1.0 will be ignored. Current value: bagging_fraction=0.829100733\n",
      "[LightGBM] [Warning] lambda_l2 is set=20, reg_lambda=0.0 will be ignored. Current value: lambda_l2=20\n",
      "[LightGBM] [Warning] bagging_freq is set=1, subsample_freq=0 will be ignored. Current value: bagging_freq=1\n",
      "[LightGBM] [Warning] feature_fraction is set=0.6252699, colsample_bytree=1.0 will be ignored. Current value: feature_fraction=0.6252699\n",
      "[LightGBM] [Warning] min_data_in_leaf is set=100, min_child_samples=20 will be ignored. Current value: min_data_in_leaf=100\n",
      "[LightGBM] [Warning] min_gain_to_split is set=0.50009162978, min_split_gain=0.0 will be ignored. Current value: min_gain_to_split=0.50009162978\n",
      "[LightGBM] [Warning] lambda_l1 is set=5, reg_alpha=0.0 will be ignored. Current value: lambda_l1=5\n",
      "[LightGBM] [Warning] bagging_fraction is set=0.829100733, subsample=1.0 will be ignored. Current value: bagging_fraction=0.829100733\n",
      "[LightGBM] [Warning] lambda_l2 is set=20, reg_lambda=0.0 will be ignored. Current value: lambda_l2=20\n",
      "[LightGBM] [Warning] bagging_freq is set=1, subsample_freq=0 will be ignored. Current value: bagging_freq=1\n",
      "[LightGBM] [Warning] feature_fraction is set=0.6252699, colsample_bytree=1.0 will be ignored. Current value: feature_fraction=0.6252699\n",
      "[LightGBM] [Warning] min_data_in_leaf is set=100, min_child_samples=20 will be ignored. Current value: min_data_in_leaf=100\n",
      "[LightGBM] [Warning] min_gain_to_split is set=0.50009162978, min_split_gain=0.0 will be ignored. Current value: min_gain_to_split=0.50009162978\n",
      "[LightGBM] [Warning] lambda_l1 is set=5, reg_alpha=0.0 will be ignored. Current value: lambda_l1=5\n",
      "[LightGBM] [Warning] bagging_fraction is set=0.829100733, subsample=1.0 will be ignored. Current value: bagging_fraction=0.829100733\n",
      "[LightGBM] [Warning] lambda_l2 is set=20, reg_lambda=0.0 will be ignored. Current value: lambda_l2=20\n",
      "[LightGBM] [Warning] bagging_freq is set=1, subsample_freq=0 will be ignored. Current value: bagging_freq=1\n",
      "[LightGBM] [Warning] feature_fraction is set=0.6252699, colsample_bytree=1.0 will be ignored. Current value: feature_fraction=0.6252699\n",
      "[LightGBM] [Warning] min_data_in_leaf is set=100, min_child_samples=20 will be ignored. Current value: min_data_in_leaf=100\n",
      "[LightGBM] [Warning] min_gain_to_split is set=0.50009162978, min_split_gain=0.0 will be ignored. Current value: min_gain_to_split=0.50009162978\n",
      "[LightGBM] [Warning] lambda_l1 is set=5, reg_alpha=0.0 will be ignored. Current value: lambda_l1=5\n",
      "[LightGBM] [Warning] bagging_fraction is set=0.829100733, subsample=1.0 will be ignored. Current value: bagging_fraction=0.829100733\n",
      "[LightGBM] [Warning] lambda_l2 is set=20, reg_lambda=0.0 will be ignored. Current value: lambda_l2=20\n",
      "[LightGBM] [Warning] bagging_freq is set=1, subsample_freq=0 will be ignored. Current value: bagging_freq=1\n",
      "[LightGBM] [Warning] feature_fraction is set=0.6252699, colsample_bytree=1.0 will be ignored. Current value: feature_fraction=0.6252699\n",
      "[LightGBM] [Warning] min_data_in_leaf is set=100, min_child_samples=20 will be ignored. Current value: min_data_in_leaf=100\n",
      "[LightGBM] [Warning] min_gain_to_split is set=0.50009162978, min_split_gain=0.0 will be ignored. Current value: min_gain_to_split=0.50009162978\n",
      "[LightGBM] [Warning] lambda_l1 is set=5, reg_alpha=0.0 will be ignored. Current value: lambda_l1=5\n",
      "[LightGBM] [Warning] bagging_fraction is set=0.829100733, subsample=1.0 will be ignored. Current value: bagging_fraction=0.829100733\n",
      "[LightGBM] [Warning] lambda_l2 is set=20, reg_lambda=0.0 will be ignored. Current value: lambda_l2=20\n",
      "[LightGBM] [Warning] bagging_freq is set=1, subsample_freq=0 will be ignored. Current value: bagging_freq=1\n",
      "[LightGBM] [Warning] feature_fraction is set=0.6252699, colsample_bytree=1.0 will be ignored. Current value: feature_fraction=0.6252699\n",
      "[LightGBM] [Warning] min_data_in_leaf is set=100, min_child_samples=20 will be ignored. Current value: min_data_in_leaf=100\n",
      "[LightGBM] [Warning] min_gain_to_split is set=0.50009162978, min_split_gain=0.0 will be ignored. Current value: min_gain_to_split=0.50009162978\n",
      "[LightGBM] [Warning] lambda_l1 is set=5, reg_alpha=0.0 will be ignored. Current value: lambda_l1=5\n",
      "[LightGBM] [Warning] bagging_fraction is set=0.829100733, subsample=1.0 will be ignored. Current value: bagging_fraction=0.829100733\n",
      "[LightGBM] [Warning] lambda_l2 is set=20, reg_lambda=0.0 will be ignored. Current value: lambda_l2=20\n",
      "[LightGBM] [Warning] bagging_freq is set=1, subsample_freq=0 will be ignored. Current value: bagging_freq=1\n",
      "[LightGBM] [Warning] feature_fraction is set=0.6252699, colsample_bytree=1.0 will be ignored. Current value: feature_fraction=0.6252699\n",
      "[LightGBM] [Warning] min_data_in_leaf is set=100, min_child_samples=20 will be ignored. Current value: min_data_in_leaf=100\n",
      "[LightGBM] [Warning] min_gain_to_split is set=0.50009162978, min_split_gain=0.0 will be ignored. Current value: min_gain_to_split=0.50009162978\n",
      "[LightGBM] [Warning] lambda_l1 is set=5, reg_alpha=0.0 will be ignored. Current value: lambda_l1=5\n",
      "[LightGBM] [Warning] bagging_fraction is set=0.829100733, subsample=1.0 will be ignored. Current value: bagging_fraction=0.829100733\n",
      "[LightGBM] [Warning] lambda_l2 is set=20, reg_lambda=0.0 will be ignored. Current value: lambda_l2=20\n",
      "[LightGBM] [Warning] bagging_freq is set=1, subsample_freq=0 will be ignored. Current value: bagging_freq=1\n",
      "[LightGBM] [Warning] feature_fraction is set=0.6252699, colsample_bytree=1.0 will be ignored. Current value: feature_fraction=0.6252699\n",
      "[LightGBM] [Warning] min_data_in_leaf is set=100, min_child_samples=20 will be ignored. Current value: min_data_in_leaf=100\n",
      "[LightGBM] [Warning] min_gain_to_split is set=0.50009162978, min_split_gain=0.0 will be ignored. Current value: min_gain_to_split=0.50009162978\n",
      "[LightGBM] [Warning] lambda_l1 is set=5, reg_alpha=0.0 will be ignored. Current value: lambda_l1=5\n",
      "[LightGBM] [Warning] bagging_fraction is set=0.829100733, subsample=1.0 will be ignored. Current value: bagging_fraction=0.829100733\n",
      "[LightGBM] [Warning] lambda_l2 is set=20, reg_lambda=0.0 will be ignored. Current value: lambda_l2=20\n",
      "[LightGBM] [Warning] bagging_freq is set=1, subsample_freq=0 will be ignored. Current value: bagging_freq=1\n",
      "[LightGBM] [Warning] feature_fraction is set=0.6252699, colsample_bytree=1.0 will be ignored. Current value: feature_fraction=0.6252699\n",
      "[LightGBM] [Warning] min_data_in_leaf is set=100, min_child_samples=20 will be ignored. Current value: min_data_in_leaf=100\n",
      "[LightGBM] [Warning] min_gain_to_split is set=0.50009162978, min_split_gain=0.0 will be ignored. Current value: min_gain_to_split=0.50009162978\n",
      "[LightGBM] [Warning] lambda_l1 is set=5, reg_alpha=0.0 will be ignored. Current value: lambda_l1=5\n",
      "[LightGBM] [Warning] bagging_fraction is set=0.829100733, subsample=1.0 will be ignored. Current value: bagging_fraction=0.829100733\n",
      "[LightGBM] [Warning] lambda_l2 is set=20, reg_lambda=0.0 will be ignored. Current value: lambda_l2=20\n",
      "[LightGBM] [Warning] bagging_freq is set=1, subsample_freq=0 will be ignored. Current value: bagging_freq=1\n"
     ]
    },
    {
     "name": "stdout",
     "output_type": "stream",
     "text": [
      "0.7999613326977064\n"
     ]
    }
   ],
   "source": [
    "print(get_score(lgbm_model,X,y).mean())"
   ]
  },
  {
   "cell_type": "markdown",
   "id": "0e14b528",
   "metadata": {},
   "source": [
    "Initial score is 0.79996. Kaggle score is 0.8043."
   ]
  },
  {
   "cell_type": "code",
   "execution_count": 29,
   "id": "0dcf4617",
   "metadata": {},
   "outputs": [
    {
     "name": "stdout",
     "output_type": "stream",
     "text": [
      "[LightGBM] [Warning] feature_fraction is set=0.6252699, colsample_bytree=1.0 will be ignored. Current value: feature_fraction=0.6252699\n",
      "[LightGBM] [Warning] min_data_in_leaf is set=100, min_child_samples=20 will be ignored. Current value: min_data_in_leaf=100\n",
      "[LightGBM] [Warning] min_gain_to_split is set=0.50009162978, min_split_gain=0.0 will be ignored. Current value: min_gain_to_split=0.50009162978\n",
      "[LightGBM] [Warning] lambda_l1 is set=5, reg_alpha=0.0 will be ignored. Current value: lambda_l1=5\n",
      "[LightGBM] [Warning] bagging_fraction is set=0.829100733, subsample=1.0 will be ignored. Current value: bagging_fraction=0.829100733\n",
      "[LightGBM] [Warning] lambda_l2 is set=20, reg_lambda=0.0 will be ignored. Current value: lambda_l2=20\n",
      "[LightGBM] [Warning] bagging_freq is set=1, subsample_freq=0 will be ignored. Current value: bagging_freq=1\n"
     ]
    },
    {
     "data": {
      "text/plain": [
       "LGBMClassifier(bagging_fraction=0.829100733, bagging_freq=1,\n",
       "               feature_fraction=0.6252699, lambda_l1=5, lambda_l2=20,\n",
       "               learning_rate=0.188447278, max_depth=11, min_data_in_leaf=100,\n",
       "               min_gain_to_split=0.50009162978, n_estimators=10000,\n",
       "               num_leaves=2080)"
      ]
     },
     "execution_count": 29,
     "metadata": {},
     "output_type": "execute_result"
    }
   ],
   "source": [
    "lgbm_model.fit(X,y)"
   ]
  },
  {
   "cell_type": "code",
   "execution_count": 30,
   "id": "80acf47b",
   "metadata": {},
   "outputs": [
    {
     "data": {
      "image/png": "[encoded data removed]",
      "text/plain": [
       "<Figure size 640x480 with 1 Axes>"
      ]
     },
     "metadata": {},
     "output_type": "display_data"
    }
   ],
   "source": [
    "pd.DataFrame(dict(cols=X.columns, imp=lgbm_model.feature_importances_)).plot('cols', 'imp', 'barh');"
   ]
  },
  {
   "cell_type": "markdown",
   "id": "efd95ded",
   "metadata": {
    "papermill": {
     "duration": 0.032478,
     "end_time": "2022-12-24T17:14:11.094297",
     "exception": false,
     "start_time": "2022-12-24T17:14:11.061819",
     "status": "completed"
    },
    "tags": []
   },
   "source": [
    "## **##### 6. Submission**"
   ]
  },
  {
   "cell_type": "code",
   "execution_count": 31,
   "id": "8ba84bab",
   "metadata": {},
   "outputs": [],
   "source": [
    "pred_lgbm_best = (lgbm_model.fit(X,y)).predict(test)\n",
    "sample['Transported'] = pred_lgbm_best\n",
    "\n",
    "#This converts the numbers to True/False values\n",
    "sample['Transported']=sample['Transported']>0.5\n",
    "sample.to_csv('submit_lgbm_best_data.csv', index=False)"
   ]
  },
  {
   "cell_type": "code",
   "execution_count": null,
   "id": "6c8ef1d1",
   "metadata": {},
   "outputs": [],
   "source": []
  }
 ],
 "metadata": {
  "kernelspec": {
   "display_name": "Python 3 (ipykernel)",
   "language": "python",
   "name": "python3"
  },
  "language_info": {
   "codemirror_mode": {
    "name": "ipython",
    "version": 3
   },
   "file_extension": ".py",
   "mimetype": "text/x-python",
   "name": "python",
   "nbconvert_exporter": "python",
   "pygments_lexer": "ipython3",
   "version": "3.9.13"
  },
  "papermill": {
   "default_parameters": {},
   "duration": 446.623504,
   "end_time": "2022-12-24T17:14:18.901867",
   "environment_variables": {},
   "exception": null,
   "input_path": "__notebook__.ipynb",
   "output_path": "__notebook__.ipynb",
   "parameters": {},
   "start_time": "2022-12-24T17:06:52.278363",
   "version": "2.3.4"
  }
 },
 "nbformat": 4,
 "nbformat_minor": 5
}
