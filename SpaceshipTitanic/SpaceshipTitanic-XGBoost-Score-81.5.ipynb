{
 "cells": [
  {
   "cell_type": "markdown",
   "id": "03455a04",
   "metadata": {},
   "source": [
    "This is a relatively simple data imputation and processing notebook with an Optuna tuned XGBoost model. This notebook is the result of a lot of earlier efforts of working with the data and trying different models. \n",
    "\n",
    "Since only 2% of the data is missing in both the train and test files, extensive imputation work didn't add much value to the score. So using the average for the continuous data and the mode for the categorical data worked the best to fill in the missing data. \n",
    "\n",
    "In all the models I tried, creating a total expenses category which summed up all the other expense categories had the highest impact on the the predictions. None of the other data manipulations had nearly as much of an effect. "
   ]
  },
  {
   "cell_type": "code",
   "execution_count": 1,
   "id": "07b9b659",
   "metadata": {
    "_cell_guid": "0cfe2334-113b-4f61-bb84-6b29ebe5cc7e",
    "_uuid": "8fd78f5e-805b-43bb-ac43-55254d27c773",
    "execution": {
     "iopub.execute_input": "2022-12-24T17:07:01.197106Z",
     "iopub.status.busy": "2022-12-24T17:07:01.196163Z",
     "iopub.status.idle": "2022-12-24T17:07:11.741336Z",
     "shell.execute_reply": "2022-12-24T17:07:11.740208Z"
    },
    "jupyter": {
     "outputs_hidden": false
    },
    "papermill": {
     "duration": 10.565736,
     "end_time": "2022-12-24T17:07:11.744253",
     "exception": false,
     "start_time": "2022-12-24T17:07:01.178517",
     "status": "completed"
    },
    "tags": []
   },
   "outputs": [],
   "source": [
    "from sklearn.impute import SimpleImputer\n",
    "from sklearn.preprocessing import OneHotEncoder\n",
    "import pandas as pd\n",
    "import numpy as np\n",
    "from sklearn.metrics import accuracy_score\n",
    "import xgboost as xgb\n",
    "from sklearn.utils import shuffle"
   ]
  },
  {
   "cell_type": "code",
   "execution_count": 2,
   "id": "da459ecc",
   "metadata": {
    "_cell_guid": "aec5ba70-d2ee-4148-a962-ee07d5acb350",
    "_uuid": "8a40a6ab-5d88-458f-ba89-88887ab7387f",
    "execution": {
     "iopub.execute_input": "2022-12-24T17:07:11.813649Z",
     "iopub.status.busy": "2022-12-24T17:07:11.812776Z",
     "iopub.status.idle": "2022-12-24T17:07:11.899962Z",
     "shell.execute_reply": "2022-12-24T17:07:11.898872Z"
    },
    "jupyter": {
     "outputs_hidden": false
    },
    "papermill": {
     "duration": 0.10905,
     "end_time": "2022-12-24T17:07:11.903055",
     "exception": false,
     "start_time": "2022-12-24T17:07:11.794005",
     "status": "completed"
    },
    "tags": []
   },
   "outputs": [],
   "source": [
    "test = pd.read_csv('test.csv')\n",
    "sample = pd.read_csv('sample_submission.csv')\n",
    "train = pd.read_csv('train.csv')"
   ]
  },
  {
   "cell_type": "markdown",
   "id": "2ea4ff97",
   "metadata": {},
   "source": [
    "Since both datasets are relatively similar in their structure and missing data, it is easier to merge them together for the data imputation and processing work. "
   ]
  },
  {
   "cell_type": "code",
   "execution_count": 3,
   "id": "e627f265",
   "metadata": {},
   "outputs": [],
   "source": [
    "train_test = pd.concat([train, test], ignore_index=True)"
   ]
  },
  {
   "cell_type": "markdown",
   "id": "f6071be9",
   "metadata": {},
   "source": [
    "Creating a total expenses category as a sum of all the other expenses ended up having a strong impact on the various models I tried. "
   ]
  },
  {
   "cell_type": "code",
   "execution_count": 4,
   "id": "2b620d54",
   "metadata": {
    "_cell_guid": "2f78e892-9961-4846-ab4f-8bea9074e566",
    "_uuid": "eec7f859-db11-4e3a-a6c2-0d38e7a1b626",
    "execution": {
     "iopub.execute_input": "2022-12-24T17:07:14.251566Z",
     "iopub.status.busy": "2022-12-24T17:07:14.250676Z",
     "iopub.status.idle": "2022-12-24T17:07:14.255455Z",
     "shell.execute_reply": "2022-12-24T17:07:14.254683Z"
    },
    "jupyter": {
     "outputs_hidden": false
    },
    "papermill": {
     "duration": 0.027046,
     "end_time": "2022-12-24T17:07:14.257755",
     "exception": false,
     "start_time": "2022-12-24T17:07:14.230709",
     "status": "completed"
    },
    "tags": []
   },
   "outputs": [],
   "source": [
    "Expenses_columns = ['RoomService','FoodCourt','ShoppingMall','Spa','VRDeck']\n",
    "train_test['Expenses'] = train_test.loc[:,Expenses_columns].sum(axis=1)"
   ]
  },
  {
   "cell_type": "markdown",
   "id": "8ea0f133",
   "metadata": {
    "_cell_guid": "68a3af2d-f7ba-44a0-a854-9b0dd1fed38a",
    "_uuid": "f289b27f-cce7-4c8b-9736-cc6abe483d2b",
    "execution": {
     "iopub.execute_input": "2022-12-24T17:07:15.487642Z",
     "iopub.status.busy": "2022-12-24T17:07:15.487203Z",
     "iopub.status.idle": "2022-12-24T17:07:15.495063Z",
     "shell.execute_reply": "2022-12-24T17:07:15.494007Z"
    },
    "jupyter": {
     "outputs_hidden": false
    },
    "papermill": {
     "duration": 0.03007,
     "end_time": "2022-12-24T17:07:15.497306",
     "exception": false,
     "start_time": "2022-12-24T17:07:15.467236",
     "status": "completed"
    },
    "tags": []
   },
   "source": [
    "I saw on a few notebooks where people set the total expenses to zero if someone was in cryosleep. This made sense logically and actually did have a positive impact on improving the score. "
   ]
  },
  {
   "cell_type": "code",
   "execution_count": 5,
   "id": "282d8fba",
   "metadata": {
    "_cell_guid": "255f9952-70b6-4e3d-adbc-834b3ce33889",
    "_uuid": "0020e5cc-fd11-4b7a-bbd6-e44d63417d05",
    "execution": {
     "iopub.execute_input": "2022-12-24T17:07:15.537250Z",
     "iopub.status.busy": "2022-12-24T17:07:15.536846Z",
     "iopub.status.idle": "2022-12-24T17:07:16.628615Z",
     "shell.execute_reply": "2022-12-24T17:07:16.627693Z"
    },
    "jupyter": {
     "outputs_hidden": false
    },
    "papermill": {
     "duration": 1.115324,
     "end_time": "2022-12-24T17:07:16.631274",
     "exception": false,
     "start_time": "2022-12-24T17:07:15.515950",
     "status": "completed"
    },
    "tags": []
   },
   "outputs": [],
   "source": [
    "train_test.loc[:,['CryoSleep']]=train_test.apply(lambda x: True if x.Expenses == 0 and pd.isna(x.CryoSleep) else x,axis =1)"
   ]
  },
  {
   "cell_type": "markdown",
   "id": "91edf34a",
   "metadata": {},
   "source": [
    "Separating the Group out of the PassengerID and breaking out the Cabin category into its component parts had a positive impact on the score. "
   ]
  },
  {
   "cell_type": "code",
   "execution_count": 6,
   "id": "44ec2971",
   "metadata": {},
   "outputs": [],
   "source": [
    "train_test.loc[:,['Group']] = train_test.PassengerId.apply(lambda x: x[0:4] )\n",
    "train_test[['Deck', 'Number', 'Side']] = train_test['Cabin'].str.split('/', expand=True)"
   ]
  },
  {
   "cell_type": "code",
   "execution_count": 7,
   "id": "bd6f62b6",
   "metadata": {},
   "outputs": [
    {
     "data": {
      "text/html": [
       "<div>\n",
       "<style scoped>\n",
       "    .dataframe tbody tr th:only-of-type {\n",
       "        vertical-align: middle;\n",
       "    }\n",
       "\n",
       "    .dataframe tbody tr th {\n",
       "        vertical-align: top;\n",
       "    }\n",
       "\n",
       "    .dataframe thead th {\n",
       "        text-align: right;\n",
       "    }\n",
       "</style>\n",
       "<table border=\"1\" class=\"dataframe\">\n",
       "  <thead>\n",
       "    <tr style=\"text-align: right;\">\n",
       "      <th></th>\n",
       "      <th>PassengerId</th>\n",
       "      <th>HomePlanet</th>\n",
       "      <th>CryoSleep</th>\n",
       "      <th>Cabin</th>\n",
       "      <th>Destination</th>\n",
       "      <th>Age</th>\n",
       "      <th>VIP</th>\n",
       "      <th>RoomService</th>\n",
       "      <th>FoodCourt</th>\n",
       "      <th>ShoppingMall</th>\n",
       "      <th>Spa</th>\n",
       "      <th>VRDeck</th>\n",
       "      <th>Name</th>\n",
       "      <th>Transported</th>\n",
       "      <th>Expenses</th>\n",
       "      <th>Group</th>\n",
       "      <th>Deck</th>\n",
       "      <th>Number</th>\n",
       "      <th>Side</th>\n",
       "    </tr>\n",
       "  </thead>\n",
       "  <tbody>\n",
       "    <tr>\n",
       "      <th>0</th>\n",
       "      <td>0001_01</td>\n",
       "      <td>Europa</td>\n",
       "      <td>False</td>\n",
       "      <td>B/0/P</td>\n",
       "      <td>TRAPPIST-1e</td>\n",
       "      <td>39.0</td>\n",
       "      <td>False</td>\n",
       "      <td>0.0</td>\n",
       "      <td>0.0</td>\n",
       "      <td>0.0</td>\n",
       "      <td>0.0</td>\n",
       "      <td>0.0</td>\n",
       "      <td>Maham Ofracculy</td>\n",
       "      <td>False</td>\n",
       "      <td>0.0</td>\n",
       "      <td>0001</td>\n",
       "      <td>B</td>\n",
       "      <td>0</td>\n",
       "      <td>P</td>\n",
       "    </tr>\n",
       "    <tr>\n",
       "      <th>1</th>\n",
       "      <td>0002_01</td>\n",
       "      <td>Earth</td>\n",
       "      <td>False</td>\n",
       "      <td>F/0/S</td>\n",
       "      <td>TRAPPIST-1e</td>\n",
       "      <td>24.0</td>\n",
       "      <td>False</td>\n",
       "      <td>109.0</td>\n",
       "      <td>9.0</td>\n",
       "      <td>25.0</td>\n",
       "      <td>549.0</td>\n",
       "      <td>44.0</td>\n",
       "      <td>Juanna Vines</td>\n",
       "      <td>True</td>\n",
       "      <td>736.0</td>\n",
       "      <td>0002</td>\n",
       "      <td>F</td>\n",
       "      <td>0</td>\n",
       "      <td>S</td>\n",
       "    </tr>\n",
       "    <tr>\n",
       "      <th>2</th>\n",
       "      <td>0003_01</td>\n",
       "      <td>Europa</td>\n",
       "      <td>False</td>\n",
       "      <td>A/0/S</td>\n",
       "      <td>TRAPPIST-1e</td>\n",
       "      <td>58.0</td>\n",
       "      <td>True</td>\n",
       "      <td>43.0</td>\n",
       "      <td>3576.0</td>\n",
       "      <td>0.0</td>\n",
       "      <td>6715.0</td>\n",
       "      <td>49.0</td>\n",
       "      <td>Altark Susent</td>\n",
       "      <td>False</td>\n",
       "      <td>10383.0</td>\n",
       "      <td>0003</td>\n",
       "      <td>A</td>\n",
       "      <td>0</td>\n",
       "      <td>S</td>\n",
       "    </tr>\n",
       "    <tr>\n",
       "      <th>3</th>\n",
       "      <td>0003_02</td>\n",
       "      <td>Europa</td>\n",
       "      <td>False</td>\n",
       "      <td>A/0/S</td>\n",
       "      <td>TRAPPIST-1e</td>\n",
       "      <td>33.0</td>\n",
       "      <td>False</td>\n",
       "      <td>0.0</td>\n",
       "      <td>1283.0</td>\n",
       "      <td>371.0</td>\n",
       "      <td>3329.0</td>\n",
       "      <td>193.0</td>\n",
       "      <td>Solam Susent</td>\n",
       "      <td>False</td>\n",
       "      <td>5176.0</td>\n",
       "      <td>0003</td>\n",
       "      <td>A</td>\n",
       "      <td>0</td>\n",
       "      <td>S</td>\n",
       "    </tr>\n",
       "    <tr>\n",
       "      <th>4</th>\n",
       "      <td>0004_01</td>\n",
       "      <td>Earth</td>\n",
       "      <td>False</td>\n",
       "      <td>F/1/S</td>\n",
       "      <td>TRAPPIST-1e</td>\n",
       "      <td>16.0</td>\n",
       "      <td>False</td>\n",
       "      <td>303.0</td>\n",
       "      <td>70.0</td>\n",
       "      <td>151.0</td>\n",
       "      <td>565.0</td>\n",
       "      <td>2.0</td>\n",
       "      <td>Willy Santantines</td>\n",
       "      <td>True</td>\n",
       "      <td>1091.0</td>\n",
       "      <td>0004</td>\n",
       "      <td>F</td>\n",
       "      <td>1</td>\n",
       "      <td>S</td>\n",
       "    </tr>\n",
       "  </tbody>\n",
       "</table>\n",
       "</div>"
      ],
      "text/plain": [
       "  PassengerId HomePlanet CryoSleep  Cabin  Destination   Age    VIP  \\\n",
       "0     0001_01     Europa     False  B/0/P  TRAPPIST-1e  39.0  False   \n",
       "1     0002_01      Earth     False  F/0/S  TRAPPIST-1e  24.0  False   \n",
       "2     0003_01     Europa     False  A/0/S  TRAPPIST-1e  58.0   True   \n",
       "3     0003_02     Europa     False  A/0/S  TRAPPIST-1e  33.0  False   \n",
       "4     0004_01      Earth     False  F/1/S  TRAPPIST-1e  16.0  False   \n",
       "\n",
       "   RoomService  FoodCourt  ShoppingMall     Spa  VRDeck               Name  \\\n",
       "0          0.0        0.0           0.0     0.0     0.0    Maham Ofracculy   \n",
       "1        109.0        9.0          25.0   549.0    44.0       Juanna Vines   \n",
       "2         43.0     3576.0           0.0  6715.0    49.0      Altark Susent   \n",
       "3          0.0     1283.0         371.0  3329.0   193.0       Solam Susent   \n",
       "4        303.0       70.0         151.0   565.0     2.0  Willy Santantines   \n",
       "\n",
       "  Transported  Expenses Group Deck Number Side  \n",
       "0       False       0.0  0001    B      0    P  \n",
       "1        True     736.0  0002    F      0    S  \n",
       "2       False   10383.0  0003    A      0    S  \n",
       "3       False    5176.0  0003    A      0    S  \n",
       "4        True    1091.0  0004    F      1    S  "
      ]
     },
     "execution_count": 7,
     "metadata": {},
     "output_type": "execute_result"
    }
   ],
   "source": [
    "train_test.head()"
   ]
  },
  {
   "cell_type": "markdown",
   "id": "b8d64be5",
   "metadata": {},
   "source": [
    "Using the PermutationImportance function from eli5 in earlier notebooks showed only a few categories had strong predictive values on the outcome. So only including the columns listed below and then also removing some of the extra columns created from one hot encoding in the \"drop_list\" further down below, had the most positive impact on the score. "
   ]
  },
  {
   "cell_type": "code",
   "execution_count": 8,
   "id": "71669762",
   "metadata": {
    "_cell_guid": "2d7f8181-c940-4bc6-8383-9e94f4895cea",
    "_uuid": "d9b09e8d-ea2d-432d-a3e5-aa3ad0a2ace7",
    "execution": {
     "iopub.execute_input": "2022-12-24T17:07:25.746954Z",
     "iopub.status.busy": "2022-12-24T17:07:25.746578Z",
     "iopub.status.idle": "2022-12-24T17:07:25.821355Z",
     "shell.execute_reply": "2022-12-24T17:07:25.820400Z"
    },
    "jupyter": {
     "outputs_hidden": false
    },
    "papermill": {
     "duration": 0.101089,
     "end_time": "2022-12-24T17:07:25.823993",
     "exception": false,
     "start_time": "2022-12-24T17:07:25.722904",
     "status": "completed"
    },
    "tags": []
   },
   "outputs": [],
   "source": [
    "num_cols = ['ShoppingMall','FoodCourt','RoomService','Spa','VRDeck','Expenses','Age']\n",
    "cat_cols = ['CryoSleep','Deck','Side','VIP','HomePlanet','Destination', ]\n",
    "transported=['Transported']"
   ]
  },
  {
   "cell_type": "code",
   "execution_count": 9,
   "id": "297f2b36",
   "metadata": {},
   "outputs": [],
   "source": [
    "train_test = train_test[num_cols+cat_cols+transported].copy()"
   ]
  },
  {
   "cell_type": "markdown",
   "id": "c776fb8c",
   "metadata": {},
   "source": [
    "Since the missing data was only about 2% of the total data in both the train and test datasets, this simple imputater operation had the most beneficial effect on the score. "
   ]
  },
  {
   "cell_type": "code",
   "execution_count": 10,
   "id": "68ab0598",
   "metadata": {},
   "outputs": [],
   "source": [
    "num_imp = SimpleImputer(strategy='mean')\n",
    "cat_imp = SimpleImputer(strategy='most_frequent')"
   ]
  },
  {
   "cell_type": "code",
   "execution_count": 11,
   "id": "a59e18a5",
   "metadata": {},
   "outputs": [],
   "source": [
    "train_test[num_cols] = pd.DataFrame(num_imp.fit_transform(train_test[num_cols]),columns=num_cols)\n",
    "train_test[cat_cols] = pd.DataFrame(cat_imp.fit_transform(train_test[cat_cols]),columns=cat_cols)"
   ]
  },
  {
   "cell_type": "markdown",
   "id": "7e2ee6e4",
   "metadata": {},
   "source": [
    "Using one hot encoding for the categorical data was the most effective approach I could find, especially since most of the categorical data ended up not being used. "
   ]
  },
  {
   "cell_type": "code",
   "execution_count": 12,
   "id": "aaaf760f",
   "metadata": {},
   "outputs": [],
   "source": [
    "ohe = OneHotEncoder (handle_unknown='ignore',sparse = False)\n",
    "temp_train = pd.DataFrame(ohe.fit_transform(train_test[cat_cols]),columns=ohe.get_feature_names_out())\n",
    "train_test = train_test.drop(cat_cols,axis=1)\n",
    "train_test = pd.concat([train_test,temp_train],axis=1)"
   ]
  },
  {
   "cell_type": "code",
   "execution_count": 13,
   "id": "0e85bdf8",
   "metadata": {},
   "outputs": [
    {
     "data": {
      "text/html": [
       "<div>\n",
       "<style scoped>\n",
       "    .dataframe tbody tr th:only-of-type {\n",
       "        vertical-align: middle;\n",
       "    }\n",
       "\n",
       "    .dataframe tbody tr th {\n",
       "        vertical-align: top;\n",
       "    }\n",
       "\n",
       "    .dataframe thead th {\n",
       "        text-align: right;\n",
       "    }\n",
       "</style>\n",
       "<table border=\"1\" class=\"dataframe\">\n",
       "  <thead>\n",
       "    <tr style=\"text-align: right;\">\n",
       "      <th></th>\n",
       "      <th>ShoppingMall</th>\n",
       "      <th>FoodCourt</th>\n",
       "      <th>RoomService</th>\n",
       "      <th>Spa</th>\n",
       "      <th>VRDeck</th>\n",
       "      <th>Expenses</th>\n",
       "      <th>Age</th>\n",
       "      <th>Transported</th>\n",
       "      <th>CryoSleep_False</th>\n",
       "      <th>CryoSleep_True</th>\n",
       "      <th>...</th>\n",
       "      <th>Side_P</th>\n",
       "      <th>Side_S</th>\n",
       "      <th>VIP_False</th>\n",
       "      <th>VIP_True</th>\n",
       "      <th>HomePlanet_Earth</th>\n",
       "      <th>HomePlanet_Europa</th>\n",
       "      <th>HomePlanet_Mars</th>\n",
       "      <th>Destination_55 Cancri e</th>\n",
       "      <th>Destination_PSO J318.5-22</th>\n",
       "      <th>Destination_TRAPPIST-1e</th>\n",
       "    </tr>\n",
       "  </thead>\n",
       "  <tbody>\n",
       "    <tr>\n",
       "      <th>0</th>\n",
       "      <td>0.0</td>\n",
       "      <td>0.0</td>\n",
       "      <td>0.0</td>\n",
       "      <td>0.0</td>\n",
       "      <td>0.0</td>\n",
       "      <td>0.0</td>\n",
       "      <td>39.000000</td>\n",
       "      <td>False</td>\n",
       "      <td>1.0</td>\n",
       "      <td>0.0</td>\n",
       "      <td>...</td>\n",
       "      <td>1.0</td>\n",
       "      <td>0.0</td>\n",
       "      <td>1.0</td>\n",
       "      <td>0.0</td>\n",
       "      <td>0.0</td>\n",
       "      <td>1.0</td>\n",
       "      <td>0.0</td>\n",
       "      <td>0.0</td>\n",
       "      <td>0.0</td>\n",
       "      <td>1.0</td>\n",
       "    </tr>\n",
       "    <tr>\n",
       "      <th>1</th>\n",
       "      <td>25.0</td>\n",
       "      <td>9.0</td>\n",
       "      <td>109.0</td>\n",
       "      <td>549.0</td>\n",
       "      <td>44.0</td>\n",
       "      <td>736.0</td>\n",
       "      <td>24.000000</td>\n",
       "      <td>True</td>\n",
       "      <td>1.0</td>\n",
       "      <td>0.0</td>\n",
       "      <td>...</td>\n",
       "      <td>0.0</td>\n",
       "      <td>1.0</td>\n",
       "      <td>1.0</td>\n",
       "      <td>0.0</td>\n",
       "      <td>1.0</td>\n",
       "      <td>0.0</td>\n",
       "      <td>0.0</td>\n",
       "      <td>0.0</td>\n",
       "      <td>0.0</td>\n",
       "      <td>1.0</td>\n",
       "    </tr>\n",
       "    <tr>\n",
       "      <th>2</th>\n",
       "      <td>0.0</td>\n",
       "      <td>3576.0</td>\n",
       "      <td>43.0</td>\n",
       "      <td>6715.0</td>\n",
       "      <td>49.0</td>\n",
       "      <td>10383.0</td>\n",
       "      <td>58.000000</td>\n",
       "      <td>False</td>\n",
       "      <td>1.0</td>\n",
       "      <td>0.0</td>\n",
       "      <td>...</td>\n",
       "      <td>0.0</td>\n",
       "      <td>1.0</td>\n",
       "      <td>0.0</td>\n",
       "      <td>1.0</td>\n",
       "      <td>0.0</td>\n",
       "      <td>1.0</td>\n",
       "      <td>0.0</td>\n",
       "      <td>0.0</td>\n",
       "      <td>0.0</td>\n",
       "      <td>1.0</td>\n",
       "    </tr>\n",
       "    <tr>\n",
       "      <th>3</th>\n",
       "      <td>371.0</td>\n",
       "      <td>1283.0</td>\n",
       "      <td>0.0</td>\n",
       "      <td>3329.0</td>\n",
       "      <td>193.0</td>\n",
       "      <td>5176.0</td>\n",
       "      <td>33.000000</td>\n",
       "      <td>False</td>\n",
       "      <td>1.0</td>\n",
       "      <td>0.0</td>\n",
       "      <td>...</td>\n",
       "      <td>0.0</td>\n",
       "      <td>1.0</td>\n",
       "      <td>1.0</td>\n",
       "      <td>0.0</td>\n",
       "      <td>0.0</td>\n",
       "      <td>1.0</td>\n",
       "      <td>0.0</td>\n",
       "      <td>0.0</td>\n",
       "      <td>0.0</td>\n",
       "      <td>1.0</td>\n",
       "    </tr>\n",
       "    <tr>\n",
       "      <th>4</th>\n",
       "      <td>151.0</td>\n",
       "      <td>70.0</td>\n",
       "      <td>303.0</td>\n",
       "      <td>565.0</td>\n",
       "      <td>2.0</td>\n",
       "      <td>1091.0</td>\n",
       "      <td>16.000000</td>\n",
       "      <td>True</td>\n",
       "      <td>1.0</td>\n",
       "      <td>0.0</td>\n",
       "      <td>...</td>\n",
       "      <td>0.0</td>\n",
       "      <td>1.0</td>\n",
       "      <td>1.0</td>\n",
       "      <td>0.0</td>\n",
       "      <td>1.0</td>\n",
       "      <td>0.0</td>\n",
       "      <td>0.0</td>\n",
       "      <td>0.0</td>\n",
       "      <td>0.0</td>\n",
       "      <td>1.0</td>\n",
       "    </tr>\n",
       "    <tr>\n",
       "      <th>...</th>\n",
       "      <td>...</td>\n",
       "      <td>...</td>\n",
       "      <td>...</td>\n",
       "      <td>...</td>\n",
       "      <td>...</td>\n",
       "      <td>...</td>\n",
       "      <td>...</td>\n",
       "      <td>...</td>\n",
       "      <td>...</td>\n",
       "      <td>...</td>\n",
       "      <td>...</td>\n",
       "      <td>...</td>\n",
       "      <td>...</td>\n",
       "      <td>...</td>\n",
       "      <td>...</td>\n",
       "      <td>...</td>\n",
       "      <td>...</td>\n",
       "      <td>...</td>\n",
       "      <td>...</td>\n",
       "      <td>...</td>\n",
       "      <td>...</td>\n",
       "    </tr>\n",
       "    <tr>\n",
       "      <th>12965</th>\n",
       "      <td>0.0</td>\n",
       "      <td>0.0</td>\n",
       "      <td>0.0</td>\n",
       "      <td>0.0</td>\n",
       "      <td>0.0</td>\n",
       "      <td>0.0</td>\n",
       "      <td>34.000000</td>\n",
       "      <td>NaN</td>\n",
       "      <td>0.0</td>\n",
       "      <td>1.0</td>\n",
       "      <td>...</td>\n",
       "      <td>0.0</td>\n",
       "      <td>1.0</td>\n",
       "      <td>1.0</td>\n",
       "      <td>0.0</td>\n",
       "      <td>1.0</td>\n",
       "      <td>0.0</td>\n",
       "      <td>0.0</td>\n",
       "      <td>0.0</td>\n",
       "      <td>0.0</td>\n",
       "      <td>1.0</td>\n",
       "    </tr>\n",
       "    <tr>\n",
       "      <th>12966</th>\n",
       "      <td>17.0</td>\n",
       "      <td>847.0</td>\n",
       "      <td>0.0</td>\n",
       "      <td>10.0</td>\n",
       "      <td>144.0</td>\n",
       "      <td>1018.0</td>\n",
       "      <td>42.000000</td>\n",
       "      <td>NaN</td>\n",
       "      <td>1.0</td>\n",
       "      <td>0.0</td>\n",
       "      <td>...</td>\n",
       "      <td>0.0</td>\n",
       "      <td>1.0</td>\n",
       "      <td>1.0</td>\n",
       "      <td>0.0</td>\n",
       "      <td>1.0</td>\n",
       "      <td>0.0</td>\n",
       "      <td>0.0</td>\n",
       "      <td>0.0</td>\n",
       "      <td>0.0</td>\n",
       "      <td>1.0</td>\n",
       "    </tr>\n",
       "    <tr>\n",
       "      <th>12967</th>\n",
       "      <td>0.0</td>\n",
       "      <td>0.0</td>\n",
       "      <td>0.0</td>\n",
       "      <td>0.0</td>\n",
       "      <td>0.0</td>\n",
       "      <td>0.0</td>\n",
       "      <td>28.771969</td>\n",
       "      <td>NaN</td>\n",
       "      <td>0.0</td>\n",
       "      <td>1.0</td>\n",
       "      <td>...</td>\n",
       "      <td>1.0</td>\n",
       "      <td>0.0</td>\n",
       "      <td>1.0</td>\n",
       "      <td>0.0</td>\n",
       "      <td>0.0</td>\n",
       "      <td>0.0</td>\n",
       "      <td>1.0</td>\n",
       "      <td>1.0</td>\n",
       "      <td>0.0</td>\n",
       "      <td>0.0</td>\n",
       "    </tr>\n",
       "    <tr>\n",
       "      <th>12968</th>\n",
       "      <td>0.0</td>\n",
       "      <td>2680.0</td>\n",
       "      <td>0.0</td>\n",
       "      <td>0.0</td>\n",
       "      <td>523.0</td>\n",
       "      <td>3203.0</td>\n",
       "      <td>28.771969</td>\n",
       "      <td>NaN</td>\n",
       "      <td>1.0</td>\n",
       "      <td>0.0</td>\n",
       "      <td>...</td>\n",
       "      <td>1.0</td>\n",
       "      <td>0.0</td>\n",
       "      <td>1.0</td>\n",
       "      <td>0.0</td>\n",
       "      <td>0.0</td>\n",
       "      <td>1.0</td>\n",
       "      <td>0.0</td>\n",
       "      <td>0.0</td>\n",
       "      <td>0.0</td>\n",
       "      <td>1.0</td>\n",
       "    </tr>\n",
       "    <tr>\n",
       "      <th>12969</th>\n",
       "      <td>0.0</td>\n",
       "      <td>0.0</td>\n",
       "      <td>0.0</td>\n",
       "      <td>0.0</td>\n",
       "      <td>0.0</td>\n",
       "      <td>0.0</td>\n",
       "      <td>43.000000</td>\n",
       "      <td>NaN</td>\n",
       "      <td>0.0</td>\n",
       "      <td>1.0</td>\n",
       "      <td>...</td>\n",
       "      <td>0.0</td>\n",
       "      <td>1.0</td>\n",
       "      <td>1.0</td>\n",
       "      <td>0.0</td>\n",
       "      <td>1.0</td>\n",
       "      <td>0.0</td>\n",
       "      <td>0.0</td>\n",
       "      <td>0.0</td>\n",
       "      <td>1.0</td>\n",
       "      <td>0.0</td>\n",
       "    </tr>\n",
       "  </tbody>\n",
       "</table>\n",
       "<p>12970 rows × 28 columns</p>\n",
       "</div>"
      ],
      "text/plain": [
       "       ShoppingMall  FoodCourt  RoomService     Spa  VRDeck  Expenses  \\\n",
       "0               0.0        0.0          0.0     0.0     0.0       0.0   \n",
       "1              25.0        9.0        109.0   549.0    44.0     736.0   \n",
       "2               0.0     3576.0         43.0  6715.0    49.0   10383.0   \n",
       "3             371.0     1283.0          0.0  3329.0   193.0    5176.0   \n",
       "4             151.0       70.0        303.0   565.0     2.0    1091.0   \n",
       "...             ...        ...          ...     ...     ...       ...   \n",
       "12965           0.0        0.0          0.0     0.0     0.0       0.0   \n",
       "12966          17.0      847.0          0.0    10.0   144.0    1018.0   \n",
       "12967           0.0        0.0          0.0     0.0     0.0       0.0   \n",
       "12968           0.0     2680.0          0.0     0.0   523.0    3203.0   \n",
       "12969           0.0        0.0          0.0     0.0     0.0       0.0   \n",
       "\n",
       "             Age Transported  CryoSleep_False  CryoSleep_True  ...  Side_P  \\\n",
       "0      39.000000       False              1.0             0.0  ...     1.0   \n",
       "1      24.000000        True              1.0             0.0  ...     0.0   \n",
       "2      58.000000       False              1.0             0.0  ...     0.0   \n",
       "3      33.000000       False              1.0             0.0  ...     0.0   \n",
       "4      16.000000        True              1.0             0.0  ...     0.0   \n",
       "...          ...         ...              ...             ...  ...     ...   \n",
       "12965  34.000000         NaN              0.0             1.0  ...     0.0   \n",
       "12966  42.000000         NaN              1.0             0.0  ...     0.0   \n",
       "12967  28.771969         NaN              0.0             1.0  ...     1.0   \n",
       "12968  28.771969         NaN              1.0             0.0  ...     1.0   \n",
       "12969  43.000000         NaN              0.0             1.0  ...     0.0   \n",
       "\n",
       "       Side_S  VIP_False  VIP_True  HomePlanet_Earth  HomePlanet_Europa  \\\n",
       "0         0.0        1.0       0.0               0.0                1.0   \n",
       "1         1.0        1.0       0.0               1.0                0.0   \n",
       "2         1.0        0.0       1.0               0.0                1.0   \n",
       "3         1.0        1.0       0.0               0.0                1.0   \n",
       "4         1.0        1.0       0.0               1.0                0.0   \n",
       "...       ...        ...       ...               ...                ...   \n",
       "12965     1.0        1.0       0.0               1.0                0.0   \n",
       "12966     1.0        1.0       0.0               1.0                0.0   \n",
       "12967     0.0        1.0       0.0               0.0                0.0   \n",
       "12968     0.0        1.0       0.0               0.0                1.0   \n",
       "12969     1.0        1.0       0.0               1.0                0.0   \n",
       "\n",
       "       HomePlanet_Mars  Destination_55 Cancri e  Destination_PSO J318.5-22  \\\n",
       "0                  0.0                      0.0                        0.0   \n",
       "1                  0.0                      0.0                        0.0   \n",
       "2                  0.0                      0.0                        0.0   \n",
       "3                  0.0                      0.0                        0.0   \n",
       "4                  0.0                      0.0                        0.0   \n",
       "...                ...                      ...                        ...   \n",
       "12965              0.0                      0.0                        0.0   \n",
       "12966              0.0                      0.0                        0.0   \n",
       "12967              1.0                      1.0                        0.0   \n",
       "12968              0.0                      0.0                        0.0   \n",
       "12969              0.0                      0.0                        1.0   \n",
       "\n",
       "       Destination_TRAPPIST-1e  \n",
       "0                          1.0  \n",
       "1                          1.0  \n",
       "2                          1.0  \n",
       "3                          1.0  \n",
       "4                          1.0  \n",
       "...                        ...  \n",
       "12965                      1.0  \n",
       "12966                      1.0  \n",
       "12967                      0.0  \n",
       "12968                      1.0  \n",
       "12969                      0.0  \n",
       "\n",
       "[12970 rows x 28 columns]"
      ]
     },
     "execution_count": 13,
     "metadata": {},
     "output_type": "execute_result"
    }
   ],
   "source": [
    "train_test"
   ]
  },
  {
   "cell_type": "markdown",
   "id": "96a5b8f8",
   "metadata": {},
   "source": [
    "To reset the train and test datasets and create the X and y components. "
   ]
  },
  {
   "cell_type": "code",
   "execution_count": 14,
   "id": "79fb5230",
   "metadata": {
    "_cell_guid": "b2ed8583-c551-43bc-95a9-a1c3c81b0f1b",
    "_uuid": "d9e24109-64ef-43d0-8f68-a5891772406c",
    "execution": {
     "iopub.execute_input": "2022-12-24T17:07:25.916438Z",
     "iopub.status.busy": "2022-12-24T17:07:25.916038Z",
     "iopub.status.idle": "2022-12-24T17:07:25.931363Z",
     "shell.execute_reply": "2022-12-24T17:07:25.930096Z"
    },
    "jupyter": {
     "outputs_hidden": false
    },
    "papermill": {
     "duration": 0.041293,
     "end_time": "2022-12-24T17:07:25.933613",
     "exception": false,
     "start_time": "2022-12-24T17:07:25.892320",
     "status": "completed"
    },
    "tags": []
   },
   "outputs": [],
   "source": [
    "train = train_test[train_test['Transported'].notnull()].copy()\n",
    "train.Transported =train.Transported.astype('int')\n",
    "test = train_test[train_test['Transported'].isnull()].drop(\"Transported\",axis=1)"
   ]
  },
  {
   "cell_type": "code",
   "execution_count": 15,
   "id": "80738b34",
   "metadata": {
    "execution": {
     "iopub.execute_input": "2022-12-24T17:07:25.980786Z",
     "iopub.status.busy": "2022-12-24T17:07:25.980368Z",
     "iopub.status.idle": "2022-12-24T17:07:25.987011Z",
     "shell.execute_reply": "2022-12-24T17:07:25.985927Z"
    },
    "papermill": {
     "duration": 0.03309,
     "end_time": "2022-12-24T17:07:25.989218",
     "exception": false,
     "start_time": "2022-12-24T17:07:25.956128",
     "status": "completed"
    },
    "tags": []
   },
   "outputs": [],
   "source": [
    "X = train.drop('Transported',axis=1)\n",
    "y = train.Transported"
   ]
  },
  {
   "cell_type": "markdown",
   "id": "8b723b28",
   "metadata": {},
   "source": [
    "As mentioned above, dropping columns that did not have a strong predictive impact improved the score. "
   ]
  },
  {
   "cell_type": "code",
   "execution_count": 16,
   "id": "f5975cfb",
   "metadata": {},
   "outputs": [],
   "source": [
    "drop_list=['ShoppingMall','Age','CryoSleep_True','HomePlanet_Earth','HomePlanet_Europa',\n",
    "'VIP_True','HomePlanet_Mars','Destination_PSO J318.5-22','VIP_False',\n",
    "'Destination_55 Cancri e','FoodCourt','Destination_TRAPPIST-1e']"
   ]
  },
  {
   "cell_type": "code",
   "execution_count": 17,
   "id": "ea0b659c",
   "metadata": {},
   "outputs": [],
   "source": [
    "X=X.drop(drop_list,axis=1)\n",
    "test=test.drop(drop_list,axis=1)"
   ]
  },
  {
   "cell_type": "markdown",
   "id": "3951135b",
   "metadata": {},
   "source": [
    "I used Optuna to find the optimal parameters for the XGBoost model with this data. "
   ]
  },
  {
   "cell_type": "code",
   "execution_count": 18,
   "id": "81089899",
   "metadata": {},
   "outputs": [],
   "source": [
    "params_xgb_best= {'lambda': 3.0610042624477543, \n",
    "             'alpha': 4.581902571574289, \n",
    "             'colsample_bytree': 0.9241969052729379, \n",
    "             'subsample': 0.9527591724824661, \n",
    "             'learning_rate': 0.06672065863100594, \n",
    "             'n_estimators': 730,\n",
    "             'max_depth': 5, \n",
    "             'min_child_weight': 1, \n",
    "             'num_parallel_tree': 1}"
   ]
  },
  {
   "cell_type": "markdown",
   "id": "9f902813",
   "metadata": {},
   "source": [
    "In earlier notebooks I found that not splitting the train dataset into test and validation subsets created better results. This may be a result of the rather small and simple dataset in this contest. "
   ]
  },
  {
   "cell_type": "code",
   "execution_count": 19,
   "id": "3fdb9166",
   "metadata": {},
   "outputs": [],
   "source": [
    "X,y = shuffle(X,y, random_state=42)\n",
    "X = X.reset_index(drop=True)\n",
    "y = y.reset_index(drop=True)"
   ]
  },
  {
   "cell_type": "code",
   "execution_count": 20,
   "id": "7748704c",
   "metadata": {
    "execution": {
     "iopub.execute_input": "2022-12-24T17:14:11.161863Z",
     "iopub.status.busy": "2022-12-24T17:14:11.160947Z",
     "iopub.status.idle": "2022-12-24T17:14:15.965118Z",
     "shell.execute_reply": "2022-12-24T17:14:15.964094Z"
    },
    "papermill": {
     "duration": 4.840856,
     "end_time": "2022-12-24T17:14:15.967796",
     "exception": false,
     "start_time": "2022-12-24T17:14:11.126940",
     "status": "completed"
    },
    "tags": []
   },
   "outputs": [],
   "source": [
    "pred_xgb_best = (xgb.XGBClassifier(**params_xgb_best).fit(X,y)).predict(test)\n",
    "sample['Transported'] = pred_xgb_best\n",
    "\n",
    "#This converts the numbers to True/False values\n",
    "sample['Transported']=sample['Transported']>0.5\n",
    "sample.to_csv('submit_xgb_best_data.csv', index=False)"
   ]
  },
  {
   "cell_type": "code",
   "execution_count": null,
   "id": "0a803b6b",
   "metadata": {},
   "outputs": [],
   "source": []
  }
 ],
 "metadata": {
  "kernelspec": {
   "display_name": "Python 3 (ipykernel)",
   "language": "python",
   "name": "python3"
  },
  "language_info": {
   "codemirror_mode": {
    "name": "ipython",
    "version": 3
   },
   "file_extension": ".py",
   "mimetype": "text/x-python",
   "name": "python",
   "nbconvert_exporter": "python",
   "pygments_lexer": "ipython3",
   "version": "3.9.13"
  },
  "papermill": {
   "default_parameters": {},
   "duration": 446.623504,
   "end_time": "2022-12-24T17:14:18.901867",
   "environment_variables": {},
   "exception": null,
   "input_path": "__notebook__.ipynb",
   "output_path": "__notebook__.ipynb",
   "parameters": {},
   "start_time": "2022-12-24T17:06:52.278363",
   "version": "2.3.4"
  }
 },
 "nbformat": 4,
 "nbformat_minor": 5
}
