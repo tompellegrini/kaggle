{
 "cells": [
  {
   "cell_type": "markdown",
   "id": "d95e1a8c",
   "metadata": {},
   "source": [
    "This worksheet will do a detailed imputation exercise to see how much it can change the score relative to using the mode for all missing values. "
   ]
  },
  {
   "cell_type": "markdown",
   "id": "3fd550af",
   "metadata": {},
   "source": [
    "# Data Loading"
   ]
  },
  {
   "cell_type": "code",
   "execution_count": 1,
   "id": "16b27946",
   "metadata": {},
   "outputs": [],
   "source": [
    "import pandas as pd\n",
    "import numpy as np\n",
    "\n",
    "from fastai.tabular.all import *\n",
    "from sklearn.ensemble import RandomForestClassifier\n",
    "from sklearn.utils import shuffle\n",
    "from sklearn.model_selection import cross_val_score\n",
    "\n",
    "import seaborn as sns\n",
    "import matplotlib.pyplot as plt"
   ]
  },
  {
   "cell_type": "code",
   "execution_count": 2,
   "id": "a414c599",
   "metadata": {},
   "outputs": [],
   "source": [
    "test = pd.read_csv('test.csv')\n",
    "sample = pd.read_csv('sample_submission.csv')\n",
    "train = pd.read_csv('train.csv')"
   ]
  },
  {
   "cell_type": "code",
   "execution_count": 3,
   "id": "fd70f41f",
   "metadata": {},
   "outputs": [
    {
     "data": {
      "text/html": [
       "<div>\n",
       "<style scoped>\n",
       "    .dataframe tbody tr th:only-of-type {\n",
       "        vertical-align: middle;\n",
       "    }\n",
       "\n",
       "    .dataframe tbody tr th {\n",
       "        vertical-align: top;\n",
       "    }\n",
       "\n",
       "    .dataframe thead th {\n",
       "        text-align: right;\n",
       "    }\n",
       "</style>\n",
       "<table border=\"1\" class=\"dataframe\">\n",
       "  <thead>\n",
       "    <tr style=\"text-align: right;\">\n",
       "      <th></th>\n",
       "      <th>PassengerId</th>\n",
       "      <th>HomePlanet</th>\n",
       "      <th>CryoSleep</th>\n",
       "      <th>Cabin</th>\n",
       "      <th>Destination</th>\n",
       "      <th>Age</th>\n",
       "      <th>VIP</th>\n",
       "      <th>RoomService</th>\n",
       "      <th>FoodCourt</th>\n",
       "      <th>ShoppingMall</th>\n",
       "      <th>Spa</th>\n",
       "      <th>VRDeck</th>\n",
       "      <th>Name</th>\n",
       "      <th>Transported</th>\n",
       "    </tr>\n",
       "  </thead>\n",
       "  <tbody>\n",
       "    <tr>\n",
       "      <th>0</th>\n",
       "      <td>0001_01</td>\n",
       "      <td>Europa</td>\n",
       "      <td>False</td>\n",
       "      <td>B/0/P</td>\n",
       "      <td>TRAPPIST-1e</td>\n",
       "      <td>39.0</td>\n",
       "      <td>False</td>\n",
       "      <td>0.0</td>\n",
       "      <td>0.0</td>\n",
       "      <td>0.0</td>\n",
       "      <td>0.0</td>\n",
       "      <td>0.0</td>\n",
       "      <td>Maham Ofracculy</td>\n",
       "      <td>False</td>\n",
       "    </tr>\n",
       "    <tr>\n",
       "      <th>1</th>\n",
       "      <td>0002_01</td>\n",
       "      <td>Earth</td>\n",
       "      <td>False</td>\n",
       "      <td>F/0/S</td>\n",
       "      <td>TRAPPIST-1e</td>\n",
       "      <td>24.0</td>\n",
       "      <td>False</td>\n",
       "      <td>109.0</td>\n",
       "      <td>9.0</td>\n",
       "      <td>25.0</td>\n",
       "      <td>549.0</td>\n",
       "      <td>44.0</td>\n",
       "      <td>Juanna Vines</td>\n",
       "      <td>True</td>\n",
       "    </tr>\n",
       "    <tr>\n",
       "      <th>2</th>\n",
       "      <td>0003_01</td>\n",
       "      <td>Europa</td>\n",
       "      <td>False</td>\n",
       "      <td>A/0/S</td>\n",
       "      <td>TRAPPIST-1e</td>\n",
       "      <td>58.0</td>\n",
       "      <td>True</td>\n",
       "      <td>43.0</td>\n",
       "      <td>3576.0</td>\n",
       "      <td>0.0</td>\n",
       "      <td>6715.0</td>\n",
       "      <td>49.0</td>\n",
       "      <td>Altark Susent</td>\n",
       "      <td>False</td>\n",
       "    </tr>\n",
       "    <tr>\n",
       "      <th>3</th>\n",
       "      <td>0003_02</td>\n",
       "      <td>Europa</td>\n",
       "      <td>False</td>\n",
       "      <td>A/0/S</td>\n",
       "      <td>TRAPPIST-1e</td>\n",
       "      <td>33.0</td>\n",
       "      <td>False</td>\n",
       "      <td>0.0</td>\n",
       "      <td>1283.0</td>\n",
       "      <td>371.0</td>\n",
       "      <td>3329.0</td>\n",
       "      <td>193.0</td>\n",
       "      <td>Solam Susent</td>\n",
       "      <td>False</td>\n",
       "    </tr>\n",
       "    <tr>\n",
       "      <th>4</th>\n",
       "      <td>0004_01</td>\n",
       "      <td>Earth</td>\n",
       "      <td>False</td>\n",
       "      <td>F/1/S</td>\n",
       "      <td>TRAPPIST-1e</td>\n",
       "      <td>16.0</td>\n",
       "      <td>False</td>\n",
       "      <td>303.0</td>\n",
       "      <td>70.0</td>\n",
       "      <td>151.0</td>\n",
       "      <td>565.0</td>\n",
       "      <td>2.0</td>\n",
       "      <td>Willy Santantines</td>\n",
       "      <td>True</td>\n",
       "    </tr>\n",
       "  </tbody>\n",
       "</table>\n",
       "</div>"
      ],
      "text/plain": [
       "  PassengerId HomePlanet CryoSleep  Cabin  Destination   Age    VIP  \\\n",
       "0     0001_01     Europa     False  B/0/P  TRAPPIST-1e  39.0  False   \n",
       "1     0002_01      Earth     False  F/0/S  TRAPPIST-1e  24.0  False   \n",
       "2     0003_01     Europa     False  A/0/S  TRAPPIST-1e  58.0   True   \n",
       "3     0003_02     Europa     False  A/0/S  TRAPPIST-1e  33.0  False   \n",
       "4     0004_01      Earth     False  F/1/S  TRAPPIST-1e  16.0  False   \n",
       "\n",
       "   RoomService  FoodCourt  ShoppingMall     Spa  VRDeck               Name  \\\n",
       "0          0.0        0.0           0.0     0.0     0.0    Maham Ofracculy   \n",
       "1        109.0        9.0          25.0   549.0    44.0       Juanna Vines   \n",
       "2         43.0     3576.0           0.0  6715.0    49.0      Altark Susent   \n",
       "3          0.0     1283.0         371.0  3329.0   193.0       Solam Susent   \n",
       "4        303.0       70.0         151.0   565.0     2.0  Willy Santantines   \n",
       "\n",
       "   Transported  \n",
       "0        False  \n",
       "1         True  \n",
       "2        False  \n",
       "3        False  \n",
       "4         True  "
      ]
     },
     "execution_count": 3,
     "metadata": {},
     "output_type": "execute_result"
    }
   ],
   "source": [
    "train.head()"
   ]
  },
  {
   "cell_type": "code",
   "execution_count": 4,
   "id": "3ea014f6",
   "metadata": {},
   "outputs": [
    {
     "data": {
      "text/html": [
       "<div>\n",
       "<style scoped>\n",
       "    .dataframe tbody tr th:only-of-type {\n",
       "        vertical-align: middle;\n",
       "    }\n",
       "\n",
       "    .dataframe tbody tr th {\n",
       "        vertical-align: top;\n",
       "    }\n",
       "\n",
       "    .dataframe thead th {\n",
       "        text-align: right;\n",
       "    }\n",
       "</style>\n",
       "<table border=\"1\" class=\"dataframe\">\n",
       "  <thead>\n",
       "    <tr style=\"text-align: right;\">\n",
       "      <th></th>\n",
       "      <th>PassengerId</th>\n",
       "      <th>HomePlanet</th>\n",
       "      <th>CryoSleep</th>\n",
       "      <th>Cabin</th>\n",
       "      <th>Destination</th>\n",
       "      <th>Age</th>\n",
       "      <th>VIP</th>\n",
       "      <th>RoomService</th>\n",
       "      <th>FoodCourt</th>\n",
       "      <th>ShoppingMall</th>\n",
       "      <th>Spa</th>\n",
       "      <th>VRDeck</th>\n",
       "      <th>Name</th>\n",
       "    </tr>\n",
       "  </thead>\n",
       "  <tbody>\n",
       "    <tr>\n",
       "      <th>0</th>\n",
       "      <td>0013_01</td>\n",
       "      <td>Earth</td>\n",
       "      <td>True</td>\n",
       "      <td>G/3/S</td>\n",
       "      <td>TRAPPIST-1e</td>\n",
       "      <td>27.0</td>\n",
       "      <td>False</td>\n",
       "      <td>0.0</td>\n",
       "      <td>0.0</td>\n",
       "      <td>0.0</td>\n",
       "      <td>0.0</td>\n",
       "      <td>0.0</td>\n",
       "      <td>Nelly Carsoning</td>\n",
       "    </tr>\n",
       "    <tr>\n",
       "      <th>1</th>\n",
       "      <td>0018_01</td>\n",
       "      <td>Earth</td>\n",
       "      <td>False</td>\n",
       "      <td>F/4/S</td>\n",
       "      <td>TRAPPIST-1e</td>\n",
       "      <td>19.0</td>\n",
       "      <td>False</td>\n",
       "      <td>0.0</td>\n",
       "      <td>9.0</td>\n",
       "      <td>0.0</td>\n",
       "      <td>2823.0</td>\n",
       "      <td>0.0</td>\n",
       "      <td>Lerome Peckers</td>\n",
       "    </tr>\n",
       "    <tr>\n",
       "      <th>2</th>\n",
       "      <td>0019_01</td>\n",
       "      <td>Europa</td>\n",
       "      <td>True</td>\n",
       "      <td>C/0/S</td>\n",
       "      <td>55 Cancri e</td>\n",
       "      <td>31.0</td>\n",
       "      <td>False</td>\n",
       "      <td>0.0</td>\n",
       "      <td>0.0</td>\n",
       "      <td>0.0</td>\n",
       "      <td>0.0</td>\n",
       "      <td>0.0</td>\n",
       "      <td>Sabih Unhearfus</td>\n",
       "    </tr>\n",
       "    <tr>\n",
       "      <th>3</th>\n",
       "      <td>0021_01</td>\n",
       "      <td>Europa</td>\n",
       "      <td>False</td>\n",
       "      <td>C/1/S</td>\n",
       "      <td>TRAPPIST-1e</td>\n",
       "      <td>38.0</td>\n",
       "      <td>False</td>\n",
       "      <td>0.0</td>\n",
       "      <td>6652.0</td>\n",
       "      <td>0.0</td>\n",
       "      <td>181.0</td>\n",
       "      <td>585.0</td>\n",
       "      <td>Meratz Caltilter</td>\n",
       "    </tr>\n",
       "    <tr>\n",
       "      <th>4</th>\n",
       "      <td>0023_01</td>\n",
       "      <td>Earth</td>\n",
       "      <td>False</td>\n",
       "      <td>F/5/S</td>\n",
       "      <td>TRAPPIST-1e</td>\n",
       "      <td>20.0</td>\n",
       "      <td>False</td>\n",
       "      <td>10.0</td>\n",
       "      <td>0.0</td>\n",
       "      <td>635.0</td>\n",
       "      <td>0.0</td>\n",
       "      <td>0.0</td>\n",
       "      <td>Brence Harperez</td>\n",
       "    </tr>\n",
       "  </tbody>\n",
       "</table>\n",
       "</div>"
      ],
      "text/plain": [
       "  PassengerId HomePlanet CryoSleep  Cabin  Destination   Age    VIP  \\\n",
       "0     0013_01      Earth      True  G/3/S  TRAPPIST-1e  27.0  False   \n",
       "1     0018_01      Earth     False  F/4/S  TRAPPIST-1e  19.0  False   \n",
       "2     0019_01     Europa      True  C/0/S  55 Cancri e  31.0  False   \n",
       "3     0021_01     Europa     False  C/1/S  TRAPPIST-1e  38.0  False   \n",
       "4     0023_01      Earth     False  F/5/S  TRAPPIST-1e  20.0  False   \n",
       "\n",
       "   RoomService  FoodCourt  ShoppingMall     Spa  VRDeck              Name  \n",
       "0          0.0        0.0           0.0     0.0     0.0   Nelly Carsoning  \n",
       "1          0.0        9.0           0.0  2823.0     0.0    Lerome Peckers  \n",
       "2          0.0        0.0           0.0     0.0     0.0   Sabih Unhearfus  \n",
       "3          0.0     6652.0           0.0   181.0   585.0  Meratz Caltilter  \n",
       "4         10.0        0.0         635.0     0.0     0.0   Brence Harperez  "
      ]
     },
     "execution_count": 4,
     "metadata": {},
     "output_type": "execute_result"
    }
   ],
   "source": [
    "test.head()"
   ]
  },
  {
   "cell_type": "markdown",
   "id": "cec0c677",
   "metadata": {},
   "source": [
    "Below I wanted to see the characteristics of both the continuous and the categorical data. From the competition description RoomService, FoodCourt, ShoppingMall, Spa, and VRDeck are the amounts the passenger has billed at each of the Spaceship Titanic's many luxury amenities. Age has much smaller values than the other continuous values and I may want to look at evening these out in the future. \n",
    "\n",
    "In the categorical data there are a small number of categories for HomePlanet, CryoSleep, Destination and VIP. "
   ]
  },
  {
   "cell_type": "code",
   "execution_count": 5,
   "id": "397d5c16",
   "metadata": {},
   "outputs": [
    {
     "data": {
      "text/html": [
       "<div>\n",
       "<style scoped>\n",
       "    .dataframe tbody tr th:only-of-type {\n",
       "        vertical-align: middle;\n",
       "    }\n",
       "\n",
       "    .dataframe tbody tr th {\n",
       "        vertical-align: top;\n",
       "    }\n",
       "\n",
       "    .dataframe thead th {\n",
       "        text-align: right;\n",
       "    }\n",
       "</style>\n",
       "<table border=\"1\" class=\"dataframe\">\n",
       "  <thead>\n",
       "    <tr style=\"text-align: right;\">\n",
       "      <th></th>\n",
       "      <th>count</th>\n",
       "      <th>mean</th>\n",
       "      <th>std</th>\n",
       "      <th>min</th>\n",
       "      <th>25%</th>\n",
       "      <th>50%</th>\n",
       "      <th>75%</th>\n",
       "      <th>max</th>\n",
       "    </tr>\n",
       "  </thead>\n",
       "  <tbody>\n",
       "    <tr>\n",
       "      <th>Age</th>\n",
       "      <td>8514.0</td>\n",
       "      <td>29.0</td>\n",
       "      <td>14.0</td>\n",
       "      <td>0.0</td>\n",
       "      <td>19.0</td>\n",
       "      <td>27.0</td>\n",
       "      <td>38.0</td>\n",
       "      <td>79.0</td>\n",
       "    </tr>\n",
       "    <tr>\n",
       "      <th>RoomService</th>\n",
       "      <td>8512.0</td>\n",
       "      <td>225.0</td>\n",
       "      <td>667.0</td>\n",
       "      <td>0.0</td>\n",
       "      <td>0.0</td>\n",
       "      <td>0.0</td>\n",
       "      <td>47.0</td>\n",
       "      <td>14327.0</td>\n",
       "    </tr>\n",
       "    <tr>\n",
       "      <th>FoodCourt</th>\n",
       "      <td>8510.0</td>\n",
       "      <td>458.0</td>\n",
       "      <td>1611.0</td>\n",
       "      <td>0.0</td>\n",
       "      <td>0.0</td>\n",
       "      <td>0.0</td>\n",
       "      <td>76.0</td>\n",
       "      <td>29813.0</td>\n",
       "    </tr>\n",
       "    <tr>\n",
       "      <th>ShoppingMall</th>\n",
       "      <td>8485.0</td>\n",
       "      <td>174.0</td>\n",
       "      <td>605.0</td>\n",
       "      <td>0.0</td>\n",
       "      <td>0.0</td>\n",
       "      <td>0.0</td>\n",
       "      <td>27.0</td>\n",
       "      <td>23492.0</td>\n",
       "    </tr>\n",
       "    <tr>\n",
       "      <th>Spa</th>\n",
       "      <td>8510.0</td>\n",
       "      <td>311.0</td>\n",
       "      <td>1137.0</td>\n",
       "      <td>0.0</td>\n",
       "      <td>0.0</td>\n",
       "      <td>0.0</td>\n",
       "      <td>59.0</td>\n",
       "      <td>22408.0</td>\n",
       "    </tr>\n",
       "    <tr>\n",
       "      <th>VRDeck</th>\n",
       "      <td>8505.0</td>\n",
       "      <td>305.0</td>\n",
       "      <td>1146.0</td>\n",
       "      <td>0.0</td>\n",
       "      <td>0.0</td>\n",
       "      <td>0.0</td>\n",
       "      <td>46.0</td>\n",
       "      <td>24133.0</td>\n",
       "    </tr>\n",
       "  </tbody>\n",
       "</table>\n",
       "</div>"
      ],
      "text/plain": [
       "               count   mean     std  min   25%   50%   75%      max\n",
       "Age           8514.0   29.0    14.0  0.0  19.0  27.0  38.0     79.0\n",
       "RoomService   8512.0  225.0   667.0  0.0   0.0   0.0  47.0  14327.0\n",
       "FoodCourt     8510.0  458.0  1611.0  0.0   0.0   0.0  76.0  29813.0\n",
       "ShoppingMall  8485.0  174.0   605.0  0.0   0.0   0.0  27.0  23492.0\n",
       "Spa           8510.0  311.0  1137.0  0.0   0.0   0.0  59.0  22408.0\n",
       "VRDeck        8505.0  305.0  1146.0  0.0   0.0   0.0  46.0  24133.0"
      ]
     },
     "execution_count": 5,
     "metadata": {},
     "output_type": "execute_result"
    }
   ],
   "source": [
    "train.describe().round().T"
   ]
  },
  {
   "cell_type": "code",
   "execution_count": 6,
   "id": "8af2070c",
   "metadata": {},
   "outputs": [
    {
     "data": {
      "text/html": [
       "<div>\n",
       "<style scoped>\n",
       "    .dataframe tbody tr th:only-of-type {\n",
       "        vertical-align: middle;\n",
       "    }\n",
       "\n",
       "    .dataframe tbody tr th {\n",
       "        vertical-align: top;\n",
       "    }\n",
       "\n",
       "    .dataframe thead th {\n",
       "        text-align: right;\n",
       "    }\n",
       "</style>\n",
       "<table border=\"1\" class=\"dataframe\">\n",
       "  <thead>\n",
       "    <tr style=\"text-align: right;\">\n",
       "      <th></th>\n",
       "      <th>count</th>\n",
       "      <th>unique</th>\n",
       "      <th>top</th>\n",
       "      <th>freq</th>\n",
       "    </tr>\n",
       "  </thead>\n",
       "  <tbody>\n",
       "    <tr>\n",
       "      <th>PassengerId</th>\n",
       "      <td>8693</td>\n",
       "      <td>8693</td>\n",
       "      <td>0001_01</td>\n",
       "      <td>1</td>\n",
       "    </tr>\n",
       "    <tr>\n",
       "      <th>HomePlanet</th>\n",
       "      <td>8492</td>\n",
       "      <td>3</td>\n",
       "      <td>Earth</td>\n",
       "      <td>4602</td>\n",
       "    </tr>\n",
       "    <tr>\n",
       "      <th>CryoSleep</th>\n",
       "      <td>8476</td>\n",
       "      <td>2</td>\n",
       "      <td>False</td>\n",
       "      <td>5439</td>\n",
       "    </tr>\n",
       "    <tr>\n",
       "      <th>Cabin</th>\n",
       "      <td>8494</td>\n",
       "      <td>6560</td>\n",
       "      <td>G/734/S</td>\n",
       "      <td>8</td>\n",
       "    </tr>\n",
       "    <tr>\n",
       "      <th>Destination</th>\n",
       "      <td>8511</td>\n",
       "      <td>3</td>\n",
       "      <td>TRAPPIST-1e</td>\n",
       "      <td>5915</td>\n",
       "    </tr>\n",
       "    <tr>\n",
       "      <th>VIP</th>\n",
       "      <td>8490</td>\n",
       "      <td>2</td>\n",
       "      <td>False</td>\n",
       "      <td>8291</td>\n",
       "    </tr>\n",
       "    <tr>\n",
       "      <th>Name</th>\n",
       "      <td>8493</td>\n",
       "      <td>8473</td>\n",
       "      <td>Gollux Reedall</td>\n",
       "      <td>2</td>\n",
       "    </tr>\n",
       "  </tbody>\n",
       "</table>\n",
       "</div>"
      ],
      "text/plain": [
       "            count unique             top  freq\n",
       "PassengerId  8693   8693         0001_01     1\n",
       "HomePlanet   8492      3           Earth  4602\n",
       "CryoSleep    8476      2           False  5439\n",
       "Cabin        8494   6560         G/734/S     8\n",
       "Destination  8511      3     TRAPPIST-1e  5915\n",
       "VIP          8490      2           False  8291\n",
       "Name         8493   8473  Gollux Reedall     2"
      ]
     },
     "execution_count": 6,
     "metadata": {},
     "output_type": "execute_result"
    }
   ],
   "source": [
    "train.describe(include=object).round().T"
   ]
  },
  {
   "cell_type": "markdown",
   "id": "f42e6be0",
   "metadata": {},
   "source": [
    "I want to add new columns for the group and size subcomponents in PassengerId, two new columns to separate out the deck and the side of the Cabin, a new columnn for last name, and a new column to sum up all the spending for the RoomService, FoodCourt, ShoppingMall, Spa and VRDeck columns."
   ]
  },
  {
   "cell_type": "code",
   "execution_count": 7,
   "id": "3c99d5d4",
   "metadata": {},
   "outputs": [],
   "source": [
    "train['Group'] = train['PassengerId'].str[0:4]\n",
    "train['GroupSize'] = train.groupby('Group')['Group'].transform(len)\n",
    "train[['Deck', 'Number', 'Side']] = train['Cabin'].str.split('/', expand=True)\n",
    "splitted = train['Name'].str.split()\n",
    "train['LastName'] = splitted.str[-1]\n",
    "train['Spend'] = train['RoomService'] + train['FoodCourt'] + train['ShoppingMall'] + train['Spa'] + train['VRDeck']"
   ]
  },
  {
   "cell_type": "code",
   "execution_count": 8,
   "id": "42148599",
   "metadata": {},
   "outputs": [
    {
     "data": {
      "text/html": [
       "<div>\n",
       "<style scoped>\n",
       "    .dataframe tbody tr th:only-of-type {\n",
       "        vertical-align: middle;\n",
       "    }\n",
       "\n",
       "    .dataframe tbody tr th {\n",
       "        vertical-align: top;\n",
       "    }\n",
       "\n",
       "    .dataframe thead th {\n",
       "        text-align: right;\n",
       "    }\n",
       "</style>\n",
       "<table border=\"1\" class=\"dataframe\">\n",
       "  <thead>\n",
       "    <tr style=\"text-align: right;\">\n",
       "      <th></th>\n",
       "      <th>PassengerId</th>\n",
       "      <th>HomePlanet</th>\n",
       "      <th>CryoSleep</th>\n",
       "      <th>Cabin</th>\n",
       "      <th>Destination</th>\n",
       "      <th>Age</th>\n",
       "      <th>VIP</th>\n",
       "      <th>RoomService</th>\n",
       "      <th>FoodCourt</th>\n",
       "      <th>ShoppingMall</th>\n",
       "      <th>...</th>\n",
       "      <th>VRDeck</th>\n",
       "      <th>Name</th>\n",
       "      <th>Transported</th>\n",
       "      <th>Group</th>\n",
       "      <th>GroupSize</th>\n",
       "      <th>Deck</th>\n",
       "      <th>Number</th>\n",
       "      <th>Side</th>\n",
       "      <th>LastName</th>\n",
       "      <th>Spend</th>\n",
       "    </tr>\n",
       "  </thead>\n",
       "  <tbody>\n",
       "    <tr>\n",
       "      <th>0</th>\n",
       "      <td>0001_01</td>\n",
       "      <td>Europa</td>\n",
       "      <td>False</td>\n",
       "      <td>B/0/P</td>\n",
       "      <td>TRAPPIST-1e</td>\n",
       "      <td>39.0</td>\n",
       "      <td>False</td>\n",
       "      <td>0.0</td>\n",
       "      <td>0.0</td>\n",
       "      <td>0.0</td>\n",
       "      <td>...</td>\n",
       "      <td>0.0</td>\n",
       "      <td>Maham Ofracculy</td>\n",
       "      <td>False</td>\n",
       "      <td>0001</td>\n",
       "      <td>1</td>\n",
       "      <td>B</td>\n",
       "      <td>0</td>\n",
       "      <td>P</td>\n",
       "      <td>Ofracculy</td>\n",
       "      <td>0.0</td>\n",
       "    </tr>\n",
       "    <tr>\n",
       "      <th>1</th>\n",
       "      <td>0002_01</td>\n",
       "      <td>Earth</td>\n",
       "      <td>False</td>\n",
       "      <td>F/0/S</td>\n",
       "      <td>TRAPPIST-1e</td>\n",
       "      <td>24.0</td>\n",
       "      <td>False</td>\n",
       "      <td>109.0</td>\n",
       "      <td>9.0</td>\n",
       "      <td>25.0</td>\n",
       "      <td>...</td>\n",
       "      <td>44.0</td>\n",
       "      <td>Juanna Vines</td>\n",
       "      <td>True</td>\n",
       "      <td>0002</td>\n",
       "      <td>1</td>\n",
       "      <td>F</td>\n",
       "      <td>0</td>\n",
       "      <td>S</td>\n",
       "      <td>Vines</td>\n",
       "      <td>736.0</td>\n",
       "    </tr>\n",
       "    <tr>\n",
       "      <th>2</th>\n",
       "      <td>0003_01</td>\n",
       "      <td>Europa</td>\n",
       "      <td>False</td>\n",
       "      <td>A/0/S</td>\n",
       "      <td>TRAPPIST-1e</td>\n",
       "      <td>58.0</td>\n",
       "      <td>True</td>\n",
       "      <td>43.0</td>\n",
       "      <td>3576.0</td>\n",
       "      <td>0.0</td>\n",
       "      <td>...</td>\n",
       "      <td>49.0</td>\n",
       "      <td>Altark Susent</td>\n",
       "      <td>False</td>\n",
       "      <td>0003</td>\n",
       "      <td>2</td>\n",
       "      <td>A</td>\n",
       "      <td>0</td>\n",
       "      <td>S</td>\n",
       "      <td>Susent</td>\n",
       "      <td>10383.0</td>\n",
       "    </tr>\n",
       "    <tr>\n",
       "      <th>3</th>\n",
       "      <td>0003_02</td>\n",
       "      <td>Europa</td>\n",
       "      <td>False</td>\n",
       "      <td>A/0/S</td>\n",
       "      <td>TRAPPIST-1e</td>\n",
       "      <td>33.0</td>\n",
       "      <td>False</td>\n",
       "      <td>0.0</td>\n",
       "      <td>1283.0</td>\n",
       "      <td>371.0</td>\n",
       "      <td>...</td>\n",
       "      <td>193.0</td>\n",
       "      <td>Solam Susent</td>\n",
       "      <td>False</td>\n",
       "      <td>0003</td>\n",
       "      <td>2</td>\n",
       "      <td>A</td>\n",
       "      <td>0</td>\n",
       "      <td>S</td>\n",
       "      <td>Susent</td>\n",
       "      <td>5176.0</td>\n",
       "    </tr>\n",
       "    <tr>\n",
       "      <th>4</th>\n",
       "      <td>0004_01</td>\n",
       "      <td>Earth</td>\n",
       "      <td>False</td>\n",
       "      <td>F/1/S</td>\n",
       "      <td>TRAPPIST-1e</td>\n",
       "      <td>16.0</td>\n",
       "      <td>False</td>\n",
       "      <td>303.0</td>\n",
       "      <td>70.0</td>\n",
       "      <td>151.0</td>\n",
       "      <td>...</td>\n",
       "      <td>2.0</td>\n",
       "      <td>Willy Santantines</td>\n",
       "      <td>True</td>\n",
       "      <td>0004</td>\n",
       "      <td>1</td>\n",
       "      <td>F</td>\n",
       "      <td>1</td>\n",
       "      <td>S</td>\n",
       "      <td>Santantines</td>\n",
       "      <td>1091.0</td>\n",
       "    </tr>\n",
       "  </tbody>\n",
       "</table>\n",
       "<p>5 rows × 21 columns</p>\n",
       "</div>"
      ],
      "text/plain": [
       "  PassengerId HomePlanet CryoSleep  Cabin  Destination   Age    VIP  \\\n",
       "0     0001_01     Europa     False  B/0/P  TRAPPIST-1e  39.0  False   \n",
       "1     0002_01      Earth     False  F/0/S  TRAPPIST-1e  24.0  False   \n",
       "2     0003_01     Europa     False  A/0/S  TRAPPIST-1e  58.0   True   \n",
       "3     0003_02     Europa     False  A/0/S  TRAPPIST-1e  33.0  False   \n",
       "4     0004_01      Earth     False  F/1/S  TRAPPIST-1e  16.0  False   \n",
       "\n",
       "   RoomService  FoodCourt  ShoppingMall  ...  VRDeck               Name  \\\n",
       "0          0.0        0.0           0.0  ...     0.0    Maham Ofracculy   \n",
       "1        109.0        9.0          25.0  ...    44.0       Juanna Vines   \n",
       "2         43.0     3576.0           0.0  ...    49.0      Altark Susent   \n",
       "3          0.0     1283.0         371.0  ...   193.0       Solam Susent   \n",
       "4        303.0       70.0         151.0  ...     2.0  Willy Santantines   \n",
       "\n",
       "  Transported  Group GroupSize  Deck Number Side     LastName    Spend  \n",
       "0       False   0001         1     B      0    P    Ofracculy      0.0  \n",
       "1        True   0002         1     F      0    S        Vines    736.0  \n",
       "2       False   0003         2     A      0    S       Susent  10383.0  \n",
       "3       False   0003         2     A      0    S       Susent   5176.0  \n",
       "4        True   0004         1     F      1    S  Santantines   1091.0  \n",
       "\n",
       "[5 rows x 21 columns]"
      ]
     },
     "execution_count": 8,
     "metadata": {},
     "output_type": "execute_result"
    }
   ],
   "source": [
    "train.head()"
   ]
  },
  {
   "cell_type": "markdown",
   "id": "a8129edb",
   "metadata": {},
   "source": [
    "I also want to do the same things on the test dataset"
   ]
  },
  {
   "cell_type": "code",
   "execution_count": 9,
   "id": "440bfe10",
   "metadata": {},
   "outputs": [],
   "source": [
    "test['Group'] = test['PassengerId'].str[0:4]\n",
    "test['GroupSize'] = test.groupby('Group')['Group'].transform(len)\n",
    "test[['Deck', 'Number', 'Side']] = test['Cabin'].str.split('/', expand=True)\n",
    "splitted = test['Name'].str.split()\n",
    "test['LastName'] = splitted.str[-1]\n",
    "test['Spend'] = test['RoomService'] + test['FoodCourt'] + test['ShoppingMall'] + test['Spa'] + test['VRDeck']"
   ]
  },
  {
   "cell_type": "code",
   "execution_count": 10,
   "id": "3b7d86c4",
   "metadata": {},
   "outputs": [
    {
     "data": {
      "text/html": [
       "<div>\n",
       "<style scoped>\n",
       "    .dataframe tbody tr th:only-of-type {\n",
       "        vertical-align: middle;\n",
       "    }\n",
       "\n",
       "    .dataframe tbody tr th {\n",
       "        vertical-align: top;\n",
       "    }\n",
       "\n",
       "    .dataframe thead th {\n",
       "        text-align: right;\n",
       "    }\n",
       "</style>\n",
       "<table border=\"1\" class=\"dataframe\">\n",
       "  <thead>\n",
       "    <tr style=\"text-align: right;\">\n",
       "      <th></th>\n",
       "      <th>PassengerId</th>\n",
       "      <th>HomePlanet</th>\n",
       "      <th>CryoSleep</th>\n",
       "      <th>Cabin</th>\n",
       "      <th>Destination</th>\n",
       "      <th>Age</th>\n",
       "      <th>VIP</th>\n",
       "      <th>RoomService</th>\n",
       "      <th>FoodCourt</th>\n",
       "      <th>ShoppingMall</th>\n",
       "      <th>Spa</th>\n",
       "      <th>VRDeck</th>\n",
       "      <th>Name</th>\n",
       "      <th>Group</th>\n",
       "      <th>GroupSize</th>\n",
       "      <th>Deck</th>\n",
       "      <th>Number</th>\n",
       "      <th>Side</th>\n",
       "      <th>LastName</th>\n",
       "      <th>Spend</th>\n",
       "    </tr>\n",
       "  </thead>\n",
       "  <tbody>\n",
       "    <tr>\n",
       "      <th>0</th>\n",
       "      <td>0013_01</td>\n",
       "      <td>Earth</td>\n",
       "      <td>True</td>\n",
       "      <td>G/3/S</td>\n",
       "      <td>TRAPPIST-1e</td>\n",
       "      <td>27.0</td>\n",
       "      <td>False</td>\n",
       "      <td>0.0</td>\n",
       "      <td>0.0</td>\n",
       "      <td>0.0</td>\n",
       "      <td>0.0</td>\n",
       "      <td>0.0</td>\n",
       "      <td>Nelly Carsoning</td>\n",
       "      <td>0013</td>\n",
       "      <td>1</td>\n",
       "      <td>G</td>\n",
       "      <td>3</td>\n",
       "      <td>S</td>\n",
       "      <td>Carsoning</td>\n",
       "      <td>0.0</td>\n",
       "    </tr>\n",
       "    <tr>\n",
       "      <th>1</th>\n",
       "      <td>0018_01</td>\n",
       "      <td>Earth</td>\n",
       "      <td>False</td>\n",
       "      <td>F/4/S</td>\n",
       "      <td>TRAPPIST-1e</td>\n",
       "      <td>19.0</td>\n",
       "      <td>False</td>\n",
       "      <td>0.0</td>\n",
       "      <td>9.0</td>\n",
       "      <td>0.0</td>\n",
       "      <td>2823.0</td>\n",
       "      <td>0.0</td>\n",
       "      <td>Lerome Peckers</td>\n",
       "      <td>0018</td>\n",
       "      <td>1</td>\n",
       "      <td>F</td>\n",
       "      <td>4</td>\n",
       "      <td>S</td>\n",
       "      <td>Peckers</td>\n",
       "      <td>2832.0</td>\n",
       "    </tr>\n",
       "    <tr>\n",
       "      <th>2</th>\n",
       "      <td>0019_01</td>\n",
       "      <td>Europa</td>\n",
       "      <td>True</td>\n",
       "      <td>C/0/S</td>\n",
       "      <td>55 Cancri e</td>\n",
       "      <td>31.0</td>\n",
       "      <td>False</td>\n",
       "      <td>0.0</td>\n",
       "      <td>0.0</td>\n",
       "      <td>0.0</td>\n",
       "      <td>0.0</td>\n",
       "      <td>0.0</td>\n",
       "      <td>Sabih Unhearfus</td>\n",
       "      <td>0019</td>\n",
       "      <td>1</td>\n",
       "      <td>C</td>\n",
       "      <td>0</td>\n",
       "      <td>S</td>\n",
       "      <td>Unhearfus</td>\n",
       "      <td>0.0</td>\n",
       "    </tr>\n",
       "    <tr>\n",
       "      <th>3</th>\n",
       "      <td>0021_01</td>\n",
       "      <td>Europa</td>\n",
       "      <td>False</td>\n",
       "      <td>C/1/S</td>\n",
       "      <td>TRAPPIST-1e</td>\n",
       "      <td>38.0</td>\n",
       "      <td>False</td>\n",
       "      <td>0.0</td>\n",
       "      <td>6652.0</td>\n",
       "      <td>0.0</td>\n",
       "      <td>181.0</td>\n",
       "      <td>585.0</td>\n",
       "      <td>Meratz Caltilter</td>\n",
       "      <td>0021</td>\n",
       "      <td>1</td>\n",
       "      <td>C</td>\n",
       "      <td>1</td>\n",
       "      <td>S</td>\n",
       "      <td>Caltilter</td>\n",
       "      <td>7418.0</td>\n",
       "    </tr>\n",
       "    <tr>\n",
       "      <th>4</th>\n",
       "      <td>0023_01</td>\n",
       "      <td>Earth</td>\n",
       "      <td>False</td>\n",
       "      <td>F/5/S</td>\n",
       "      <td>TRAPPIST-1e</td>\n",
       "      <td>20.0</td>\n",
       "      <td>False</td>\n",
       "      <td>10.0</td>\n",
       "      <td>0.0</td>\n",
       "      <td>635.0</td>\n",
       "      <td>0.0</td>\n",
       "      <td>0.0</td>\n",
       "      <td>Brence Harperez</td>\n",
       "      <td>0023</td>\n",
       "      <td>1</td>\n",
       "      <td>F</td>\n",
       "      <td>5</td>\n",
       "      <td>S</td>\n",
       "      <td>Harperez</td>\n",
       "      <td>645.0</td>\n",
       "    </tr>\n",
       "  </tbody>\n",
       "</table>\n",
       "</div>"
      ],
      "text/plain": [
       "  PassengerId HomePlanet CryoSleep  Cabin  Destination   Age    VIP  \\\n",
       "0     0013_01      Earth      True  G/3/S  TRAPPIST-1e  27.0  False   \n",
       "1     0018_01      Earth     False  F/4/S  TRAPPIST-1e  19.0  False   \n",
       "2     0019_01     Europa      True  C/0/S  55 Cancri e  31.0  False   \n",
       "3     0021_01     Europa     False  C/1/S  TRAPPIST-1e  38.0  False   \n",
       "4     0023_01      Earth     False  F/5/S  TRAPPIST-1e  20.0  False   \n",
       "\n",
       "   RoomService  FoodCourt  ShoppingMall     Spa  VRDeck              Name  \\\n",
       "0          0.0        0.0           0.0     0.0     0.0   Nelly Carsoning   \n",
       "1          0.0        9.0           0.0  2823.0     0.0    Lerome Peckers   \n",
       "2          0.0        0.0           0.0     0.0     0.0   Sabih Unhearfus   \n",
       "3          0.0     6652.0           0.0   181.0   585.0  Meratz Caltilter   \n",
       "4         10.0        0.0         635.0     0.0     0.0   Brence Harperez   \n",
       "\n",
       "  Group  GroupSize Deck Number Side   LastName   Spend  \n",
       "0  0013          1    G      3    S  Carsoning     0.0  \n",
       "1  0018          1    F      4    S    Peckers  2832.0  \n",
       "2  0019          1    C      0    S  Unhearfus     0.0  \n",
       "3  0021          1    C      1    S  Caltilter  7418.0  \n",
       "4  0023          1    F      5    S   Harperez   645.0  "
      ]
     },
     "execution_count": 10,
     "metadata": {},
     "output_type": "execute_result"
    }
   ],
   "source": [
    "test.head()"
   ]
  },
  {
   "cell_type": "markdown",
   "id": "d2fffb73",
   "metadata": {},
   "source": [
    "# Data Imputation"
   ]
  },
  {
   "cell_type": "markdown",
   "id": "0ffa353e",
   "metadata": {},
   "source": [
    "We can see that there are about 200 each of missing data for all the parameters except PassengerID and Transported. "
   ]
  },
  {
   "cell_type": "code",
   "execution_count": 11,
   "id": "74c07da5",
   "metadata": {},
   "outputs": [
    {
     "data": {
      "text/plain": [
       "PassengerId       0\n",
       "HomePlanet      201\n",
       "CryoSleep       217\n",
       "Cabin           199\n",
       "Destination     182\n",
       "Age             179\n",
       "VIP             203\n",
       "RoomService     181\n",
       "FoodCourt       183\n",
       "ShoppingMall    208\n",
       "Spa             183\n",
       "VRDeck          188\n",
       "Name            200\n",
       "Transported       0\n",
       "Group             0\n",
       "GroupSize         0\n",
       "Deck            199\n",
       "Number          199\n",
       "Side            199\n",
       "LastName        200\n",
       "Spend           908\n",
       "dtype: int64"
      ]
     },
     "execution_count": 11,
     "metadata": {},
     "output_type": "execute_result"
    }
   ],
   "source": [
    "train.isna().sum()"
   ]
  },
  {
   "cell_type": "code",
   "execution_count": 12,
   "id": "e3916a5b",
   "metadata": {},
   "outputs": [
    {
     "data": {
      "text/plain": [
       "PassengerId       0\n",
       "HomePlanet       87\n",
       "CryoSleep        93\n",
       "Cabin           100\n",
       "Destination      92\n",
       "Age              91\n",
       "VIP              93\n",
       "RoomService      82\n",
       "FoodCourt       106\n",
       "ShoppingMall     98\n",
       "Spa             101\n",
       "VRDeck           80\n",
       "Name             94\n",
       "Group             0\n",
       "GroupSize         0\n",
       "Deck            100\n",
       "Number          100\n",
       "Side            100\n",
       "LastName         94\n",
       "Spend           455\n",
       "dtype: int64"
      ]
     },
     "execution_count": 12,
     "metadata": {},
     "output_type": "execute_result"
    }
   ],
   "source": [
    "test.isna().sum()"
   ]
  },
  {
   "cell_type": "markdown",
   "id": "ef70d18a",
   "metadata": {},
   "source": [
    "First I wanted to run the value counts of all the features, then I'd look for relationships to other features for guidance in fillin in NaN values. "
   ]
  },
  {
   "cell_type": "code",
   "execution_count": 13,
   "id": "6fef862d",
   "metadata": {},
   "outputs": [
    {
     "name": "stdout",
     "output_type": "stream",
     "text": [
      "LENGTH: 8693\n",
      " 0001_01    1\n",
      "6136_01    1\n",
      "6141_01    1\n",
      "6139_06    1\n",
      "6139_05    1\n",
      "          ..\n",
      "3126_01    1\n",
      "3124_03    1\n",
      "3124_02    1\n",
      "3124_01    1\n",
      "9280_02    1\n",
      "Name: PassengerId, Length: 8693, dtype: int64\n",
      "\n",
      "LENGTH: 3\n",
      " Earth     4602\n",
      "Europa    2131\n",
      "Mars      1759\n",
      "Name: HomePlanet, dtype: int64\n",
      "\n",
      "LENGTH: 2\n",
      " False    5439\n",
      "True     3037\n",
      "Name: CryoSleep, dtype: int64\n",
      "\n",
      "LENGTH: 6560\n",
      " G/734/S     8\n",
      "G/109/P     7\n",
      "B/201/P     7\n",
      "G/1368/P    7\n",
      "G/981/S     7\n",
      "           ..\n",
      "G/556/P     1\n",
      "E/231/S     1\n",
      "G/545/S     1\n",
      "G/543/S     1\n",
      "F/947/P     1\n",
      "Name: Cabin, Length: 6560, dtype: int64\n",
      "\n",
      "LENGTH: 3\n",
      " TRAPPIST-1e      5915\n",
      "55 Cancri e      1800\n",
      "PSO J318.5-22     796\n",
      "Name: Destination, dtype: int64\n",
      "\n",
      "LENGTH: 80\n",
      " 24.0    324\n",
      "18.0    320\n",
      "21.0    311\n",
      "19.0    293\n",
      "23.0    292\n",
      "       ... \n",
      "72.0      4\n",
      "78.0      3\n",
      "79.0      3\n",
      "76.0      2\n",
      "77.0      2\n",
      "Name: Age, Length: 80, dtype: int64\n",
      "\n",
      "LENGTH: 2\n",
      " False    8291\n",
      "True      199\n",
      "Name: VIP, dtype: int64\n",
      "\n",
      "LENGTH: 1273\n",
      " 0.0       5577\n",
      "1.0        117\n",
      "2.0         79\n",
      "3.0         61\n",
      "4.0         47\n",
      "          ... \n",
      "1612.0       1\n",
      "2598.0       1\n",
      "632.0        1\n",
      "378.0        1\n",
      "745.0        1\n",
      "Name: RoomService, Length: 1273, dtype: int64\n",
      "\n",
      "LENGTH: 1507\n",
      " 0.0       5456\n",
      "1.0        116\n",
      "2.0         75\n",
      "3.0         53\n",
      "4.0         53\n",
      "          ... \n",
      "3846.0       1\n",
      "5193.0       1\n",
      "312.0        1\n",
      "827.0        1\n",
      "4688.0       1\n",
      "Name: FoodCourt, Length: 1507, dtype: int64\n",
      "\n",
      "LENGTH: 1115\n",
      " 0.0       5587\n",
      "1.0        153\n",
      "2.0         80\n",
      "3.0         59\n",
      "4.0         45\n",
      "          ... \n",
      "3627.0       1\n",
      "2074.0       1\n",
      "871.0        1\n",
      "742.0        1\n",
      "1872.0       1\n",
      "Name: ShoppingMall, Length: 1115, dtype: int64\n",
      "\n",
      "LENGTH: 1327\n",
      " 0.0       5324\n",
      "1.0        146\n",
      "2.0        105\n",
      "5.0         53\n",
      "3.0         53\n",
      "          ... \n",
      "273.0        1\n",
      "2581.0       1\n",
      "2948.0       1\n",
      "3778.0       1\n",
      "1643.0       1\n",
      "Name: Spa, Length: 1327, dtype: int64\n",
      "\n",
      "LENGTH: 1306\n",
      " 0.0       5495\n",
      "1.0        139\n",
      "2.0         70\n",
      "3.0         56\n",
      "5.0         51\n",
      "          ... \n",
      "408.0        1\n",
      "876.0        1\n",
      "2891.0       1\n",
      "2102.0       1\n",
      "3235.0       1\n",
      "Name: VRDeck, Length: 1306, dtype: int64\n",
      "\n",
      "LENGTH: 8473\n",
      " Gollux Reedall        2\n",
      "Elaney Webstephrey    2\n",
      "Grake Porki           2\n",
      "Sus Coolez            2\n",
      "Apix Wala             2\n",
      "                     ..\n",
      "Jamela Griffy         1\n",
      "Hardy Griffy          1\n",
      "Salley Mckinn         1\n",
      "Mall Frasp            1\n",
      "Propsh Hontichre      1\n",
      "Name: Name, Length: 8473, dtype: int64\n",
      "\n",
      "LENGTH: 2\n",
      " True     4378\n",
      "False    4315\n",
      "Name: Transported, dtype: int64\n",
      "\n",
      "LENGTH: 6217\n",
      " 4498    8\n",
      "8168    8\n",
      "8728    8\n",
      "8796    8\n",
      "8956    8\n",
      "       ..\n",
      "3483    1\n",
      "3480    1\n",
      "3478    1\n",
      "3473    1\n",
      "4620    1\n",
      "Name: Group, Length: 6217, dtype: int64\n",
      "\n",
      "LENGTH: 8\n",
      " 1    4805\n",
      "2    1682\n",
      "3    1020\n",
      "4     412\n",
      "5     265\n",
      "7     231\n",
      "6     174\n",
      "8     104\n",
      "Name: GroupSize, dtype: int64\n",
      "\n",
      "LENGTH: 8\n",
      " F    2794\n",
      "G    2559\n",
      "E     876\n",
      "B     779\n",
      "C     747\n",
      "D     478\n",
      "A     256\n",
      "T       5\n",
      "Name: Deck, dtype: int64\n",
      "\n",
      "LENGTH: 1817\n",
      " 82      28\n",
      "86      22\n",
      "19      22\n",
      "56      21\n",
      "176     21\n",
      "        ..\n",
      "1644     1\n",
      "1515     1\n",
      "1639     1\n",
      "1277     1\n",
      "1894     1\n",
      "Name: Number, Length: 1817, dtype: int64\n",
      "\n",
      "LENGTH: 2\n",
      " S    4288\n",
      "P    4206\n",
      "Name: Side, dtype: int64\n",
      "\n",
      "LENGTH: 2217\n",
      " Casonston     18\n",
      "Oneiles       16\n",
      "Domington     15\n",
      "Litthews      15\n",
      "Browlerson    14\n",
      "              ..\n",
      "Covale         1\n",
      "Dun            1\n",
      "Witalnerod     1\n",
      "Deryplinet     1\n",
      "Sionerorly     1\n",
      "Name: LastName, Length: 2217, dtype: int64\n",
      "\n",
      "LENGTH: 2116\n",
      " 0.0        3247\n",
      "809.0        50\n",
      "788.0        39\n",
      "804.0        36\n",
      "803.0        34\n",
      "           ... \n",
      "7994.0        1\n",
      "12238.0       1\n",
      "397.0         1\n",
      "2871.0        1\n",
      "4637.0        1\n",
      "Name: Spend, Length: 2116, dtype: int64\n",
      "\n"
     ]
    }
   ],
   "source": [
    "for col in train.columns:\n",
    "    col_counts = train[col].value_counts()\n",
    "    print(f'LENGTH: {len(col_counts)}\\n',f'{col_counts}\\n')"
   ]
  },
  {
   "cell_type": "markdown",
   "id": "bda2b08c",
   "metadata": {},
   "source": [
    "I'm also doing this for the test dataframe values to make sure the features have the same basic behavior as the train dataframe.  "
   ]
  },
  {
   "cell_type": "code",
   "execution_count": 14,
   "id": "06851a2a",
   "metadata": {},
   "outputs": [
    {
     "name": "stdout",
     "output_type": "stream",
     "text": [
      "LENGTH: 4277\n",
      " 0013_01    1\n",
      "6288_02    1\n",
      "6269_01    1\n",
      "6269_02    1\n",
      "6269_03    1\n",
      "          ..\n",
      "3072_01    1\n",
      "3074_01    1\n",
      "3075_01    1\n",
      "3077_01    1\n",
      "9277_01    1\n",
      "Name: PassengerId, Length: 4277, dtype: int64\n",
      "\n",
      "LENGTH: 3\n",
      " Earth     2263\n",
      "Europa    1002\n",
      "Mars       925\n",
      "Name: HomePlanet, dtype: int64\n",
      "\n",
      "LENGTH: 2\n",
      " False    2640\n",
      "True     1544\n",
      "Name: CryoSleep, dtype: int64\n",
      "\n",
      "LENGTH: 3265\n",
      " G/160/P     8\n",
      "D/273/S     7\n",
      "B/31/P      7\n",
      "G/748/S     7\n",
      "E/228/S     7\n",
      "           ..\n",
      "E/236/S     1\n",
      "F/650/S     1\n",
      "G/566/P     1\n",
      "G/557/S     1\n",
      "G/1498/S    1\n",
      "Name: Cabin, Length: 3265, dtype: int64\n",
      "\n",
      "LENGTH: 3\n",
      " TRAPPIST-1e      2956\n",
      "55 Cancri e       841\n",
      "PSO J318.5-22     388\n",
      "Name: Destination, dtype: int64\n",
      "\n",
      "LENGTH: 79\n",
      " 18.0    176\n",
      "22.0    163\n",
      "19.0    162\n",
      "20.0    160\n",
      "24.0    158\n",
      "       ... \n",
      "70.0      2\n",
      "79.0      2\n",
      "68.0      2\n",
      "78.0      1\n",
      "77.0      1\n",
      "Name: Age, Length: 79, dtype: int64\n",
      "\n",
      "LENGTH: 2\n",
      " False    4110\n",
      "True       74\n",
      "Name: VIP, dtype: int64\n",
      "\n",
      "LENGTH: 842\n",
      " 0.0       2726\n",
      "1.0         68\n",
      "2.0         34\n",
      "3.0         28\n",
      "4.0         24\n",
      "          ... \n",
      "1454.0       1\n",
      "6438.0       1\n",
      "2647.0       1\n",
      "1338.0       1\n",
      "147.0        1\n",
      "Name: RoomService, Length: 842, dtype: int64\n",
      "\n",
      "LENGTH: 902\n",
      " 0.0        2690\n",
      "1.0          59\n",
      "2.0          30\n",
      "4.0          22\n",
      "3.0          21\n",
      "           ... \n",
      "842.0         1\n",
      "1624.0        1\n",
      "20809.0       1\n",
      "6564.0        1\n",
      "2680.0        1\n",
      "Name: FoodCourt, Length: 902, dtype: int64\n",
      "\n",
      "LENGTH: 715\n",
      " 0.0       2744\n",
      "1.0         72\n",
      "3.0         35\n",
      "2.0         32\n",
      "4.0         24\n",
      "          ... \n",
      "936.0        1\n",
      "508.0        1\n",
      "2183.0       1\n",
      "2451.0       1\n",
      "3851.0       1\n",
      "Name: ShoppingMall, Length: 715, dtype: int64\n",
      "\n",
      "LENGTH: 833\n",
      " 0.0       2611\n",
      "1.0         72\n",
      "2.0         43\n",
      "3.0         29\n",
      "4.0         27\n",
      "          ... \n",
      "2882.0       1\n",
      "2061.0       1\n",
      "3745.0       1\n",
      "3560.0       1\n",
      "168.0        1\n",
      "Name: Spa, Length: 833, dtype: int64\n",
      "\n",
      "LENGTH: 796\n",
      " 0.0       2757\n",
      "1.0         72\n",
      "2.0         38\n",
      "3.0         33\n",
      "7.0         23\n",
      "          ... \n",
      "1004.0       1\n",
      "1297.0       1\n",
      "1397.0       1\n",
      "2019.0       1\n",
      "104.0        1\n",
      "Name: VRDeck, Length: 796, dtype: int64\n",
      "\n",
      "LENGTH: 4176\n",
      " Cints Erle          2\n",
      "Evendy Buchansen    2\n",
      "Berta Barnolderg    2\n",
      "Cocors Cola         2\n",
      "Lyney Sellahaney    2\n",
      "                   ..\n",
      "Taurak Unklible     1\n",
      "Brita Rushing       1\n",
      "Puffs Sames         1\n",
      "Alie Hortez         1\n",
      "Lilace Leonzaley    1\n",
      "Name: Name, Length: 4176, dtype: int64\n",
      "\n",
      "LENGTH: 3063\n",
      " 6332    8\n",
      "6499    8\n",
      "6986    8\n",
      "8543    8\n",
      "1072    8\n",
      "       ..\n",
      "3532    1\n",
      "3538    1\n",
      "3541    1\n",
      "3545    1\n",
      "9277    1\n",
      "Name: Group, Length: 3063, dtype: int64\n",
      "\n",
      "LENGTH: 8\n",
      " 1    2340\n",
      "2     908\n",
      "3     486\n",
      "4     204\n",
      "5     115\n",
      "7      98\n",
      "6      78\n",
      "8      48\n",
      "Name: GroupSize, dtype: int64\n",
      "\n",
      "LENGTH: 8\n",
      " F    1445\n",
      "G    1222\n",
      "E     447\n",
      "B     362\n",
      "C     355\n",
      "D     242\n",
      "A      98\n",
      "T       6\n",
      "Name: Deck, dtype: int64\n",
      "\n",
      "LENGTH: 1505\n",
      " 4       21\n",
      "31      18\n",
      "197     16\n",
      "294     16\n",
      "228     14\n",
      "        ..\n",
      "1170     1\n",
      "904      1\n",
      "1174     1\n",
      "356      1\n",
      "1503     1\n",
      "Name: Number, Length: 1505, dtype: int64\n",
      "\n",
      "LENGTH: 2\n",
      " S    2093\n",
      "P    2084\n",
      "Name: Side, dtype: int64\n",
      "\n",
      "LENGTH: 1725\n",
      " Extraly       14\n",
      "Hopperett     13\n",
      "Tranklinay    11\n",
      "Dickley       10\n",
      "Garrez        10\n",
      "              ..\n",
      "Alindiveng     1\n",
      "Jamad          1\n",
      "Fuenton        1\n",
      "Hooff          1\n",
      "Cure           1\n",
      "Name: LastName, Length: 1725, dtype: int64\n",
      "\n",
      "LENGTH: 1276\n",
      " 0.0       1611\n",
      "809.0       21\n",
      "803.0       15\n",
      "788.0       15\n",
      "908.0       15\n",
      "          ... \n",
      "1754.0       1\n",
      "2462.0       1\n",
      "2363.0       1\n",
      "1197.0       1\n",
      "3898.0       1\n",
      "Name: Spend, Length: 1276, dtype: int64\n",
      "\n"
     ]
    }
   ],
   "source": [
    "for col in test.columns:\n",
    "    col_counts = test[col].value_counts()\n",
    "    print(f'LENGTH: {len(col_counts)}\\n',f'{col_counts}\\n')"
   ]
  },
  {
   "cell_type": "markdown",
   "id": "26fd8d48",
   "metadata": {},
   "source": [
    "There are some clear patterns for HomePlanet by Deck, with two exceptions. E is about 45% for Earth, 35% Mars and 20% for Europa. D is about 60/40 for Mars vs Earth. F 60/40 for Earth vs Mars. Both E and F deck are mostly going to Trappist-1e. D is mostly going to Trappist-1e, but the ratio isn't as high. \n",
    "\n",
    "So all NaNs with Decks A, B, C, T will go to Europa. All Decks with G will go to Earth. Any remaining NaNs will utilize the mode to fill. "
   ]
  },
  {
   "cell_type": "code",
   "execution_count": 15,
   "id": "e118b552",
   "metadata": {},
   "outputs": [
    {
     "name": "stdout",
     "output_type": "stream",
     "text": [
      "HomePlanet  Deck\n",
      "Earth       E        395\n",
      "            F       1614\n",
      "            G       2498\n",
      "            NaN       95\n",
      "Europa      A        252\n",
      "            B        766\n",
      "            C        734\n",
      "            D        186\n",
      "            E        128\n",
      "            T          4\n",
      "            NaN       61\n",
      "Mars        D        282\n",
      "            E        330\n",
      "            F       1110\n",
      "            NaN       37\n",
      "NaN         A          4\n",
      "            B         13\n",
      "            C         13\n",
      "            D         10\n",
      "            E         23\n",
      "            F         70\n",
      "            G         61\n",
      "            T          1\n",
      "            NaN        6\n",
      "dtype: int64\n"
     ]
    }
   ],
   "source": [
    "print(train.groupby(['HomePlanet','Deck'], dropna=False).size())"
   ]
  },
  {
   "cell_type": "code",
   "execution_count": 16,
   "id": "c3d8d007",
   "metadata": {},
   "outputs": [],
   "source": [
    "missing_mask = train['HomePlanet'].isna()\n",
    "mapping_dict = dict({'A': 'Europa', 'B': 'Europa', 'C': 'Europa', 'T': 'Europa', 'G': 'Earth'})\n",
    "train.loc[missing_mask, 'HomePlanet'] = train.loc[missing_mask, 'Deck'].map(mapping_dict)"
   ]
  },
  {
   "cell_type": "markdown",
   "id": "72f76aa2",
   "metadata": {},
   "source": [
    "The above mapping exercise has just cleared out the NaNs in the decks in the mapping dictionary. The rest will be taken care of when I do a blanket mode fill for all the remaining open values for all the features. "
   ]
  },
  {
   "cell_type": "code",
   "execution_count": 17,
   "id": "bb65097f",
   "metadata": {},
   "outputs": [
    {
     "name": "stdout",
     "output_type": "stream",
     "text": [
      "HomePlanet  Deck\n",
      "Earth       E        395\n",
      "            F       1614\n",
      "            G       2559\n",
      "            NaN       95\n",
      "Europa      A        256\n",
      "            B        779\n",
      "            C        747\n",
      "            D        186\n",
      "            E        128\n",
      "            T          5\n",
      "            NaN       61\n",
      "Mars        D        282\n",
      "            E        330\n",
      "            F       1110\n",
      "            NaN       37\n",
      "NaN         D         10\n",
      "            E         23\n",
      "            F         70\n",
      "            NaN        6\n",
      "dtype: int64\n"
     ]
    }
   ],
   "source": [
    "print(train.groupby(['HomePlanet','Deck'], dropna=False).size())"
   ]
  },
  {
   "cell_type": "markdown",
   "id": "4c37abc2",
   "metadata": {},
   "source": [
    "I need to do the same for the test dataframe. "
   ]
  },
  {
   "cell_type": "code",
   "execution_count": 18,
   "id": "ffcf0ce6",
   "metadata": {},
   "outputs": [],
   "source": [
    "missing_mask = test['HomePlanet'].isna()\n",
    "mapping_dict = dict({'A': 'Europa', 'B': 'Europa', 'C': 'Europa', 'T': 'Europa', 'G': 'Earth'})\n",
    "test.loc[missing_mask, 'HomePlanet'] = test.loc[missing_mask, 'Deck'].map(mapping_dict)"
   ]
  },
  {
   "cell_type": "code",
   "execution_count": 19,
   "id": "2d72318e",
   "metadata": {},
   "outputs": [
    {
     "name": "stdout",
     "output_type": "stream",
     "text": [
      "HomePlanet  Deck\n",
      "Earth       E        188\n",
      "            F        812\n",
      "            G       1222\n",
      "            NaN       61\n",
      "Europa      A         98\n",
      "            B        362\n",
      "            C        355\n",
      "            D        110\n",
      "            E         69\n",
      "            T          6\n",
      "            NaN       18\n",
      "Mars        D        124\n",
      "            E        178\n",
      "            F        603\n",
      "            NaN       20\n",
      "NaN         D          8\n",
      "            E         12\n",
      "            F         30\n",
      "            NaN        1\n",
      "dtype: int64\n"
     ]
    }
   ],
   "source": [
    "print(test.groupby(['HomePlanet','Deck'], dropna=False).size())"
   ]
  },
  {
   "cell_type": "markdown",
   "id": "bc9b2d8c",
   "metadata": {},
   "source": [
    "For CryoSleep I couldn't find any patterns when I matched against other groups and it's almost 2:1 for False, so I'll just do the mode. "
   ]
  },
  {
   "cell_type": "code",
   "execution_count": 20,
   "id": "3041c19b",
   "metadata": {},
   "outputs": [
    {
     "name": "stdout",
     "output_type": "stream",
     "text": [
      "CryoSleep\n",
      "False    5439\n",
      "True     3037\n",
      "NaN       217\n",
      "dtype: int64\n"
     ]
    }
   ],
   "source": [
    "print(train.groupby(['CryoSleep'], dropna=False).size())"
   ]
  },
  {
   "cell_type": "markdown",
   "id": "ba0c3b5b",
   "metadata": {},
   "source": [
    "Destination is mostly TRAPPIST-1e and there aren't any patterns I can find with other features. So I will use mode to fill. "
   ]
  },
  {
   "cell_type": "code",
   "execution_count": 21,
   "id": "569d628f",
   "metadata": {},
   "outputs": [
    {
     "name": "stdout",
     "output_type": "stream",
     "text": [
      "Destination\n",
      "55 Cancri e      1800\n",
      "PSO J318.5-22     796\n",
      "TRAPPIST-1e      5915\n",
      "NaN               182\n",
      "dtype: int64\n"
     ]
    }
   ],
   "source": [
    "print(train.groupby(['Destination'], dropna=False).size())"
   ]
  },
  {
   "cell_type": "markdown",
   "id": "575a542a",
   "metadata": {},
   "source": [
    "Age is interesting. There are 178 datapoints at age 0 and 179 with NaNs. Does that mean there are 179 infants or are these also some kind of data errors? For simplicity, I'll assume that is correct. From the value counts above, the largest age groups are between 18 and 24 years old (about 20% of the total values). So there's a wide dispersion in age. The difference between the mean and median is not much, so I'll use the mean for imputation. "
   ]
  },
  {
   "cell_type": "code",
   "execution_count": 22,
   "id": "dba1506c",
   "metadata": {},
   "outputs": [
    {
     "name": "stdout",
     "output_type": "stream",
     "text": [
      "Age\n",
      "0.0     178\n",
      "1.0      67\n",
      "2.0      75\n",
      "3.0      75\n",
      "4.0      71\n",
      "       ... \n",
      "76.0      2\n",
      "77.0      2\n",
      "78.0      3\n",
      "79.0      3\n",
      "NaN     179\n",
      "Length: 81, dtype: int64\n"
     ]
    }
   ],
   "source": [
    "print(train.groupby(['Age'], dropna=False).size())"
   ]
  },
  {
   "cell_type": "code",
   "execution_count": 23,
   "id": "fd4dfc6c",
   "metadata": {},
   "outputs": [
    {
     "data": {
      "text/plain": [
       "28.82793046746535"
      ]
     },
     "execution_count": 23,
     "metadata": {},
     "output_type": "execute_result"
    }
   ],
   "source": [
    "train['Age'].mean()"
   ]
  },
  {
   "cell_type": "code",
   "execution_count": 24,
   "id": "5aa3298a",
   "metadata": {},
   "outputs": [
    {
     "data": {
      "text/plain": [
       "27.0"
      ]
     },
     "execution_count": 24,
     "metadata": {},
     "output_type": "execute_result"
    }
   ],
   "source": [
    "train['Age'].median()"
   ]
  },
  {
   "cell_type": "code",
   "execution_count": 25,
   "id": "aa13d482",
   "metadata": {},
   "outputs": [],
   "source": [
    "train['Age'].fillna(train['Age'].mean(), inplace=True)"
   ]
  },
  {
   "cell_type": "code",
   "execution_count": 26,
   "id": "83410f7c",
   "metadata": {},
   "outputs": [
    {
     "name": "stdout",
     "output_type": "stream",
     "text": [
      "Age\n",
      "0.0     178\n",
      "1.0      67\n",
      "2.0      75\n",
      "3.0      75\n",
      "4.0      71\n",
      "       ... \n",
      "75.0      4\n",
      "76.0      2\n",
      "77.0      2\n",
      "78.0      3\n",
      "79.0      3\n",
      "Length: 81, dtype: int64\n"
     ]
    }
   ],
   "source": [
    "print(train.groupby(['Age'], dropna=False).size())"
   ]
  },
  {
   "cell_type": "markdown",
   "id": "b1f965f7",
   "metadata": {},
   "source": [
    "I also need to do this for the test dataframe. "
   ]
  },
  {
   "cell_type": "code",
   "execution_count": 27,
   "id": "7a791213",
   "metadata": {},
   "outputs": [],
   "source": [
    "test['Age'].fillna(test['Age'].mean(), inplace=True)"
   ]
  },
  {
   "cell_type": "code",
   "execution_count": 28,
   "id": "9985dbef",
   "metadata": {},
   "outputs": [
    {
     "name": "stdout",
     "output_type": "stream",
     "text": [
      "Age\n",
      "0.0     82\n",
      "1.0     27\n",
      "2.0     35\n",
      "3.0     34\n",
      "4.0     20\n",
      "        ..\n",
      "74.0     2\n",
      "75.0     2\n",
      "77.0     1\n",
      "78.0     1\n",
      "79.0     2\n",
      "Length: 80, dtype: int64\n"
     ]
    }
   ],
   "source": [
    "print(test.groupby(['Age'], dropna=False).size())"
   ]
  },
  {
   "cell_type": "markdown",
   "id": "8502bcbc",
   "metadata": {},
   "source": [
    "VIP is mostly false, so the mode can be used. "
   ]
  },
  {
   "cell_type": "code",
   "execution_count": 29,
   "id": "7c9c1ab3",
   "metadata": {},
   "outputs": [
    {
     "name": "stdout",
     "output_type": "stream",
     "text": [
      "VIP\n",
      "False    8291\n",
      "True      199\n",
      "NaN       203\n",
      "dtype: int64\n"
     ]
    }
   ],
   "source": [
    "print(train.groupby(['VIP'], dropna=False).size())"
   ]
  },
  {
   "cell_type": "markdown",
   "id": "ca12e638",
   "metadata": {},
   "source": [
    "For all the spend categories below, the vast majority of the values are 0, so I can use the mode here. As a check for RoomService, the median is also 0. There seems to be a long tail of high end spending at the end, which is why the median jumps up to 225. "
   ]
  },
  {
   "cell_type": "code",
   "execution_count": 30,
   "id": "85edc674",
   "metadata": {},
   "outputs": [
    {
     "name": "stdout",
     "output_type": "stream",
     "text": [
      "RoomService\n",
      "0.0        5577\n",
      "1.0         117\n",
      "2.0          79\n",
      "3.0          61\n",
      "4.0          47\n",
      "           ... \n",
      "8243.0        1\n",
      "8586.0        1\n",
      "9920.0        1\n",
      "14327.0       1\n",
      "NaN         181\n",
      "Length: 1274, dtype: int64\n"
     ]
    }
   ],
   "source": [
    "print(train.groupby(['RoomService'], dropna=False).size())"
   ]
  },
  {
   "cell_type": "code",
   "execution_count": 31,
   "id": "60ef37ab",
   "metadata": {},
   "outputs": [
    {
     "data": {
      "text/plain": [
       "224.687617481203"
      ]
     },
     "execution_count": 31,
     "metadata": {},
     "output_type": "execute_result"
    }
   ],
   "source": [
    "train['RoomService'].mean()"
   ]
  },
  {
   "cell_type": "code",
   "execution_count": 32,
   "id": "2da5b4fd",
   "metadata": {},
   "outputs": [
    {
     "data": {
      "text/plain": [
       "0.0"
      ]
     },
     "execution_count": 32,
     "metadata": {},
     "output_type": "execute_result"
    }
   ],
   "source": [
    "train['RoomService'].median()"
   ]
  },
  {
   "cell_type": "code",
   "execution_count": 33,
   "id": "9e39de6a",
   "metadata": {},
   "outputs": [
    {
     "data": {
      "text/plain": [
       "0    0.0\n",
       "Name: RoomService, dtype: float64"
      ]
     },
     "execution_count": 33,
     "metadata": {},
     "output_type": "execute_result"
    }
   ],
   "source": [
    "train['RoomService'].mode()"
   ]
  },
  {
   "cell_type": "code",
   "execution_count": 34,
   "id": "3e8a2493",
   "metadata": {},
   "outputs": [
    {
     "name": "stdout",
     "output_type": "stream",
     "text": [
      "FoodCourt\n",
      "0.0        5456\n",
      "1.0         116\n",
      "2.0          75\n",
      "3.0          53\n",
      "4.0          53\n",
      "           ... \n",
      "26830.0       1\n",
      "27071.0       1\n",
      "27723.0       1\n",
      "29813.0       1\n",
      "NaN         183\n",
      "Length: 1508, dtype: int64\n"
     ]
    }
   ],
   "source": [
    "print(train.groupby(['FoodCourt'], dropna=False).size())"
   ]
  },
  {
   "cell_type": "code",
   "execution_count": 35,
   "id": "e99e6974",
   "metadata": {},
   "outputs": [
    {
     "name": "stdout",
     "output_type": "stream",
     "text": [
      "ShoppingMall\n",
      "0.0        5587\n",
      "1.0         153\n",
      "2.0          80\n",
      "3.0          59\n",
      "4.0          45\n",
      "           ... \n",
      "10424.0       1\n",
      "10705.0       1\n",
      "12253.0       1\n",
      "23492.0       1\n",
      "NaN         208\n",
      "Length: 1116, dtype: int64\n"
     ]
    }
   ],
   "source": [
    "print(train.groupby(['ShoppingMall'], dropna=False).size())"
   ]
  },
  {
   "cell_type": "code",
   "execution_count": 36,
   "id": "e9a600d0",
   "metadata": {},
   "outputs": [
    {
     "name": "stdout",
     "output_type": "stream",
     "text": [
      "Spa\n",
      "0.0        5324\n",
      "1.0         146\n",
      "2.0         105\n",
      "3.0          53\n",
      "4.0          46\n",
      "           ... \n",
      "16139.0       1\n",
      "16594.0       1\n",
      "18572.0       1\n",
      "22408.0       1\n",
      "NaN         183\n",
      "Length: 1328, dtype: int64\n"
     ]
    }
   ],
   "source": [
    "print(train.groupby(['Spa'], dropna=False).size())"
   ]
  },
  {
   "cell_type": "code",
   "execution_count": 37,
   "id": "c07002d0",
   "metadata": {},
   "outputs": [
    {
     "name": "stdout",
     "output_type": "stream",
     "text": [
      "VRDeck\n",
      "0.0        5495\n",
      "1.0         139\n",
      "2.0          70\n",
      "3.0          56\n",
      "4.0          47\n",
      "           ... \n",
      "17074.0       1\n",
      "17306.0       1\n",
      "20336.0       1\n",
      "24133.0       1\n",
      "NaN         188\n",
      "Length: 1307, dtype: int64\n"
     ]
    }
   ],
   "source": [
    "print(train.groupby(['VRDeck'], dropna=False).size())"
   ]
  },
  {
   "cell_type": "code",
   "execution_count": 38,
   "id": "5c5221d4",
   "metadata": {},
   "outputs": [
    {
     "name": "stdout",
     "output_type": "stream",
     "text": [
      "Spend\n",
      "0.0        3247\n",
      "336.0         1\n",
      "394.0         2\n",
      "395.0         1\n",
      "397.0         1\n",
      "           ... \n",
      "30478.0       1\n",
      "31074.0       1\n",
      "31076.0       1\n",
      "35987.0       1\n",
      "NaN         908\n",
      "Length: 2117, dtype: int64\n"
     ]
    }
   ],
   "source": [
    "print(train.groupby(['Spend'], dropna=False).size())"
   ]
  },
  {
   "cell_type": "markdown",
   "id": "fd5e23e1",
   "metadata": {},
   "source": [
    "Name and LastName are interesting. They are both incredibly widely dispersed. Using the mean or mode really won't add much value. For simplicity and to not have them match any other name, I'll use 'Xxxxx Xxxxx' for Name imputation and 'Xxxxx' for LastName imputation. "
   ]
  },
  {
   "cell_type": "code",
   "execution_count": 39,
   "id": "44297337",
   "metadata": {},
   "outputs": [
    {
     "name": "stdout",
     "output_type": "stream",
     "text": [
      "Name\n",
      "Aard Curle             1\n",
      "Aarjel Jaff            1\n",
      "Aarjel Rhuba           1\n",
      "Aark Ches              1\n",
      "Aark Homin             1\n",
      "                    ... \n",
      "Zosmas Ineedeve        1\n",
      "Zosmas Mormonized      1\n",
      "Zubeneb Flesping       1\n",
      "Zubeneb Pasharne       1\n",
      "NaN                  200\n",
      "Length: 8474, dtype: int64\n"
     ]
    }
   ],
   "source": [
    "print(train.groupby(['Name'], dropna=False).size())"
   ]
  },
  {
   "cell_type": "code",
   "execution_count": 40,
   "id": "723f5cb6",
   "metadata": {},
   "outputs": [
    {
     "name": "stdout",
     "output_type": "stream",
     "text": [
      "LastName\n",
      "Acobson         4\n",
      "Acobsond        3\n",
      "Adavisons       9\n",
      "Adkinson        3\n",
      "Admingried      4\n",
      "             ... \n",
      "Yanton          7\n",
      "Yatters         4\n",
      "Yorkland       11\n",
      "Youngrayes      3\n",
      "NaN           200\n",
      "Length: 2218, dtype: int64\n"
     ]
    }
   ],
   "source": [
    "print(train.groupby(['LastName'], dropna=False).size())"
   ]
  },
  {
   "cell_type": "code",
   "execution_count": 41,
   "id": "3608477a",
   "metadata": {},
   "outputs": [],
   "source": [
    "train['Name'] = train['Name'].fillna('Xxxxx Xxxxx')\n",
    "train['LastName'] = train['LastName'].fillna('Xxxxx')"
   ]
  },
  {
   "cell_type": "code",
   "execution_count": 42,
   "id": "05e033b8",
   "metadata": {},
   "outputs": [
    {
     "name": "stdout",
     "output_type": "stream",
     "text": [
      "Name\n",
      "Aard Curle           1\n",
      "Aarjel Jaff          1\n",
      "Aarjel Rhuba         1\n",
      "Aark Ches            1\n",
      "Aark Homin           1\n",
      "                    ..\n",
      "Zosmark Unaasor      1\n",
      "Zosmas Ineedeve      1\n",
      "Zosmas Mormonized    1\n",
      "Zubeneb Flesping     1\n",
      "Zubeneb Pasharne     1\n",
      "Length: 8474, dtype: int64\n"
     ]
    }
   ],
   "source": [
    "print(train.groupby(['Name'], dropna=False).size())"
   ]
  },
  {
   "cell_type": "code",
   "execution_count": 43,
   "id": "b47e2a9e",
   "metadata": {},
   "outputs": [
    {
     "name": "stdout",
     "output_type": "stream",
     "text": [
      "LastName\n",
      "Acobson         4\n",
      "Acobsond        3\n",
      "Adavisons       9\n",
      "Adkinson        3\n",
      "Admingried      4\n",
      "             ... \n",
      "Xxxxx         200\n",
      "Yanton          7\n",
      "Yatters         4\n",
      "Yorkland       11\n",
      "Youngrayes      3\n",
      "Length: 2218, dtype: int64\n"
     ]
    }
   ],
   "source": [
    "print(train.groupby(['LastName'], dropna=False).size())"
   ]
  },
  {
   "cell_type": "markdown",
   "id": "18285e8c",
   "metadata": {},
   "source": [
    "I need to do the same thing with the test dataframe. "
   ]
  },
  {
   "cell_type": "code",
   "execution_count": 44,
   "id": "8bd726e3",
   "metadata": {},
   "outputs": [],
   "source": [
    "test['Name'] = test['Name'].fillna('Xxxxx Xxxxx')\n",
    "test['LastName'] = test['LastName'].fillna('Xxxxx')"
   ]
  },
  {
   "cell_type": "markdown",
   "id": "79543fab",
   "metadata": {},
   "source": [
    "Deck, Number and Side are obviously related to Cabin. All have 199 NaN values. Ideally whatever is imputed for Deck, Number and Side can be rolled up into Cabin. But that might be pretty hard considering how dispersed the data is. For Cabin and Number the data is very dispersed. The Side, as can be expected is pretty much 50/50 between P and S. 60% of the Deck values are pretty much split evenly between F and G. \n",
    "\n",
    "So for imputation, I will impute 50% of Side each to P and to S. I will impute 50% each of Deck to F and to G. Since Number is still a categorical value and widely dispersed, I'll create a fill value of 'XXX' for the missing data. Then to make this as formal as possible, I'll fill the Cabin missing values of the combination of the Deck, Number and Side imputed values. "
   ]
  },
  {
   "cell_type": "code",
   "execution_count": 45,
   "id": "1fbb25db",
   "metadata": {},
   "outputs": [
    {
     "name": "stdout",
     "output_type": "stream",
     "text": [
      "Cabin\n",
      "A/0/P       2\n",
      "A/0/S       2\n",
      "A/1/S       3\n",
      "A/10/P      1\n",
      "A/10/S      1\n",
      "         ... \n",
      "T/1/P       1\n",
      "T/2/P       1\n",
      "T/2/S       1\n",
      "T/3/P       1\n",
      "NaN       199\n",
      "Length: 6561, dtype: int64\n"
     ]
    }
   ],
   "source": [
    "print(train.groupby(['Cabin'], dropna=False).size())"
   ]
  },
  {
   "cell_type": "code",
   "execution_count": 46,
   "id": "83748d38",
   "metadata": {},
   "outputs": [
    {
     "name": "stdout",
     "output_type": "stream",
     "text": [
      "Deck\n",
      "A       256\n",
      "B       779\n",
      "C       747\n",
      "D       478\n",
      "E       876\n",
      "F      2794\n",
      "G      2559\n",
      "T         5\n",
      "NaN     199\n",
      "dtype: int64\n"
     ]
    }
   ],
   "source": [
    "print(train.groupby(['Deck'], dropna=False).size())"
   ]
  },
  {
   "cell_type": "code",
   "execution_count": 47,
   "id": "cd84e1e9",
   "metadata": {},
   "outputs": [
    {
     "name": "stdout",
     "output_type": "stream",
     "text": [
      "Number\n",
      "0        18\n",
      "1        15\n",
      "10       12\n",
      "100      12\n",
      "1000      6\n",
      "       ... \n",
      "996       1\n",
      "997       2\n",
      "998       4\n",
      "999       6\n",
      "NaN     199\n",
      "Length: 1818, dtype: int64\n"
     ]
    }
   ],
   "source": [
    "print(train.groupby(['Number'], dropna=False).size())"
   ]
  },
  {
   "cell_type": "code",
   "execution_count": 48,
   "id": "1d9927d5",
   "metadata": {},
   "outputs": [
    {
     "name": "stdout",
     "output_type": "stream",
     "text": [
      "Side\n",
      "P      4206\n",
      "S      4288\n",
      "NaN     199\n",
      "dtype: int64\n"
     ]
    }
   ],
   "source": [
    "print(train.groupby(['Side'], dropna=False).size())"
   ]
  },
  {
   "cell_type": "markdown",
   "id": "f76e48a1",
   "metadata": {},
   "source": [
    "I'll use a random generator to separate the Deck missing values 50/50 into F and G. "
   ]
  },
  {
   "cell_type": "code",
   "execution_count": 49,
   "id": "71c750e6",
   "metadata": {},
   "outputs": [],
   "source": [
    "nans = train['Deck'].isna()\n",
    "length = sum(nans)\n",
    "replacement = random.choices(['F', 'G'], weights=[.5, .5], k=length)\n",
    "train.loc[nans,'Deck'] = replacement"
   ]
  },
  {
   "cell_type": "code",
   "execution_count": 50,
   "id": "f092592a",
   "metadata": {},
   "outputs": [
    {
     "name": "stdout",
     "output_type": "stream",
     "text": [
      "Deck\n",
      "A     256\n",
      "B     779\n",
      "C     747\n",
      "D     478\n",
      "E     876\n",
      "F    2885\n",
      "G    2667\n",
      "T       5\n",
      "dtype: int64\n"
     ]
    }
   ],
   "source": [
    "print(train.groupby(['Deck'], dropna=False).size())"
   ]
  },
  {
   "cell_type": "markdown",
   "id": "671e2c84",
   "metadata": {},
   "source": [
    "I'll do the same thing with Side feature. "
   ]
  },
  {
   "cell_type": "code",
   "execution_count": 51,
   "id": "53162f94",
   "metadata": {},
   "outputs": [],
   "source": [
    "nans = train['Side'].isna()\n",
    "length = sum(nans)\n",
    "replacement = random.choices(['P', 'S'], weights=[.5, .5], k=length)\n",
    "train.loc[nans,'Side'] = replacement"
   ]
  },
  {
   "cell_type": "code",
   "execution_count": 52,
   "id": "7d0a6575",
   "metadata": {},
   "outputs": [
    {
     "name": "stdout",
     "output_type": "stream",
     "text": [
      "Side\n",
      "P    4305\n",
      "S    4388\n",
      "dtype: int64\n"
     ]
    }
   ],
   "source": [
    "print(train.groupby(['Side'], dropna=False).size())"
   ]
  },
  {
   "cell_type": "markdown",
   "id": "8ec10c2d",
   "metadata": {},
   "source": [
    "I'll add the 'XXX' value to the missing Number values. "
   ]
  },
  {
   "cell_type": "code",
   "execution_count": 53,
   "id": "31a0920d",
   "metadata": {},
   "outputs": [],
   "source": [
    "train['Number'] = train['Number'].fillna('XXX')"
   ]
  },
  {
   "cell_type": "code",
   "execution_count": 54,
   "id": "8333d89f",
   "metadata": {},
   "outputs": [
    {
     "name": "stdout",
     "output_type": "stream",
     "text": [
      "Number\n",
      "0        18\n",
      "1        15\n",
      "10       12\n",
      "100      12\n",
      "1000      6\n",
      "       ... \n",
      "996       1\n",
      "997       2\n",
      "998       4\n",
      "999       6\n",
      "XXX     199\n",
      "Length: 1818, dtype: int64\n"
     ]
    }
   ],
   "source": [
    "print(train.groupby(['Number'], dropna=False).size())"
   ]
  },
  {
   "cell_type": "markdown",
   "id": "2876b719",
   "metadata": {},
   "source": [
    "Now I need to fill in the missing Cabin values by combining the newly filled in Deck, Number and Side values. "
   ]
  },
  {
   "cell_type": "code",
   "execution_count": 55,
   "id": "03db2687",
   "metadata": {},
   "outputs": [],
   "source": [
    "train['Cabin'] = train['Cabin'].fillna(train['Deck'] + '/' + train['Number'] + '/' + train['Side'])"
   ]
  },
  {
   "cell_type": "code",
   "execution_count": 56,
   "id": "0040e99c",
   "metadata": {},
   "outputs": [
    {
     "name": "stdout",
     "output_type": "stream",
     "text": [
      "Cabin\n",
      "A/0/P     2\n",
      "A/0/S     2\n",
      "A/1/S     3\n",
      "A/10/P    1\n",
      "A/10/S    1\n",
      "         ..\n",
      "T/0/P     1\n",
      "T/1/P     1\n",
      "T/2/P     1\n",
      "T/2/S     1\n",
      "T/3/P     1\n",
      "Length: 6564, dtype: int64\n"
     ]
    }
   ],
   "source": [
    "print(train.groupby(['Cabin'], dropna=False).size())"
   ]
  },
  {
   "cell_type": "markdown",
   "id": "02774ce6",
   "metadata": {},
   "source": [
    "I'll do the same things with the test dataframe. "
   ]
  },
  {
   "cell_type": "code",
   "execution_count": 57,
   "id": "10b250a3",
   "metadata": {},
   "outputs": [],
   "source": [
    "nans = test['Deck'].isna()\n",
    "length = sum(nans)\n",
    "replacement = random.choices(['F', 'G'], weights=[.5, .5], k=length)\n",
    "test.loc[nans,'Deck'] = replacement\n",
    "\n",
    "nans = test['Side'].isna()\n",
    "length = sum(nans)\n",
    "replacement = random.choices(['P', 'S'], weights=[.5, .5], k=length)\n",
    "test.loc[nans,'Side'] = replacement\n",
    "\n",
    "test['Number'] = test['Number'].fillna('XXX')"
   ]
  },
  {
   "cell_type": "code",
   "execution_count": 58,
   "id": "b5f87f3c",
   "metadata": {},
   "outputs": [],
   "source": [
    "test['Cabin'] = test['Cabin'].fillna(test['Deck'] + '/' + test['Number'] + '/' + test['Side'])"
   ]
  },
  {
   "cell_type": "markdown",
   "id": "c987774b",
   "metadata": {},
   "source": [
    "Now lets see what the current missing values look like in the train and test dataframes. About half the HomePlanet is left, and the Cabin, Age, Name, LastName, Deck, Number and Side missing values have all been filled in. "
   ]
  },
  {
   "cell_type": "code",
   "execution_count": 59,
   "id": "1a51895d",
   "metadata": {},
   "outputs": [
    {
     "data": {
      "text/plain": [
       "PassengerId       0\n",
       "HomePlanet      109\n",
       "CryoSleep       217\n",
       "Cabin             0\n",
       "Destination     182\n",
       "Age               0\n",
       "VIP             203\n",
       "RoomService     181\n",
       "FoodCourt       183\n",
       "ShoppingMall    208\n",
       "Spa             183\n",
       "VRDeck          188\n",
       "Name              0\n",
       "Transported       0\n",
       "Group             0\n",
       "GroupSize         0\n",
       "Deck              0\n",
       "Number            0\n",
       "Side              0\n",
       "LastName          0\n",
       "Spend           908\n",
       "dtype: int64"
      ]
     },
     "execution_count": 59,
     "metadata": {},
     "output_type": "execute_result"
    }
   ],
   "source": [
    "train.isna().sum()"
   ]
  },
  {
   "cell_type": "code",
   "execution_count": 60,
   "id": "856b689c",
   "metadata": {},
   "outputs": [
    {
     "data": {
      "text/plain": [
       "PassengerId       0\n",
       "HomePlanet       51\n",
       "CryoSleep        93\n",
       "Cabin             0\n",
       "Destination      92\n",
       "Age               0\n",
       "VIP              93\n",
       "RoomService      82\n",
       "FoodCourt       106\n",
       "ShoppingMall     98\n",
       "Spa             101\n",
       "VRDeck           80\n",
       "Name              0\n",
       "Group             0\n",
       "GroupSize         0\n",
       "Deck              0\n",
       "Number            0\n",
       "Side              0\n",
       "LastName          0\n",
       "Spend           455\n",
       "dtype: int64"
      ]
     },
     "execution_count": 60,
     "metadata": {},
     "output_type": "execute_result"
    }
   ],
   "source": [
    "test.isna().sum()"
   ]
  },
  {
   "cell_type": "markdown",
   "id": "8cff257f",
   "metadata": {},
   "source": [
    "The final step is to use the mode to fill in the remaining missing values in both the train and test dataframes. "
   ]
  },
  {
   "cell_type": "code",
   "execution_count": 61,
   "id": "c3c8dd61",
   "metadata": {},
   "outputs": [
    {
     "data": {
      "text/plain": [
       "PassengerId         0001_01\n",
       "HomePlanet            Earth\n",
       "CryoSleep             False\n",
       "Cabin               G/XXX/S\n",
       "Destination     TRAPPIST-1e\n",
       "Age                    24.0\n",
       "VIP                   False\n",
       "RoomService             0.0\n",
       "FoodCourt               0.0\n",
       "ShoppingMall            0.0\n",
       "Spa                     0.0\n",
       "VRDeck                  0.0\n",
       "Name            Xxxxx Xxxxx\n",
       "Transported            True\n",
       "Group                  0984\n",
       "GroupSize               1.0\n",
       "Deck                      F\n",
       "Number                  XXX\n",
       "Side                      S\n",
       "LastName              Xxxxx\n",
       "Spend                   0.0\n",
       "Name: 0, dtype: object"
      ]
     },
     "execution_count": 61,
     "metadata": {},
     "output_type": "execute_result"
    }
   ],
   "source": [
    "modes = train.mode().iloc[0]\n",
    "modes"
   ]
  },
  {
   "cell_type": "code",
   "execution_count": 62,
   "id": "fa117c5f",
   "metadata": {},
   "outputs": [],
   "source": [
    "train.fillna(modes, inplace=True)"
   ]
  },
  {
   "cell_type": "code",
   "execution_count": 63,
   "id": "015b417f",
   "metadata": {},
   "outputs": [
    {
     "data": {
      "text/plain": [
       "PassengerId     0\n",
       "HomePlanet      0\n",
       "CryoSleep       0\n",
       "Cabin           0\n",
       "Destination     0\n",
       "Age             0\n",
       "VIP             0\n",
       "RoomService     0\n",
       "FoodCourt       0\n",
       "ShoppingMall    0\n",
       "Spa             0\n",
       "VRDeck          0\n",
       "Name            0\n",
       "Transported     0\n",
       "Group           0\n",
       "GroupSize       0\n",
       "Deck            0\n",
       "Number          0\n",
       "Side            0\n",
       "LastName        0\n",
       "Spend           0\n",
       "dtype: int64"
      ]
     },
     "execution_count": 63,
     "metadata": {},
     "output_type": "execute_result"
    }
   ],
   "source": [
    "train.isna().sum()"
   ]
  },
  {
   "cell_type": "code",
   "execution_count": 64,
   "id": "3d09cf1d",
   "metadata": {},
   "outputs": [
    {
     "data": {
      "text/plain": [
       "PassengerId         0013_01\n",
       "HomePlanet            Earth\n",
       "CryoSleep             False\n",
       "Cabin               G/XXX/P\n",
       "Destination     TRAPPIST-1e\n",
       "Age                    18.0\n",
       "VIP                   False\n",
       "RoomService             0.0\n",
       "FoodCourt               0.0\n",
       "ShoppingMall            0.0\n",
       "Spa                     0.0\n",
       "VRDeck                  0.0\n",
       "Name            Xxxxx Xxxxx\n",
       "Group                  0339\n",
       "GroupSize               1.0\n",
       "Deck                      F\n",
       "Number                  XXX\n",
       "Side                      S\n",
       "LastName              Xxxxx\n",
       "Spend                   0.0\n",
       "Name: 0, dtype: object"
      ]
     },
     "execution_count": 64,
     "metadata": {},
     "output_type": "execute_result"
    }
   ],
   "source": [
    "modes_test = test.mode().iloc[0]\n",
    "modes_test"
   ]
  },
  {
   "cell_type": "code",
   "execution_count": 65,
   "id": "9a72f0be",
   "metadata": {},
   "outputs": [],
   "source": [
    "test.fillna(modes_test, inplace=True)"
   ]
  },
  {
   "cell_type": "code",
   "execution_count": 66,
   "id": "b40b794d",
   "metadata": {},
   "outputs": [
    {
     "data": {
      "text/plain": [
       "PassengerId     0\n",
       "HomePlanet      0\n",
       "CryoSleep       0\n",
       "Cabin           0\n",
       "Destination     0\n",
       "Age             0\n",
       "VIP             0\n",
       "RoomService     0\n",
       "FoodCourt       0\n",
       "ShoppingMall    0\n",
       "Spa             0\n",
       "VRDeck          0\n",
       "Name            0\n",
       "Group           0\n",
       "GroupSize       0\n",
       "Deck            0\n",
       "Number          0\n",
       "Side            0\n",
       "LastName        0\n",
       "Spend           0\n",
       "dtype: int64"
      ]
     },
     "execution_count": 66,
     "metadata": {},
     "output_type": "execute_result"
    }
   ],
   "source": [
    "test.isna().sum()"
   ]
  },
  {
   "cell_type": "markdown",
   "id": "6947044c",
   "metadata": {},
   "source": [
    "# Converting Categorical Data"
   ]
  },
  {
   "cell_type": "markdown",
   "id": "e0600ccd",
   "metadata": {},
   "source": [
    "I want to do the easiest separation of continuous and categorical variables possible, so I'm using cont_cat_split. "
   ]
  },
  {
   "cell_type": "code",
   "execution_count": 67,
   "id": "9b35e3f2",
   "metadata": {},
   "outputs": [],
   "source": [
    "cont,cat = cont_cat_split(train)"
   ]
  },
  {
   "cell_type": "markdown",
   "id": "fefb0983",
   "metadata": {},
   "source": [
    "We can see that now the continuous and categorical columns are identified. "
   ]
  },
  {
   "cell_type": "code",
   "execution_count": 68,
   "id": "9b517bdd",
   "metadata": {},
   "outputs": [
    {
     "data": {
      "text/plain": [
       "['Age', 'RoomService', 'FoodCourt', 'ShoppingMall', 'Spa', 'VRDeck', 'Spend']"
      ]
     },
     "execution_count": 68,
     "metadata": {},
     "output_type": "execute_result"
    }
   ],
   "source": [
    "cont"
   ]
  },
  {
   "cell_type": "code",
   "execution_count": 69,
   "id": "dfe4143e",
   "metadata": {},
   "outputs": [
    {
     "data": {
      "text/plain": [
       "['PassengerId',\n",
       " 'HomePlanet',\n",
       " 'CryoSleep',\n",
       " 'Cabin',\n",
       " 'Destination',\n",
       " 'VIP',\n",
       " 'Name',\n",
       " 'Transported',\n",
       " 'Group',\n",
       " 'GroupSize',\n",
       " 'Deck',\n",
       " 'Number',\n",
       " 'Side',\n",
       " 'LastName']"
      ]
     },
     "execution_count": 69,
     "metadata": {},
     "output_type": "execute_result"
    }
   ],
   "source": [
    "cat"
   ]
  },
  {
   "cell_type": "code",
   "execution_count": 70,
   "id": "5e3a314d",
   "metadata": {},
   "outputs": [
    {
     "data": {
      "text/html": [
       "<div>\n",
       "<style scoped>\n",
       "    .dataframe tbody tr th:only-of-type {\n",
       "        vertical-align: middle;\n",
       "    }\n",
       "\n",
       "    .dataframe tbody tr th {\n",
       "        vertical-align: top;\n",
       "    }\n",
       "\n",
       "    .dataframe thead th {\n",
       "        text-align: right;\n",
       "    }\n",
       "</style>\n",
       "<table border=\"1\" class=\"dataframe\">\n",
       "  <thead>\n",
       "    <tr style=\"text-align: right;\">\n",
       "      <th></th>\n",
       "      <th>PassengerId</th>\n",
       "      <th>HomePlanet</th>\n",
       "      <th>CryoSleep</th>\n",
       "      <th>Cabin</th>\n",
       "      <th>Destination</th>\n",
       "      <th>VIP</th>\n",
       "      <th>Name</th>\n",
       "      <th>Transported</th>\n",
       "      <th>Group</th>\n",
       "      <th>GroupSize</th>\n",
       "      <th>Deck</th>\n",
       "      <th>Number</th>\n",
       "      <th>Side</th>\n",
       "      <th>LastName</th>\n",
       "    </tr>\n",
       "  </thead>\n",
       "  <tbody>\n",
       "    <tr>\n",
       "      <th>0</th>\n",
       "      <td>0001_01</td>\n",
       "      <td>Europa</td>\n",
       "      <td>False</td>\n",
       "      <td>B/0/P</td>\n",
       "      <td>TRAPPIST-1e</td>\n",
       "      <td>False</td>\n",
       "      <td>Maham Ofracculy</td>\n",
       "      <td>False</td>\n",
       "      <td>0001</td>\n",
       "      <td>1</td>\n",
       "      <td>B</td>\n",
       "      <td>0</td>\n",
       "      <td>P</td>\n",
       "      <td>Ofracculy</td>\n",
       "    </tr>\n",
       "    <tr>\n",
       "      <th>1</th>\n",
       "      <td>0002_01</td>\n",
       "      <td>Earth</td>\n",
       "      <td>False</td>\n",
       "      <td>F/0/S</td>\n",
       "      <td>TRAPPIST-1e</td>\n",
       "      <td>False</td>\n",
       "      <td>Juanna Vines</td>\n",
       "      <td>True</td>\n",
       "      <td>0002</td>\n",
       "      <td>1</td>\n",
       "      <td>F</td>\n",
       "      <td>0</td>\n",
       "      <td>S</td>\n",
       "      <td>Vines</td>\n",
       "    </tr>\n",
       "    <tr>\n",
       "      <th>2</th>\n",
       "      <td>0003_01</td>\n",
       "      <td>Europa</td>\n",
       "      <td>False</td>\n",
       "      <td>A/0/S</td>\n",
       "      <td>TRAPPIST-1e</td>\n",
       "      <td>True</td>\n",
       "      <td>Altark Susent</td>\n",
       "      <td>False</td>\n",
       "      <td>0003</td>\n",
       "      <td>2</td>\n",
       "      <td>A</td>\n",
       "      <td>0</td>\n",
       "      <td>S</td>\n",
       "      <td>Susent</td>\n",
       "    </tr>\n",
       "    <tr>\n",
       "      <th>3</th>\n",
       "      <td>0003_02</td>\n",
       "      <td>Europa</td>\n",
       "      <td>False</td>\n",
       "      <td>A/0/S</td>\n",
       "      <td>TRAPPIST-1e</td>\n",
       "      <td>False</td>\n",
       "      <td>Solam Susent</td>\n",
       "      <td>False</td>\n",
       "      <td>0003</td>\n",
       "      <td>2</td>\n",
       "      <td>A</td>\n",
       "      <td>0</td>\n",
       "      <td>S</td>\n",
       "      <td>Susent</td>\n",
       "    </tr>\n",
       "    <tr>\n",
       "      <th>4</th>\n",
       "      <td>0004_01</td>\n",
       "      <td>Earth</td>\n",
       "      <td>False</td>\n",
       "      <td>F/1/S</td>\n",
       "      <td>TRAPPIST-1e</td>\n",
       "      <td>False</td>\n",
       "      <td>Willy Santantines</td>\n",
       "      <td>True</td>\n",
       "      <td>0004</td>\n",
       "      <td>1</td>\n",
       "      <td>F</td>\n",
       "      <td>1</td>\n",
       "      <td>S</td>\n",
       "      <td>Santantines</td>\n",
       "    </tr>\n",
       "    <tr>\n",
       "      <th>...</th>\n",
       "      <td>...</td>\n",
       "      <td>...</td>\n",
       "      <td>...</td>\n",
       "      <td>...</td>\n",
       "      <td>...</td>\n",
       "      <td>...</td>\n",
       "      <td>...</td>\n",
       "      <td>...</td>\n",
       "      <td>...</td>\n",
       "      <td>...</td>\n",
       "      <td>...</td>\n",
       "      <td>...</td>\n",
       "      <td>...</td>\n",
       "      <td>...</td>\n",
       "    </tr>\n",
       "    <tr>\n",
       "      <th>8688</th>\n",
       "      <td>9276_01</td>\n",
       "      <td>Europa</td>\n",
       "      <td>False</td>\n",
       "      <td>A/98/P</td>\n",
       "      <td>55 Cancri e</td>\n",
       "      <td>True</td>\n",
       "      <td>Gravior Noxnuther</td>\n",
       "      <td>False</td>\n",
       "      <td>9276</td>\n",
       "      <td>1</td>\n",
       "      <td>A</td>\n",
       "      <td>98</td>\n",
       "      <td>P</td>\n",
       "      <td>Noxnuther</td>\n",
       "    </tr>\n",
       "    <tr>\n",
       "      <th>8689</th>\n",
       "      <td>9278_01</td>\n",
       "      <td>Earth</td>\n",
       "      <td>True</td>\n",
       "      <td>G/1499/S</td>\n",
       "      <td>PSO J318.5-22</td>\n",
       "      <td>False</td>\n",
       "      <td>Kurta Mondalley</td>\n",
       "      <td>False</td>\n",
       "      <td>9278</td>\n",
       "      <td>1</td>\n",
       "      <td>G</td>\n",
       "      <td>1499</td>\n",
       "      <td>S</td>\n",
       "      <td>Mondalley</td>\n",
       "    </tr>\n",
       "    <tr>\n",
       "      <th>8690</th>\n",
       "      <td>9279_01</td>\n",
       "      <td>Earth</td>\n",
       "      <td>False</td>\n",
       "      <td>G/1500/S</td>\n",
       "      <td>TRAPPIST-1e</td>\n",
       "      <td>False</td>\n",
       "      <td>Fayey Connon</td>\n",
       "      <td>True</td>\n",
       "      <td>9279</td>\n",
       "      <td>1</td>\n",
       "      <td>G</td>\n",
       "      <td>1500</td>\n",
       "      <td>S</td>\n",
       "      <td>Connon</td>\n",
       "    </tr>\n",
       "    <tr>\n",
       "      <th>8691</th>\n",
       "      <td>9280_01</td>\n",
       "      <td>Europa</td>\n",
       "      <td>False</td>\n",
       "      <td>E/608/S</td>\n",
       "      <td>55 Cancri e</td>\n",
       "      <td>False</td>\n",
       "      <td>Celeon Hontichre</td>\n",
       "      <td>False</td>\n",
       "      <td>9280</td>\n",
       "      <td>2</td>\n",
       "      <td>E</td>\n",
       "      <td>608</td>\n",
       "      <td>S</td>\n",
       "      <td>Hontichre</td>\n",
       "    </tr>\n",
       "    <tr>\n",
       "      <th>8692</th>\n",
       "      <td>9280_02</td>\n",
       "      <td>Europa</td>\n",
       "      <td>False</td>\n",
       "      <td>E/608/S</td>\n",
       "      <td>TRAPPIST-1e</td>\n",
       "      <td>False</td>\n",
       "      <td>Propsh Hontichre</td>\n",
       "      <td>True</td>\n",
       "      <td>9280</td>\n",
       "      <td>2</td>\n",
       "      <td>E</td>\n",
       "      <td>608</td>\n",
       "      <td>S</td>\n",
       "      <td>Hontichre</td>\n",
       "    </tr>\n",
       "  </tbody>\n",
       "</table>\n",
       "<p>8693 rows × 14 columns</p>\n",
       "</div>"
      ],
      "text/plain": [
       "     PassengerId HomePlanet  CryoSleep     Cabin    Destination    VIP  \\\n",
       "0        0001_01     Europa      False     B/0/P    TRAPPIST-1e  False   \n",
       "1        0002_01      Earth      False     F/0/S    TRAPPIST-1e  False   \n",
       "2        0003_01     Europa      False     A/0/S    TRAPPIST-1e   True   \n",
       "3        0003_02     Europa      False     A/0/S    TRAPPIST-1e  False   \n",
       "4        0004_01      Earth      False     F/1/S    TRAPPIST-1e  False   \n",
       "...          ...        ...        ...       ...            ...    ...   \n",
       "8688     9276_01     Europa      False    A/98/P    55 Cancri e   True   \n",
       "8689     9278_01      Earth       True  G/1499/S  PSO J318.5-22  False   \n",
       "8690     9279_01      Earth      False  G/1500/S    TRAPPIST-1e  False   \n",
       "8691     9280_01     Europa      False   E/608/S    55 Cancri e  False   \n",
       "8692     9280_02     Europa      False   E/608/S    TRAPPIST-1e  False   \n",
       "\n",
       "                   Name  Transported Group  GroupSize Deck Number Side  \\\n",
       "0       Maham Ofracculy        False  0001          1    B      0    P   \n",
       "1          Juanna Vines         True  0002          1    F      0    S   \n",
       "2         Altark Susent        False  0003          2    A      0    S   \n",
       "3          Solam Susent        False  0003          2    A      0    S   \n",
       "4     Willy Santantines         True  0004          1    F      1    S   \n",
       "...                 ...          ...   ...        ...  ...    ...  ...   \n",
       "8688  Gravior Noxnuther        False  9276          1    A     98    P   \n",
       "8689    Kurta Mondalley        False  9278          1    G   1499    S   \n",
       "8690       Fayey Connon         True  9279          1    G   1500    S   \n",
       "8691   Celeon Hontichre        False  9280          2    E    608    S   \n",
       "8692   Propsh Hontichre         True  9280          2    E    608    S   \n",
       "\n",
       "         LastName  \n",
       "0       Ofracculy  \n",
       "1           Vines  \n",
       "2          Susent  \n",
       "3          Susent  \n",
       "4     Santantines  \n",
       "...           ...  \n",
       "8688    Noxnuther  \n",
       "8689    Mondalley  \n",
       "8690       Connon  \n",
       "8691    Hontichre  \n",
       "8692    Hontichre  \n",
       "\n",
       "[8693 rows x 14 columns]"
      ]
     },
     "execution_count": 70,
     "metadata": {},
     "output_type": "execute_result"
    }
   ],
   "source": [
    "train[cat]"
   ]
  },
  {
   "cell_type": "markdown",
   "id": "fdfc172b",
   "metadata": {},
   "source": [
    "Then I move through each of the categorical items and transform it into numbers using pd.factorize. "
   ]
  },
  {
   "cell_type": "code",
   "execution_count": 71,
   "id": "a8029b8a",
   "metadata": {},
   "outputs": [],
   "source": [
    "for column in cat:\n",
    "     train[column] = pd.factorize(train[column])[0]"
   ]
  },
  {
   "cell_type": "code",
   "execution_count": 72,
   "id": "e5f936a7",
   "metadata": {},
   "outputs": [
    {
     "data": {
      "text/html": [
       "<div>\n",
       "<style scoped>\n",
       "    .dataframe tbody tr th:only-of-type {\n",
       "        vertical-align: middle;\n",
       "    }\n",
       "\n",
       "    .dataframe tbody tr th {\n",
       "        vertical-align: top;\n",
       "    }\n",
       "\n",
       "    .dataframe thead th {\n",
       "        text-align: right;\n",
       "    }\n",
       "</style>\n",
       "<table border=\"1\" class=\"dataframe\">\n",
       "  <thead>\n",
       "    <tr style=\"text-align: right;\">\n",
       "      <th></th>\n",
       "      <th>PassengerId</th>\n",
       "      <th>HomePlanet</th>\n",
       "      <th>CryoSleep</th>\n",
       "      <th>Cabin</th>\n",
       "      <th>Destination</th>\n",
       "      <th>VIP</th>\n",
       "      <th>Name</th>\n",
       "      <th>Transported</th>\n",
       "      <th>Group</th>\n",
       "      <th>GroupSize</th>\n",
       "      <th>Deck</th>\n",
       "      <th>Number</th>\n",
       "      <th>Side</th>\n",
       "      <th>LastName</th>\n",
       "    </tr>\n",
       "  </thead>\n",
       "  <tbody>\n",
       "    <tr>\n",
       "      <th>0</th>\n",
       "      <td>0</td>\n",
       "      <td>0</td>\n",
       "      <td>0</td>\n",
       "      <td>0</td>\n",
       "      <td>0</td>\n",
       "      <td>0</td>\n",
       "      <td>0</td>\n",
       "      <td>0</td>\n",
       "      <td>0</td>\n",
       "      <td>0</td>\n",
       "      <td>0</td>\n",
       "      <td>0</td>\n",
       "      <td>0</td>\n",
       "      <td>0</td>\n",
       "    </tr>\n",
       "    <tr>\n",
       "      <th>1</th>\n",
       "      <td>1</td>\n",
       "      <td>1</td>\n",
       "      <td>0</td>\n",
       "      <td>1</td>\n",
       "      <td>0</td>\n",
       "      <td>0</td>\n",
       "      <td>1</td>\n",
       "      <td>1</td>\n",
       "      <td>1</td>\n",
       "      <td>0</td>\n",
       "      <td>1</td>\n",
       "      <td>0</td>\n",
       "      <td>1</td>\n",
       "      <td>1</td>\n",
       "    </tr>\n",
       "    <tr>\n",
       "      <th>2</th>\n",
       "      <td>2</td>\n",
       "      <td>0</td>\n",
       "      <td>0</td>\n",
       "      <td>2</td>\n",
       "      <td>0</td>\n",
       "      <td>1</td>\n",
       "      <td>2</td>\n",
       "      <td>0</td>\n",
       "      <td>2</td>\n",
       "      <td>1</td>\n",
       "      <td>2</td>\n",
       "      <td>0</td>\n",
       "      <td>1</td>\n",
       "      <td>2</td>\n",
       "    </tr>\n",
       "    <tr>\n",
       "      <th>3</th>\n",
       "      <td>3</td>\n",
       "      <td>0</td>\n",
       "      <td>0</td>\n",
       "      <td>2</td>\n",
       "      <td>0</td>\n",
       "      <td>0</td>\n",
       "      <td>3</td>\n",
       "      <td>0</td>\n",
       "      <td>2</td>\n",
       "      <td>1</td>\n",
       "      <td>2</td>\n",
       "      <td>0</td>\n",
       "      <td>1</td>\n",
       "      <td>2</td>\n",
       "    </tr>\n",
       "    <tr>\n",
       "      <th>4</th>\n",
       "      <td>4</td>\n",
       "      <td>1</td>\n",
       "      <td>0</td>\n",
       "      <td>3</td>\n",
       "      <td>0</td>\n",
       "      <td>0</td>\n",
       "      <td>4</td>\n",
       "      <td>1</td>\n",
       "      <td>3</td>\n",
       "      <td>0</td>\n",
       "      <td>1</td>\n",
       "      <td>1</td>\n",
       "      <td>1</td>\n",
       "      <td>3</td>\n",
       "    </tr>\n",
       "  </tbody>\n",
       "</table>\n",
       "</div>"
      ],
      "text/plain": [
       "   PassengerId  HomePlanet  CryoSleep  Cabin  Destination  VIP  Name  \\\n",
       "0            0           0          0      0            0    0     0   \n",
       "1            1           1          0      1            0    0     1   \n",
       "2            2           0          0      2            0    1     2   \n",
       "3            3           0          0      2            0    0     3   \n",
       "4            4           1          0      3            0    0     4   \n",
       "\n",
       "   Transported  Group  GroupSize  Deck  Number  Side  LastName  \n",
       "0            0      0          0     0       0     0         0  \n",
       "1            1      1          0     1       0     1         1  \n",
       "2            0      2          1     2       0     1         2  \n",
       "3            0      2          1     2       0     1         2  \n",
       "4            1      3          0     1       1     1         3  "
      ]
     },
     "execution_count": 72,
     "metadata": {},
     "output_type": "execute_result"
    }
   ],
   "source": [
    "train[cat].head()"
   ]
  },
  {
   "cell_type": "markdown",
   "id": "6e300ba6",
   "metadata": {},
   "source": [
    "And now I need to also convert the categories in the test dataset to numbers."
   ]
  },
  {
   "cell_type": "markdown",
   "id": "5e76ec25",
   "metadata": {},
   "source": [
    "Next I break out the categorical data as test_cat and the continuous data as test_cont. Then I convert each column in test_cat into continuous data, since the ML model can only work with numbers. "
   ]
  },
  {
   "cell_type": "code",
   "execution_count": 73,
   "id": "23fea1fd",
   "metadata": {},
   "outputs": [],
   "source": [
    "test_cont,test_cat = cont_cat_split(test)\n",
    "for i in test_cat:\n",
    "    test[i] = pd.factorize(test[i])[0]"
   ]
  },
  {
   "cell_type": "code",
   "execution_count": 74,
   "id": "935625af",
   "metadata": {},
   "outputs": [
    {
     "data": {
      "text/html": [
       "<div>\n",
       "<style scoped>\n",
       "    .dataframe tbody tr th:only-of-type {\n",
       "        vertical-align: middle;\n",
       "    }\n",
       "\n",
       "    .dataframe tbody tr th {\n",
       "        vertical-align: top;\n",
       "    }\n",
       "\n",
       "    .dataframe thead th {\n",
       "        text-align: right;\n",
       "    }\n",
       "</style>\n",
       "<table border=\"1\" class=\"dataframe\">\n",
       "  <thead>\n",
       "    <tr style=\"text-align: right;\">\n",
       "      <th></th>\n",
       "      <th>PassengerId</th>\n",
       "      <th>HomePlanet</th>\n",
       "      <th>CryoSleep</th>\n",
       "      <th>Cabin</th>\n",
       "      <th>Destination</th>\n",
       "      <th>VIP</th>\n",
       "      <th>Name</th>\n",
       "      <th>Group</th>\n",
       "      <th>GroupSize</th>\n",
       "      <th>Deck</th>\n",
       "      <th>Number</th>\n",
       "      <th>Side</th>\n",
       "      <th>LastName</th>\n",
       "    </tr>\n",
       "  </thead>\n",
       "  <tbody>\n",
       "    <tr>\n",
       "      <th>0</th>\n",
       "      <td>0</td>\n",
       "      <td>0</td>\n",
       "      <td>0</td>\n",
       "      <td>0</td>\n",
       "      <td>0</td>\n",
       "      <td>0</td>\n",
       "      <td>0</td>\n",
       "      <td>0</td>\n",
       "      <td>0</td>\n",
       "      <td>0</td>\n",
       "      <td>0</td>\n",
       "      <td>0</td>\n",
       "      <td>0</td>\n",
       "    </tr>\n",
       "    <tr>\n",
       "      <th>1</th>\n",
       "      <td>1</td>\n",
       "      <td>0</td>\n",
       "      <td>1</td>\n",
       "      <td>1</td>\n",
       "      <td>0</td>\n",
       "      <td>0</td>\n",
       "      <td>1</td>\n",
       "      <td>1</td>\n",
       "      <td>0</td>\n",
       "      <td>1</td>\n",
       "      <td>1</td>\n",
       "      <td>0</td>\n",
       "      <td>1</td>\n",
       "    </tr>\n",
       "    <tr>\n",
       "      <th>2</th>\n",
       "      <td>2</td>\n",
       "      <td>1</td>\n",
       "      <td>0</td>\n",
       "      <td>2</td>\n",
       "      <td>1</td>\n",
       "      <td>0</td>\n",
       "      <td>2</td>\n",
       "      <td>2</td>\n",
       "      <td>0</td>\n",
       "      <td>2</td>\n",
       "      <td>2</td>\n",
       "      <td>0</td>\n",
       "      <td>2</td>\n",
       "    </tr>\n",
       "    <tr>\n",
       "      <th>3</th>\n",
       "      <td>3</td>\n",
       "      <td>1</td>\n",
       "      <td>1</td>\n",
       "      <td>3</td>\n",
       "      <td>0</td>\n",
       "      <td>0</td>\n",
       "      <td>3</td>\n",
       "      <td>3</td>\n",
       "      <td>0</td>\n",
       "      <td>2</td>\n",
       "      <td>3</td>\n",
       "      <td>0</td>\n",
       "      <td>3</td>\n",
       "    </tr>\n",
       "    <tr>\n",
       "      <th>4</th>\n",
       "      <td>4</td>\n",
       "      <td>0</td>\n",
       "      <td>1</td>\n",
       "      <td>4</td>\n",
       "      <td>0</td>\n",
       "      <td>0</td>\n",
       "      <td>4</td>\n",
       "      <td>4</td>\n",
       "      <td>0</td>\n",
       "      <td>1</td>\n",
       "      <td>4</td>\n",
       "      <td>0</td>\n",
       "      <td>4</td>\n",
       "    </tr>\n",
       "  </tbody>\n",
       "</table>\n",
       "</div>"
      ],
      "text/plain": [
       "   PassengerId  HomePlanet  CryoSleep  Cabin  Destination  VIP  Name  Group  \\\n",
       "0            0           0          0      0            0    0     0      0   \n",
       "1            1           0          1      1            0    0     1      1   \n",
       "2            2           1          0      2            1    0     2      2   \n",
       "3            3           1          1      3            0    0     3      3   \n",
       "4            4           0          1      4            0    0     4      4   \n",
       "\n",
       "   GroupSize  Deck  Number  Side  LastName  \n",
       "0          0     0       0     0         0  \n",
       "1          0     1       1     0         1  \n",
       "2          0     2       2     0         2  \n",
       "3          0     2       3     0         3  \n",
       "4          0     1       4     0         4  "
      ]
     },
     "execution_count": 74,
     "metadata": {},
     "output_type": "execute_result"
    }
   ],
   "source": [
    "test[test_cat].head()"
   ]
  },
  {
   "cell_type": "code",
   "execution_count": 75,
   "id": "740ac0b8",
   "metadata": {},
   "outputs": [],
   "source": [
    "X = train.drop('Transported',axis=1)\n",
    "y = train.Transported"
   ]
  },
  {
   "cell_type": "code",
   "execution_count": 76,
   "id": "02cd97e1",
   "metadata": {},
   "outputs": [],
   "source": [
    "rf_model = RandomForestClassifier(criterion='entropy', \n",
    "                                  n_estimators=446,\n",
    "                                  min_samples_split=2,\n",
    "                                  min_samples_leaf=7,\n",
    "                                  oob_score=True,\n",
    "                                  max_depth=57,\n",
    "                                  random_state=1,\n",
    "                                  max_features=None,\n",
    "                                  n_jobs=-1)"
   ]
  },
  {
   "cell_type": "code",
   "execution_count": 77,
   "id": "862507c2",
   "metadata": {},
   "outputs": [],
   "source": [
    "X,y = shuffle(X,y, random_state=42)\n",
    "X = X.reset_index(drop=True)\n",
    "y = y.reset_index(drop=True)"
   ]
  },
  {
   "cell_type": "code",
   "execution_count": 78,
   "id": "3b8073f6",
   "metadata": {},
   "outputs": [],
   "source": [
    "def get_score(model,X,y):\n",
    "    n = cross_val_score(model,X,y,scoring ='accuracy',cv=20)\n",
    "    return n"
   ]
  },
  {
   "cell_type": "code",
   "execution_count": 79,
   "id": "8738d477",
   "metadata": {},
   "outputs": [
    {
     "name": "stdout",
     "output_type": "stream",
     "text": [
      "0.7962733725303247\n"
     ]
    }
   ],
   "source": [
    "print(get_score(rf_model,X,y).mean())"
   ]
  },
  {
   "cell_type": "code",
   "execution_count": 81,
   "id": "a7f9114e",
   "metadata": {},
   "outputs": [],
   "source": [
    "pred_rf_best = (rf_model.fit(X,y)).predict(test)\n",
    "sample['Transported'] = pred_rf_best\n",
    "\n",
    "#This converts the numbers to True/False values\n",
    "#sample['Transported']=sample['Transported']>0.5\n",
    "sample.to_csv('submit_rf_detailedimputation.csv', index=False)"
   ]
  },
  {
   "cell_type": "markdown",
   "id": "169c9c65",
   "metadata": {},
   "source": [
    "Updating this with factorization vs categorical and using RFClassification vs RFRegression reduced the score the model score to 0.7963. Then using the later version of the submission created a Kaggle score of 0.40963. At this point, I decided not to spend anymore time on this. "
   ]
  },
  {
   "cell_type": "code",
   "execution_count": null,
   "id": "c176504a",
   "metadata": {},
   "outputs": [],
   "source": []
  },
  {
   "cell_type": "code",
   "execution_count": null,
   "id": "31d5f3cd",
   "metadata": {},
   "outputs": [],
   "source": []
  }
 ],
 "metadata": {
  "kernelspec": {
   "display_name": "Python 3 (ipykernel)",
   "language": "python",
   "name": "python3"
  },
  "language_info": {
   "codemirror_mode": {
    "name": "ipython",
    "version": 3
   },
   "file_extension": ".py",
   "mimetype": "text/x-python",
   "name": "python",
   "nbconvert_exporter": "python",
   "pygments_lexer": "ipython3",
   "version": "3.9.13"
  }
 },
 "nbformat": 4,
 "nbformat_minor": 5
}
