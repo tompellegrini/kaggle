{
 "cells": [
  {
   "cell_type": "markdown",
   "id": "f103cf7f",
   "metadata": {
    "papermill": {
     "duration": 0.017756,
     "end_time": "2022-12-24T17:07:01.162150",
     "exception": false,
     "start_time": "2022-12-24T17:07:01.144394",
     "status": "completed"
    },
    "tags": []
   },
   "source": [
    "## **##### 1.Importing necessary libraries**"
   ]
  },
  {
   "cell_type": "code",
   "execution_count": 1,
   "id": "07b9b659",
   "metadata": {
    "_cell_guid": "0cfe2334-113b-4f61-bb84-6b29ebe5cc7e",
    "_uuid": "8fd78f5e-805b-43bb-ac43-55254d27c773",
    "execution": {
     "iopub.execute_input": "2022-12-24T17:07:01.197106Z",
     "iopub.status.busy": "2022-12-24T17:07:01.196163Z",
     "iopub.status.idle": "2022-12-24T17:07:11.741336Z",
     "shell.execute_reply": "2022-12-24T17:07:11.740208Z"
    },
    "jupyter": {
     "outputs_hidden": false
    },
    "papermill": {
     "duration": 10.565736,
     "end_time": "2022-12-24T17:07:11.744253",
     "exception": false,
     "start_time": "2022-12-24T17:07:01.178517",
     "status": "completed"
    },
    "tags": []
   },
   "outputs": [],
   "source": [
    "from sklearn.impute import SimpleImputer\n",
    "from sklearn.preprocessing import OneHotEncoder\n",
    "from sklearn.metrics import mean_absolute_error\n",
    "import pandas as pd\n",
    "import numpy as np\n",
    "import base64\n",
    "import seaborn as sns\n",
    "import matplotlib.pyplot as plt\n",
    "import os\n",
    "import random\n",
    "import gc\n",
    "\n",
    "from sklearn.impute import SimpleImputer\n",
    "from sklearn.preprocessing import OneHotEncoder\n",
    "from sklearn.preprocessing import StandardScaler\n",
    "from sklearn.utils import shuffle\n",
    "from sklearn.model_selection import train_test_split\n",
    "from sklearn.utils import shuffle\n",
    "from sklearn.metrics import log_loss\n",
    "from sklearn.metrics import accuracy_score\n",
    "import optuna\n",
    "import xgboost as xgb\n",
    "from sklearn.ensemble import (RandomForestClassifier, AdaBoostClassifier, GradientBoostingClassifier, \n",
    "                              ExtraTreesClassifier, VotingClassifier)\n",
    "from sklearn.discriminant_analysis import LinearDiscriminantAnalysis\n",
    "from sklearn.linear_model import LogisticRegression\n",
    "from sklearn.neighbors import KNeighborsClassifier\n",
    "from sklearn.tree import DecisionTreeClassifier\n",
    "from sklearn.neural_network import MLPClassifier\n",
    "from catboost import CatBoostClassifier\n",
    "from sklearn.svm import SVC\n",
    "from sklearn import datasets, linear_model\n",
    "import lightgbm as lgb\n",
    "from sklearn.model_selection import cross_val_score\n",
    "from sklearn.model_selection import StratifiedKFold\n",
    "\n",
    "pd.set_option('display.max_columns', None)   \n",
    "\n",
    "from sklearn.model_selection import train_test_split\n",
    "from sklearn.ensemble import RandomForestClassifier\n",
    "import eli5\n",
    "from eli5.sklearn import PermutationImportance\n",
    "\n"
   ]
  },
  {
   "cell_type": "markdown",
   "id": "fc425a07",
   "metadata": {
    "papermill": {
     "duration": 0.016349,
     "end_time": "2022-12-24T17:07:11.777315",
     "exception": false,
     "start_time": "2022-12-24T17:07:11.760966",
     "status": "completed"
    },
    "tags": []
   },
   "source": [
    "## **##### 2.Loading datasets**"
   ]
  },
  {
   "cell_type": "code",
   "execution_count": 2,
   "id": "da459ecc",
   "metadata": {
    "_cell_guid": "aec5ba70-d2ee-4148-a962-ee07d5acb350",
    "_uuid": "8a40a6ab-5d88-458f-ba89-88887ab7387f",
    "execution": {
     "iopub.execute_input": "2022-12-24T17:07:11.813649Z",
     "iopub.status.busy": "2022-12-24T17:07:11.812776Z",
     "iopub.status.idle": "2022-12-24T17:07:11.899962Z",
     "shell.execute_reply": "2022-12-24T17:07:11.898872Z"
    },
    "jupyter": {
     "outputs_hidden": false
    },
    "papermill": {
     "duration": 0.10905,
     "end_time": "2022-12-24T17:07:11.903055",
     "exception": false,
     "start_time": "2022-12-24T17:07:11.794005",
     "status": "completed"
    },
    "tags": []
   },
   "outputs": [],
   "source": [
    "test = pd.read_csv('test.csv')\n",
    "sample = pd.read_csv('sample_submission.csv')\n",
    "train = pd.read_csv('train.csv')"
   ]
  },
  {
   "cell_type": "code",
   "execution_count": 3,
   "id": "e627f265",
   "metadata": {},
   "outputs": [],
   "source": [
    "#New\n",
    "train_test = pd.concat([train, test], ignore_index=True)"
   ]
  },
  {
   "cell_type": "code",
   "execution_count": 220,
   "id": "9a85c60d",
   "metadata": {
    "_cell_guid": "42209329-7286-4a08-9532-97146ff138ab",
    "_uuid": "0ef91b11-c3bb-4d23-93bb-cdb6d8cd291d",
    "execution": {
     "iopub.execute_input": "2022-12-24T17:07:13.509875Z",
     "iopub.status.busy": "2022-12-24T17:07:13.509117Z",
     "iopub.status.idle": "2022-12-24T17:07:13.520064Z",
     "shell.execute_reply": "2022-12-24T17:07:13.519247Z"
    },
    "jupyter": {
     "outputs_hidden": false
    },
    "papermill": {
     "duration": 0.032442,
     "end_time": "2022-12-24T17:07:13.522413",
     "exception": false,
     "start_time": "2022-12-24T17:07:13.489971",
     "status": "completed"
    },
    "tags": []
   },
   "outputs": [],
   "source": [
    "#Old\n",
    "#train_test=train.append(test)"
   ]
  },
  {
   "cell_type": "code",
   "execution_count": 4,
   "id": "2b620d54",
   "metadata": {
    "_cell_guid": "2f78e892-9961-4846-ab4f-8bea9074e566",
    "_uuid": "eec7f859-db11-4e3a-a6c2-0d38e7a1b626",
    "execution": {
     "iopub.execute_input": "2022-12-24T17:07:14.251566Z",
     "iopub.status.busy": "2022-12-24T17:07:14.250676Z",
     "iopub.status.idle": "2022-12-24T17:07:14.255455Z",
     "shell.execute_reply": "2022-12-24T17:07:14.254683Z"
    },
    "jupyter": {
     "outputs_hidden": false
    },
    "papermill": {
     "duration": 0.027046,
     "end_time": "2022-12-24T17:07:14.257755",
     "exception": false,
     "start_time": "2022-12-24T17:07:14.230709",
     "status": "completed"
    },
    "tags": []
   },
   "outputs": [],
   "source": [
    "Expenses_columns = ['RoomService','FoodCourt','ShoppingMall','Spa','VRDeck']"
   ]
  },
  {
   "cell_type": "code",
   "execution_count": 69,
   "id": "af60bbae",
   "metadata": {
    "_cell_guid": "5123c8df-f7b5-4bf6-ab42-6bfe0680010f",
    "_uuid": "f89382b1-97b1-49fb-9de5-00d9c8a070b1",
    "execution": {
     "iopub.execute_input": "2022-12-24T17:07:14.342484Z",
     "iopub.status.busy": "2022-12-24T17:07:14.342078Z",
     "iopub.status.idle": "2022-12-24T17:07:15.303743Z",
     "shell.execute_reply": "2022-12-24T17:07:15.302570Z"
    },
    "jupyter": {
     "outputs_hidden": false
    },
    "papermill": {
     "duration": 0.984679,
     "end_time": "2022-12-24T17:07:15.306686",
     "exception": false,
     "start_time": "2022-12-24T17:07:14.322007",
     "status": "completed"
    },
    "tags": []
   },
   "outputs": [],
   "source": [
    "#OLD\n",
    "#train_test.loc[:,Expenses_columns]=train_test.apply(lambda x: 0 if x.CryoSleep == True else x,axis =1)"
   ]
  },
  {
   "cell_type": "code",
   "execution_count": 5,
   "id": "a6eb68a0",
   "metadata": {
    "_cell_guid": "68a3af2d-f7ba-44a0-a854-9b0dd1fed38a",
    "_uuid": "f289b27f-cce7-4c8b-9736-cc6abe483d2b",
    "execution": {
     "iopub.execute_input": "2022-12-24T17:07:15.487642Z",
     "iopub.status.busy": "2022-12-24T17:07:15.487203Z",
     "iopub.status.idle": "2022-12-24T17:07:15.495063Z",
     "shell.execute_reply": "2022-12-24T17:07:15.494007Z"
    },
    "jupyter": {
     "outputs_hidden": false
    },
    "papermill": {
     "duration": 0.03007,
     "end_time": "2022-12-24T17:07:15.497306",
     "exception": false,
     "start_time": "2022-12-24T17:07:15.467236",
     "status": "completed"
    },
    "tags": []
   },
   "outputs": [],
   "source": [
    "train_test['Expenses'] = train_test.loc[:,Expenses_columns].sum(axis=1)"
   ]
  },
  {
   "cell_type": "code",
   "execution_count": 6,
   "id": "282d8fba",
   "metadata": {
    "_cell_guid": "255f9952-70b6-4e3d-adbc-834b3ce33889",
    "_uuid": "0020e5cc-fd11-4b7a-bbd6-e44d63417d05",
    "execution": {
     "iopub.execute_input": "2022-12-24T17:07:15.537250Z",
     "iopub.status.busy": "2022-12-24T17:07:15.536846Z",
     "iopub.status.idle": "2022-12-24T17:07:16.628615Z",
     "shell.execute_reply": "2022-12-24T17:07:16.627693Z"
    },
    "jupyter": {
     "outputs_hidden": false
    },
    "papermill": {
     "duration": 1.115324,
     "end_time": "2022-12-24T17:07:16.631274",
     "exception": false,
     "start_time": "2022-12-24T17:07:15.515950",
     "status": "completed"
    },
    "tags": []
   },
   "outputs": [],
   "source": [
    "#OLD\n",
    "train_test.loc[:,['CryoSleep']]=train_test.apply(lambda x: True if x.Expenses == 0 and pd.isna(x.CryoSleep) else x,axis =1)"
   ]
  },
  {
   "cell_type": "code",
   "execution_count": 771,
   "id": "f347ed6a",
   "metadata": {
    "_cell_guid": "71ec32fd-f429-4305-bc1b-3952c283f8b8",
    "_uuid": "4561a199-fc30-42bb-b5f2-9873961a115b",
    "execution": {
     "iopub.execute_input": "2022-12-24T17:07:16.754827Z",
     "iopub.status.busy": "2022-12-24T17:07:16.753735Z",
     "iopub.status.idle": "2022-12-24T17:07:16.760074Z",
     "shell.execute_reply": "2022-12-24T17:07:16.759344Z"
    },
    "jupyter": {
     "outputs_hidden": false
    },
    "papermill": {
     "duration": 0.028241,
     "end_time": "2022-12-24T17:07:16.762100",
     "exception": false,
     "start_time": "2022-12-24T17:07:16.733859",
     "status": "completed"
    },
    "tags": []
   },
   "outputs": [],
   "source": [
    "#OLD\n",
    "#train_test.Name = train_test.Name.fillna('Unknown Unknown')"
   ]
  },
  {
   "cell_type": "code",
   "execution_count": 8,
   "id": "44ec2971",
   "metadata": {},
   "outputs": [],
   "source": [
    "train_test.loc[:,['Group']] = train_test.PassengerId.apply(lambda x: x[0:4] )"
   ]
  },
  {
   "cell_type": "code",
   "execution_count": 525,
   "id": "bc56db46",
   "metadata": {
    "_cell_guid": "55c9b0a0-0a9f-4d1c-b137-5de0a9108f92",
    "_uuid": "7cfc7ce5-2687-45dd-af7c-9ff64a172c0a",
    "execution": {
     "iopub.execute_input": "2022-12-24T17:07:16.883885Z",
     "iopub.status.busy": "2022-12-24T17:07:16.883191Z",
     "iopub.status.idle": "2022-12-24T17:07:16.984181Z",
     "shell.execute_reply": "2022-12-24T17:07:16.982941Z"
    },
    "jupyter": {
     "outputs_hidden": false
    },
    "papermill": {
     "duration": 0.123621,
     "end_time": "2022-12-24T17:07:16.986866",
     "exception": false,
     "start_time": "2022-12-24T17:07:16.863245",
     "status": "completed"
    },
    "tags": []
   },
   "outputs": [],
   "source": [
    "#Here I want to create handbooks to fill in informations in Cabin, VIP status, HomePlanet and Destination.\n",
    "#OLD\n",
    "'''guide_VIP=train_test.loc[:,['Group','VIP']].dropna().drop_duplicates('Group')\n",
    "guide_Cabin=train_test.loc[:,['Group','Cabin']].dropna().drop_duplicates('Group')\n",
    "guide_HomePlanet=train_test.loc[:,['Group','HomePlanet']].dropna().drop_duplicates('Group')\n",
    "guide_Destination=train_test.loc[:,['Group','Destination']].dropna().drop_duplicates('Group')"
   ]
  },
  {
   "cell_type": "code",
   "execution_count": 526,
   "id": "3e38eb3b",
   "metadata": {},
   "outputs": [],
   "source": [
    "#OLD\n",
    "'''train_test=pd.merge(train_test,guide_Cabin,how=\"left\",on='Group',suffixes=('','_y'))\n",
    "train_test=pd.merge(train_test,guide_VIP,how=\"left\",on='Group',suffixes=('','_y'))\n",
    "train_test=pd.merge(train_test,guide_HomePlanet,how=\"left\",on='Group',suffixes=('','_y'))\n",
    "train_test=pd.merge(train_test,guide_Destination,how=\"left\",on='Group',suffixes=('','_y'))"
   ]
  },
  {
   "cell_type": "code",
   "execution_count": 527,
   "id": "22ef1073",
   "metadata": {
    "_cell_guid": "96d3b49a-466a-4ca8-9505-2765cd1dd233",
    "_uuid": "abf325cf-993f-4ea9-bf4f-b02455c19981",
    "execution": {
     "iopub.execute_input": "2022-12-24T17:07:17.026079Z",
     "iopub.status.busy": "2022-12-24T17:07:17.025233Z",
     "iopub.status.idle": "2022-12-24T17:07:21.423921Z",
     "shell.execute_reply": "2022-12-24T17:07:21.422919Z"
    },
    "jupyter": {
     "outputs_hidden": false
    },
    "papermill": {
     "duration": 4.420933,
     "end_time": "2022-12-24T17:07:21.426515",
     "exception": false,
     "start_time": "2022-12-24T17:07:17.005582",
     "status": "completed"
    },
    "tags": []
   },
   "outputs": [],
   "source": [
    "#OLD\n",
    "'''train_test.loc[:,['VIP']]=train_test.apply(lambda x: x.VIP_y if pd.isna(x.VIP) else x,axis=1)\n",
    "train_test.loc[:,['Cabin']]=train_test.apply(lambda x:  x.Cabin_y if pd.isna(x.Cabin) else x,axis=1)\n",
    "train_test.loc[:,['HomePlanet']]=train_test.apply(lambda x:  x.HomePlanet_y if pd.isna(x.HomePlanet) else x,axis=1)\n",
    "train_test.loc[:,['Destination']]=train_test.apply(lambda x:  x.Destination_y if pd.isna(x.Destination) else x,axis=1)"
   ]
  },
  {
   "cell_type": "code",
   "execution_count": 9,
   "id": "1c9797d5",
   "metadata": {},
   "outputs": [],
   "source": [
    "#NEW\n",
    "train_test[['Deck', 'Number', 'Side']] = train_test['Cabin'].str.split('/', expand=True)"
   ]
  },
  {
   "cell_type": "code",
   "execution_count": 230,
   "id": "c7807c63",
   "metadata": {
    "_cell_guid": "be655a54-c761-4658-ade1-5af0476a7320",
    "_uuid": "6dcb0b72-0bf1-444a-9d41-2c6bf6427d0f",
    "execution": {
     "iopub.execute_input": "2022-12-24T17:07:25.475285Z",
     "iopub.status.busy": "2022-12-24T17:07:25.474097Z",
     "iopub.status.idle": "2022-12-24T17:07:25.547464Z",
     "shell.execute_reply": "2022-12-24T17:07:25.546580Z"
    },
    "jupyter": {
     "outputs_hidden": false
    },
    "papermill": {
     "duration": 0.100327,
     "end_time": "2022-12-24T17:07:25.550172",
     "exception": false,
     "start_time": "2022-12-24T17:07:25.449845",
     "status": "completed"
    },
    "tags": []
   },
   "outputs": [],
   "source": [
    "#OLD\n",
    "#train_test.loc[:,['Cabin_1']] = train_test.Cabin.str.split(\"/\",expand=True).iloc[:,0]\n",
    "#train_test.loc[:,['Cabin_2']] = train_test.Cabin.str.split(\"/\",expand=True).iloc[:,1]\n",
    "#train_test.loc[:,['Cabin_3']] = train_test.Cabin.str.split(\"/\",expand=True).iloc[:,2]"
   ]
  },
  {
   "cell_type": "code",
   "execution_count": 10,
   "id": "b8dfa47a",
   "metadata": {
    "execution": {
     "iopub.execute_input": "2022-12-24T17:07:25.597768Z",
     "iopub.status.busy": "2022-12-24T17:07:25.596989Z",
     "iopub.status.idle": "2022-12-24T17:07:25.651032Z",
     "shell.execute_reply": "2022-12-24T17:07:25.650088Z"
    },
    "papermill": {
     "duration": 0.080871,
     "end_time": "2022-12-24T17:07:25.653827",
     "exception": false,
     "start_time": "2022-12-24T17:07:25.572956",
     "status": "completed"
    },
    "tags": []
   },
   "outputs": [],
   "source": [
    "train_test.loc[:,['FirstName']] = train_test.Name.str.split(\" \",expand=True).iloc[:,0]\n",
    "train_test.loc[:,['SecondName']] = train_test.Name.str.split(\" \",expand=True).iloc[:,1]\n",
    "train_test['Name_key']=train_test['SecondName']+train_test['Group']"
   ]
  },
  {
   "cell_type": "code",
   "execution_count": 11,
   "id": "71669762",
   "metadata": {
    "_cell_guid": "2d7f8181-c940-4bc6-8383-9e94f4895cea",
    "_uuid": "d9b09e8d-ea2d-432d-a3e5-aa3ad0a2ace7",
    "execution": {
     "iopub.execute_input": "2022-12-24T17:07:25.746954Z",
     "iopub.status.busy": "2022-12-24T17:07:25.746578Z",
     "iopub.status.idle": "2022-12-24T17:07:25.821355Z",
     "shell.execute_reply": "2022-12-24T17:07:25.820400Z"
    },
    "jupyter": {
     "outputs_hidden": false
    },
    "papermill": {
     "duration": 0.101089,
     "end_time": "2022-12-24T17:07:25.823993",
     "exception": false,
     "start_time": "2022-12-24T17:07:25.722904",
     "status": "completed"
    },
    "tags": []
   },
   "outputs": [],
   "source": [
    "num_cols = ['ShoppingMall','FoodCourt','RoomService','Spa','VRDeck','Expenses','Age']\n",
    "cat_cols = ['CryoSleep','Deck','Side','VIP','HomePlanet','Destination', ]\n",
    "transported=['Transported']"
   ]
  },
  {
   "cell_type": "code",
   "execution_count": 12,
   "id": "297f2b36",
   "metadata": {},
   "outputs": [],
   "source": [
    "train_test = train_test[num_cols+cat_cols+transported].copy()"
   ]
  },
  {
   "cell_type": "code",
   "execution_count": 517,
   "id": "31ef0a09",
   "metadata": {},
   "outputs": [],
   "source": [
    "#NEW\n",
    "#modes = train_test[num_cols+cat_cols].mode().iloc[0]\n",
    "#modes"
   ]
  },
  {
   "cell_type": "code",
   "execution_count": 498,
   "id": "5710fc35",
   "metadata": {},
   "outputs": [],
   "source": [
    "#NEW\n",
    "#train_test.fillna(modes, inplace=True)"
   ]
  },
  {
   "cell_type": "code",
   "execution_count": 518,
   "id": "a78e1f1d",
   "metadata": {},
   "outputs": [],
   "source": [
    "#NEW\n",
    "#train_test.isna().sum()"
   ]
  },
  {
   "cell_type": "code",
   "execution_count": 13,
   "id": "68ab0598",
   "metadata": {},
   "outputs": [],
   "source": [
    "#OLD\n",
    "num_imp = SimpleImputer(strategy='mean')\n",
    "cat_imp = SimpleImputer(strategy='most_frequent')"
   ]
  },
  {
   "cell_type": "code",
   "execution_count": 14,
   "id": "a59e18a5",
   "metadata": {},
   "outputs": [],
   "source": [
    "#OLD\n",
    "train_test[num_cols] = pd.DataFrame(num_imp.fit_transform(train_test[num_cols]),columns=num_cols)\n",
    "train_test[cat_cols] = pd.DataFrame(cat_imp.fit_transform(train_test[cat_cols]),columns=cat_cols)"
   ]
  },
  {
   "cell_type": "code",
   "execution_count": 847,
   "id": "c2701079",
   "metadata": {},
   "outputs": [],
   "source": [
    "#NEW\n",
    "#for column in cat_cols:\n",
    "#     train_test[column] = pd.factorize(train_test[column])[0]"
   ]
  },
  {
   "cell_type": "code",
   "execution_count": 15,
   "id": "aaaf760f",
   "metadata": {},
   "outputs": [],
   "source": [
    "#OLD\n",
    "ohe = OneHotEncoder (handle_unknown='ignore',sparse = False)"
   ]
  },
  {
   "cell_type": "code",
   "execution_count": 16,
   "id": "12f6667f",
   "metadata": {},
   "outputs": [],
   "source": [
    "#OLD\n",
    "temp_train = pd.DataFrame(ohe.fit_transform(train_test[cat_cols]),columns=ohe.get_feature_names_out())"
   ]
  },
  {
   "cell_type": "code",
   "execution_count": 17,
   "id": "256f4d24",
   "metadata": {},
   "outputs": [],
   "source": [
    "#OLD\n",
    "train_test = train_test.drop(cat_cols,axis=1)"
   ]
  },
  {
   "cell_type": "code",
   "execution_count": 18,
   "id": "f5dd8c63",
   "metadata": {},
   "outputs": [],
   "source": [
    "train_test = pd.concat([train_test,temp_train],axis=1)"
   ]
  },
  {
   "cell_type": "code",
   "execution_count": 19,
   "id": "0e85bdf8",
   "metadata": {},
   "outputs": [
    {
     "data": {
      "text/html": [
       "<div>\n",
       "<style scoped>\n",
       "    .dataframe tbody tr th:only-of-type {\n",
       "        vertical-align: middle;\n",
       "    }\n",
       "\n",
       "    .dataframe tbody tr th {\n",
       "        vertical-align: top;\n",
       "    }\n",
       "\n",
       "    .dataframe thead th {\n",
       "        text-align: right;\n",
       "    }\n",
       "</style>\n",
       "<table border=\"1\" class=\"dataframe\">\n",
       "  <thead>\n",
       "    <tr style=\"text-align: right;\">\n",
       "      <th></th>\n",
       "      <th>ShoppingMall</th>\n",
       "      <th>FoodCourt</th>\n",
       "      <th>RoomService</th>\n",
       "      <th>Spa</th>\n",
       "      <th>VRDeck</th>\n",
       "      <th>Expenses</th>\n",
       "      <th>Age</th>\n",
       "      <th>Transported</th>\n",
       "      <th>CryoSleep_False</th>\n",
       "      <th>CryoSleep_True</th>\n",
       "      <th>Deck_A</th>\n",
       "      <th>Deck_B</th>\n",
       "      <th>Deck_C</th>\n",
       "      <th>Deck_D</th>\n",
       "      <th>Deck_E</th>\n",
       "      <th>Deck_F</th>\n",
       "      <th>Deck_G</th>\n",
       "      <th>Deck_T</th>\n",
       "      <th>Side_P</th>\n",
       "      <th>Side_S</th>\n",
       "      <th>VIP_False</th>\n",
       "      <th>VIP_True</th>\n",
       "      <th>HomePlanet_Earth</th>\n",
       "      <th>HomePlanet_Europa</th>\n",
       "      <th>HomePlanet_Mars</th>\n",
       "      <th>Destination_55 Cancri e</th>\n",
       "      <th>Destination_PSO J318.5-22</th>\n",
       "      <th>Destination_TRAPPIST-1e</th>\n",
       "    </tr>\n",
       "  </thead>\n",
       "  <tbody>\n",
       "    <tr>\n",
       "      <th>0</th>\n",
       "      <td>0.0</td>\n",
       "      <td>0.0</td>\n",
       "      <td>0.0</td>\n",
       "      <td>0.0</td>\n",
       "      <td>0.0</td>\n",
       "      <td>0.0</td>\n",
       "      <td>39.000000</td>\n",
       "      <td>False</td>\n",
       "      <td>1.0</td>\n",
       "      <td>0.0</td>\n",
       "      <td>0.0</td>\n",
       "      <td>1.0</td>\n",
       "      <td>0.0</td>\n",
       "      <td>0.0</td>\n",
       "      <td>0.0</td>\n",
       "      <td>0.0</td>\n",
       "      <td>0.0</td>\n",
       "      <td>0.0</td>\n",
       "      <td>1.0</td>\n",
       "      <td>0.0</td>\n",
       "      <td>1.0</td>\n",
       "      <td>0.0</td>\n",
       "      <td>0.0</td>\n",
       "      <td>1.0</td>\n",
       "      <td>0.0</td>\n",
       "      <td>0.0</td>\n",
       "      <td>0.0</td>\n",
       "      <td>1.0</td>\n",
       "    </tr>\n",
       "    <tr>\n",
       "      <th>1</th>\n",
       "      <td>25.0</td>\n",
       "      <td>9.0</td>\n",
       "      <td>109.0</td>\n",
       "      <td>549.0</td>\n",
       "      <td>44.0</td>\n",
       "      <td>736.0</td>\n",
       "      <td>24.000000</td>\n",
       "      <td>True</td>\n",
       "      <td>1.0</td>\n",
       "      <td>0.0</td>\n",
       "      <td>0.0</td>\n",
       "      <td>0.0</td>\n",
       "      <td>0.0</td>\n",
       "      <td>0.0</td>\n",
       "      <td>0.0</td>\n",
       "      <td>1.0</td>\n",
       "      <td>0.0</td>\n",
       "      <td>0.0</td>\n",
       "      <td>0.0</td>\n",
       "      <td>1.0</td>\n",
       "      <td>1.0</td>\n",
       "      <td>0.0</td>\n",
       "      <td>1.0</td>\n",
       "      <td>0.0</td>\n",
       "      <td>0.0</td>\n",
       "      <td>0.0</td>\n",
       "      <td>0.0</td>\n",
       "      <td>1.0</td>\n",
       "    </tr>\n",
       "    <tr>\n",
       "      <th>2</th>\n",
       "      <td>0.0</td>\n",
       "      <td>3576.0</td>\n",
       "      <td>43.0</td>\n",
       "      <td>6715.0</td>\n",
       "      <td>49.0</td>\n",
       "      <td>10383.0</td>\n",
       "      <td>58.000000</td>\n",
       "      <td>False</td>\n",
       "      <td>1.0</td>\n",
       "      <td>0.0</td>\n",
       "      <td>1.0</td>\n",
       "      <td>0.0</td>\n",
       "      <td>0.0</td>\n",
       "      <td>0.0</td>\n",
       "      <td>0.0</td>\n",
       "      <td>0.0</td>\n",
       "      <td>0.0</td>\n",
       "      <td>0.0</td>\n",
       "      <td>0.0</td>\n",
       "      <td>1.0</td>\n",
       "      <td>0.0</td>\n",
       "      <td>1.0</td>\n",
       "      <td>0.0</td>\n",
       "      <td>1.0</td>\n",
       "      <td>0.0</td>\n",
       "      <td>0.0</td>\n",
       "      <td>0.0</td>\n",
       "      <td>1.0</td>\n",
       "    </tr>\n",
       "    <tr>\n",
       "      <th>3</th>\n",
       "      <td>371.0</td>\n",
       "      <td>1283.0</td>\n",
       "      <td>0.0</td>\n",
       "      <td>3329.0</td>\n",
       "      <td>193.0</td>\n",
       "      <td>5176.0</td>\n",
       "      <td>33.000000</td>\n",
       "      <td>False</td>\n",
       "      <td>1.0</td>\n",
       "      <td>0.0</td>\n",
       "      <td>1.0</td>\n",
       "      <td>0.0</td>\n",
       "      <td>0.0</td>\n",
       "      <td>0.0</td>\n",
       "      <td>0.0</td>\n",
       "      <td>0.0</td>\n",
       "      <td>0.0</td>\n",
       "      <td>0.0</td>\n",
       "      <td>0.0</td>\n",
       "      <td>1.0</td>\n",
       "      <td>1.0</td>\n",
       "      <td>0.0</td>\n",
       "      <td>0.0</td>\n",
       "      <td>1.0</td>\n",
       "      <td>0.0</td>\n",
       "      <td>0.0</td>\n",
       "      <td>0.0</td>\n",
       "      <td>1.0</td>\n",
       "    </tr>\n",
       "    <tr>\n",
       "      <th>4</th>\n",
       "      <td>151.0</td>\n",
       "      <td>70.0</td>\n",
       "      <td>303.0</td>\n",
       "      <td>565.0</td>\n",
       "      <td>2.0</td>\n",
       "      <td>1091.0</td>\n",
       "      <td>16.000000</td>\n",
       "      <td>True</td>\n",
       "      <td>1.0</td>\n",
       "      <td>0.0</td>\n",
       "      <td>0.0</td>\n",
       "      <td>0.0</td>\n",
       "      <td>0.0</td>\n",
       "      <td>0.0</td>\n",
       "      <td>0.0</td>\n",
       "      <td>1.0</td>\n",
       "      <td>0.0</td>\n",
       "      <td>0.0</td>\n",
       "      <td>0.0</td>\n",
       "      <td>1.0</td>\n",
       "      <td>1.0</td>\n",
       "      <td>0.0</td>\n",
       "      <td>1.0</td>\n",
       "      <td>0.0</td>\n",
       "      <td>0.0</td>\n",
       "      <td>0.0</td>\n",
       "      <td>0.0</td>\n",
       "      <td>1.0</td>\n",
       "    </tr>\n",
       "    <tr>\n",
       "      <th>...</th>\n",
       "      <td>...</td>\n",
       "      <td>...</td>\n",
       "      <td>...</td>\n",
       "      <td>...</td>\n",
       "      <td>...</td>\n",
       "      <td>...</td>\n",
       "      <td>...</td>\n",
       "      <td>...</td>\n",
       "      <td>...</td>\n",
       "      <td>...</td>\n",
       "      <td>...</td>\n",
       "      <td>...</td>\n",
       "      <td>...</td>\n",
       "      <td>...</td>\n",
       "      <td>...</td>\n",
       "      <td>...</td>\n",
       "      <td>...</td>\n",
       "      <td>...</td>\n",
       "      <td>...</td>\n",
       "      <td>...</td>\n",
       "      <td>...</td>\n",
       "      <td>...</td>\n",
       "      <td>...</td>\n",
       "      <td>...</td>\n",
       "      <td>...</td>\n",
       "      <td>...</td>\n",
       "      <td>...</td>\n",
       "      <td>...</td>\n",
       "    </tr>\n",
       "    <tr>\n",
       "      <th>12965</th>\n",
       "      <td>0.0</td>\n",
       "      <td>0.0</td>\n",
       "      <td>0.0</td>\n",
       "      <td>0.0</td>\n",
       "      <td>0.0</td>\n",
       "      <td>0.0</td>\n",
       "      <td>34.000000</td>\n",
       "      <td>NaN</td>\n",
       "      <td>0.0</td>\n",
       "      <td>1.0</td>\n",
       "      <td>0.0</td>\n",
       "      <td>0.0</td>\n",
       "      <td>0.0</td>\n",
       "      <td>0.0</td>\n",
       "      <td>0.0</td>\n",
       "      <td>0.0</td>\n",
       "      <td>1.0</td>\n",
       "      <td>0.0</td>\n",
       "      <td>0.0</td>\n",
       "      <td>1.0</td>\n",
       "      <td>1.0</td>\n",
       "      <td>0.0</td>\n",
       "      <td>1.0</td>\n",
       "      <td>0.0</td>\n",
       "      <td>0.0</td>\n",
       "      <td>0.0</td>\n",
       "      <td>0.0</td>\n",
       "      <td>1.0</td>\n",
       "    </tr>\n",
       "    <tr>\n",
       "      <th>12966</th>\n",
       "      <td>17.0</td>\n",
       "      <td>847.0</td>\n",
       "      <td>0.0</td>\n",
       "      <td>10.0</td>\n",
       "      <td>144.0</td>\n",
       "      <td>1018.0</td>\n",
       "      <td>42.000000</td>\n",
       "      <td>NaN</td>\n",
       "      <td>1.0</td>\n",
       "      <td>0.0</td>\n",
       "      <td>0.0</td>\n",
       "      <td>0.0</td>\n",
       "      <td>0.0</td>\n",
       "      <td>0.0</td>\n",
       "      <td>0.0</td>\n",
       "      <td>1.0</td>\n",
       "      <td>0.0</td>\n",
       "      <td>0.0</td>\n",
       "      <td>0.0</td>\n",
       "      <td>1.0</td>\n",
       "      <td>1.0</td>\n",
       "      <td>0.0</td>\n",
       "      <td>1.0</td>\n",
       "      <td>0.0</td>\n",
       "      <td>0.0</td>\n",
       "      <td>0.0</td>\n",
       "      <td>0.0</td>\n",
       "      <td>1.0</td>\n",
       "    </tr>\n",
       "    <tr>\n",
       "      <th>12967</th>\n",
       "      <td>0.0</td>\n",
       "      <td>0.0</td>\n",
       "      <td>0.0</td>\n",
       "      <td>0.0</td>\n",
       "      <td>0.0</td>\n",
       "      <td>0.0</td>\n",
       "      <td>28.771969</td>\n",
       "      <td>NaN</td>\n",
       "      <td>0.0</td>\n",
       "      <td>1.0</td>\n",
       "      <td>0.0</td>\n",
       "      <td>0.0</td>\n",
       "      <td>0.0</td>\n",
       "      <td>1.0</td>\n",
       "      <td>0.0</td>\n",
       "      <td>0.0</td>\n",
       "      <td>0.0</td>\n",
       "      <td>0.0</td>\n",
       "      <td>1.0</td>\n",
       "      <td>0.0</td>\n",
       "      <td>1.0</td>\n",
       "      <td>0.0</td>\n",
       "      <td>0.0</td>\n",
       "      <td>0.0</td>\n",
       "      <td>1.0</td>\n",
       "      <td>1.0</td>\n",
       "      <td>0.0</td>\n",
       "      <td>0.0</td>\n",
       "    </tr>\n",
       "    <tr>\n",
       "      <th>12968</th>\n",
       "      <td>0.0</td>\n",
       "      <td>2680.0</td>\n",
       "      <td>0.0</td>\n",
       "      <td>0.0</td>\n",
       "      <td>523.0</td>\n",
       "      <td>3203.0</td>\n",
       "      <td>28.771969</td>\n",
       "      <td>NaN</td>\n",
       "      <td>1.0</td>\n",
       "      <td>0.0</td>\n",
       "      <td>0.0</td>\n",
       "      <td>0.0</td>\n",
       "      <td>0.0</td>\n",
       "      <td>1.0</td>\n",
       "      <td>0.0</td>\n",
       "      <td>0.0</td>\n",
       "      <td>0.0</td>\n",
       "      <td>0.0</td>\n",
       "      <td>1.0</td>\n",
       "      <td>0.0</td>\n",
       "      <td>1.0</td>\n",
       "      <td>0.0</td>\n",
       "      <td>0.0</td>\n",
       "      <td>1.0</td>\n",
       "      <td>0.0</td>\n",
       "      <td>0.0</td>\n",
       "      <td>0.0</td>\n",
       "      <td>1.0</td>\n",
       "    </tr>\n",
       "    <tr>\n",
       "      <th>12969</th>\n",
       "      <td>0.0</td>\n",
       "      <td>0.0</td>\n",
       "      <td>0.0</td>\n",
       "      <td>0.0</td>\n",
       "      <td>0.0</td>\n",
       "      <td>0.0</td>\n",
       "      <td>43.000000</td>\n",
       "      <td>NaN</td>\n",
       "      <td>0.0</td>\n",
       "      <td>1.0</td>\n",
       "      <td>0.0</td>\n",
       "      <td>0.0</td>\n",
       "      <td>0.0</td>\n",
       "      <td>0.0</td>\n",
       "      <td>0.0</td>\n",
       "      <td>0.0</td>\n",
       "      <td>1.0</td>\n",
       "      <td>0.0</td>\n",
       "      <td>0.0</td>\n",
       "      <td>1.0</td>\n",
       "      <td>1.0</td>\n",
       "      <td>0.0</td>\n",
       "      <td>1.0</td>\n",
       "      <td>0.0</td>\n",
       "      <td>0.0</td>\n",
       "      <td>0.0</td>\n",
       "      <td>1.0</td>\n",
       "      <td>0.0</td>\n",
       "    </tr>\n",
       "  </tbody>\n",
       "</table>\n",
       "<p>12970 rows × 28 columns</p>\n",
       "</div>"
      ],
      "text/plain": [
       "       ShoppingMall  FoodCourt  RoomService     Spa  VRDeck  Expenses  \\\n",
       "0               0.0        0.0          0.0     0.0     0.0       0.0   \n",
       "1              25.0        9.0        109.0   549.0    44.0     736.0   \n",
       "2               0.0     3576.0         43.0  6715.0    49.0   10383.0   \n",
       "3             371.0     1283.0          0.0  3329.0   193.0    5176.0   \n",
       "4             151.0       70.0        303.0   565.0     2.0    1091.0   \n",
       "...             ...        ...          ...     ...     ...       ...   \n",
       "12965           0.0        0.0          0.0     0.0     0.0       0.0   \n",
       "12966          17.0      847.0          0.0    10.0   144.0    1018.0   \n",
       "12967           0.0        0.0          0.0     0.0     0.0       0.0   \n",
       "12968           0.0     2680.0          0.0     0.0   523.0    3203.0   \n",
       "12969           0.0        0.0          0.0     0.0     0.0       0.0   \n",
       "\n",
       "             Age Transported  CryoSleep_False  CryoSleep_True  Deck_A  Deck_B  \\\n",
       "0      39.000000       False              1.0             0.0     0.0     1.0   \n",
       "1      24.000000        True              1.0             0.0     0.0     0.0   \n",
       "2      58.000000       False              1.0             0.0     1.0     0.0   \n",
       "3      33.000000       False              1.0             0.0     1.0     0.0   \n",
       "4      16.000000        True              1.0             0.0     0.0     0.0   \n",
       "...          ...         ...              ...             ...     ...     ...   \n",
       "12965  34.000000         NaN              0.0             1.0     0.0     0.0   \n",
       "12966  42.000000         NaN              1.0             0.0     0.0     0.0   \n",
       "12967  28.771969         NaN              0.0             1.0     0.0     0.0   \n",
       "12968  28.771969         NaN              1.0             0.0     0.0     0.0   \n",
       "12969  43.000000         NaN              0.0             1.0     0.0     0.0   \n",
       "\n",
       "       Deck_C  Deck_D  Deck_E  Deck_F  Deck_G  Deck_T  Side_P  Side_S  \\\n",
       "0         0.0     0.0     0.0     0.0     0.0     0.0     1.0     0.0   \n",
       "1         0.0     0.0     0.0     1.0     0.0     0.0     0.0     1.0   \n",
       "2         0.0     0.0     0.0     0.0     0.0     0.0     0.0     1.0   \n",
       "3         0.0     0.0     0.0     0.0     0.0     0.0     0.0     1.0   \n",
       "4         0.0     0.0     0.0     1.0     0.0     0.0     0.0     1.0   \n",
       "...       ...     ...     ...     ...     ...     ...     ...     ...   \n",
       "12965     0.0     0.0     0.0     0.0     1.0     0.0     0.0     1.0   \n",
       "12966     0.0     0.0     0.0     1.0     0.0     0.0     0.0     1.0   \n",
       "12967     0.0     1.0     0.0     0.0     0.0     0.0     1.0     0.0   \n",
       "12968     0.0     1.0     0.0     0.0     0.0     0.0     1.0     0.0   \n",
       "12969     0.0     0.0     0.0     0.0     1.0     0.0     0.0     1.0   \n",
       "\n",
       "       VIP_False  VIP_True  HomePlanet_Earth  HomePlanet_Europa  \\\n",
       "0            1.0       0.0               0.0                1.0   \n",
       "1            1.0       0.0               1.0                0.0   \n",
       "2            0.0       1.0               0.0                1.0   \n",
       "3            1.0       0.0               0.0                1.0   \n",
       "4            1.0       0.0               1.0                0.0   \n",
       "...          ...       ...               ...                ...   \n",
       "12965        1.0       0.0               1.0                0.0   \n",
       "12966        1.0       0.0               1.0                0.0   \n",
       "12967        1.0       0.0               0.0                0.0   \n",
       "12968        1.0       0.0               0.0                1.0   \n",
       "12969        1.0       0.0               1.0                0.0   \n",
       "\n",
       "       HomePlanet_Mars  Destination_55 Cancri e  Destination_PSO J318.5-22  \\\n",
       "0                  0.0                      0.0                        0.0   \n",
       "1                  0.0                      0.0                        0.0   \n",
       "2                  0.0                      0.0                        0.0   \n",
       "3                  0.0                      0.0                        0.0   \n",
       "4                  0.0                      0.0                        0.0   \n",
       "...                ...                      ...                        ...   \n",
       "12965              0.0                      0.0                        0.0   \n",
       "12966              0.0                      0.0                        0.0   \n",
       "12967              1.0                      1.0                        0.0   \n",
       "12968              0.0                      0.0                        0.0   \n",
       "12969              0.0                      0.0                        1.0   \n",
       "\n",
       "       Destination_TRAPPIST-1e  \n",
       "0                          1.0  \n",
       "1                          1.0  \n",
       "2                          1.0  \n",
       "3                          1.0  \n",
       "4                          1.0  \n",
       "...                        ...  \n",
       "12965                      1.0  \n",
       "12966                      1.0  \n",
       "12967                      0.0  \n",
       "12968                      1.0  \n",
       "12969                      0.0  \n",
       "\n",
       "[12970 rows x 28 columns]"
      ]
     },
     "execution_count": 19,
     "metadata": {},
     "output_type": "execute_result"
    }
   ],
   "source": [
    "train_test"
   ]
  },
  {
   "cell_type": "code",
   "execution_count": 20,
   "id": "79fb5230",
   "metadata": {
    "_cell_guid": "b2ed8583-c551-43bc-95a9-a1c3c81b0f1b",
    "_uuid": "d9e24109-64ef-43d0-8f68-a5891772406c",
    "execution": {
     "iopub.execute_input": "2022-12-24T17:07:25.916438Z",
     "iopub.status.busy": "2022-12-24T17:07:25.916038Z",
     "iopub.status.idle": "2022-12-24T17:07:25.931363Z",
     "shell.execute_reply": "2022-12-24T17:07:25.930096Z"
    },
    "jupyter": {
     "outputs_hidden": false
    },
    "papermill": {
     "duration": 0.041293,
     "end_time": "2022-12-24T17:07:25.933613",
     "exception": false,
     "start_time": "2022-12-24T17:07:25.892320",
     "status": "completed"
    },
    "tags": []
   },
   "outputs": [],
   "source": [
    "train = train_test[train_test['Transported'].notnull()].copy()"
   ]
  },
  {
   "cell_type": "code",
   "execution_count": 21,
   "id": "770fc141",
   "metadata": {},
   "outputs": [],
   "source": [
    "train.Transported =train.Transported.astype('int')"
   ]
  },
  {
   "cell_type": "code",
   "execution_count": 22,
   "id": "474ec512",
   "metadata": {},
   "outputs": [],
   "source": [
    "test = train_test[train_test['Transported'].isnull()].drop(\"Transported\",axis=1)"
   ]
  },
  {
   "cell_type": "code",
   "execution_count": 23,
   "id": "80738b34",
   "metadata": {
    "execution": {
     "iopub.execute_input": "2022-12-24T17:07:25.980786Z",
     "iopub.status.busy": "2022-12-24T17:07:25.980368Z",
     "iopub.status.idle": "2022-12-24T17:07:25.987011Z",
     "shell.execute_reply": "2022-12-24T17:07:25.985927Z"
    },
    "papermill": {
     "duration": 0.03309,
     "end_time": "2022-12-24T17:07:25.989218",
     "exception": false,
     "start_time": "2022-12-24T17:07:25.956128",
     "status": "completed"
    },
    "tags": []
   },
   "outputs": [],
   "source": [
    "X = train.drop('Transported',axis=1)\n",
    "y = train.Transported"
   ]
  },
  {
   "cell_type": "code",
   "execution_count": 886,
   "id": "b3ac06d2",
   "metadata": {},
   "outputs": [],
   "source": [
    "#NEW\n",
    "#drop_list=['ShoppingMall','Age', 'FoodCourt']"
   ]
  },
  {
   "cell_type": "code",
   "execution_count": 24,
   "id": "f5975cfb",
   "metadata": {},
   "outputs": [],
   "source": [
    "#OLD\n",
    "drop_list=['ShoppingMall','Age','CryoSleep_True','HomePlanet_Earth','HomePlanet_Europa',\n",
    "'VIP_True','HomePlanet_Mars','Destination_PSO J318.5-22','VIP_False',\n",
    "'Destination_55 Cancri e','FoodCourt','Destination_TRAPPIST-1e']"
   ]
  },
  {
   "cell_type": "code",
   "execution_count": 25,
   "id": "ea0b659c",
   "metadata": {},
   "outputs": [],
   "source": [
    "X=X.drop(drop_list,axis=1)\n",
    "test=test.drop(drop_list,axis=1)"
   ]
  },
  {
   "cell_type": "code",
   "execution_count": null,
   "id": "24d2dfa0",
   "metadata": {},
   "outputs": [],
   "source": [
    "# Original model from another related problem\n",
    "'''rf_model = RandomForestClassifier(criterion='entropy', \n",
    "                                  n_estimators=300,\n",
    "                                  min_samples_split=14,\n",
    "                                  min_samples_leaf=1,\n",
    "                                  oob_score=True,\n",
    "                                  max_depth=16,\n",
    "                                  random_state=1,\n",
    "                                  max_features='log2',\n",
    "                                  n_jobs=-1)'''"
   ]
  },
  {
   "cell_type": "code",
   "execution_count": 26,
   "id": "9abb20ab",
   "metadata": {},
   "outputs": [],
   "source": [
    "# Optuna model\n",
    "rf_model = RandomForestClassifier(criterion='entropy', \n",
    "                                  n_estimators=446,\n",
    "                                  min_samples_split=2,\n",
    "                                  min_samples_leaf=7,\n",
    "                                  oob_score=True,\n",
    "                                  max_depth=57,\n",
    "                                  random_state=1,\n",
    "                                  max_features=None,\n",
    "                                  n_jobs=-1)"
   ]
  },
  {
   "cell_type": "code",
   "execution_count": null,
   "id": "71294ee7",
   "metadata": {},
   "outputs": [],
   "source": [
    "# Grid Search CV model\n",
    "'''rf_model = RandomForestClassifier(criterion='entropy', \n",
    "                                  n_estimators=500,\n",
    "                                  min_samples_split=2,\n",
    "                                  min_samples_leaf=10,\n",
    "                                  oob_score=True,\n",
    "                                  max_depth=8,\n",
    "                                  random_state=1,\n",
    "                                  max_features=None,\n",
    "                                  n_jobs=-1)'''"
   ]
  },
  {
   "cell_type": "code",
   "execution_count": 27,
   "id": "a06fc633",
   "metadata": {},
   "outputs": [],
   "source": [
    "X,y = shuffle(X,y, random_state=42)\n",
    "X = X.reset_index(drop=True)\n",
    "y = y.reset_index(drop=True)"
   ]
  },
  {
   "cell_type": "code",
   "execution_count": 28,
   "id": "5f0247cd",
   "metadata": {},
   "outputs": [],
   "source": [
    "def get_score(model,X,y):\n",
    "    n = cross_val_score(model,X,y,scoring ='accuracy',cv=20)\n",
    "    return n"
   ]
  },
  {
   "cell_type": "code",
   "execution_count": 29,
   "id": "5dfe09ff",
   "metadata": {},
   "outputs": [
    {
     "name": "stdout",
     "output_type": "stream",
     "text": [
      "0.7984670798241432\n"
     ]
    }
   ],
   "source": [
    "print(get_score(rf_model,X,y).mean())"
   ]
  },
  {
   "cell_type": "markdown",
   "id": "1f730a8a",
   "metadata": {},
   "source": [
    "Initial score is 0.79905. Kaggle Score is 0.80102.\n",
    "Removing drop list items, score becomes 0.80099. Kaggle score is 0.79728. \n",
    "Adding all columns with complex category columns being factored. Score becomes 0.80525. Kaggle score drops to 0.7887.\n",
    "Only including CryoSleep and Expenses has a score of 0.73301. Kaggle score is 0.74935.\n",
    "\n",
    "Score from optuma parameter optimization is 0.79847. Kaggle score is 0.80406. BEST SCORE. \n",
    "\n",
    "Score from Grid Search CV is 0.79858. Kaggle score is 0.79845."
   ]
  },
  {
   "cell_type": "code",
   "execution_count": 30,
   "id": "26f7e81b",
   "metadata": {},
   "outputs": [
    {
     "data": {
      "text/plain": [
       "RandomForestClassifier(criterion='entropy', max_depth=57, max_features=None,\n",
       "                       min_samples_leaf=7, n_estimators=446, n_jobs=-1,\n",
       "                       oob_score=True, random_state=1)"
      ]
     },
     "execution_count": 30,
     "metadata": {},
     "output_type": "execute_result"
    }
   ],
   "source": [
    "rf_model.fit(X,y)"
   ]
  },
  {
   "cell_type": "code",
   "execution_count": 31,
   "id": "eb728ca8",
   "metadata": {},
   "outputs": [
    {
     "data": {
      "image/png": "[encoded data removed]",
      "text/plain": [
       "<Figure size 640x480 with 1 Axes>"
      ]
     },
     "metadata": {},
     "output_type": "display_data"
    }
   ],
   "source": [
    "pd.DataFrame(dict(cols=X.columns, imp=rf_model.feature_importances_)).plot('cols', 'imp', 'barh');"
   ]
  },
  {
   "cell_type": "markdown",
   "id": "efd95ded",
   "metadata": {
    "papermill": {
     "duration": 0.032478,
     "end_time": "2022-12-24T17:14:11.094297",
     "exception": false,
     "start_time": "2022-12-24T17:14:11.061819",
     "status": "completed"
    },
    "tags": []
   },
   "source": [
    "## **##### 6. Submission**"
   ]
  },
  {
   "cell_type": "code",
   "execution_count": 32,
   "id": "7748704c",
   "metadata": {
    "execution": {
     "iopub.execute_input": "2022-12-24T17:14:11.161863Z",
     "iopub.status.busy": "2022-12-24T17:14:11.160947Z",
     "iopub.status.idle": "2022-12-24T17:14:15.965118Z",
     "shell.execute_reply": "2022-12-24T17:14:15.964094Z"
    },
    "papermill": {
     "duration": 4.840856,
     "end_time": "2022-12-24T17:14:15.967796",
     "exception": false,
     "start_time": "2022-12-24T17:14:11.126940",
     "status": "completed"
    },
    "tags": []
   },
   "outputs": [],
   "source": [
    "pred_rf_best = (rf_model.fit(X,y)).predict(test)\n",
    "sample['Transported'] = pred_rf_best\n",
    "\n",
    "#This converts the numbers to True/False values\n",
    "sample['Transported']=sample['Transported']>0.5\n",
    "sample.to_csv('submit_rf_best_data.csv', index=False)"
   ]
  },
  {
   "cell_type": "code",
   "execution_count": null,
   "id": "6c8ef1d1",
   "metadata": {},
   "outputs": [],
   "source": []
  }
 ],
 "metadata": {
  "kernelspec": {
   "display_name": "Python 3 (ipykernel)",
   "language": "python",
   "name": "python3"
  },
  "language_info": {
   "codemirror_mode": {
    "name": "ipython",
    "version": 3
   },
   "file_extension": ".py",
   "mimetype": "text/x-python",
   "name": "python",
   "nbconvert_exporter": "python",
   "pygments_lexer": "ipython3",
   "version": "3.9.13"
  },
  "papermill": {
   "default_parameters": {},
   "duration": 446.623504,
   "end_time": "2022-12-24T17:14:18.901867",
   "environment_variables": {},
   "exception": null,
   "input_path": "__notebook__.ipynb",
   "output_path": "__notebook__.ipynb",
   "parameters": {},
   "start_time": "2022-12-24T17:06:52.278363",
   "version": "2.3.4"
  }
 },
 "nbformat": 4,
 "nbformat_minor": 5
}
