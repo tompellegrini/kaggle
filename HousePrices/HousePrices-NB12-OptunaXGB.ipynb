{
 "cells": [
  {
   "cell_type": "markdown",
   "id": "a13b007f",
   "metadata": {},
   "source": [
    "This is the initial notebook to explore the data and run the first models. "
   ]
  },
  {
   "cell_type": "code",
   "execution_count": 19,
   "id": "789f7c1e",
   "metadata": {},
   "outputs": [],
   "source": [
    "import pandas as pd\n",
    "import numpy as np\n",
    "\n",
    "from sklearn.impute import SimpleImputer\n",
    "from sklearn.ensemble import RandomForestRegressor\n",
    "import xgboost as xgb\n",
    "from sklearn.preprocessing import OneHotEncoder\n",
    "\n",
    "from fastai.imports import *\n",
    "from fastai.tabular.all import *\n",
    "\n",
    "from numpy import random\n",
    "from sklearn.model_selection import train_test_split\n",
    "from sklearn.utils import shuffle\n",
    "from sklearn.metrics import mean_squared_error\n",
    "from sklearn.metrics import mean_squared_log_error\n",
    "from sklearn import metrics\n",
    "from sklearn.model_selection import KFold, cross_val_score\n",
    "from sklearn.model_selection import StratifiedKFold\n",
    "\n",
    "import eli5\n",
    "from eli5.sklearn import PermutationImportance\n",
    "\n",
    "from scipy.stats import skew, norm\n",
    "from catboost import CatBoostRegressor\n",
    "from feature_engine.transformation import YeoJohnsonTransformer\n",
    "\n",
    "import optuna\n",
    "from optuna.samplers import TPESampler\n",
    "\n",
    "import warnings\n",
    "warnings.simplefilter(action='ignore', category=FutureWarning)"
   ]
  },
  {
   "cell_type": "code",
   "execution_count": 2,
   "id": "3af42dbb",
   "metadata": {},
   "outputs": [],
   "source": [
    "test = pd.read_csv('test.csv')\n",
    "sample = pd.read_csv('sample_submission.csv')\n",
    "train = pd.read_csv('train.csv')"
   ]
  },
  {
   "cell_type": "markdown",
   "id": "50c5e835",
   "metadata": {},
   "source": [
    "Based on initial analysis the train and test datasets have similar characteristics, so it will be easier to combine them for imputation and data analysis work. "
   ]
  },
  {
   "cell_type": "code",
   "execution_count": 3,
   "id": "e1e76d26",
   "metadata": {},
   "outputs": [],
   "source": [
    "train_test = pd.concat([train, test], ignore_index=True)"
   ]
  },
  {
   "cell_type": "code",
   "execution_count": 4,
   "id": "331f1180",
   "metadata": {},
   "outputs": [
    {
     "data": {
      "text/plain": [
       "MSZoning           4\n",
       "LotFrontage      486\n",
       "Alley           2721\n",
       "Utilities          2\n",
       "Exterior1st        1\n",
       "Exterior2nd        1\n",
       "MasVnrType        24\n",
       "MasVnrArea        23\n",
       "BsmtQual          81\n",
       "BsmtCond          82\n",
       "BsmtExposure      82\n",
       "BsmtFinType1      79\n",
       "BsmtFinSF1         1\n",
       "BsmtFinType2      80\n",
       "BsmtFinSF2         1\n",
       "BsmtUnfSF          1\n",
       "TotalBsmtSF        1\n",
       "Electrical         1\n",
       "BsmtFullBath       2\n",
       "BsmtHalfBath       2\n",
       "KitchenQual        1\n",
       "Functional         2\n",
       "FireplaceQu     1420\n",
       "GarageType       157\n",
       "GarageYrBlt      159\n",
       "GarageFinish     159\n",
       "GarageCars         1\n",
       "GarageArea         1\n",
       "GarageQual       159\n",
       "GarageCond       159\n",
       "PoolQC          2909\n",
       "Fence           2348\n",
       "MiscFeature     2814\n",
       "SaleType           1\n",
       "SalePrice       1459\n",
       "dtype: int64"
      ]
     },
     "execution_count": 4,
     "metadata": {},
     "output_type": "execute_result"
    }
   ],
   "source": [
    "pd.isnull(train_test).sum()[pd.isnull(train_test).sum() > 0]"
   ]
  },
  {
   "cell_type": "markdown",
   "id": "c0d0316a",
   "metadata": {},
   "source": [
    "It looks like Alley, FireplaceQu, PoolQC, Fence and MiscFeature have significant numbers of missing data. So it will be best to eliminate those rows. There are a number of rows that have less than 5 rows with missing data. Since some of these are categorical and some are continuous data, their missing data will be replaced with the most frequent value. "
   ]
  },
  {
   "cell_type": "code",
   "execution_count": 5,
   "id": "29ab3f4c",
   "metadata": {},
   "outputs": [],
   "source": [
    "drop_high_nan=['Alley','FireplaceQu','PoolQC','Fence','MiscFeature']\n",
    "train_test=train_test.drop(drop_high_nan,axis=1)\n",
    "small_nan_cols = ['MSZoning', 'Utilities', 'Exterior1st', 'Exterior2nd', 'BsmtFinSF1', 'BsmtFinSF2', 'BsmtUnfSF', \n",
    "                  'TotalBsmtSF', 'Electrical', 'BsmtFullBath', 'BsmtHalfBath', 'KitchenQual', 'Functional', 'GarageCars', \n",
    "                  'GarageArea','SaleType', 'SaleCondition']\n",
    "small_impute = SimpleImputer(strategy='most_frequent')\n",
    "train_test[small_nan_cols] = pd.DataFrame(small_impute.fit_transform(train_test[small_nan_cols]),columns=small_nan_cols)"
   ]
  },
  {
   "cell_type": "markdown",
   "id": "4f1be893",
   "metadata": {},
   "source": [
    "The following columns seem to have one value significantly larger than the rest, and it would probably be best to use the mode, or most common, value to feel each NaN value: MasVnrType, MasVnrArea, BsmtCond, BsmtExposure, BsmtFinType2, GarageType, GarageFinish, GarageQual, and GarageCond. That is represents 9 out of the 13 columns. \n",
    "\n",
    "BsmtQual has two values larger than the rest: Gd and TA. But it only has 2.8% NaNs, so simply using the mode might be good enough.  \n",
    "\n",
    "GarageYrBlt has 59 NaNs out 2919 rows which is only 2%. It has a dispersed set of values, so it might be easiest just to have any NaNs have the same value as YearBuilt. \n",
    "\n",
    "BsmtFinType1 has only 2.7% value of NaNs, and most two of its largest values are GLQ and Unf. It might be easiest to use the mode here. \n",
    "\n",
    "LotFrontage has 486 NaNs out of 2919 rows which is a pretty high 16.7%. It has a dispersed range of values, but looking at its characteristics from the describe function above, it seems to have a pretty even distribution with a mean of 10,168 and a median of 9,453. So using the mean to fill in the NaNs seems reasonable. If it turns out this value has a high impact on the predictability of the SalePrice, then it might be good to revisit this assumption. "
   ]
  },
  {
   "cell_type": "code",
   "execution_count": 6,
   "id": "c4271ecc",
   "metadata": {},
   "outputs": [],
   "source": [
    "mode_cols = ['MasVnrType', 'MasVnrArea', 'BsmtCond', 'BsmtExposure', 'BsmtFinType2', 'GarageType', 'GarageFinish', \n",
    "             'GarageQual','GarageCond', 'BsmtQual', 'BsmtFinType1']\n",
    "mode_impute = SimpleImputer(strategy='most_frequent')\n",
    "train_test[mode_cols] = pd.DataFrame(mode_impute.fit_transform(train_test[mode_cols]),columns=mode_cols)\n",
    "train_test['LotFrontage'].fillna((train_test['LotFrontage'].mean()), inplace=True)\n",
    "train_test['GarageYrBlt'] = train_test['GarageYrBlt'].fillna(train_test['YearBuilt'])"
   ]
  },
  {
   "cell_type": "code",
   "execution_count": 6,
   "id": "80091d42",
   "metadata": {},
   "outputs": [
    {
     "data": {
      "text/plain": [
       "LotFrontage      486\n",
       "MasVnrType        24\n",
       "MasVnrArea        23\n",
       "BsmtQual          81\n",
       "BsmtCond          82\n",
       "BsmtExposure      82\n",
       "BsmtFinType1      79\n",
       "BsmtFinType2      80\n",
       "GarageType       157\n",
       "GarageYrBlt      159\n",
       "GarageFinish     159\n",
       "GarageQual       159\n",
       "GarageCond       159\n",
       "SalePrice       1459\n",
       "dtype: int64"
      ]
     },
     "execution_count": 6,
     "metadata": {},
     "output_type": "execute_result"
    }
   ],
   "source": [
    "pd.isnull(train_test).sum()[pd.isnull(train_test).sum() > 0]"
   ]
  },
  {
   "cell_type": "code",
   "execution_count": 7,
   "id": "46b9042f",
   "metadata": {},
   "outputs": [
    {
     "data": {
      "text/plain": [
       "array(['Gd', 'TA', 'Ex', nan, 'Fa'], dtype=object)"
      ]
     },
     "execution_count": 7,
     "metadata": {},
     "output_type": "execute_result"
    }
   ],
   "source": [
    "train_test['BsmtQual'].unique()"
   ]
  },
  {
   "cell_type": "code",
   "execution_count": 8,
   "id": "68371091",
   "metadata": {},
   "outputs": [
    {
     "data": {
      "text/plain": [
       "array(['GLQ', 'ALQ', 'Unf', 'Rec', 'BLQ', nan, 'LwQ'], dtype=object)"
      ]
     },
     "execution_count": 8,
     "metadata": {},
     "output_type": "execute_result"
    }
   ],
   "source": [
    "train_test['BsmtFinType1'].unique()"
   ]
  },
  {
   "cell_type": "code",
   "execution_count": 9,
   "id": "12457a45",
   "metadata": {},
   "outputs": [],
   "source": [
    "train_test.BsmtQual = train_test.BsmtQual.replace({\"Ex\": 110, \"Gd\": 95, \"TA\": 85, \"Fa\": 75, \"Po\": 60, \"NA\": 0})"
   ]
  },
  {
   "cell_type": "code",
   "execution_count": 10,
   "id": "1425c71d",
   "metadata": {},
   "outputs": [],
   "source": [
    "train_test.BsmtFinType1 = train_test.BsmtFinType1.replace({\"GLQ\": 6, \"ALQ\": 5, \"BLQ\": 4, \"Rec\": 3, \"LwQ\": 2, \"Unf\": 1,\n",
    "                                                         \"NA\": 0})"
   ]
  },
  {
   "cell_type": "markdown",
   "id": "b2cd0509",
   "metadata": {},
   "source": [
    "It will be necessary to identify all the columns that have non-numeric object values and then convert them to numeric values. "
   ]
  },
  {
   "cell_type": "code",
   "execution_count": 11,
   "id": "80aaa6ef",
   "metadata": {},
   "outputs": [
    {
     "data": {
      "text/plain": [
       "['MSZoning',\n",
       " 'Street',\n",
       " 'LotShape',\n",
       " 'LandContour',\n",
       " 'Utilities',\n",
       " 'LotConfig',\n",
       " 'LandSlope',\n",
       " 'Neighborhood',\n",
       " 'Condition1',\n",
       " 'Condition2',\n",
       " 'BldgType',\n",
       " 'HouseStyle',\n",
       " 'RoofStyle',\n",
       " 'RoofMatl',\n",
       " 'Exterior1st',\n",
       " 'Exterior2nd',\n",
       " 'MasVnrType',\n",
       " 'ExterQual',\n",
       " 'ExterCond',\n",
       " 'Foundation',\n",
       " 'BsmtCond',\n",
       " 'BsmtExposure',\n",
       " 'BsmtFinSF1',\n",
       " 'BsmtFinType2',\n",
       " 'BsmtFinSF2',\n",
       " 'BsmtUnfSF',\n",
       " 'TotalBsmtSF',\n",
       " 'Heating',\n",
       " 'HeatingQC',\n",
       " 'CentralAir',\n",
       " 'Electrical',\n",
       " 'BsmtFullBath',\n",
       " 'BsmtHalfBath',\n",
       " 'KitchenQual',\n",
       " 'Functional',\n",
       " 'GarageType',\n",
       " 'GarageFinish',\n",
       " 'GarageCars',\n",
       " 'GarageArea',\n",
       " 'GarageQual',\n",
       " 'GarageCond',\n",
       " 'PavedDrive',\n",
       " 'SaleType',\n",
       " 'SaleCondition']"
      ]
     },
     "execution_count": 11,
     "metadata": {},
     "output_type": "execute_result"
    }
   ],
   "source": [
    "obj_cols = list(train_test.select_dtypes(['object']).columns)\n",
    "obj_cols"
   ]
  },
  {
   "cell_type": "code",
   "execution_count": 12,
   "id": "62baae01",
   "metadata": {},
   "outputs": [
    {
     "name": "stderr",
     "output_type": "stream",
     "text": [
      "C:\\Users\\tompe\\anaconda3\\lib\\site-packages\\pandas\\core\\algorithms.py:798: FutureWarning: In a future version, the Index constructor will not infer numeric dtypes when passed object-dtype sequences (matching Series behavior)\n",
      "  uniques = Index(uniques)\n"
     ]
    }
   ],
   "source": [
    "for column in obj_cols:\n",
    "     train_test[column] = pd.factorize(train_test[column], sort=True)[0]"
   ]
  },
  {
   "cell_type": "markdown",
   "id": "086c88f7",
   "metadata": {},
   "source": [
    "To create some new columns that might compound the effects of the existing columns with higher impact on the xgb score. "
   ]
  },
  {
   "cell_type": "code",
   "execution_count": 13,
   "id": "36eb99a9",
   "metadata": {},
   "outputs": [],
   "source": [
    "train_test['QualCondSum'] = train_test['OverallQual'] + train_test['OverallCond']\n",
    "train_test['RemodTime'] = train_test['YearRemodAdd'] - train_test['YearBuilt']\n",
    "train_test['BsmtFinTypeSF1'] = train_test['BsmtFinType1'] * train_test['BsmtFinSF1']\n",
    "train_test['TotalFlrSF'] = train_test['1stFlrSF'] + train_test['2ndFlrSF']\n",
    "train_test['TotalFinSF'] = train_test['GrLivArea'] + train_test['BsmtFinSF1']\n",
    "train_test['GarageCarArea'] = train_test['GarageArea'] * train_test['GarageCars']\n",
    "train_test['TotalSF'] = train_test['1stFlrSF'] + train_test['2ndFlrSF'] + train_test['TotalBsmtSF']"
   ]
  },
  {
   "cell_type": "markdown",
   "id": "51c5aaf2",
   "metadata": {},
   "source": [
    "To now eliminate the columns that have negative or zero influence on the xgb score. "
   ]
  },
  {
   "cell_type": "code",
   "execution_count": 14,
   "id": "8a8669c7",
   "metadata": {},
   "outputs": [],
   "source": [
    "train_test.drop(['Utilities','Street','TotRmsAbvGrd','3SsnPorch','YrSold','Exterior2nd','LotConfig',\n",
    "                              'HouseStyle','EnclosedPorch','WoodDeckSF','Foundation','RoofMatl','Electrical',\n",
    "                              'GarageType','LotFrontage','SaleType','MoSold','BsmtExposure','1stFlrSF',\n",
    "                              'BsmtFinSF1','Exterior1st','KitchenQual','TotalFlrSF'], axis=1, inplace=True)"
   ]
  },
  {
   "cell_type": "markdown",
   "id": "3a231025",
   "metadata": {},
   "source": [
    "To look at how many features have a skew above 0.6, since high skew can be an issue in regression analysis. "
   ]
  },
  {
   "cell_type": "code",
   "execution_count": 15,
   "id": "96c88d9f",
   "metadata": {},
   "outputs": [],
   "source": [
    "skew_features = train_test.apply(lambda x: skew(x)).sort_values(ascending=False)"
   ]
  },
  {
   "cell_type": "code",
   "execution_count": 16,
   "id": "f7703e62",
   "metadata": {},
   "outputs": [],
   "source": [
    "high_skew = skew_features[skew_features > 0.6]\n",
    "skew_index = high_skew.index"
   ]
  },
  {
   "cell_type": "code",
   "execution_count": 17,
   "id": "9442b0d0",
   "metadata": {},
   "outputs": [
    {
     "data": {
      "text/plain": [
       "Index(['MiscVal', 'PoolArea', 'LotArea', 'LowQualFinSF', 'Heating',\n",
       "       'Condition2', 'LandSlope', 'KitchenAbvGr', 'ScreenPorch',\n",
       "       'BsmtHalfBath', 'BsmtFinSF2', 'Condition1', 'OpenPorchSF', 'BldgType',\n",
       "       'RemodTime', 'RoofStyle', 'MSSubClass', 'GarageCarArea', 'GrLivArea',\n",
       "       'TotalFinSF', 'TotalSF', '2ndFlrSF', 'Fireplaces', 'HalfBath',\n",
       "       'BsmtFullBath'],\n",
       "      dtype='object')"
      ]
     },
     "execution_count": 17,
     "metadata": {},
     "output_type": "execute_result"
    }
   ],
   "source": [
    "skew_index"
   ]
  },
  {
   "cell_type": "code",
   "execution_count": 18,
   "id": "d624c669",
   "metadata": {},
   "outputs": [
    {
     "name": "stdout",
     "output_type": "stream",
     "text": [
      "There are 25 numerical features with Skew > 0.6 :\n"
     ]
    },
    {
     "data": {
      "text/html": [
       "<div>\n",
       "<style scoped>\n",
       "    .dataframe tbody tr th:only-of-type {\n",
       "        vertical-align: middle;\n",
       "    }\n",
       "\n",
       "    .dataframe tbody tr th {\n",
       "        vertical-align: top;\n",
       "    }\n",
       "\n",
       "    .dataframe thead th {\n",
       "        text-align: right;\n",
       "    }\n",
       "</style>\n",
       "<table border=\"1\" class=\"dataframe\">\n",
       "  <thead>\n",
       "    <tr style=\"text-align: right;\">\n",
       "      <th></th>\n",
       "      <th>Skew</th>\n",
       "    </tr>\n",
       "  </thead>\n",
       "  <tbody>\n",
       "    <tr>\n",
       "      <th>MiscVal</th>\n",
       "      <td>21.947195</td>\n",
       "    </tr>\n",
       "    <tr>\n",
       "      <th>PoolArea</th>\n",
       "      <td>16.898328</td>\n",
       "    </tr>\n",
       "    <tr>\n",
       "      <th>LotArea</th>\n",
       "      <td>12.822431</td>\n",
       "    </tr>\n",
       "    <tr>\n",
       "      <th>LowQualFinSF</th>\n",
       "      <td>12.088761</td>\n",
       "    </tr>\n",
       "    <tr>\n",
       "      <th>Heating</th>\n",
       "      <td>12.078788</td>\n",
       "    </tr>\n",
       "    <tr>\n",
       "      <th>Condition2</th>\n",
       "      <td>12.060093</td>\n",
       "    </tr>\n",
       "    <tr>\n",
       "      <th>LandSlope</th>\n",
       "      <td>4.975157</td>\n",
       "    </tr>\n",
       "    <tr>\n",
       "      <th>KitchenAbvGr</th>\n",
       "      <td>4.302254</td>\n",
       "    </tr>\n",
       "    <tr>\n",
       "      <th>ScreenPorch</th>\n",
       "      <td>3.946694</td>\n",
       "    </tr>\n",
       "    <tr>\n",
       "      <th>BsmtHalfBath</th>\n",
       "      <td>3.931594</td>\n",
       "    </tr>\n",
       "    <tr>\n",
       "      <th>BsmtFinSF2</th>\n",
       "      <td>3.476562</td>\n",
       "    </tr>\n",
       "    <tr>\n",
       "      <th>Condition1</th>\n",
       "      <td>2.983114</td>\n",
       "    </tr>\n",
       "    <tr>\n",
       "      <th>OpenPorchSF</th>\n",
       "      <td>2.535114</td>\n",
       "    </tr>\n",
       "    <tr>\n",
       "      <th>BldgType</th>\n",
       "      <td>2.192261</td>\n",
       "    </tr>\n",
       "    <tr>\n",
       "      <th>RemodTime</th>\n",
       "      <td>2.063712</td>\n",
       "    </tr>\n",
       "    <tr>\n",
       "      <th>RoofStyle</th>\n",
       "      <td>1.553307</td>\n",
       "    </tr>\n",
       "    <tr>\n",
       "      <th>MSSubClass</th>\n",
       "      <td>1.375457</td>\n",
       "    </tr>\n",
       "    <tr>\n",
       "      <th>GarageCarArea</th>\n",
       "      <td>1.296672</td>\n",
       "    </tr>\n",
       "    <tr>\n",
       "      <th>GrLivArea</th>\n",
       "      <td>1.269358</td>\n",
       "    </tr>\n",
       "    <tr>\n",
       "      <th>TotalFinSF</th>\n",
       "      <td>1.159630</td>\n",
       "    </tr>\n",
       "    <tr>\n",
       "      <th>TotalSF</th>\n",
       "      <td>0.922771</td>\n",
       "    </tr>\n",
       "    <tr>\n",
       "      <th>2ndFlrSF</th>\n",
       "      <td>0.861675</td>\n",
       "    </tr>\n",
       "    <tr>\n",
       "      <th>Fireplaces</th>\n",
       "      <td>0.733495</td>\n",
       "    </tr>\n",
       "    <tr>\n",
       "      <th>HalfBath</th>\n",
       "      <td>0.694566</td>\n",
       "    </tr>\n",
       "    <tr>\n",
       "      <th>BsmtFullBath</th>\n",
       "      <td>0.624832</td>\n",
       "    </tr>\n",
       "  </tbody>\n",
       "</table>\n",
       "</div>"
      ],
      "text/plain": [
       "                    Skew\n",
       "MiscVal        21.947195\n",
       "PoolArea       16.898328\n",
       "LotArea        12.822431\n",
       "LowQualFinSF   12.088761\n",
       "Heating        12.078788\n",
       "Condition2     12.060093\n",
       "LandSlope       4.975157\n",
       "KitchenAbvGr    4.302254\n",
       "ScreenPorch     3.946694\n",
       "BsmtHalfBath    3.931594\n",
       "BsmtFinSF2      3.476562\n",
       "Condition1      2.983114\n",
       "OpenPorchSF     2.535114\n",
       "BldgType        2.192261\n",
       "RemodTime       2.063712\n",
       "RoofStyle       1.553307\n",
       "MSSubClass      1.375457\n",
       "GarageCarArea   1.296672\n",
       "GrLivArea       1.269358\n",
       "TotalFinSF      1.159630\n",
       "TotalSF         0.922771\n",
       "2ndFlrSF        0.861675\n",
       "Fireplaces      0.733495\n",
       "HalfBath        0.694566\n",
       "BsmtFullBath    0.624832"
      ]
     },
     "execution_count": 18,
     "metadata": {},
     "output_type": "execute_result"
    }
   ],
   "source": [
    "print(\"There are {} numerical features with Skew > 0.6 :\".format(high_skew.shape[0]))\n",
    "skewness = pd.DataFrame({'Skew' :high_skew})\n",
    "skewness"
   ]
  },
  {
   "cell_type": "markdown",
   "id": "dd9ecf2b",
   "metadata": {},
   "source": [
    "To normalize the features with skew above 0.6."
   ]
  },
  {
   "cell_type": "code",
   "execution_count": 20,
   "id": "0d03ab12",
   "metadata": {},
   "outputs": [],
   "source": [
    "yjt = YeoJohnsonTransformer()\n",
    "yjt.fit(train_test[skew_index])\n",
    "train_test[skew_index] = yjt.transform(train_test[skew_index])"
   ]
  },
  {
   "cell_type": "code",
   "execution_count": 22,
   "id": "5c878c20",
   "metadata": {},
   "outputs": [
    {
     "data": {
      "text/plain": [
       "Index(['PoolArea', 'LowQualFinSF', 'MiscVal', 'LandSlope', 'BsmtHalfBath',\n",
       "       'ScreenPorch', 'BsmtFinSF2', 'BldgType', 'Condition2'],\n",
       "      dtype='object')"
      ]
     },
     "execution_count": 22,
     "metadata": {},
     "output_type": "execute_result"
    }
   ],
   "source": [
    "skew_features = train_test.apply(lambda x: skew(x)).sort_values(ascending=False)\n",
    "high_skew = skew_features[skew_features > 0.6]\n",
    "skew_index = high_skew.index\n",
    "skew_index"
   ]
  },
  {
   "cell_type": "code",
   "execution_count": 23,
   "id": "5f1e8d82",
   "metadata": {},
   "outputs": [
    {
     "name": "stdout",
     "output_type": "stream",
     "text": [
      "There are 9 numerical features with Skew > 0.6 :\n"
     ]
    },
    {
     "data": {
      "text/html": [
       "<div>\n",
       "<style scoped>\n",
       "    .dataframe tbody tr th:only-of-type {\n",
       "        vertical-align: middle;\n",
       "    }\n",
       "\n",
       "    .dataframe tbody tr th {\n",
       "        vertical-align: top;\n",
       "    }\n",
       "\n",
       "    .dataframe thead th {\n",
       "        text-align: right;\n",
       "    }\n",
       "</style>\n",
       "<table border=\"1\" class=\"dataframe\">\n",
       "  <thead>\n",
       "    <tr style=\"text-align: right;\">\n",
       "      <th></th>\n",
       "      <th>Skew</th>\n",
       "    </tr>\n",
       "  </thead>\n",
       "  <tbody>\n",
       "    <tr>\n",
       "      <th>PoolArea</th>\n",
       "      <td>14.884318</td>\n",
       "    </tr>\n",
       "    <tr>\n",
       "      <th>LowQualFinSF</th>\n",
       "      <td>8.365937</td>\n",
       "    </tr>\n",
       "    <tr>\n",
       "      <th>MiscVal</th>\n",
       "      <td>5.037498</td>\n",
       "    </tr>\n",
       "    <tr>\n",
       "      <th>LandSlope</th>\n",
       "      <td>4.213417</td>\n",
       "    </tr>\n",
       "    <tr>\n",
       "      <th>BsmtHalfBath</th>\n",
       "      <td>3.707260</td>\n",
       "    </tr>\n",
       "    <tr>\n",
       "      <th>ScreenPorch</th>\n",
       "      <td>2.915215</td>\n",
       "    </tr>\n",
       "    <tr>\n",
       "      <th>BsmtFinSF2</th>\n",
       "      <td>2.356620</td>\n",
       "    </tr>\n",
       "    <tr>\n",
       "      <th>BldgType</th>\n",
       "      <td>1.765554</td>\n",
       "    </tr>\n",
       "    <tr>\n",
       "      <th>Condition2</th>\n",
       "      <td>1.384128</td>\n",
       "    </tr>\n",
       "  </tbody>\n",
       "</table>\n",
       "</div>"
      ],
      "text/plain": [
       "                   Skew\n",
       "PoolArea      14.884318\n",
       "LowQualFinSF   8.365937\n",
       "MiscVal        5.037498\n",
       "LandSlope      4.213417\n",
       "BsmtHalfBath   3.707260\n",
       "ScreenPorch    2.915215\n",
       "BsmtFinSF2     2.356620\n",
       "BldgType       1.765554\n",
       "Condition2     1.384128"
      ]
     },
     "execution_count": 23,
     "metadata": {},
     "output_type": "execute_result"
    }
   ],
   "source": [
    "print(\"There are {} numerical features with Skew > 0.6 :\".format(high_skew.shape[0]))\n",
    "skewness = pd.DataFrame({'Skew' :high_skew})\n",
    "skewness"
   ]
  },
  {
   "cell_type": "code",
   "execution_count": null,
   "id": "177587e8",
   "metadata": {},
   "outputs": [],
   "source": []
  },
  {
   "cell_type": "code",
   "execution_count": null,
   "id": "da975618",
   "metadata": {},
   "outputs": [],
   "source": []
  },
  {
   "cell_type": "code",
   "execution_count": 20,
   "id": "99f32924",
   "metadata": {},
   "outputs": [
    {
     "name": "stderr",
     "output_type": "stream",
     "text": [
      "C:\\Users\\tompe\\anaconda3\\lib\\site-packages\\pandas\\core\\arraylike.py:397: RuntimeWarning: divide by zero encountered in log1p\n",
      "  result = getattr(ufunc, method)(*inputs, **kwargs)\n"
     ]
    }
   ],
   "source": [
    "#for i in skew_index:\n",
    "#    train_test[i] = np.log1p(train_test[i])"
   ]
  },
  {
   "cell_type": "markdown",
   "id": "48390e60",
   "metadata": {},
   "source": [
    "To create a column with the log of the SalePrice to match the evaluation process in the contest. "
   ]
  },
  {
   "cell_type": "code",
   "execution_count": 24,
   "id": "77ad85f3",
   "metadata": {},
   "outputs": [],
   "source": [
    "train_test['LogSalePrice'] = train_test['SalePrice'].apply(np.log)"
   ]
  },
  {
   "cell_type": "markdown",
   "id": "1baca8c9",
   "metadata": {},
   "source": [
    "To separate the train_test dataset back into the train and test datasets, identify the independent and dependent columns, and create the validation split."
   ]
  },
  {
   "cell_type": "code",
   "execution_count": 25,
   "id": "c5bba200",
   "metadata": {},
   "outputs": [],
   "source": [
    "train = train_test[train_test['SalePrice'].notnull()].copy()\n",
    "test = train_test[train_test['SalePrice'].isnull()].drop(['SalePrice','LogSalePrice'],axis=1)\n",
    "X = train.drop(['SalePrice','LogSalePrice'],axis=1)\n",
    "y = train.LogSalePrice"
   ]
  },
  {
   "cell_type": "code",
   "execution_count": 23,
   "id": "b984d63e",
   "metadata": {},
   "outputs": [],
   "source": [
    "'''def xgb_objective(trial):\n",
    "    \n",
    "    param = {  \n",
    "        #'tree_method':method,\n",
    "        #'objective': 'reg:squaredlogerror',\n",
    "        'eval_metric': 'rmse',\n",
    "        'lambda': trial.suggest_float('lambda', 0, 10.0),\n",
    "        'alpha': trial.suggest_float('alpha', 0, 10.0),\n",
    "        'colsample_bytree': trial.suggest_float('colsample_bytree', 0.1,1.0),\n",
    "        'subsample': trial.suggest_float('subsample', 0.2,1.0),\n",
    "        'learning_rate': trial.suggest_float('learning_rate', 0.0001,0.1),\n",
    "        'n_estimators': trial.suggest_int('n_estimators', 100,3000),\n",
    "        'max_depth': trial.suggest_categorical('max_depth', [2,3,4,5,6,7,8,9,10]),\n",
    "        'min_child_weight': trial.suggest_int('min_child_weight', 1, 10),\n",
    "        'num_parallel_tree': trial.suggest_int('num_parallel_tree',1,1),\n",
    "        }\n",
    "\n",
    "    X_train, X_test, y_train, y_test = train_test_split(X, y, test_size=0.25)\n",
    "    model = xgb.XGBRegressor(**param)\n",
    "    model.fit(X_train, y_train, eval_set=[(X_test, y_test)], verbose=0)\n",
    "    y_pred = model.predict(X_test)\n",
    "    rmse = np.sqrt(mean_squared_error(y_test, y_pred))\n",
    "    return rmse'''"
   ]
  },
  {
   "cell_type": "code",
   "execution_count": 24,
   "id": "67749652",
   "metadata": {},
   "outputs": [
    {
     "name": "stderr",
     "output_type": "stream",
     "text": [
      "\u001b[32m[I 2023-06-06 07:55:24,660]\u001b[0m A new study created in memory with name: no-name-8e48ddf0-2766-4099-bc18-c57b6583c40c\u001b[0m\n",
      "\u001b[32m[I 2023-06-06 07:55:27,892]\u001b[0m Trial 0 finished with value: 0.15449259040773541 and parameters: {'lambda': 5.005512412442891, 'alpha': 7.507617123368103, 'colsample_bytree': 0.5172618900102177, 'subsample': 0.28895669552474684, 'learning_rate': 0.06955157564922773, 'n_estimators': 2231, 'max_depth': 9, 'min_child_weight': 6, 'num_parallel_tree': 1}. Best is trial 0 with value: 0.15449259040773541.\u001b[0m\n",
      "\u001b[32m[I 2023-06-06 07:55:31,762]\u001b[0m Trial 1 finished with value: 0.13641266132782368 and parameters: {'lambda': 9.712140075283925, 'alpha': 6.987322929271834, 'colsample_bytree': 0.9948400112674631, 'subsample': 0.9455138711490416, 'learning_rate': 0.01663248887679928, 'n_estimators': 2453, 'max_depth': 3, 'min_child_weight': 4, 'num_parallel_tree': 1}. Best is trial 1 with value: 0.13641266132782368.\u001b[0m\n",
      "\u001b[32m[I 2023-06-06 07:55:34,273]\u001b[0m Trial 2 finished with value: 0.15202119138544057 and parameters: {'lambda': 8.269660181789222, 'alpha': 9.66497902958943, 'colsample_bytree': 0.33460284213405145, 'subsample': 0.7553881366757371, 'learning_rate': 0.062322493110232406, 'n_estimators': 1689, 'max_depth': 10, 'min_child_weight': 1, 'num_parallel_tree': 1}. Best is trial 1 with value: 0.13641266132782368.\u001b[0m\n",
      "\u001b[32m[I 2023-06-06 07:55:36,059]\u001b[0m Trial 3 finished with value: 0.13948193066112077 and parameters: {'lambda': 5.3018065984597555, 'alpha': 3.756939846111532, 'colsample_bytree': 0.7600919110456149, 'subsample': 0.907112494941906, 'learning_rate': 0.04473956859911487, 'n_estimators': 875, 'max_depth': 7, 'min_child_weight': 4, 'num_parallel_tree': 1}. Best is trial 1 with value: 0.13641266132782368.\u001b[0m\n",
      "\u001b[32m[I 2023-06-06 07:55:36,292]\u001b[0m Trial 4 finished with value: 0.14406762547526364 and parameters: {'lambda': 0.9126696639179299, 'alpha': 3.376924607512153, 'colsample_bytree': 0.9952689731998315, 'subsample': 0.20866223841849846, 'learning_rate': 0.08375373952627367, 'n_estimators': 114, 'max_depth': 2, 'min_child_weight': 3, 'num_parallel_tree': 1}. Best is trial 1 with value: 0.13641266132782368.\u001b[0m\n",
      "\u001b[32m[I 2023-06-06 07:55:39,054]\u001b[0m Trial 5 finished with value: 0.14611180234042567 and parameters: {'lambda': 6.398838592928638, 'alpha': 2.2805186376001227, 'colsample_bytree': 0.887130133681853, 'subsample': 0.7449194671375783, 'learning_rate': 0.08130726398720974, 'n_estimators': 1304, 'max_depth': 7, 'min_child_weight': 1, 'num_parallel_tree': 1}. Best is trial 1 with value: 0.13641266132782368.\u001b[0m\n",
      "\u001b[32m[I 2023-06-06 07:55:42,674]\u001b[0m Trial 6 finished with value: 0.1516792934589053 and parameters: {'lambda': 4.105244920208192, 'alpha': 6.653233640126299, 'colsample_bytree': 0.9534615810843969, 'subsample': 0.8152991979727888, 'learning_rate': 0.016242320646387035, 'n_estimators': 1750, 'max_depth': 3, 'min_child_weight': 3, 'num_parallel_tree': 1}. Best is trial 1 with value: 0.13641266132782368.\u001b[0m\n",
      "\u001b[32m[I 2023-06-06 07:55:45,226]\u001b[0m Trial 7 finished with value: 0.16905989336887445 and parameters: {'lambda': 7.672483939377117, 'alpha': 7.781456151096517, 'colsample_bytree': 0.48972119489359245, 'subsample': 0.6385159916672818, 'learning_rate': 0.08852804373089786, 'n_estimators': 1416, 'max_depth': 10, 'min_child_weight': 7, 'num_parallel_tree': 1}. Best is trial 1 with value: 0.13641266132782368.\u001b[0m\n",
      "\u001b[32m[I 2023-06-06 07:55:46,534]\u001b[0m Trial 8 finished with value: 0.1331903666302796 and parameters: {'lambda': 0.1772812132624313, 'alpha': 6.112054272272115, 'colsample_bytree': 0.9133483376756328, 'subsample': 0.6056319671630968, 'learning_rate': 0.03332836573374474, 'n_estimators': 574, 'max_depth': 9, 'min_child_weight': 10, 'num_parallel_tree': 1}. Best is trial 8 with value: 0.1331903666302796.\u001b[0m\n",
      "\u001b[32m[I 2023-06-06 07:55:50,279]\u001b[0m Trial 9 finished with value: 0.13362260854285327 and parameters: {'lambda': 8.95472460909112, 'alpha': 2.786109231160585, 'colsample_bytree': 0.6693073755708173, 'subsample': 0.27831552266635173, 'learning_rate': 0.04302865095754264, 'n_estimators': 1935, 'max_depth': 5, 'min_child_weight': 3, 'num_parallel_tree': 1}. Best is trial 8 with value: 0.1331903666302796.\u001b[0m\n",
      "\u001b[32m[I 2023-06-06 07:55:50,873]\u001b[0m Trial 10 finished with value: 10.768770086239687 and parameters: {'lambda': 0.33341814304864736, 'alpha': 1.1180705525218815, 'colsample_bytree': 0.7621621765165878, 'subsample': 0.4912014179545017, 'learning_rate': 0.00025324508695398484, 'n_estimators': 272, 'max_depth': 9, 'min_child_weight': 10, 'num_parallel_tree': 1}. Best is trial 8 with value: 0.1331903666302796.\u001b[0m\n",
      "\u001b[32m[I 2023-06-06 07:55:52,907]\u001b[0m Trial 11 finished with value: 0.1225394553635882 and parameters: {'lambda': 2.7674401055951603, 'alpha': 0.1539350777772861, 'colsample_bytree': 0.7130311105084253, 'subsample': 0.46120572247705593, 'learning_rate': 0.041604471430687684, 'n_estimators': 755, 'max_depth': 5, 'min_child_weight': 10, 'num_parallel_tree': 1}. Best is trial 11 with value: 0.1225394553635882.\u001b[0m\n",
      "\u001b[32m[I 2023-06-06 07:55:54,671]\u001b[0m Trial 12 finished with value: 0.12474342626492514 and parameters: {'lambda': 1.9545417672033063, 'alpha': 0.5530145977335748, 'colsample_bytree': 0.12185917551923442, 'subsample': 0.49574405240400954, 'learning_rate': 0.03559881949939975, 'n_estimators': 772, 'max_depth': 8, 'min_child_weight': 10, 'num_parallel_tree': 1}. Best is trial 11 with value: 0.1225394553635882.\u001b[0m\n",
      "\u001b[32m[I 2023-06-06 07:56:01,216]\u001b[0m Trial 13 finished with value: 0.1269708491436415 and parameters: {'lambda': 2.6139660655015, 'alpha': 0.09516615431990938, 'colsample_bytree': 0.10373113011537255, 'subsample': 0.48353975324738135, 'learning_rate': 0.056607881634469344, 'n_estimators': 2956, 'max_depth': 8, 'min_child_weight': 8, 'num_parallel_tree': 1}. Best is trial 11 with value: 0.1225394553635882.\u001b[0m\n",
      "\u001b[32m[I 2023-06-06 07:56:03,277]\u001b[0m Trial 14 finished with value: 0.11706423892646874 and parameters: {'lambda': 2.406873473224787, 'alpha': 0.1921222416571517, 'colsample_bytree': 0.1747330665419931, 'subsample': 0.45567325440862233, 'learning_rate': 0.03335696586303338, 'n_estimators': 933, 'max_depth': 5, 'min_child_weight': 9, 'num_parallel_tree': 1}. Best is trial 14 with value: 0.11706423892646874.\u001b[0m\n",
      "\u001b[32m[I 2023-06-06 07:56:05,681]\u001b[0m Trial 15 finished with value: 0.13076168934961208 and parameters: {'lambda': 3.097079120852178, 'alpha': 1.5660185377226776, 'colsample_bytree': 0.338095468901884, 'subsample': 0.3947882007837937, 'learning_rate': 0.09749640137693558, 'n_estimators': 1040, 'max_depth': 5, 'min_child_weight': 8, 'num_parallel_tree': 1}. Best is trial 14 with value: 0.11706423892646874.\u001b[0m\n",
      "\u001b[32m[I 2023-06-06 07:56:06,892]\u001b[0m Trial 16 finished with value: 0.13718136996293426 and parameters: {'lambda': 3.603579666694257, 'alpha': 1.4545672018076936, 'colsample_bytree': 0.6175193965063243, 'subsample': 0.40125856038843377, 'learning_rate': 0.05277158930814693, 'n_estimators': 464, 'max_depth': 4, 'min_child_weight': 8, 'num_parallel_tree': 1}. Best is trial 14 with value: 0.11706423892646874.\u001b[0m\n",
      "\u001b[32m[I 2023-06-06 07:56:10,178]\u001b[0m Trial 17 finished with value: 0.1172418695289376 and parameters: {'lambda': 1.7372384359562836, 'alpha': 0.16954621305806697, 'colsample_bytree': 0.41498317421078645, 'subsample': 0.5759772150688032, 'learning_rate': 0.032128494109694816, 'n_estimators': 1156, 'max_depth': 6, 'min_child_weight': 9, 'num_parallel_tree': 1}. Best is trial 14 with value: 0.11706423892646874.\u001b[0m\n",
      "\u001b[32m[I 2023-06-06 07:56:12,789]\u001b[0m Trial 18 finished with value: 0.11821679542610299 and parameters: {'lambda': 1.4302194514117303, 'alpha': 4.486592095028433, 'colsample_bytree': 0.23104470171960922, 'subsample': 0.6536185174408567, 'learning_rate': 0.033364953217096024, 'n_estimators': 1241, 'max_depth': 6, 'min_child_weight': 9, 'num_parallel_tree': 1}. Best is trial 14 with value: 0.11706423892646874.\u001b[0m\n",
      "\u001b[32m[I 2023-06-06 07:56:15,055]\u001b[0m Trial 19 finished with value: 0.11033085615589797 and parameters: {'lambda': 1.5261175978737391, 'alpha': 2.2836904728513887, 'colsample_bytree': 0.4179581077613872, 'subsample': 0.5624566545786764, 'learning_rate': 0.02434667046044324, 'n_estimators': 1098, 'max_depth': 2, 'min_child_weight': 6, 'num_parallel_tree': 1}. Best is trial 19 with value: 0.11033085615589797.\u001b[0m\n"
     ]
    },
    {
     "name": "stderr",
     "output_type": "stream",
     "text": [
      "\u001b[32m[I 2023-06-06 07:56:18,066]\u001b[0m Trial 20 finished with value: 0.12514377783784233 and parameters: {'lambda': 2.180374322134986, 'alpha': 2.0955928782841804, 'colsample_bytree': 0.2047772530002056, 'subsample': 0.5610717025710661, 'learning_rate': 0.023349243814958648, 'n_estimators': 1541, 'max_depth': 2, 'min_child_weight': 6, 'num_parallel_tree': 1}. Best is trial 19 with value: 0.11033085615589797.\u001b[0m\n",
      "\u001b[32m[I 2023-06-06 07:56:21,053]\u001b[0m Trial 21 finished with value: 0.1090806721241984 and parameters: {'lambda': 1.2873257231394375, 'alpha': 1.0302040674616142, 'colsample_bytree': 0.444424840534136, 'subsample': 0.5632870298355229, 'learning_rate': 0.025907671991715484, 'n_estimators': 1123, 'max_depth': 6, 'min_child_weight': 7, 'num_parallel_tree': 1}. Best is trial 21 with value: 0.1090806721241984.\u001b[0m\n",
      "\u001b[32m[I 2023-06-06 07:56:23,683]\u001b[0m Trial 22 finished with value: 0.14973650991920073 and parameters: {'lambda': 1.1375735776627849, 'alpha': 1.3042580152021617, 'colsample_bytree': 0.42681287965974557, 'subsample': 0.6817119410996776, 'learning_rate': 0.024191459068528397, 'n_estimators': 985, 'max_depth': 6, 'min_child_weight': 7, 'num_parallel_tree': 1}. Best is trial 21 with value: 0.1090806721241984.\u001b[0m\n",
      "\u001b[32m[I 2023-06-06 07:56:25,061]\u001b[0m Trial 23 finished with value: 0.5619349553401908 and parameters: {'lambda': 0.1260334991374752, 'alpha': 2.54425089574036, 'colsample_bytree': 0.5793421280794646, 'subsample': 0.5557950935410869, 'learning_rate': 0.00614069093614757, 'n_estimators': 500, 'max_depth': 2, 'min_child_weight': 7, 'num_parallel_tree': 1}. Best is trial 21 with value: 0.1090806721241984.\u001b[0m\n",
      "\u001b[32m[I 2023-06-06 07:56:27,519]\u001b[0m Trial 24 finished with value: 0.12079649838617776 and parameters: {'lambda': 2.1037082451998472, 'alpha': 1.0997351485273599, 'colsample_bytree': 0.3135406232833422, 'subsample': 0.5707411191116211, 'learning_rate': 0.024883381819895942, 'n_estimators': 1084, 'max_depth': 4, 'min_child_weight': 5, 'num_parallel_tree': 1}. Best is trial 21 with value: 0.1090806721241984.\u001b[0m\n",
      "\u001b[32m[I 2023-06-06 07:56:29,015]\u001b[0m Trial 25 finished with value: 0.13356706925309506 and parameters: {'lambda': 1.1474224273593912, 'alpha': 1.9293916707085674, 'colsample_bytree': 0.45900801412256664, 'subsample': 0.6823818718618914, 'learning_rate': 0.016696681690407517, 'n_estimators': 709, 'max_depth': 2, 'min_child_weight': 5, 'num_parallel_tree': 1}. Best is trial 21 with value: 0.1090806721241984.\u001b[0m\n",
      "\u001b[32m[I 2023-06-06 07:56:34,322]\u001b[0m Trial 26 finished with value: 0.1223218029966609 and parameters: {'lambda': 3.5002567574546513, 'alpha': 0.8984550665819224, 'colsample_bytree': 0.5435167192666274, 'subsample': 0.4123856661286437, 'learning_rate': 0.04819816710729588, 'n_estimators': 2002, 'max_depth': 5, 'min_child_weight': 9, 'num_parallel_tree': 1}. Best is trial 21 with value: 0.1090806721241984.\u001b[0m\n",
      "\u001b[32m[I 2023-06-06 07:56:37,409]\u001b[0m Trial 27 finished with value: 0.10954609103917105 and parameters: {'lambda': 2.5653673265013777, 'alpha': 3.1801734528115277, 'colsample_bytree': 0.40026314103176824, 'subsample': 0.5332047286471566, 'learning_rate': 0.037883542732255235, 'n_estimators': 1423, 'max_depth': 6, 'min_child_weight': 6, 'num_parallel_tree': 1}. Best is trial 21 with value: 0.1090806721241984.\u001b[0m\n",
      "\u001b[32m[I 2023-06-06 07:56:40,921]\u001b[0m Trial 28 finished with value: 0.13205752789369443 and parameters: {'lambda': 0.7129290684252487, 'alpha': 3.18335495842428, 'colsample_bytree': 0.4084124279935864, 'subsample': 0.5248654922058373, 'learning_rate': 0.04087355315586981, 'n_estimators': 1537, 'max_depth': 6, 'min_child_weight': 6, 'num_parallel_tree': 1}. Best is trial 21 with value: 0.1090806721241984.\u001b[0m\n",
      "\u001b[32m[I 2023-06-06 07:56:46,170]\u001b[0m Trial 29 finished with value: 0.13196932809272394 and parameters: {'lambda': 1.6160642112282637, 'alpha': 2.925581288789806, 'colsample_bytree': 0.5237314620062615, 'subsample': 0.6139647777078461, 'learning_rate': 0.0099319235062486, 'n_estimators': 2229, 'max_depth': 6, 'min_child_weight': 5, 'num_parallel_tree': 1}. Best is trial 21 with value: 0.1090806721241984.\u001b[0m\n",
      "\u001b[32m[I 2023-06-06 07:56:49,909]\u001b[0m Trial 30 finished with value: 0.1319166833263046 and parameters: {'lambda': 4.0117849643051695, 'alpha': 4.135830212512309, 'colsample_bytree': 0.49265485814794174, 'subsample': 0.3412986008276292, 'learning_rate': 0.026681626955104704, 'n_estimators': 1415, 'max_depth': 6, 'min_child_weight': 7, 'num_parallel_tree': 1}. Best is trial 21 with value: 0.1090806721241984.\u001b[0m\n",
      "\u001b[32m[I 2023-06-06 07:56:52,990]\u001b[0m Trial 31 finished with value: 0.10979834676270853 and parameters: {'lambda': 2.5053249301852456, 'alpha': 1.958259567225269, 'colsample_bytree': 0.3546638486218766, 'subsample': 0.44810528265531274, 'learning_rate': 0.03781428957201188, 'n_estimators': 943, 'max_depth': 6, 'min_child_weight': 6, 'num_parallel_tree': 1}. Best is trial 21 with value: 0.1090806721241984.\u001b[0m\n",
      "\u001b[32m[I 2023-06-06 07:56:57,385]\u001b[0m Trial 32 finished with value: 0.11671348809081562 and parameters: {'lambda': 3.0136695153399033, 'alpha': 1.9461798311190819, 'colsample_bytree': 0.3815646801644989, 'subsample': 0.5386494902614458, 'learning_rate': 0.03854345066279012, 'n_estimators': 1264, 'max_depth': 6, 'min_child_weight': 6, 'num_parallel_tree': 1}. Best is trial 21 with value: 0.1090806721241984.\u001b[0m\n",
      "\u001b[32m[I 2023-06-06 07:57:01,254]\u001b[0m Trial 33 finished with value: 0.12562171796662547 and parameters: {'lambda': 1.5277803729780326, 'alpha': 2.8073272266518576, 'colsample_bytree': 0.2845543956226918, 'subsample': 0.516723359503863, 'learning_rate': 0.0511677809836193, 'n_estimators': 1156, 'max_depth': 6, 'min_child_weight': 4, 'num_parallel_tree': 1}. Best is trial 21 with value: 0.1090806721241984.\u001b[0m\n",
      "\u001b[32m[I 2023-06-06 07:57:05,744]\u001b[0m Trial 34 finished with value: 0.11803495322422383 and parameters: {'lambda': 0.8177409855802903, 'alpha': 3.545103779255226, 'colsample_bytree': 0.36544393846288065, 'subsample': 0.598366354294827, 'learning_rate': 0.046062492532095184, 'n_estimators': 1672, 'max_depth': 3, 'min_child_weight': 5, 'num_parallel_tree': 1}. Best is trial 21 with value: 0.1090806721241984.\u001b[0m\n",
      "\u001b[32m[I 2023-06-06 07:57:11,569]\u001b[0m Trial 35 finished with value: 0.1199376972443352 and parameters: {'lambda': 2.446799730637508, 'alpha': 2.3074336200263197, 'colsample_bytree': 0.44314248052101135, 'subsample': 0.43114553381061616, 'learning_rate': 0.028837858194129228, 'n_estimators': 1866, 'max_depth': 6, 'min_child_weight': 6, 'num_parallel_tree': 1}. Best is trial 21 with value: 0.1090806721241984.\u001b[0m\n",
      "\u001b[32m[I 2023-06-06 07:57:15,689]\u001b[0m Trial 36 finished with value: 0.13803840649316937 and parameters: {'lambda': 1.8803362043784067, 'alpha': 3.9042425788553032, 'colsample_bytree': 0.274180034366717, 'subsample': 0.5210716479558588, 'learning_rate': 0.018978420048368187, 'n_estimators': 1392, 'max_depth': 10, 'min_child_weight': 7, 'num_parallel_tree': 1}. Best is trial 21 with value: 0.1090806721241984.\u001b[0m\n",
      "\u001b[32m[I 2023-06-06 07:57:18,448]\u001b[0m Trial 37 finished with value: 0.13369135600205656 and parameters: {'lambda': 0.7707936413659611, 'alpha': 1.671607839521485, 'colsample_bytree': 0.36310798934182154, 'subsample': 0.35499898828991894, 'learning_rate': 0.040050667809548565, 'n_estimators': 861, 'max_depth': 7, 'min_child_weight': 4, 'num_parallel_tree': 1}. Best is trial 21 with value: 0.1090806721241984.\u001b[0m\n",
      "\u001b[32m[I 2023-06-06 07:57:20,294]\u001b[0m Trial 38 finished with value: 0.12337790823445836 and parameters: {'lambda': 5.171659988922155, 'alpha': 3.300652424215869, 'colsample_bytree': 0.4565408514015688, 'subsample': 0.4569266147953457, 'learning_rate': 0.029679926988119134, 'n_estimators': 635, 'max_depth': 2, 'min_child_weight': 4, 'num_parallel_tree': 1}. Best is trial 21 with value: 0.1090806721241984.\u001b[0m\n",
      "\u001b[32m[I 2023-06-06 07:57:28,427]\u001b[0m Trial 39 finished with value: 0.12314885754089819 and parameters: {'lambda': 3.1020926835961014, 'alpha': 2.4363716700267997, 'colsample_bytree': 0.3079718632026145, 'subsample': 0.635669456826744, 'learning_rate': 0.06330606052929738, 'n_estimators': 2694, 'max_depth': 6, 'min_child_weight': 8, 'num_parallel_tree': 1}. Best is trial 21 with value: 0.1090806721241984.\u001b[0m\n"
     ]
    },
    {
     "name": "stderr",
     "output_type": "stream",
     "text": [
      "\u001b[32m[I 2023-06-06 07:57:29,846]\u001b[0m Trial 40 finished with value: 0.1525342887620296 and parameters: {'lambda': 4.677566585686249, 'alpha': 0.7569829006274198, 'colsample_bytree': 0.4855644178502802, 'subsample': 0.716862543107563, 'learning_rate': 0.03706059578951099, 'n_estimators': 370, 'max_depth': 3, 'min_child_weight': 7, 'num_parallel_tree': 1}. Best is trial 21 with value: 0.1090806721241984.\u001b[0m\n",
      "\u001b[32m[I 2023-06-06 07:57:34,191]\u001b[0m Trial 41 finished with value: 0.1353370494923925 and parameters: {'lambda': 2.909699801648847, 'alpha': 2.0296881704211196, 'colsample_bytree': 0.38398860438615784, 'subsample': 0.5295630710273964, 'learning_rate': 0.0382498805531267, 'n_estimators': 1299, 'max_depth': 6, 'min_child_weight': 6, 'num_parallel_tree': 1}. Best is trial 21 with value: 0.1090806721241984.\u001b[0m\n",
      "\u001b[32m[I 2023-06-06 07:57:39,268]\u001b[0m Trial 42 finished with value: 0.11411518796798986 and parameters: {'lambda': 2.260384467778971, 'alpha': 1.7430613247745856, 'colsample_bytree': 0.38743059856151657, 'subsample': 0.5513851456485699, 'learning_rate': 0.04418915306329193, 'n_estimators': 1629, 'max_depth': 6, 'min_child_weight': 6, 'num_parallel_tree': 1}. Best is trial 21 with value: 0.1090806721241984.\u001b[0m\n",
      "\u001b[32m[I 2023-06-06 07:57:45,562]\u001b[0m Trial 43 finished with value: 0.12139889450738608 and parameters: {'lambda': 1.345794467156767, 'alpha': 1.5605423814662678, 'colsample_bytree': 0.35295092509420317, 'subsample': 0.582137184334782, 'learning_rate': 0.04517240766643849, 'n_estimators': 1677, 'max_depth': 9, 'min_child_weight': 6, 'num_parallel_tree': 1}. Best is trial 21 with value: 0.1090806721241984.\u001b[0m\n",
      "\u001b[32m[I 2023-06-06 07:57:54,186]\u001b[0m Trial 44 finished with value: 0.10740699373958382 and parameters: {'lambda': 2.197699545455066, 'alpha': 2.759370044371683, 'colsample_bytree': 0.394552321250883, 'subsample': 0.4865637313459724, 'learning_rate': 0.020150875131092323, 'n_estimators': 2180, 'max_depth': 7, 'min_child_weight': 5, 'num_parallel_tree': 1}. Best is trial 44 with value: 0.10740699373958382.\u001b[0m\n",
      "\u001b[32m[I 2023-06-06 07:58:07,226]\u001b[0m Trial 45 finished with value: 0.12183071411878607 and parameters: {'lambda': 0.3964521622383721, 'alpha': 2.9486193940285625, 'colsample_bytree': 0.4310236451183292, 'subsample': 0.4845819891453466, 'learning_rate': 0.020930785599273274, 'n_estimators': 2599, 'max_depth': 7, 'min_child_weight': 2, 'num_parallel_tree': 1}. Best is trial 44 with value: 0.10740699373958382.\u001b[0m\n",
      "\u001b[32m[I 2023-06-06 07:58:21,842]\u001b[0m Trial 46 finished with value: 0.11485650354512225 and parameters: {'lambda': 1.8822721104086066, 'alpha': 3.6014159819413694, 'colsample_bytree': 0.5052132524385989, 'subsample': 0.6152157629447558, 'learning_rate': 0.013888846165338933, 'n_estimators': 2114, 'max_depth': 7, 'min_child_weight': 5, 'num_parallel_tree': 1}. Best is trial 44 with value: 0.10740699373958382.\u001b[0m\n",
      "\u001b[32m[I 2023-06-06 07:58:26,142]\u001b[0m Trial 47 finished with value: 0.12903017150623247 and parameters: {'lambda': 2.6188651524379787, 'alpha': 2.6348387756059033, 'colsample_bytree': 0.33756905532260323, 'subsample': 0.49908054165057913, 'learning_rate': 0.029354619953846795, 'n_estimators': 835, 'max_depth': 7, 'min_child_weight': 5, 'num_parallel_tree': 1}. Best is trial 44 with value: 0.10740699373958382.\u001b[0m\n",
      "\u001b[32m[I 2023-06-06 07:58:39,206]\u001b[0m Trial 48 finished with value: 0.13708186153757082 and parameters: {'lambda': 1.158184809680362, 'alpha': 0.7999843911922122, 'colsample_bytree': 0.4688138715478432, 'subsample': 0.4447359808808181, 'learning_rate': 0.020673062496506286, 'n_estimators': 2390, 'max_depth': 8, 'min_child_weight': 3, 'num_parallel_tree': 1}. Best is trial 44 with value: 0.10740699373958382.\u001b[0m\n",
      "\u001b[32m[I 2023-06-06 07:58:45,493]\u001b[0m Trial 49 finished with value: 0.13171577502063345 and parameters: {'lambda': 2.239941970998385, 'alpha': 2.3032133286703074, 'colsample_bytree': 0.4093207568645093, 'subsample': 0.4757340582225617, 'learning_rate': 0.02669673026133453, 'n_estimators': 1817, 'max_depth': 10, 'min_child_weight': 7, 'num_parallel_tree': 1}. Best is trial 44 with value: 0.10740699373958382.\u001b[0m\n",
      "\u001b[32m[I 2023-06-06 07:58:49,958]\u001b[0m Trial 50 finished with value: 0.14078217213545924 and parameters: {'lambda': 0.5903117658716516, 'alpha': 4.52990130001618, 'colsample_bytree': 0.565491575005162, 'subsample': 0.7957999146135701, 'learning_rate': 0.03463296690543792, 'n_estimators': 1462, 'max_depth': 2, 'min_child_weight': 4, 'num_parallel_tree': 1}. Best is trial 44 with value: 0.10740699373958382.\u001b[0m\n",
      "\u001b[32m[I 2023-06-06 07:58:53,283]\u001b[0m Trial 51 finished with value: 0.12430249312270833 and parameters: {'lambda': 2.417495067316461, 'alpha': 1.7619751863212818, 'colsample_bytree': 0.3935636263332487, 'subsample': 0.557136015211272, 'learning_rate': 0.04282431011092057, 'n_estimators': 982, 'max_depth': 6, 'min_child_weight': 6, 'num_parallel_tree': 1}. Best is trial 44 with value: 0.10740699373958382.\u001b[0m\n",
      "\u001b[32m[I 2023-06-06 07:58:56,762]\u001b[0m Trial 52 finished with value: 0.14752824245928498 and parameters: {'lambda': 1.6619220534809136, 'alpha': 1.4340169104900038, 'colsample_bytree': 0.3210510821354699, 'subsample': 0.5954445153474826, 'learning_rate': 0.03084729128439749, 'n_estimators': 1166, 'max_depth': 4, 'min_child_weight': 6, 'num_parallel_tree': 1}. Best is trial 44 with value: 0.10740699373958382.\u001b[0m\n",
      "\u001b[32m[I 2023-06-06 07:59:04,052]\u001b[0m Trial 53 finished with value: 0.12465971884032957 and parameters: {'lambda': 0.045663851861680094, 'alpha': 1.194449085296878, 'colsample_bytree': 0.4406974572529293, 'subsample': 0.508852862141479, 'learning_rate': 0.03604718992849411, 'n_estimators': 2028, 'max_depth': 6, 'min_child_weight': 5, 'num_parallel_tree': 1}. Best is trial 44 with value: 0.10740699373958382.\u001b[0m\n",
      "\u001b[32m[I 2023-06-06 07:59:09,231]\u001b[0m Trial 54 finished with value: 0.1093332681488059 and parameters: {'lambda': 2.160287880021622, 'alpha': 3.254106879704131, 'colsample_bytree': 0.37985701903242297, 'subsample': 0.5446438241251799, 'learning_rate': 0.021989580622005775, 'n_estimators': 1608, 'max_depth': 9, 'min_child_weight': 7, 'num_parallel_tree': 1}. Best is trial 44 with value: 0.10740699373958382.\u001b[0m\n",
      "\u001b[32m[I 2023-06-06 07:59:12,352]\u001b[0m Trial 55 finished with value: 0.1305831892933985 and parameters: {'lambda': 1.1278936069807424, 'alpha': 3.1686090864886785, 'colsample_bytree': 0.2652987026266753, 'subsample': 0.4717675675042984, 'learning_rate': 0.02220330079927611, 'n_estimators': 1100, 'max_depth': 9, 'min_child_weight': 8, 'num_parallel_tree': 1}. Best is trial 44 with value: 0.10740699373958382.\u001b[0m\n",
      "\u001b[32m[I 2023-06-06 07:59:16,207]\u001b[0m Trial 56 finished with value: 0.12946297612088922 and parameters: {'lambda': 1.960597251215705, 'alpha': 2.64950034109564, 'colsample_bytree': 0.33809569915976434, 'subsample': 0.4258752594052112, 'learning_rate': 0.01568597372874694, 'n_estimators': 1322, 'max_depth': 9, 'min_child_weight': 7, 'num_parallel_tree': 1}. Best is trial 44 with value: 0.10740699373958382.\u001b[0m\n",
      "\u001b[32m[I 2023-06-06 07:59:16,628]\u001b[0m Trial 57 finished with value: 0.7499529567573502 and parameters: {'lambda': 3.244592387854993, 'alpha': 5.328285108508188, 'colsample_bytree': 0.4813668753265117, 'subsample': 0.5426327155318859, 'learning_rate': 0.023598591295122852, 'n_estimators': 120, 'max_depth': 7, 'min_child_weight': 8, 'num_parallel_tree': 1}. Best is trial 44 with value: 0.10740699373958382.\u001b[0m\n",
      "\u001b[32m[I 2023-06-06 07:59:20,287]\u001b[0m Trial 58 finished with value: 0.12114497628114322 and parameters: {'lambda': 2.788629196266437, 'alpha': 0.5044713011776969, 'colsample_bytree': 0.42009330441901127, 'subsample': 0.5031132251530375, 'learning_rate': 0.026420094444144927, 'n_estimators': 910, 'max_depth': 9, 'min_child_weight': 7, 'num_parallel_tree': 1}. Best is trial 44 with value: 0.10740699373958382.\u001b[0m\n",
      "\u001b[32m[I 2023-06-06 07:59:29,258]\u001b[0m Trial 59 finished with value: 0.13115172432524438 and parameters: {'lambda': 2.6504628534843686, 'alpha': 2.189164432474607, 'colsample_bytree': 0.5292505345643593, 'subsample': 0.4485721647659544, 'learning_rate': 0.032561826731238204, 'n_estimators': 2875, 'max_depth': 8, 'min_child_weight': 8, 'num_parallel_tree': 1}. Best is trial 44 with value: 0.10740699373958382.\u001b[0m\n"
     ]
    },
    {
     "name": "stderr",
     "output_type": "stream",
     "text": [
      "\u001b[32m[I 2023-06-06 07:59:35,124]\u001b[0m Trial 60 finished with value: 0.11358476826674026 and parameters: {'lambda': 1.435115948690739, 'alpha': 3.7587311553239195, 'colsample_bytree': 0.37060369425378464, 'subsample': 0.5800483024681101, 'learning_rate': 0.01809680041270406, 'n_estimators': 2374, 'max_depth': 2, 'min_child_weight': 7, 'num_parallel_tree': 1}. Best is trial 44 with value: 0.10740699373958382.\u001b[0m\n",
      "\u001b[32m[I 2023-06-06 07:59:41,099]\u001b[0m Trial 61 finished with value: 0.13367274688921862 and parameters: {'lambda': 1.4275710393178218, 'alpha': 3.258011664012228, 'colsample_bytree': 0.36536722347656975, 'subsample': 0.5749007962728189, 'learning_rate': 0.018873688894383508, 'n_estimators': 2341, 'max_depth': 2, 'min_child_weight': 7, 'num_parallel_tree': 1}. Best is trial 44 with value: 0.10740699373958382.\u001b[0m\n",
      "\u001b[32m[I 2023-06-06 07:59:46,404]\u001b[0m Trial 62 finished with value: 0.14407559245147164 and parameters: {'lambda': 2.028696809275548, 'alpha': 3.7906406046435586, 'colsample_bytree': 0.403982528487307, 'subsample': 0.6336764116918001, 'learning_rate': 0.014070655378781919, 'n_estimators': 2244, 'max_depth': 2, 'min_child_weight': 6, 'num_parallel_tree': 1}. Best is trial 44 with value: 0.10740699373958382.\u001b[0m\n",
      "\u001b[32m[I 2023-06-06 07:59:52,486]\u001b[0m Trial 63 finished with value: 0.13926367483737856 and parameters: {'lambda': 1.6298979863161045, 'alpha': 2.880495043223696, 'colsample_bytree': 0.4554506283287179, 'subsample': 0.5887712812501856, 'learning_rate': 0.009876407273961881, 'n_estimators': 2556, 'max_depth': 2, 'min_child_weight': 7, 'num_parallel_tree': 1}. Best is trial 44 with value: 0.10740699373958382.\u001b[0m\n",
      "\u001b[32m[I 2023-06-06 07:59:57,517]\u001b[0m Trial 64 finished with value: 0.1280308631619368 and parameters: {'lambda': 1.0238051399586694, 'alpha': 3.4149787209638736, 'colsample_bytree': 0.31351629483739624, 'subsample': 0.5439748227676614, 'learning_rate': 0.026640708770518846, 'n_estimators': 2145, 'max_depth': 2, 'min_child_weight': 5, 'num_parallel_tree': 1}. Best is trial 44 with value: 0.10740699373958382.\u001b[0m\n",
      "\u001b[32m[I 2023-06-06 08:00:00,281]\u001b[0m Trial 65 finished with value: 0.12014903485050646 and parameters: {'lambda': 0.4732879191702406, 'alpha': 2.4888610652654135, 'colsample_bytree': 0.37692474485835453, 'subsample': 0.4747261521027709, 'learning_rate': 0.02327245439562528, 'n_estimators': 1022, 'max_depth': 9, 'min_child_weight': 7, 'num_parallel_tree': 1}. Best is trial 44 with value: 0.10740699373958382.\u001b[0m\n",
      "\u001b[32m[I 2023-06-06 08:00:05,010]\u001b[0m Trial 66 finished with value: 0.1257398121161087 and parameters: {'lambda': 2.1884933229048915, 'alpha': 2.1322234453478317, 'colsample_bytree': 0.44290595657847887, 'subsample': 0.50751882332726, 'learning_rate': 0.01954893288119018, 'n_estimators': 1559, 'max_depth': 4, 'min_child_weight': 6, 'num_parallel_tree': 1}. Best is trial 44 with value: 0.10740699373958382.\u001b[0m\n",
      "\u001b[32m[I 2023-06-06 08:00:07,903]\u001b[0m Trial 67 finished with value: 0.13750446231202265 and parameters: {'lambda': 1.2996735048343255, 'alpha': 4.063990936351235, 'colsample_bytree': 0.507155994598803, 'subsample': 0.6133841410436546, 'learning_rate': 0.03267444540240623, 'n_estimators': 1203, 'max_depth': 3, 'min_child_weight': 8, 'num_parallel_tree': 1}. Best is trial 44 with value: 0.10740699373958382.\u001b[0m\n",
      "\u001b[32m[I 2023-06-06 08:00:12,388]\u001b[0m Trial 68 finished with value: 0.13744943839007803 and parameters: {'lambda': 0.9215005074810272, 'alpha': 3.628238693168374, 'colsample_bytree': 0.34658482045400196, 'subsample': 0.5648259272513801, 'learning_rate': 0.028547383932459376, 'n_estimators': 1783, 'max_depth': 10, 'min_child_weight': 6, 'num_parallel_tree': 1}. Best is trial 44 with value: 0.10740699373958382.\u001b[0m\n",
      "\u001b[32m[I 2023-06-06 08:00:14,160]\u001b[0m Trial 69 finished with value: 0.1205162517264807 and parameters: {'lambda': 1.8185514493219144, 'alpha': 3.0306230364150224, 'colsample_bytree': 0.2932731046330097, 'subsample': 0.5266878491253311, 'learning_rate': 0.017318449382079156, 'n_estimators': 721, 'max_depth': 5, 'min_child_weight': 5, 'num_parallel_tree': 1}. Best is trial 44 with value: 0.10740699373958382.\u001b[0m\n",
      "\u001b[32m[I 2023-06-06 08:00:20,243]\u001b[0m Trial 70 finished with value: 0.13919696768481907 and parameters: {'lambda': 3.377219564001889, 'alpha': 2.694868705943762, 'colsample_bytree': 0.41671565417619755, 'subsample': 0.6660210378139209, 'learning_rate': 0.03613464299955046, 'n_estimators': 2774, 'max_depth': 2, 'min_child_weight': 6, 'num_parallel_tree': 1}. Best is trial 44 with value: 0.10740699373958382.\u001b[0m\n",
      "\u001b[32m[I 2023-06-06 08:00:25,846]\u001b[0m Trial 71 finished with value: 0.1341738572800644 and parameters: {'lambda': 2.4306558167689634, 'alpha': 1.8818072428693853, 'colsample_bytree': 0.3926807503730492, 'subsample': 0.5543509712433349, 'learning_rate': 0.042784470858136844, 'n_estimators': 1627, 'max_depth': 6, 'min_child_weight': 6, 'num_parallel_tree': 1}. Best is trial 44 with value: 0.10740699373958382.\u001b[0m\n",
      "\u001b[32m[I 2023-06-06 08:00:32,154]\u001b[0m Trial 72 finished with value: 0.13301487975003423 and parameters: {'lambda': 2.163477800971616, 'alpha': 1.6463941321415914, 'colsample_bytree': 0.36596329376979, 'subsample': 0.5368760470565155, 'learning_rate': 0.048241065106376144, 'n_estimators': 1898, 'max_depth': 6, 'min_child_weight': 7, 'num_parallel_tree': 1}. Best is trial 44 with value: 0.10740699373958382.\u001b[0m\n",
      "\u001b[32m[I 2023-06-06 08:00:37,038]\u001b[0m Trial 73 finished with value: 0.14701068134020798 and parameters: {'lambda': 2.749451695255899, 'alpha': 1.1240801063015722, 'colsample_bytree': 0.33091362517412304, 'subsample': 0.5798376624569056, 'learning_rate': 0.04031300596212255, 'n_estimators': 1410, 'max_depth': 6, 'min_child_weight': 6, 'num_parallel_tree': 1}. Best is trial 44 with value: 0.10740699373958382.\u001b[0m\n",
      "\u001b[32m[I 2023-06-06 08:00:42,533]\u001b[0m Trial 74 finished with value: 0.12093796011069773 and parameters: {'lambda': 1.5031120682984553, 'alpha': 1.3771060019799686, 'colsample_bytree': 0.4660712715410931, 'subsample': 0.48918924540900266, 'learning_rate': 0.024161959473420258, 'n_estimators': 1519, 'max_depth': 6, 'min_child_weight': 7, 'num_parallel_tree': 1}. Best is trial 44 with value: 0.10740699373958382.\u001b[0m\n",
      "\u001b[32m[I 2023-06-06 08:00:49,678]\u001b[0m Trial 75 finished with value: 0.12370907274752554 and parameters: {'lambda': 2.9682393818478907, 'alpha': 2.3360459997789143, 'colsample_bytree': 0.2519540301602876, 'subsample': 0.6095734859544018, 'learning_rate': 0.0316296385930094, 'n_estimators': 2507, 'max_depth': 7, 'min_child_weight': 5, 'num_parallel_tree': 1}. Best is trial 44 with value: 0.10740699373958382.\u001b[0m\n",
      "\u001b[32m[I 2023-06-06 08:00:54,504]\u001b[0m Trial 76 finished with value: 0.10913232216228808 and parameters: {'lambda': 2.4663703566744606, 'alpha': 1.9393384822530035, 'colsample_bytree': 0.3919264527802618, 'subsample': 0.5574176804864652, 'learning_rate': 0.03844155481928866, 'n_estimators': 1603, 'max_depth': 6, 'min_child_weight': 6, 'num_parallel_tree': 1}. Best is trial 44 with value: 0.10740699373958382.\u001b[0m\n",
      "\u001b[32m[I 2023-06-06 08:00:58,091]\u001b[0m Trial 77 finished with value: 0.1318801493149166 and parameters: {'lambda': 1.778508355926958, 'alpha': 2.9712176115742475, 'colsample_bytree': 0.2927906117931969, 'subsample': 0.5232836412377498, 'learning_rate': 0.03476231792503304, 'n_estimators': 1249, 'max_depth': 6, 'min_child_weight': 7, 'num_parallel_tree': 1}. Best is trial 44 with value: 0.10740699373958382.\u001b[0m\n",
      "\u001b[32m[I 2023-06-06 08:01:02,677]\u001b[0m Trial 78 finished with value: 0.12307075847635386 and parameters: {'lambda': 2.4853468775237917, 'alpha': 3.3757116600575383, 'colsample_bytree': 0.4118097151781874, 'subsample': 0.5727086868621749, 'learning_rate': 0.022133434459820946, 'n_estimators': 1346, 'max_depth': 9, 'min_child_weight': 4, 'num_parallel_tree': 1}. Best is trial 44 with value: 0.10740699373958382.\u001b[0m\n",
      "\u001b[32m[I 2023-06-06 08:01:08,431]\u001b[0m Trial 79 finished with value: 0.13498377975273673 and parameters: {'lambda': 0.8902818691723855, 'alpha': 1.9552470832927262, 'colsample_bytree': 0.35346822501472885, 'subsample': 0.4911327228417451, 'learning_rate': 0.039406819180353575, 'n_estimators': 1978, 'max_depth': 2, 'min_child_weight': 8, 'num_parallel_tree': 1}. Best is trial 44 with value: 0.10740699373958382.\u001b[0m\n"
     ]
    },
    {
     "name": "stderr",
     "output_type": "stream",
     "text": [
      "\u001b[32m[I 2023-06-06 08:01:10,998]\u001b[0m Trial 80 finished with value: 0.14248380659608137 and parameters: {'lambda': 3.1724023780981785, 'alpha': 2.6370522951517406, 'colsample_bytree': 0.4871320344324041, 'subsample': 0.46202624117017144, 'learning_rate': 0.028498599482763183, 'n_estimators': 829, 'max_depth': 6, 'min_child_weight': 6, 'num_parallel_tree': 1}. Best is trial 44 with value: 0.10740699373958382.\u001b[0m\n",
      "\u001b[32m[I 2023-06-06 08:01:16,074]\u001b[0m Trial 81 finished with value: 0.12674532397045568 and parameters: {'lambda': 2.193727951423217, 'alpha': 1.7068752487716092, 'colsample_bytree': 0.38740186511577523, 'subsample': 0.5471548737486193, 'learning_rate': 0.043873922436891984, 'n_estimators': 1709, 'max_depth': 6, 'min_child_weight': 6, 'num_parallel_tree': 1}. Best is trial 44 with value: 0.10740699373958382.\u001b[0m\n",
      "\u001b[32m[I 2023-06-06 08:01:21,045]\u001b[0m Trial 82 finished with value: 0.13387186400956244 and parameters: {'lambda': 3.7466592850481506, 'alpha': 2.1765597504926513, 'colsample_bytree': 0.43093752209245223, 'subsample': 0.5916545014899913, 'learning_rate': 0.037786620785342694, 'n_estimators': 1748, 'max_depth': 6, 'min_child_weight': 5, 'num_parallel_tree': 1}. Best is trial 44 with value: 0.10740699373958382.\u001b[0m\n",
      "\u001b[32m[I 2023-06-06 08:01:25,318]\u001b[0m Trial 83 finished with value: 0.12315048920678376 and parameters: {'lambda': 1.351792311752678, 'alpha': 2.4336887056366145, 'colsample_bytree': 0.38084022749865515, 'subsample': 0.5147245742665431, 'learning_rate': 0.05346503916068553, 'n_estimators': 1625, 'max_depth': 6, 'min_child_weight': 7, 'num_parallel_tree': 1}. Best is trial 44 with value: 0.10740699373958382.\u001b[0m\n",
      "\u001b[32m[I 2023-06-06 08:01:28,594]\u001b[0m Trial 84 finished with value: 0.11843412923986868 and parameters: {'lambda': 1.9158644134345106, 'alpha': 1.8213470781092551, 'colsample_bytree': 0.30975380098625604, 'subsample': 0.5514261922546679, 'learning_rate': 0.046634211999179644, 'n_estimators': 1073, 'max_depth': 7, 'min_child_weight': 6, 'num_parallel_tree': 1}. Best is trial 44 with value: 0.10740699373958382.\u001b[0m\n",
      "\u001b[32m[I 2023-06-06 08:01:32,949]\u001b[0m Trial 85 finished with value: 0.10394775010426308 and parameters: {'lambda': 2.3463600405442304, 'alpha': 1.010679485908492, 'colsample_bytree': 0.35539027055102834, 'subsample': 0.6298601007867527, 'learning_rate': 0.030473240311164756, 'n_estimators': 1503, 'max_depth': 6, 'min_child_weight': 5, 'num_parallel_tree': 1}. Best is trial 85 with value: 0.10394775010426308.\u001b[0m\n",
      "\u001b[32m[I 2023-06-06 08:01:39,181]\u001b[0m Trial 86 finished with value: 0.10454394885564933 and parameters: {'lambda': 2.819065544465636, 'alpha': 0.9792008265641154, 'colsample_bytree': 0.34565231344460895, 'subsample': 0.6301798404661527, 'learning_rate': 0.03068666243729057, 'n_estimators': 1478, 'max_depth': 6, 'min_child_weight': 5, 'num_parallel_tree': 1}. Best is trial 85 with value: 0.10394775010426308.\u001b[0m\n",
      "\u001b[32m[I 2023-06-06 08:01:44,108]\u001b[0m Trial 87 finished with value: 0.11365406504923484 and parameters: {'lambda': 2.792615903773843, 'alpha': 1.0102023106928306, 'colsample_bytree': 0.34056667163097065, 'subsample': 0.611764196903561, 'learning_rate': 0.03109278395692757, 'n_estimators': 1469, 'max_depth': 6, 'min_child_weight': 5, 'num_parallel_tree': 1}. Best is trial 85 with value: 0.10394775010426308.\u001b[0m\n",
      "\u001b[32m[I 2023-06-06 08:01:48,987]\u001b[0m Trial 88 finished with value: 0.12225264191606637 and parameters: {'lambda': 2.618552390810782, 'alpha': 0.4816224137963271, 'colsample_bytree': 0.4358134669891607, 'subsample': 0.6433151613782632, 'learning_rate': 0.034243009434991284, 'n_estimators': 1332, 'max_depth': 6, 'min_child_weight': 5, 'num_parallel_tree': 1}. Best is trial 85 with value: 0.10394775010426308.\u001b[0m\n",
      "\u001b[32m[I 2023-06-06 08:01:51,246]\u001b[0m Trial 89 finished with value: 0.11615593750849723 and parameters: {'lambda': 2.340435472838181, 'alpha': 1.3127827761365782, 'colsample_bytree': 0.40348312351331866, 'subsample': 0.6283015198738844, 'learning_rate': 0.026478443016245416, 'n_estimators': 635, 'max_depth': 8, 'min_child_weight': 4, 'num_parallel_tree': 1}. Best is trial 85 with value: 0.10394775010426308.\u001b[0m\n",
      "\u001b[32m[I 2023-06-06 08:01:55,067]\u001b[0m Trial 90 finished with value: 0.14046742743825558 and parameters: {'lambda': 3.6308398166725344, 'alpha': 0.8869175554375545, 'colsample_bytree': 0.32498320331857866, 'subsample': 0.6545548948069567, 'learning_rate': 0.030843671148569535, 'n_estimators': 1121, 'max_depth': 6, 'min_child_weight': 5, 'num_parallel_tree': 1}. Best is trial 85 with value: 0.10394775010426308.\u001b[0m\n",
      "\u001b[32m[I 2023-06-06 08:01:59,500]\u001b[0m Trial 91 finished with value: 0.13890740716667865 and parameters: {'lambda': 1.6591551230049104, 'alpha': 1.5009049250463924, 'colsample_bytree': 0.3524198347738687, 'subsample': 0.5869753918584317, 'learning_rate': 0.02486415257373641, 'n_estimators': 1475, 'max_depth': 3, 'min_child_weight': 4, 'num_parallel_tree': 1}. Best is trial 85 with value: 0.10394775010426308.\u001b[0m\n",
      "\u001b[32m[I 2023-06-06 08:02:03,992]\u001b[0m Trial 92 finished with value: 0.13683298001742158 and parameters: {'lambda': 2.919044922017571, 'alpha': 1.221853535977648, 'colsample_bytree': 0.3778236829371935, 'subsample': 0.5702600482803407, 'learning_rate': 0.021349783961752817, 'n_estimators': 1205, 'max_depth': 5, 'min_child_weight': 1, 'num_parallel_tree': 1}. Best is trial 85 with value: 0.10394775010426308.\u001b[0m\n",
      "\u001b[32m[I 2023-06-06 08:02:08,779]\u001b[0m Trial 93 finished with value: 0.1105151666224028 and parameters: {'lambda': 2.085966355537046, 'alpha': 2.8388077594204013, 'colsample_bytree': 0.3617917506698202, 'subsample': 0.5972287511055551, 'learning_rate': 0.028659441190842665, 'n_estimators': 1590, 'max_depth': 6, 'min_child_weight': 6, 'num_parallel_tree': 1}. Best is trial 85 with value: 0.10394775010426308.\u001b[0m\n",
      "\u001b[32m[I 2023-06-06 08:02:13,714]\u001b[0m Trial 94 finished with value: 0.12496850172635676 and parameters: {'lambda': 2.1059787781042756, 'alpha': 2.0953930015093523, 'colsample_bytree': 0.4198208250663018, 'subsample': 0.6268754689768768, 'learning_rate': 0.028683337623702638, 'n_estimators': 1602, 'max_depth': 6, 'min_child_weight': 5, 'num_parallel_tree': 1}. Best is trial 85 with value: 0.10394775010426308.\u001b[0m\n",
      "\u001b[32m[I 2023-06-06 08:02:19,090]\u001b[0m Trial 95 finished with value: 0.14049780469176543 and parameters: {'lambda': 2.48945291286488, 'alpha': 3.070323112547242, 'colsample_bytree': 0.45105718439873915, 'subsample': 0.5229549021115492, 'learning_rate': 0.03664412041444798, 'n_estimators': 950, 'max_depth': 6, 'min_child_weight': 6, 'num_parallel_tree': 1}. Best is trial 85 with value: 0.10394775010426308.\u001b[0m\n",
      "\u001b[32m[I 2023-06-06 08:02:22,811]\u001b[0m Trial 96 finished with value: 0.1309474961107046 and parameters: {'lambda': 2.0197955348897505, 'alpha': 2.5146891816349775, 'colsample_bytree': 0.32902985079228214, 'subsample': 0.6002214987069505, 'learning_rate': 0.038058238248696426, 'n_estimators': 1368, 'max_depth': 6, 'min_child_weight': 5, 'num_parallel_tree': 1}. Best is trial 85 with value: 0.10394775010426308.\u001b[0m\n",
      "\u001b[32m[I 2023-06-06 08:02:27,507]\u001b[0m Trial 97 finished with value: 0.15250402627242712 and parameters: {'lambda': 3.3556286981064494, 'alpha': 2.748063023819012, 'colsample_bytree': 0.30274635165444336, 'subsample': 0.6748672851346507, 'learning_rate': 0.03349322423539554, 'n_estimators': 1844, 'max_depth': 6, 'min_child_weight': 6, 'num_parallel_tree': 1}. Best is trial 85 with value: 0.10394775010426308.\u001b[0m\n",
      "\u001b[32m[I 2023-06-06 08:02:33,587]\u001b[0m Trial 98 finished with value: 0.12571976871464605 and parameters: {'lambda': 3.1360431914295104, 'alpha': 1.4948161227473822, 'colsample_bytree': 0.3942543833952316, 'subsample': 0.6500940996585405, 'learning_rate': 0.02556033508364113, 'n_estimators': 1541, 'max_depth': 10, 'min_child_weight': 4, 'num_parallel_tree': 1}. Best is trial 85 with value: 0.10394775010426308.\u001b[0m\n",
      "\u001b[32m[I 2023-06-06 08:02:39,026]\u001b[0m Trial 99 finished with value: 0.11633266870370065 and parameters: {'lambda': 1.6774295983054937, 'alpha': 0.6165984238096573, 'colsample_bytree': 0.35731225969142805, 'subsample': 0.5012825080857959, 'learning_rate': 0.030162484853501474, 'n_estimators': 1720, 'max_depth': 4, 'min_child_weight': 5, 'num_parallel_tree': 1}. Best is trial 85 with value: 0.10394775010426308.\u001b[0m\n"
     ]
    },
    {
     "name": "stderr",
     "output_type": "stream",
     "text": [
      "\u001b[32m[I 2023-06-06 08:02:44,305]\u001b[0m Trial 100 finished with value: 0.13953356778427775 and parameters: {'lambda': 2.3283627867593113, 'alpha': 1.0397959288779193, 'colsample_bytree': 0.2746193867030984, 'subsample': 0.5624582465203475, 'learning_rate': 0.04108929574977398, 'n_estimators': 1443, 'max_depth': 9, 'min_child_weight': 6, 'num_parallel_tree': 1}. Best is trial 85 with value: 0.10394775010426308.\u001b[0m\n",
      "\u001b[32m[I 2023-06-06 08:02:50,669]\u001b[0m Trial 101 finished with value: 0.11073203943615031 and parameters: {'lambda': 1.1897429585054509, 'alpha': 2.783154414182268, 'colsample_bytree': 0.36878620225782655, 'subsample': 0.5994027605528239, 'learning_rate': 0.020449213548542955, 'n_estimators': 2356, 'max_depth': 2, 'min_child_weight': 7, 'num_parallel_tree': 1}. Best is trial 85 with value: 0.10394775010426308.\u001b[0m\n",
      "\u001b[32m[I 2023-06-06 08:02:54,567]\u001b[0m Trial 102 finished with value: 0.12565078998312 and parameters: {'lambda': 1.166934858524403, 'alpha': 2.2749515887345546, 'colsample_bytree': 0.3684283582553695, 'subsample': 0.5389254927003929, 'learning_rate': 0.020151258826886738, 'n_estimators': 1277, 'max_depth': 6, 'min_child_weight': 7, 'num_parallel_tree': 1}. Best is trial 85 with value: 0.10394775010426308.\u001b[0m\n",
      "\u001b[32m[I 2023-06-06 08:03:00,713]\u001b[0m Trial 103 finished with value: 0.11323331934045694 and parameters: {'lambda': 2.0146007113427205, 'alpha': 2.899306026760648, 'colsample_bytree': 0.39854386890474025, 'subsample': 0.5982287399230198, 'learning_rate': 0.02286959186176028, 'n_estimators': 2085, 'max_depth': 7, 'min_child_weight': 6, 'num_parallel_tree': 1}. Best is trial 85 with value: 0.10394775010426308.\u001b[0m\n",
      "\u001b[32m[I 2023-06-06 08:03:06,668]\u001b[0m Trial 104 finished with value: 0.11855891243512473 and parameters: {'lambda': 2.606686609322088, 'alpha': 1.9878450576971345, 'colsample_bytree': 0.43129305273749563, 'subsample': 0.5629838841388293, 'learning_rate': 0.028629044811502014, 'n_estimators': 2268, 'max_depth': 2, 'min_child_weight': 6, 'num_parallel_tree': 1}. Best is trial 85 with value: 0.10394775010426308.\u001b[0m\n",
      "\u001b[32m[I 2023-06-06 08:03:09,486]\u001b[0m Trial 105 finished with value: 0.11159590615543533 and parameters: {'lambda': 0.6514506343826054, 'alpha': 3.29943710497052, 'colsample_bytree': 0.3180278135870713, 'subsample': 0.6333209668239036, 'learning_rate': 0.025077451084067198, 'n_estimators': 1021, 'max_depth': 6, 'min_child_weight': 7, 'num_parallel_tree': 1}. Best is trial 85 with value: 0.10394775010426308.\u001b[0m\n",
      "\u001b[32m[I 2023-06-06 08:03:13,560]\u001b[0m Trial 106 finished with value: 0.1200076177745274 and parameters: {'lambda': 1.8044659900175888, 'alpha': 3.127810763641183, 'colsample_bytree': 0.3424811333704894, 'subsample': 0.6157102442848834, 'learning_rate': 0.027423059189664922, 'n_estimators': 1568, 'max_depth': 6, 'min_child_weight': 5, 'num_parallel_tree': 1}. Best is trial 85 with value: 0.10394775010426308.\u001b[0m\n",
      "\u001b[32m[I 2023-06-06 08:03:22,491]\u001b[0m Trial 107 finished with value: 0.11884605531239613 and parameters: {'lambda': 1.5350885890207655, 'alpha': 0.313838422975253, 'colsample_bytree': 0.471703969531314, 'subsample': 0.6933237515555593, 'learning_rate': 0.03208061845262567, 'n_estimators': 2448, 'max_depth': 9, 'min_child_weight': 6, 'num_parallel_tree': 1}. Best is trial 85 with value: 0.10394775010426308.\u001b[0m\n",
      "\u001b[32m[I 2023-06-06 08:03:25,274]\u001b[0m Trial 108 finished with value: 0.12204450884270023 and parameters: {'lambda': 2.8638959752368405, 'alpha': 0.046269011432659934, 'colsample_bytree': 0.4115374833711475, 'subsample': 0.5350264133064995, 'learning_rate': 0.03475536734206331, 'n_estimators': 1173, 'max_depth': 2, 'min_child_weight': 7, 'num_parallel_tree': 1}. Best is trial 85 with value: 0.10394775010426308.\u001b[0m\n",
      "\u001b[32m[I 2023-06-06 08:03:29,424]\u001b[0m Trial 109 finished with value: 0.13527347266195863 and parameters: {'lambda': 2.2946801189992714, 'alpha': 2.4511464830640346, 'colsample_bytree': 0.45417370747786934, 'subsample': 0.5859305328865954, 'learning_rate': 0.021430545068683537, 'n_estimators': 1490, 'max_depth': 6, 'min_child_weight': 6, 'num_parallel_tree': 1}. Best is trial 85 with value: 0.10394775010426308.\u001b[0m\n",
      "\u001b[32m[I 2023-06-06 08:03:34,472]\u001b[0m Trial 110 finished with value: 0.1280893326256401 and parameters: {'lambda': 1.3102583874348095, 'alpha': 2.7708714522921043, 'colsample_bytree': 0.3628009592513533, 'subsample': 0.6033057784159975, 'learning_rate': 0.024110583449781967, 'n_estimators': 1916, 'max_depth': 8, 'min_child_weight': 7, 'num_parallel_tree': 1}. Best is trial 85 with value: 0.10394775010426308.\u001b[0m\n",
      "\u001b[32m[I 2023-06-06 08:03:37,293]\u001b[0m Trial 111 finished with value: 0.11900274265402971 and parameters: {'lambda': 0.9251732885987535, 'alpha': 3.3371479323718365, 'colsample_bytree': 0.29805177801464927, 'subsample': 0.6276731680154041, 'learning_rate': 0.025236611108383225, 'n_estimators': 1036, 'max_depth': 6, 'min_child_weight': 8, 'num_parallel_tree': 1}. Best is trial 85 with value: 0.10394775010426308.\u001b[0m\n",
      "\u001b[32m[I 2023-06-06 08:03:39,856]\u001b[0m Trial 112 finished with value: 0.13347943390651698 and parameters: {'lambda': 0.24078764885603232, 'alpha': 3.1877951230049546, 'colsample_bytree': 0.31235778856198754, 'subsample': 0.6556985368171082, 'learning_rate': 0.027524964363713243, 'n_estimators': 977, 'max_depth': 6, 'min_child_weight': 7, 'num_parallel_tree': 1}. Best is trial 85 with value: 0.10394775010426308.\u001b[0m\n",
      "\u001b[32m[I 2023-06-06 08:03:42,178]\u001b[0m Trial 113 finished with value: 0.13716390938376213 and parameters: {'lambda': 0.3715346063688011, 'alpha': 3.5503863083628735, 'colsample_bytree': 0.32513652015244576, 'subsample': 0.6343161713800748, 'learning_rate': 0.01881706671036414, 'n_estimators': 899, 'max_depth': 6, 'min_child_weight': 7, 'num_parallel_tree': 1}. Best is trial 85 with value: 0.10394775010426308.\u001b[0m\n",
      "\u001b[32m[I 2023-06-06 08:03:46,642]\u001b[0m Trial 114 finished with value: 0.12009101570021813 and parameters: {'lambda': 0.6983913646999309, 'alpha': 1.8229659166704684, 'colsample_bytree': 0.3827199274945367, 'subsample': 0.5748423180369862, 'learning_rate': 0.030280828117681322, 'n_estimators': 1681, 'max_depth': 6, 'min_child_weight': 6, 'num_parallel_tree': 1}. Best is trial 85 with value: 0.10394775010426308.\u001b[0m\n",
      "\u001b[32m[I 2023-06-06 08:03:48,699]\u001b[0m Trial 115 finished with value: 0.1443898742267551 and parameters: {'lambda': 0.6210708111559065, 'alpha': 2.5946917100453786, 'colsample_bytree': 0.34866150831635956, 'subsample': 0.5564616493099801, 'learning_rate': 0.02244924682525369, 'n_estimators': 764, 'max_depth': 7, 'min_child_weight': 7, 'num_parallel_tree': 1}. Best is trial 85 with value: 0.10394775010426308.\u001b[0m\n",
      "\u001b[32m[I 2023-06-06 08:03:52,366]\u001b[0m Trial 116 finished with value: 0.11557026756430432 and parameters: {'lambda': 1.9181994341317155, 'alpha': 2.8547566534632667, 'colsample_bytree': 0.3965618933254185, 'subsample': 0.4879994463813938, 'learning_rate': 0.016983670781119786, 'n_estimators': 1398, 'max_depth': 6, 'min_child_weight': 5, 'num_parallel_tree': 1}. Best is trial 85 with value: 0.10394775010426308.\u001b[0m\n",
      "\u001b[32m[I 2023-06-06 08:03:55,114]\u001b[0m Trial 117 finished with value: 0.12615433551164287 and parameters: {'lambda': 1.195766859104543, 'alpha': 2.2418288689466594, 'colsample_bytree': 0.37013716313066003, 'subsample': 0.5111588393106705, 'learning_rate': 0.024893500275757534, 'n_estimators': 1114, 'max_depth': 3, 'min_child_weight': 6, 'num_parallel_tree': 1}. Best is trial 85 with value: 0.10394775010426308.\u001b[0m\n",
      "\u001b[32m[I 2023-06-06 08:03:58,746]\u001b[0m Trial 118 finished with value: 0.1211750408414675 and parameters: {'lambda': 2.57396585712476, 'alpha': 0.8013916694975118, 'colsample_bytree': 0.4230784395539718, 'subsample': 0.6145809428792445, 'learning_rate': 0.033199243971586426, 'n_estimators': 1231, 'max_depth': 5, 'min_child_weight': 8, 'num_parallel_tree': 1}. Best is trial 85 with value: 0.10394775010426308.\u001b[0m\n",
      "\u001b[32m[I 2023-06-06 08:04:00,603]\u001b[0m Trial 119 finished with value: 0.13402461563919305 and parameters: {'lambda': 1.5625304228936454, 'alpha': 1.6171370197271941, 'colsample_bytree': 0.3346433758503595, 'subsample': 0.4734766458556055, 'learning_rate': 0.01513351064915415, 'n_estimators': 798, 'max_depth': 2, 'min_child_weight': 5, 'num_parallel_tree': 1}. Best is trial 85 with value: 0.10394775010426308.\u001b[0m\n"
     ]
    },
    {
     "name": "stderr",
     "output_type": "stream",
     "text": [
      "\u001b[32m[I 2023-06-06 08:04:03,510]\u001b[0m Trial 120 finished with value: 0.12223492460143191 and parameters: {'lambda': 2.1341417211035623, 'alpha': 1.3200901267390743, 'colsample_bytree': 0.2807363794325548, 'subsample': 0.5949670170380826, 'learning_rate': 0.020469963916770424, 'n_estimators': 1029, 'max_depth': 6, 'min_child_weight': 6, 'num_parallel_tree': 1}. Best is trial 85 with value: 0.10394775010426308.\u001b[0m\n",
      "\u001b[32m[I 2023-06-06 08:04:10,296]\u001b[0m Trial 121 finished with value: 0.12896142017069676 and parameters: {'lambda': 2.0615052312348863, 'alpha': 2.9713328640618486, 'colsample_bytree': 0.3903181373323059, 'subsample': 0.5941280582966039, 'learning_rate': 0.023915145557837563, 'n_estimators': 2294, 'max_depth': 7, 'min_child_weight': 6, 'num_parallel_tree': 1}. Best is trial 85 with value: 0.10394775010426308.\u001b[0m\n",
      "\u001b[32m[I 2023-06-06 08:04:16,480]\u001b[0m Trial 122 finished with value: 0.13410958994108543 and parameters: {'lambda': 1.703807873849561, 'alpha': 2.9174783660025, 'colsample_bytree': 0.409897432959347, 'subsample': 0.642363210527511, 'learning_rate': 0.025861073511097184, 'n_estimators': 2150, 'max_depth': 7, 'min_child_weight': 7, 'num_parallel_tree': 1}. Best is trial 85 with value: 0.10394775010426308.\u001b[0m\n",
      "\u001b[32m[I 2023-06-06 08:04:23,332]\u001b[0m Trial 123 finished with value: 0.12798867921984655 and parameters: {'lambda': 2.3721635385250033, 'alpha': 3.4644862229216797, 'colsample_bytree': 0.4398522718159914, 'subsample': 0.5447445883892182, 'learning_rate': 0.022428457314142503, 'n_estimators': 2192, 'max_depth': 7, 'min_child_weight': 6, 'num_parallel_tree': 1}. Best is trial 85 with value: 0.10394775010426308.\u001b[0m\n",
      "\u001b[32m[I 2023-06-06 08:04:30,366]\u001b[0m Trial 124 finished with value: 0.12288589068947256 and parameters: {'lambda': 1.0719846409238554, 'alpha': 2.692024951738592, 'colsample_bytree': 0.34969931736403087, 'subsample': 0.572077145860454, 'learning_rate': 0.03602601271895262, 'n_estimators': 2037, 'max_depth': 7, 'min_child_weight': 5, 'num_parallel_tree': 1}. Best is trial 85 with value: 0.10394775010426308.\u001b[0m\n",
      "\u001b[32m[I 2023-06-06 08:04:37,247]\u001b[0m Trial 125 finished with value: 0.1309243327294258 and parameters: {'lambda': 2.724050043497225, 'alpha': 3.2887871873945844, 'colsample_bytree': 0.40109601490749874, 'subsample': 0.6201975957095928, 'learning_rate': 0.02950434767714026, 'n_estimators': 2439, 'max_depth': 4, 'min_child_weight': 6, 'num_parallel_tree': 1}. Best is trial 85 with value: 0.10394775010426308.\u001b[0m\n",
      "\u001b[32m[I 2023-06-06 08:04:43,172]\u001b[0m Trial 126 finished with value: 0.1349609119880463 and parameters: {'lambda': 1.8733668624428073, 'alpha': 2.358079247287436, 'colsample_bytree': 0.37336286506213445, 'subsample': 0.6605437736875601, 'learning_rate': 0.027542447809431148, 'n_estimators': 1798, 'max_depth': 10, 'min_child_weight': 7, 'num_parallel_tree': 1}. Best is trial 85 with value: 0.10394775010426308.\u001b[0m\n",
      "\u001b[32m[I 2023-06-06 08:04:49,627]\u001b[0m Trial 127 finished with value: 0.1370239093709483 and parameters: {'lambda': 1.4031500693409658, 'alpha': 2.071275939003642, 'colsample_bytree': 0.31693461062823125, 'subsample': 0.5285440983180256, 'learning_rate': 0.01841981822993693, 'n_estimators': 2332, 'max_depth': 6, 'min_child_weight': 6, 'num_parallel_tree': 1}. Best is trial 85 with value: 0.10394775010426308.\u001b[0m\n",
      "\u001b[32m[I 2023-06-06 08:04:55,672]\u001b[0m Trial 128 finished with value: 0.11953033880429231 and parameters: {'lambda': 2.9920989509965414, 'alpha': 3.092203869710937, 'colsample_bytree': 0.3586214182511753, 'subsample': 0.608882769740293, 'learning_rate': 0.03165928678918707, 'n_estimators': 2085, 'max_depth': 9, 'min_child_weight': 5, 'num_parallel_tree': 1}. Best is trial 85 with value: 0.10394775010426308.\u001b[0m\n",
      "\u001b[32m[I 2023-06-06 08:05:00,499]\u001b[0m Trial 129 finished with value: 0.11786391791779308 and parameters: {'lambda': 2.0138070226632383, 'alpha': 3.8573551464132514, 'colsample_bytree': 0.39742189081777035, 'subsample': 0.6365863464180448, 'learning_rate': 0.03881272168291382, 'n_estimators': 1585, 'max_depth': 7, 'min_child_weight': 9, 'num_parallel_tree': 1}. Best is trial 85 with value: 0.10394775010426308.\u001b[0m\n",
      "\u001b[32m[I 2023-06-06 08:05:05,659]\u001b[0m Trial 130 finished with value: 0.12427919090782068 and parameters: {'lambda': 2.282160048852739, 'alpha': 2.4220357842992914, 'colsample_bytree': 0.46906877065287256, 'subsample': 0.584527404643357, 'learning_rate': 0.022291360273246835, 'n_estimators': 1659, 'max_depth': 6, 'min_child_weight': 6, 'num_parallel_tree': 1}. Best is trial 85 with value: 0.10394775010426308.\u001b[0m\n",
      "\u001b[32m[I 2023-06-06 08:05:11,992]\u001b[0m Trial 131 finished with value: 0.1319358460295522 and parameters: {'lambda': 1.4718481410120343, 'alpha': 3.686213742516365, 'colsample_bytree': 0.37561176927436074, 'subsample': 0.600287589435118, 'learning_rate': 0.019602778781836437, 'n_estimators': 2379, 'max_depth': 2, 'min_child_weight': 7, 'num_parallel_tree': 1}. Best is trial 85 with value: 0.10394775010426308.\u001b[0m\n",
      "\u001b[32m[I 2023-06-06 08:05:20,384]\u001b[0m Trial 132 finished with value: 0.13049113844678065 and parameters: {'lambda': 0.8691064127917535, 'alpha': 3.4863973076192893, 'colsample_bytree': 0.3347092569919683, 'subsample': 0.5712117821883705, 'learning_rate': 0.013230225482452613, 'n_estimators': 2520, 'max_depth': 2, 'min_child_weight': 7, 'num_parallel_tree': 1}. Best is trial 85 with value: 0.10394775010426308.\u001b[0m\n",
      "\u001b[32m[I 2023-06-06 08:05:26,827]\u001b[0m Trial 133 finished with value: 0.11641916111979897 and parameters: {'lambda': 1.8445599893061115, 'alpha': 2.802005963814409, 'colsample_bytree': 0.42654700035418275, 'subsample': 0.5552390335159497, 'learning_rate': 0.01699208117028118, 'n_estimators': 2670, 'max_depth': 2, 'min_child_weight': 7, 'num_parallel_tree': 1}. Best is trial 85 with value: 0.10394775010426308.\u001b[0m\n",
      "\u001b[32m[I 2023-06-06 08:05:31,251]\u001b[0m Trial 134 finished with value: 0.1440226068032107 and parameters: {'lambda': 1.2736529967765717, 'alpha': 3.2789801583123217, 'colsample_bytree': 0.38046322606766286, 'subsample': 0.5834714157310231, 'learning_rate': 0.02393187981209038, 'n_estimators': 1496, 'max_depth': 2, 'min_child_weight': 7, 'num_parallel_tree': 1}. Best is trial 85 with value: 0.10394775010426308.\u001b[0m\n",
      "\u001b[32m[I 2023-06-06 08:05:37,280]\u001b[0m Trial 135 finished with value: 0.11728198818971002 and parameters: {'lambda': 2.4932044846292896, 'alpha': 3.0761177751044624, 'colsample_bytree': 0.40796290418113096, 'subsample': 0.536006225451064, 'learning_rate': 0.027140805404917017, 'n_estimators': 2180, 'max_depth': 6, 'min_child_weight': 8, 'num_parallel_tree': 1}. Best is trial 85 with value: 0.10394775010426308.\u001b[0m\n",
      "\u001b[32m[I 2023-06-06 08:05:40,314]\u001b[0m Trial 136 finished with value: 0.1387092870852103 and parameters: {'lambda': 1.6765204224684158, 'alpha': 2.5157987978138356, 'colsample_bytree': 0.36051286901914004, 'subsample': 0.5143528141394886, 'learning_rate': 0.041771324075024756, 'n_estimators': 1294, 'max_depth': 2, 'min_child_weight': 6, 'num_parallel_tree': 1}. Best is trial 85 with value: 0.10394775010426308.\u001b[0m\n",
      "\u001b[32m[I 2023-06-06 08:05:42,759]\u001b[0m Trial 137 finished with value: 0.14093474661719632 and parameters: {'lambda': 2.1130563446632524, 'alpha': 4.0440193165296625, 'colsample_bytree': 0.4417652477095491, 'subsample': 0.43935764305463454, 'learning_rate': 0.02065092935378012, 'n_estimators': 870, 'max_depth': 6, 'min_child_weight': 5, 'num_parallel_tree': 1}. Best is trial 85 with value: 0.10394775010426308.\u001b[0m\n",
      "\u001b[32m[I 2023-06-06 08:05:47,658]\u001b[0m Trial 138 finished with value: 0.13924549027997377 and parameters: {'lambda': 1.008462745111892, 'alpha': 1.002004512057484, 'colsample_bytree': 0.30587940125167173, 'subsample': 0.6206995856329115, 'learning_rate': 0.029723077906386525, 'n_estimators': 1434, 'max_depth': 6, 'min_child_weight': 7, 'num_parallel_tree': 1}. Best is trial 85 with value: 0.10394775010426308.\u001b[0m\n",
      "\u001b[32m[I 2023-06-06 08:05:50,323]\u001b[0m Trial 139 finished with value: 0.14754406201738512 and parameters: {'lambda': 2.7029298229954266, 'alpha': 3.6172493933790477, 'colsample_bytree': 0.327940721657516, 'subsample': 0.6711173370682423, 'learning_rate': 0.035311713611671076, 'n_estimators': 949, 'max_depth': 9, 'min_child_weight': 6, 'num_parallel_tree': 1}. Best is trial 85 with value: 0.10394775010426308.\u001b[0m\n"
     ]
    },
    {
     "name": "stderr",
     "output_type": "stream",
     "text": [
      "\u001b[32m[I 2023-06-06 08:05:55,893]\u001b[0m Trial 140 finished with value: 0.1253863826130969 and parameters: {'lambda': 0.7478932415746129, 'alpha': 2.8136885538762404, 'colsample_bytree': 0.3868381020886081, 'subsample': 0.501069805358808, 'learning_rate': 0.01881997125078241, 'n_estimators': 2402, 'max_depth': 2, 'min_child_weight': 7, 'num_parallel_tree': 1}. Best is trial 85 with value: 0.10394775010426308.\u001b[0m\n",
      "\u001b[32m[I 2023-06-06 08:06:00,776]\u001b[0m Trial 141 finished with value: 0.10857954764173677 and parameters: {'lambda': 2.8045093759027684, 'alpha': 1.1337227038564517, 'colsample_bytree': 0.352260488193728, 'subsample': 0.6012943160266213, 'learning_rate': 0.03154862732852564, 'n_estimators': 1549, 'max_depth': 6, 'min_child_weight': 5, 'num_parallel_tree': 1}. Best is trial 85 with value: 0.10394775010426308.\u001b[0m\n",
      "\u001b[32m[I 2023-06-06 08:06:05,923]\u001b[0m Trial 142 finished with value: 0.12131389409422172 and parameters: {'lambda': 2.4424786415598057, 'alpha': 0.6849441599067415, 'colsample_bytree': 0.3488984052488636, 'subsample': 0.5565160112537122, 'learning_rate': 0.03338159014400205, 'n_estimators': 1751, 'max_depth': 6, 'min_child_weight': 5, 'num_parallel_tree': 1}. Best is trial 85 with value: 0.10394775010426308.\u001b[0m\n",
      "\u001b[32m[I 2023-06-06 08:06:10,357]\u001b[0m Trial 143 finished with value: 0.12656744724512042 and parameters: {'lambda': 2.8781697963637662, 'alpha': 1.2387498904538778, 'colsample_bytree': 0.36914502034053087, 'subsample': 0.6419870228487797, 'learning_rate': 0.025196065014296096, 'n_estimators': 1561, 'max_depth': 6, 'min_child_weight': 5, 'num_parallel_tree': 1}. Best is trial 85 with value: 0.10394775010426308.\u001b[0m\n",
      "\u001b[32m[I 2023-06-06 08:06:15,882]\u001b[0m Trial 144 finished with value: 0.11253618282673909 and parameters: {'lambda': 3.287145214333179, 'alpha': 1.4678058781015033, 'colsample_bytree': 0.41653815944756056, 'subsample': 0.5684493770730921, 'learning_rate': 0.03131497014130764, 'n_estimators': 1975, 'max_depth': 6, 'min_child_weight': 4, 'num_parallel_tree': 1}. Best is trial 85 with value: 0.10394775010426308.\u001b[0m\n",
      "\u001b[32m[I 2023-06-06 08:06:21,331]\u001b[0m Trial 145 finished with value: 0.12744048980270245 and parameters: {'lambda': 3.3718079690718037, 'alpha': 1.5223636148585622, 'colsample_bytree': 0.41922237350304636, 'subsample': 0.5957263753394314, 'learning_rate': 0.03133155311944015, 'n_estimators': 1986, 'max_depth': 6, 'min_child_weight': 3, 'num_parallel_tree': 1}. Best is trial 85 with value: 0.10394775010426308.\u001b[0m\n",
      "\u001b[32m[I 2023-06-06 08:06:27,909]\u001b[0m Trial 146 finished with value: 0.12689463611696908 and parameters: {'lambda': 3.1228613897756583, 'alpha': 1.9165839259782644, 'colsample_bytree': 0.4570252925412505, 'subsample': 0.5710593003455138, 'learning_rate': 0.037206285667544546, 'n_estimators': 2066, 'max_depth': 6, 'min_child_weight': 3, 'num_parallel_tree': 1}. Best is trial 85 with value: 0.10394775010426308.\u001b[0m\n",
      "\u001b[32m[I 2023-06-06 08:06:34,341]\u001b[0m Trial 147 finished with value: 0.1136641123471257 and parameters: {'lambda': 2.6406569149177987, 'alpha': 0.969703458164732, 'colsample_bytree': 0.3997145251437879, 'subsample': 0.6052032447380206, 'learning_rate': 0.028788350727654607, 'n_estimators': 1871, 'max_depth': 6, 'min_child_weight': 4, 'num_parallel_tree': 1}. Best is trial 85 with value: 0.10394775010426308.\u001b[0m\n",
      "\u001b[32m[I 2023-06-06 08:06:39,792]\u001b[0m Trial 148 finished with value: 0.11730925272842799 and parameters: {'lambda': 2.276114899503029, 'alpha': 1.7367445540268418, 'colsample_bytree': 0.28941847757876527, 'subsample': 0.6274126594870648, 'learning_rate': 0.03401947372723393, 'n_estimators': 1623, 'max_depth': 6, 'min_child_weight': 4, 'num_parallel_tree': 1}. Best is trial 85 with value: 0.10394775010426308.\u001b[0m\n",
      "\u001b[32m[I 2023-06-06 08:06:45,489]\u001b[0m Trial 149 finished with value: 0.13284048569571885 and parameters: {'lambda': 3.001641216010984, 'alpha': 1.1622191516998304, 'colsample_bytree': 0.3429222999029841, 'subsample': 0.6862668115510812, 'learning_rate': 0.02696647782639098, 'n_estimators': 1392, 'max_depth': 8, 'min_child_weight': 3, 'num_parallel_tree': 1}. Best is trial 85 with value: 0.10394775010426308.\u001b[0m\n",
      "\u001b[32m[I 2023-06-06 08:06:50,508]\u001b[0m Trial 150 finished with value: 0.13648907102930993 and parameters: {'lambda': 2.80438900793579, 'alpha': 1.4037218528733053, 'colsample_bytree': 0.25868968315558355, 'subsample': 0.5253440118918528, 'learning_rate': 0.03164997610870527, 'n_estimators': 1511, 'max_depth': 6, 'min_child_weight': 5, 'num_parallel_tree': 1}. Best is trial 85 with value: 0.10394775010426308.\u001b[0m\n",
      "\u001b[32m[I 2023-06-06 08:06:57,107]\u001b[0m Trial 151 finished with value: 0.1283253079065264 and parameters: {'lambda': 1.9745262576318052, 'alpha': 1.9788833287322345, 'colsample_bytree': 0.3840445551504027, 'subsample': 0.5827244803705482, 'learning_rate': 0.0242465993001177, 'n_estimators': 2256, 'max_depth': 7, 'min_child_weight': 6, 'num_parallel_tree': 1}. Best is trial 85 with value: 0.10394775010426308.\u001b[0m\n",
      "\u001b[32m[I 2023-06-06 08:07:03,531]\u001b[0m Trial 152 finished with value: 0.1338946363650894 and parameters: {'lambda': 2.52084350698565, 'alpha': 0.7502744790435787, 'colsample_bytree': 0.42027306332227793, 'subsample': 0.5558987825372632, 'learning_rate': 0.039753986817913346, 'n_estimators': 1954, 'max_depth': 6, 'min_child_weight': 2, 'num_parallel_tree': 1}. Best is trial 85 with value: 0.10394775010426308.\u001b[0m\n",
      "\u001b[32m[I 2023-06-06 08:07:06,673]\u001b[0m Trial 153 finished with value: 0.11117079109883367 and parameters: {'lambda': 2.21216723848381, 'alpha': 2.2003369677139855, 'colsample_bytree': 0.3633648273812918, 'subsample': 0.5424330921090057, 'learning_rate': 0.021953378151104146, 'n_estimators': 1085, 'max_depth': 3, 'min_child_weight': 6, 'num_parallel_tree': 1}. Best is trial 85 with value: 0.10394775010426308.\u001b[0m\n",
      "\u001b[32m[I 2023-06-06 08:07:09,508]\u001b[0m Trial 154 finished with value: 0.13730931864502605 and parameters: {'lambda': 2.2376280898133993, 'alpha': 2.169244645523834, 'colsample_bytree': 0.32270652980513526, 'subsample': 0.539880186832221, 'learning_rate': 0.022110214681450045, 'n_estimators': 1083, 'max_depth': 3, 'min_child_weight': 6, 'num_parallel_tree': 1}. Best is trial 85 with value: 0.10394775010426308.\u001b[0m\n",
      "\u001b[32m[I 2023-06-06 08:07:12,611]\u001b[0m Trial 155 finished with value: 0.13272104899334866 and parameters: {'lambda': 3.187315353061826, 'alpha': 1.663739757308428, 'colsample_bytree': 0.35772691475409135, 'subsample': 0.4580591330397554, 'learning_rate': 0.02631310946739679, 'n_estimators': 1185, 'max_depth': 3, 'min_child_weight': 6, 'num_parallel_tree': 1}. Best is trial 85 with value: 0.10394775010426308.\u001b[0m\n",
      "\u001b[32m[I 2023-06-06 08:07:15,290]\u001b[0m Trial 156 finished with value: 0.12847475838102734 and parameters: {'lambda': 2.388122492543845, 'alpha': 2.2509336262133584, 'colsample_bytree': 0.39982849365038875, 'subsample': 0.5661537735600494, 'learning_rate': 0.030118521211764594, 'n_estimators': 1022, 'max_depth': 3, 'min_child_weight': 5, 'num_parallel_tree': 1}. Best is trial 85 with value: 0.10394775010426308.\u001b[0m\n",
      "\u001b[32m[I 2023-06-06 08:07:18,188]\u001b[0m Trial 157 finished with value: 0.12023520474611109 and parameters: {'lambda': 2.1072470007834028, 'alpha': 2.5418964914432682, 'colsample_bytree': 0.4327781177731081, 'subsample': 0.6022984243751716, 'learning_rate': 0.028490591040661782, 'n_estimators': 1124, 'max_depth': 3, 'min_child_weight': 6, 'num_parallel_tree': 1}. Best is trial 85 with value: 0.10394775010426308.\u001b[0m\n",
      "\u001b[32m[I 2023-06-06 08:07:23,307]\u001b[0m Trial 158 finished with value: 0.12741692589819278 and parameters: {'lambda': 1.7397631064720942, 'alpha': 1.8451832656090918, 'colsample_bytree': 0.37184162769501194, 'subsample': 0.546289426991961, 'learning_rate': 0.03706298274307006, 'n_estimators': 1698, 'max_depth': 6, 'min_child_weight': 6, 'num_parallel_tree': 1}. Best is trial 85 with value: 0.10394775010426308.\u001b[0m\n",
      "\u001b[32m[I 2023-06-06 08:07:27,348]\u001b[0m Trial 159 finished with value: 0.13161925106524566 and parameters: {'lambda': 2.5716150995469556, 'alpha': 1.399549615540912, 'colsample_bytree': 0.49955503069898355, 'subsample': 0.41788614758145953, 'learning_rate': 0.023213810443961366, 'n_estimators': 1364, 'max_depth': 6, 'min_child_weight': 5, 'num_parallel_tree': 1}. Best is trial 85 with value: 0.10394775010426308.\u001b[0m\n"
     ]
    },
    {
     "name": "stderr",
     "output_type": "stream",
     "text": [
      "\u001b[32m[I 2023-06-06 08:07:32,687]\u001b[0m Trial 160 finished with value: 0.12073716580492401 and parameters: {'lambda': 2.799573179061431, 'alpha': 0.3997206093381164, 'colsample_bytree': 0.34910824852507377, 'subsample': 0.5132506294070406, 'learning_rate': 0.03259719034159043, 'n_estimators': 2116, 'max_depth': 4, 'min_child_weight': 4, 'num_parallel_tree': 1}. Best is trial 85 with value: 0.10394775010426308.\u001b[0m\n",
      "\u001b[32m[I 2023-06-06 08:07:38,501]\u001b[0m Trial 161 finished with value: 0.12770589075003655 and parameters: {'lambda': 1.527734829941867, 'alpha': 3.168491867059466, 'colsample_bytree': 0.3880133988681714, 'subsample': 0.5798618730509659, 'learning_rate': 0.017618226057462764, 'n_estimators': 2323, 'max_depth': 5, 'min_child_weight': 7, 'num_parallel_tree': 1}. Best is trial 85 with value: 0.10394775010426308.\u001b[0m\n",
      "\u001b[32m[I 2023-06-06 08:07:43,132]\u001b[0m Trial 162 finished with value: 0.1357862415397399 and parameters: {'lambda': 1.9255014466479232, 'alpha': 2.6457901479214194, 'colsample_bytree': 0.3679837192428051, 'subsample': 0.6175572404752644, 'learning_rate': 0.020473243701883286, 'n_estimators': 2187, 'max_depth': 2, 'min_child_weight': 6, 'num_parallel_tree': 1}. Best is trial 85 with value: 0.10394775010426308.\u001b[0m\n",
      "\u001b[32m[I 2023-06-06 08:07:47,165]\u001b[0m Trial 163 finished with value: 0.12112328712242715 and parameters: {'lambda': 1.43740121653176, 'alpha': 3.0205405962985585, 'colsample_bytree': 0.3341077733225644, 'subsample': 0.5903716433524787, 'learning_rate': 0.015905809529364195, 'n_estimators': 1603, 'max_depth': 7, 'min_child_weight': 7, 'num_parallel_tree': 1}. Best is trial 85 with value: 0.10394775010426308.\u001b[0m\n",
      "\u001b[32m[I 2023-06-06 08:07:49,575]\u001b[0m Trial 164 finished with value: 0.12825363892497438 and parameters: {'lambda': 2.2449096489183673, 'alpha': 3.437920390251462, 'colsample_bytree': 0.41101272470403183, 'subsample': 0.5658935437108399, 'learning_rate': 0.0257984353217401, 'n_estimators': 921, 'max_depth': 10, 'min_child_weight': 6, 'num_parallel_tree': 1}. Best is trial 85 with value: 0.10394775010426308.\u001b[0m\n",
      "\u001b[32m[I 2023-06-06 08:07:53,463]\u001b[0m Trial 165 finished with value: 0.12841130640631962 and parameters: {'lambda': 0.5308492085846666, 'alpha': 2.8869444929066637, 'colsample_bytree': 0.3048589663827554, 'subsample': 0.532936488299465, 'learning_rate': 0.023731475432678256, 'n_estimators': 1534, 'max_depth': 6, 'min_child_weight': 7, 'num_parallel_tree': 1}. Best is trial 85 with value: 0.10394775010426308.\u001b[0m\n",
      "\u001b[32m[I 2023-06-06 08:07:57,747]\u001b[0m Trial 166 finished with value: 0.14129695566841682 and parameters: {'lambda': 4.452998076641522, 'alpha': 2.0775743189271303, 'colsample_bytree': 0.38312109750157874, 'subsample': 0.6507321670999503, 'learning_rate': 0.02153658240262466, 'n_estimators': 1437, 'max_depth': 9, 'min_child_weight': 6, 'num_parallel_tree': 1}. Best is trial 85 with value: 0.10394775010426308.\u001b[0m\n",
      "\u001b[32m[I 2023-06-06 08:08:01,936]\u001b[0m Trial 167 finished with value: 0.11101578412939676 and parameters: {'lambda': 1.8037956415096383, 'alpha': 0.8781816805597978, 'colsample_bytree': 0.4457949547315706, 'subsample': 0.4794266589054793, 'learning_rate': 0.028604317296197283, 'n_estimators': 1255, 'max_depth': 6, 'min_child_weight': 5, 'num_parallel_tree': 1}. Best is trial 85 with value: 0.10394775010426308.\u001b[0m\n",
      "\u001b[32m[I 2023-06-06 08:08:06,048]\u001b[0m Trial 168 finished with value: 0.14544230527437818 and parameters: {'lambda': 1.8017585359381272, 'alpha': 0.8644357752179086, 'colsample_bytree': 0.4837497434364583, 'subsample': 0.4887856438679313, 'learning_rate': 0.02776784714477676, 'n_estimators': 1242, 'max_depth': 6, 'min_child_weight': 5, 'num_parallel_tree': 1}. Best is trial 85 with value: 0.10394775010426308.\u001b[0m\n",
      "\u001b[32m[I 2023-06-06 08:08:10,460]\u001b[0m Trial 169 finished with value: 0.13514721549548242 and parameters: {'lambda': 2.4527487008785673, 'alpha': 0.5928910291876941, 'colsample_bytree': 0.44787914282634256, 'subsample': 0.4348926848172227, 'learning_rate': 0.029987866053259288, 'n_estimators': 1312, 'max_depth': 6, 'min_child_weight': 5, 'num_parallel_tree': 1}. Best is trial 85 with value: 0.10394775010426308.\u001b[0m\n",
      "\u001b[32m[I 2023-06-06 08:08:13,578]\u001b[0m Trial 170 finished with value: 0.1282938043040184 and parameters: {'lambda': 2.1064761644320695, 'alpha': 1.1591435842330498, 'colsample_bytree': 0.4263574081242664, 'subsample': 0.4675254058131069, 'learning_rate': 0.03553126364609503, 'n_estimators': 1070, 'max_depth': 6, 'min_child_weight': 5, 'num_parallel_tree': 1}. Best is trial 85 with value: 0.10394775010426308.\u001b[0m\n",
      "\u001b[32m[I 2023-06-06 08:08:17,105]\u001b[0m Trial 171 finished with value: 0.13821719648545028 and parameters: {'lambda': 1.1020033605038053, 'alpha': 1.0296425424063003, 'colsample_bytree': 0.3578485983251533, 'subsample': 0.6065970368852983, 'learning_rate': 0.025623650592665824, 'n_estimators': 1167, 'max_depth': 6, 'min_child_weight': 6, 'num_parallel_tree': 1}. Best is trial 85 with value: 0.10394775010426308.\u001b[0m\n",
      "\u001b[32m[I 2023-06-06 08:08:19,628]\u001b[0m Trial 172 finished with value: 0.12996452796186242 and parameters: {'lambda': 1.5646870396354584, 'alpha': 2.360316503954145, 'colsample_bytree': 0.3987328755779989, 'subsample': 0.5510281948563268, 'learning_rate': 0.01927884774243703, 'n_estimators': 1022, 'max_depth': 2, 'min_child_weight': 5, 'num_parallel_tree': 1}. Best is trial 85 with value: 0.10394775010426308.\u001b[0m\n",
      "\u001b[32m[I 2023-06-06 08:08:22,967]\u001b[0m Trial 173 finished with value: 0.09909467168372289 and parameters: {'lambda': 1.32754289013568, 'alpha': 1.580513088436275, 'colsample_bytree': 0.34112979113700337, 'subsample': 0.49829211790557504, 'learning_rate': 0.04245317476432714, 'n_estimators': 1145, 'max_depth': 6, 'min_child_weight': 6, 'num_parallel_tree': 1}. Best is trial 173 with value: 0.09909467168372289.\u001b[0m\n",
      "\u001b[32m[I 2023-06-06 08:08:26,793]\u001b[0m Trial 174 finished with value: 0.12863493881009036 and parameters: {'lambda': 1.2769675450684532, 'alpha': 1.563029335792928, 'colsample_bytree': 0.3161216519513665, 'subsample': 0.4788076738196299, 'learning_rate': 0.043079724770040614, 'n_estimators': 1251, 'max_depth': 6, 'min_child_weight': 6, 'num_parallel_tree': 1}. Best is trial 173 with value: 0.09909467168372289.\u001b[0m\n",
      "\u001b[32m[I 2023-06-06 08:08:29,881]\u001b[0m Trial 175 finished with value: 0.14304516719045965 and parameters: {'lambda': 1.9347317089206775, 'alpha': 1.7498228957832729, 'colsample_bytree': 0.344693047843287, 'subsample': 0.5092882973469507, 'learning_rate': 0.04204438308814821, 'n_estimators': 1075, 'max_depth': 6, 'min_child_weight': 6, 'num_parallel_tree': 1}. Best is trial 173 with value: 0.09909467168372289.\u001b[0m\n",
      "\u001b[32m[I 2023-06-06 08:08:33,326]\u001b[0m Trial 176 finished with value: 0.13065070294299175 and parameters: {'lambda': 2.739598724330841, 'alpha': 1.236280439006448, 'colsample_bytree': 0.46742246404858406, 'subsample': 0.4983516933291015, 'learning_rate': 0.03364201636767, 'n_estimators': 1112, 'max_depth': 6, 'min_child_weight': 4, 'num_parallel_tree': 1}. Best is trial 173 with value: 0.09909467168372289.\u001b[0m\n",
      "\u001b[32m[I 2023-06-06 08:08:37,428]\u001b[0m Trial 177 finished with value: 0.13309489801906982 and parameters: {'lambda': 2.311196939225362, 'alpha': 0.24407028863839697, 'colsample_bytree': 0.4053767122704889, 'subsample': 0.45127222179360954, 'learning_rate': 0.03846902342730365, 'n_estimators': 1197, 'max_depth': 6, 'min_child_weight': 5, 'num_parallel_tree': 1}. Best is trial 173 with value: 0.09909467168372289.\u001b[0m\n",
      "\u001b[32m[I 2023-06-06 08:08:40,640]\u001b[0m Trial 178 finished with value: 0.1303761410939949 and parameters: {'lambda': 1.7443264730474874, 'alpha': 1.424800541542588, 'colsample_bytree': 0.37109405409552876, 'subsample': 0.4803614314312562, 'learning_rate': 0.040828416824818414, 'n_estimators': 976, 'max_depth': 6, 'min_child_weight': 6, 'num_parallel_tree': 1}. Best is trial 173 with value: 0.09909467168372289.\u001b[0m\n",
      "\u001b[32m[I 2023-06-06 08:08:45,397]\u001b[0m Trial 179 finished with value: 0.12241925095996554 and parameters: {'lambda': 5.357074260270605, 'alpha': 0.912058586350432, 'colsample_bytree': 0.33361978742769094, 'subsample': 0.5225994695014492, 'learning_rate': 0.04489732800691682, 'n_estimators': 1491, 'max_depth': 7, 'min_child_weight': 6, 'num_parallel_tree': 1}. Best is trial 173 with value: 0.09909467168372289.\u001b[0m\n"
     ]
    },
    {
     "name": "stderr",
     "output_type": "stream",
     "text": [
      "\u001b[32m[I 2023-06-06 08:08:49,602]\u001b[0m Trial 180 finished with value: 0.11659127130676189 and parameters: {'lambda': 2.582422917444424, 'alpha': 0.6383285958824687, 'colsample_bytree': 0.44413929403240393, 'subsample': 0.6290149621923924, 'learning_rate': 0.03107040224893135, 'n_estimators': 1304, 'max_depth': 6, 'min_child_weight': 5, 'num_parallel_tree': 1}. Best is trial 173 with value: 0.09909467168372289.\u001b[0m\n",
      "\u001b[32m[I 2023-06-06 08:08:52,235]\u001b[0m Trial 181 finished with value: 0.15023591957448204 and parameters: {'lambda': 1.183905532836887, 'alpha': 3.2301784856291995, 'colsample_bytree': 0.3829404382524277, 'subsample': 0.5814074577722202, 'learning_rate': 0.022671577729114652, 'n_estimators': 1146, 'max_depth': 2, 'min_child_weight': 7, 'num_parallel_tree': 1}. Best is trial 173 with value: 0.09909467168372289.\u001b[0m\n",
      "\u001b[32m[I 2023-06-06 08:08:57,933]\u001b[0m Trial 182 finished with value: 0.15151156682278383 and parameters: {'lambda': 1.3845638198801162, 'alpha': 4.314050176272422, 'colsample_bytree': 0.36820855585175927, 'subsample': 0.5967213573839745, 'learning_rate': 0.02818559508894113, 'n_estimators': 2491, 'max_depth': 6, 'min_child_weight': 7, 'num_parallel_tree': 1}. Best is trial 173 with value: 0.09909467168372289.\u001b[0m\n",
      "\u001b[32m[I 2023-06-06 08:09:04,077]\u001b[0m Trial 183 finished with value: 0.12159917913488569 and parameters: {'lambda': 1.6091324336590533, 'alpha': 2.6344532620555277, 'colsample_bytree': 0.3542836170873682, 'subsample': 0.5438067998220864, 'learning_rate': 0.038918409634362355, 'n_estimators': 2604, 'max_depth': 9, 'min_child_weight': 6, 'num_parallel_tree': 1}. Best is trial 173 with value: 0.09909467168372289.\u001b[0m\n",
      "\u001b[32m[I 2023-06-06 08:09:06,392]\u001b[0m Trial 184 finished with value: 0.12947387810510763 and parameters: {'lambda': 0.9199019005494407, 'alpha': 2.770111037424168, 'colsample_bytree': 0.41359936678676873, 'subsample': 0.5724334499711795, 'learning_rate': 0.0341617711796985, 'n_estimators': 1007, 'max_depth': 3, 'min_child_weight': 7, 'num_parallel_tree': 1}. Best is trial 173 with value: 0.09909467168372289.\u001b[0m\n",
      "\u001b[32m[I 2023-06-06 08:09:09,638]\u001b[0m Trial 185 finished with value: 0.12131634744262701 and parameters: {'lambda': 2.057263091057873, 'alpha': 2.9773802744194735, 'colsample_bytree': 0.321434078078915, 'subsample': 0.5613970884743035, 'learning_rate': 0.03567238164369689, 'n_estimators': 1372, 'max_depth': 6, 'min_child_weight': 6, 'num_parallel_tree': 1}. Best is trial 173 with value: 0.09909467168372289.\u001b[0m\n",
      "\u001b[32m[I 2023-06-06 08:09:14,282]\u001b[0m Trial 186 finished with value: 0.1501070576920611 and parameters: {'lambda': 2.9482945634291235, 'alpha': 2.0444330391009387, 'colsample_bytree': 0.3976864537892755, 'subsample': 0.5323874813879922, 'learning_rate': 0.025238782230368868, 'n_estimators': 1637, 'max_depth': 6, 'min_child_weight': 7, 'num_parallel_tree': 1}. Best is trial 173 with value: 0.09909467168372289.\u001b[0m\n",
      "\u001b[32m[I 2023-06-06 08:09:18,204]\u001b[0m Trial 187 finished with value: 0.12928795597743567 and parameters: {'lambda': 1.8727173263535597, 'alpha': 3.814989272526829, 'colsample_bytree': 0.3399193661365261, 'subsample': 0.501026621058694, 'learning_rate': 0.020278036388145994, 'n_estimators': 1569, 'max_depth': 8, 'min_child_weight': 5, 'num_parallel_tree': 1}. Best is trial 173 with value: 0.09909467168372289.\u001b[0m\n",
      "\u001b[32m[I 2023-06-06 08:09:22,582]\u001b[0m Trial 188 finished with value: 0.12202906277862616 and parameters: {'lambda': 0.03513472763251224, 'alpha': 1.0974063199454367, 'colsample_bytree': 0.2949568157930661, 'subsample': 0.6193141202174034, 'learning_rate': 0.029760966574877944, 'n_estimators': 1451, 'max_depth': 7, 'min_child_weight': 6, 'num_parallel_tree': 1}. Best is trial 173 with value: 0.09909467168372289.\u001b[0m\n",
      "\u001b[32m[I 2023-06-06 08:09:27,964]\u001b[0m Trial 189 finished with value: 0.14268360751426087 and parameters: {'lambda': 2.322042147344763, 'alpha': 3.393058247347748, 'colsample_bytree': 0.4245365791087772, 'subsample': 0.4669138505647401, 'learning_rate': 0.027149215866882032, 'n_estimators': 2203, 'max_depth': 2, 'min_child_weight': 6, 'num_parallel_tree': 1}. Best is trial 173 with value: 0.09909467168372289.\u001b[0m\n",
      "\u001b[32m[I 2023-06-06 08:09:34,099]\u001b[0m Trial 190 finished with value: 0.1469247415190844 and parameters: {'lambda': 1.324556642921667, 'alpha': 4.768410820612377, 'colsample_bytree': 0.5302662042893261, 'subsample': 0.6410559665214101, 'learning_rate': 0.017886575492953704, 'n_estimators': 2366, 'max_depth': 6, 'min_child_weight': 5, 'num_parallel_tree': 1}. Best is trial 173 with value: 0.09909467168372289.\u001b[0m\n",
      "\u001b[32m[I 2023-06-06 08:09:38,353]\u001b[0m Trial 191 finished with value: 0.13419363906145165 and parameters: {'lambda': 2.823134753586281, 'alpha': 0.8405402017123957, 'colsample_bytree': 0.35478313033737, 'subsample': 0.6086052556258429, 'learning_rate': 0.033139250382560895, 'n_estimators': 1484, 'max_depth': 6, 'min_child_weight': 5, 'num_parallel_tree': 1}. Best is trial 173 with value: 0.09909467168372289.\u001b[0m\n",
      "\u001b[32m[I 2023-06-06 08:09:42,402]\u001b[0m Trial 192 finished with value: 0.12320831016730742 and parameters: {'lambda': 2.687952644774569, 'alpha': 1.3465532380901044, 'colsample_bytree': 0.3804966265982389, 'subsample': 0.5778138630536719, 'learning_rate': 0.03143910920761932, 'n_estimators': 1447, 'max_depth': 6, 'min_child_weight': 5, 'num_parallel_tree': 1}. Best is trial 173 with value: 0.09909467168372289.\u001b[0m\n",
      "\u001b[32m[I 2023-06-06 08:09:46,858]\u001b[0m Trial 193 finished with value: 0.14790078833237275 and parameters: {'lambda': 3.0927981901329846, 'alpha': 1.0305855729201192, 'colsample_bytree': 0.33702821010746786, 'subsample': 0.5909216407543791, 'learning_rate': 0.022883741439480455, 'n_estimators': 1535, 'max_depth': 6, 'min_child_weight': 5, 'num_parallel_tree': 1}. Best is trial 173 with value: 0.09909467168372289.\u001b[0m\n",
      "\u001b[32m[I 2023-06-06 08:09:50,497]\u001b[0m Trial 194 finished with value: 0.10949362167337696 and parameters: {'lambda': 2.1711335440001616, 'alpha': 1.5669293552556802, 'colsample_bytree': 0.36565823029722616, 'subsample': 0.6121797246764543, 'learning_rate': 0.03685600502447415, 'n_estimators': 1346, 'max_depth': 6, 'min_child_weight': 6, 'num_parallel_tree': 1}. Best is trial 173 with value: 0.09909467168372289.\u001b[0m\n",
      "\u001b[32m[I 2023-06-06 08:09:54,182]\u001b[0m Trial 195 finished with value: 0.11960904837429895 and parameters: {'lambda': 2.1181338599616684, 'alpha': 1.6328634860876674, 'colsample_bytree': 0.3684097893355421, 'subsample': 0.553999668234568, 'learning_rate': 0.03736711049487857, 'n_estimators': 1327, 'max_depth': 6, 'min_child_weight': 6, 'num_parallel_tree': 1}. Best is trial 173 with value: 0.09909467168372289.\u001b[0m\n",
      "\u001b[32m[I 2023-06-06 08:09:57,505]\u001b[0m Trial 196 finished with value: 0.14024199027793469 and parameters: {'lambda': 2.465140960493955, 'alpha': 1.8432157523116888, 'colsample_bytree': 0.3931666850087843, 'subsample': 0.6607584936464483, 'learning_rate': 0.040093186783163225, 'n_estimators': 1217, 'max_depth': 6, 'min_child_weight': 6, 'num_parallel_tree': 1}. Best is trial 173 with value: 0.09909467168372289.\u001b[0m\n",
      "\u001b[32m[I 2023-06-06 08:10:01,128]\u001b[0m Trial 197 finished with value: 0.14169682441661202 and parameters: {'lambda': 1.723575513133916, 'alpha': 2.2581278657831545, 'colsample_bytree': 0.36104253437481987, 'subsample': 0.6231558756139665, 'learning_rate': 0.037413797390931404, 'n_estimators': 1390, 'max_depth': 3, 'min_child_weight': 6, 'num_parallel_tree': 1}. Best is trial 173 with value: 0.09909467168372289.\u001b[0m\n",
      "\u001b[32m[I 2023-06-06 08:10:04,592]\u001b[0m Trial 198 finished with value: 0.13364009020741263 and parameters: {'lambda': 1.9751031926786655, 'alpha': 2.5158197993042313, 'colsample_bytree': 0.41100345005523603, 'subsample': 0.5962304105355302, 'learning_rate': 0.021218652084203787, 'n_estimators': 1259, 'max_depth': 5, 'min_child_weight': 7, 'num_parallel_tree': 1}. Best is trial 173 with value: 0.09909467168372289.\u001b[0m\n",
      "\u001b[32m[I 2023-06-06 08:10:07,695]\u001b[0m Trial 199 finished with value: 0.12160401918893861 and parameters: {'lambda': 0.7382058310117472, 'alpha': 1.576534565943438, 'colsample_bytree': 0.31626857673311537, 'subsample': 0.5263612670490823, 'learning_rate': 0.036130078517283545, 'n_estimators': 1142, 'max_depth': 4, 'min_child_weight': 6, 'num_parallel_tree': 1}. Best is trial 173 with value: 0.09909467168372289.\u001b[0m\n"
     ]
    },
    {
     "name": "stderr",
     "output_type": "stream",
     "text": [
      "\u001b[32m[I 2023-06-06 08:10:14,266]\u001b[0m Trial 200 finished with value: 0.11376476360346892 and parameters: {'lambda': 2.1700921350047624, 'alpha': 1.3309144454598423, 'colsample_bytree': 0.3855641203439489, 'subsample': 0.5719912147976155, 'learning_rate': 0.0465712999574239, 'n_estimators': 2259, 'max_depth': 6, 'min_child_weight': 7, 'num_parallel_tree': 1}. Best is trial 173 with value: 0.09909467168372289.\u001b[0m\n",
      "\u001b[32m[I 2023-06-06 08:10:19,447]\u001b[0m Trial 201 finished with value: 0.13230617429197394 and parameters: {'lambda': 2.4706742810110986, 'alpha': 1.1615432411622475, 'colsample_bytree': 0.3443000563820661, 'subsample': 0.609272640439846, 'learning_rate': 0.03165824897452948, 'n_estimators': 1592, 'max_depth': 6, 'min_child_weight': 4, 'num_parallel_tree': 1}. Best is trial 173 with value: 0.09909467168372289.\u001b[0m\n",
      "\u001b[32m[I 2023-06-06 08:10:23,725]\u001b[0m Trial 202 finished with value: 0.12083703490547333 and parameters: {'lambda': 2.3336277086656247, 'alpha': 0.736503537035712, 'colsample_bytree': 0.3275339499255925, 'subsample': 0.6330469819533725, 'learning_rate': 0.02827374829462243, 'n_estimators': 1401, 'max_depth': 6, 'min_child_weight': 5, 'num_parallel_tree': 1}. Best is trial 173 with value: 0.09909467168372289.\u001b[0m\n",
      "\u001b[32m[I 2023-06-06 08:10:28,722]\u001b[0m Trial 203 finished with value: 0.1409107037755602 and parameters: {'lambda': 3.58124197999956, 'alpha': 0.4415377794136397, 'colsample_bytree': 0.3628308837745583, 'subsample': 0.6150388973589798, 'learning_rate': 0.03450522985299852, 'n_estimators': 1666, 'max_depth': 6, 'min_child_weight': 6, 'num_parallel_tree': 1}. Best is trial 173 with value: 0.09909467168372289.\u001b[0m\n",
      "\u001b[32m[I 2023-06-06 08:10:32,834]\u001b[0m Trial 204 finished with value: 0.12039239919506318 and parameters: {'lambda': 2.649818567644187, 'alpha': 3.1298281119625857, 'colsample_bytree': 0.3802891433650051, 'subsample': 0.5877584058084616, 'learning_rate': 0.029946397999706397, 'n_estimators': 1478, 'max_depth': 6, 'min_child_weight': 5, 'num_parallel_tree': 1}. Best is trial 173 with value: 0.09909467168372289.\u001b[0m\n",
      "\u001b[32m[I 2023-06-06 08:10:36,550]\u001b[0m Trial 205 finished with value: 0.13644167766077378 and parameters: {'lambda': 1.5505819802822598, 'alpha': 0.9939290233025977, 'colsample_bytree': 0.4279056993206325, 'subsample': 0.5468914112155668, 'learning_rate': 0.024191007286278782, 'n_estimators': 1062, 'max_depth': 10, 'min_child_weight': 6, 'num_parallel_tree': 1}. Best is trial 173 with value: 0.09909467168372289.\u001b[0m\n",
      "\u001b[32m[I 2023-06-06 08:10:39,781]\u001b[0m Trial 206 finished with value: 0.1463079327966986 and parameters: {'lambda': 1.10474773364616, 'alpha': 1.861468023915176, 'colsample_bytree': 0.34674051742940365, 'subsample': 0.6526054039441197, 'learning_rate': 0.026140906563713418, 'n_estimators': 1344, 'max_depth': 2, 'min_child_weight': 5, 'num_parallel_tree': 1}. Best is trial 173 with value: 0.09909467168372289.\u001b[0m\n",
      "\u001b[32m[I 2023-06-06 08:10:45,576]\u001b[0m Trial 207 finished with value: 0.1241106582460841 and parameters: {'lambda': 2.9728324494038034, 'alpha': 2.8696260634519963, 'colsample_bytree': 0.39609234605367694, 'subsample': 0.6011731382073511, 'learning_rate': 0.032185397694199584, 'n_estimators': 2072, 'max_depth': 7, 'min_child_weight': 7, 'num_parallel_tree': 1}. Best is trial 173 with value: 0.09909467168372289.\u001b[0m\n",
      "\u001b[32m[I 2023-06-06 08:10:52,568]\u001b[0m Trial 208 finished with value: 0.11742958508689683 and parameters: {'lambda': 3.3082150567341277, 'alpha': 1.5503694062452649, 'colsample_bytree': 0.28340457782604067, 'subsample': 0.9389897576259953, 'learning_rate': 0.040422811790717696, 'n_estimators': 2411, 'max_depth': 6, 'min_child_weight': 6, 'num_parallel_tree': 1}. Best is trial 173 with value: 0.09909467168372289.\u001b[0m\n",
      "\u001b[32m[I 2023-06-06 08:10:55,958]\u001b[0m Trial 209 finished with value: 0.15635021566964996 and parameters: {'lambda': 0.41849982683893483, 'alpha': 2.0661946894185066, 'colsample_bytree': 0.37295541836872215, 'subsample': 0.6380551827571942, 'learning_rate': 0.04935384103004561, 'n_estimators': 911, 'max_depth': 9, 'min_child_weight': 5, 'num_parallel_tree': 1}. Best is trial 173 with value: 0.09909467168372289.\u001b[0m\n",
      "\u001b[32m[I 2023-06-06 08:11:01,739]\u001b[0m Trial 210 finished with value: 0.13562262115803317 and parameters: {'lambda': 2.183861849055608, 'alpha': 1.274866427061732, 'colsample_bytree': 0.5822663586633615, 'subsample': 0.5675120133090699, 'learning_rate': 0.0289414258140047, 'n_estimators': 1540, 'max_depth': 6, 'min_child_weight': 7, 'num_parallel_tree': 1}. Best is trial 173 with value: 0.09909467168372289.\u001b[0m\n",
      "\u001b[32m[I 2023-06-06 08:11:08,165]\u001b[0m Trial 211 finished with value: 0.13992927578762876 and parameters: {'lambda': 2.688239194279079, 'alpha': 1.050157664538703, 'colsample_bytree': 0.3995606130644854, 'subsample': 0.607759325853863, 'learning_rate': 0.028186173768543737, 'n_estimators': 1968, 'max_depth': 6, 'min_child_weight': 4, 'num_parallel_tree': 1}. Best is trial 173 with value: 0.09909467168372289.\u001b[0m\n",
      "\u001b[32m[I 2023-06-06 08:11:14,256]\u001b[0m Trial 212 finished with value: 0.10423342919001713 and parameters: {'lambda': 2.569543997044911, 'alpha': 0.8286233731354193, 'colsample_bytree': 0.439987681279066, 'subsample': 0.5870495138643645, 'learning_rate': 0.03058861758535946, 'n_estimators': 1891, 'max_depth': 6, 'min_child_weight': 4, 'num_parallel_tree': 1}. Best is trial 173 with value: 0.09909467168372289.\u001b[0m\n",
      "\u001b[32m[I 2023-06-06 08:11:23,149]\u001b[0m Trial 213 finished with value: 0.1108338434439184 and parameters: {'lambda': 2.385407869060428, 'alpha': 0.6278386435165523, 'colsample_bytree': 0.4545092350811669, 'subsample': 0.5852093625947076, 'learning_rate': 0.0332008301353123, 'n_estimators': 1829, 'max_depth': 6, 'min_child_weight': 4, 'num_parallel_tree': 1}. Best is trial 173 with value: 0.09909467168372289.\u001b[0m\n",
      "\u001b[32m[I 2023-06-06 08:11:28,946]\u001b[0m Trial 214 finished with value: 0.11193774220964396 and parameters: {'lambda': 2.395427022665567, 'alpha': 0.5435816849586781, 'colsample_bytree': 0.4448817701982325, 'subsample': 0.5603545766317304, 'learning_rate': 0.03475177932796578, 'n_estimators': 1884, 'max_depth': 6, 'min_child_weight': 4, 'num_parallel_tree': 1}. Best is trial 173 with value: 0.09909467168372289.\u001b[0m\n",
      "\u001b[32m[I 2023-06-06 08:11:35,041]\u001b[0m Trial 215 finished with value: 0.12736915729554998 and parameters: {'lambda': 2.412333840123035, 'alpha': 0.5625948168182229, 'colsample_bytree': 0.4491680532087359, 'subsample': 0.5609411214791182, 'learning_rate': 0.03498173434345868, 'n_estimators': 1853, 'max_depth': 6, 'min_child_weight': 4, 'num_parallel_tree': 1}. Best is trial 173 with value: 0.09909467168372289.\u001b[0m\n",
      "\u001b[32m[I 2023-06-06 08:11:42,449]\u001b[0m Trial 216 finished with value: 0.13560585439351508 and parameters: {'lambda': 2.5167016223175707, 'alpha': 0.18553047308093673, 'colsample_bytree': 0.47631511845758584, 'subsample': 0.585651587945554, 'learning_rate': 0.03272514138546618, 'n_estimators': 2028, 'max_depth': 6, 'min_child_weight': 4, 'num_parallel_tree': 1}. Best is trial 173 with value: 0.09909467168372289.\u001b[0m\n",
      "\u001b[32m[I 2023-06-06 08:11:49,019]\u001b[0m Trial 217 finished with value: 0.12613004494064378 and parameters: {'lambda': 2.252401693691039, 'alpha': 0.8873474790846675, 'colsample_bytree': 0.4281837626312729, 'subsample': 0.5339584389197459, 'learning_rate': 0.037153398716566824, 'n_estimators': 1909, 'max_depth': 6, 'min_child_weight': 4, 'num_parallel_tree': 1}. Best is trial 173 with value: 0.09909467168372289.\u001b[0m\n",
      "\u001b[32m[I 2023-06-06 08:11:55,260]\u001b[0m Trial 218 finished with value: 0.13006857406687025 and parameters: {'lambda': 2.002480707747399, 'alpha': 0.48420347980105927, 'colsample_bytree': 0.45886258639563055, 'subsample': 0.45477580242687754, 'learning_rate': 0.034297366095894184, 'n_estimators': 1767, 'max_depth': 6, 'min_child_weight': 4, 'num_parallel_tree': 1}. Best is trial 173 with value: 0.09909467168372289.\u001b[0m\n",
      "\u001b[32m[I 2023-06-06 08:12:01,025]\u001b[0m Trial 219 finished with value: 0.12010168183423311 and parameters: {'lambda': 2.3153644382693477, 'alpha': 0.7772037610156293, 'colsample_bytree': 0.4447274766016314, 'subsample': 0.4896375753607315, 'learning_rate': 0.030444106971065633, 'n_estimators': 1826, 'max_depth': 6, 'min_child_weight': 3, 'num_parallel_tree': 1}. Best is trial 173 with value: 0.09909467168372289.\u001b[0m\n"
     ]
    },
    {
     "name": "stderr",
     "output_type": "stream",
     "text": [
      "\u001b[32m[I 2023-06-06 08:12:07,357]\u001b[0m Trial 220 finished with value: 0.14924363131466445 and parameters: {'lambda': 2.583482637119186, 'alpha': 0.33387866751398, 'colsample_bytree': 0.4845748421217381, 'subsample': 0.515219062346379, 'learning_rate': 0.03871661555140632, 'n_estimators': 1918, 'max_depth': 6, 'min_child_weight': 4, 'num_parallel_tree': 1}. Best is trial 173 with value: 0.09909467168372289.\u001b[0m\n",
      "\u001b[32m[I 2023-06-06 08:12:12,413]\u001b[0m Trial 221 finished with value: 0.1262788558905411 and parameters: {'lambda': 1.8102506094606152, 'alpha': 0.6852421069125796, 'colsample_bytree': 0.5058567645460141, 'subsample': 0.5776263164105289, 'learning_rate': 0.03575430818032862, 'n_estimators': 2029, 'max_depth': 2, 'min_child_weight': 4, 'num_parallel_tree': 1}. Best is trial 173 with value: 0.09909467168372289.\u001b[0m\n",
      "\u001b[32m[I 2023-06-06 08:12:17,281]\u001b[0m Trial 222 finished with value: 0.12993138701328627 and parameters: {'lambda': 2.1270666728216456, 'alpha': 3.5238413486719455, 'colsample_bytree': 0.4377361599287906, 'subsample': 0.5501965505210312, 'learning_rate': 0.032677592979328395, 'n_estimators': 1972, 'max_depth': 6, 'min_child_weight': 4, 'num_parallel_tree': 1}. Best is trial 173 with value: 0.09909467168372289.\u001b[0m\n",
      "\u001b[32m[I 2023-06-06 08:12:21,299]\u001b[0m Trial 223 finished with value: 0.12425134939738551 and parameters: {'lambda': 1.4721551553823697, 'alpha': 3.232672733756682, 'colsample_bytree': 0.4145911643983938, 'subsample': 0.2163727385684926, 'learning_rate': 0.08701221344953891, 'n_estimators': 1791, 'max_depth': 6, 'min_child_weight': 4, 'num_parallel_tree': 1}. Best is trial 173 with value: 0.09909467168372289.\u001b[0m\n",
      "\u001b[32m[I 2023-06-06 08:12:26,182]\u001b[0m Trial 224 finished with value: 0.14018186530218463 and parameters: {'lambda': 1.9129625291770238, 'alpha': 3.6837805782747077, 'colsample_bytree': 0.4564823188393583, 'subsample': 0.5897218862930501, 'learning_rate': 0.04289620403080924, 'n_estimators': 1881, 'max_depth': 6, 'min_child_weight': 4, 'num_parallel_tree': 1}. Best is trial 173 with value: 0.09909467168372289.\u001b[0m\n",
      "\u001b[32m[I 2023-06-06 08:12:31,412]\u001b[0m Trial 225 finished with value: 0.12254545540925947 and parameters: {'lambda': 2.8813841516249976, 'alpha': 2.426104059815103, 'colsample_bytree': 0.41742066211060347, 'subsample': 0.3972804145999216, 'learning_rate': 0.01950580888541668, 'n_estimators': 2110, 'max_depth': 7, 'min_child_weight': 10, 'num_parallel_tree': 1}. Best is trial 173 with value: 0.09909467168372289.\u001b[0m\n",
      "\u001b[32m[I 2023-06-06 08:12:35,122]\u001b[0m Trial 226 finished with value: 0.15508635879046453 and parameters: {'lambda': 2.3709920622293565, 'alpha': 7.289659290086492, 'colsample_bytree': 0.47163999897604636, 'subsample': 0.5602195315501959, 'learning_rate': 0.02375280413907568, 'n_estimators': 1685, 'max_depth': 6, 'min_child_weight': 6, 'num_parallel_tree': 1}. Best is trial 173 with value: 0.09909467168372289.\u001b[0m\n",
      "\u001b[32m[I 2023-06-06 08:12:39,609]\u001b[0m Trial 227 finished with value: 0.12503324266867513 and parameters: {'lambda': 1.6638190266562713, 'alpha': 2.706692473903105, 'colsample_bytree': 0.4336056705142029, 'subsample': 0.5728068449316327, 'learning_rate': 0.026062257606347956, 'n_estimators': 1932, 'max_depth': 2, 'min_child_weight': 4, 'num_parallel_tree': 1}. Best is trial 173 with value: 0.09909467168372289.\u001b[0m\n",
      "\u001b[32m[I 2023-06-06 08:12:44,906]\u001b[0m Trial 228 finished with value: 0.1272879352131212 and parameters: {'lambda': 0.9465983165060508, 'alpha': 0.5324393669627951, 'colsample_bytree': 0.40389097036457494, 'subsample': 0.5372886419969524, 'learning_rate': 0.01498933971733351, 'n_estimators': 1750, 'max_depth': 6, 'min_child_weight': 8, 'num_parallel_tree': 1}. Best is trial 173 with value: 0.09909467168372289.\u001b[0m\n",
      "\u001b[32m[I 2023-06-06 08:12:47,602]\u001b[0m Trial 229 finished with value: 0.14605326154284354 and parameters: {'lambda': 2.108657797843067, 'alpha': 8.659401187711733, 'colsample_bytree': 0.3784035513491862, 'subsample': 0.5971397033174771, 'learning_rate': 0.021902362634368164, 'n_estimators': 1126, 'max_depth': 3, 'min_child_weight': 6, 'num_parallel_tree': 1}. Best is trial 173 with value: 0.09909467168372289.\u001b[0m\n",
      "\u001b[32m[I 2023-06-06 08:12:51,255]\u001b[0m Trial 230 finished with value: 0.12256775252571045 and parameters: {'lambda': 1.3307128549049714, 'alpha': 2.909514254933953, 'colsample_bytree': 0.7251975359896976, 'subsample': 0.6205535405715566, 'learning_rate': 0.03103694451368885, 'n_estimators': 1004, 'max_depth': 8, 'min_child_weight': 6, 'num_parallel_tree': 1}. Best is trial 173 with value: 0.09909467168372289.\u001b[0m\n",
      "\u001b[32m[I 2023-06-06 08:12:56,753]\u001b[0m Trial 231 finished with value: 0.10893533668617504 and parameters: {'lambda': 2.4566587199108887, 'alpha': 0.8653536703867669, 'colsample_bytree': 0.3520645924808597, 'subsample': 0.610450064753648, 'learning_rate': 0.02933924412995846, 'n_estimators': 1604, 'max_depth': 6, 'min_child_weight': 5, 'num_parallel_tree': 1}. Best is trial 173 with value: 0.09909467168372289.\u001b[0m\n",
      "\u001b[32m[I 2023-06-06 08:13:02,029]\u001b[0m Trial 232 finished with value: 0.12349784124152069 and parameters: {'lambda': 2.5656972815709636, 'alpha': 0.7766106078578272, 'colsample_bytree': 0.3562620229522676, 'subsample': 0.8269212452297995, 'learning_rate': 0.026979600722344538, 'n_estimators': 1630, 'max_depth': 6, 'min_child_weight': 5, 'num_parallel_tree': 1}. Best is trial 173 with value: 0.09909467168372289.\u001b[0m\n",
      "\u001b[32m[I 2023-06-06 08:13:06,974]\u001b[0m Trial 233 finished with value: 0.12281487312798964 and parameters: {'lambda': 2.727022406810415, 'alpha': 0.9543097069337662, 'colsample_bytree': 0.3651276335365437, 'subsample': 0.5860102019034291, 'learning_rate': 0.029350884463194407, 'n_estimators': 1601, 'max_depth': 6, 'min_child_weight': 7, 'num_parallel_tree': 1}. Best is trial 173 with value: 0.09909467168372289.\u001b[0m\n",
      "\u001b[32m[I 2023-06-06 08:13:11,647]\u001b[0m Trial 234 finished with value: 0.11192961329992053 and parameters: {'lambda': 2.325144536311632, 'alpha': 1.3165969033487488, 'colsample_bytree': 0.39152352283089475, 'subsample': 0.6272975269353043, 'learning_rate': 0.033320337235547684, 'n_estimators': 1515, 'max_depth': 6, 'min_child_weight': 5, 'num_parallel_tree': 1}. Best is trial 173 with value: 0.09909467168372289.\u001b[0m\n",
      "\u001b[32m[I 2023-06-06 08:13:16,426]\u001b[0m Trial 235 finished with value: 0.12925594009168556 and parameters: {'lambda': 2.4041694228800377, 'alpha': 1.2104301984081616, 'colsample_bytree': 0.39230107159502453, 'subsample': 0.6308782238353094, 'learning_rate': 0.03329736972255764, 'n_estimators': 1504, 'max_depth': 6, 'min_child_weight': 5, 'num_parallel_tree': 1}. Best is trial 173 with value: 0.09909467168372289.\u001b[0m\n",
      "\u001b[32m[I 2023-06-06 08:13:20,612]\u001b[0m Trial 236 finished with value: 0.13900083335230312 and parameters: {'lambda': 2.2674350562827996, 'alpha': 1.7431785415642418, 'colsample_bytree': 0.16489168950510402, 'subsample': 0.6130617110231726, 'learning_rate': 0.036239334793334424, 'n_estimators': 1556, 'max_depth': 6, 'min_child_weight': 5, 'num_parallel_tree': 1}. Best is trial 173 with value: 0.09909467168372289.\u001b[0m\n",
      "\u001b[32m[I 2023-06-06 08:13:24,614]\u001b[0m Trial 237 finished with value: 0.12488387911300125 and parameters: {'lambda': 2.539721605863125, 'alpha': 1.4373059527863696, 'colsample_bytree': 0.4187937604952859, 'subsample': 0.44090442411886077, 'learning_rate': 0.031164454575814488, 'n_estimators': 1423, 'max_depth': 6, 'min_child_weight': 5, 'num_parallel_tree': 1}. Best is trial 173 with value: 0.09909467168372289.\u001b[0m\n",
      "\u001b[32m[I 2023-06-06 08:13:29,726]\u001b[0m Trial 238 finished with value: 0.10637296403643404 and parameters: {'lambda': 3.789369322154939, 'alpha': 1.162992503102176, 'colsample_bytree': 0.3389243821638291, 'subsample': 0.6303435843392913, 'learning_rate': 0.038475891969312906, 'n_estimators': 1714, 'max_depth': 6, 'min_child_weight': 4, 'num_parallel_tree': 1}. Best is trial 173 with value: 0.09909467168372289.\u001b[0m\n",
      "\u001b[32m[I 2023-06-06 08:13:34,529]\u001b[0m Trial 239 finished with value: 0.11939379164455662 and parameters: {'lambda': 3.802853315141522, 'alpha': 1.2406640093254595, 'colsample_bytree': 0.33209523690800863, 'subsample': 0.6458329990168749, 'learning_rate': 0.03799855674392266, 'n_estimators': 1735, 'max_depth': 6, 'min_child_weight': 4, 'num_parallel_tree': 1}. Best is trial 173 with value: 0.09909467168372289.\u001b[0m\n"
     ]
    },
    {
     "name": "stderr",
     "output_type": "stream",
     "text": [
      "\u001b[32m[I 2023-06-06 08:13:38,998]\u001b[0m Trial 240 finished with value: 0.11913044191340375 and parameters: {'lambda': 3.054309868774656, 'alpha': 1.1105874262073034, 'colsample_bytree': 0.3061604006924571, 'subsample': 0.6293356553788296, 'learning_rate': 0.03952043971436143, 'n_estimators': 1673, 'max_depth': 6, 'min_child_weight': 3, 'num_parallel_tree': 1}. Best is trial 173 with value: 0.09909467168372289.\u001b[0m\n",
      "\u001b[32m[I 2023-06-06 08:13:43,619]\u001b[0m Trial 241 finished with value: 0.11981417088464331 and parameters: {'lambda': 2.882138474490413, 'alpha': 1.4090932160235652, 'colsample_bytree': 0.34823980721186815, 'subsample': 0.6062632403726664, 'learning_rate': 0.035268655786837466, 'n_estimators': 1701, 'max_depth': 6, 'min_child_weight': 4, 'num_parallel_tree': 1}. Best is trial 173 with value: 0.09909467168372289.\u001b[0m\n",
      "\u001b[32m[I 2023-06-06 08:13:48,535]\u001b[0m Trial 242 finished with value: 0.12200605483123769 and parameters: {'lambda': 3.9152186308240604, 'alpha': 0.7518067623110843, 'colsample_bytree': 0.38519988541880046, 'subsample': 0.6201050132870967, 'learning_rate': 0.041232981344809766, 'n_estimators': 1584, 'max_depth': 6, 'min_child_weight': 4, 'num_parallel_tree': 1}. Best is trial 173 with value: 0.09909467168372289.\u001b[0m\n",
      "\u001b[32m[I 2023-06-06 08:13:54,302]\u001b[0m Trial 243 finished with value: 0.12021347425910632 and parameters: {'lambda': 4.22038675013868, 'alpha': 0.9194247863568807, 'colsample_bytree': 0.3328590158980787, 'subsample': 0.666778463405408, 'learning_rate': 0.03312952119653264, 'n_estimators': 1847, 'max_depth': 6, 'min_child_weight': 4, 'num_parallel_tree': 1}. Best is trial 173 with value: 0.09909467168372289.\u001b[0m\n",
      "\u001b[32m[I 2023-06-06 08:14:00,147]\u001b[0m Trial 244 finished with value: 0.12042359707925646 and parameters: {'lambda': 3.3804554311647177, 'alpha': 1.641967749151127, 'colsample_bytree': 0.36131565780252967, 'subsample': 0.6378556474512509, 'learning_rate': 0.029153582477570755, 'n_estimators': 1812, 'max_depth': 6, 'min_child_weight': 5, 'num_parallel_tree': 1}. Best is trial 173 with value: 0.09909467168372289.\u001b[0m\n",
      "\u001b[32m[I 2023-06-06 08:14:04,746]\u001b[0m Trial 245 finished with value: 0.1342776739266301 and parameters: {'lambda': 2.198914431422191, 'alpha': 2.2593893431886367, 'colsample_bytree': 0.4024043305006102, 'subsample': 0.5987083058288049, 'learning_rate': 0.03730627199205236, 'n_estimators': 1529, 'max_depth': 6, 'min_child_weight': 5, 'num_parallel_tree': 1}. Best is trial 173 with value: 0.09909467168372289.\u001b[0m\n",
      "\u001b[32m[I 2023-06-06 08:14:10,039]\u001b[0m Trial 246 finished with value: 0.1106061333986582 and parameters: {'lambda': 2.7118255057002414, 'alpha': 1.1457963933664725, 'colsample_bytree': 0.43877046388823365, 'subsample': 0.5591156220565878, 'learning_rate': 0.034849597591996274, 'n_estimators': 1639, 'max_depth': 9, 'min_child_weight': 6, 'num_parallel_tree': 1}. Best is trial 173 with value: 0.09909467168372289.\u001b[0m\n",
      "\u001b[32m[I 2023-06-06 08:14:15,263]\u001b[0m Trial 247 finished with value: 0.11781863450719196 and parameters: {'lambda': 3.199666411773351, 'alpha': 1.1305018100501918, 'colsample_bytree': 0.45025171829291544, 'subsample': 0.5560177808191814, 'learning_rate': 0.03338440276062161, 'n_estimators': 1612, 'max_depth': 9, 'min_child_weight': 4, 'num_parallel_tree': 1}. Best is trial 173 with value: 0.09909467168372289.\u001b[0m\n",
      "\u001b[32m[I 2023-06-06 08:14:19,208]\u001b[0m Trial 248 finished with value: 0.14636164628831594 and parameters: {'lambda': 2.747090298164147, 'alpha': 5.281374456348337, 'colsample_bytree': 0.4631597313657243, 'subsample': 0.519319910931924, 'learning_rate': 0.05195533861042969, 'n_estimators': 1648, 'max_depth': 9, 'min_child_weight': 6, 'num_parallel_tree': 1}. Best is trial 173 with value: 0.09909467168372289.\u001b[0m\n",
      "\u001b[32m[I 2023-06-06 08:14:24,107]\u001b[0m Trial 249 finished with value: 0.1321693412105102 and parameters: {'lambda': 3.546171581295546, 'alpha': 1.503554748635342, 'colsample_bytree': 0.4346869631661475, 'subsample': 0.47032485604195384, 'learning_rate': 0.035953295438582764, 'n_estimators': 1734, 'max_depth': 9, 'min_child_weight': 5, 'num_parallel_tree': 1}. Best is trial 173 with value: 0.09909467168372289.\u001b[0m\n",
      "\u001b[32m[I 2023-06-06 08:14:28,974]\u001b[0m Trial 250 finished with value: 0.1340308693925823 and parameters: {'lambda': 2.55028023506886, 'alpha': 0.6112308771916213, 'colsample_bytree': 0.49265463705894197, 'subsample': 0.5432815668126929, 'learning_rate': 0.038814071422845785, 'n_estimators': 1527, 'max_depth': 9, 'min_child_weight': 6, 'num_parallel_tree': 1}. Best is trial 173 with value: 0.09909467168372289.\u001b[0m\n",
      "\u001b[32m[I 2023-06-06 08:14:33,447]\u001b[0m Trial 251 finished with value: 0.12280642097763458 and parameters: {'lambda': 2.7083394673160472, 'alpha': 1.31497077575801, 'colsample_bytree': 0.3136260149608442, 'subsample': 0.5762973422024171, 'learning_rate': 0.034395229919387524, 'n_estimators': 1627, 'max_depth': 6, 'min_child_weight': 6, 'num_parallel_tree': 1}. Best is trial 173 with value: 0.09909467168372289.\u001b[0m\n",
      "\u001b[32m[I 2023-06-06 08:14:36,360]\u001b[0m Trial 252 finished with value: 0.12876861417075608 and parameters: {'lambda': 2.414460979521109, 'alpha': 0.9544895103546676, 'colsample_bytree': 0.3461489585444516, 'subsample': 0.5592333206390351, 'learning_rate': 0.058063171385024655, 'n_estimators': 1071, 'max_depth': 6, 'min_child_weight': 5, 'num_parallel_tree': 1}. Best is trial 173 with value: 0.09909467168372289.\u001b[0m\n",
      "\u001b[32m[I 2023-06-06 08:14:41,417]\u001b[0m Trial 253 finished with value: 0.13351821478239062 and parameters: {'lambda': 2.9378359371252176, 'alpha': 1.884538797477126, 'colsample_bytree': 0.5192130079364579, 'subsample': 0.5039703364785825, 'learning_rate': 0.04438059551372676, 'n_estimators': 1455, 'max_depth': 9, 'min_child_weight': 6, 'num_parallel_tree': 1}. Best is trial 173 with value: 0.09909467168372289.\u001b[0m\n",
      "\u001b[32m[I 2023-06-06 08:14:44,915]\u001b[0m Trial 254 finished with value: 0.1301479874445649 and parameters: {'lambda': 2.3090475190174344, 'alpha': 1.0898519099537685, 'colsample_bytree': 0.3709593141151999, 'subsample': 0.40901435515187007, 'learning_rate': 0.03128390374652262, 'n_estimators': 1173, 'max_depth': 6, 'min_child_weight': 4, 'num_parallel_tree': 1}. Best is trial 173 with value: 0.09909467168372289.\u001b[0m\n",
      "\u001b[32m[I 2023-06-06 08:14:51,612]\u001b[0m Trial 255 finished with value: 0.13832719693178602 and parameters: {'lambda': 7.794344470360684, 'alpha': 0.8341310919569656, 'colsample_bytree': 0.965536720005335, 'subsample': 0.48566975602681484, 'learning_rate': 0.04085721504821896, 'n_estimators': 1580, 'max_depth': 6, 'min_child_weight': 5, 'num_parallel_tree': 1}. Best is trial 173 with value: 0.09909467168372289.\u001b[0m\n",
      "\u001b[32m[I 2023-06-06 08:14:57,544]\u001b[0m Trial 256 finished with value: 0.11690151481258486 and parameters: {'lambda': 2.6171198848720483, 'alpha': 1.313036963507079, 'colsample_bytree': 0.41854442778058515, 'subsample': 0.5415845669536924, 'learning_rate': 0.027484028542364515, 'n_estimators': 1698, 'max_depth': 6, 'min_child_weight': 6, 'num_parallel_tree': 1}. Best is trial 173 with value: 0.09909467168372289.\u001b[0m\n",
      "\u001b[32m[I 2023-06-06 08:15:00,853]\u001b[0m Trial 257 finished with value: 0.12500704347787361 and parameters: {'lambda': 3.1684811408046003, 'alpha': 0.36408529043557236, 'colsample_bytree': 0.4367823358515085, 'subsample': 0.6535092044145121, 'learning_rate': 0.03169373234768003, 'n_estimators': 944, 'max_depth': 5, 'min_child_weight': 5, 'num_parallel_tree': 1}. Best is trial 173 with value: 0.09909467168372289.\u001b[0m\n",
      "\u001b[32m[I 2023-06-06 08:15:07,033]\u001b[0m Trial 258 finished with value: 0.13349573965205588 and parameters: {'lambda': 2.0031738070262564, 'alpha': 1.9630658422715204, 'colsample_bytree': 0.3814255650699176, 'subsample': 0.5682848418585491, 'learning_rate': 0.03447570089167324, 'n_estimators': 1791, 'max_depth': 4, 'min_child_weight': 6, 'num_parallel_tree': 1}. Best is trial 173 with value: 0.09909467168372289.\u001b[0m\n",
      "\u001b[32m[I 2023-06-06 08:15:11,528]\u001b[0m Trial 259 finished with value: 0.12318971471958952 and parameters: {'lambda': 0.18868403006316026, 'alpha': 1.6890783399138232, 'colsample_bytree': 0.3344066906208005, 'subsample': 0.6234336072180482, 'learning_rate': 0.029749139882184673, 'n_estimators': 1657, 'max_depth': 3, 'min_child_weight': 5, 'num_parallel_tree': 1}. Best is trial 173 with value: 0.09909467168372289.\u001b[0m\n"
     ]
    },
    {
     "name": "stderr",
     "output_type": "stream",
     "text": [
      "\u001b[32m[I 2023-06-06 08:15:16,539]\u001b[0m Trial 260 finished with value: 0.11580598117843666 and parameters: {'lambda': 2.7792114129261605, 'alpha': 0.6989675894387518, 'colsample_bytree': 0.355439416604463, 'subsample': 0.5892983860184478, 'learning_rate': 0.07568624547212038, 'n_estimators': 1486, 'max_depth': 10, 'min_child_weight': 4, 'num_parallel_tree': 1}. Best is trial 173 with value: 0.09909467168372289.\u001b[0m\n",
      "\u001b[32m[I 2023-06-06 08:15:22,144]\u001b[0m Trial 261 finished with value: 0.12769258200155284 and parameters: {'lambda': 2.4675685624674317, 'alpha': 0.004166561632103605, 'colsample_bytree': 0.4116348185657055, 'subsample': 0.5206582969710437, 'learning_rate': 0.03602426269706284, 'n_estimators': 1565, 'max_depth': 6, 'min_child_weight': 6, 'num_parallel_tree': 1}. Best is trial 173 with value: 0.09909467168372289.\u001b[0m\n",
      "\u001b[32m[I 2023-06-06 08:15:25,901]\u001b[0m Trial 262 finished with value: 0.12595152309778102 and parameters: {'lambda': 2.195428878055551, 'alpha': 2.2123668263103107, 'colsample_bytree': 0.8185298655160584, 'subsample': 0.42555017314297766, 'learning_rate': 0.037747823278765164, 'n_estimators': 1214, 'max_depth': 6, 'min_child_weight': 4, 'num_parallel_tree': 1}. Best is trial 173 with value: 0.09909467168372289.\u001b[0m\n",
      "\u001b[32m[I 2023-06-06 08:15:29,319]\u001b[0m Trial 263 finished with value: 0.13431609982818954 and parameters: {'lambda': 3.6891166010512118, 'alpha': 1.5091088521574423, 'colsample_bytree': 0.4654133945828668, 'subsample': 0.6077390940464029, 'learning_rate': 0.02662409822575542, 'n_estimators': 1056, 'max_depth': 6, 'min_child_weight': 5, 'num_parallel_tree': 1}. Best is trial 173 with value: 0.09909467168372289.\u001b[0m\n",
      "\u001b[32m[I 2023-06-06 08:15:32,589]\u001b[0m Trial 264 finished with value: 0.1313946476016111 and parameters: {'lambda': 3.0448785472307742, 'alpha': 1.146035875730241, 'colsample_bytree': 0.3210082138748678, 'subsample': 0.5774369041045094, 'learning_rate': 0.09980940837907443, 'n_estimators': 1115, 'max_depth': 6, 'min_child_weight': 6, 'num_parallel_tree': 1}. Best is trial 173 with value: 0.09909467168372289.\u001b[0m\n",
      "\u001b[32m[I 2023-06-06 08:15:38,999]\u001b[0m Trial 265 finished with value: 0.11418647114986542 and parameters: {'lambda': 9.940664850901458, 'alpha': 0.8999749466019309, 'colsample_bytree': 0.3909920646814081, 'subsample': 0.6425931101632666, 'learning_rate': 0.024837708903675815, 'n_estimators': 1875, 'max_depth': 6, 'min_child_weight': 4, 'num_parallel_tree': 1}. Best is trial 173 with value: 0.09909467168372289.\u001b[0m\n",
      "\u001b[32m[I 2023-06-06 08:15:42,085]\u001b[0m Trial 266 finished with value: 2.350708659275752 and parameters: {'lambda': 1.8553301351817377, 'alpha': 0.6026161873999141, 'colsample_bytree': 0.43913816964073976, 'subsample': 0.5498746587828457, 'learning_rate': 0.0012185430104903888, 'n_estimators': 1309, 'max_depth': 9, 'min_child_weight': 3, 'num_parallel_tree': 1}. Best is trial 173 with value: 0.09909467168372289.\u001b[0m\n",
      "\u001b[32m[I 2023-06-06 08:15:46,447]\u001b[0m Trial 267 finished with value: 0.12226964626844311 and parameters: {'lambda': 0.6567925710945853, 'alpha': 1.2875632836389908, 'colsample_bytree': 0.3721017311032229, 'subsample': 0.6767312924150198, 'learning_rate': 0.032595259456149425, 'n_estimators': 1403, 'max_depth': 6, 'min_child_weight': 6, 'num_parallel_tree': 1}. Best is trial 173 with value: 0.09909467168372289.\u001b[0m\n",
      "\u001b[32m[I 2023-06-06 08:15:49,960]\u001b[0m Trial 268 finished with value: 0.1358940365419617 and parameters: {'lambda': 2.4121575190246864, 'alpha': 6.339590093740087, 'colsample_bytree': 0.34161499274954554, 'subsample': 0.46362957935090743, 'learning_rate': 0.030095986405144312, 'n_estimators': 1520, 'max_depth': 6, 'min_child_weight': 5, 'num_parallel_tree': 1}. Best is trial 173 with value: 0.09909467168372289.\u001b[0m\n",
      "\u001b[32m[I 2023-06-06 08:15:55,394]\u001b[0m Trial 269 finished with value: 0.13114047993761263 and parameters: {'lambda': 5.078493310511822, 'alpha': 2.0164385143053463, 'colsample_bytree': 0.452387541695713, 'subsample': 0.5301807521802044, 'learning_rate': 0.04183237246702805, 'n_estimators': 1730, 'max_depth': 6, 'min_child_weight': 6, 'num_parallel_tree': 1}. Best is trial 173 with value: 0.09909467168372289.\u001b[0m\n",
      "\u001b[32m[I 2023-06-06 08:15:59,665]\u001b[0m Trial 270 finished with value: 0.11974104883432674 and parameters: {'lambda': 2.1284567668747587, 'alpha': 2.585175256510931, 'colsample_bytree': 0.4063028017665017, 'subsample': 0.49689186132555013, 'learning_rate': 0.02837935913995496, 'n_estimators': 1607, 'max_depth': 6, 'min_child_weight': 7, 'num_parallel_tree': 1}. Best is trial 173 with value: 0.09909467168372289.\u001b[0m\n",
      "\u001b[32m[I 2023-06-06 08:16:02,249]\u001b[0m Trial 271 finished with value: 0.12668871071656138 and parameters: {'lambda': 2.840080567105477, 'alpha': 1.0273912801185412, 'colsample_bytree': 0.3611181856293357, 'subsample': 0.5906847732142411, 'learning_rate': 0.038545295739430434, 'n_estimators': 873, 'max_depth': 6, 'min_child_weight': 4, 'num_parallel_tree': 1}. Best is trial 173 with value: 0.09909467168372289.\u001b[0m\n",
      "\u001b[32m[I 2023-06-06 08:16:05,272]\u001b[0m Trial 272 finished with value: 0.12968668313155177 and parameters: {'lambda': 4.863845280662343, 'alpha': 1.7074460839172783, 'colsample_bytree': 0.3023770940648152, 'subsample': 0.5700430143461501, 'learning_rate': 0.03431533510979957, 'n_estimators': 1270, 'max_depth': 3, 'min_child_weight': 5, 'num_parallel_tree': 1}. Best is trial 173 with value: 0.09909467168372289.\u001b[0m\n",
      "\u001b[32m[I 2023-06-06 08:16:09,179]\u001b[0m Trial 273 finished with value: 0.11361236351461713 and parameters: {'lambda': 3.429316918940034, 'alpha': 0.37497307898251586, 'colsample_bytree': 0.4828935614411572, 'subsample': 0.6192809690347607, 'learning_rate': 0.04580828407979642, 'n_estimators': 981, 'max_depth': 8, 'min_child_weight': 6, 'num_parallel_tree': 1}. Best is trial 173 with value: 0.09909467168372289.\u001b[0m\n",
      "\u001b[32m[I 2023-06-06 08:16:13,745]\u001b[0m Trial 274 finished with value: 0.13634782528955672 and parameters: {'lambda': 2.646258606614413, 'alpha': 2.408661463072504, 'colsample_bytree': 0.6761966381399223, 'subsample': 0.5588855066888148, 'learning_rate': 0.03202446440357539, 'n_estimators': 1463, 'max_depth': 6, 'min_child_weight': 7, 'num_parallel_tree': 1}. Best is trial 173 with value: 0.09909467168372289.\u001b[0m\n",
      "\u001b[32m[I 2023-06-06 08:16:17,982]\u001b[0m Trial 275 finished with value: 0.14226982744558916 and parameters: {'lambda': 6.378006805818573, 'alpha': 4.2828721905535225, 'colsample_bytree': 0.3840180042919467, 'subsample': 0.6024707622886889, 'learning_rate': 0.024794431704335575, 'n_estimators': 1665, 'max_depth': 6, 'min_child_weight': 5, 'num_parallel_tree': 1}. Best is trial 173 with value: 0.09909467168372289.\u001b[0m\n",
      "\u001b[32m[I 2023-06-06 08:16:24,219]\u001b[0m Trial 276 finished with value: 0.12006428818467922 and parameters: {'lambda': 1.092740131035097, 'alpha': 1.4427782834803242, 'colsample_bytree': 0.563366274953899, 'subsample': 0.6359541108875923, 'learning_rate': 0.03612789876894753, 'n_estimators': 1804, 'max_depth': 9, 'min_child_weight': 6, 'num_parallel_tree': 1}. Best is trial 173 with value: 0.09909467168372289.\u001b[0m\n",
      "\u001b[32m[I 2023-06-06 08:16:28,137]\u001b[0m Trial 277 finished with value: 0.1264411552317557 and parameters: {'lambda': 2.313868371835491, 'alpha': 0.8024504377748702, 'colsample_bytree': 0.4227509828060922, 'subsample': 0.6974652279200485, 'learning_rate': 0.03998459747075061, 'n_estimators': 1149, 'max_depth': 6, 'min_child_weight': 4, 'num_parallel_tree': 1}. Best is trial 173 with value: 0.09909467168372289.\u001b[0m\n",
      "\u001b[32m[I 2023-06-06 08:16:28,973]\u001b[0m Trial 278 finished with value: 0.12132042263336183 and parameters: {'lambda': 1.9991615208134548, 'alpha': 1.198515838224635, 'colsample_bytree': 0.3512978292591074, 'subsample': 0.4447697477931876, 'learning_rate': 0.029778440072521718, 'n_estimators': 261, 'max_depth': 6, 'min_child_weight': 5, 'num_parallel_tree': 1}. Best is trial 173 with value: 0.09909467168372289.\u001b[0m\n",
      "\u001b[32m[I 2023-06-06 08:16:32,691]\u001b[0m Trial 279 finished with value: 0.12220419005107103 and parameters: {'lambda': 1.6966595811609637, 'alpha': 2.145202893100764, 'colsample_bytree': 0.32318416969321107, 'subsample': 0.47668903933908857, 'learning_rate': 0.02128532629862918, 'n_estimators': 1356, 'max_depth': 6, 'min_child_weight': 6, 'num_parallel_tree': 1}. Best is trial 173 with value: 0.09909467168372289.\u001b[0m\n"
     ]
    },
    {
     "name": "stderr",
     "output_type": "stream",
     "text": [
      "\u001b[32m[I 2023-06-06 08:16:36,740]\u001b[0m Trial 280 finished with value: 0.12140426826793668 and parameters: {'lambda': 2.4669637889695433, 'alpha': 3.091313583410777, 'colsample_bytree': 0.39279800269816806, 'subsample': 0.5396405498387993, 'learning_rate': 0.027293369188854208, 'n_estimators': 1586, 'max_depth': 5, 'min_child_weight': 2, 'num_parallel_tree': 1}. Best is trial 173 with value: 0.09909467168372289.\u001b[0m\n",
      "\u001b[32m[I 2023-06-06 08:16:41,094]\u001b[0m Trial 281 finished with value: 0.14052444484677673 and parameters: {'lambda': 2.2037837963625173, 'alpha': 3.2934035095727134, 'colsample_bytree': 0.36729179998452377, 'subsample': 0.5832036948843914, 'learning_rate': 0.03205829833242273, 'n_estimators': 1525, 'max_depth': 6, 'min_child_weight': 7, 'num_parallel_tree': 1}. Best is trial 173 with value: 0.09909467168372289.\u001b[0m\n",
      "\u001b[32m[I 2023-06-06 08:16:46,088]\u001b[0m Trial 282 finished with value: 0.13046653059432775 and parameters: {'lambda': 2.9672286703537054, 'alpha': 2.7340746556001383, 'colsample_bytree': 0.27470410579281995, 'subsample': 0.6567956280953122, 'learning_rate': 0.03433921843023627, 'n_estimators': 1900, 'max_depth': 6, 'min_child_weight': 6, 'num_parallel_tree': 1}. Best is trial 173 with value: 0.09909467168372289.\u001b[0m\n",
      "\u001b[32m[I 2023-06-06 08:16:50,578]\u001b[0m Trial 283 finished with value: 0.13322808742788378 and parameters: {'lambda': 2.647664400861069, 'alpha': 0.5363705984548363, 'colsample_bytree': 0.43175907748166653, 'subsample': 0.3817954427261473, 'learning_rate': 0.043232083959875656, 'n_estimators': 1442, 'max_depth': 6, 'min_child_weight': 5, 'num_parallel_tree': 1}. Best is trial 173 with value: 0.09909467168372289.\u001b[0m\n",
      "\u001b[32m[I 2023-06-06 08:16:53,451]\u001b[0m Trial 284 finished with value: 0.11677777667096742 and parameters: {'lambda': 1.2589012450764474, 'alpha': 1.7820305681414734, 'colsample_bytree': 0.4088670249759023, 'subsample': 0.5060915326105924, 'learning_rate': 0.023823909777113315, 'n_estimators': 1194, 'max_depth': 2, 'min_child_weight': 7, 'num_parallel_tree': 1}. Best is trial 173 with value: 0.09909467168372289.\u001b[0m\n",
      "\u001b[32m[I 2023-06-06 08:16:56,655]\u001b[0m Trial 285 finished with value: 0.12794776894272228 and parameters: {'lambda': 3.2445042699064195, 'alpha': 1.5330987588585834, 'colsample_bytree': 0.5005754227188324, 'subsample': 0.6155711160981105, 'learning_rate': 0.02855672810552528, 'n_estimators': 1079, 'max_depth': 4, 'min_child_weight': 9, 'num_parallel_tree': 1}. Best is trial 173 with value: 0.09909467168372289.\u001b[0m\n",
      "\u001b[32m[I 2023-06-06 08:17:02,373]\u001b[0m Trial 286 finished with value: 0.11754202502085596 and parameters: {'lambda': 0.7900128710737272, 'alpha': 0.9021472950729041, 'colsample_bytree': 0.34086431154125296, 'subsample': 0.5610722785792571, 'learning_rate': 0.047502258382657085, 'n_estimators': 1748, 'max_depth': 9, 'min_child_weight': 4, 'num_parallel_tree': 1}. Best is trial 173 with value: 0.09909467168372289.\u001b[0m\n",
      "\u001b[32m[I 2023-06-06 08:17:05,224]\u001b[0m Trial 287 finished with value: 0.11868962803636453 and parameters: {'lambda': 1.8063321021454242, 'alpha': 1.3490212376628372, 'colsample_bytree': 0.1073458624046219, 'subsample': 0.5260850684142335, 'learning_rate': 0.03706098620846722, 'n_estimators': 1019, 'max_depth': 6, 'min_child_weight': 5, 'num_parallel_tree': 1}. Best is trial 173 with value: 0.09909467168372289.\u001b[0m\n",
      "\u001b[32m[I 2023-06-06 08:17:08,690]\u001b[0m Trial 288 finished with value: 0.11891910262010329 and parameters: {'lambda': 1.52258200902857, 'alpha': 5.739717393890086, 'colsample_bytree': 0.22870136017819293, 'subsample': 0.5981151742508222, 'learning_rate': 0.05039144986240795, 'n_estimators': 1640, 'max_depth': 3, 'min_child_weight': 6, 'num_parallel_tree': 1}. Best is trial 173 with value: 0.09909467168372289.\u001b[0m\n",
      "\u001b[32m[I 2023-06-06 08:17:13,352]\u001b[0m Trial 289 finished with value: 0.1340952015384308 and parameters: {'lambda': 2.01183464358515, 'alpha': 2.4164132553324893, 'colsample_bytree': 0.4684173889161787, 'subsample': 0.6293926344364874, 'learning_rate': 0.09470589042774041, 'n_estimators': 1691, 'max_depth': 10, 'min_child_weight': 6, 'num_parallel_tree': 1}. Best is trial 173 with value: 0.09909467168372289.\u001b[0m\n",
      "\u001b[32m[I 2023-06-06 08:17:19,355]\u001b[0m Trial 290 finished with value: 0.11283176217419434 and parameters: {'lambda': 2.506119600303279, 'alpha': 1.0606370591031618, 'colsample_bytree': 0.3835337749191357, 'subsample': 0.5477533050493636, 'learning_rate': 0.030676871622660525, 'n_estimators': 1966, 'max_depth': 6, 'min_child_weight': 4, 'num_parallel_tree': 1}. Best is trial 173 with value: 0.09909467168372289.\u001b[0m\n",
      "\u001b[32m[I 2023-06-06 08:17:24,741]\u001b[0m Trial 291 finished with value: 0.1258586190697831 and parameters: {'lambda': 2.8305955192411836, 'alpha': 0.1486620021150029, 'colsample_bytree': 0.35824534246855505, 'subsample': 0.5717182540747191, 'learning_rate': 0.026086245327429272, 'n_estimators': 1558, 'max_depth': 6, 'min_child_weight': 5, 'num_parallel_tree': 1}. Best is trial 173 with value: 0.09909467168372289.\u001b[0m\n",
      "\u001b[32m[I 2023-06-06 08:17:30,785]\u001b[0m Trial 292 finished with value: 0.14802705740455288 and parameters: {'lambda': 9.063910493144913, 'alpha': 1.8378776614392536, 'colsample_bytree': 0.4447418906271531, 'subsample': 0.6058581207437288, 'learning_rate': 0.039720139980849965, 'n_estimators': 1851, 'max_depth': 6, 'min_child_weight': 6, 'num_parallel_tree': 1}. Best is trial 173 with value: 0.09909467168372289.\u001b[0m\n",
      "\u001b[32m[I 2023-06-06 08:17:34,819]\u001b[0m Trial 293 finished with value: 0.12618112855846741 and parameters: {'lambda': 2.3088868425999687, 'alpha': 3.0098971072735488, 'colsample_bytree': 0.402781146997436, 'subsample': 0.48901476131227567, 'learning_rate': 0.017923710437522417, 'n_estimators': 1487, 'max_depth': 6, 'min_child_weight': 7, 'num_parallel_tree': 1}. Best is trial 173 with value: 0.09909467168372289.\u001b[0m\n",
      "\u001b[32m[I 2023-06-06 08:17:38,979]\u001b[0m Trial 294 finished with value: 0.16441430198186527 and parameters: {'lambda': 2.6165447930363985, 'alpha': 0.8456120737539415, 'colsample_bytree': 0.31875558735706605, 'subsample': 0.5801529731683374, 'learning_rate': 0.033874570596203975, 'n_estimators': 1377, 'max_depth': 6, 'min_child_weight': 5, 'num_parallel_tree': 1}. Best is trial 173 with value: 0.09909467168372289.\u001b[0m\n",
      "\u001b[32m[I 2023-06-06 08:17:41,957]\u001b[0m Trial 295 finished with value: 0.135480152189225 and parameters: {'lambda': 2.1672351014369253, 'alpha': 4.9594442999050425, 'colsample_bytree': 0.37018708834923003, 'subsample': 0.5171106424861989, 'learning_rate': 0.022370094857111715, 'n_estimators': 1284, 'max_depth': 2, 'min_child_weight': 7, 'num_parallel_tree': 1}. Best is trial 173 with value: 0.09909467168372289.\u001b[0m\n",
      "\u001b[32m[I 2023-06-06 08:17:47,486]\u001b[0m Trial 296 finished with value: 0.11313125179265865 and parameters: {'lambda': 0.36793847506881966, 'alpha': 0.6555632542708376, 'colsample_bytree': 0.6122412355899116, 'subsample': 0.6427182278518371, 'learning_rate': 0.03623939674628568, 'n_estimators': 1603, 'max_depth': 6, 'min_child_weight': 4, 'num_parallel_tree': 1}. Best is trial 173 with value: 0.09909467168372289.\u001b[0m\n",
      "\u001b[32m[I 2023-06-06 08:17:50,362]\u001b[0m Trial 297 finished with value: 0.10850399367105205 and parameters: {'lambda': 4.10741676681837, 'alpha': 2.0039547732254057, 'colsample_bytree': 0.41829286669334176, 'subsample': 0.7471429265089912, 'learning_rate': 0.020540503556291542, 'n_estimators': 945, 'max_depth': 9, 'min_child_weight': 8, 'num_parallel_tree': 1}. Best is trial 173 with value: 0.09909467168372289.\u001b[0m\n",
      "\u001b[32m[I 2023-06-06 08:17:52,669]\u001b[0m Trial 298 finished with value: 0.1243112073465107 and parameters: {'lambda': 4.222693665958045, 'alpha': 2.0981789864182634, 'colsample_bytree': 0.33303026389925305, 'subsample': 0.7957470929675692, 'learning_rate': 0.018758710427502587, 'n_estimators': 811, 'max_depth': 9, 'min_child_weight': 8, 'num_parallel_tree': 1}. Best is trial 173 with value: 0.09909467168372289.\u001b[0m\n",
      "\u001b[32m[I 2023-06-06 08:17:55,535]\u001b[0m Trial 299 finished with value: 0.1396389790071086 and parameters: {'lambda': 4.484965607016685, 'alpha': 2.002844072782255, 'colsample_bytree': 0.4226921028851638, 'subsample': 0.7137864574999536, 'learning_rate': 0.020100047563676747, 'n_estimators': 950, 'max_depth': 9, 'min_child_weight': 6, 'num_parallel_tree': 1}. Best is trial 173 with value: 0.09909467168372289.\u001b[0m\n"
     ]
    },
    {
     "name": "stderr",
     "output_type": "stream",
     "text": [
      "\u001b[32m[I 2023-06-06 08:17:58,529]\u001b[0m Trial 300 finished with value: 0.12503235990815423 and parameters: {'lambda': 4.133319880033939, 'alpha': 2.271009738411898, 'colsample_bytree': 0.45301022185666184, 'subsample': 0.7333051166305934, 'learning_rate': 0.01629540434253083, 'n_estimators': 1028, 'max_depth': 9, 'min_child_weight': 8, 'num_parallel_tree': 1}. Best is trial 173 with value: 0.09909467168372289.\u001b[0m\n",
      "\u001b[32m[I 2023-06-06 08:18:01,160]\u001b[0m Trial 301 finished with value: 0.13796232578155834 and parameters: {'lambda': 4.118277751272671, 'alpha': 2.59383493503335, 'colsample_bytree': 0.297997166349747, 'subsample': 0.748675023689138, 'learning_rate': 0.02078344447167713, 'n_estimators': 895, 'max_depth': 9, 'min_child_weight': 8, 'num_parallel_tree': 1}. Best is trial 173 with value: 0.09909467168372289.\u001b[0m\n",
      "\u001b[32m[I 2023-06-06 08:18:04,121]\u001b[0m Trial 302 finished with value: 0.12226779352622182 and parameters: {'lambda': 1.8634710704834145, 'alpha': 2.823588583527451, 'colsample_bytree': 0.387261587960303, 'subsample': 0.6703317706424531, 'learning_rate': 0.02365329758571641, 'n_estimators': 1100, 'max_depth': 9, 'min_child_weight': 8, 'num_parallel_tree': 1}. Best is trial 173 with value: 0.09909467168372289.\u001b[0m\n",
      "\u001b[32m[I 2023-06-06 08:18:07,588]\u001b[0m Trial 303 finished with value: 0.12052370646325114 and parameters: {'lambda': 3.5950974764965835, 'alpha': 4.017277004722867, 'colsample_bytree': 0.35505032151452687, 'subsample': 0.4658311304803695, 'learning_rate': 0.025750957159972315, 'n_estimators': 1515, 'max_depth': 7, 'min_child_weight': 9, 'num_parallel_tree': 1}. Best is trial 173 with value: 0.09909467168372289.\u001b[0m\n",
      "\u001b[32m[I 2023-06-06 08:18:10,677]\u001b[0m Trial 304 finished with value: 0.11283875538940687 and parameters: {'lambda': 3.8506690671238837, 'alpha': 0.4895057058665076, 'colsample_bytree': 0.47823150238301043, 'subsample': 0.6788192269136978, 'learning_rate': 0.01354982155420155, 'n_estimators': 1226, 'max_depth': 3, 'min_child_weight': 6, 'num_parallel_tree': 1}. Best is trial 173 with value: 0.09909467168372289.\u001b[0m\n",
      "\u001b[32m[I 2023-06-06 08:18:14,504]\u001b[0m Trial 305 finished with value: 0.12134629078104595 and parameters: {'lambda': 1.0268295616154046, 'alpha': 3.8210370795802726, 'colsample_bytree': 0.3454630119738376, 'subsample': 0.8260834703080402, 'learning_rate': 0.03849878684473202, 'n_estimators': 1429, 'max_depth': 9, 'min_child_weight': 6, 'num_parallel_tree': 1}. Best is trial 173 with value: 0.09909467168372289.\u001b[0m\n",
      "\u001b[32m[I 2023-06-06 08:18:17,599]\u001b[0m Trial 306 finished with value: 0.1340650263568301 and parameters: {'lambda': 1.6436058303102452, 'alpha': 4.555195851582692, 'colsample_bytree': 0.4324938083859456, 'subsample': 0.8950144959446863, 'learning_rate': 0.0217474358592369, 'n_estimators': 1158, 'max_depth': 2, 'min_child_weight': 5, 'num_parallel_tree': 1}. Best is trial 173 with value: 0.09909467168372289.\u001b[0m\n",
      "\u001b[32m[I 2023-06-06 08:18:20,743]\u001b[0m Trial 307 finished with value: 0.13369328676865866 and parameters: {'lambda': 3.7328673336942595, 'alpha': 1.6469818005867385, 'colsample_bytree': 0.37167160989778925, 'subsample': 0.6624030856607824, 'learning_rate': 0.027336660871269545, 'n_estimators': 987, 'max_depth': 6, 'min_child_weight': 6, 'num_parallel_tree': 1}. Best is trial 173 with value: 0.09909467168372289.\u001b[0m\n",
      "\u001b[32m[I 2023-06-06 08:18:23,674]\u001b[0m Trial 308 finished with value: 0.12429680516456577 and parameters: {'lambda': 1.3823515931444226, 'alpha': 3.3356189231640867, 'colsample_bytree': 0.5438877379100482, 'subsample': 0.7862729961603582, 'learning_rate': 0.04191781052888521, 'n_estimators': 928, 'max_depth': 8, 'min_child_weight': 9, 'num_parallel_tree': 1}. Best is trial 173 with value: 0.09909467168372289.\u001b[0m\n",
      "\u001b[32m[I 2023-06-06 08:18:28,777]\u001b[0m Trial 309 finished with value: 0.11874923978945476 and parameters: {'lambda': 2.3718009654217007, 'alpha': 1.12131986659672, 'colsample_bytree': 0.39456017044780534, 'subsample': 0.6984892703093307, 'learning_rate': 0.03523651205589241, 'n_estimators': 1637, 'max_depth': 6, 'min_child_weight': 5, 'num_parallel_tree': 1}. Best is trial 173 with value: 0.09909467168372289.\u001b[0m\n",
      "\u001b[32m[I 2023-06-06 08:18:33,064]\u001b[0m Trial 310 finished with value: 0.1763139526719495 and parameters: {'lambda': 2.0458286530588263, 'alpha': 9.923838483006255, 'colsample_bytree': 0.8864889830145739, 'subsample': 0.6232249479947878, 'learning_rate': 0.024762691452184838, 'n_estimators': 1553, 'max_depth': 6, 'min_child_weight': 6, 'num_parallel_tree': 1}. Best is trial 173 with value: 0.09909467168372289.\u001b[0m\n",
      "\u001b[32m[I 2023-06-06 08:18:41,003]\u001b[0m Trial 311 finished with value: 0.12543138422413988 and parameters: {'lambda': 0.5568476898968373, 'alpha': 2.2348185035152923, 'colsample_bytree': 0.4102626549914559, 'subsample': 0.5934787104683932, 'learning_rate': 0.044934175299640305, 'n_estimators': 2757, 'max_depth': 6, 'min_child_weight': 5, 'num_parallel_tree': 1}. Best is trial 173 with value: 0.09909467168372289.\u001b[0m\n",
      "\u001b[32m[I 2023-06-06 08:18:44,579]\u001b[0m Trial 312 finished with value: 0.1351677619864346 and parameters: {'lambda': 3.949335743759601, 'alpha': 1.9001719225970946, 'colsample_bytree': 0.5267905952521778, 'subsample': 0.7071146166624241, 'learning_rate': 0.029565003073536187, 'n_estimators': 1068, 'max_depth': 5, 'min_child_weight': 6, 'num_parallel_tree': 1}. Best is trial 173 with value: 0.09909467168372289.\u001b[0m\n",
      "\u001b[32m[I 2023-06-06 08:18:48,802]\u001b[0m Trial 313 finished with value: 0.12079662324889881 and parameters: {'lambda': 2.2461821777344353, 'alpha': 3.5578641020668336, 'colsample_bytree': 0.32771271247735023, 'subsample': 0.6866887899534316, 'learning_rate': 0.05418170925064071, 'n_estimators': 1463, 'max_depth': 9, 'min_child_weight': 6, 'num_parallel_tree': 1}. Best is trial 173 with value: 0.09909467168372289.\u001b[0m\n",
      "\u001b[32m[I 2023-06-06 08:18:54,245]\u001b[0m Trial 314 finished with value: 0.13151351938801575 and parameters: {'lambda': 3.4959608112746694, 'alpha': 1.0164452547766698, 'colsample_bytree': 0.3761824893300077, 'subsample': 0.5397019344295757, 'learning_rate': 0.03303098868710111, 'n_estimators': 1697, 'max_depth': 6, 'min_child_weight': 5, 'num_parallel_tree': 1}. Best is trial 173 with value: 0.09909467168372289.\u001b[0m\n",
      "\u001b[32m[I 2023-06-06 08:18:58,237]\u001b[0m Trial 315 finished with value: 0.12157637538559093 and parameters: {'lambda': 2.473646272849152, 'alpha': 3.0666658003959615, 'colsample_bytree': 0.46264248614950554, 'subsample': 0.43667738392754335, 'learning_rate': 0.04837626275486302, 'n_estimators': 1572, 'max_depth': 4, 'min_child_weight': 6, 'num_parallel_tree': 1}. Best is trial 173 with value: 0.09909467168372289.\u001b[0m\n",
      "\u001b[32m[I 2023-06-06 08:19:01,467]\u001b[0m Trial 316 finished with value: 0.13595095482968408 and parameters: {'lambda': 2.7521399345167747, 'alpha': 2.5632660527855986, 'colsample_bytree': 0.3544175809141217, 'subsample': 0.3328004760788523, 'learning_rate': 0.03718074539628546, 'n_estimators': 1338, 'max_depth': 6, 'min_child_weight': 8, 'num_parallel_tree': 1}. Best is trial 173 with value: 0.09909467168372289.\u001b[0m\n",
      "\u001b[32m[I 2023-06-06 08:19:07,028]\u001b[0m Trial 317 finished with value: 0.13144194266662945 and parameters: {'lambda': 1.2197262829563826, 'alpha': 0.31914140436959326, 'colsample_bytree': 0.31024093037256883, 'subsample': 0.6530737248852198, 'learning_rate': 0.0403965218795981, 'n_estimators': 1752, 'max_depth': 7, 'min_child_weight': 5, 'num_parallel_tree': 1}. Best is trial 173 with value: 0.09909467168372289.\u001b[0m\n",
      "\u001b[32m[I 2023-06-06 08:19:09,011]\u001b[0m Trial 318 finished with value: 0.14340285982581277 and parameters: {'lambda': 3.0849156247751393, 'alpha': 0.7498345627580423, 'colsample_bytree': 0.4413082564839725, 'subsample': 0.5103631211455528, 'learning_rate': 0.019500747085989867, 'n_estimators': 862, 'max_depth': 2, 'min_child_weight': 7, 'num_parallel_tree': 1}. Best is trial 173 with value: 0.09909467168372289.\u001b[0m\n",
      "\u001b[32m[I 2023-06-06 08:19:12,224]\u001b[0m Trial 319 finished with value: 0.11102460050217317 and parameters: {'lambda': 4.548053715670474, 'alpha': 1.255882346571243, 'colsample_bytree': 0.39489450796606895, 'subsample': 0.6157098174487367, 'learning_rate': 0.08174807818673946, 'n_estimators': 1143, 'max_depth': 6, 'min_child_weight': 6, 'num_parallel_tree': 1}. Best is trial 173 with value: 0.09909467168372289.\u001b[0m\n"
     ]
    },
    {
     "name": "stderr",
     "output_type": "stream",
     "text": [
      "\u001b[32m[I 2023-06-06 08:19:15,817]\u001b[0m Trial 320 finished with value: 0.12491694035669698 and parameters: {'lambda': 4.564912212702799, 'alpha': 1.3674533372485929, 'colsample_bytree': 0.39115145310019594, 'subsample': 0.7611331733056556, 'learning_rate': 0.07186238169990611, 'n_estimators': 1128, 'max_depth': 10, 'min_child_weight': 6, 'num_parallel_tree': 1}. Best is trial 173 with value: 0.09909467168372289.\u001b[0m\n",
      "\u001b[32m[I 2023-06-06 08:19:19,661]\u001b[0m Trial 321 finished with value: 0.12487900134366668 and parameters: {'lambda': 1.7929193397431376, 'alpha': 1.2177594161291287, 'colsample_bytree': 0.3710867199555946, 'subsample': 0.6251186533533711, 'learning_rate': 0.06361471378694897, 'n_estimators': 1206, 'max_depth': 6, 'min_child_weight': 6, 'num_parallel_tree': 1}. Best is trial 173 with value: 0.09909467168372289.\u001b[0m\n",
      "\u001b[32m[I 2023-06-06 08:19:22,593]\u001b[0m Trial 322 finished with value: 0.1370387458525613 and parameters: {'lambda': 4.492073467390426, 'alpha': 1.6058984272471029, 'colsample_bytree': 0.4030885725800982, 'subsample': 0.6095988888640601, 'learning_rate': 0.08349231220031572, 'n_estimators': 1002, 'max_depth': 3, 'min_child_weight': 6, 'num_parallel_tree': 1}. Best is trial 173 with value: 0.09909467168372289.\u001b[0m\n",
      "\u001b[32m[I 2023-06-06 08:19:25,900]\u001b[0m Trial 323 finished with value: 0.11485445402111377 and parameters: {'lambda': 4.1035389234683, 'alpha': 1.4143542893612089, 'colsample_bytree': 0.3376838158445129, 'subsample': 0.642664407374419, 'learning_rate': 0.09630017767861832, 'n_estimators': 1111, 'max_depth': 6, 'min_child_weight': 6, 'num_parallel_tree': 1}. Best is trial 173 with value: 0.09909467168372289.\u001b[0m\n",
      "\u001b[32m[I 2023-06-06 08:19:29,450]\u001b[0m Trial 324 finished with value: 0.12844845872047456 and parameters: {'lambda': 1.5628768276142049, 'alpha': 2.407097871574468, 'colsample_bytree': 0.42033968948207273, 'subsample': 0.6102556603133079, 'learning_rate': 0.06447401517359846, 'n_estimators': 1268, 'max_depth': 6, 'min_child_weight': 6, 'num_parallel_tree': 1}. Best is trial 173 with value: 0.09909467168372289.\u001b[0m\n",
      "\u001b[32m[I 2023-06-06 08:19:31,811]\u001b[0m Trial 325 finished with value: 0.16331185983860647 and parameters: {'lambda': 4.292883279736874, 'alpha': 6.923619272439524, 'colsample_bytree': 0.380800150307888, 'subsample': 0.49606009517214067, 'learning_rate': 0.0905144701583351, 'n_estimators': 1029, 'max_depth': 9, 'min_child_weight': 6, 'num_parallel_tree': 1}. Best is trial 173 with value: 0.09909467168372289.\u001b[0m\n",
      "\u001b[32m[I 2023-06-06 08:19:35,040]\u001b[0m Trial 326 finished with value: 0.12791941236965512 and parameters: {'lambda': 3.889843064637021, 'alpha': 1.997022192554533, 'colsample_bytree': 0.3566902154896197, 'subsample': 0.7282761016920655, 'learning_rate': 0.06145877105576999, 'n_estimators': 1170, 'max_depth': 6, 'min_child_weight': 5, 'num_parallel_tree': 1}. Best is trial 173 with value: 0.09909467168372289.\u001b[0m\n",
      "\u001b[32m[I 2023-06-06 08:19:39,514]\u001b[0m Trial 327 finished with value: 0.12491699924685458 and parameters: {'lambda': 4.3346678023062015, 'alpha': 0.978054133991785, 'colsample_bytree': 0.288441983441053, 'subsample': 0.5902475798945477, 'learning_rate': 0.022221590621113098, 'n_estimators': 1373, 'max_depth': 6, 'min_child_weight': 6, 'num_parallel_tree': 1}. Best is trial 173 with value: 0.09909467168372289.\u001b[0m\n",
      "\u001b[32m[I 2023-06-06 08:19:43,564]\u001b[0m Trial 328 finished with value: 0.12662397284965493 and parameters: {'lambda': 2.016426070666998, 'alpha': 2.8151403877385697, 'colsample_bytree': 0.40059452892417213, 'subsample': 0.6292553514344122, 'learning_rate': 0.053787068596314075, 'n_estimators': 1527, 'max_depth': 6, 'min_child_weight': 7, 'num_parallel_tree': 1}. Best is trial 173 with value: 0.09909467168372289.\u001b[0m\n",
      "\u001b[32m[I 2023-06-06 08:19:47,307]\u001b[0m Trial 329 finished with value: 0.1365384971684837 and parameters: {'lambda': 3.9897010040987575, 'alpha': 1.2245367680568862, 'colsample_bytree': 0.3478006267504771, 'subsample': 0.8455136323923268, 'learning_rate': 0.043557945037131084, 'n_estimators': 1603, 'max_depth': 2, 'min_child_weight': 5, 'num_parallel_tree': 1}. Best is trial 173 with value: 0.09909467168372289.\u001b[0m\n",
      "\u001b[32m[I 2023-06-06 08:19:49,313]\u001b[0m Trial 330 finished with value: 0.14459750675172028 and parameters: {'lambda': 0.8155173480898462, 'alpha': 1.8062793945036137, 'colsample_bytree': 0.3193072658004881, 'subsample': 0.759100629678852, 'learning_rate': 0.08056482357889286, 'n_estimators': 719, 'max_depth': 6, 'min_child_weight': 7, 'num_parallel_tree': 1}. Best is trial 173 with value: 0.09909467168372289.\u001b[0m\n",
      "\u001b[32m[I 2023-06-06 08:19:52,418]\u001b[0m Trial 331 finished with value: 0.10732267187637314 and parameters: {'lambda': 1.0471671982361415, 'alpha': 3.1803750094661556, 'colsample_bytree': 0.3697052750638645, 'subsample': 0.6645350082401955, 'learning_rate': 0.017364760324973142, 'n_estimators': 1063, 'max_depth': 6, 'min_child_weight': 6, 'num_parallel_tree': 1}. Best is trial 173 with value: 0.09909467168372289.\u001b[0m\n",
      "\u001b[32m[I 2023-06-06 08:20:00,576]\u001b[0m Trial 332 finished with value: 0.12612335484922396 and parameters: {'lambda': 1.148662432453327, 'alpha': 3.374513389742221, 'colsample_bytree': 0.3644849969168662, 'subsample': 0.6738817594355582, 'learning_rate': 0.017374690393093806, 'n_estimators': 2976, 'max_depth': 9, 'min_child_weight': 6, 'num_parallel_tree': 1}. Best is trial 173 with value: 0.09909467168372289.\u001b[0m\n",
      "\u001b[32m[I 2023-06-06 08:20:03,299]\u001b[0m Trial 333 finished with value: 0.1261448275728145 and parameters: {'lambda': 4.630570358305394, 'alpha': 3.167454379285838, 'colsample_bytree': 0.5108702515202495, 'subsample': 0.7707720581108429, 'learning_rate': 0.05072199685373765, 'n_estimators': 1042, 'max_depth': 6, 'min_child_weight': 6, 'num_parallel_tree': 1}. Best is trial 173 with value: 0.09909467168372289.\u001b[0m\n",
      "\u001b[32m[I 2023-06-06 08:20:05,820]\u001b[0m Trial 334 finished with value: 0.14133413813744514 and parameters: {'lambda': 4.820348184732898, 'alpha': 3.6301768166363226, 'colsample_bytree': 0.3381768605547875, 'subsample': 0.6613538361795015, 'learning_rate': 0.016424149402605878, 'n_estimators': 958, 'max_depth': 7, 'min_child_weight': 6, 'num_parallel_tree': 1}. Best is trial 173 with value: 0.09909467168372289.\u001b[0m\n",
      "\u001b[32m[I 2023-06-06 08:20:09,143]\u001b[0m Trial 335 finished with value: 0.1301521579079467 and parameters: {'lambda': 0.9832330686948815, 'alpha': 3.001320205399556, 'colsample_bytree': 0.3758036659831784, 'subsample': 0.6010708071728844, 'learning_rate': 0.011102427794666022, 'n_estimators': 1095, 'max_depth': 6, 'min_child_weight': 6, 'num_parallel_tree': 1}. Best is trial 173 with value: 0.09909467168372289.\u001b[0m\n",
      "\u001b[32m[I 2023-06-06 08:20:12,105]\u001b[0m Trial 336 finished with value: 0.1300217376949735 and parameters: {'lambda': 1.315020036498619, 'alpha': 2.7598210550465114, 'colsample_bytree': 0.1384327144068519, 'subsample': 0.44769505717252256, 'learning_rate': 0.0672396058142786, 'n_estimators': 1167, 'max_depth': 6, 'min_child_weight': 6, 'num_parallel_tree': 1}. Best is trial 173 with value: 0.09909467168372289.\u001b[0m\n",
      "\u001b[32m[I 2023-06-06 08:20:15,113]\u001b[0m Trial 337 finished with value: 0.12698070979919718 and parameters: {'lambda': 0.856160618940552, 'alpha': 3.372485999511161, 'colsample_bytree': 0.3591864883060805, 'subsample': 0.6935422911795763, 'learning_rate': 0.09206864867829424, 'n_estimators': 1087, 'max_depth': 8, 'min_child_weight': 6, 'num_parallel_tree': 1}. Best is trial 173 with value: 0.09909467168372289.\u001b[0m\n",
      "\u001b[32m[I 2023-06-06 08:20:18,153]\u001b[0m Trial 338 finished with value: 0.1317467081346949 and parameters: {'lambda': 1.4690149541803854, 'alpha': 3.934385166543481, 'colsample_bytree': 0.23672806541465424, 'subsample': 0.581148038198288, 'learning_rate': 0.018560302055606173, 'n_estimators': 1220, 'max_depth': 3, 'min_child_weight': 7, 'num_parallel_tree': 1}. Best is trial 173 with value: 0.09909467168372289.\u001b[0m\n",
      "\u001b[32m[I 2023-06-06 08:20:21,052]\u001b[0m Trial 339 finished with value: 0.1209303711582681 and parameters: {'lambda': 4.837700591939724, 'alpha': 2.1826977791819964, 'colsample_bytree': 0.424092496123449, 'subsample': 0.6433744103930187, 'learning_rate': 0.07024771234654384, 'n_estimators': 1000, 'max_depth': 6, 'min_child_weight': 6, 'num_parallel_tree': 1}. Best is trial 173 with value: 0.09909467168372289.\u001b[0m\n"
     ]
    },
    {
     "name": "stderr",
     "output_type": "stream",
     "text": [
      "\u001b[32m[I 2023-06-06 08:20:24,249]\u001b[0m Trial 340 finished with value: 0.1333443720444566 and parameters: {'lambda': 2.9392721418085053, 'alpha': 3.186792536642078, 'colsample_bytree': 0.33112478954315366, 'subsample': 0.4807761162646593, 'learning_rate': 0.07589049255008996, 'n_estimators': 1273, 'max_depth': 2, 'min_child_weight': 7, 'num_parallel_tree': 1}. Best is trial 173 with value: 0.09909467168372289.\u001b[0m\n",
      "\u001b[32m[I 2023-06-06 08:20:27,115]\u001b[0m Trial 341 finished with value: 0.1308872281230049 and parameters: {'lambda': 0.6549459274833788, 'alpha': 2.4905172324721336, 'colsample_bytree': 0.2990257981949679, 'subsample': 0.5256968185727889, 'learning_rate': 0.02325133363125539, 'n_estimators': 928, 'max_depth': 6, 'min_child_weight': 6, 'num_parallel_tree': 1}. Best is trial 173 with value: 0.09909467168372289.\u001b[0m\n",
      "\u001b[32m[I 2023-06-06 08:20:34,408]\u001b[0m Trial 342 finished with value: 0.13870244589162126 and parameters: {'lambda': 2.6595401036595163, 'alpha': 2.9753820339130277, 'colsample_bytree': 0.38338458976594486, 'subsample': 0.7190504155941596, 'learning_rate': 0.02017319767316298, 'n_estimators': 2611, 'max_depth': 9, 'min_child_weight': 6, 'num_parallel_tree': 1}. Best is trial 173 with value: 0.09909467168372289.\u001b[0m\n",
      "\u001b[32m[I 2023-06-06 08:20:37,530]\u001b[0m Trial 343 finished with value: 0.1446519745741075 and parameters: {'lambda': 4.710185340222071, 'alpha': 4.140546937990607, 'colsample_bytree': 0.40940542947791697, 'subsample': 0.6129292550675134, 'learning_rate': 0.01570664221033165, 'n_estimators': 1126, 'max_depth': 6, 'min_child_weight': 6, 'num_parallel_tree': 1}. Best is trial 173 with value: 0.09909467168372289.\u001b[0m\n",
      "\u001b[32m[I 2023-06-06 08:20:40,959]\u001b[0m Trial 344 finished with value: 0.11877146698312904 and parameters: {'lambda': 5.199814744077152, 'alpha': 0.8426826153933498, 'colsample_bytree': 0.19386532948980012, 'subsample': 0.590112239680281, 'learning_rate': 0.08554736721312373, 'n_estimators': 1062, 'max_depth': 6, 'min_child_weight': 6, 'num_parallel_tree': 1}. Best is trial 173 with value: 0.09909467168372289.\u001b[0m\n",
      "\u001b[32m[I 2023-06-06 08:20:45,384]\u001b[0m Trial 345 finished with value: 0.1392031767661462 and parameters: {'lambda': 4.388509534467328, 'alpha': 2.6810928587030545, 'colsample_bytree': 0.26125038500591474, 'subsample': 0.5564224345984745, 'learning_rate': 0.09917173910232799, 'n_estimators': 1685, 'max_depth': 6, 'min_child_weight': 7, 'num_parallel_tree': 1}. Best is trial 173 with value: 0.09909467168372289.\u001b[0m\n",
      "\u001b[32m[I 2023-06-06 08:20:47,921]\u001b[0m Trial 346 finished with value: 0.12106538593958568 and parameters: {'lambda': 1.104521532964515, 'alpha': 1.6762598001853037, 'colsample_bytree': 0.4971486479748159, 'subsample': 0.45779986926194677, 'learning_rate': 0.026437596605138017, 'n_estimators': 824, 'max_depth': 5, 'min_child_weight': 6, 'num_parallel_tree': 1}. Best is trial 173 with value: 0.09909467168372289.\u001b[0m\n",
      "\u001b[32m[I 2023-06-06 08:20:52,900]\u001b[0m Trial 347 finished with value: 0.11184963461936845 and parameters: {'lambda': 1.7374134774422227, 'alpha': 2.0444920448780097, 'colsample_bytree': 0.3464575336979881, 'subsample': 0.7249769713762064, 'learning_rate': 0.04744497514369081, 'n_estimators': 1641, 'max_depth': 6, 'min_child_weight': 7, 'num_parallel_tree': 1}. Best is trial 173 with value: 0.09909467168372289.\u001b[0m\n",
      "\u001b[32m[I 2023-06-06 08:20:58,965]\u001b[0m Trial 348 finished with value: 0.1187129765582228 and parameters: {'lambda': 2.199719526367114, 'alpha': 2.3137619316264253, 'colsample_bytree': 0.368799690811887, 'subsample': 0.6490025852588885, 'learning_rate': 0.028394329465886676, 'n_estimators': 2296, 'max_depth': 4, 'min_child_weight': 6, 'num_parallel_tree': 1}. Best is trial 173 with value: 0.09909467168372289.\u001b[0m\n",
      "\u001b[32m[I 2023-06-06 08:21:05,176]\u001b[0m Trial 349 finished with value: 0.12572847677178955 and parameters: {'lambda': 3.241577482173424, 'alpha': 0.9849892823407824, 'colsample_bytree': 0.31843676459887144, 'subsample': 0.5692380543647062, 'learning_rate': 0.08827226392097151, 'n_estimators': 2492, 'max_depth': 6, 'min_child_weight': 8, 'num_parallel_tree': 1}. Best is trial 173 with value: 0.09909467168372289.\u001b[0m\n",
      "\u001b[32m[I 2023-06-06 08:21:09,693]\u001b[0m Trial 350 finished with value: 0.12861794886281508 and parameters: {'lambda': 1.8961480454748476, 'alpha': 1.1703884206226307, 'colsample_bytree': 0.3942715526136765, 'subsample': 0.7039137772747096, 'learning_rate': 0.024537546391282177, 'n_estimators': 1322, 'max_depth': 9, 'min_child_weight': 5, 'num_parallel_tree': 1}. Best is trial 173 with value: 0.09909467168372289.\u001b[0m\n",
      "\u001b[32m[I 2023-06-06 08:21:12,983]\u001b[0m Trial 351 finished with value: 0.13879853245770316 and parameters: {'lambda': 2.550402741221709, 'alpha': 1.493366741334479, 'colsample_bytree': 0.426766290435236, 'subsample': 0.4239726016158492, 'learning_rate': 0.04136229637067474, 'n_estimators': 968, 'max_depth': 7, 'min_child_weight': 6, 'num_parallel_tree': 1}. Best is trial 173 with value: 0.09909467168372289.\u001b[0m\n",
      "\u001b[32m[I 2023-06-06 08:21:16,826]\u001b[0m Trial 352 finished with value: 0.12513441882969767 and parameters: {'lambda': 5.465403525148284, 'alpha': 4.476524973934572, 'colsample_bytree': 0.5559561997745273, 'subsample': 0.6158553620001397, 'learning_rate': 0.021623685813389578, 'n_estimators': 1232, 'max_depth': 10, 'min_child_weight': 3, 'num_parallel_tree': 1}. Best is trial 173 with value: 0.09909467168372289.\u001b[0m\n",
      "\u001b[32m[I 2023-06-06 08:21:20,116]\u001b[0m Trial 353 finished with value: 0.13978383078087964 and parameters: {'lambda': 0.25367774221581185, 'alpha': 3.560382905189513, 'colsample_bytree': 0.3612705239324314, 'subsample': 0.733670807459008, 'learning_rate': 0.09457418983621187, 'n_estimators': 1424, 'max_depth': 2, 'min_child_weight': 7, 'num_parallel_tree': 1}. Best is trial 173 with value: 0.09909467168372289.\u001b[0m\n",
      "\u001b[32m[I 2023-06-06 08:21:23,250]\u001b[0m Trial 354 finished with value: 0.13370579665633286 and parameters: {'lambda': 2.796119247014482, 'alpha': 2.909396804534755, 'colsample_bytree': 0.45689139507193666, 'subsample': 0.545362923810537, 'learning_rate': 0.05194361419747365, 'n_estimators': 1117, 'max_depth': 6, 'min_child_weight': 9, 'num_parallel_tree': 1}. Best is trial 173 with value: 0.09909467168372289.\u001b[0m\n",
      "\u001b[32m[I 2023-06-06 08:21:25,567]\u001b[0m Trial 355 finished with value: 0.1442965386650811 and parameters: {'lambda': 1.3092707883482197, 'alpha': 8.667306412972298, 'colsample_bytree': 0.40891141476781306, 'subsample': 0.7426943280973721, 'learning_rate': 0.038440987479926705, 'n_estimators': 899, 'max_depth': 6, 'min_child_weight': 6, 'num_parallel_tree': 1}. Best is trial 173 with value: 0.09909467168372289.\u001b[0m\n",
      "\u001b[32m[I 2023-06-06 08:21:28,600]\u001b[0m Trial 356 finished with value: 0.13222226504207213 and parameters: {'lambda': 2.0483820815950264, 'alpha': 0.7219375384660065, 'colsample_bytree': 0.34278139808966746, 'subsample': 0.6337312141149393, 'learning_rate': 0.056352115640895296, 'n_estimators': 1065, 'max_depth': 3, 'min_child_weight': 5, 'num_parallel_tree': 1}. Best is trial 173 with value: 0.09909467168372289.\u001b[0m\n",
      "\u001b[32m[I 2023-06-06 08:21:32,633]\u001b[0m Trial 357 finished with value: 0.13762675693140192 and parameters: {'lambda': 1.5746724393494247, 'alpha': 1.8397777955393608, 'colsample_bytree': 0.5749264249848776, 'subsample': 0.59792754366826, 'learning_rate': 0.029781028684772892, 'n_estimators': 1188, 'max_depth': 6, 'min_child_weight': 6, 'num_parallel_tree': 1}. Best is trial 173 with value: 0.09909467168372289.\u001b[0m\n",
      "\u001b[32m[I 2023-06-06 08:21:36,398]\u001b[0m Trial 358 finished with value: 0.14716592596568684 and parameters: {'lambda': 3.460664286652263, 'alpha': 6.182734873524835, 'colsample_bytree': 0.38135837946233786, 'subsample': 0.7759865038233283, 'learning_rate': 0.0904372442471329, 'n_estimators': 1580, 'max_depth': 6, 'min_child_weight': 5, 'num_parallel_tree': 1}. Best is trial 173 with value: 0.09909467168372289.\u001b[0m\n",
      "\u001b[32m[I 2023-06-06 08:21:40,149]\u001b[0m Trial 359 finished with value: 0.13017150548981107 and parameters: {'lambda': 0.9480285499678904, 'alpha': 5.087948686243748, 'colsample_bytree': 0.43714880738992934, 'subsample': 0.502539275742807, 'learning_rate': 0.02565287857322929, 'n_estimators': 1467, 'max_depth': 9, 'min_child_weight': 6, 'num_parallel_tree': 1}. Best is trial 173 with value: 0.09909467168372289.\u001b[0m\n"
     ]
    },
    {
     "name": "stderr",
     "output_type": "stream",
     "text": [
      "\u001b[32m[I 2023-06-06 08:21:44,588]\u001b[0m Trial 360 finished with value: 0.11874847294840078 and parameters: {'lambda': 2.496400927942352, 'alpha': 3.177401717159439, 'colsample_bytree': 0.4748392221281564, 'subsample': 0.5792619438199818, 'learning_rate': 0.045801350892240335, 'n_estimators': 1650, 'max_depth': 6, 'min_child_weight': 5, 'num_parallel_tree': 1}. Best is trial 173 with value: 0.09909467168372289.\u001b[0m\n",
      "\u001b[32m[I 2023-06-06 08:21:49,141]\u001b[0m Trial 361 finished with value: 0.1274925044585784 and parameters: {'lambda': 4.303243163631731, 'alpha': 2.6441128063820534, 'colsample_bytree': 0.32853597836751786, 'subsample': 0.5316984728049798, 'learning_rate': 0.06148040370172855, 'n_estimators': 1785, 'max_depth': 6, 'min_child_weight': 6, 'num_parallel_tree': 1}. Best is trial 173 with value: 0.09909467168372289.\u001b[0m\n",
      "\u001b[32m[I 2023-06-06 08:21:52,079]\u001b[0m Trial 362 finished with value: 0.10838545194902405 and parameters: {'lambda': 2.195733970559657, 'alpha': 0.9980364238169557, 'colsample_bytree': 0.3997730423979304, 'subsample': 0.4819111580300954, 'learning_rate': 0.049271011970799625, 'n_estimators': 1026, 'max_depth': 6, 'min_child_weight': 1, 'num_parallel_tree': 1}. Best is trial 173 with value: 0.09909467168372289.\u001b[0m\n",
      "\u001b[32m[I 2023-06-06 08:21:56,017]\u001b[0m Trial 363 finished with value: 0.1399397475386855 and parameters: {'lambda': 2.1429730126405633, 'alpha': 1.0058156252719783, 'colsample_bytree': 0.5964583692640004, 'subsample': 0.48323266616451827, 'learning_rate': 0.057393846045750915, 'n_estimators': 1702, 'max_depth': 2, 'min_child_weight': 1, 'num_parallel_tree': 1}. Best is trial 173 with value: 0.09909467168372289.\u001b[0m\n",
      "\u001b[32m[I 2023-06-06 08:21:59,561]\u001b[0m Trial 364 finished with value: 0.12214597291383668 and parameters: {'lambda': 2.2403198109990052, 'alpha': 0.7157602802556053, 'colsample_bytree': 0.4164911179672169, 'subsample': 0.46610703202218884, 'learning_rate': 0.048728241030529675, 'n_estimators': 1171, 'max_depth': 6, 'min_child_weight': 1, 'num_parallel_tree': 1}. Best is trial 173 with value: 0.09909467168372289.\u001b[0m\n",
      "\u001b[32m[I 2023-06-06 08:22:03,939]\u001b[0m Trial 365 finished with value: 0.13450670581525676 and parameters: {'lambda': 1.8277177695489673, 'alpha': 1.1660892361977024, 'colsample_bytree': 0.6563275051308882, 'subsample': 0.49202999482733534, 'learning_rate': 0.04311411303150668, 'n_estimators': 1415, 'max_depth': 6, 'min_child_weight': 5, 'num_parallel_tree': 1}. Best is trial 173 with value: 0.09909467168372289.\u001b[0m\n",
      "\u001b[32m[I 2023-06-06 08:22:06,682]\u001b[0m Trial 366 finished with value: 0.10397851403722042 and parameters: {'lambda': 2.421147137220528, 'alpha': 1.4381289409779943, 'colsample_bytree': 0.3977167717090385, 'subsample': 0.5082660146011363, 'learning_rate': 0.04665890441581056, 'n_estimators': 1011, 'max_depth': 6, 'min_child_weight': 2, 'num_parallel_tree': 1}. Best is trial 173 with value: 0.09909467168372289.\u001b[0m\n",
      "\u001b[32m[I 2023-06-06 08:22:09,327]\u001b[0m Trial 367 finished with value: 0.12698058452810976 and parameters: {'lambda': 2.5943244536725256, 'alpha': 1.4850642408651389, 'colsample_bytree': 0.3939162347393809, 'subsample': 0.5126795675468738, 'learning_rate': 0.04518785060678087, 'n_estimators': 977, 'max_depth': 6, 'min_child_weight': 2, 'num_parallel_tree': 1}. Best is trial 173 with value: 0.09909467168372289.\u001b[0m\n",
      "\u001b[32m[I 2023-06-06 08:22:11,705]\u001b[0m Trial 368 finished with value: 0.13297374186446978 and parameters: {'lambda': 3.6968457092388065, 'alpha': 1.2638923271932647, 'colsample_bytree': 0.4079390736049551, 'subsample': 0.47768309716653745, 'learning_rate': 0.048601129608481446, 'n_estimators': 865, 'max_depth': 6, 'min_child_weight': 2, 'num_parallel_tree': 1}. Best is trial 173 with value: 0.09909467168372289.\u001b[0m\n",
      "\u001b[32m[I 2023-06-06 08:22:14,036]\u001b[0m Trial 369 finished with value: 0.15335251967404773 and parameters: {'lambda': 2.90903977848697, 'alpha': 5.847965869064597, 'colsample_bytree': 0.4314435936196475, 'subsample': 0.4987727121762222, 'learning_rate': 0.044889133227809214, 'n_estimators': 1032, 'max_depth': 6, 'min_child_weight': 3, 'num_parallel_tree': 1}. Best is trial 173 with value: 0.09909467168372289.\u001b[0m\n",
      "\u001b[32m[I 2023-06-06 08:22:18,556]\u001b[0m Trial 370 finished with value: 0.12691731534964729 and parameters: {'lambda': 2.4223500368706006, 'alpha': 1.6299755199123858, 'colsample_bytree': 0.39116176152766163, 'subsample': 0.5147939707712502, 'learning_rate': 0.04953487476288956, 'n_estimators': 1510, 'max_depth': 6, 'min_child_weight': 3, 'num_parallel_tree': 1}. Best is trial 173 with value: 0.09909467168372289.\u001b[0m\n",
      "\u001b[32m[I 2023-06-06 08:22:23,613]\u001b[0m Trial 371 finished with value: 0.12229928126685405 and parameters: {'lambda': 2.765752860630213, 'alpha': 1.0823090591549929, 'colsample_bytree': 0.44485587447787656, 'subsample': 0.463370999441758, 'learning_rate': 0.04160072484763907, 'n_estimators': 1634, 'max_depth': 6, 'min_child_weight': 3, 'num_parallel_tree': 1}. Best is trial 173 with value: 0.09909467168372289.\u001b[0m\n",
      "\u001b[32m[I 2023-06-06 08:22:30,071]\u001b[0m Trial 372 finished with value: 0.1273999210225064 and parameters: {'lambda': 4.0244936843676555, 'alpha': 0.8745519710639814, 'colsample_bytree': 0.38405912235638084, 'subsample': 0.6021592483813696, 'learning_rate': 0.04651822801758268, 'n_estimators': 2150, 'max_depth': 6, 'min_child_weight': 1, 'num_parallel_tree': 1}. Best is trial 173 with value: 0.09909467168372289.\u001b[0m\n",
      "\u001b[32m[I 2023-06-06 08:22:37,025]\u001b[0m Trial 373 finished with value: 0.12123413066338457 and parameters: {'lambda': 2.3234386098406774, 'alpha': 1.3168256911009597, 'colsample_bytree': 0.41556098887575477, 'subsample': 0.7937099682874076, 'learning_rate': 0.08067056003018877, 'n_estimators': 2234, 'max_depth': 9, 'min_child_weight': 5, 'num_parallel_tree': 1}. Best is trial 173 with value: 0.09909467168372289.\u001b[0m\n",
      "\u001b[32m[I 2023-06-06 08:22:43,147]\u001b[0m Trial 374 finished with value: 0.13811292575105202 and parameters: {'lambda': 3.072673075838818, 'alpha': 0.469257925919923, 'colsample_bytree': 0.4026337330581976, 'subsample': 0.6802237550113185, 'learning_rate': 0.03965296852285608, 'n_estimators': 1561, 'max_depth': 8, 'min_child_weight': 2, 'num_parallel_tree': 1}. Best is trial 173 with value: 0.09909467168372289.\u001b[0m\n",
      "\u001b[32m[I 2023-06-06 08:22:47,533]\u001b[0m Trial 375 finished with value: 0.12334813957379186 and parameters: {'lambda': 2.0614484139854143, 'alpha': 1.4361173023346807, 'colsample_bytree': 0.37087306284783456, 'subsample': 0.4512161004917054, 'learning_rate': 0.07904643178469162, 'n_estimators': 1361, 'max_depth': 7, 'min_child_weight': 1, 'num_parallel_tree': 1}. Best is trial 173 with value: 0.09909467168372289.\u001b[0m\n",
      "\u001b[32m[I 2023-06-06 08:22:54,858]\u001b[0m Trial 376 finished with value: 0.1303590348062446 and parameters: {'lambda': 2.6332685960067685, 'alpha': 0.904035881469182, 'colsample_bytree': 0.9913425959589536, 'subsample': 0.7516344353885931, 'learning_rate': 0.012959338477099935, 'n_estimators': 1724, 'max_depth': 6, 'min_child_weight': 1, 'num_parallel_tree': 1}. Best is trial 173 with value: 0.09909467168372289.\u001b[0m\n",
      "\u001b[32m[I 2023-06-06 08:22:57,913]\u001b[0m Trial 377 finished with value: 0.1403292670384348 and parameters: {'lambda': 4.986130444873899, 'alpha': 0.6866701989154984, 'colsample_bytree': 0.45448058891253795, 'subsample': 0.48149234048868755, 'learning_rate': 0.07646958442838368, 'n_estimators': 929, 'max_depth': 6, 'min_child_weight': 2, 'num_parallel_tree': 1}. Best is trial 173 with value: 0.09909467168372289.\u001b[0m\n",
      "\u001b[32m[I 2023-06-06 08:23:01,192]\u001b[0m Trial 378 finished with value: 0.1305003263138477 and parameters: {'lambda': 1.4342506382358373, 'alpha': 1.7245438447984431, 'colsample_bytree': 0.4274521031683709, 'subsample': 0.5584759929515235, 'learning_rate': 0.08361735522331569, 'n_estimators': 1038, 'max_depth': 6, 'min_child_weight': 2, 'num_parallel_tree': 1}. Best is trial 173 with value: 0.09909467168372289.\u001b[0m\n",
      "\u001b[32m[I 2023-06-06 08:23:05,239]\u001b[0m Trial 379 finished with value: 0.12485694196581879 and parameters: {'lambda': 9.293776702427335, 'alpha': 1.084744963698027, 'colsample_bytree': 0.4906807862872897, 'subsample': 0.2590347830954036, 'learning_rate': 0.05252978660909274, 'n_estimators': 1477, 'max_depth': 6, 'min_child_weight': 10, 'num_parallel_tree': 1}. Best is trial 173 with value: 0.09909467168372289.\u001b[0m\n"
     ]
    },
    {
     "name": "stderr",
     "output_type": "stream",
     "text": [
      "\u001b[32m[I 2023-06-06 08:23:08,294]\u001b[0m Trial 380 finished with value: 0.12679711600540672 and parameters: {'lambda': 2.4329866181856965, 'alpha': 1.5460344567922584, 'colsample_bytree': 0.3729231025238976, 'subsample': 0.8024265250384129, 'learning_rate': 0.05107810637925528, 'n_estimators': 1284, 'max_depth': 2, 'min_child_weight': 5, 'num_parallel_tree': 1}. Best is trial 173 with value: 0.09909467168372289.\u001b[0m\n",
      "\u001b[32m[I 2023-06-06 08:23:16,723]\u001b[0m Trial 381 finished with value: 0.12386944936507262 and parameters: {'lambda': 1.8887934859477777, 'alpha': 1.307959268642552, 'colsample_bytree': 0.39486493244863247, 'subsample': 0.5832663550876556, 'learning_rate': 0.031562952769683045, 'n_estimators': 2872, 'max_depth': 6, 'min_child_weight': 8, 'num_parallel_tree': 1}. Best is trial 173 with value: 0.09909467168372289.\u001b[0m\n",
      "\u001b[32m[I 2023-06-06 08:23:22,439]\u001b[0m Trial 382 finished with value: 0.11103842068891423 and parameters: {'lambda': 5.47625835023324, 'alpha': 0.8877471406784994, 'colsample_bytree': 0.35694066789620477, 'subsample': 0.6142092024850497, 'learning_rate': 0.04319512723036144, 'n_estimators': 1594, 'max_depth': 9, 'min_child_weight': 5, 'num_parallel_tree': 1}. Best is trial 173 with value: 0.09909467168372289.\u001b[0m\n",
      "\u001b[32m[I 2023-06-06 08:23:25,386]\u001b[0m Trial 383 finished with value: 0.11665182698905195 and parameters: {'lambda': 4.564522676420368, 'alpha': 1.907468258922552, 'colsample_bytree': 0.41718335801195605, 'subsample': 0.5257067247551931, 'learning_rate': 0.03862867072875368, 'n_estimators': 993, 'max_depth': 5, 'min_child_weight': 1, 'num_parallel_tree': 1}. Best is trial 173 with value: 0.09909467168372289.\u001b[0m\n",
      "\u001b[32m[I 2023-06-06 08:23:28,710]\u001b[0m Trial 384 finished with value: 0.12156898191331003 and parameters: {'lambda': 2.766818063482888, 'alpha': 1.1378098742168052, 'colsample_bytree': 0.34825390725922073, 'subsample': 0.50126549585597, 'learning_rate': 0.07409622359878013, 'n_estimators': 1110, 'max_depth': 6, 'min_child_weight': 2, 'num_parallel_tree': 1}. Best is trial 173 with value: 0.09909467168372289.\u001b[0m\n",
      "\u001b[32m[I 2023-06-06 08:23:33,440]\u001b[0m Trial 385 finished with value: 0.12202891883537291 and parameters: {'lambda': 2.2589549957245287, 'alpha': 0.5729522076821659, 'colsample_bytree': 0.46911616743155193, 'subsample': 0.7107118092689494, 'learning_rate': 0.06693848145544953, 'n_estimators': 1542, 'max_depth': 6, 'min_child_weight': 6, 'num_parallel_tree': 1}. Best is trial 173 with value: 0.09909467168372289.\u001b[0m\n",
      "\u001b[32m[I 2023-06-06 08:23:35,012]\u001b[0m Trial 386 finished with value: 0.12302224655153025 and parameters: {'lambda': 1.722851333247742, 'alpha': 0.2967961890453792, 'colsample_bytree': 0.3778455313563858, 'subsample': 0.6648076735984887, 'learning_rate': 0.05535772109927942, 'n_estimators': 528, 'max_depth': 4, 'min_child_weight': 5, 'num_parallel_tree': 1}. Best is trial 173 with value: 0.09909467168372289.\u001b[0m\n",
      "\u001b[32m[I 2023-06-06 08:23:39,314]\u001b[0m Trial 387 finished with value: 0.12728027365614053 and parameters: {'lambda': 7.934641538260651, 'alpha': 1.6673898053604408, 'colsample_bytree': 0.4396647367446825, 'subsample': 0.5695355181413395, 'learning_rate': 0.030705270250151132, 'n_estimators': 1405, 'max_depth': 6, 'min_child_weight': 6, 'num_parallel_tree': 1}. Best is trial 173 with value: 0.09909467168372289.\u001b[0m\n",
      "\u001b[32m[I 2023-06-06 08:23:44,621]\u001b[0m Trial 388 finished with value: 0.1274574007797439 and parameters: {'lambda': 2.956290346256275, 'alpha': 1.3920749463463546, 'colsample_bytree': 0.5306418201863726, 'subsample': 0.9816787681975631, 'learning_rate': 0.07046948239964373, 'n_estimators': 2359, 'max_depth': 6, 'min_child_weight': 6, 'num_parallel_tree': 1}. Best is trial 173 with value: 0.09909467168372289.\u001b[0m\n",
      "\u001b[32m[I 2023-06-06 08:23:50,214]\u001b[0m Trial 389 finished with value: 0.12744733145243972 and parameters: {'lambda': 7.48381648693279, 'alpha': 5.371265625308213, 'colsample_bytree': 0.8064664081114428, 'subsample': 0.6277828961891011, 'learning_rate': 0.03631312820114342, 'n_estimators': 2434, 'max_depth': 7, 'min_child_weight': 5, 'num_parallel_tree': 1}. Best is trial 173 with value: 0.09909467168372289.\u001b[0m\n",
      "\u001b[32m[I 2023-06-06 08:23:57,443]\u001b[0m Trial 390 finished with value: 0.11432451888811412 and parameters: {'lambda': 2.535847796533227, 'alpha': 2.136228747779376, 'colsample_bytree': 0.4007518845351967, 'subsample': 0.5944816129328058, 'learning_rate': 0.047159074579190476, 'n_estimators': 2561, 'max_depth': 10, 'min_child_weight': 1, 'num_parallel_tree': 1}. Best is trial 173 with value: 0.09909467168372289.\u001b[0m\n",
      "\u001b[32m[I 2023-06-06 08:24:00,530]\u001b[0m Trial 391 finished with value: 0.12719257539261034 and parameters: {'lambda': 2.023056867698364, 'alpha': 2.4201812039435486, 'colsample_bytree': 0.38172579968908593, 'subsample': 0.43863507686787323, 'learning_rate': 0.02807036778752628, 'n_estimators': 1158, 'max_depth': 9, 'min_child_weight': 6, 'num_parallel_tree': 1}. Best is trial 173 with value: 0.09909467168372289.\u001b[0m\n",
      "\u001b[32m[I 2023-06-06 08:24:02,515]\u001b[0m Trial 392 finished with value: 0.1384296617100559 and parameters: {'lambda': 3.1610919390502055, 'alpha': 3.859551478672077, 'colsample_bytree': 0.3589477307721928, 'subsample': 0.5453709594307744, 'learning_rate': 0.032671351207465824, 'n_estimators': 789, 'max_depth': 6, 'min_child_weight': 5, 'num_parallel_tree': 1}. Best is trial 173 with value: 0.09909467168372289.\u001b[0m\n",
      "\u001b[32m[I 2023-06-06 08:24:06,298]\u001b[0m Trial 393 finished with value: 0.11577805856698387 and parameters: {'lambda': 1.2107718604025037, 'alpha': 0.9945713299783732, 'colsample_bytree': 0.421047435201255, 'subsample': 0.6879116084193418, 'learning_rate': 0.018673910205819967, 'n_estimators': 1669, 'max_depth': 2, 'min_child_weight': 6, 'num_parallel_tree': 1}. Best is trial 173 with value: 0.09909467168372289.\u001b[0m\n",
      "\u001b[32m[I 2023-06-06 08:24:11,636]\u001b[0m Trial 394 finished with value: 0.12092148198912799 and parameters: {'lambda': 1.6063967460007516, 'alpha': 0.8114664923341184, 'colsample_bytree': 0.40012363408071505, 'subsample': 0.646695142652118, 'learning_rate': 0.040640199699634276, 'n_estimators': 1763, 'max_depth': 6, 'min_child_weight': 5, 'num_parallel_tree': 1}. Best is trial 173 with value: 0.09909467168372289.\u001b[0m\n",
      "\u001b[32m[I 2023-06-06 08:24:15,323]\u001b[0m Trial 395 finished with value: 0.12054841368372159 and parameters: {'lambda': 4.178128592507757, 'alpha': 1.8563725203942236, 'colsample_bytree': 0.4552948285502293, 'subsample': 0.7738078323226572, 'learning_rate': 0.09707694870289493, 'n_estimators': 1334, 'max_depth': 6, 'min_child_weight': 6, 'num_parallel_tree': 1}. Best is trial 173 with value: 0.09909467168372289.\u001b[0m\n",
      "\u001b[32m[I 2023-06-06 08:24:19,088]\u001b[0m Trial 396 finished with value: 0.11596678493858077 and parameters: {'lambda': 2.2750269606036717, 'alpha': 1.1760418953855873, 'colsample_bytree': 0.5468571631535244, 'subsample': 0.37598423867501296, 'learning_rate': 0.078964517768472, 'n_estimators': 1230, 'max_depth': 6, 'min_child_weight': 8, 'num_parallel_tree': 1}. Best is trial 173 with value: 0.09909467168372289.\u001b[0m\n",
      "\u001b[32m[I 2023-06-06 08:24:23,310]\u001b[0m Trial 397 finished with value: 0.11729129607255188 and parameters: {'lambda': 8.462734076610724, 'alpha': 2.7011996624236674, 'colsample_bytree': 0.33989723580001774, 'subsample': 0.8480769808764945, 'learning_rate': 0.08371101600061176, 'n_estimators': 1623, 'max_depth': 6, 'min_child_weight': 6, 'num_parallel_tree': 1}. Best is trial 173 with value: 0.09909467168372289.\u001b[0m\n",
      "\u001b[32m[I 2023-06-06 08:24:27,335]\u001b[0m Trial 398 finished with value: 0.1254835171669961 and parameters: {'lambda': 2.622563862582142, 'alpha': 0.12803033551328769, 'colsample_bytree': 0.3759926034604412, 'subsample': 0.61301344548703, 'learning_rate': 0.034999514433805036, 'n_estimators': 958, 'max_depth': 9, 'min_child_weight': 5, 'num_parallel_tree': 1}. Best is trial 173 with value: 0.09909467168372289.\u001b[0m\n",
      "\u001b[32m[I 2023-06-06 08:24:31,091]\u001b[0m Trial 399 finished with value: 0.12116112257780075 and parameters: {'lambda': 2.435544447226734, 'alpha': 6.486184471586449, 'colsample_bytree': 0.4318752658996318, 'subsample': 0.5829417732688996, 'learning_rate': 0.03776607645735236, 'n_estimators': 1511, 'max_depth': 6, 'min_child_weight': 3, 'num_parallel_tree': 1}. Best is trial 173 with value: 0.09909467168372289.\u001b[0m\n"
     ]
    },
    {
     "name": "stderr",
     "output_type": "stream",
     "text": [
      "\u001b[32m[I 2023-06-06 08:24:34,983]\u001b[0m Trial 400 finished with value: 0.11862547605633297 and parameters: {'lambda': 3.7394605540503068, 'alpha': 0.6359938378511666, 'colsample_bytree': 0.9216709583253304, 'subsample': 0.5292244118161124, 'learning_rate': 0.06807840951460167, 'n_estimators': 1057, 'max_depth': 6, 'min_child_weight': 6, 'num_parallel_tree': 1}. Best is trial 173 with value: 0.09909467168372289.\u001b[0m\n",
      "\u001b[32m[I 2023-06-06 08:24:38,559]\u001b[0m Trial 401 finished with value: 0.12274043742872934 and parameters: {'lambda': 2.1042372644256133, 'alpha': 1.559337482417734, 'colsample_bytree': 0.35279925491074215, 'subsample': 0.47869083409331814, 'learning_rate': 0.04983585578572523, 'n_estimators': 1456, 'max_depth': 2, 'min_child_weight': 5, 'num_parallel_tree': 1}. Best is trial 173 with value: 0.09909467168372289.\u001b[0m\n",
      "\u001b[32m[I 2023-06-06 08:24:42,230]\u001b[0m Trial 402 finished with value: 0.13744008813321051 and parameters: {'lambda': 1.4204709512538025, 'alpha': 1.325121455351086, 'colsample_bytree': 0.31190826601741634, 'subsample': 0.41382471151739386, 'learning_rate': 0.08733626765093162, 'n_estimators': 1130, 'max_depth': 6, 'min_child_weight': 9, 'num_parallel_tree': 1}. Best is trial 173 with value: 0.09909467168372289.\u001b[0m\n",
      "\u001b[32m[I 2023-06-06 08:24:46,876]\u001b[0m Trial 403 finished with value: 0.12548785700341836 and parameters: {'lambda': 3.395823862646239, 'alpha': 2.9325183903051313, 'colsample_bytree': 0.4078211098635662, 'subsample': 0.569502440583946, 'learning_rate': 0.015804242890352586, 'n_estimators': 1581, 'max_depth': 6, 'min_child_weight': 6, 'num_parallel_tree': 1}. Best is trial 173 with value: 0.09909467168372289.\u001b[0m\n",
      "\u001b[32m[I 2023-06-06 08:24:51,371]\u001b[0m Trial 404 finished with value: 0.13456290140738483 and parameters: {'lambda': 2.7622422087291643, 'alpha': 3.713078453305291, 'colsample_bytree': 0.480549841222068, 'subsample': 0.5126192318423513, 'learning_rate': 0.0920398042969179, 'n_estimators': 1824, 'max_depth': 6, 'min_child_weight': 5, 'num_parallel_tree': 1}. Best is trial 173 with value: 0.09909467168372289.\u001b[0m\n",
      "\u001b[32m[I 2023-06-06 08:24:57,551]\u001b[0m Trial 405 finished with value: 0.11807349341975357 and parameters: {'lambda': 1.8578932530058947, 'alpha': 0.9420726135778356, 'colsample_bytree': 0.38682032024365376, 'subsample': 0.600323937286089, 'learning_rate': 0.053053089121086756, 'n_estimators': 1728, 'max_depth': 8, 'min_child_weight': 2, 'num_parallel_tree': 1}. Best is trial 173 with value: 0.09909467168372289.\u001b[0m\n",
      "\u001b[32m[I 2023-06-06 08:25:02,654]\u001b[0m Trial 406 finished with value: 0.11751955304010649 and parameters: {'lambda': 2.338710572056933, 'alpha': 2.484580391112654, 'colsample_bytree': 0.36230621531436674, 'subsample': 0.7459391914890544, 'learning_rate': 0.028573095731772764, 'n_estimators': 1668, 'max_depth': 9, 'min_child_weight': 7, 'num_parallel_tree': 1}. Best is trial 173 with value: 0.09909467168372289.\u001b[0m\n",
      "\u001b[32m[I 2023-06-06 08:25:05,081]\u001b[0m Trial 407 finished with value: 0.13005479014012844 and parameters: {'lambda': 1.9942321798444285, 'alpha': 4.690786239909025, 'colsample_bytree': 0.32932476768612734, 'subsample': 0.5535556705842557, 'learning_rate': 0.044110112725438175, 'n_estimators': 904, 'max_depth': 7, 'min_child_weight': 6, 'num_parallel_tree': 1}. Best is trial 173 with value: 0.09909467168372289.\u001b[0m\n",
      "\u001b[32m[I 2023-06-06 08:25:08,010]\u001b[0m Trial 408 finished with value: 0.12549429633787937 and parameters: {'lambda': 3.907287564195461, 'alpha': 3.4934206801301686, 'colsample_bytree': 0.5073680179586696, 'subsample': 0.6211775339575422, 'learning_rate': 0.03165060933818557, 'n_estimators': 1006, 'max_depth': 6, 'min_child_weight': 6, 'num_parallel_tree': 1}. Best is trial 173 with value: 0.09909467168372289.\u001b[0m\n",
      "\u001b[32m[I 2023-06-06 08:25:11,631]\u001b[0m Trial 409 finished with value: 0.13320200683400044 and parameters: {'lambda': 3.0431018828180894, 'alpha': 4.40512965241082, 'colsample_bytree': 0.44563202351002357, 'subsample': 0.6509401420479872, 'learning_rate': 0.008649366900509665, 'n_estimators': 1265, 'max_depth': 6, 'min_child_weight': 5, 'num_parallel_tree': 1}. Best is trial 173 with value: 0.09909467168372289.\u001b[0m\n",
      "\u001b[32m[I 2023-06-06 08:25:16,025]\u001b[0m Trial 410 finished with value: 0.13138292212529729 and parameters: {'lambda': 1.1313296080385364, 'alpha': 2.148290557069804, 'colsample_bytree': 0.42207533841928124, 'subsample': 0.45385110539916235, 'learning_rate': 0.036244007226003655, 'n_estimators': 1551, 'max_depth': 6, 'min_child_weight': 1, 'num_parallel_tree': 1}. Best is trial 173 with value: 0.09909467168372289.\u001b[0m\n",
      "\u001b[32m[I 2023-06-06 08:25:19,537]\u001b[0m Trial 411 finished with value: 0.1305925620926943 and parameters: {'lambda': 2.5585007480493736, 'alpha': 3.033951443864761, 'colsample_bytree': 0.3928138120198706, 'subsample': 0.49196757711057126, 'learning_rate': 0.03369992102494664, 'n_estimators': 1409, 'max_depth': 6, 'min_child_weight': 6, 'num_parallel_tree': 1}. Best is trial 173 with value: 0.09909467168372289.\u001b[0m\n",
      "\u001b[32m[I 2023-06-06 08:25:21,915]\u001b[0m Trial 412 finished with value: 0.11960626230058959 and parameters: {'lambda': 1.6292060858379378, 'alpha': 1.9380060730118056, 'colsample_bytree': 0.13898812971657276, 'subsample': 0.6364213127696934, 'learning_rate': 0.019909756689166967, 'n_estimators': 1070, 'max_depth': 2, 'min_child_weight': 6, 'num_parallel_tree': 1}. Best is trial 173 with value: 0.09909467168372289.\u001b[0m\n",
      "\u001b[32m[I 2023-06-06 08:25:25,113]\u001b[0m Trial 413 finished with value: 0.11764631827905225 and parameters: {'lambda': 4.39479774337204, 'alpha': 1.1169678483861496, 'colsample_bytree': 0.37128716990432087, 'subsample': 0.5880627217747039, 'learning_rate': 0.01719105436717687, 'n_estimators': 1173, 'max_depth': 5, 'min_child_weight': 5, 'num_parallel_tree': 1}. Best is trial 173 with value: 0.09909467168372289.\u001b[0m\n",
      "\u001b[32m[I 2023-06-06 08:25:29,500]\u001b[0m Trial 414 finished with value: 0.13332275488981804 and parameters: {'lambda': 3.575802047734501, 'alpha': 0.7490412791769163, 'colsample_bytree': 0.28156161473305386, 'subsample': 0.5423676762295203, 'learning_rate': 0.07209297195910418, 'n_estimators': 1493, 'max_depth': 6, 'min_child_weight': 6, 'num_parallel_tree': 1}. Best is trial 173 with value: 0.09909467168372289.\u001b[0m\n",
      "\u001b[32m[I 2023-06-06 08:25:32,712]\u001b[0m Trial 415 finished with value: 0.13340146851222395 and parameters: {'lambda': 2.8256541841522367, 'alpha': 4.07603153001828, 'colsample_bytree': 0.346220052522517, 'subsample': 0.6063687627376597, 'learning_rate': 0.04225292003702043, 'n_estimators': 1314, 'max_depth': 9, 'min_child_weight': 7, 'num_parallel_tree': 1}. Best is trial 173 with value: 0.09909467168372289.\u001b[0m\n",
      "\u001b[32m[I 2023-06-06 08:25:36,433]\u001b[0m Trial 416 finished with value: 0.11445631967805817 and parameters: {'lambda': 2.1815965905076222, 'alpha': 3.2761473438896984, 'colsample_bytree': 0.46529161732781976, 'subsample': 0.8097342474274831, 'learning_rate': 0.05475621957946182, 'n_estimators': 1608, 'max_depth': 6, 'min_child_weight': 8, 'num_parallel_tree': 1}. Best is trial 173 with value: 0.09909467168372289.\u001b[0m\n",
      "\u001b[32m[I 2023-06-06 08:25:39,111]\u001b[0m Trial 417 finished with value: 0.12930611697395897 and parameters: {'lambda': 2.4107097382330362, 'alpha': 1.722339099813377, 'colsample_bytree': 0.621204360119902, 'subsample': 0.5642164819829188, 'learning_rate': 0.029600068178963455, 'n_estimators': 968, 'max_depth': 4, 'min_child_weight': 5, 'num_parallel_tree': 1}. Best is trial 173 with value: 0.09909467168372289.\u001b[0m\n",
      "\u001b[32m[I 2023-06-06 08:25:42,277]\u001b[0m Trial 418 finished with value: 0.1286035932839566 and parameters: {'lambda': 1.892544893332386, 'alpha': 1.4524115072379837, 'colsample_bytree': 0.40629188995092985, 'subsample': 0.427249318334745, 'learning_rate': 0.02711294350514064, 'n_estimators': 1103, 'max_depth': 6, 'min_child_weight': 6, 'num_parallel_tree': 1}. Best is trial 173 with value: 0.09909467168372289.\u001b[0m\n",
      "\u001b[32m[I 2023-06-06 08:25:46,483]\u001b[0m Trial 419 finished with value: 0.12745415908351215 and parameters: {'lambda': 4.0259276890438125, 'alpha': 0.4514487215614251, 'colsample_bytree': 0.3656774026300629, 'subsample': 0.4691773370864076, 'learning_rate': 0.02387367858025576, 'n_estimators': 1211, 'max_depth': 6, 'min_child_weight': 4, 'num_parallel_tree': 1}. Best is trial 173 with value: 0.09909467168372289.\u001b[0m\n"
     ]
    },
    {
     "name": "stderr",
     "output_type": "stream",
     "text": [
      "\u001b[32m[I 2023-06-06 08:25:49,201]\u001b[0m Trial 420 finished with value: 0.14322534741460732 and parameters: {'lambda': 1.3409022810569173, 'alpha': 2.8284315637314723, 'colsample_bytree': 0.3346663472852243, 'subsample': 0.6668079982038704, 'learning_rate': 0.039737974335751866, 'n_estimators': 872, 'max_depth': 10, 'min_child_weight': 6, 'num_parallel_tree': 1}. Best is trial 173 with value: 0.09909467168372289.\u001b[0m\n",
      "\u001b[32m[I 2023-06-06 08:25:53,349]\u001b[0m Trial 421 finished with value: 0.14259243121676723 and parameters: {'lambda': 3.2665649469487796, 'alpha': 6.8010981909863295, 'colsample_bytree': 0.29885167968146464, 'subsample': 0.5219240114521375, 'learning_rate': 0.0985254701327198, 'n_estimators': 1698, 'max_depth': 6, 'min_child_weight': 5, 'num_parallel_tree': 1}. Best is trial 173 with value: 0.09909467168372289.\u001b[0m\n",
      "\u001b[32m[I 2023-06-06 08:25:59,191]\u001b[0m Trial 422 finished with value: 0.1267940643462233 and parameters: {'lambda': 4.74161087661067, 'alpha': 1.2717166892839133, 'colsample_bytree': 0.43433389380304793, 'subsample': 0.6283759365737943, 'learning_rate': 0.014012942397236355, 'n_estimators': 1550, 'max_depth': 7, 'min_child_weight': 7, 'num_parallel_tree': 1}. Best is trial 173 with value: 0.09909467168372289.\u001b[0m\n",
      "\u001b[32m[I 2023-06-06 08:26:02,718]\u001b[0m Trial 423 finished with value: 0.12973460803766798 and parameters: {'lambda': 2.6560934593309073, 'alpha': 2.2766557541436088, 'colsample_bytree': 0.3896038473926325, 'subsample': 0.5809122048919786, 'learning_rate': 0.06527477338994203, 'n_estimators': 1027, 'max_depth': 6, 'min_child_weight': 3, 'num_parallel_tree': 1}. Best is trial 173 with value: 0.09909467168372289.\u001b[0m\n",
      "\u001b[32m[I 2023-06-06 08:26:08,357]\u001b[0m Trial 424 finished with value: 0.11415452983792594 and parameters: {'lambda': 2.092512152605645, 'alpha': 0.959246477526685, 'colsample_bytree': 0.3743492379338434, 'subsample': 0.5077023157076599, 'learning_rate': 0.0776853460716852, 'n_estimators': 1799, 'max_depth': 9, 'min_child_weight': 6, 'num_parallel_tree': 1}. Best is trial 173 with value: 0.09909467168372289.\u001b[0m\n",
      "\u001b[32m[I 2023-06-06 08:26:11,887]\u001b[0m Trial 425 finished with value: 0.1207016043886074 and parameters: {'lambda': 1.715642917269802, 'alpha': 1.9899052238777304, 'colsample_bytree': 0.41586617021233135, 'subsample': 0.6012642367337204, 'learning_rate': 0.046458295337414475, 'n_estimators': 1482, 'max_depth': 2, 'min_child_weight': 5, 'num_parallel_tree': 1}. Best is trial 173 with value: 0.09909467168372289.\u001b[0m\n",
      "\u001b[32m[I 2023-06-06 08:26:15,493]\u001b[0m Trial 426 finished with value: 0.14156061387638552 and parameters: {'lambda': 5.039282499638473, 'alpha': 8.285501374383337, 'colsample_bytree': 0.22912871362251863, 'subsample': 0.7109807557410691, 'learning_rate': 0.03259100960279478, 'n_estimators': 1629, 'max_depth': 6, 'min_child_weight': 6, 'num_parallel_tree': 1}. Best is trial 173 with value: 0.09909467168372289.\u001b[0m\n",
      "\u001b[32m[I 2023-06-06 08:26:19,194]\u001b[0m Trial 427 finished with value: 0.14031797194647055 and parameters: {'lambda': 2.3465996824187734, 'alpha': 2.6510805505982513, 'colsample_bytree': 0.4506604934916794, 'subsample': 0.8750198329656383, 'learning_rate': 0.05835266386162695, 'n_estimators': 1389, 'max_depth': 6, 'min_child_weight': 7, 'num_parallel_tree': 1}. Best is trial 173 with value: 0.09909467168372289.\u001b[0m\n",
      "\u001b[32m[I 2023-06-06 08:26:22,028]\u001b[0m Trial 428 finished with value: 0.14177447472021593 and parameters: {'lambda': 2.507850293451449, 'alpha': 4.336101329452504, 'colsample_bytree': 0.35160718952003467, 'subsample': 0.777287466346479, 'learning_rate': 0.03777232714227805, 'n_estimators': 1133, 'max_depth': 6, 'min_child_weight': 4, 'num_parallel_tree': 1}. Best is trial 173 with value: 0.09909467168372289.\u001b[0m\n",
      "\u001b[32m[I 2023-06-06 08:26:24,943]\u001b[0m Trial 429 finished with value: 0.13020308870637914 and parameters: {'lambda': 2.9245158966265543, 'alpha': 1.5095788497316907, 'colsample_bytree': 0.32132722542206904, 'subsample': 0.7627447724969958, 'learning_rate': 0.07185285345842041, 'n_estimators': 1078, 'max_depth': 6, 'min_child_weight': 6, 'num_parallel_tree': 1}. Best is trial 173 with value: 0.09909467168372289.\u001b[0m\n",
      "\u001b[32m[I 2023-06-06 08:26:30,413]\u001b[0m Trial 430 finished with value: 0.12394252421602091 and parameters: {'lambda': 0.9721882864724685, 'alpha': 0.6658053758427558, 'colsample_bytree': 0.5156987449139758, 'subsample': 0.5362728750799689, 'learning_rate': 0.08284299294710565, 'n_estimators': 1746, 'max_depth': 6, 'min_child_weight': 8, 'num_parallel_tree': 1}. Best is trial 173 with value: 0.09909467168372289.\u001b[0m\n",
      "\u001b[32m[I 2023-06-06 08:26:33,501]\u001b[0m Trial 431 finished with value: 0.12933547372714418 and parameters: {'lambda': 2.2188403625393356, 'alpha': 7.252947588459826, 'colsample_bytree': 0.1839475381937542, 'subsample': 0.5576286049654476, 'learning_rate': 0.050767017953253654, 'n_estimators': 1248, 'max_depth': 9, 'min_child_weight': 5, 'num_parallel_tree': 1}. Best is trial 173 with value: 0.09909467168372289.\u001b[0m\n",
      "\u001b[32m[I 2023-06-06 08:26:37,786]\u001b[0m Trial 432 finished with value: 0.11755456672643944 and parameters: {'lambda': 1.4977284166821039, 'alpha': 1.1443044113959289, 'colsample_bytree': 0.49048045566758663, 'subsample': 0.819249428527803, 'learning_rate': 0.06815449702663187, 'n_estimators': 1447, 'max_depth': 6, 'min_child_weight': 2, 'num_parallel_tree': 1}. Best is trial 173 with value: 0.09909467168372289.\u001b[0m\n",
      "\u001b[32m[I 2023-06-06 08:26:40,883]\u001b[0m Trial 433 finished with value: 0.14049305764006517 and parameters: {'lambda': 4.305675854264603, 'alpha': 1.7563970144253922, 'colsample_bytree': 0.40034421683231025, 'subsample': 0.5738750742612913, 'learning_rate': 0.022287975320840266, 'n_estimators': 934, 'max_depth': 6, 'min_child_weight': 6, 'num_parallel_tree': 1}. Best is trial 173 with value: 0.09909467168372289.\u001b[0m\n",
      "\u001b[32m[I 2023-06-06 08:26:44,662]\u001b[0m Trial 434 finished with value: 0.12732386118494357 and parameters: {'lambda': 2.744627380666837, 'alpha': 3.1159986897658816, 'colsample_bytree': 0.3859534482938013, 'subsample': 0.7367358757409487, 'learning_rate': 0.03496567895232349, 'n_estimators': 1577, 'max_depth': 2, 'min_child_weight': 6, 'num_parallel_tree': 1}. Best is trial 173 with value: 0.09909467168372289.\u001b[0m\n",
      "\u001b[32m[I 2023-06-06 08:26:48,697]\u001b[0m Trial 435 finished with value: 0.13095638050040992 and parameters: {'lambda': 5.892120195711777, 'alpha': 9.582176635677733, 'colsample_bytree': 0.361571103361763, 'subsample': 0.49285462163666244, 'learning_rate': 0.03028727325726477, 'n_estimators': 1656, 'max_depth': 6, 'min_child_weight': 5, 'num_parallel_tree': 1}. Best is trial 173 with value: 0.09909467168372289.\u001b[0m\n",
      "\u001b[32m[I 2023-06-06 08:26:53,371]\u001b[0m Trial 436 finished with value: 0.11027286882637581 and parameters: {'lambda': 6.810530080477212, 'alpha': 0.8482815403562615, 'colsample_bytree': 0.42705983006032533, 'subsample': 0.6140025964040247, 'learning_rate': 0.026508218252141988, 'n_estimators': 1330, 'max_depth': 8, 'min_child_weight': 6, 'num_parallel_tree': 1}. Best is trial 173 with value: 0.09909467168372289.\u001b[0m\n",
      "\u001b[32m[I 2023-06-06 08:26:57,954]\u001b[0m Trial 437 finished with value: 0.11702875510181168 and parameters: {'lambda': 5.669573075030162, 'alpha': 0.4573421110080558, 'colsample_bytree': 0.43456035913341534, 'subsample': 0.5920544682534792, 'learning_rate': 0.025488960936217622, 'n_estimators': 1335, 'max_depth': 8, 'min_child_weight': 5, 'num_parallel_tree': 1}. Best is trial 173 with value: 0.09909467168372289.\u001b[0m\n",
      "\u001b[32m[I 2023-06-06 08:27:03,232]\u001b[0m Trial 438 finished with value: 0.13244786130424277 and parameters: {'lambda': 7.115780364277913, 'alpha': 0.7301119683804174, 'colsample_bytree': 0.4619949520325831, 'subsample': 0.6337327053626477, 'learning_rate': 0.027122540152990437, 'n_estimators': 1427, 'max_depth': 8, 'min_child_weight': 4, 'num_parallel_tree': 1}. Best is trial 173 with value: 0.09909467168372289.\u001b[0m\n",
      "\u001b[32m[I 2023-06-06 08:27:08,257]\u001b[0m Trial 439 finished with value: 0.13883320906304505 and parameters: {'lambda': 8.341231732401194, 'alpha': 0.8343620590669326, 'colsample_bytree': 0.4217289428987754, 'subsample': 0.47678589051689946, 'learning_rate': 0.02842052000649635, 'n_estimators': 1342, 'max_depth': 8, 'min_child_weight': 1, 'num_parallel_tree': 1}. Best is trial 173 with value: 0.09909467168372289.\u001b[0m\n"
     ]
    },
    {
     "name": "stderr",
     "output_type": "stream",
     "text": [
      "\u001b[32m[I 2023-06-06 08:27:14,352]\u001b[0m Trial 440 finished with value: 0.12428256563641873 and parameters: {'lambda': 6.966123572346264, 'alpha': 0.3370830813536858, 'colsample_bytree': 0.7449134636320238, 'subsample': 0.6133251083192217, 'learning_rate': 0.023379448711453442, 'n_estimators': 1512, 'max_depth': 7, 'min_child_weight': 3, 'num_parallel_tree': 1}. Best is trial 173 with value: 0.09909467168372289.\u001b[0m\n",
      "\u001b[32m[I 2023-06-06 08:27:17,941]\u001b[0m Trial 441 finished with value: 0.15816136854327525 and parameters: {'lambda': 3.3388473458250685, 'alpha': 4.954542561278939, 'colsample_bytree': 0.26592688473289194, 'subsample': 0.683914021460144, 'learning_rate': 0.02058291763132344, 'n_estimators': 1364, 'max_depth': 8, 'min_child_weight': 6, 'num_parallel_tree': 1}. Best is trial 173 with value: 0.09909467168372289.\u001b[0m\n",
      "\u001b[32m[I 2023-06-06 08:27:22,319]\u001b[0m Trial 442 finished with value: 0.1401382213371716 and parameters: {'lambda': 5.827695849467535, 'alpha': 2.34269220297041, 'colsample_bytree': 0.5349964104446077, 'subsample': 0.5670304892863332, 'learning_rate': 0.031370334135061795, 'n_estimators': 1271, 'max_depth': 9, 'min_child_weight': 7, 'num_parallel_tree': 1}. Best is trial 173 with value: 0.09909467168372289.\u001b[0m\n",
      "\u001b[32m[I 2023-06-06 08:27:28,997]\u001b[0m Trial 443 finished with value: 0.13262553836968538 and parameters: {'lambda': 9.80324472548157, 'alpha': 0.02735061113875581, 'colsample_bytree': 0.4458728387428588, 'subsample': 0.5477387103334426, 'learning_rate': 0.0255392161455714, 'n_estimators': 2205, 'max_depth': 5, 'min_child_weight': 5, 'num_parallel_tree': 1}. Best is trial 173 with value: 0.09909467168372289.\u001b[0m\n",
      "\u001b[32m[I 2023-06-06 08:27:33,517]\u001b[0m Trial 444 finished with value: 0.12182383751153576 and parameters: {'lambda': 3.1208418901294666, 'alpha': 0.9143797946478559, 'colsample_bytree': 0.3354037374901845, 'subsample': 0.720998772666283, 'learning_rate': 0.017616169221838982, 'n_estimators': 1387, 'max_depth': 8, 'min_child_weight': 6, 'num_parallel_tree': 1}. Best is trial 173 with value: 0.09909467168372289.\u001b[0m\n",
      "\u001b[32m[I 2023-06-06 08:27:39,265]\u001b[0m Trial 445 finished with value: 0.12126600159142088 and parameters: {'lambda': 8.167162401064422, 'alpha': 0.5669599760136238, 'colsample_bytree': 0.4198938016881005, 'subsample': 0.3971028458662454, 'learning_rate': 0.027751834003891022, 'n_estimators': 1588, 'max_depth': 8, 'min_child_weight': 4, 'num_parallel_tree': 1}. Best is trial 173 with value: 0.09909467168372289.\u001b[0m\n",
      "\u001b[32m[I 2023-06-06 08:27:44,698]\u001b[0m Trial 446 finished with value: 0.13131464668636655 and parameters: {'lambda': 2.558823506074712, 'alpha': 2.560279381832117, 'colsample_bytree': 0.6837320355966725, 'subsample': 0.6607652901052528, 'learning_rate': 0.03034245242497884, 'n_estimators': 1707, 'max_depth': 8, 'min_child_weight': 9, 'num_parallel_tree': 1}. Best is trial 173 with value: 0.09909467168372289.\u001b[0m\n",
      "\u001b[32m[I 2023-06-06 08:27:46,747]\u001b[0m Trial 447 finished with value: 0.11887418018280273 and parameters: {'lambda': 6.257115760242575, 'alpha': 2.8300880993353714, 'colsample_bytree': 0.4777995736992824, 'subsample': 0.5201556324862582, 'learning_rate': 0.03369497581824898, 'n_estimators': 842, 'max_depth': 2, 'min_child_weight': 6, 'num_parallel_tree': 1}. Best is trial 173 with value: 0.09909467168372289.\u001b[0m\n",
      "\u001b[32m[I 2023-06-06 08:27:50,148]\u001b[0m Trial 448 finished with value: 0.1579135851728737 and parameters: {'lambda': 9.654829653523983, 'alpha': 4.625191984040671, 'colsample_bytree': 0.24304279266318668, 'subsample': 0.5934636397740088, 'learning_rate': 0.036118262901709504, 'n_estimators': 1484, 'max_depth': 4, 'min_child_weight': 5, 'num_parallel_tree': 1}. Best is trial 173 with value: 0.09909467168372289.\u001b[0m\n",
      "\u001b[32m[I 2023-06-06 08:27:54,731]\u001b[0m Trial 449 finished with value: 0.1386667211971968 and parameters: {'lambda': 6.164148235689515, 'alpha': 1.092396379231683, 'colsample_bytree': 0.40880485444596665, 'subsample': 0.797506785999529, 'learning_rate': 0.0396825193651857, 'n_estimators': 1308, 'max_depth': 9, 'min_child_weight': 7, 'num_parallel_tree': 1}. Best is trial 173 with value: 0.09909467168372289.\u001b[0m\n",
      "\u001b[32m[I 2023-06-06 08:27:58,181]\u001b[0m Trial 450 finished with value: 0.15696624781849264 and parameters: {'lambda': 4.836937715233836, 'alpha': 3.5058037032489593, 'colsample_bytree': 0.305536236001693, 'subsample': 0.21022905919388618, 'learning_rate': 0.020212783415024606, 'n_estimators': 1525, 'max_depth': 6, 'min_child_weight': 6, 'num_parallel_tree': 1}. Best is trial 173 with value: 0.09909467168372289.\u001b[0m\n",
      "\u001b[32m[I 2023-06-06 08:28:03,615]\u001b[0m Trial 451 finished with value: 0.14570573504509635 and parameters: {'lambda': 5.335743351789923, 'alpha': 3.3206147763533713, 'colsample_bytree': 0.559143284368514, 'subsample': 0.6197165867769726, 'learning_rate': 0.024629891506735446, 'n_estimators': 2052, 'max_depth': 10, 'min_child_weight': 5, 'num_parallel_tree': 1}. Best is trial 173 with value: 0.09909467168372289.\u001b[0m\n",
      "\u001b[32m[I 2023-06-06 08:28:06,105]\u001b[0m Trial 452 finished with value: 0.1412835989804683 and parameters: {'lambda': 3.7115066045411793, 'alpha': 2.1180637915971654, 'colsample_bytree': 0.3473570630538433, 'subsample': 0.34669879318340263, 'learning_rate': 0.022484494356319523, 'n_estimators': 993, 'max_depth': 6, 'min_child_weight': 6, 'num_parallel_tree': 1}. Best is trial 173 with value: 0.09909467168372289.\u001b[0m\n",
      "\u001b[32m[I 2023-06-06 08:28:09,681]\u001b[0m Trial 453 finished with value: 0.14379539377456255 and parameters: {'lambda': 5.588441559595771, 'alpha': 5.708549710162209, 'colsample_bytree': 0.2083027418381982, 'subsample': 0.45684891096929275, 'learning_rate': 0.029353199301099572, 'n_estimators': 1612, 'max_depth': 8, 'min_child_weight': 6, 'num_parallel_tree': 1}. Best is trial 173 with value: 0.09909467168372289.\u001b[0m\n",
      "\u001b[32m[I 2023-06-06 08:28:14,199]\u001b[0m Trial 454 finished with value: 0.13978357040727205 and parameters: {'lambda': 5.190499899657316, 'alpha': 0.9947727118712385, 'colsample_bytree': 0.37566676109247027, 'subsample': 0.507314796266654, 'learning_rate': 0.02693817615821804, 'n_estimators': 1659, 'max_depth': 6, 'min_child_weight': 5, 'num_parallel_tree': 1}. Best is trial 173 with value: 0.09909467168372289.\u001b[0m\n",
      "\u001b[32m[I 2023-06-06 08:28:18,458]\u001b[0m Trial 455 finished with value: 0.14169913414082524 and parameters: {'lambda': 4.903476685490853, 'alpha': 1.621352410297902, 'colsample_bytree': 0.4345947374166541, 'subsample': 0.6459820559901979, 'learning_rate': 0.032408790071495386, 'n_estimators': 1451, 'max_depth': 6, 'min_child_weight': 6, 'num_parallel_tree': 1}. Best is trial 173 with value: 0.09909467168372289.\u001b[0m\n",
      "\u001b[32m[I 2023-06-06 08:28:25,481]\u001b[0m Trial 456 finished with value: 0.13422241485221817 and parameters: {'lambda': 2.9103476625905182, 'alpha': 3.0633926288129514, 'colsample_bytree': 0.846507646062598, 'subsample': 0.5784284049270828, 'learning_rate': 0.04254771856709802, 'n_estimators': 2317, 'max_depth': 7, 'min_child_weight': 4, 'num_parallel_tree': 1}. Best is trial 173 with value: 0.09909467168372289.\u001b[0m\n",
      "\u001b[32m[I 2023-06-06 08:28:31,286]\u001b[0m Trial 457 finished with value: 0.13205204497111697 and parameters: {'lambda': 3.505490052375901, 'alpha': 1.3055087797892715, 'colsample_bytree': 0.45856984291103425, 'subsample': 0.5297797029153498, 'learning_rate': 0.038754712559678495, 'n_estimators': 1781, 'max_depth': 9, 'min_child_weight': 7, 'num_parallel_tree': 1}. Best is trial 173 with value: 0.09909467168372289.\u001b[0m\n",
      "\u001b[32m[I 2023-06-06 08:28:35,050]\u001b[0m Trial 458 finished with value: 0.1410896720429554 and parameters: {'lambda': 7.465738551092485, 'alpha': 6.472419926514522, 'colsample_bytree': 0.32434846310371457, 'subsample': 0.48791303967453, 'learning_rate': 0.036997250571795544, 'n_estimators': 1556, 'max_depth': 6, 'min_child_weight': 5, 'num_parallel_tree': 1}. Best is trial 173 with value: 0.09909467168372289.\u001b[0m\n",
      "\u001b[32m[I 2023-06-06 08:28:39,698]\u001b[0m Trial 459 finished with value: 0.13438820608539565 and parameters: {'lambda': 5.840362768439891, 'alpha': 0.772558236474347, 'colsample_bytree': 0.35905260825374935, 'subsample': 0.6038929678509555, 'learning_rate': 0.03539655851103412, 'n_estimators': 1837, 'max_depth': 2, 'min_child_weight': 6, 'num_parallel_tree': 1}. Best is trial 173 with value: 0.09909467168372289.\u001b[0m\n"
     ]
    },
    {
     "name": "stderr",
     "output_type": "stream",
     "text": [
      "\u001b[32m[I 2023-06-06 08:28:43,682]\u001b[0m Trial 460 finished with value: 0.14647509941178521 and parameters: {'lambda': 1.2158128011684586, 'alpha': 1.8444552739178373, 'colsample_bytree': 0.38488986658883984, 'subsample': 0.7012964989984288, 'learning_rate': 0.019053624475110872, 'n_estimators': 1183, 'max_depth': 6, 'min_child_weight': 8, 'num_parallel_tree': 1}. Best is trial 173 with value: 0.09909467168372289.\u001b[0m\n",
      "\u001b[32m[I 2023-06-06 08:28:46,659]\u001b[0m Trial 461 finished with value: 0.12509287575947506 and parameters: {'lambda': 6.00792101846482, 'alpha': 0.24600163211563897, 'colsample_bytree': 0.4107043952581698, 'subsample': 0.31890098769820746, 'learning_rate': 0.007234346448372758, 'n_estimators': 1035, 'max_depth': 6, 'min_child_weight': 2, 'num_parallel_tree': 1}. Best is trial 173 with value: 0.09909467168372289.\u001b[0m\n",
      "\u001b[32m[I 2023-06-06 08:28:49,496]\u001b[0m Trial 462 finished with value: 0.14500098783912135 and parameters: {'lambda': 6.357265168229399, 'alpha': 4.09842394359901, 'colsample_bytree': 0.44006831116715905, 'subsample': 0.5596245167553536, 'learning_rate': 0.012811806706941216, 'n_estimators': 926, 'max_depth': 6, 'min_child_weight': 6, 'num_parallel_tree': 1}. Best is trial 173 with value: 0.09909467168372289.\u001b[0m\n",
      "\u001b[32m[I 2023-06-06 08:28:55,042]\u001b[0m Trial 463 finished with value: 0.30443038718983345 and parameters: {'lambda': 8.766228181198905, 'alpha': 0.6130672012232035, 'colsample_bytree': 0.582297159703599, 'subsample': 0.6402455466794152, 'learning_rate': 0.0018942565402410572, 'n_estimators': 2120, 'max_depth': 6, 'min_child_weight': 5, 'num_parallel_tree': 1}. Best is trial 173 with value: 0.09909467168372289.\u001b[0m\n",
      "\u001b[32m[I 2023-06-06 08:29:00,002]\u001b[0m Trial 464 finished with value: 0.1298644525527753 and parameters: {'lambda': 2.010085449585438, 'alpha': 2.521559223010246, 'colsample_bytree': 0.7519851056111597, 'subsample': 0.4363754751286252, 'learning_rate': 0.031156000160729808, 'n_estimators': 1409, 'max_depth': 9, 'min_child_weight': 6, 'num_parallel_tree': 1}. Best is trial 173 with value: 0.09909467168372289.\u001b[0m\n",
      "\u001b[32m[I 2023-06-06 08:29:03,923]\u001b[0m Trial 465 finished with value: 0.11298786161860531 and parameters: {'lambda': 2.331497031958911, 'alpha': 4.7775071517239835, 'colsample_bytree': 0.3442085311785538, 'subsample': 0.7829792513000555, 'learning_rate': 0.026286911820002954, 'n_estimators': 1649, 'max_depth': 6, 'min_child_weight': 7, 'num_parallel_tree': 1}. Best is trial 173 with value: 0.09909467168372289.\u001b[0m\n",
      "\u001b[32m[I 2023-06-06 08:29:08,067]\u001b[0m Trial 466 finished with value: 0.1332549577707199 and parameters: {'lambda': 6.998862313983678, 'alpha': 1.1462401967423808, 'colsample_bytree': 0.4956724049315168, 'subsample': 0.5902645140039361, 'learning_rate': 0.015676487963684524, 'n_estimators': 1269, 'max_depth': 6, 'min_child_weight': 1, 'num_parallel_tree': 1}. Best is trial 173 with value: 0.09909467168372289.\u001b[0m\n",
      "\u001b[32m[I 2023-06-06 08:29:11,958]\u001b[0m Trial 467 finished with value: 0.1191095835406098 and parameters: {'lambda': 1.863232656070446, 'alpha': 1.4673600194112555, 'colsample_bytree': 0.2883017640727641, 'subsample': 0.5408669613759111, 'learning_rate': 0.023239667207942887, 'n_estimators': 1502, 'max_depth': 2, 'min_child_weight': 3, 'num_parallel_tree': 1}. Best is trial 173 with value: 0.09909467168372289.\u001b[0m\n",
      "\u001b[32m[I 2023-06-06 08:29:17,235]\u001b[0m Trial 468 finished with value: 0.11829836549052757 and parameters: {'lambda': 6.652044332213817, 'alpha': 2.8770977232113686, 'colsample_bytree': 0.36880348368501087, 'subsample': 0.9135528520631155, 'learning_rate': 0.029070013898137837, 'n_estimators': 1900, 'max_depth': 6, 'min_child_weight': 5, 'num_parallel_tree': 1}. Best is trial 173 with value: 0.09909467168372289.\u001b[0m\n",
      "\u001b[32m[I 2023-06-06 08:29:21,071]\u001b[0m Trial 469 finished with value: 0.13088085855992618 and parameters: {'lambda': 7.82865646290304, 'alpha': 2.037028131828303, 'colsample_bytree': 0.39037753509731365, 'subsample': 0.4673927283061122, 'learning_rate': 0.034074395401325765, 'n_estimators': 1228, 'max_depth': 6, 'min_child_weight': 6, 'num_parallel_tree': 1}. Best is trial 173 with value: 0.09909467168372289.\u001b[0m\n",
      "\u001b[32m[I 2023-06-06 08:29:27,200]\u001b[0m Trial 470 finished with value: 0.14452084392920198 and parameters: {'lambda': 2.1566005796005077, 'alpha': 3.8298585370077496, 'colsample_bytree': 0.42120649444563896, 'subsample': 0.4139342709791449, 'learning_rate': 0.04835281588463548, 'n_estimators': 2460, 'max_depth': 7, 'min_child_weight': 7, 'num_parallel_tree': 1}. Best is trial 173 with value: 0.09909467168372289.\u001b[0m\n",
      "\u001b[32m[I 2023-06-06 08:29:33,109]\u001b[0m Trial 471 finished with value: 0.1288326069902884 and parameters: {'lambda': 5.182936131861192, 'alpha': 0.8696374812793348, 'colsample_bytree': 0.4683341862710134, 'subsample': 0.6265120350839066, 'learning_rate': 0.0409251955100944, 'n_estimators': 1719, 'max_depth': 6, 'min_child_weight': 6, 'num_parallel_tree': 1}. Best is trial 173 with value: 0.09909467168372289.\u001b[0m\n",
      "\u001b[32m[I 2023-06-06 08:29:35,582]\u001b[0m Trial 472 finished with value: 0.14461436232955774 and parameters: {'lambda': 6.646553323967913, 'alpha': 6.760913340920062, 'colsample_bytree': 0.31192664440493767, 'subsample': 0.5758915556029957, 'learning_rate': 0.04445618179461386, 'n_estimators': 984, 'max_depth': 8, 'min_child_weight': 4, 'num_parallel_tree': 1}. Best is trial 173 with value: 0.09909467168372289.\u001b[0m\n",
      "\u001b[32m[I 2023-06-06 08:29:40,119]\u001b[0m Trial 473 finished with value: 0.13189245582015016 and parameters: {'lambda': 7.581905779542744, 'alpha': 1.0412179874762955, 'colsample_bytree': 0.4075307386101939, 'subsample': 0.503025877622288, 'learning_rate': 0.02123936932417592, 'n_estimators': 1348, 'max_depth': 9, 'min_child_weight': 5, 'num_parallel_tree': 1}. Best is trial 173 with value: 0.09909467168372289.\u001b[0m\n",
      "\u001b[32m[I 2023-06-06 08:29:45,725]\u001b[0m Trial 474 finished with value: 0.10836179089923875 and parameters: {'lambda': 2.7050017177719416, 'alpha': 1.3663800296912214, 'colsample_bytree': 0.6239969720598891, 'subsample': 0.8354132946332886, 'learning_rate': 0.02506672063372787, 'n_estimators': 1554, 'max_depth': 6, 'min_child_weight': 6, 'num_parallel_tree': 1}. Best is trial 173 with value: 0.09909467168372289.\u001b[0m\n",
      "\u001b[32m[I 2023-06-06 08:29:51,034]\u001b[0m Trial 475 finished with value: 0.12268657093686981 and parameters: {'lambda': 2.6800163545778615, 'alpha': 1.6150596713305823, 'colsample_bytree': 0.666737912562619, 'subsample': 0.7504706927260034, 'learning_rate': 0.022595779984389257, 'n_estimators': 1570, 'max_depth': 6, 'min_child_weight': 6, 'num_parallel_tree': 1}. Best is trial 173 with value: 0.09909467168372289.\u001b[0m\n",
      "\u001b[32m[I 2023-06-06 08:29:55,727]\u001b[0m Trial 476 finished with value: 0.10096631206195912 and parameters: {'lambda': 3.0182328166236445, 'alpha': 1.3291515256993451, 'colsample_bytree': 0.3345194040509931, 'subsample': 0.8447766813353743, 'learning_rate': 0.025169410775523, 'n_estimators': 1600, 'max_depth': 5, 'min_child_weight': 6, 'num_parallel_tree': 1}. Best is trial 173 with value: 0.09909467168372289.\u001b[0m\n",
      "\u001b[32m[I 2023-06-06 08:30:00,625]\u001b[0m Trial 477 finished with value: 0.1136414853214164 and parameters: {'lambda': 0.010888880758589181, 'alpha': 1.3682671695810404, 'colsample_bytree': 0.635387736749809, 'subsample': 0.8534156764945892, 'learning_rate': 0.023833173860239636, 'n_estimators': 1529, 'max_depth': 5, 'min_child_weight': 6, 'num_parallel_tree': 1}. Best is trial 173 with value: 0.09909467168372289.\u001b[0m\n",
      "\u001b[32m[I 2023-06-06 08:30:05,429]\u001b[0m Trial 478 finished with value: 0.11771632389249896 and parameters: {'lambda': 2.9413289838796572, 'alpha': 1.7795380582519191, 'colsample_bytree': 0.32630429521643456, 'subsample': 0.8612163758839363, 'learning_rate': 0.025026691078129028, 'n_estimators': 1611, 'max_depth': 5, 'min_child_weight': 6, 'num_parallel_tree': 1}. Best is trial 173 with value: 0.09909467168372289.\u001b[0m\n",
      "\u001b[32m[I 2023-06-06 08:30:09,242]\u001b[0m Trial 479 finished with value: 0.14078791232350474 and parameters: {'lambda': 3.1251975927740694, 'alpha': 1.495306476200755, 'colsample_bytree': 0.6909129434185806, 'subsample': 0.8625777322044582, 'learning_rate': 0.026020014500976695, 'n_estimators': 1558, 'max_depth': 2, 'min_child_weight': 6, 'num_parallel_tree': 1}. Best is trial 173 with value: 0.09909467168372289.\u001b[0m\n"
     ]
    },
    {
     "name": "stderr",
     "output_type": "stream",
     "text": [
      "\u001b[32m[I 2023-06-06 08:30:13,054]\u001b[0m Trial 480 finished with value: 0.14568123719579792 and parameters: {'lambda': 2.7457057247202172, 'alpha': 5.986101202849498, 'colsample_bytree': 0.942695321848071, 'subsample': 0.8187251926791996, 'learning_rate': 0.018889882276499584, 'n_estimators': 1508, 'max_depth': 4, 'min_child_weight': 6, 'num_parallel_tree': 1}. Best is trial 173 with value: 0.09909467168372289.\u001b[0m\n",
      "\u001b[32m[I 2023-06-06 08:30:17,683]\u001b[0m Trial 481 finished with value: 0.11170451595449707 and parameters: {'lambda': 2.608714495505668, 'alpha': 1.3742920376591103, 'colsample_bytree': 0.5836458974450904, 'subsample': 0.9636696431402383, 'learning_rate': 0.022186822193789722, 'n_estimators': 1615, 'max_depth': 5, 'min_child_weight': 6, 'num_parallel_tree': 1}. Best is trial 173 with value: 0.09909467168372289.\u001b[0m\n",
      "\u001b[32m[I 2023-06-06 08:30:22,564]\u001b[0m Trial 482 finished with value: 0.13660403182122338 and parameters: {'lambda': 2.9378987934288365, 'alpha': 2.262430958674011, 'colsample_bytree': 0.5971403493028671, 'subsample': 0.8113830517811107, 'learning_rate': 0.024522411825930568, 'n_estimators': 1588, 'max_depth': 10, 'min_child_weight': 6, 'num_parallel_tree': 1}. Best is trial 173 with value: 0.09909467168372289.\u001b[0m\n",
      "\u001b[32m[I 2023-06-06 08:30:26,286]\u001b[0m Trial 483 finished with value: 0.12688136922154267 and parameters: {'lambda': 3.2684399756351024, 'alpha': 1.6561896317250147, 'colsample_bytree': 0.3400191119159589, 'subsample': 0.8053476235269895, 'learning_rate': 0.010531312864549825, 'n_estimators': 1430, 'max_depth': 5, 'min_child_weight': 6, 'num_parallel_tree': 1}. Best is trial 173 with value: 0.09909467168372289.\u001b[0m\n",
      "\u001b[32m[I 2023-06-06 08:30:29,684]\u001b[0m Trial 484 finished with value: 0.14949711661410772 and parameters: {'lambda': 0.7621230834787176, 'alpha': 5.344359025134537, 'colsample_bytree': 0.6484945078726333, 'subsample': 0.7311312008417893, 'learning_rate': 0.028054110211040994, 'n_estimators': 1454, 'max_depth': 5, 'min_child_weight': 6, 'num_parallel_tree': 1}. Best is trial 173 with value: 0.09909467168372289.\u001b[0m\n",
      "\u001b[32m[I 2023-06-06 08:30:35,340]\u001b[0m Trial 485 finished with value: 0.11814964507689037 and parameters: {'lambda': 3.035504326982832, 'alpha': 1.2539408315714669, 'colsample_bytree': 0.6733864303018634, 'subsample': 0.8355662780842001, 'learning_rate': 0.0208165124850711, 'n_estimators': 1493, 'max_depth': 9, 'min_child_weight': 6, 'num_parallel_tree': 1}. Best is trial 173 with value: 0.09909467168372289.\u001b[0m\n",
      "\u001b[32m[I 2023-06-06 08:30:38,174]\u001b[0m Trial 486 finished with value: 0.1438681867967377 and parameters: {'lambda': 2.8073841099160473, 'alpha': 3.2036087266022624, 'colsample_bytree': 0.7130044698841217, 'subsample': 0.9467271385255405, 'learning_rate': 0.01770693762342016, 'n_estimators': 747, 'max_depth': 8, 'min_child_weight': 6, 'num_parallel_tree': 1}. Best is trial 173 with value: 0.09909467168372289.\u001b[0m\n",
      "\u001b[32m[I 2023-06-06 08:30:43,544]\u001b[0m Trial 487 finished with value: 0.12441255659777141 and parameters: {'lambda': 2.485730088027554, 'alpha': 1.9956512523828465, 'colsample_bytree': 0.5968593876012109, 'subsample': 0.8270224024105319, 'learning_rate': 0.026541988810870734, 'n_estimators': 1554, 'max_depth': 5, 'min_child_weight': 7, 'num_parallel_tree': 1}. Best is trial 173 with value: 0.09909467168372289.\u001b[0m\n",
      "\u001b[32m[I 2023-06-06 08:30:49,042]\u001b[0m Trial 488 finished with value: 0.11013567221022597 and parameters: {'lambda': 3.8449504750505237, 'alpha': 2.685492712467636, 'colsample_bytree': 0.6122775756814509, 'subsample': 0.8390762629005245, 'learning_rate': 0.03796566888868415, 'n_estimators': 1652, 'max_depth': 7, 'min_child_weight': 6, 'num_parallel_tree': 1}. Best is trial 173 with value: 0.09909467168372289.\u001b[0m\n",
      "\u001b[32m[I 2023-06-06 08:30:55,355]\u001b[0m Trial 489 finished with value: 0.15518101776624038 and parameters: {'lambda': 4.189351854025227, 'alpha': 1.2084848501937147, 'colsample_bytree': 0.6020205880041404, 'subsample': 0.8331299121216837, 'learning_rate': 0.0379547296804891, 'n_estimators': 1702, 'max_depth': 7, 'min_child_weight': 6, 'num_parallel_tree': 1}. Best is trial 173 with value: 0.09909467168372289.\u001b[0m\n",
      "\u001b[32m[I 2023-06-06 08:31:00,315]\u001b[0m Trial 490 finished with value: 0.13571362623687608 and parameters: {'lambda': 3.788411547863136, 'alpha': 2.453401553260183, 'colsample_bytree': 0.6609969642150577, 'subsample': 0.8525292781752104, 'learning_rate': 0.04158423525374487, 'n_estimators': 1611, 'max_depth': 7, 'min_child_weight': 6, 'num_parallel_tree': 1}. Best is trial 173 with value: 0.09909467168372289.\u001b[0m\n",
      "\u001b[32m[I 2023-06-06 08:31:04,506]\u001b[0m Trial 491 finished with value: 0.1406053456377573 and parameters: {'lambda': 3.9966159095089564, 'alpha': 7.208634602934337, 'colsample_bytree': 0.7897673232400018, 'subsample': 0.9971219650694552, 'learning_rate': 0.03998825686638939, 'n_estimators': 1602, 'max_depth': 7, 'min_child_weight': 6, 'num_parallel_tree': 1}. Best is trial 173 with value: 0.09909467168372289.\u001b[0m\n",
      "\u001b[32m[I 2023-06-06 08:31:10,271]\u001b[0m Trial 492 finished with value: 0.11212489494862729 and parameters: {'lambda': 3.5876280590132112, 'alpha': 1.5135268173591647, 'colsample_bytree': 0.6370994667566258, 'subsample': 0.8119523583379941, 'learning_rate': 0.036519439275411375, 'n_estimators': 1538, 'max_depth': 9, 'min_child_weight': 6, 'num_parallel_tree': 1}. Best is trial 173 with value: 0.09909467168372289.\u001b[0m\n",
      "\u001b[32m[I 2023-06-06 08:31:15,706]\u001b[0m Trial 493 finished with value: 0.12400492393637963 and parameters: {'lambda': 3.4321937452686027, 'alpha': 1.711931057808291, 'colsample_bytree': 0.6461359364753366, 'subsample': 0.7839895218781867, 'learning_rate': 0.03811340898477066, 'n_estimators': 1645, 'max_depth': 7, 'min_child_weight': 6, 'num_parallel_tree': 1}. Best is trial 173 with value: 0.09909467168372289.\u001b[0m\n",
      "\u001b[32m[I 2023-06-06 08:31:20,603]\u001b[0m Trial 494 finished with value: 0.14012308229481021 and parameters: {'lambda': 3.15193839066107, 'alpha': 2.7602477553015166, 'colsample_bytree': 0.6155957235305884, 'subsample': 0.886127565879262, 'learning_rate': 0.04693859405923985, 'n_estimators': 1701, 'max_depth': 7, 'min_child_weight': 6, 'num_parallel_tree': 1}. Best is trial 173 with value: 0.09909467168372289.\u001b[0m\n",
      "\u001b[32m[I 2023-06-06 08:31:21,312]\u001b[0m Trial 495 finished with value: 0.12763272878211537 and parameters: {'lambda': 8.749454923129298, 'alpha': 2.27015898705465, 'colsample_bytree': 0.6056529629689893, 'subsample': 0.6671166466424585, 'learning_rate': 0.043359851693115396, 'n_estimators': 164, 'max_depth': 5, 'min_child_weight': 6, 'num_parallel_tree': 1}. Best is trial 173 with value: 0.09909467168372289.\u001b[0m\n",
      "\u001b[32m[I 2023-06-06 08:31:26,746]\u001b[0m Trial 496 finished with value: 0.116552591382307 and parameters: {'lambda': 3.9238733857314765, 'alpha': 1.880896464193773, 'colsample_bytree': 0.8647412380797579, 'subsample': 0.8462998247349283, 'learning_rate': 0.040055178946158315, 'n_estimators': 1642, 'max_depth': 7, 'min_child_weight': 6, 'num_parallel_tree': 1}. Best is trial 173 with value: 0.09909467168372289.\u001b[0m\n",
      "\u001b[32m[I 2023-06-06 08:31:30,368]\u001b[0m Trial 497 finished with value: 0.14213986877239873 and parameters: {'lambda': 3.781601372737158, 'alpha': 6.135085758424351, 'colsample_bytree': 0.6425853322729624, 'subsample': 0.8358452632600917, 'learning_rate': 0.04537519139352891, 'n_estimators': 1481, 'max_depth': 7, 'min_child_weight': 6, 'num_parallel_tree': 1}. Best is trial 173 with value: 0.09909467168372289.\u001b[0m\n",
      "\u001b[32m[I 2023-06-06 08:31:36,039]\u001b[0m Trial 498 finished with value: 0.1286255689053129 and parameters: {'lambda': 2.6942362735966316, 'alpha': 1.0646158415587614, 'colsample_bytree': 0.6556827452379678, 'subsample': 0.8439086024963256, 'learning_rate': 0.02977232423597262, 'n_estimators': 1670, 'max_depth': 7, 'min_child_weight': 6, 'num_parallel_tree': 1}. Best is trial 173 with value: 0.09909467168372289.\u001b[0m\n",
      "\u001b[32m[I 2023-06-06 08:31:38,669]\u001b[0m Trial 499 finished with value: 0.13524084139970838 and parameters: {'lambda': 2.4619327468351373, 'alpha': 1.2966310266301573, 'colsample_bytree': 0.3545044155018935, 'subsample': 0.8792995312509454, 'learning_rate': 0.05978310800557988, 'n_estimators': 861, 'max_depth': 6, 'min_child_weight': 6, 'num_parallel_tree': 1}. Best is trial 173 with value: 0.09909467168372289.\u001b[0m\n"
     ]
    },
    {
     "name": "stderr",
     "output_type": "stream",
     "text": [
      "\u001b[32m[I 2023-06-06 08:31:42,684]\u001b[0m Trial 500 finished with value: 0.11595644920929055 and parameters: {'lambda': 3.2601228726286307, 'alpha': 2.977323266501802, 'colsample_bytree': 0.5820724414999946, 'subsample': 0.9023066502449707, 'learning_rate': 0.034438827683686335, 'n_estimators': 1559, 'max_depth': 5, 'min_child_weight': 6, 'num_parallel_tree': 1}. Best is trial 173 with value: 0.09909467168372289.\u001b[0m\n",
      "\u001b[32m[I 2023-06-06 08:31:45,284]\u001b[0m Trial 501 finished with value: 0.12985179351640316 and parameters: {'lambda': 5.433869076888252, 'alpha': 3.739458909283548, 'colsample_bytree': 0.631690400795897, 'subsample': 0.8291539029110516, 'learning_rate': 0.027339801260788756, 'n_estimators': 941, 'max_depth': 6, 'min_child_weight': 6, 'num_parallel_tree': 1}. Best is trial 173 with value: 0.09909467168372289.\u001b[0m\n",
      "\u001b[32m[I 2023-06-06 08:31:48,655]\u001b[0m Trial 502 finished with value: 0.12125740647556098 and parameters: {'lambda': 4.730668470810054, 'alpha': 3.468855014064389, 'colsample_bytree': 0.30412068259366487, 'subsample': 0.8606364779206188, 'learning_rate': 0.03719008252235737, 'n_estimators': 1445, 'max_depth': 6, 'min_child_weight': 6, 'num_parallel_tree': 1}. Best is trial 173 with value: 0.09909467168372289.\u001b[0m\n",
      "\u001b[32m[I 2023-06-06 08:31:53,113]\u001b[0m Trial 503 finished with value: 0.11389326764087628 and parameters: {'lambda': 4.54588203240811, 'alpha': 1.4013018420234804, 'colsample_bytree': 0.5502995709673719, 'subsample': 0.9226985984155329, 'learning_rate': 0.031867878668749135, 'n_estimators': 1506, 'max_depth': 6, 'min_child_weight': 1, 'num_parallel_tree': 1}. Best is trial 173 with value: 0.09909467168372289.\u001b[0m\n",
      "\u001b[32m[I 2023-06-06 08:31:57,414]\u001b[0m Trial 504 finished with value: 0.11831919999448665 and parameters: {'lambda': 3.492772252320952, 'alpha': 2.6404973540948244, 'colsample_bytree': 0.6059798907464334, 'subsample': 0.9096461677325267, 'learning_rate': 0.04171329574133805, 'n_estimators': 1669, 'max_depth': 6, 'min_child_weight': 6, 'num_parallel_tree': 1}. Best is trial 173 with value: 0.09909467168372289.\u001b[0m\n",
      "\u001b[32m[I 2023-06-06 08:31:59,304]\u001b[0m Trial 505 finished with value: 0.14051308878525826 and parameters: {'lambda': 2.3151553605568718, 'alpha': 7.094031315337282, 'colsample_bytree': 0.33033798127693004, 'subsample': 0.8209683196054256, 'learning_rate': 0.02474646351789654, 'n_estimators': 631, 'max_depth': 9, 'min_child_weight': 6, 'num_parallel_tree': 1}. Best is trial 173 with value: 0.09909467168372289.\u001b[0m\n",
      "\u001b[32m[I 2023-06-06 08:32:02,690]\u001b[0m Trial 506 finished with value: 0.12084538981152722 and parameters: {'lambda': 6.571578053857743, 'alpha': 2.127052861828433, 'colsample_bytree': 0.6264321477560884, 'subsample': 0.8756250935351931, 'learning_rate': 0.049554843174045266, 'n_estimators': 1039, 'max_depth': 6, 'min_child_weight': 6, 'num_parallel_tree': 1}. Best is trial 173 with value: 0.09909467168372289.\u001b[0m\n",
      "\u001b[32m[I 2023-06-06 08:32:07,919]\u001b[0m Trial 507 finished with value: 0.1333015489301054 and parameters: {'lambda': 2.7802560268401546, 'alpha': 1.0317512976442784, 'colsample_bytree': 0.36831247426438174, 'subsample': 0.8681305003703684, 'learning_rate': 0.03903821259841674, 'n_estimators': 1610, 'max_depth': 7, 'min_child_weight': 6, 'num_parallel_tree': 1}. Best is trial 173 with value: 0.09909467168372289.\u001b[0m\n",
      "\u001b[32m[I 2023-06-06 08:32:12,519]\u001b[0m Trial 508 finished with value: 0.132711224764306 and parameters: {'lambda': 5.261198454670787, 'alpha': 1.6338473096933763, 'colsample_bytree': 0.28221117174844995, 'subsample': 0.7943918025272538, 'learning_rate': 0.03537716595565971, 'n_estimators': 1533, 'max_depth': 5, 'min_child_weight': 10, 'num_parallel_tree': 1}. Best is trial 173 with value: 0.09909467168372289.\u001b[0m\n",
      "\u001b[32m[I 2023-06-06 08:32:17,010]\u001b[0m Trial 509 finished with value: 0.13907931571331014 and parameters: {'lambda': 2.561168028038699, 'alpha': 5.466366985193674, 'colsample_bytree': 0.5274073806910267, 'subsample': 0.7565921038617855, 'learning_rate': 0.028042349106205105, 'n_estimators': 1749, 'max_depth': 6, 'min_child_weight': 2, 'num_parallel_tree': 1}. Best is trial 173 with value: 0.09909467168372289.\u001b[0m\n",
      "\u001b[32m[I 2023-06-06 08:32:19,594]\u001b[0m Trial 510 finished with value: 0.1236805737823676 and parameters: {'lambda': 2.840722929924242, 'alpha': 2.3981642548908564, 'colsample_bytree': 0.2605854176437419, 'subsample': 0.8718481755350229, 'learning_rate': 0.030115580097788957, 'n_estimators': 904, 'max_depth': 6, 'min_child_weight': 6, 'num_parallel_tree': 1}. Best is trial 173 with value: 0.09909467168372289.\u001b[0m\n",
      "\u001b[32m[I 2023-06-06 08:32:22,641]\u001b[0m Trial 511 finished with value: 0.13659535107848003 and parameters: {'lambda': 8.073658533106673, 'alpha': 4.377480438917935, 'colsample_bytree': 0.6243684928353576, 'subsample': 0.8966269039236405, 'learning_rate': 0.025520826490499686, 'n_estimators': 1001, 'max_depth': 6, 'min_child_weight': 6, 'num_parallel_tree': 1}. Best is trial 173 with value: 0.09909467168372289.\u001b[0m\n",
      "\u001b[32m[I 2023-06-06 08:32:27,964]\u001b[0m Trial 512 finished with value: 0.12975824256272325 and parameters: {'lambda': 6.1744241836102205, 'alpha': 1.9354782385415505, 'colsample_bytree': 0.5831090019065989, 'subsample': 0.8916421252968761, 'learning_rate': 0.033561836785318565, 'n_estimators': 1577, 'max_depth': 8, 'min_child_weight': 6, 'num_parallel_tree': 1}. Best is trial 173 with value: 0.09909467168372289.\u001b[0m\n",
      "\u001b[32m[I 2023-06-06 08:32:31,307]\u001b[0m Trial 513 finished with value: 0.14211287058756764 and parameters: {'lambda': 7.745337697328674, 'alpha': 1.209385086443004, 'colsample_bytree': 0.11490201964641372, 'subsample': 0.23830805966165436, 'learning_rate': 0.051582704919011096, 'n_estimators': 1407, 'max_depth': 9, 'min_child_weight': 5, 'num_parallel_tree': 1}. Best is trial 173 with value: 0.09909467168372289.\u001b[0m\n",
      "\u001b[32m[I 2023-06-06 08:32:35,827]\u001b[0m Trial 514 finished with value: 0.12400375230703391 and parameters: {'lambda': 4.955535257392774, 'alpha': 4.180931369546927, 'colsample_bytree': 0.557158192297451, 'subsample': 0.8355594173482718, 'learning_rate': 0.015407714420994225, 'n_estimators': 1643, 'max_depth': 6, 'min_child_weight': 6, 'num_parallel_tree': 1}. Best is trial 173 with value: 0.09909467168372289.\u001b[0m\n",
      "\u001b[32m[I 2023-06-06 08:32:39,086]\u001b[0m Trial 515 finished with value: 0.11558587717894676 and parameters: {'lambda': 4.081574448863369, 'alpha': 0.8920365802200975, 'colsample_bytree': 0.35077949524919044, 'subsample': 0.6982125154158795, 'learning_rate': 0.023068102838851464, 'n_estimators': 1071, 'max_depth': 6, 'min_child_weight': 8, 'num_parallel_tree': 1}. Best is trial 173 with value: 0.09909467168372289.\u001b[0m\n",
      "\u001b[32m[I 2023-06-06 08:32:43,890]\u001b[0m Trial 516 finished with value: 0.12841417890051612 and parameters: {'lambda': 3.066358199723706, 'alpha': 1.514769737661723, 'colsample_bytree': 0.3863852364892773, 'subsample': 0.7703791232500629, 'learning_rate': 0.043894593745362406, 'n_estimators': 1470, 'max_depth': 6, 'min_child_weight': 6, 'num_parallel_tree': 1}. Best is trial 173 with value: 0.09909467168372289.\u001b[0m\n",
      "\u001b[32m[I 2023-06-06 08:32:49,503]\u001b[0m Trial 517 finished with value: 0.12311151293991567 and parameters: {'lambda': 2.2001405518007937, 'alpha': 1.7833045741842537, 'colsample_bytree': 0.6999624001475178, 'subsample': 0.683278953023072, 'learning_rate': 0.03616216107584812, 'n_estimators': 1694, 'max_depth': 6, 'min_child_weight': 5, 'num_parallel_tree': 1}. Best is trial 173 with value: 0.09909467168372289.\u001b[0m\n",
      "\u001b[32m[I 2023-06-06 08:32:53,725]\u001b[0m Trial 518 finished with value: 0.1323328747500479 and parameters: {'lambda': 0.5708996966224641, 'alpha': 3.2508617367554202, 'colsample_bytree': 0.7433520596462291, 'subsample': 0.6505016193077324, 'learning_rate': 0.031436035415547826, 'n_estimators': 1539, 'max_depth': 4, 'min_child_weight': 9, 'num_parallel_tree': 1}. Best is trial 173 with value: 0.09909467168372289.\u001b[0m\n",
      "\u001b[32m[I 2023-06-06 08:32:58,686]\u001b[0m Trial 519 finished with value: 0.11050402338835788 and parameters: {'lambda': 8.3621722948297, 'alpha': 2.7014990923767, 'colsample_bytree': 0.6162495741824725, 'subsample': 0.8099792398167069, 'learning_rate': 0.038949097688741795, 'n_estimators': 1576, 'max_depth': 10, 'min_child_weight': 6, 'num_parallel_tree': 1}. Best is trial 173 with value: 0.09909467168372289.\u001b[0m\n"
     ]
    },
    {
     "name": "stderr",
     "output_type": "stream",
     "text": [
      "\u001b[32m[I 2023-06-06 08:33:02,937]\u001b[0m Trial 520 finished with value: 0.1364473918428143 and parameters: {'lambda': 9.458867222682263, 'alpha': 2.7036842599232824, 'colsample_bytree': 0.6451422132395663, 'subsample': 0.845141592086603, 'learning_rate': 0.038255079851673174, 'n_estimators': 1471, 'max_depth': 7, 'min_child_weight': 6, 'num_parallel_tree': 1}. Best is trial 173 with value: 0.09909467168372289.\u001b[0m\n",
      "\u001b[32m[I 2023-06-06 08:33:07,978]\u001b[0m Trial 521 finished with value: 0.12346584870255972 and parameters: {'lambda': 8.558114480824308, 'alpha': 2.538371058665257, 'colsample_bytree': 0.608500203752252, 'subsample': 0.8051788669044406, 'learning_rate': 0.04041327585263021, 'n_estimators': 1564, 'max_depth': 10, 'min_child_weight': 6, 'num_parallel_tree': 1}. Best is trial 173 with value: 0.09909467168372289.\u001b[0m\n",
      "\u001b[32m[I 2023-06-06 08:33:11,178]\u001b[0m Trial 522 finished with value: 0.12876842843808511 and parameters: {'lambda': 7.3698652119593895, 'alpha': 2.890581167963583, 'colsample_bytree': 0.6262950359666843, 'subsample': 0.8199340064894295, 'learning_rate': 0.04216588244173663, 'n_estimators': 952, 'max_depth': 10, 'min_child_weight': 3, 'num_parallel_tree': 1}. Best is trial 173 with value: 0.09909467168372289.\u001b[0m\n",
      "\u001b[32m[I 2023-06-06 08:33:14,639]\u001b[0m Trial 523 finished with value: 0.13057670987201406 and parameters: {'lambda': 9.384768548175401, 'alpha': 3.016487667591204, 'colsample_bytree': 0.5953675082255185, 'subsample': 0.2825284213573433, 'learning_rate': 0.011730064054726421, 'n_estimators': 1097, 'max_depth': 10, 'min_child_weight': 5, 'num_parallel_tree': 1}. Best is trial 173 with value: 0.09909467168372289.\u001b[0m\n",
      "\u001b[32m[I 2023-06-06 08:33:18,907]\u001b[0m Trial 524 finished with value: 0.12624381149560157 and parameters: {'lambda': 5.979256336583399, 'alpha': 2.31136301091058, 'colsample_bytree': 0.620612142408774, 'subsample': 0.831299367398163, 'learning_rate': 0.04061461207743877, 'n_estimators': 1373, 'max_depth': 6, 'min_child_weight': 6, 'num_parallel_tree': 1}. Best is trial 173 with value: 0.09909467168372289.\u001b[0m\n",
      "\u001b[32m[I 2023-06-06 08:33:23,536]\u001b[0m Trial 525 finished with value: 0.1379558759016741 and parameters: {'lambda': 9.043403814455912, 'alpha': 2.6799624586414454, 'colsample_bytree': 0.9992960606386856, 'subsample': 0.8770272814670956, 'learning_rate': 0.046046313489342856, 'n_estimators': 1516, 'max_depth': 6, 'min_child_weight': 1, 'num_parallel_tree': 1}. Best is trial 173 with value: 0.09909467168372289.\u001b[0m\n",
      "\u001b[32m[I 2023-06-06 08:33:28,732]\u001b[0m Trial 526 finished with value: 0.11960696147231237 and parameters: {'lambda': 7.853888680269651, 'alpha': 2.0788540292614197, 'colsample_bytree': 0.3230457859381659, 'subsample': 0.7990352771384964, 'learning_rate': 0.027106325488677564, 'n_estimators': 1607, 'max_depth': 10, 'min_child_weight': 6, 'num_parallel_tree': 1}. Best is trial 173 with value: 0.09909467168372289.\u001b[0m\n",
      "\u001b[32m[I 2023-06-06 08:33:31,490]\u001b[0m Trial 527 finished with value: 0.11990558555355546 and parameters: {'lambda': 6.140871056761861, 'alpha': 3.193324990524602, 'colsample_bytree': 0.6195117767898454, 'subsample': 0.8491152828665031, 'learning_rate': 0.020981622429123478, 'n_estimators': 814, 'max_depth': 6, 'min_child_weight': 6, 'num_parallel_tree': 1}. Best is trial 173 with value: 0.09909467168372289.\u001b[0m\n",
      "\u001b[32m[I 2023-06-06 08:33:34,293]\u001b[0m Trial 528 finished with value: 0.14066037845069357 and parameters: {'lambda': 7.605691492105122, 'alpha': 3.394463636874333, 'colsample_bytree': 0.5692641444063966, 'subsample': 0.7184003891976379, 'learning_rate': 0.08595140696754705, 'n_estimators': 1007, 'max_depth': 10, 'min_child_weight': 5, 'num_parallel_tree': 1}. Best is trial 173 with value: 0.09909467168372289.\u001b[0m\n",
      "\u001b[32m[I 2023-06-06 08:33:38,403]\u001b[0m Trial 529 finished with value: 0.15284735079499603 and parameters: {'lambda': 9.076643223011185, 'alpha': 3.612507852957287, 'colsample_bytree': 0.6786584318192735, 'subsample': 0.8639775903608226, 'learning_rate': 0.01392532347260917, 'n_estimators': 1428, 'max_depth': 5, 'min_child_weight': 6, 'num_parallel_tree': 1}. Best is trial 173 with value: 0.09909467168372289.\u001b[0m\n",
      "\u001b[32m[I 2023-06-06 08:33:42,248]\u001b[0m Trial 530 finished with value: 0.14756322980721387 and parameters: {'lambda': 6.879495358398408, 'alpha': 2.8471052775572545, 'colsample_bytree': 0.34260173212357853, 'subsample': 0.7598801561451193, 'learning_rate': 0.05482213738703404, 'n_estimators': 1499, 'max_depth': 10, 'min_child_weight': 2, 'num_parallel_tree': 1}. Best is trial 173 with value: 0.09909467168372289.\u001b[0m\n",
      "\u001b[32m[I 2023-06-06 08:33:47,745]\u001b[0m Trial 531 finished with value: 0.12478046805013573 and parameters: {'lambda': 5.727022975871109, 'alpha': 2.2983605715858344, 'colsample_bytree': 0.7006418617964927, 'subsample': 0.8159627383997871, 'learning_rate': 0.023956472062531785, 'n_estimators': 1591, 'max_depth': 10, 'min_child_weight': 5, 'num_parallel_tree': 1}. Best is trial 173 with value: 0.09909467168372289.\u001b[0m\n",
      "\u001b[32m[I 2023-06-06 08:33:50,330]\u001b[0m Trial 532 finished with value: 0.13495686850814362 and parameters: {'lambda': 6.703600685317834, 'alpha': 5.666119047490611, 'colsample_bytree': 0.5443591975680355, 'subsample': 0.8396194054992336, 'learning_rate': 0.04418199161956839, 'n_estimators': 1061, 'max_depth': 10, 'min_child_weight': 6, 'num_parallel_tree': 1}. Best is trial 173 with value: 0.09909467168372289.\u001b[0m\n",
      "\u001b[32m[I 2023-06-06 08:33:54,582]\u001b[0m Trial 533 finished with value: 0.12711377173420885 and parameters: {'lambda': 5.569081226124352, 'alpha': 2.448780375281927, 'colsample_bytree': 0.6562123032065286, 'subsample': 0.7780816507900453, 'learning_rate': 0.03870225518438205, 'n_estimators': 1546, 'max_depth': 6, 'min_child_weight': 6, 'num_parallel_tree': 1}. Best is trial 173 with value: 0.09909467168372289.\u001b[0m\n",
      "\u001b[32m[I 2023-06-06 08:33:58,945]\u001b[0m Trial 534 finished with value: 0.11699333867146935 and parameters: {'lambda': 4.180879033727865, 'alpha': 2.6356577352169688, 'colsample_bytree': 0.3717600180855151, 'subsample': 0.7858318298695519, 'learning_rate': 0.059702859462980325, 'n_estimators': 1661, 'max_depth': 8, 'min_child_weight': 5, 'num_parallel_tree': 1}. Best is trial 173 with value: 0.09909467168372289.\u001b[0m\n",
      "\u001b[32m[I 2023-06-06 08:34:02,504]\u001b[0m Trial 535 finished with value: 0.13703686388769185 and parameters: {'lambda': 8.17222404545948, 'alpha': 8.267102975589431, 'colsample_bytree': 0.30603444098958593, 'subsample': 0.8528053359453436, 'learning_rate': 0.029134092963431498, 'n_estimators': 1458, 'max_depth': 3, 'min_child_weight': 9, 'num_parallel_tree': 1}. Best is trial 173 with value: 0.09909467168372289.\u001b[0m\n",
      "\u001b[32m[I 2023-06-06 08:34:06,757]\u001b[0m Trial 536 finished with value: 0.11711383283708635 and parameters: {'lambda': 7.01833995340103, 'alpha': 1.7992063561466212, 'colsample_bytree': 0.5634259683234837, 'subsample': 0.6289257384516201, 'learning_rate': 0.026049456973722743, 'n_estimators': 1404, 'max_depth': 6, 'min_child_weight': 8, 'num_parallel_tree': 1}. Best is trial 173 with value: 0.09909467168372289.\u001b[0m\n",
      "\u001b[32m[I 2023-06-06 08:34:09,640]\u001b[0m Trial 537 finished with value: 0.1370388455033882 and parameters: {'lambda': 6.872577329002967, 'alpha': 5.8625913194782555, 'colsample_bytree': 0.3606877893645776, 'subsample': 0.6629875901264524, 'learning_rate': 0.042349172352163636, 'n_estimators': 1131, 'max_depth': 6, 'min_child_weight': 6, 'num_parallel_tree': 1}. Best is trial 173 with value: 0.09909467168372289.\u001b[0m\n",
      "\u001b[32m[I 2023-06-06 08:34:12,899]\u001b[0m Trial 538 finished with value: 0.11611327734321902 and parameters: {'lambda': 7.250352914390798, 'alpha': 1.3820753267348418, 'colsample_bytree': 0.7787245096064526, 'subsample': 0.5167459660926282, 'learning_rate': 0.04750162411239966, 'n_estimators': 902, 'max_depth': 7, 'min_child_weight': 6, 'num_parallel_tree': 1}. Best is trial 173 with value: 0.09909467168372289.\u001b[0m\n",
      "\u001b[32m[I 2023-06-06 08:34:18,413]\u001b[0m Trial 539 finished with value: 0.11840726877033257 and parameters: {'lambda': 6.496651289171654, 'alpha': 1.9882012913767957, 'colsample_bytree': 0.396299967494331, 'subsample': 0.6151985755867473, 'learning_rate': 0.018954399841096356, 'n_estimators': 1720, 'max_depth': 6, 'min_child_weight': 5, 'num_parallel_tree': 1}. Best is trial 173 with value: 0.09909467168372289.\u001b[0m\n"
     ]
    },
    {
     "name": "stderr",
     "output_type": "stream",
     "text": [
      "\u001b[32m[I 2023-06-06 08:34:22,173]\u001b[0m Trial 540 finished with value: 0.16878151301784222 and parameters: {'lambda': 8.76253381102727, 'alpha': 7.6115536903517915, 'colsample_bytree': 0.1292658243943085, 'subsample': 0.5329913394284521, 'learning_rate': 0.03722082694013275, 'n_estimators': 1617, 'max_depth': 6, 'min_child_weight': 6, 'num_parallel_tree': 1}. Best is trial 173 with value: 0.09909467168372289.\u001b[0m\n",
      "\u001b[32m[I 2023-06-06 08:34:26,085]\u001b[0m Trial 541 finished with value: 0.1342952507521942 and parameters: {'lambda': 9.025512999628251, 'alpha': 5.496017376208325, 'colsample_bytree': 0.33067105065259816, 'subsample': 0.7327111978815672, 'learning_rate': 0.022509763843397597, 'n_estimators': 1512, 'max_depth': 10, 'min_child_weight': 6, 'num_parallel_tree': 1}. Best is trial 173 with value: 0.09909467168372289.\u001b[0m\n",
      "\u001b[32m[I 2023-06-06 08:34:28,904]\u001b[0m Trial 542 finished with value: 0.14991972855375305 and parameters: {'lambda': 8.409017863142045, 'alpha': 0.9744505082405808, 'colsample_bytree': 0.378044718670864, 'subsample': 0.6395558255252843, 'learning_rate': 0.006524823821196513, 'n_estimators': 986, 'max_depth': 6, 'min_child_weight': 7, 'num_parallel_tree': 1}. Best is trial 173 with value: 0.09909467168372289.\u001b[0m\n",
      "\u001b[32m[I 2023-06-06 08:34:33,017]\u001b[0m Trial 543 finished with value: 0.13673236561108543 and parameters: {'lambda': 9.586926652251991, 'alpha': 6.18040181381516, 'colsample_bytree': 0.6393873620551623, 'subsample': 0.679023365779973, 'learning_rate': 0.03972161345736361, 'n_estimators': 1558, 'max_depth': 6, 'min_child_weight': 5, 'num_parallel_tree': 1}. Best is trial 173 with value: 0.09909467168372289.\u001b[0m\n",
      "\u001b[32m[I 2023-06-06 08:34:35,647]\u001b[0m Trial 544 finished with value: 0.14784253551077242 and parameters: {'lambda': 8.074192484140735, 'alpha': 4.914248456083688, 'colsample_bytree': 0.35293617830619994, 'subsample': 0.3920490631859024, 'learning_rate': 0.027619588198441843, 'n_estimators': 1045, 'max_depth': 6, 'min_child_weight': 6, 'num_parallel_tree': 1}. Best is trial 173 with value: 0.09909467168372289.\u001b[0m\n",
      "\u001b[32m[I 2023-06-06 08:34:40,580]\u001b[0m Trial 545 finished with value: 0.13810637005253923 and parameters: {'lambda': 6.691542973620006, 'alpha': 3.9712284054452063, 'colsample_bytree': 0.5770569816085216, 'subsample': 0.4903314333994011, 'learning_rate': 0.0246111082928536, 'n_estimators': 1760, 'max_depth': 5, 'min_child_weight': 6, 'num_parallel_tree': 1}. Best is trial 173 with value: 0.09909467168372289.\u001b[0m\n",
      "\u001b[32m[I 2023-06-06 08:34:45,313]\u001b[0m Trial 546 finished with value: 0.12368949303356103 and parameters: {'lambda': 2.4182478617709005, 'alpha': 4.768344458593548, 'colsample_bytree': 0.5188755688860025, 'subsample': 0.7475104026140638, 'learning_rate': 0.017055530719747386, 'n_estimators': 1655, 'max_depth': 6, 'min_child_weight': 5, 'num_parallel_tree': 1}. Best is trial 173 with value: 0.09909467168372289.\u001b[0m\n",
      "\u001b[32m[I 2023-06-06 08:34:49,139]\u001b[0m Trial 547 finished with value: 0.14971162811286773 and parameters: {'lambda': 6.514286230226898, 'alpha': 3.070206888677694, 'colsample_bytree': 0.31063600815362213, 'subsample': 0.44561120398145937, 'learning_rate': 0.032527132643319225, 'n_estimators': 1323, 'max_depth': 7, 'min_child_weight': 6, 'num_parallel_tree': 1}. Best is trial 173 with value: 0.09909467168372289.\u001b[0m\n",
      "\u001b[32m[I 2023-06-06 08:34:54,401]\u001b[0m Trial 548 finished with value: 0.11338669641858025 and parameters: {'lambda': 5.0721861438039735, 'alpha': 0.7796100337522249, 'colsample_bytree': 0.3797037810100053, 'subsample': 0.6545013077276677, 'learning_rate': 0.052492136466862786, 'n_estimators': 1444, 'max_depth': 8, 'min_child_weight': 6, 'num_parallel_tree': 1}. Best is trial 173 with value: 0.09909467168372289.\u001b[0m\n",
      "\u001b[32m[I 2023-06-06 08:34:59,574]\u001b[0m Trial 549 finished with value: 0.1271639116340324 and parameters: {'lambda': 3.712663560752076, 'alpha': 1.629652421417492, 'colsample_bytree': 0.3986303761489792, 'subsample': 0.6042416577639208, 'learning_rate': 0.03026589572437417, 'n_estimators': 1577, 'max_depth': 6, 'min_child_weight': 1, 'num_parallel_tree': 1}. Best is trial 173 with value: 0.09909467168372289.\u001b[0m\n",
      "\u001b[32m[I 2023-06-06 08:35:02,419]\u001b[0m Trial 550 finished with value: 3.322885261713597 and parameters: {'lambda': 2.0508007171619553, 'alpha': 2.1832665694303732, 'colsample_bytree': 0.8964241354996549, 'subsample': 0.8352125668934036, 'learning_rate': 0.001119491082158447, 'n_estimators': 1121, 'max_depth': 6, 'min_child_weight': 5, 'num_parallel_tree': 1}. Best is trial 173 with value: 0.09909467168372289.\u001b[0m\n",
      "\u001b[32m[I 2023-06-06 08:35:06,845]\u001b[0m Trial 551 finished with value: 0.13954821666809328 and parameters: {'lambda': 5.949502418931688, 'alpha': 2.898000974544345, 'colsample_bytree': 0.34135605808554936, 'subsample': 0.8172434022150538, 'learning_rate': 0.03655514707898538, 'n_estimators': 1488, 'max_depth': 6, 'min_child_weight': 6, 'num_parallel_tree': 1}. Best is trial 173 with value: 0.09909467168372289.\u001b[0m\n",
      "\u001b[32m[I 2023-06-06 08:35:10,137]\u001b[0m Trial 552 finished with value: 0.1256590591622732 and parameters: {'lambda': 7.246856198838909, 'alpha': 1.204069783770978, 'colsample_bytree': 0.6674206272020227, 'subsample': 0.42652995676836436, 'learning_rate': 0.048400020159640615, 'n_estimators': 967, 'max_depth': 6, 'min_child_weight': 2, 'num_parallel_tree': 1}. Best is trial 173 with value: 0.09909467168372289.\u001b[0m\n",
      "\u001b[32m[I 2023-06-06 08:35:15,649]\u001b[0m Trial 553 finished with value: 0.13155796556973623 and parameters: {'lambda': 2.259599366543388, 'alpha': 0.47650452514871267, 'colsample_bytree': 0.363422359307539, 'subsample': 0.8598687786351258, 'learning_rate': 0.026227146283626945, 'n_estimators': 2001, 'max_depth': 4, 'min_child_weight': 3, 'num_parallel_tree': 1}. Best is trial 173 with value: 0.09909467168372289.\u001b[0m\n",
      "\u001b[32m[I 2023-06-06 08:35:20,218]\u001b[0m Trial 554 finished with value: 0.11552665435442326 and parameters: {'lambda': 7.133807425114442, 'alpha': 1.4573582232186775, 'colsample_bytree': 0.773213823130003, 'subsample': 0.3761800186233988, 'learning_rate': 0.020624327408350566, 'n_estimators': 1401, 'max_depth': 6, 'min_child_weight': 7, 'num_parallel_tree': 1}. Best is trial 173 with value: 0.09909467168372289.\u001b[0m\n",
      "\u001b[32m[I 2023-06-06 08:35:24,433]\u001b[0m Trial 555 finished with value: 0.1443795979756436 and parameters: {'lambda': 0.9006045849410449, 'alpha': 9.288059508595598, 'colsample_bytree': 0.6129150016688756, 'subsample': 0.5496055347495361, 'learning_rate': 0.02878066866356732, 'n_estimators': 1597, 'max_depth': 6, 'min_child_weight': 5, 'num_parallel_tree': 1}. Best is trial 173 with value: 0.09909467168372289.\u001b[0m\n",
      "\u001b[32m[I 2023-06-06 08:35:28,291]\u001b[0m Trial 556 finished with value: 0.1478597362142892 and parameters: {'lambda': 5.65501160173708, 'alpha': 2.4568504000471707, 'colsample_bytree': 0.7124010848800358, 'subsample': 0.7944465325201727, 'learning_rate': 0.034421180483775835, 'n_estimators': 1174, 'max_depth': 7, 'min_child_weight': 6, 'num_parallel_tree': 1}. Best is trial 173 with value: 0.09909467168372289.\u001b[0m\n",
      "\u001b[32m[I 2023-06-06 08:35:30,686]\u001b[0m Trial 557 finished with value: 0.12490285903424074 and parameters: {'lambda': 8.25440196625796, 'alpha': 3.750547608160715, 'colsample_bytree': 0.2865726831596553, 'subsample': 0.6989429906307617, 'learning_rate': 0.042972322126360304, 'n_estimators': 871, 'max_depth': 6, 'min_child_weight': 6, 'num_parallel_tree': 1}. Best is trial 173 with value: 0.09909467168372289.\u001b[0m\n",
      "\u001b[32m[I 2023-06-06 08:35:36,121]\u001b[0m Trial 558 finished with value: 0.11930378724454234 and parameters: {'lambda': 7.77870620491491, 'alpha': 1.0632951571605673, 'colsample_bytree': 0.32141382477954533, 'subsample': 0.6183116421304377, 'learning_rate': 0.04070510112670312, 'n_estimators': 1705, 'max_depth': 10, 'min_child_weight': 6, 'num_parallel_tree': 1}. Best is trial 173 with value: 0.09909467168372289.\u001b[0m\n",
      "\u001b[32m[I 2023-06-06 08:35:39,615]\u001b[0m Trial 559 finished with value: 0.13070943944444008 and parameters: {'lambda': 9.211449643301709, 'alpha': 3.318273933012914, 'colsample_bytree': 0.9170320026444176, 'subsample': 0.5030769957575099, 'learning_rate': 0.04560302479991768, 'n_estimators': 1046, 'max_depth': 6, 'min_child_weight': 6, 'num_parallel_tree': 1}. Best is trial 173 with value: 0.09909467168372289.\u001b[0m\n"
     ]
    },
    {
     "name": "stderr",
     "output_type": "stream",
     "text": [
      "\u001b[32m[I 2023-06-06 08:35:44,325]\u001b[0m Trial 560 finished with value: 0.11949398965267317 and parameters: {'lambda': 8.70573340147841, 'alpha': 0.6895449665487987, 'colsample_bytree': 0.3891278347878338, 'subsample': 0.7168381117676123, 'learning_rate': 0.0385360796257671, 'n_estimators': 1534, 'max_depth': 5, 'min_child_weight': 8, 'num_parallel_tree': 1}. Best is trial 173 with value: 0.09909467168372289.\u001b[0m\n",
      "\u001b[32m[I 2023-06-06 08:35:49,176]\u001b[0m Trial 561 finished with value: 0.11391084218234804 and parameters: {'lambda': 7.478429289542365, 'alpha': 1.87092857623457, 'colsample_bytree': 0.4071475293767512, 'subsample': 0.4722340363541868, 'learning_rate': 0.022830828387142486, 'n_estimators': 1632, 'max_depth': 6, 'min_child_weight': 5, 'num_parallel_tree': 1}. Best is trial 173 with value: 0.09909467168372289.\u001b[0m\n",
      "\u001b[32m[I 2023-06-06 08:35:51,571]\u001b[0m Trial 562 finished with value: 0.13802913575756626 and parameters: {'lambda': 9.918275761783686, 'alpha': 3.0338888754583886, 'colsample_bytree': 0.34591737329189604, 'subsample': 0.33066657185380927, 'learning_rate': 0.05026240984560618, 'n_estimators': 944, 'max_depth': 3, 'min_child_weight': 6, 'num_parallel_tree': 1}. Best is trial 173 with value: 0.09909467168372289.\u001b[0m\n",
      "\u001b[32m[I 2023-06-06 08:35:54,863]\u001b[0m Trial 563 finished with value: 0.15082512668339068 and parameters: {'lambda': 7.269094995654515, 'alpha': 6.945503520970752, 'colsample_bytree': 0.36471519068957153, 'subsample': 0.22020411670731777, 'learning_rate': 0.03237333780223524, 'n_estimators': 1369, 'max_depth': 8, 'min_child_weight': 5, 'num_parallel_tree': 1}. Best is trial 173 with value: 0.09909467168372289.\u001b[0m\n",
      "\u001b[32m[I 2023-06-06 08:35:59,036]\u001b[0m Trial 564 finished with value: 0.1161797258522539 and parameters: {'lambda': 2.4894481051602058, 'alpha': 1.3000197533138387, 'colsample_bytree': 0.3782346539896856, 'subsample': 0.5268841271686544, 'learning_rate': 0.09987375043624976, 'n_estimators': 1489, 'max_depth': 6, 'min_child_weight': 7, 'num_parallel_tree': 1}. Best is trial 173 with value: 0.09909467168372289.\u001b[0m\n",
      "\u001b[32m[I 2023-06-06 08:36:03,777]\u001b[0m Trial 565 finished with value: 0.12786812343019335 and parameters: {'lambda': 8.821746719778087, 'alpha': 2.608624713204732, 'colsample_bytree': 0.53895331733221, 'subsample': 0.6412422414204143, 'learning_rate': 0.025170216021513463, 'n_estimators': 1677, 'max_depth': 6, 'min_child_weight': 6, 'num_parallel_tree': 1}. Best is trial 173 with value: 0.09909467168372289.\u001b[0m\n",
      "\u001b[32m[I 2023-06-06 08:36:07,274]\u001b[0m Trial 566 finished with value: 0.12785831073383522 and parameters: {'lambda': 3.4062644413140317, 'alpha': 2.7843331712856103, 'colsample_bytree': 0.16844947328730636, 'subsample': 0.2721973569156718, 'learning_rate': 0.028231005122584224, 'n_estimators': 1566, 'max_depth': 7, 'min_child_weight': 6, 'num_parallel_tree': 1}. Best is trial 173 with value: 0.09909467168372289.\u001b[0m\n",
      "\u001b[32m[I 2023-06-06 08:36:08,834]\u001b[0m Trial 567 finished with value: 0.12223970345579296 and parameters: {'lambda': 8.447616998094828, 'alpha': 2.0405564579375715, 'colsample_bytree': 0.5855950178226604, 'subsample': 0.5998064860627783, 'learning_rate': 0.030737737343832647, 'n_estimators': 446, 'max_depth': 6, 'min_child_weight': 6, 'num_parallel_tree': 1}. Best is trial 173 with value: 0.09909467168372289.\u001b[0m\n",
      "\u001b[32m[I 2023-06-06 08:36:11,921]\u001b[0m Trial 568 finished with value: 0.12713960801512383 and parameters: {'lambda': 8.294827394615893, 'alpha': 1.570487622037941, 'colsample_bytree': 0.3382729365506533, 'subsample': 0.5683115595509343, 'learning_rate': 0.06369534432756832, 'n_estimators': 1085, 'max_depth': 6, 'min_child_weight': 5, 'num_parallel_tree': 1}. Best is trial 173 with value: 0.09909467168372289.\u001b[0m\n",
      "\u001b[32m[I 2023-06-06 08:36:15,102]\u001b[0m Trial 569 finished with value: 0.12955972055429613 and parameters: {'lambda': 1.496866603786643, 'alpha': 4.670547293332163, 'colsample_bytree': 0.40774248373884564, 'subsample': 0.8889773152465649, 'learning_rate': 0.07377977077068987, 'n_estimators': 1450, 'max_depth': 6, 'min_child_weight': 6, 'num_parallel_tree': 1}. Best is trial 173 with value: 0.09909467168372289.\u001b[0m\n",
      "\u001b[32m[I 2023-06-06 08:36:19,464]\u001b[0m Trial 570 finished with value: 0.15256772151878406 and parameters: {'lambda': 2.595932642898788, 'alpha': 0.8784764711891053, 'colsample_bytree': 0.35345638308234784, 'subsample': 0.7664781508983844, 'learning_rate': 0.0032063749189221932, 'n_estimators': 1775, 'max_depth': 10, 'min_child_weight': 7, 'num_parallel_tree': 1}. Best is trial 173 with value: 0.09909467168372289.\u001b[0m\n",
      "\u001b[32m[I 2023-06-06 08:36:24,694]\u001b[0m Trial 571 finished with value: 0.11844728643232082 and parameters: {'lambda': 8.580120831243525, 'alpha': 1.1364321074898607, 'colsample_bytree': 0.8053342091414305, 'subsample': 0.6334017408439299, 'learning_rate': 0.035706584010735065, 'n_estimators': 1604, 'max_depth': 6, 'min_child_weight': 6, 'num_parallel_tree': 1}. Best is trial 173 with value: 0.09909467168372289.\u001b[0m\n",
      "\u001b[32m[I 2023-06-06 08:36:28,239]\u001b[0m Trial 572 finished with value: 0.13667501227665638 and parameters: {'lambda': 6.429960056379198, 'alpha': 2.1941982967282847, 'colsample_bytree': 0.5086225371187565, 'subsample': 0.40320808256320395, 'learning_rate': 0.020054691559675066, 'n_estimators': 1311, 'max_depth': 6, 'min_child_weight': 5, 'num_parallel_tree': 1}. Best is trial 173 with value: 0.09909467168372289.\u001b[0m\n",
      "\u001b[32m[I 2023-06-06 08:36:32,034]\u001b[0m Trial 573 finished with value: 0.14463860140992033 and parameters: {'lambda': 6.774853388175931, 'alpha': 7.699026990006078, 'colsample_bytree': 0.6367731873470831, 'subsample': 0.4550459526735759, 'learning_rate': 0.014839869258855092, 'n_estimators': 1525, 'max_depth': 6, 'min_child_weight': 6, 'num_parallel_tree': 1}. Best is trial 173 with value: 0.09909467168372289.\u001b[0m\n",
      "\u001b[32m[I 2023-06-06 08:36:35,390]\u001b[0m Trial 574 finished with value: 0.11031373377523818 and parameters: {'lambda': 7.688687586416359, 'alpha': 1.7851787264219328, 'colsample_bytree': 0.27296403475092956, 'subsample': 0.5461635575582822, 'learning_rate': 0.0375664487854577, 'n_estimators': 1173, 'max_depth': 5, 'min_child_weight': 2, 'num_parallel_tree': 1}. Best is trial 173 with value: 0.09909467168372289.\u001b[0m\n",
      "\u001b[32m[I 2023-06-06 08:36:38,114]\u001b[0m Trial 575 finished with value: 0.12812690620550535 and parameters: {'lambda': 8.194560823937532, 'alpha': 6.582027794523881, 'colsample_bytree': 0.25228033871683453, 'subsample': 0.5348929423013057, 'learning_rate': 0.03834018742432287, 'n_estimators': 1117, 'max_depth': 5, 'min_child_weight': 2, 'num_parallel_tree': 1}. Best is trial 173 with value: 0.09909467168372289.\u001b[0m\n",
      "\u001b[32m[I 2023-06-06 08:36:41,925]\u001b[0m Trial 576 finished with value: 0.12995751740723166 and parameters: {'lambda': 4.3540647096670675, 'alpha': 1.7629147000493397, 'colsample_bytree': 0.15494149573814958, 'subsample': 0.5469805237486521, 'learning_rate': 0.041482574299573936, 'n_estimators': 1197, 'max_depth': 5, 'min_child_weight': 2, 'num_parallel_tree': 1}. Best is trial 173 with value: 0.09909467168372289.\u001b[0m\n",
      "\u001b[32m[I 2023-06-06 08:36:45,437]\u001b[0m Trial 577 finished with value: 0.127845498045984 and parameters: {'lambda': 7.391171045486451, 'alpha': 1.918927454631188, 'colsample_bytree': 0.29342877871788364, 'subsample': 0.5054607988179831, 'learning_rate': 0.037210419175643224, 'n_estimators': 1173, 'max_depth': 5, 'min_child_weight': 3, 'num_parallel_tree': 1}. Best is trial 173 with value: 0.09909467168372289.\u001b[0m\n",
      "\u001b[32m[I 2023-06-06 08:36:48,666]\u001b[0m Trial 578 finished with value: 0.13609454653809486 and parameters: {'lambda': 7.889344847586117, 'alpha': 1.4837816047733912, 'colsample_bytree': 0.240256138058422, 'subsample': 0.5525268356843219, 'learning_rate': 0.0081331947040168, 'n_estimators': 1135, 'max_depth': 5, 'min_child_weight': 1, 'num_parallel_tree': 1}. Best is trial 173 with value: 0.09909467168372289.\u001b[0m\n",
      "\u001b[32m[I 2023-06-06 08:36:52,259]\u001b[0m Trial 579 finished with value: 0.12941487164661267 and parameters: {'lambda': 7.980956109913964, 'alpha': 1.7460660783004713, 'colsample_bytree': 0.29092722253664827, 'subsample': 0.5199393902047103, 'learning_rate': 0.03526281474589647, 'n_estimators': 1226, 'max_depth': 5, 'min_child_weight': 2, 'num_parallel_tree': 1}. Best is trial 173 with value: 0.09909467168372289.\u001b[0m\n"
     ]
    },
    {
     "name": "stderr",
     "output_type": "stream",
     "text": [
      "\u001b[32m[I 2023-06-06 08:36:55,506]\u001b[0m Trial 580 finished with value: 0.11102736007760171 and parameters: {'lambda': 7.60711349821039, 'alpha': 1.319068395876048, 'colsample_bytree': 0.26363757556850426, 'subsample': 0.7370949404877299, 'learning_rate': 0.04334062597792467, 'n_estimators': 1024, 'max_depth': 5, 'min_child_weight': 3, 'num_parallel_tree': 1}. Best is trial 173 with value: 0.09909467168372289.\u001b[0m\n",
      "\u001b[32m[I 2023-06-06 08:36:59,000]\u001b[0m Trial 581 finished with value: 0.1204097700775472 and parameters: {'lambda': 3.847409579228487, 'alpha': 3.9026859093655784, 'colsample_bytree': 0.23205652811104033, 'subsample': 0.5371462235837531, 'learning_rate': 0.039115907153970696, 'n_estimators': 1256, 'max_depth': 5, 'min_child_weight': 2, 'num_parallel_tree': 1}. Best is trial 173 with value: 0.09909467168372289.\u001b[0m\n",
      "\u001b[32m[I 2023-06-06 08:37:02,355]\u001b[0m Trial 582 finished with value: 0.12370071280791503 and parameters: {'lambda': 7.939772112671433, 'alpha': 1.606629761861549, 'colsample_bytree': 0.27274131317140926, 'subsample': 0.6703569849913231, 'learning_rate': 0.0404416866732646, 'n_estimators': 1169, 'max_depth': 5, 'min_child_weight': 3, 'num_parallel_tree': 1}. Best is trial 173 with value: 0.09909467168372289.\u001b[0m\n",
      "\u001b[32m[I 2023-06-06 08:37:05,018]\u001b[0m Trial 583 finished with value: 0.156297468041494 and parameters: {'lambda': 8.533412950830146, 'alpha': 4.419414751680618, 'colsample_bytree': 0.24829584680370212, 'subsample': 0.4848054555505508, 'learning_rate': 0.037745936922375614, 'n_estimators': 1034, 'max_depth': 8, 'min_child_weight': 3, 'num_parallel_tree': 1}. Best is trial 173 with value: 0.09909467168372289.\u001b[0m\n",
      "\u001b[32m[I 2023-06-06 08:37:08,678]\u001b[0m Trial 584 finished with value: 0.12087202192568733 and parameters: {'lambda': 2.886407528298927, 'alpha': 2.07580638537553, 'colsample_bytree': 0.186446408228908, 'subsample': 0.8140449725747256, 'learning_rate': 0.01726764075254482, 'n_estimators': 1123, 'max_depth': 5, 'min_child_weight': 2, 'num_parallel_tree': 1}. Best is trial 173 with value: 0.09909467168372289.\u001b[0m\n",
      "\u001b[32m[I 2023-06-06 08:37:12,358]\u001b[0m Trial 585 finished with value: 0.1493575619567732 and parameters: {'lambda': 8.305059034659637, 'alpha': 3.566172400260044, 'colsample_bytree': 0.27794775746535494, 'subsample': 0.5660267734777886, 'learning_rate': 0.055904961588549115, 'n_estimators': 1296, 'max_depth': 7, 'min_child_weight': 1, 'num_parallel_tree': 1}. Best is trial 173 with value: 0.09909467168372289.\u001b[0m\n",
      "\u001b[32m[I 2023-06-06 08:37:15,073]\u001b[0m Trial 586 finished with value: 0.13207323273872723 and parameters: {'lambda': 1.1264338963819778, 'alpha': 5.28468521299223, 'colsample_bytree': 0.3049013500909617, 'subsample': 0.8511484624673503, 'learning_rate': 0.04187728643591036, 'n_estimators': 964, 'max_depth': 5, 'min_child_weight': 1, 'num_parallel_tree': 1}. Best is trial 173 with value: 0.09909467168372289.\u001b[0m\n",
      "\u001b[32m[I 2023-06-06 08:37:19,556]\u001b[0m Trial 587 finished with value: 0.12890159768713 and parameters: {'lambda': 0.3228273929434706, 'alpha': 0.9253915720739669, 'colsample_bytree': 0.41622555906595954, 'subsample': 0.8284365244015085, 'learning_rate': 0.0340282152923166, 'n_estimators': 1070, 'max_depth': 10, 'min_child_weight': 5, 'num_parallel_tree': 1}. Best is trial 173 with value: 0.09909467168372289.\u001b[0m\n",
      "\u001b[32m[I 2023-06-06 08:37:23,196]\u001b[0m Trial 588 finished with value: 0.1580458797151344 and parameters: {'lambda': 3.597217044922886, 'alpha': 5.621247884815914, 'colsample_bytree': 0.8297975509033346, 'subsample': 0.9274896897271561, 'learning_rate': 0.03687628106633801, 'n_estimators': 1366, 'max_depth': 3, 'min_child_weight': 1, 'num_parallel_tree': 1}. Best is trial 173 with value: 0.09909467168372289.\u001b[0m\n",
      "\u001b[32m[I 2023-06-06 08:37:25,354]\u001b[0m Trial 589 finished with value: 0.30639053228929525 and parameters: {'lambda': 8.97464221954047, 'alpha': 7.383349585695756, 'colsample_bytree': 0.32164297403572395, 'subsample': 0.5143310575449244, 'learning_rate': 0.004633368254911445, 'n_estimators': 893, 'max_depth': 7, 'min_child_weight': 8, 'num_parallel_tree': 1}. Best is trial 173 with value: 0.09909467168372289.\u001b[0m\n",
      "\u001b[32m[I 2023-06-06 08:37:29,273]\u001b[0m Trial 590 finished with value: 0.13947999420954874 and parameters: {'lambda': 7.656566310454331, 'alpha': 1.410065836508422, 'colsample_bytree': 0.39547855826680867, 'subsample': 0.7856831281599082, 'learning_rate': 0.04542148617365467, 'n_estimators': 1219, 'max_depth': 4, 'min_child_weight': 2, 'num_parallel_tree': 1}. Best is trial 173 with value: 0.09909467168372289.\u001b[0m\n",
      "\u001b[32m[I 2023-06-06 08:37:33,584]\u001b[0m Trial 591 finished with value: 0.13442941717259116 and parameters: {'lambda': 7.169138980070442, 'alpha': 0.34382213344581836, 'colsample_bytree': 0.9456568511074421, 'subsample': 0.6841589288234654, 'learning_rate': 0.009972292491376336, 'n_estimators': 985, 'max_depth': 6, 'min_child_weight': 5, 'num_parallel_tree': 1}. Best is trial 173 with value: 0.09909467168372289.\u001b[0m\n",
      "\u001b[32m[I 2023-06-06 08:37:37,035]\u001b[0m Trial 592 finished with value: 0.12723145831002802 and parameters: {'lambda': 8.086014440975378, 'alpha': 4.927037387018656, 'colsample_bytree': 0.19247279820227647, 'subsample': 0.8781858618008265, 'learning_rate': 0.021568151961792677, 'n_estimators': 1109, 'max_depth': 8, 'min_child_weight': 7, 'num_parallel_tree': 1}. Best is trial 173 with value: 0.09909467168372289.\u001b[0m\n",
      "\u001b[32m[I 2023-06-06 08:37:41,170]\u001b[0m Trial 593 finished with value: 0.1505896124344175 and parameters: {'lambda': 7.71838204685032, 'alpha': 1.0903300054946252, 'colsample_bytree': 0.41873010506132147, 'subsample': 0.5851387254590317, 'learning_rate': 0.011984079986901465, 'n_estimators': 1060, 'max_depth': 6, 'min_child_weight': 5, 'num_parallel_tree': 1}. Best is trial 173 with value: 0.09909467168372289.\u001b[0m\n",
      "\u001b[32m[I 2023-06-06 08:37:48,414]\u001b[0m Trial 594 finished with value: 0.14443591892195687 and parameters: {'lambda': 3.0471995769859315, 'alpha': 7.923112667365433, 'colsample_bytree': 0.6003224241795504, 'subsample': 0.4935395633779265, 'learning_rate': 0.02352092709818219, 'n_estimators': 1426, 'max_depth': 6, 'min_child_weight': 5, 'num_parallel_tree': 1}. Best is trial 173 with value: 0.09909467168372289.\u001b[0m\n",
      "\u001b[32m[I 2023-06-06 08:37:52,366]\u001b[0m Trial 595 finished with value: 0.12621583438095485 and parameters: {'lambda': 8.884351301395105, 'alpha': 0.6724977086028633, 'colsample_bytree': 0.9681423259221682, 'subsample': 0.8015499195131881, 'learning_rate': 0.03935981800639191, 'n_estimators': 811, 'max_depth': 5, 'min_child_weight': 5, 'num_parallel_tree': 1}. Best is trial 173 with value: 0.09909467168372289.\u001b[0m\n",
      "\u001b[32m[I 2023-06-06 08:37:56,220]\u001b[0m Trial 596 finished with value: 0.1459313587652717 and parameters: {'lambda': 3.305545830792676, 'alpha': 1.9339737400847288, 'colsample_bytree': 0.3117507150858746, 'subsample': 0.5557565045060826, 'learning_rate': 0.08506778684480776, 'n_estimators': 1170, 'max_depth': 7, 'min_child_weight': 4, 'num_parallel_tree': 1}. Best is trial 173 with value: 0.09909467168372289.\u001b[0m\n",
      "\u001b[32m[I 2023-06-06 08:38:00,824]\u001b[0m Trial 597 finished with value: 0.13837465643559424 and parameters: {'lambda': 7.060903831015283, 'alpha': 4.194871170739475, 'colsample_bytree': 0.37548846250220264, 'subsample': 0.6167082834231529, 'learning_rate': 0.03370130627366108, 'n_estimators': 1301, 'max_depth': 6, 'min_child_weight': 6, 'num_parallel_tree': 1}. Best is trial 173 with value: 0.09909467168372289.\u001b[0m\n",
      "\u001b[32m[I 2023-06-06 08:38:05,227]\u001b[0m Trial 598 finished with value: 0.1370601529236886 and parameters: {'lambda': 2.700280409776515, 'alpha': 2.3881899732796827, 'colsample_bytree': 0.431523886605215, 'subsample': 0.42962148718048365, 'learning_rate': 0.008978001089356731, 'n_estimators': 993, 'max_depth': 9, 'min_child_weight': 8, 'num_parallel_tree': 1}. Best is trial 173 with value: 0.09909467168372289.\u001b[0m\n",
      "\u001b[32m[I 2023-06-06 08:38:09,541]\u001b[0m Trial 599 finished with value: 0.12985643651921558 and parameters: {'lambda': 7.418184049789359, 'alpha': 6.295804891516774, 'colsample_bytree': 0.11566505375790898, 'subsample': 0.6583967163953248, 'learning_rate': 0.06654176593272663, 'n_estimators': 1389, 'max_depth': 6, 'min_child_weight': 6, 'num_parallel_tree': 1}. Best is trial 173 with value: 0.09909467168372289.\u001b[0m\n"
     ]
    },
    {
     "name": "stderr",
     "output_type": "stream",
     "text": [
      "\u001b[32m[I 2023-06-06 08:38:14,217]\u001b[0m Trial 600 finished with value: 0.13231262982938818 and parameters: {'lambda': 4.029621666923085, 'alpha': 1.252494295221771, 'colsample_bytree': 0.5709116012468122, 'subsample': 0.5277236932415754, 'learning_rate': 0.03584519735840477, 'n_estimators': 1459, 'max_depth': 2, 'min_child_weight': 10, 'num_parallel_tree': 1}. Best is trial 173 with value: 0.09909467168372289.\u001b[0m\n",
      "\u001b[32m[I 2023-06-06 08:38:21,734]\u001b[0m Trial 601 finished with value: 0.13524423600540772 and parameters: {'lambda': 1.6602314400745, 'alpha': 1.7274524697540912, 'colsample_bytree': 0.20012411983693656, 'subsample': 0.7474397617041368, 'learning_rate': 0.06906682621003316, 'n_estimators': 1942, 'max_depth': 6, 'min_child_weight': 6, 'num_parallel_tree': 1}. Best is trial 173 with value: 0.09909467168372289.\u001b[0m\n",
      "\u001b[32m[I 2023-06-06 08:38:26,092]\u001b[0m Trial 602 finished with value: 0.1305723402795281 and parameters: {'lambda': 1.3679804021661974, 'alpha': 1.570309608575214, 'colsample_bytree': 0.2659251550918828, 'subsample': 0.580055466817472, 'learning_rate': 0.047795517040865744, 'n_estimators': 1098, 'max_depth': 10, 'min_child_weight': 7, 'num_parallel_tree': 1}. Best is trial 173 with value: 0.09909467168372289.\u001b[0m\n",
      "\u001b[32m[I 2023-06-06 08:38:29,421]\u001b[0m Trial 603 finished with value: 0.12309051650302812 and parameters: {'lambda': 6.344832835107574, 'alpha': 2.2147689440182976, 'colsample_bytree': 0.3923958954277219, 'subsample': 0.8636617622827386, 'learning_rate': 0.018814479761514458, 'n_estimators': 915, 'max_depth': 6, 'min_child_weight': 5, 'num_parallel_tree': 1}. Best is trial 173 with value: 0.09909467168372289.\u001b[0m\n",
      "\u001b[32m[I 2023-06-06 08:38:38,697]\u001b[0m Trial 604 finished with value: 0.12431414584439518 and parameters: {'lambda': 8.671593499125798, 'alpha': 0.1863370477567171, 'colsample_bytree': 0.6620430644573855, 'subsample': 0.7075661941715001, 'learning_rate': 0.026245233886344078, 'n_estimators': 1663, 'max_depth': 6, 'min_child_weight': 6, 'num_parallel_tree': 1}. Best is trial 173 with value: 0.09909467168372289.\u001b[0m\n",
      "\u001b[32m[I 2023-06-06 08:38:42,958]\u001b[0m Trial 605 finished with value: 0.17003887204145787 and parameters: {'lambda': 5.376949266939873, 'alpha': 9.493740456534386, 'colsample_bytree': 0.6784105289648487, 'subsample': 0.4595505011863246, 'learning_rate': 0.05253840407181803, 'n_estimators': 1220, 'max_depth': 6, 'min_child_weight': 1, 'num_parallel_tree': 1}. Best is trial 173 with value: 0.09909467168372289.\u001b[0m\n",
      "\u001b[32m[I 2023-06-06 08:38:49,067]\u001b[0m Trial 606 finished with value: 0.1292831120318285 and parameters: {'lambda': 2.3939370381576524, 'alpha': 1.080890943148156, 'colsample_bytree': 0.22991263622944064, 'subsample': 0.961511556287812, 'learning_rate': 0.03245096912247187, 'n_estimators': 1550, 'max_depth': 7, 'min_child_weight': 6, 'num_parallel_tree': 1}. Best is trial 173 with value: 0.09909467168372289.\u001b[0m\n",
      "\u001b[32m[I 2023-06-06 08:38:55,641]\u001b[0m Trial 607 finished with value: 0.11429394220311542 and parameters: {'lambda': 9.284240865803168, 'alpha': 0.5388505105450032, 'colsample_bytree': 0.22427910701714965, 'subsample': 0.5474671889620062, 'learning_rate': 0.041158459154545655, 'n_estimators': 1731, 'max_depth': 5, 'min_child_weight': 3, 'num_parallel_tree': 1}. Best is trial 173 with value: 0.09909467168372289.\u001b[0m\n",
      "\u001b[32m[I 2023-06-06 08:39:01,715]\u001b[0m Trial 608 finished with value: 0.13024491780483805 and parameters: {'lambda': 8.386352171411144, 'alpha': 0.7896402485039982, 'colsample_bytree': 0.8973711463486178, 'subsample': 0.913575676151027, 'learning_rate': 0.02372594680631354, 'n_estimators': 1353, 'max_depth': 8, 'min_child_weight': 4, 'num_parallel_tree': 1}. Best is trial 173 with value: 0.09909467168372289.\u001b[0m\n",
      "\u001b[32m[I 2023-06-06 08:39:04,694]\u001b[0m Trial 609 finished with value: 0.13039625130032975 and parameters: {'lambda': 4.479926818682641, 'alpha': 6.58985865350636, 'colsample_bytree': 0.3346934032250317, 'subsample': 0.6339608835015991, 'learning_rate': 0.038838494119369626, 'n_estimators': 1049, 'max_depth': 4, 'min_child_weight': 9, 'num_parallel_tree': 1}. Best is trial 173 with value: 0.09909467168372289.\u001b[0m\n",
      "\u001b[32m[I 2023-06-06 08:39:09,767]\u001b[0m Trial 610 finished with value: 0.13920062813216508 and parameters: {'lambda': 4.703409533844045, 'alpha': 3.4775674501913785, 'colsample_bytree': 0.6166184806277628, 'subsample': 0.3635829614592173, 'learning_rate': 0.049585735561339, 'n_estimators': 1608, 'max_depth': 9, 'min_child_weight': 6, 'num_parallel_tree': 1}. Best is trial 173 with value: 0.09909467168372289.\u001b[0m\n",
      "\u001b[32m[I 2023-06-06 08:39:14,860]\u001b[0m Trial 611 finished with value: 0.12445451473353017 and parameters: {'lambda': 9.716403505347106, 'alpha': 1.8709738509691325, 'colsample_bytree': 0.36444860761766634, 'subsample': 0.8405195665644422, 'learning_rate': 0.04360365725157379, 'n_estimators': 1502, 'max_depth': 6, 'min_child_weight': 5, 'num_parallel_tree': 1}. Best is trial 173 with value: 0.09909467168372289.\u001b[0m\n",
      "\u001b[32m[I 2023-06-06 08:39:19,669]\u001b[0m Trial 612 finished with value: 0.13281682110839774 and parameters: {'lambda': 2.9560588180168783, 'alpha': 1.4056491940145994, 'colsample_bytree': 0.3833100853950851, 'subsample': 0.47396275858995046, 'learning_rate': 0.02967752867734796, 'n_estimators': 1181, 'max_depth': 6, 'min_child_weight': 7, 'num_parallel_tree': 1}. Best is trial 173 with value: 0.09909467168372289.\u001b[0m\n",
      "\u001b[32m[I 2023-06-06 08:39:23,618]\u001b[0m Trial 613 finished with value: 0.13992802111228128 and parameters: {'lambda': 1.0409159298942536, 'alpha': 1.219492259332421, 'colsample_bytree': 0.4271336979320658, 'subsample': 0.30561316126323107, 'learning_rate': 0.06212458094034937, 'n_estimators': 991, 'max_depth': 6, 'min_child_weight': 6, 'num_parallel_tree': 1}. Best is trial 173 with value: 0.09909467168372289.\u001b[0m\n",
      "\u001b[32m[I 2023-06-06 08:39:28,272]\u001b[0m Trial 614 finished with value: 0.1195756518617974 and parameters: {'lambda': 2.149083610371142, 'alpha': 0.9859219387340994, 'colsample_bytree': 0.2906641571845284, 'subsample': 0.5139787914011297, 'learning_rate': 0.05700398994898946, 'n_estimators': 1257, 'max_depth': 6, 'min_child_weight': 2, 'num_parallel_tree': 1}. Best is trial 173 with value: 0.09909467168372289.\u001b[0m\n",
      "\u001b[32m[I 2023-06-06 08:39:32,418]\u001b[0m Trial 615 finished with value: 0.13513882026150234 and parameters: {'lambda': 2.617606706375044, 'alpha': 3.1949442836766506, 'colsample_bytree': 0.6918697081722697, 'subsample': 0.60715778067969, 'learning_rate': 0.0810133975331478, 'n_estimators': 1478, 'max_depth': 6, 'min_child_weight': 6, 'num_parallel_tree': 1}. Best is trial 173 with value: 0.09909467168372289.\u001b[0m\n",
      "\u001b[32m[I 2023-06-06 08:39:38,367]\u001b[0m Trial 616 finished with value: 0.13854761947725533 and parameters: {'lambda': 6.920520674197276, 'alpha': 7.578938177313889, 'colsample_bytree': 0.4043451623271905, 'subsample': 0.77179771925916, 'learning_rate': 0.036920741687085284, 'n_estimators': 2070, 'max_depth': 10, 'min_child_weight': 5, 'num_parallel_tree': 1}. Best is trial 173 with value: 0.09909467168372289.\u001b[0m\n",
      "\u001b[32m[I 2023-06-06 08:39:41,925]\u001b[0m Trial 617 finished with value: 0.12150626698645818 and parameters: {'lambda': 1.8816839627990127, 'alpha': 1.6781874123351352, 'colsample_bytree': 0.7138751190378754, 'subsample': 0.5930495457305989, 'learning_rate': 0.02136406791130981, 'n_estimators': 1139, 'max_depth': 2, 'min_child_weight': 6, 'num_parallel_tree': 1}. Best is trial 173 with value: 0.09909467168372289.\u001b[0m\n",
      "\u001b[32m[I 2023-06-06 08:39:47,159]\u001b[0m Trial 618 finished with value: 0.12895338883101126 and parameters: {'lambda': 2.335326173123419, 'alpha': 2.2133586816250754, 'colsample_bytree': 0.3494036924711536, 'subsample': 0.4094692626492313, 'learning_rate': 0.02683592337065923, 'n_estimators': 1584, 'max_depth': 7, 'min_child_weight': 6, 'num_parallel_tree': 1}. Best is trial 173 with value: 0.09909467168372289.\u001b[0m\n",
      "\u001b[32m[I 2023-06-06 08:39:51,728]\u001b[0m Trial 619 finished with value: 0.13880627882851332 and parameters: {'lambda': 3.217794981251518, 'alpha': 6.339837900810322, 'colsample_bytree': 0.3209158285846063, 'subsample': 0.6508248977064421, 'learning_rate': 0.03466710404957141, 'n_estimators': 1667, 'max_depth': 6, 'min_child_weight': 7, 'num_parallel_tree': 1}. Best is trial 173 with value: 0.09909467168372289.\u001b[0m\n"
     ]
    },
    {
     "name": "stderr",
     "output_type": "stream",
     "text": [
      "\u001b[32m[I 2023-06-06 08:39:57,361]\u001b[0m Trial 620 finished with value: 0.12330785961245824 and parameters: {'lambda': 3.649601302547172, 'alpha': 2.5961366122164344, 'colsample_bytree': 0.37559334756563933, 'subsample': 0.5733834133633375, 'learning_rate': 0.03144622497377564, 'n_estimators': 1806, 'max_depth': 5, 'min_child_weight': 5, 'num_parallel_tree': 1}. Best is trial 173 with value: 0.09909467168372289.\u001b[0m\n",
      "\u001b[32m[I 2023-06-06 08:40:03,215]\u001b[0m Trial 621 finished with value: 0.10776503919175431 and parameters: {'lambda': 2.824829083110039, 'alpha': 2.0177702919584166, 'colsample_bytree': 0.2581136241907523, 'subsample': 0.8079577278475494, 'learning_rate': 0.01633219305590458, 'n_estimators': 2156, 'max_depth': 3, 'min_child_weight': 6, 'num_parallel_tree': 1}. Best is trial 173 with value: 0.09909467168372289.\u001b[0m\n",
      "\u001b[32m[I 2023-06-06 08:40:08,815]\u001b[0m Trial 622 finished with value: 0.14919296576517282 and parameters: {'lambda': 2.8176619401357423, 'alpha': 5.168406709146273, 'colsample_bytree': 0.20472293406960546, 'subsample': 0.24357228258193353, 'learning_rate': 0.014700431246286994, 'n_estimators': 2178, 'max_depth': 9, 'min_child_weight': 5, 'num_parallel_tree': 1}. Best is trial 173 with value: 0.09909467168372289.\u001b[0m\n",
      "\u001b[32m[I 2023-06-06 08:40:14,920]\u001b[0m Trial 623 finished with value: 0.14295654274053157 and parameters: {'lambda': 2.624879516965369, 'alpha': 1.9934504424966857, 'colsample_bytree': 0.30789311273850856, 'subsample': 0.2940528620886588, 'learning_rate': 0.004266182176995391, 'n_estimators': 2173, 'max_depth': 3, 'min_child_weight': 8, 'num_parallel_tree': 1}. Best is trial 173 with value: 0.09909467168372289.\u001b[0m\n",
      "\u001b[32m[I 2023-06-06 08:40:17,726]\u001b[0m Trial 624 finished with value: 0.1136816757917021 and parameters: {'lambda': 3.026550866107003, 'alpha': 1.815332743743513, 'colsample_bytree': 0.24324633583346617, 'subsample': 0.7245519535442131, 'learning_rate': 0.016937615897522105, 'n_estimators': 1020, 'max_depth': 3, 'min_child_weight': 3, 'num_parallel_tree': 1}. Best is trial 173 with value: 0.09909467168372289.\u001b[0m\n",
      "\u001b[32m[I 2023-06-06 08:40:20,532]\u001b[0m Trial 625 finished with value: 0.14407897789176755 and parameters: {'lambda': 2.856612264645455, 'alpha': 4.555931996991182, 'colsample_bytree': 0.2231709554732917, 'subsample': 0.9338900827144807, 'learning_rate': 0.018663514308569766, 'n_estimators': 941, 'max_depth': 3, 'min_child_weight': 6, 'num_parallel_tree': 1}. Best is trial 173 with value: 0.09909467168372289.\u001b[0m\n",
      "\u001b[32m[I 2023-06-06 08:40:28,196]\u001b[0m Trial 626 finished with value: 0.11617355352094685 and parameters: {'lambda': 2.4798972170383666, 'alpha': 2.1237909439680345, 'colsample_bytree': 0.4794814882097588, 'subsample': 0.5381190868463327, 'learning_rate': 0.014633187765823043, 'n_estimators': 2295, 'max_depth': 3, 'min_child_weight': 5, 'num_parallel_tree': 1}. Best is trial 173 with value: 0.09909467168372289.\u001b[0m\n",
      "\u001b[32m[I 2023-06-06 08:40:34,196]\u001b[0m Trial 627 finished with value: 0.13089149423663438 and parameters: {'lambda': 3.2237207321075663, 'alpha': 1.4950854802903073, 'colsample_bytree': 0.28817680245532307, 'subsample': 0.6246994513585182, 'learning_rate': 0.016842886123843905, 'n_estimators': 2099, 'max_depth': 3, 'min_child_weight': 6, 'num_parallel_tree': 1}. Best is trial 173 with value: 0.09909467168372289.\u001b[0m\n",
      "\u001b[32m[I 2023-06-06 08:40:40,170]\u001b[0m Trial 628 finished with value: 0.13953242941646227 and parameters: {'lambda': 0.6086948072479519, 'alpha': 6.01301689184373, 'colsample_bytree': 0.728815507907738, 'subsample': 0.3398240989684744, 'learning_rate': 0.019420655967662594, 'n_estimators': 2182, 'max_depth': 3, 'min_child_weight': 6, 'num_parallel_tree': 1}. Best is trial 173 with value: 0.09909467168372289.\u001b[0m\n",
      "\u001b[32m[I 2023-06-06 08:40:46,138]\u001b[0m Trial 629 finished with value: 0.1294357447068718 and parameters: {'lambda': 2.015419715570838, 'alpha': 1.6626859145249955, 'colsample_bytree': 0.25908409617173384, 'subsample': 0.4494155543949533, 'learning_rate': 0.013631517847305943, 'n_estimators': 2000, 'max_depth': 3, 'min_child_weight': 6, 'num_parallel_tree': 1}. Best is trial 173 with value: 0.09909467168372289.\u001b[0m\n",
      "\u001b[32m[I 2023-06-06 08:40:53,606]\u001b[0m Trial 630 finished with value: 0.12440947628777188 and parameters: {'lambda': 3.8979362891067986, 'alpha': 0.8578135422080962, 'colsample_bytree': 0.2562275652410061, 'subsample': 0.4891373046787341, 'learning_rate': 0.021881095853680196, 'n_estimators': 2238, 'max_depth': 3, 'min_child_weight': 2, 'num_parallel_tree': 1}. Best is trial 173 with value: 0.09909467168372289.\u001b[0m\n",
      "\u001b[32m[I 2023-06-06 08:41:00,374]\u001b[0m Trial 631 finished with value: 0.11485599079743818 and parameters: {'lambda': 2.274002141605875, 'alpha': 6.733119873609565, 'colsample_bytree': 0.3356585333293518, 'subsample': 0.5588656738621214, 'learning_rate': 0.02464705224418213, 'n_estimators': 2237, 'max_depth': 6, 'min_child_weight': 7, 'num_parallel_tree': 1}. Best is trial 173 with value: 0.09909467168372289.\u001b[0m\n",
      "\u001b[32m[I 2023-06-06 08:41:05,921]\u001b[0m Trial 632 finished with value: 0.13146002059346598 and parameters: {'lambda': 3.4436202680191075, 'alpha': 8.865340613356745, 'colsample_bytree': 0.40040615469876617, 'subsample': 0.5016959810542607, 'learning_rate': 0.028269906469281805, 'n_estimators': 2090, 'max_depth': 6, 'min_child_weight': 4, 'num_parallel_tree': 1}. Best is trial 173 with value: 0.09909467168372289.\u001b[0m\n",
      "\u001b[32m[I 2023-06-06 08:41:08,935]\u001b[0m Trial 633 finished with value: 0.14567305402551045 and parameters: {'lambda': 2.7484652324127627, 'alpha': 3.9689428932427036, 'colsample_bytree': 0.7532747620419933, 'subsample': 0.6031920320597979, 'learning_rate': 0.05950446907014375, 'n_estimators': 1077, 'max_depth': 3, 'min_child_weight': 6, 'num_parallel_tree': 1}. Best is trial 173 with value: 0.09909467168372289.\u001b[0m\n",
      "\u001b[32m[I 2023-06-06 08:41:12,399]\u001b[0m Trial 634 finished with value: 0.14590871390907484 and parameters: {'lambda': 6.120170877494878, 'alpha': 1.9347154193293479, 'colsample_bytree': 0.17302195338331067, 'subsample': 0.35526529754886726, 'learning_rate': 0.016078059877483633, 'n_estimators': 1340, 'max_depth': 3, 'min_child_weight': 5, 'num_parallel_tree': 1}. Best is trial 173 with value: 0.09909467168372289.\u001b[0m\n",
      "\u001b[32m[I 2023-06-06 08:41:19,238]\u001b[0m Trial 635 finished with value: 0.12727119195589623 and parameters: {'lambda': 2.527792171067161, 'alpha': 8.104454394849618, 'colsample_bytree': 0.208653410302852, 'subsample': 0.5228178325867234, 'learning_rate': 0.011135898134763199, 'n_estimators': 2272, 'max_depth': 8, 'min_child_weight': 6, 'num_parallel_tree': 1}. Best is trial 173 with value: 0.09909467168372289.\u001b[0m\n",
      "\u001b[32m[I 2023-06-06 08:41:23,967]\u001b[0m Trial 636 finished with value: 0.12743248145055247 and parameters: {'lambda': 1.2841846589899752, 'alpha': 1.1901114992669894, 'colsample_bytree': 0.27492557488420455, 'subsample': 0.6923822987480547, 'learning_rate': 0.019717021252103433, 'n_estimators': 1097, 'max_depth': 6, 'min_child_weight': 5, 'num_parallel_tree': 1}. Best is trial 173 with value: 0.09909467168372289.\u001b[0m\n",
      "\u001b[32m[I 2023-06-06 08:41:31,455]\u001b[0m Trial 637 finished with value: 0.1348615481154115 and parameters: {'lambda': 5.05471024962695, 'alpha': 9.914142703741357, 'colsample_bytree': 0.36678852153412106, 'subsample': 0.904728627433266, 'learning_rate': 0.09463216126738468, 'n_estimators': 2034, 'max_depth': 6, 'min_child_weight': 6, 'num_parallel_tree': 1}. Best is trial 173 with value: 0.09909467168372289.\u001b[0m\n",
      "\u001b[32m[I 2023-06-06 08:41:35,109]\u001b[0m Trial 638 finished with value: 0.12801665309960866 and parameters: {'lambda': 1.6739943395318346, 'alpha': 4.974482508915164, 'colsample_bytree': 0.14879905604379318, 'subsample': 0.8555097129119438, 'learning_rate': 0.04519331502727958, 'n_estimators': 1263, 'max_depth': 6, 'min_child_weight': 6, 'num_parallel_tree': 1}. Best is trial 173 with value: 0.09909467168372289.\u001b[0m\n",
      "\u001b[32m[I 2023-06-06 08:41:44,881]\u001b[0m Trial 639 finished with value: 0.16794853704155696 and parameters: {'lambda': 4.207398435008661, 'alpha': 7.368066265862639, 'colsample_bytree': 0.4244355218876178, 'subsample': 0.36679257305615265, 'learning_rate': 0.024088499587861585, 'n_estimators': 2142, 'max_depth': 7, 'min_child_weight': 1, 'num_parallel_tree': 1}. Best is trial 173 with value: 0.09909467168372289.\u001b[0m\n"
     ]
    },
    {
     "name": "stderr",
     "output_type": "stream",
     "text": [
      "\u001b[32m[I 2023-06-06 08:41:49,055]\u001b[0m Trial 640 finished with value: 0.11832621416909254 and parameters: {'lambda': 3.0468785565089487, 'alpha': 0.6119927156034048, 'colsample_bytree': 0.24552811920073264, 'subsample': 0.820599064799659, 'learning_rate': 0.09579837080846429, 'n_estimators': 842, 'max_depth': 2, 'min_child_weight': 5, 'num_parallel_tree': 1}. Best is trial 173 with value: 0.09909467168372289.\u001b[0m\n",
      "\u001b[32m[I 2023-06-06 08:41:57,501]\u001b[0m Trial 641 finished with value: 0.12420116066003509 and parameters: {'lambda': 0.7670211540482224, 'alpha': 1.343952115992796, 'colsample_bytree': 0.26955011489284797, 'subsample': 0.7615964996454931, 'learning_rate': 0.031248896461345578, 'n_estimators': 1860, 'max_depth': 9, 'min_child_weight': 7, 'num_parallel_tree': 1}. Best is trial 173 with value: 0.09909467168372289.\u001b[0m\n",
      "\u001b[32m[I 2023-06-06 08:42:03,049]\u001b[0m Trial 642 finished with value: 0.11849708299125027 and parameters: {'lambda': 5.725859098390682, 'alpha': 4.27311241005833, 'colsample_bytree': 0.3545944501264331, 'subsample': 0.6186901341110512, 'learning_rate': 0.07501546387206284, 'n_estimators': 1392, 'max_depth': 5, 'min_child_weight': 6, 'num_parallel_tree': 1}. Best is trial 173 with value: 0.09909467168372289.\u001b[0m\n",
      "\u001b[32m[I 2023-06-06 08:42:05,988]\u001b[0m Trial 643 finished with value: 0.15476600640269114 and parameters: {'lambda': 2.1335611862340995, 'alpha': 5.9838634438463005, 'colsample_bytree': 0.44311333772467393, 'subsample': 0.6422025848319051, 'learning_rate': 0.09070837866039755, 'n_estimators': 915, 'max_depth': 6, 'min_child_weight': 4, 'num_parallel_tree': 1}. Best is trial 173 with value: 0.09909467168372289.\u001b[0m\n",
      "\u001b[32m[I 2023-06-06 08:42:13,262]\u001b[0m Trial 644 finished with value: 0.12571642352527995 and parameters: {'lambda': 2.683678381170517, 'alpha': 1.513897902737371, 'colsample_bytree': 0.22140389446141703, 'subsample': 0.5691008230450063, 'learning_rate': 0.026791678001898137, 'n_estimators': 2135, 'max_depth': 6, 'min_child_weight': 6, 'num_parallel_tree': 1}. Best is trial 173 with value: 0.09909467168372289.\u001b[0m\n",
      "\u001b[32m[I 2023-06-06 08:42:16,187]\u001b[0m Trial 645 finished with value: 0.1433572675373156 and parameters: {'lambda': 4.647683152900309, 'alpha': 2.311948002872841, 'colsample_bytree': 0.3906507215844028, 'subsample': 0.6672705912426761, 'learning_rate': 0.029587475528663656, 'n_estimators': 763, 'max_depth': 6, 'min_child_weight': 5, 'num_parallel_tree': 1}. Best is trial 173 with value: 0.09909467168372289.\u001b[0m\n",
      "\u001b[32m[I 2023-06-06 08:42:20,876]\u001b[0m Trial 646 finished with value: 0.13258601005841147 and parameters: {'lambda': 2.3648360301473557, 'alpha': 2.0681986251303353, 'colsample_bytree': 0.33476708602871436, 'subsample': 0.5832924801047668, 'learning_rate': 0.06448995676850536, 'n_estimators': 1159, 'max_depth': 6, 'min_child_weight': 1, 'num_parallel_tree': 1}. Best is trial 173 with value: 0.09909467168372289.\u001b[0m\n",
      "\u001b[32m[I 2023-06-06 08:42:28,245]\u001b[0m Trial 647 finished with value: 0.14858518268698215 and parameters: {'lambda': 2.9425019595939887, 'alpha': 5.219477791202208, 'colsample_bytree': 0.5228854127254944, 'subsample': 0.8361936472914604, 'learning_rate': 0.021583551305202328, 'n_estimators': 2368, 'max_depth': 6, 'min_child_weight': 2, 'num_parallel_tree': 1}. Best is trial 173 with value: 0.09909467168372289.\u001b[0m\n",
      "\u001b[32m[I 2023-06-06 08:42:34,018]\u001b[0m Trial 648 finished with value: 0.12642800059839665 and parameters: {'lambda': 6.749273598040314, 'alpha': 5.070406479461672, 'colsample_bytree': 0.30279216037073287, 'subsample': 0.5423135349668287, 'learning_rate': 0.046778619774448346, 'n_estimators': 989, 'max_depth': 8, 'min_child_weight': 6, 'num_parallel_tree': 1}. Best is trial 173 with value: 0.09909467168372289.\u001b[0m\n",
      "\u001b[32m[I 2023-06-06 08:42:52,478]\u001b[0m Trial 649 finished with value: 0.11534655087726789 and parameters: {'lambda': 1.9321255216917084, 'alpha': 0.018719922291168145, 'colsample_bytree': 0.7707906553615016, 'subsample': 0.44109422983510366, 'learning_rate': 0.0333744109063824, 'n_estimators': 1039, 'max_depth': 4, 'min_child_weight': 6, 'num_parallel_tree': 1}. Best is trial 173 with value: 0.09909467168372289.\u001b[0m\n",
      "\u001b[32m[I 2023-06-06 08:43:00,625]\u001b[0m Trial 650 finished with value: 0.1226887962273948 and parameters: {'lambda': 0.9337425955313214, 'alpha': 0.977820091315109, 'colsample_bytree': 0.5009320410745632, 'subsample': 0.8741976177798378, 'learning_rate': 0.02305845717655166, 'n_estimators': 1448, 'max_depth': 6, 'min_child_weight': 5, 'num_parallel_tree': 1}. Best is trial 173 with value: 0.09909467168372289.\u001b[0m\n",
      "\u001b[32m[I 2023-06-06 08:43:08,813]\u001b[0m Trial 651 finished with value: 0.14066879154261266 and parameters: {'lambda': 2.4955948814006956, 'alpha': 8.531567163884093, 'colsample_bytree': 0.38165596573641497, 'subsample': 0.4702562811480145, 'learning_rate': 0.018125750764397465, 'n_estimators': 2215, 'max_depth': 7, 'min_child_weight': 7, 'num_parallel_tree': 1}. Best is trial 173 with value: 0.09909467168372289.\u001b[0m\n",
      "\u001b[32m[I 2023-06-06 08:43:13,105]\u001b[0m Trial 652 finished with value: 0.12319134129728382 and parameters: {'lambda': 1.4517887279040578, 'alpha': 5.6358954012367715, 'colsample_bytree': 0.16555632904156542, 'subsample': 0.7998914757467571, 'learning_rate': 0.025436477733292363, 'n_estimators': 1211, 'max_depth': 5, 'min_child_weight': 6, 'num_parallel_tree': 1}. Best is trial 173 with value: 0.09909467168372289.\u001b[0m\n",
      "\u001b[32m[I 2023-06-06 08:43:18,339]\u001b[0m Trial 653 finished with value: 0.12740499581947692 and parameters: {'lambda': 3.6795276484277544, 'alpha': 1.8136381322858781, 'colsample_bytree': 0.41253980045012917, 'subsample': 0.6079268789327642, 'learning_rate': 0.05003844452647356, 'n_estimators': 1108, 'max_depth': 9, 'min_child_weight': 3, 'num_parallel_tree': 1}. Best is trial 173 with value: 0.09909467168372289.\u001b[0m\n",
      "\u001b[32m[I 2023-06-06 08:43:25,136]\u001b[0m Trial 654 finished with value: 0.15270973085621778 and parameters: {'lambda': 2.2336251522964057, 'alpha': 7.048027890649673, 'colsample_bytree': 0.4522970907901479, 'subsample': 0.5580728810075061, 'learning_rate': 0.03612520765210443, 'n_estimators': 1746, 'max_depth': 6, 'min_child_weight': 9, 'num_parallel_tree': 1}. Best is trial 173 with value: 0.09909467168372289.\u001b[0m\n",
      "\u001b[32m[I 2023-06-06 08:43:30,961]\u001b[0m Trial 655 finished with value: 0.11994447054371835 and parameters: {'lambda': 4.3707254848247, 'alpha': 0.7585105458870789, 'colsample_bytree': 0.3541630912077186, 'subsample': 0.7467551465620894, 'learning_rate': 0.01328795761339541, 'n_estimators': 1304, 'max_depth': 6, 'min_child_weight': 6, 'num_parallel_tree': 1}. Best is trial 173 with value: 0.09909467168372289.\u001b[0m\n",
      "\u001b[32m[I 2023-06-06 08:43:36,383]\u001b[0m Trial 656 finished with value: 0.12393877259810415 and parameters: {'lambda': 3.2875703657617668, 'alpha': 1.292316873193583, 'colsample_bytree': 0.31873102224702604, 'subsample': 0.31398943637113036, 'learning_rate': 0.02800884093774146, 'n_estimators': 1538, 'max_depth': 3, 'min_child_weight': 5, 'num_parallel_tree': 1}. Best is trial 173 with value: 0.09909467168372289.\u001b[0m\n",
      "\u001b[32m[I 2023-06-06 08:43:41,952]\u001b[0m Trial 657 finished with value: 0.13102615352985172 and parameters: {'lambda': 2.669616707026806, 'alpha': 2.378766524793879, 'colsample_bytree': 0.9297752665589313, 'subsample': 0.6266143455149189, 'learning_rate': 0.032912298603155137, 'n_estimators': 1434, 'max_depth': 2, 'min_child_weight': 6, 'num_parallel_tree': 1}. Best is trial 173 with value: 0.09909467168372289.\u001b[0m\n",
      "\u001b[32m[I 2023-06-06 08:43:49,208]\u001b[0m Trial 658 finished with value: 0.13077743163341743 and parameters: {'lambda': 2.856051538242322, 'alpha': 0.46086696040430664, 'colsample_bytree': 0.36873628795031066, 'subsample': 0.5079168876491403, 'learning_rate': 0.04290632167746928, 'n_estimators': 1644, 'max_depth': 6, 'min_child_weight': 4, 'num_parallel_tree': 1}. Best is trial 173 with value: 0.09909467168372289.\u001b[0m\n",
      "\u001b[32m[I 2023-06-06 08:43:54,301]\u001b[0m Trial 659 finished with value: 0.13123770985610617 and parameters: {'lambda': 0.4782197548429661, 'alpha': 1.6235187077890552, 'colsample_bytree': 0.40295647020122916, 'subsample': 0.7872415264327736, 'learning_rate': 0.020791818290914282, 'n_estimators': 956, 'max_depth': 6, 'min_child_weight': 6, 'num_parallel_tree': 1}. Best is trial 173 with value: 0.09909467168372289.\u001b[0m\n"
     ]
    },
    {
     "name": "stderr",
     "output_type": "stream",
     "text": [
      "\u001b[32m[I 2023-06-06 08:43:58,933]\u001b[0m Trial 660 finished with value: 0.13154566271406892 and parameters: {'lambda': 9.437267179567574, 'alpha': 1.008643895911146, 'colsample_bytree': 0.43443938927433534, 'subsample': 0.587110708787242, 'learning_rate': 0.09325713222128301, 'n_estimators': 884, 'max_depth': 6, 'min_child_weight': 8, 'num_parallel_tree': 1}. Best is trial 173 with value: 0.09909467168372289.\u001b[0m\n",
      "\u001b[32m[I 2023-06-06 08:44:04,920]\u001b[0m Trial 661 finished with value: 0.1256661781109034 and parameters: {'lambda': 4.020480559992076, 'alpha': 3.657967217184533, 'colsample_bytree': 0.39267519861880296, 'subsample': 0.6770200122292118, 'learning_rate': 0.054271654990030706, 'n_estimators': 1507, 'max_depth': 7, 'min_child_weight': 5, 'num_parallel_tree': 1}. Best is trial 173 with value: 0.09909467168372289.\u001b[0m\n",
      "\u001b[32m[I 2023-06-06 08:44:09,638]\u001b[0m Trial 662 finished with value: 0.1378596554076323 and parameters: {'lambda': 1.196873200520046, 'alpha': 3.4001630875778424, 'colsample_bytree': 0.8894914996139855, 'subsample': 0.5237430042901782, 'learning_rate': 0.030453584214812084, 'n_estimators': 1035, 'max_depth': 5, 'min_child_weight': 6, 'num_parallel_tree': 1}. Best is trial 173 with value: 0.09909467168372289.\u001b[0m\n",
      "\u001b[32m[I 2023-06-06 08:44:20,697]\u001b[0m Trial 663 finished with value: 0.13926115358257515 and parameters: {'lambda': 5.461361626180718, 'alpha': 2.050573551290142, 'colsample_bytree': 0.342070496817638, 'subsample': 0.5992540506415249, 'learning_rate': 0.09734425790705753, 'n_estimators': 2907, 'max_depth': 9, 'min_child_weight': 7, 'num_parallel_tree': 1}. Best is trial 173 with value: 0.09909467168372289.\u001b[0m\n",
      "\u001b[32m[I 2023-06-06 08:44:25,311]\u001b[0m Trial 664 finished with value: 0.12404173565812467 and parameters: {'lambda': 6.3487804026612285, 'alpha': 1.4092738455316387, 'colsample_bytree': 0.21516682681622326, 'subsample': 0.8889746652412822, 'learning_rate': 0.007528235854233879, 'n_estimators': 1128, 'max_depth': 6, 'min_child_weight': 6, 'num_parallel_tree': 1}. Best is trial 173 with value: 0.09909467168372289.\u001b[0m\n",
      "\u001b[32m[I 2023-06-06 08:44:34,021]\u001b[0m Trial 665 finished with value: 0.13144905039554186 and parameters: {'lambda': 3.1238540412248605, 'alpha': 1.19236114433699, 'colsample_bytree': 0.2814404326200808, 'subsample': 0.8256660625315897, 'learning_rate': 0.04079584398784492, 'n_estimators': 1922, 'max_depth': 6, 'min_child_weight': 5, 'num_parallel_tree': 1}. Best is trial 173 with value: 0.09909467168372289.\u001b[0m\n",
      "\u001b[32m[I 2023-06-06 08:44:40,696]\u001b[0m Trial 666 finished with value: 0.13614195147691746 and parameters: {'lambda': 9.972475462540746, 'alpha': 5.434992317186039, 'colsample_bytree': 0.8164157289947563, 'subsample': 0.6520519411115965, 'learning_rate': 0.061601382756639476, 'n_estimators': 1716, 'max_depth': 6, 'min_child_weight': 6, 'num_parallel_tree': 1}. Best is trial 173 with value: 0.09909467168372289.\u001b[0m\n",
      "\u001b[32m[I 2023-06-06 08:44:47,794]\u001b[0m Trial 667 finished with value: 0.1218879019577412 and parameters: {'lambda': 1.7245132335249245, 'alpha': 1.7688008779144289, 'colsample_bytree': 0.5423401839147841, 'subsample': 0.9825448531854006, 'learning_rate': 0.016081351123107976, 'n_estimators': 1392, 'max_depth': 8, 'min_child_weight': 5, 'num_parallel_tree': 1}. Best is trial 173 with value: 0.09909467168372289.\u001b[0m\n",
      "\u001b[32m[I 2023-06-06 08:44:51,905]\u001b[0m Trial 668 finished with value: 0.1368417772796718 and parameters: {'lambda': 3.5417615793717196, 'alpha': 7.665381883605049, 'colsample_bytree': 0.421965170612347, 'subsample': 0.38147536095333545, 'learning_rate': 0.02471839551829164, 'n_estimators': 1185, 'max_depth': 6, 'min_child_weight': 8, 'num_parallel_tree': 1}. Best is trial 173 with value: 0.09909467168372289.\u001b[0m\n",
      "\u001b[32m[I 2023-06-06 08:44:59,624]\u001b[0m Trial 669 finished with value: 0.11951484583464415 and parameters: {'lambda': 2.406261890134214, 'alpha': 0.767557099167698, 'colsample_bytree': 0.36298437693693764, 'subsample': 0.7008751159855631, 'learning_rate': 0.0482884171302852, 'n_estimators': 1613, 'max_depth': 6, 'min_child_weight': 2, 'num_parallel_tree': 1}. Best is trial 173 with value: 0.09909467168372289.\u001b[0m\n",
      "\u001b[32m[I 2023-06-06 08:45:03,347]\u001b[0m Trial 670 finished with value: 0.1354539628364299 and parameters: {'lambda': 2.0526299327734696, 'alpha': 1.0806120008397393, 'colsample_bytree': 0.7312971679600756, 'subsample': 0.4888969238054847, 'learning_rate': 0.03542915618756528, 'n_estimators': 1073, 'max_depth': 2, 'min_child_weight': 6, 'num_parallel_tree': 1}. Best is trial 173 with value: 0.09909467168372289.\u001b[0m\n",
      "\u001b[32m[I 2023-06-06 08:45:08,122]\u001b[0m Trial 671 finished with value: 0.1527181932459184 and parameters: {'lambda': 0.15010478850292586, 'alpha': 4.62207001932663, 'colsample_bytree': 0.10194198600720655, 'subsample': 0.5703744546386642, 'learning_rate': 0.051678451217193874, 'n_estimators': 1506, 'max_depth': 3, 'min_child_weight': 1, 'num_parallel_tree': 1}. Best is trial 173 with value: 0.09909467168372289.\u001b[0m\n",
      "\u001b[32m[I 2023-06-06 08:45:13,938]\u001b[0m Trial 672 finished with value: 0.1337992079207677 and parameters: {'lambda': 7.317028291724989, 'alpha': 1.5661899787852187, 'colsample_bytree': 0.46550509277643304, 'subsample': 0.39502211968849604, 'learning_rate': 0.026683730202196186, 'n_estimators': 1340, 'max_depth': 7, 'min_child_weight': 4, 'num_parallel_tree': 1}. Best is trial 173 with value: 0.09909467168372289.\u001b[0m\n",
      "\u001b[32m[I 2023-06-06 08:45:21,083]\u001b[0m Trial 673 finished with value: 0.1344738624195141 and parameters: {'lambda': 2.7025958390583074, 'alpha': 2.2409358237806276, 'colsample_bytree': 0.788107345423501, 'subsample': 0.5445568359993894, 'learning_rate': 0.03723752480219944, 'n_estimators': 1680, 'max_depth': 6, 'min_child_weight': 6, 'num_parallel_tree': 1}. Best is trial 173 with value: 0.09909467168372289.\u001b[0m\n",
      "\u001b[32m[I 2023-06-06 08:45:25,952]\u001b[0m Trial 674 finished with value: 0.1318704838473389 and parameters: {'lambda': 4.961410158731688, 'alpha': 4.174996552699273, 'colsample_bytree': 0.8446591740083855, 'subsample': 0.41809315800936375, 'learning_rate': 0.018377012816414545, 'n_estimators': 1266, 'max_depth': 5, 'min_child_weight': 7, 'num_parallel_tree': 1}. Best is trial 173 with value: 0.09909467168372289.\u001b[0m\n",
      "\u001b[32m[I 2023-06-06 08:45:29,946]\u001b[0m Trial 675 finished with value: 0.14696873814883665 and parameters: {'lambda': 2.2374942264870974, 'alpha': 6.935390920338572, 'colsample_bytree': 0.3817617110035097, 'subsample': 0.8488375759152115, 'learning_rate': 0.0227241382111577, 'n_estimators': 1003, 'max_depth': 9, 'min_child_weight': 6, 'num_parallel_tree': 1}. Best is trial 173 with value: 0.09909467168372289.\u001b[0m\n",
      "\u001b[32m[I 2023-06-06 08:45:36,082]\u001b[0m Trial 676 finished with value: 0.12493938462422419 and parameters: {'lambda': 5.932940786659054, 'alpha': 1.8868740014302412, 'colsample_bytree': 0.4119477661439798, 'subsample': 0.6169241886818149, 'learning_rate': 0.04500127231260934, 'n_estimators': 1547, 'max_depth': 6, 'min_child_weight': 3, 'num_parallel_tree': 1}. Best is trial 173 with value: 0.09909467168372289.\u001b[0m\n",
      "\u001b[32m[I 2023-06-06 08:45:40,799]\u001b[0m Trial 677 finished with value: 0.13813183661344455 and parameters: {'lambda': 3.8647416576791533, 'alpha': 3.1143197142618497, 'colsample_bytree': 0.24862085510684895, 'subsample': 0.53076132592029, 'learning_rate': 0.08251037845810756, 'n_estimators': 1450, 'max_depth': 6, 'min_child_weight': 5, 'num_parallel_tree': 1}. Best is trial 173 with value: 0.09909467168372289.\u001b[0m\n",
      "\u001b[32m[I 2023-06-06 08:45:47,866]\u001b[0m Trial 678 finished with value: 0.10860726597841916 and parameters: {'lambda': 1.8236338693548142, 'alpha': 0.29681459475268424, 'colsample_bytree': 0.31926606536186924, 'subsample': 0.7294729426136949, 'learning_rate': 0.010449749221138503, 'n_estimators': 1629, 'max_depth': 6, 'min_child_weight': 6, 'num_parallel_tree': 1}. Best is trial 173 with value: 0.09909467168372289.\u001b[0m\n",
      "\u001b[32m[I 2023-06-06 08:45:54,554]\u001b[0m Trial 679 finished with value: 0.13237345555992772 and parameters: {'lambda': 1.9007575061998876, 'alpha': 0.3849919182459848, 'colsample_bytree': 0.33359085061421806, 'subsample': 0.6894352033597817, 'learning_rate': 0.014410606157886665, 'n_estimators': 1620, 'max_depth': 6, 'min_child_weight': 6, 'num_parallel_tree': 1}. Best is trial 173 with value: 0.09909467168372289.\u001b[0m\n"
     ]
    },
    {
     "name": "stderr",
     "output_type": "stream",
     "text": [
      "\u001b[32m[I 2023-06-06 08:46:01,739]\u001b[0m Trial 680 finished with value: 0.11369797775980178 and parameters: {'lambda': 7.608030916660112, 'alpha': 0.5520876420676077, 'colsample_bytree': 0.3113728665476506, 'subsample': 0.7026635223939202, 'learning_rate': 0.01743143964482159, 'n_estimators': 1707, 'max_depth': 6, 'min_child_weight': 6, 'num_parallel_tree': 1}. Best is trial 173 with value: 0.09909467168372289.\u001b[0m\n",
      "\u001b[32m[I 2023-06-06 08:46:09,007]\u001b[0m Trial 681 finished with value: 0.11889227704282503 and parameters: {'lambda': 2.467679636845587, 'alpha': 0.06714914520926504, 'colsample_bytree': 0.29936051118699925, 'subsample': 0.6432415875877233, 'learning_rate': 0.015461893185237522, 'n_estimators': 1809, 'max_depth': 6, 'min_child_weight': 5, 'num_parallel_tree': 1}. Best is trial 173 with value: 0.09909467168372289.\u001b[0m\n",
      "\u001b[32m[I 2023-06-06 08:46:15,642]\u001b[0m Trial 682 finished with value: 0.12349389714850831 and parameters: {'lambda': 6.901234677746283, 'alpha': 0.43553945554442935, 'colsample_bytree': 0.336523600817775, 'subsample': 0.7453084442206966, 'learning_rate': 0.013810061861535581, 'n_estimators': 1663, 'max_depth': 6, 'min_child_weight': 6, 'num_parallel_tree': 1}. Best is trial 173 with value: 0.09909467168372289.\u001b[0m\n",
      "\u001b[32m[I 2023-06-06 08:46:20,104]\u001b[0m Trial 683 finished with value: 4.84893912479114 and parameters: {'lambda': 5.304649792195361, 'alpha': 0.1940630208179578, 'colsample_bytree': 0.3129371943708601, 'subsample': 0.20338815962588258, 'learning_rate': 0.0005677387809466822, 'n_estimators': 1561, 'max_depth': 6, 'min_child_weight': 4, 'num_parallel_tree': 1}. Best is trial 173 with value: 0.09909467168372289.\u001b[0m\n",
      "\u001b[32m[I 2023-06-06 08:46:25,533]\u001b[0m Trial 684 finished with value: 0.12723513379780205 and parameters: {'lambda': 2.1110111282804565, 'alpha': 0.8727087095404265, 'colsample_bytree': 0.35864381914792537, 'subsample': 0.6788764456864093, 'learning_rate': 0.003805857520216391, 'n_estimators': 1623, 'max_depth': 6, 'min_child_weight': 5, 'num_parallel_tree': 1}. Best is trial 173 with value: 0.09909467168372289.\u001b[0m\n",
      "\u001b[32m[I 2023-06-06 08:46:32,712]\u001b[0m Trial 685 finished with value: 0.11766061422107925 and parameters: {'lambda': 2.3608902771482807, 'alpha': 0.3097689752530943, 'colsample_bytree': 0.3464094460713993, 'subsample': 0.7334697007091484, 'learning_rate': 0.010117617049961102, 'n_estimators': 1752, 'max_depth': 6, 'min_child_weight': 7, 'num_parallel_tree': 1}. Best is trial 173 with value: 0.09909467168372289.\u001b[0m\n",
      "\u001b[32m[I 2023-06-06 08:46:38,910]\u001b[0m Trial 686 finished with value: 0.1458149749375188 and parameters: {'lambda': 4.168785691812217, 'alpha': 0.3044732790974538, 'colsample_bytree': 0.3274301047519374, 'subsample': 0.7184099516755228, 'learning_rate': 0.06625021700418858, 'n_estimators': 1569, 'max_depth': 6, 'min_child_weight': 6, 'num_parallel_tree': 1}. Best is trial 173 with value: 0.09909467168372289.\u001b[0m\n",
      "\u001b[32m[I 2023-06-06 08:46:44,979]\u001b[0m Trial 687 finished with value: 0.11019881781550131 and parameters: {'lambda': 6.513944729775318, 'alpha': 0.6518645767579474, 'colsample_bytree': 0.2770198910804256, 'subsample': 0.7769262981250185, 'learning_rate': 0.03980728469862455, 'n_estimators': 1514, 'max_depth': 6, 'min_child_weight': 6, 'num_parallel_tree': 1}. Best is trial 173 with value: 0.09909467168372289.\u001b[0m\n",
      "\u001b[32m[I 2023-06-06 08:46:51,760]\u001b[0m Trial 688 finished with value: 0.1369555011929837 and parameters: {'lambda': 6.518053597106809, 'alpha': 0.593253320349157, 'colsample_bytree': 0.5654283479978105, 'subsample': 0.7775843185172654, 'learning_rate': 0.007023882783474537, 'n_estimators': 1488, 'max_depth': 6, 'min_child_weight': 6, 'num_parallel_tree': 1}. Best is trial 173 with value: 0.09909467168372289.\u001b[0m\n",
      "\u001b[32m[I 2023-06-06 08:46:58,095]\u001b[0m Trial 689 finished with value: 0.13596024138532095 and parameters: {'lambda': 6.649917233274487, 'alpha': 0.6824446358874233, 'colsample_bytree': 0.3212427847864904, 'subsample': 0.7894371505519744, 'learning_rate': 0.004803224943464385, 'n_estimators': 1531, 'max_depth': 6, 'min_child_weight': 6, 'num_parallel_tree': 1}. Best is trial 173 with value: 0.09909467168372289.\u001b[0m\n",
      "\u001b[32m[I 2023-06-06 08:47:05,282]\u001b[0m Trial 690 finished with value: 0.13834039443257656 and parameters: {'lambda': 2.5757342419125613, 'alpha': 9.176236076527449, 'colsample_bytree': 0.350554557850885, 'subsample': 0.8023626817003062, 'learning_rate': 0.00958204483545472, 'n_estimators': 1608, 'max_depth': 6, 'min_child_weight': 6, 'num_parallel_tree': 1}. Best is trial 173 with value: 0.09909467168372289.\u001b[0m\n",
      "\u001b[32m[I 2023-06-06 08:47:12,569]\u001b[0m Trial 691 finished with value: 0.12464464517559222 and parameters: {'lambda': 2.9474632001772374, 'alpha': 0.8554660535871629, 'colsample_bytree': 0.2871457757231838, 'subsample': 0.45592959567072994, 'learning_rate': 0.04232614595704374, 'n_estimators': 1478, 'max_depth': 6, 'min_child_weight': 6, 'num_parallel_tree': 1}. Best is trial 173 with value: 0.09909467168372289.\u001b[0m\n",
      "\u001b[32m[I 2023-06-06 08:47:19,298]\u001b[0m Trial 692 finished with value: 0.12381790689268102 and parameters: {'lambda': 1.808298438204735, 'alpha': 0.6588468724927717, 'colsample_bytree': 0.3730994484427622, 'subsample': 0.7626181855883817, 'learning_rate': 0.04001967259673487, 'n_estimators': 1420, 'max_depth': 6, 'min_child_weight': 6, 'num_parallel_tree': 1}. Best is trial 173 with value: 0.09909467168372289.\u001b[0m\n",
      "\u001b[32m[I 2023-06-06 08:47:26,474]\u001b[0m Trial 693 finished with value: 0.13018049764802586 and parameters: {'lambda': 4.477937424614035, 'alpha': 3.4388036820432863, 'colsample_bytree': 0.3285461493561825, 'subsample': 0.7513406212349808, 'learning_rate': 0.010518274784160314, 'n_estimators': 1672, 'max_depth': 6, 'min_child_weight': 6, 'num_parallel_tree': 1}. Best is trial 173 with value: 0.09909467168372289.\u001b[0m\n",
      "\u001b[32m[I 2023-06-06 08:47:33,051]\u001b[0m Trial 694 finished with value: 0.1255611660123486 and parameters: {'lambda': 2.123374380704142, 'alpha': 0.9887320839592922, 'colsample_bytree': 0.35815347239607365, 'subsample': 0.7338951139958638, 'learning_rate': 0.08498088403021598, 'n_estimators': 1529, 'max_depth': 6, 'min_child_weight': 6, 'num_parallel_tree': 1}. Best is trial 173 with value: 0.09909467168372289.\u001b[0m\n",
      "\u001b[32m[I 2023-06-06 08:47:41,719]\u001b[0m Trial 695 finished with value: 0.11476899234245107 and parameters: {'lambda': 3.378896796232858, 'alpha': 0.1939401852157262, 'colsample_bytree': 0.49700574016790244, 'subsample': 0.6318101174077471, 'learning_rate': 0.011116219614520934, 'n_estimators': 1615, 'max_depth': 6, 'min_child_weight': 6, 'num_parallel_tree': 1}. Best is trial 173 with value: 0.09909467168372289.\u001b[0m\n",
      "\u001b[32m[I 2023-06-06 08:47:47,604]\u001b[0m Trial 696 finished with value: 0.11852696311518729 and parameters: {'lambda': 4.774494651292345, 'alpha': 3.643316918627366, 'colsample_bytree': 0.3056828582767565, 'subsample': 0.7826300391579449, 'learning_rate': 0.013568102104061064, 'n_estimators': 1479, 'max_depth': 6, 'min_child_weight': 7, 'num_parallel_tree': 1}. Best is trial 173 with value: 0.09909467168372289.\u001b[0m\n",
      "\u001b[32m[I 2023-06-06 08:47:56,360]\u001b[0m Trial 697 finished with value: 0.12432673179162557 and parameters: {'lambda': 2.840189510956053, 'alpha': 0.5240633903033216, 'colsample_bytree': 0.6460614942001118, 'subsample': 0.7693171581805156, 'learning_rate': 0.01990852489555338, 'n_estimators': 1564, 'max_depth': 6, 'min_child_weight': 6, 'num_parallel_tree': 1}. Best is trial 173 with value: 0.09909467168372289.\u001b[0m\n",
      "\u001b[32m[I 2023-06-06 08:48:03,599]\u001b[0m Trial 698 finished with value: 0.129745003644794 and parameters: {'lambda': 2.270454733630195, 'alpha': 1.1734598670883907, 'colsample_bytree': 0.37548032647759344, 'subsample': 0.9550143827978117, 'learning_rate': 0.009160170372391141, 'n_estimators': 1671, 'max_depth': 6, 'min_child_weight': 6, 'num_parallel_tree': 1}. Best is trial 173 with value: 0.09909467168372289.\u001b[0m\n",
      "\u001b[32m[I 2023-06-06 08:48:10,248]\u001b[0m Trial 699 finished with value: 0.13426845203687368 and parameters: {'lambda': 6.8330390200682, 'alpha': 0.7650587995125693, 'colsample_bytree': 0.4843895847043286, 'subsample': 0.47750309427246074, 'learning_rate': 0.029020563696169933, 'n_estimators': 1424, 'max_depth': 6, 'min_child_weight': 5, 'num_parallel_tree': 1}. Best is trial 173 with value: 0.09909467168372289.\u001b[0m\n"
     ]
    },
    {
     "name": "stderr",
     "output_type": "stream",
     "text": [
      "\u001b[32m[I 2023-06-06 08:48:18,043]\u001b[0m Trial 700 finished with value: 0.11135144437823685 and parameters: {'lambda': 2.5919672788240655, 'alpha': 1.3504617389872395, 'colsample_bytree': 0.9585164954053109, 'subsample': 0.8090953855411022, 'learning_rate': 0.041546020510207254, 'n_estimators': 1510, 'max_depth': 6, 'min_child_weight': 6, 'num_parallel_tree': 1}. Best is trial 173 with value: 0.09909467168372289.\u001b[0m\n",
      "\u001b[32m[I 2023-06-06 08:48:23,813]\u001b[0m Trial 701 finished with value: 0.27820553113250385 and parameters: {'lambda': 1.5518331206721032, 'alpha': 3.263535277257497, 'colsample_bytree': 0.39254156469253254, 'subsample': 0.658889715313761, 'learning_rate': 0.0025737013338244727, 'n_estimators': 1576, 'max_depth': 8, 'min_child_weight': 6, 'num_parallel_tree': 1}. Best is trial 173 with value: 0.09909467168372289.\u001b[0m\n",
      "\u001b[32m[I 2023-06-06 08:48:32,052]\u001b[0m Trial 702 finished with value: 0.1188949108798525 and parameters: {'lambda': 3.7412589344025946, 'alpha': 1.0204770433125199, 'colsample_bytree': 0.522225524582587, 'subsample': 0.49865639539056816, 'learning_rate': 0.011666181087448557, 'n_estimators': 1629, 'max_depth': 6, 'min_child_weight': 7, 'num_parallel_tree': 1}. Best is trial 173 with value: 0.09909467168372289.\u001b[0m\n",
      "\u001b[32m[I 2023-06-06 08:48:37,845]\u001b[0m Trial 703 finished with value: 0.1282605550344155 and parameters: {'lambda': 3.170170543691357, 'alpha': 4.839136244550035, 'colsample_bytree': 0.34313520775494394, 'subsample': 0.9432520506287182, 'learning_rate': 0.07003754104029213, 'n_estimators': 1761, 'max_depth': 7, 'min_child_weight': 6, 'num_parallel_tree': 1}. Best is trial 173 with value: 0.09909467168372289.\u001b[0m\n",
      "\u001b[32m[I 2023-06-06 08:48:44,830]\u001b[0m Trial 704 finished with value: 0.1263680084448203 and parameters: {'lambda': 1.9582552562261637, 'alpha': 2.9274685908483016, 'colsample_bytree': 0.2909148802054492, 'subsample': 0.4358893190889708, 'learning_rate': 0.08700376374799455, 'n_estimators': 1710, 'max_depth': 9, 'min_child_weight': 5, 'num_parallel_tree': 1}. Best is trial 173 with value: 0.09909467168372289.\u001b[0m\n",
      "\u001b[32m[I 2023-06-06 08:48:52,520]\u001b[0m Trial 705 finished with value: 0.13433190958707825 and parameters: {'lambda': 6.359008890662489, 'alpha': 1.1891445761445454, 'colsample_bytree': 0.9121244800916938, 'subsample': 0.628815159017881, 'learning_rate': 0.04747164588664518, 'n_estimators': 1393, 'max_depth': 6, 'min_child_weight': 5, 'num_parallel_tree': 1}. Best is trial 173 with value: 0.09909467168372289.\u001b[0m\n",
      "\u001b[32m[I 2023-06-06 08:48:58,631]\u001b[0m Trial 706 finished with value: 0.1325157805194708 and parameters: {'lambda': 2.3919097722704157, 'alpha': 3.9418592348645554, 'colsample_bytree': 0.5471007763546546, 'subsample': 0.768006944166763, 'learning_rate': 0.004744559621942932, 'n_estimators': 1544, 'max_depth': 4, 'min_child_weight': 6, 'num_parallel_tree': 1}. Best is trial 173 with value: 0.09909467168372289.\u001b[0m\n",
      "\u001b[32m[I 2023-06-06 08:49:07,268]\u001b[0m Trial 707 finished with value: 0.12247222442247403 and parameters: {'lambda': 2.668574136873287, 'alpha': 0.45805018091725086, 'colsample_bytree': 0.2648643437949186, 'subsample': 0.7228985446924874, 'learning_rate': 0.04476846423092006, 'n_estimators': 2048, 'max_depth': 6, 'min_child_weight': 6, 'num_parallel_tree': 1}. Best is trial 173 with value: 0.09909467168372289.\u001b[0m\n",
      "\u001b[32m[I 2023-06-06 08:49:10,590]\u001b[0m Trial 708 finished with value: 0.13364748533271031 and parameters: {'lambda': 7.137072251834731, 'alpha': 0.8516777677098298, 'colsample_bytree': 0.18319823528078077, 'subsample': 0.8239543840447215, 'learning_rate': 0.012521881274108436, 'n_estimators': 856, 'max_depth': 3, 'min_child_weight': 6, 'num_parallel_tree': 1}. Best is trial 173 with value: 0.09909467168372289.\u001b[0m\n",
      "\u001b[32m[I 2023-06-06 08:49:21,614]\u001b[0m Trial 709 finished with value: 0.1336924290758501 and parameters: {'lambda': 2.186438354560339, 'alpha': 5.107449614690516, 'colsample_bytree': 0.5907988574024292, 'subsample': 0.7484625753061787, 'learning_rate': 0.006070728457166261, 'n_estimators': 2709, 'max_depth': 6, 'min_child_weight': 7, 'num_parallel_tree': 1}. Best is trial 173 with value: 0.09909467168372289.\u001b[0m\n",
      "\u001b[32m[I 2023-06-06 08:49:27,359]\u001b[0m Trial 710 finished with value: 0.13864338731963385 and parameters: {'lambda': 3.0410681513376017, 'alpha': 1.3493466638876388, 'colsample_bytree': 0.3656660409961599, 'subsample': 0.6140017893083812, 'learning_rate': 0.005859989844783615, 'n_estimators': 1474, 'max_depth': 6, 'min_child_weight': 5, 'num_parallel_tree': 1}. Best is trial 173 with value: 0.09909467168372289.\u001b[0m\n",
      "\u001b[32m[I 2023-06-06 08:49:34,116]\u001b[0m Trial 711 finished with value: 0.14493334996517787 and parameters: {'lambda': 6.195981260697824, 'alpha': 8.350443272316763, 'colsample_bytree': 0.3238291314969507, 'subsample': 0.46093319010562334, 'learning_rate': 0.03202252724795121, 'n_estimators': 2140, 'max_depth': 6, 'min_child_weight': 6, 'num_parallel_tree': 1}. Best is trial 173 with value: 0.09909467168372289.\u001b[0m\n",
      "\u001b[32m[I 2023-06-06 08:49:39,958]\u001b[0m Trial 712 finished with value: 0.12546265134145784 and parameters: {'lambda': 1.0597228925657551, 'alpha': 3.739011047763581, 'colsample_bytree': 0.8474284874209876, 'subsample': 0.6545856926321445, 'learning_rate': 0.07203018395785148, 'n_estimators': 1602, 'max_depth': 6, 'min_child_weight': 6, 'num_parallel_tree': 1}. Best is trial 173 with value: 0.09909467168372289.\u001b[0m\n",
      "\u001b[32m[I 2023-06-06 08:49:49,848]\u001b[0m Trial 713 finished with value: 0.11588222029280015 and parameters: {'lambda': 2.8214183568397875, 'alpha': 0.7010916487383577, 'colsample_bytree': 0.3842663572172742, 'subsample': 0.7969203557490048, 'learning_rate': 0.03934070765177556, 'n_estimators': 2313, 'max_depth': 7, 'min_child_weight': 5, 'num_parallel_tree': 1}. Best is trial 173 with value: 0.09909467168372289.\u001b[0m\n",
      "\u001b[32m[I 2023-06-06 08:49:56,232]\u001b[0m Trial 714 finished with value: 0.1372380526727163 and parameters: {'lambda': 3.5308626244107764, 'alpha': 3.140284675555673, 'colsample_bytree': 0.34818659785151196, 'subsample': 0.4771806825091438, 'learning_rate': 0.016494730363260338, 'n_estimators': 1658, 'max_depth': 9, 'min_child_weight': 8, 'num_parallel_tree': 1}. Best is trial 173 with value: 0.09909467168372289.\u001b[0m\n",
      "\u001b[32m[I 2023-06-06 08:50:03,869]\u001b[0m Trial 715 finished with value: 0.12395998660383603 and parameters: {'lambda': 2.4725851653593436, 'alpha': 1.0129725542927759, 'colsample_bytree': 0.6565177561378174, 'subsample': 0.6014402791838284, 'learning_rate': 0.03418173938959721, 'n_estimators': 1523, 'max_depth': 6, 'min_child_weight': 6, 'num_parallel_tree': 1}. Best is trial 173 with value: 0.09909467168372289.\u001b[0m\n",
      "\u001b[32m[I 2023-06-06 08:50:08,947]\u001b[0m Trial 716 finished with value: 0.13981932960959043 and parameters: {'lambda': 5.801769488684849, 'alpha': 5.751315704826202, 'colsample_bytree': 0.39982655914041665, 'subsample': 0.5090139922637867, 'learning_rate': 0.03049605258488376, 'n_estimators': 1872, 'max_depth': 6, 'min_child_weight': 6, 'num_parallel_tree': 1}. Best is trial 173 with value: 0.09909467168372289.\u001b[0m\n",
      "\u001b[32m[I 2023-06-06 08:50:13,304]\u001b[0m Trial 717 finished with value: 0.1319605153210453 and parameters: {'lambda': 0.7538880160742661, 'alpha': 7.129759069528179, 'colsample_bytree': 0.45949364744326504, 'subsample': 0.6321012311312582, 'learning_rate': 0.04315568728534368, 'n_estimators': 1447, 'max_depth': 8, 'min_child_weight': 5, 'num_parallel_tree': 1}. Best is trial 173 with value: 0.09909467168372289.\u001b[0m\n",
      "\u001b[32m[I 2023-06-06 08:50:20,608]\u001b[0m Trial 718 finished with value: 0.10979563793364415 and parameters: {'lambda': 1.9699180200835675, 'alpha': 1.4090473650041035, 'colsample_bytree': 0.6976447571151999, 'subsample': 0.7096980017691358, 'learning_rate': 0.019922492461709056, 'n_estimators': 1570, 'max_depth': 6, 'min_child_weight': 9, 'num_parallel_tree': 1}. Best is trial 173 with value: 0.09909467168372289.\u001b[0m\n",
      "\u001b[32m[I 2023-06-06 08:50:27,624]\u001b[0m Trial 719 finished with value: 0.14164186984636234 and parameters: {'lambda': 1.9058459537919679, 'alpha': 1.6002826313028813, 'colsample_bytree': 0.6416097005091846, 'subsample': 0.7164849716822972, 'learning_rate': 0.01991232510355563, 'n_estimators': 1581, 'max_depth': 6, 'min_child_weight': 4, 'num_parallel_tree': 1}. Best is trial 173 with value: 0.09909467168372289.\u001b[0m\n"
     ]
    },
    {
     "name": "stderr",
     "output_type": "stream",
     "text": [
      "\u001b[32m[I 2023-06-06 08:50:35,181]\u001b[0m Trial 720 finished with value: 0.11944591499996421 and parameters: {'lambda': 1.9949409934444973, 'alpha': 1.4895812295397284, 'colsample_bytree': 0.7671237862086469, 'subsample': 0.7148740004882584, 'learning_rate': 0.08984693668778973, 'n_estimators': 1640, 'max_depth': 6, 'min_child_weight': 8, 'num_parallel_tree': 1}. Best is trial 173 with value: 0.09909467168372289.\u001b[0m\n",
      "\u001b[32m[I 2023-06-06 08:50:41,854]\u001b[0m Trial 721 finished with value: 0.1202751013629104 and parameters: {'lambda': 1.6194194830183108, 'alpha': 1.383155103947274, 'colsample_bytree': 0.7020244960802532, 'subsample': 0.22992798767119782, 'learning_rate': 0.02019737257116198, 'n_estimators': 1673, 'max_depth': 6, 'min_child_weight': 9, 'num_parallel_tree': 1}. Best is trial 173 with value: 0.09909467168372289.\u001b[0m\n",
      "\u001b[32m[I 2023-06-06 08:50:50,771]\u001b[0m Trial 722 finished with value: 0.12870001722772326 and parameters: {'lambda': 2.2272709537086883, 'alpha': 1.231551308833709, 'colsample_bytree': 0.6582725495079038, 'subsample': 0.7575851609332666, 'learning_rate': 0.016012011048171695, 'n_estimators': 1727, 'max_depth': 6, 'min_child_weight': 10, 'num_parallel_tree': 1}. Best is trial 173 with value: 0.09909467168372289.\u001b[0m\n",
      "\u001b[32m[I 2023-06-06 08:50:56,420]\u001b[0m Trial 723 finished with value: 0.14027581728376817 and parameters: {'lambda': 1.6879892129235028, 'alpha': 8.906705179293073, 'colsample_bytree': 0.6618379161870563, 'subsample': 0.7356150988560057, 'learning_rate': 0.02144238853252327, 'n_estimators': 1568, 'max_depth': 6, 'min_child_weight': 9, 'num_parallel_tree': 1}. Best is trial 173 with value: 0.09909467168372289.\u001b[0m\n",
      "\u001b[32m[I 2023-06-06 08:51:02,907]\u001b[0m Trial 724 finished with value: 0.12638476437555696 and parameters: {'lambda': 1.788895277895481, 'alpha': 1.575615698430011, 'colsample_bytree': 0.689107254671148, 'subsample': 0.7084727964466876, 'learning_rate': 0.012133645553160297, 'n_estimators': 1532, 'max_depth': 6, 'min_child_weight': 9, 'num_parallel_tree': 1}. Best is trial 173 with value: 0.09909467168372289.\u001b[0m\n",
      "\u001b[32m[I 2023-06-06 08:51:08,594]\u001b[0m Trial 725 finished with value: 0.16095438745847782 and parameters: {'lambda': 2.1237124960113647, 'alpha': 9.732933788531412, 'colsample_bytree': 0.7512784920968654, 'subsample': 0.21910634580174526, 'learning_rate': 0.017694608069015048, 'n_estimators': 1781, 'max_depth': 6, 'min_child_weight': 9, 'num_parallel_tree': 1}. Best is trial 173 with value: 0.09909467168372289.\u001b[0m\n",
      "\u001b[32m[I 2023-06-06 08:51:14,715]\u001b[0m Trial 726 finished with value: 0.11380873029790971 and parameters: {'lambda': 1.3679237705850875, 'alpha': 3.2636582981910176, 'colsample_bytree': 0.6731178135676565, 'subsample': 0.7292167252213844, 'learning_rate': 0.018612584020165773, 'n_estimators': 1612, 'max_depth': 6, 'min_child_weight': 10, 'num_parallel_tree': 1}. Best is trial 173 with value: 0.09909467168372289.\u001b[0m\n",
      "\u001b[32m[I 2023-06-06 08:51:21,374]\u001b[0m Trial 727 finished with value: 0.1352436128230276 and parameters: {'lambda': 2.400241519856554, 'alpha': 2.9662538130614333, 'colsample_bytree': 0.30282747393272513, 'subsample': 0.6753963690578594, 'learning_rate': 0.03941219024015927, 'n_estimators': 1585, 'max_depth': 6, 'min_child_weight': 10, 'num_parallel_tree': 1}. Best is trial 173 with value: 0.09909467168372289.\u001b[0m\n",
      "\u001b[32m[I 2023-06-06 08:51:25,391]\u001b[0m Trial 728 finished with value: 0.1605119116110957 and parameters: {'lambda': 4.08877733073294, 'alpha': 7.466005643567488, 'colsample_bytree': 0.8074716960794878, 'subsample': 0.25643883652722105, 'learning_rate': 0.05044045696200834, 'n_estimators': 1492, 'max_depth': 6, 'min_child_weight': 9, 'num_parallel_tree': 1}. Best is trial 173 with value: 0.09909467168372289.\u001b[0m\n",
      "\u001b[32m[I 2023-06-06 08:51:29,920]\u001b[0m Trial 729 finished with value: 0.12931809962751628 and parameters: {'lambda': 2.646485407013596, 'alpha': 1.1683548225114646, 'colsample_bytree': 0.6350926627496654, 'subsample': 0.9748072347073232, 'learning_rate': 0.06480874567115605, 'n_estimators': 1664, 'max_depth': 6, 'min_child_weight': 8, 'num_parallel_tree': 1}. Best is trial 173 with value: 0.09909467168372289.\u001b[0m\n",
      "\u001b[32m[I 2023-06-06 08:51:34,850]\u001b[0m Trial 730 finished with value: 0.1380013141680744 and parameters: {'lambda': 1.9567005026561353, 'alpha': 2.4851295290015742, 'colsample_bytree': 0.7381066247174808, 'subsample': 0.489003173258359, 'learning_rate': 0.03537862133275205, 'n_estimators': 1532, 'max_depth': 6, 'min_child_weight': 5, 'num_parallel_tree': 1}. Best is trial 173 with value: 0.09909467168372289.\u001b[0m\n",
      "\u001b[32m[I 2023-06-06 08:51:40,827]\u001b[0m Trial 731 finished with value: 0.1293922951169358 and parameters: {'lambda': 2.828467921911965, 'alpha': 1.407224524873686, 'colsample_bytree': 0.5981216873021485, 'subsample': 0.6991606703309141, 'learning_rate': 0.05476366635988752, 'n_estimators': 1718, 'max_depth': 6, 'min_child_weight': 8, 'num_parallel_tree': 1}. Best is trial 173 with value: 0.09909467168372289.\u001b[0m\n",
      "\u001b[32m[I 2023-06-06 08:51:43,500]\u001b[0m Trial 732 finished with value: 0.13031671949641443 and parameters: {'lambda': 0.018820762429514915, 'alpha': 1.6444898970353312, 'colsample_bytree': 0.7836929055254176, 'subsample': 0.7461627847076171, 'learning_rate': 0.021891196534995105, 'n_estimators': 919, 'max_depth': 3, 'min_child_weight': 9, 'num_parallel_tree': 1}. Best is trial 173 with value: 0.09909467168372289.\u001b[0m\n",
      "\u001b[32m[I 2023-06-06 08:51:49,076]\u001b[0m Trial 733 finished with value: 0.14414234870304551 and parameters: {'lambda': 3.8911795221969925, 'alpha': 0.22626335443805767, 'colsample_bytree': 0.5657086200110746, 'subsample': 0.45038821909179205, 'learning_rate': 0.03788858876345075, 'n_estimators': 1601, 'max_depth': 7, 'min_child_weight': 10, 'num_parallel_tree': 1}. Best is trial 173 with value: 0.09909467168372289.\u001b[0m\n",
      "\u001b[32m[I 2023-06-06 08:51:55,249]\u001b[0m Trial 734 finished with value: 0.15050766887302497 and parameters: {'lambda': 2.2573379108501768, 'alpha': 3.4554695723598394, 'colsample_bytree': 0.7043653416741703, 'subsample': 0.8345766563476235, 'learning_rate': 0.09321328446768903, 'n_estimators': 2227, 'max_depth': 6, 'min_child_weight': 7, 'num_parallel_tree': 1}. Best is trial 173 with value: 0.09909467168372289.\u001b[0m\n",
      "\u001b[32m[I 2023-06-06 08:51:59,463]\u001b[0m Trial 735 finished with value: 0.182824885673654 and parameters: {'lambda': 4.325262868401809, 'alpha': 2.008924081067776, 'colsample_bytree': 0.7342454525087828, 'subsample': 0.4283618579228071, 'learning_rate': 0.00322412094586189, 'n_estimators': 1505, 'max_depth': 9, 'min_child_weight': 5, 'num_parallel_tree': 1}. Best is trial 173 with value: 0.09909467168372289.\u001b[0m\n",
      "\u001b[32m[I 2023-06-06 08:52:03,685]\u001b[0m Trial 736 finished with value: 0.14102829939986677 and parameters: {'lambda': 3.1757479091688126, 'alpha': 4.491048447686575, 'colsample_bytree': 0.5362271213512645, 'subsample': 0.3148164427261367, 'learning_rate': 0.05245659288283996, 'n_estimators': 1819, 'max_depth': 6, 'min_child_weight': 7, 'num_parallel_tree': 1}. Best is trial 173 with value: 0.09909467168372289.\u001b[0m\n",
      "\u001b[32m[I 2023-06-06 08:52:08,458]\u001b[0m Trial 737 finished with value: 0.11973104319831464 and parameters: {'lambda': 2.502692025647289, 'alpha': 2.7400223528858723, 'colsample_bytree': 0.7637770721179833, 'subsample': 0.46554538412549507, 'learning_rate': 0.04111968232164552, 'n_estimators': 1634, 'max_depth': 6, 'min_child_weight': 8, 'num_parallel_tree': 1}. Best is trial 173 with value: 0.09909467168372289.\u001b[0m\n",
      "\u001b[32m[I 2023-06-06 08:52:13,469]\u001b[0m Trial 738 finished with value: 0.12788023428708686 and parameters: {'lambda': 4.572150988401141, 'alpha': 1.1147465397519953, 'colsample_bytree': 0.6110546580093803, 'subsample': 0.5129553026036053, 'learning_rate': 0.08947887212077531, 'n_estimators': 1568, 'max_depth': 6, 'min_child_weight': 8, 'num_parallel_tree': 1}. Best is trial 173 with value: 0.09909467168372289.\u001b[0m\n",
      "\u001b[32m[I 2023-06-06 08:52:18,023]\u001b[0m Trial 739 finished with value: 0.11889599289394435 and parameters: {'lambda': 2.11031433226446, 'alpha': 1.7317650525846797, 'colsample_bytree': 0.5583325108505655, 'subsample': 0.4149701771838595, 'learning_rate': 0.04399901187370499, 'n_estimators': 1695, 'max_depth': 6, 'min_child_weight': 9, 'num_parallel_tree': 1}. Best is trial 173 with value: 0.09909467168372289.\u001b[0m\n"
     ]
    },
    {
     "name": "stderr",
     "output_type": "stream",
     "text": [
      "\u001b[32m[I 2023-06-06 08:52:21,237]\u001b[0m Trial 740 finished with value: 2.345885718350037 and parameters: {'lambda': 1.7628823966751068, 'alpha': 3.8536837644145536, 'colsample_bytree': 0.6726991621300877, 'subsample': 0.6659633598334936, 'learning_rate': 0.001077733619507094, 'n_estimators': 1485, 'max_depth': 4, 'min_child_weight': 5, 'num_parallel_tree': 1}. Best is trial 173 with value: 0.09909467168372289.\u001b[0m\n",
      "\u001b[32m[I 2023-06-06 08:52:24,088]\u001b[0m Trial 741 finished with value: 0.13039401964125902 and parameters: {'lambda': 5.602663260987793, 'alpha': 0.0095698225599391, 'colsample_bytree': 0.5840626371785687, 'subsample': 0.6917148344190399, 'learning_rate': 0.018770748232653588, 'n_estimators': 784, 'max_depth': 6, 'min_child_weight': 4, 'num_parallel_tree': 1}. Best is trial 173 with value: 0.09909467168372289.\u001b[0m\n",
      "\u001b[32m[I 2023-06-06 08:52:27,836]\u001b[0m Trial 742 finished with value: 0.13167468183407585 and parameters: {'lambda': 3.3411361382220672, 'alpha': 8.942996695866723, 'colsample_bytree': 0.6938031017893896, 'subsample': 0.7698972712758542, 'learning_rate': 0.04659448990648978, 'n_estimators': 1551, 'max_depth': 6, 'min_child_weight': 5, 'num_parallel_tree': 1}. Best is trial 173 with value: 0.09909467168372289.\u001b[0m\n",
      "\u001b[32m[I 2023-06-06 08:52:30,389]\u001b[0m Trial 743 finished with value: 0.14109618156112472 and parameters: {'lambda': 9.585628825961594, 'alpha': 1.4809147089013601, 'colsample_bytree': 0.7152409925900883, 'subsample': 0.2647949815481979, 'learning_rate': 0.0093633374798726, 'n_estimators': 932, 'max_depth': 7, 'min_child_weight': 6, 'num_parallel_tree': 1}. Best is trial 173 with value: 0.09909467168372289.\u001b[0m\n",
      "\u001b[32m[I 2023-06-06 08:52:36,451]\u001b[0m Trial 744 finished with value: 0.12464802058020313 and parameters: {'lambda': 2.973293048343896, 'alpha': 1.2667345284031366, 'colsample_bytree': 0.7011410707444322, 'subsample': 0.8566216024924698, 'learning_rate': 0.015614832452482418, 'n_estimators': 1633, 'max_depth': 9, 'min_child_weight': 7, 'num_parallel_tree': 1}. Best is trial 173 with value: 0.09909467168372289.\u001b[0m\n",
      "\u001b[32m[I 2023-06-06 08:52:38,641]\u001b[0m Trial 745 finished with value: 0.13858865828135725 and parameters: {'lambda': 1.515529931462521, 'alpha': 0.9308375197098457, 'colsample_bytree': 0.5748284604084359, 'subsample': 0.49670173293895437, 'learning_rate': 0.00677544815107373, 'n_estimators': 854, 'max_depth': 6, 'min_child_weight': 5, 'num_parallel_tree': 1}. Best is trial 173 with value: 0.09909467168372289.\u001b[0m\n",
      "\u001b[32m[I 2023-06-06 08:52:42,810]\u001b[0m Trial 746 finished with value: 0.11230427040714483 and parameters: {'lambda': 2.3676196220757504, 'alpha': 2.46712613052068, 'colsample_bytree': 0.5034218079510928, 'subsample': 0.7279531836406874, 'learning_rate': 0.007744730651562271, 'n_estimators': 1445, 'max_depth': 6, 'min_child_weight': 6, 'num_parallel_tree': 1}. Best is trial 173 with value: 0.09909467168372289.\u001b[0m\n",
      "\u001b[32m[I 2023-06-06 08:52:47,013]\u001b[0m Trial 747 finished with value: 0.1404240505617528 and parameters: {'lambda': 5.197024122960257, 'alpha': 1.8591153988560154, 'colsample_bytree': 0.36057557515127325, 'subsample': 0.36873548161027614, 'learning_rate': 0.03304354492008196, 'n_estimators': 2003, 'max_depth': 3, 'min_child_weight': 5, 'num_parallel_tree': 1}. Best is trial 173 with value: 0.09909467168372289.\u001b[0m\n",
      "\u001b[32m[I 2023-06-06 08:52:50,416]\u001b[0m Trial 748 finished with value: 0.12458312111555826 and parameters: {'lambda': 1.2230188525602084, 'alpha': 5.798479630302405, 'colsample_bytree': 0.7173816406224377, 'subsample': 0.6449432196589582, 'learning_rate': 0.037004859789974164, 'n_estimators': 1579, 'max_depth': 6, 'min_child_weight': 6, 'num_parallel_tree': 1}. Best is trial 173 with value: 0.09909467168372289.\u001b[0m\n",
      "\u001b[32m[I 2023-06-06 08:52:53,996]\u001b[0m Trial 749 finished with value: 0.11775486072306356 and parameters: {'lambda': 6.051116853434679, 'alpha': 3.01586359876306, 'colsample_bytree': 0.6317447664868172, 'subsample': 0.23178561005418874, 'learning_rate': 0.07646733548454887, 'n_estimators': 1705, 'max_depth': 6, 'min_child_weight': 7, 'num_parallel_tree': 1}. Best is trial 173 with value: 0.09909467168372289.\u001b[0m\n",
      "\u001b[32m[I 2023-06-06 08:52:59,428]\u001b[0m Trial 750 finished with value: 0.11040265076507094 and parameters: {'lambda': 2.709610388922785, 'alpha': 2.1649337583491266, 'colsample_bytree': 0.7196866977847677, 'subsample': 0.8183032443301805, 'learning_rate': 0.07478970112536737, 'n_estimators': 2100, 'max_depth': 6, 'min_child_weight': 6, 'num_parallel_tree': 1}. Best is trial 173 with value: 0.09909467168372289.\u001b[0m\n",
      "\u001b[32m[I 2023-06-06 08:53:02,534]\u001b[0m Trial 751 finished with value: 0.16036020392030548 and parameters: {'lambda': 2.5923201151504704, 'alpha': 7.990415123986385, 'colsample_bytree': 0.7500488316243372, 'subsample': 0.3985405074304246, 'learning_rate': 0.08877374945980897, 'n_estimators': 1497, 'max_depth': 6, 'min_child_weight': 6, 'num_parallel_tree': 1}. Best is trial 173 with value: 0.09909467168372289.\u001b[0m\n",
      "\u001b[32m[I 2023-06-06 08:53:06,945]\u001b[0m Trial 752 finished with value: 0.13007032499783172 and parameters: {'lambda': 5.031622902634003, 'alpha': 0.44827568438090176, 'colsample_bytree': 0.3325208676051385, 'subsample': 0.4741827087881458, 'learning_rate': 0.09903688178742379, 'n_estimators': 1611, 'max_depth': 7, 'min_child_weight': 5, 'num_parallel_tree': 1}. Best is trial 173 with value: 0.09909467168372289.\u001b[0m\n",
      "\u001b[32m[I 2023-06-06 08:53:11,161]\u001b[0m Trial 753 finished with value: 0.12508741741679405 and parameters: {'lambda': 3.645369458748987, 'alpha': 3.365739845687702, 'colsample_bytree': 0.24002955533057413, 'subsample': 0.8392149486235401, 'learning_rate': 0.049112943262384336, 'n_estimators': 1771, 'max_depth': 6, 'min_child_weight': 6, 'num_parallel_tree': 1}. Best is trial 173 with value: 0.09909467168372289.\u001b[0m\n",
      "\u001b[32m[I 2023-06-06 08:53:16,137]\u001b[0m Trial 754 finished with value: 0.12499220725509068 and parameters: {'lambda': 2.066807314177473, 'alpha': 3.629545319247175, 'colsample_bytree': 0.6901317141907654, 'subsample': 0.7835690164605511, 'learning_rate': 0.023997114646714352, 'n_estimators': 1556, 'max_depth': 6, 'min_child_weight': 4, 'num_parallel_tree': 1}. Best is trial 173 with value: 0.09909467168372289.\u001b[0m\n",
      "\u001b[32m[I 2023-06-06 08:53:23,633]\u001b[0m Trial 755 finished with value: 0.13194406773508463 and parameters: {'lambda': 0.9131812935057246, 'alpha': 1.340033118562718, 'colsample_bytree': 0.8626128933936753, 'subsample': 0.8677167886428256, 'learning_rate': 0.02279226046995429, 'n_estimators': 1939, 'max_depth': 9, 'min_child_weight': 6, 'num_parallel_tree': 1}. Best is trial 173 with value: 0.09909467168372289.\u001b[0m\n",
      "\u001b[32m[I 2023-06-06 08:53:28,059]\u001b[0m Trial 756 finished with value: 0.15145292701053453 and parameters: {'lambda': 2.2549633341682074, 'alpha': 4.0752153973275345, 'colsample_bytree': 0.6797825566669511, 'subsample': 0.8088133581619749, 'learning_rate': 0.06283411206976919, 'n_estimators': 1657, 'max_depth': 6, 'min_child_weight': 5, 'num_parallel_tree': 1}. Best is trial 173 with value: 0.09909467168372289.\u001b[0m\n",
      "\u001b[32m[I 2023-06-06 08:53:30,564]\u001b[0m Trial 757 finished with value: 0.15246293350524667 and parameters: {'lambda': 4.795727853434876, 'alpha': 9.116795322364652, 'colsample_bytree': 0.37295798380382006, 'subsample': 0.24643760705982126, 'learning_rate': 0.09668809326244718, 'n_estimators': 977, 'max_depth': 6, 'min_child_weight': 8, 'num_parallel_tree': 1}. Best is trial 173 with value: 0.09909467168372289.\u001b[0m\n",
      "\u001b[32m[I 2023-06-06 08:53:34,776]\u001b[0m Trial 758 finished with value: 0.12020078551516303 and parameters: {'lambda': 2.4893784272328934, 'alpha': 4.498561449068601, 'colsample_bytree': 0.13761936490211263, 'subsample': 0.5926718170828851, 'learning_rate': 0.03960940868972233, 'n_estimators': 1428, 'max_depth': 6, 'min_child_weight': 6, 'num_parallel_tree': 1}. Best is trial 173 with value: 0.09909467168372289.\u001b[0m\n",
      "\u001b[32m[I 2023-06-06 08:53:39,313]\u001b[0m Trial 759 finished with value: 0.1330521693794101 and parameters: {'lambda': 2.801480506807569, 'alpha': 1.1454308909545494, 'colsample_bytree': 0.35006529890814014, 'subsample': 0.7096285925525859, 'learning_rate': 0.03503384934333908, 'n_estimators': 1504, 'max_depth': 3, 'min_child_weight': 5, 'num_parallel_tree': 1}. Best is trial 173 with value: 0.09909467168372289.\u001b[0m\n"
     ]
    },
    {
     "name": "stderr",
     "output_type": "stream",
     "text": [
      "\u001b[32m[I 2023-06-06 08:53:44,711]\u001b[0m Trial 760 finished with value: 0.1310065008581829 and parameters: {'lambda': 4.300459916280021, 'alpha': 1.5938017927057446, 'colsample_bytree': 0.8246103358073285, 'subsample': 0.5244186173270875, 'learning_rate': 0.08714675172776651, 'n_estimators': 1541, 'max_depth': 6, 'min_child_weight': 6, 'num_parallel_tree': 1}. Best is trial 173 with value: 0.09909467168372289.\u001b[0m\n",
      "\u001b[32m[I 2023-06-06 08:53:49,941]\u001b[0m Trial 761 finished with value: 0.10043914016397598 and parameters: {'lambda': 1.814474654253618, 'alpha': 0.6558191397337303, 'colsample_bytree': 0.31811984154804374, 'subsample': 0.7581124253955794, 'learning_rate': 0.020666694767968674, 'n_estimators': 1623, 'max_depth': 6, 'min_child_weight': 7, 'num_parallel_tree': 1}. Best is trial 173 with value: 0.09909467168372289.\u001b[0m\n",
      "\u001b[32m[I 2023-06-06 08:53:54,257]\u001b[0m Trial 762 finished with value: 0.11717231535555807 and parameters: {'lambda': 1.934512465146813, 'alpha': 2.7960190633191813, 'colsample_bytree': 0.328830181566356, 'subsample': 0.44220380867958453, 'learning_rate': 0.020440277730062704, 'n_estimators': 1735, 'max_depth': 7, 'min_child_weight': 7, 'num_parallel_tree': 1}. Best is trial 173 with value: 0.09909467168372289.\u001b[0m\n",
      "\u001b[32m[I 2023-06-06 08:53:57,990]\u001b[0m Trial 763 finished with value: 0.13920047009559083 and parameters: {'lambda': 1.649093425471386, 'alpha': 7.946297063150126, 'colsample_bytree': 0.3228087921116144, 'subsample': 0.7375138603237588, 'learning_rate': 0.019862293522110365, 'n_estimators': 1643, 'max_depth': 9, 'min_child_weight': 7, 'num_parallel_tree': 1}. Best is trial 173 with value: 0.09909467168372289.\u001b[0m\n",
      "\u001b[32m[I 2023-06-06 08:54:01,847]\u001b[0m Trial 764 finished with value: 0.11896750167372523 and parameters: {'lambda': 1.8253917972905884, 'alpha': 4.6984128045890525, 'colsample_bytree': 0.3455675330417634, 'subsample': 0.7220608117251852, 'learning_rate': 0.07943125413341247, 'n_estimators': 1689, 'max_depth': 6, 'min_child_weight': 7, 'num_parallel_tree': 1}. Best is trial 173 with value: 0.09909467168372289.\u001b[0m\n",
      "\u001b[32m[I 2023-06-06 08:54:05,700]\u001b[0m Trial 765 finished with value: 0.12758208631649878 and parameters: {'lambda': 1.387824796648105, 'alpha': 7.574687132580876, 'colsample_bytree': 0.20858166378663132, 'subsample': 0.7448522373310255, 'learning_rate': 0.02259631241807886, 'n_estimators': 1786, 'max_depth': 6, 'min_child_weight': 7, 'num_parallel_tree': 1}. Best is trial 173 with value: 0.09909467168372289.\u001b[0m\n",
      "\u001b[32m[I 2023-06-06 08:54:09,408]\u001b[0m Trial 766 finished with value: 0.1280357380934013 and parameters: {'lambda': 2.0192739522516465, 'alpha': 5.360640657219076, 'colsample_bytree': 0.3113425759050333, 'subsample': 0.68316153911758, 'learning_rate': 0.01768458700326555, 'n_estimators': 1705, 'max_depth': 4, 'min_child_weight': 7, 'num_parallel_tree': 1}. Best is trial 173 with value: 0.09909467168372289.\u001b[0m\n",
      "\u001b[32m[I 2023-06-06 08:54:12,906]\u001b[0m Trial 767 finished with value: 0.13414154614961807 and parameters: {'lambda': 0.52319074834334, 'alpha': 9.694703346404774, 'colsample_bytree': 0.37012683089773807, 'subsample': 0.7607037200195541, 'learning_rate': 0.02139444493548191, 'n_estimators': 1625, 'max_depth': 6, 'min_child_weight': 7, 'num_parallel_tree': 1}. Best is trial 173 with value: 0.09909467168372289.\u001b[0m\n",
      "\u001b[32m[I 2023-06-06 08:54:15,191]\u001b[0m Trial 768 finished with value: 0.12915216926403092 and parameters: {'lambda': 1.7279928951875394, 'alpha': 1.0836035023428936, 'colsample_bytree': 0.10096279222348153, 'subsample': 0.9166545567354841, 'learning_rate': 0.0177809070902105, 'n_estimators': 947, 'max_depth': 6, 'min_child_weight': 7, 'num_parallel_tree': 1}. Best is trial 173 with value: 0.09909467168372289.\u001b[0m\n",
      "\u001b[32m[I 2023-06-06 08:54:21,837]\u001b[0m Trial 769 finished with value: 0.12567435570177504 and parameters: {'lambda': 1.4977459480719444, 'alpha': 0.8386200505407421, 'colsample_bytree': 0.97919847481347, 'subsample': 0.3828345000099239, 'learning_rate': 0.02510971139214252, 'n_estimators': 2193, 'max_depth': 6, 'min_child_weight': 7, 'num_parallel_tree': 1}. Best is trial 173 with value: 0.09909467168372289.\u001b[0m\n",
      "\u001b[32m[I 2023-06-06 08:54:25,429]\u001b[0m Trial 770 finished with value: 0.15785949066698848 and parameters: {'lambda': 2.3025788390028232, 'alpha': 8.154590431256867, 'colsample_bytree': 0.392215537405193, 'subsample': 0.900228142940795, 'learning_rate': 0.0314205642169411, 'n_estimators': 1599, 'max_depth': 6, 'min_child_weight': 7, 'num_parallel_tree': 1}. Best is trial 173 with value: 0.09909467168372289.\u001b[0m\n",
      "\u001b[32m[I 2023-06-06 08:54:27,612]\u001b[0m Trial 771 finished with value: 0.1483079462926473 and parameters: {'lambda': 2.0864618459106774, 'alpha': 1.986874827340518, 'colsample_bytree': 0.9322288179955096, 'subsample': 0.25595993636094333, 'learning_rate': 0.012273922324701002, 'n_estimators': 701, 'max_depth': 7, 'min_child_weight': 7, 'num_parallel_tree': 1}. Best is trial 173 with value: 0.09909467168372289.\u001b[0m\n",
      "\u001b[32m[I 2023-06-06 08:54:33,287]\u001b[0m Trial 772 finished with value: 0.11708282882812872 and parameters: {'lambda': 2.5240612400240767, 'alpha': 1.479974503677123, 'colsample_bytree': 0.34468573094795263, 'subsample': 0.8447910401356524, 'learning_rate': 0.028578513651502324, 'n_estimators': 1689, 'max_depth': 6, 'min_child_weight': 7, 'num_parallel_tree': 1}. Best is trial 173 with value: 0.09909467168372289.\u001b[0m\n",
      "\u001b[32m[I 2023-06-06 08:54:39,445]\u001b[0m Trial 773 finished with value: 0.112856885174891 and parameters: {'lambda': 3.0321911291044117, 'alpha': 2.312235434565617, 'colsample_bytree': 0.7236400376306655, 'subsample': 0.2917652187078852, 'learning_rate': 0.019044819871823826, 'n_estimators': 1855, 'max_depth': 9, 'min_child_weight': 8, 'num_parallel_tree': 1}. Best is trial 173 with value: 0.09909467168372289.\u001b[0m\n",
      "\u001b[32m[I 2023-06-06 08:54:45,305]\u001b[0m Trial 774 finished with value: 0.13683241963218815 and parameters: {'lambda': 1.1071264428711725, 'alpha': 6.731235038002044, 'colsample_bytree': 0.1423477755388308, 'subsample': 0.9346145330248185, 'learning_rate': 0.014070088897160982, 'n_estimators': 2401, 'max_depth': 6, 'min_child_weight': 7, 'num_parallel_tree': 1}. Best is trial 173 with value: 0.09909467168372289.\u001b[0m\n",
      "\u001b[32m[I 2023-06-06 08:54:49,493]\u001b[0m Trial 775 finished with value: 0.1509805664752631 and parameters: {'lambda': 3.3384588263675594, 'alpha': 6.1405691556360456, 'colsample_bytree': 0.7973814083123091, 'subsample': 0.7243513854875889, 'learning_rate': 0.05887092503112709, 'n_estimators': 1592, 'max_depth': 3, 'min_child_weight': 5, 'num_parallel_tree': 1}. Best is trial 173 with value: 0.09909467168372289.\u001b[0m\n",
      "\u001b[32m[I 2023-06-06 08:54:52,106]\u001b[0m Trial 776 finished with value: 0.11614253355350454 and parameters: {'lambda': 1.8510409736379363, 'alpha': 3.18990097488545, 'colsample_bytree': 0.2962430145385687, 'subsample': 0.6591022667090607, 'learning_rate': 0.0575616646653433, 'n_estimators': 888, 'max_depth': 6, 'min_child_weight': 4, 'num_parallel_tree': 1}. Best is trial 173 with value: 0.09909467168372289.\u001b[0m\n",
      "\u001b[32m[I 2023-06-06 08:54:56,992]\u001b[0m Trial 777 finished with value: 0.14705448535856674 and parameters: {'lambda': 2.2343991992681955, 'alpha': 1.7066194725324417, 'colsample_bytree': 0.38270804760653165, 'subsample': 0.8764345570736394, 'learning_rate': 0.023803015628284106, 'n_estimators': 1653, 'max_depth': 6, 'min_child_weight': 9, 'num_parallel_tree': 1}. Best is trial 173 with value: 0.09909467168372289.\u001b[0m\n",
      "\u001b[32m[I 2023-06-06 08:55:01,292]\u001b[0m Trial 778 finished with value: 0.13945190219728587 and parameters: {'lambda': 2.3662773755005113, 'alpha': 5.536106479741228, 'colsample_bytree': 0.510641900377465, 'subsample': 0.7056319400156401, 'learning_rate': 0.021196504948069423, 'n_estimators': 1729, 'max_depth': 6, 'min_child_weight': 7, 'num_parallel_tree': 1}. Best is trial 173 with value: 0.09909467168372289.\u001b[0m\n",
      "\u001b[32m[I 2023-06-06 08:55:05,197]\u001b[0m Trial 779 finished with value: 0.10504792014750838 and parameters: {'lambda': 2.766169681259837, 'alpha': 0.9787665543769599, 'colsample_bytree': 0.8646162564212851, 'subsample': 0.755065033724425, 'learning_rate': 0.016213496500253895, 'n_estimators': 1002, 'max_depth': 6, 'min_child_weight': 10, 'num_parallel_tree': 1}. Best is trial 173 with value: 0.09909467168372289.\u001b[0m\n"
     ]
    },
    {
     "name": "stderr",
     "output_type": "stream",
     "text": [
      "\u001b[32m[I 2023-06-06 08:55:08,788]\u001b[0m Trial 780 finished with value: 0.1053846851363777 and parameters: {'lambda': 2.8354693094324532, 'alpha': 0.9538243149441583, 'colsample_bytree': 0.8854466410904598, 'subsample': 0.73687071864606, 'learning_rate': 0.015521544447567398, 'n_estimators': 965, 'max_depth': 6, 'min_child_weight': 10, 'num_parallel_tree': 1}. Best is trial 173 with value: 0.09909467168372289.\u001b[0m\n",
      "\u001b[32m[I 2023-06-06 08:55:11,891]\u001b[0m Trial 781 finished with value: 0.13145695133736682 and parameters: {'lambda': 2.912664892288952, 'alpha': 0.872118225249973, 'colsample_bytree': 0.8606334781206118, 'subsample': 0.7358088300001894, 'learning_rate': 0.015375699009119849, 'n_estimators': 943, 'max_depth': 6, 'min_child_weight': 10, 'num_parallel_tree': 1}. Best is trial 173 with value: 0.09909467168372289.\u001b[0m\n",
      "\u001b[32m[I 2023-06-06 08:55:14,711]\u001b[0m Trial 782 finished with value: 0.14292879718406984 and parameters: {'lambda': 3.127897331102422, 'alpha': 6.40775204744096, 'colsample_bytree': 0.8535955745087515, 'subsample': 0.7232525427928276, 'learning_rate': 0.01628362728778389, 'n_estimators': 1019, 'max_depth': 6, 'min_child_weight': 10, 'num_parallel_tree': 1}. Best is trial 173 with value: 0.09909467168372289.\u001b[0m\n",
      "\u001b[32m[I 2023-06-06 08:55:17,956]\u001b[0m Trial 783 finished with value: 0.11478934365708826 and parameters: {'lambda': 2.8239428760344083, 'alpha': 0.9971392969483616, 'colsample_bytree': 0.8821429814094599, 'subsample': 0.7561535451864485, 'learning_rate': 0.013427733744152149, 'n_estimators': 1009, 'max_depth': 6, 'min_child_weight': 10, 'num_parallel_tree': 1}. Best is trial 173 with value: 0.09909467168372289.\u001b[0m\n",
      "\u001b[32m[I 2023-06-06 08:55:21,641]\u001b[0m Trial 784 finished with value: 0.13649088926768285 and parameters: {'lambda': 2.712698288240364, 'alpha': 0.7051425475399257, 'colsample_bytree': 0.8713049462215589, 'subsample': 0.7427759582261351, 'learning_rate': 0.016940317369475662, 'n_estimators': 999, 'max_depth': 6, 'min_child_weight': 10, 'num_parallel_tree': 1}. Best is trial 173 with value: 0.09909467168372289.\u001b[0m\n",
      "\u001b[32m[I 2023-06-06 08:55:24,712]\u001b[0m Trial 785 finished with value: 0.12932044005534496 and parameters: {'lambda': 3.046301897396174, 'alpha': 0.9804001072863654, 'colsample_bytree': 0.8188542001864254, 'subsample': 0.7532154492798459, 'learning_rate': 0.018625696633561933, 'n_estimators': 955, 'max_depth': 6, 'min_child_weight': 10, 'num_parallel_tree': 1}. Best is trial 173 with value: 0.09909467168372289.\u001b[0m\n",
      "\u001b[32m[I 2023-06-06 08:55:28,145]\u001b[0m Trial 786 finished with value: 0.13387317465165074 and parameters: {'lambda': 2.6399356846047213, 'alpha': 0.6169411404361714, 'colsample_bytree': 0.8668335645285193, 'subsample': 0.7722255322628326, 'learning_rate': 0.015093958945563792, 'n_estimators': 1006, 'max_depth': 6, 'min_child_weight': 10, 'num_parallel_tree': 1}. Best is trial 173 with value: 0.09909467168372289.\u001b[0m\n",
      "\u001b[32m[I 2023-06-06 08:55:31,849]\u001b[0m Trial 787 finished with value: 0.13748898772309126 and parameters: {'lambda': 2.901446052735424, 'alpha': 1.2110288771982276, 'colsample_bytree': 0.9089631096213507, 'subsample': 0.7557707916785193, 'learning_rate': 0.015678083035158837, 'n_estimators': 1035, 'max_depth': 6, 'min_child_weight': 10, 'num_parallel_tree': 1}. Best is trial 173 with value: 0.09909467168372289.\u001b[0m\n",
      "\u001b[32m[I 2023-06-06 08:55:36,084]\u001b[0m Trial 788 finished with value: 0.11629325093487822 and parameters: {'lambda': 0.36035212241719095, 'alpha': 0.36176512879892353, 'colsample_bytree': 0.9080621397599167, 'subsample': 0.7133874076314258, 'learning_rate': 0.018001607295438246, 'n_estimators': 1058, 'max_depth': 6, 'min_child_weight': 10, 'num_parallel_tree': 1}. Best is trial 173 with value: 0.09909467168372289.\u001b[0m\n",
      "\u001b[32m[I 2023-06-06 08:55:43,993]\u001b[0m Trial 789 finished with value: 0.11968581678675297 and parameters: {'lambda': 3.22745118539339, 'alpha': 0.7820732885338536, 'colsample_bytree': 0.4390538124563871, 'subsample': 0.6894855164986036, 'learning_rate': 0.012226170978622816, 'n_estimators': 2264, 'max_depth': 6, 'min_child_weight': 10, 'num_parallel_tree': 1}. Best is trial 173 with value: 0.09909467168372289.\u001b[0m\n",
      "\u001b[32m[I 2023-06-06 08:55:47,347]\u001b[0m Trial 790 finished with value: 0.11834622092631286 and parameters: {'lambda': 2.5452670691126915, 'alpha': 1.0886753176002728, 'colsample_bytree': 0.8312682798068216, 'subsample': 0.7432112236530211, 'learning_rate': 0.014300893500009801, 'n_estimators': 865, 'max_depth': 6, 'min_child_weight': 10, 'num_parallel_tree': 1}. Best is trial 173 with value: 0.09909467168372289.\u001b[0m\n",
      "\u001b[32m[I 2023-06-06 08:55:51,220]\u001b[0m Trial 791 finished with value: 0.10598817786257662 and parameters: {'lambda': 1.3046835524411176, 'alpha': 1.2922042706722432, 'colsample_bytree': 0.9429443275300924, 'subsample': 0.7526085068648481, 'learning_rate': 0.019968310819062085, 'n_estimators': 912, 'max_depth': 6, 'min_child_weight': 10, 'num_parallel_tree': 1}. Best is trial 173 with value: 0.09909467168372289.\u001b[0m\n",
      "\u001b[32m[I 2023-06-06 08:55:54,974]\u001b[0m Trial 792 finished with value: 0.13248464147361 and parameters: {'lambda': 0.829634971402594, 'alpha': 0.9559786785721451, 'colsample_bytree': 0.885439555018276, 'subsample': 0.7687817878370959, 'learning_rate': 0.01697975379755531, 'n_estimators': 808, 'max_depth': 6, 'min_child_weight': 10, 'num_parallel_tree': 1}. Best is trial 173 with value: 0.09909467168372289.\u001b[0m\n",
      "\u001b[32m[I 2023-06-06 08:55:58,814]\u001b[0m Trial 793 finished with value: 0.12795523136386927 and parameters: {'lambda': 1.0820253149456511, 'alpha': 0.5192245946271052, 'colsample_bytree': 0.9741156710966281, 'subsample': 0.5802471636838757, 'learning_rate': 0.010537238857204693, 'n_estimators': 858, 'max_depth': 6, 'min_child_weight': 4, 'num_parallel_tree': 1}. Best is trial 173 with value: 0.09909467168372289.\u001b[0m\n",
      "\u001b[32m[I 2023-06-06 08:56:03,351]\u001b[0m Trial 794 finished with value: 0.1307790154213468 and parameters: {'lambda': 1.243193135006746, 'alpha': 1.1262044565689133, 'colsample_bytree': 0.9073925521331259, 'subsample': 0.7746496992477863, 'learning_rate': 0.019460627239117168, 'n_estimators': 969, 'max_depth': 9, 'min_child_weight': 10, 'num_parallel_tree': 1}. Best is trial 173 with value: 0.09909467168372289.\u001b[0m\n",
      "\u001b[32m[I 2023-06-06 08:56:07,211]\u001b[0m Trial 795 finished with value: 0.12797727500316475 and parameters: {'lambda': 1.380360171108146, 'alpha': 0.7907021470465945, 'colsample_bytree': 0.954889756169857, 'subsample': 0.7875138994762656, 'learning_rate': 0.021723153768241105, 'n_estimators': 902, 'max_depth': 6, 'min_child_weight': 10, 'num_parallel_tree': 1}. Best is trial 173 with value: 0.09909467168372289.\u001b[0m\n",
      "\u001b[32m[I 2023-06-06 08:56:10,785]\u001b[0m Trial 796 finished with value: 0.13751280762146836 and parameters: {'lambda': 1.4808686564087672, 'alpha': 1.291669072039921, 'colsample_bytree': 0.8724746026108706, 'subsample': 0.7924192765384558, 'learning_rate': 0.01464684981276577, 'n_estimators': 902, 'max_depth': 6, 'min_child_weight': 10, 'num_parallel_tree': 1}. Best is trial 173 with value: 0.09909467168372289.\u001b[0m\n",
      "\u001b[32m[I 2023-06-06 08:56:14,358]\u001b[0m Trial 797 finished with value: 0.11616406895439624 and parameters: {'lambda': 0.9852867188634571, 'alpha': 0.9153424752551331, 'colsample_bytree': 0.9843323671139932, 'subsample': 0.7744360093314012, 'learning_rate': 0.025968436939019915, 'n_estimators': 918, 'max_depth': 6, 'min_child_weight': 10, 'num_parallel_tree': 1}. Best is trial 173 with value: 0.09909467168372289.\u001b[0m\n",
      "\u001b[32m[I 2023-06-06 08:56:17,857]\u001b[0m Trial 798 finished with value: 0.12533007899050677 and parameters: {'lambda': 1.2873372822105154, 'alpha': 1.29340839116662, 'colsample_bytree': 0.8554523491912817, 'subsample': 0.7521007717755187, 'learning_rate': 0.01748960958786751, 'n_estimators': 953, 'max_depth': 6, 'min_child_weight': 10, 'num_parallel_tree': 1}. Best is trial 173 with value: 0.09909467168372289.\u001b[0m\n",
      "\u001b[32m[I 2023-06-06 08:56:20,261]\u001b[0m Trial 799 finished with value: 0.13216675040525697 and parameters: {'lambda': 2.797710122898921, 'alpha': 0.23701357125036393, 'colsample_bytree': 0.9643385214984361, 'subsample': 0.27109056159127937, 'learning_rate': 0.008177208816767223, 'n_estimators': 814, 'max_depth': 6, 'min_child_weight': 10, 'num_parallel_tree': 1}. Best is trial 173 with value: 0.09909467168372289.\u001b[0m\n"
     ]
    },
    {
     "name": "stderr",
     "output_type": "stream",
     "text": [
      "\u001b[32m[I 2023-06-06 08:56:23,505]\u001b[0m Trial 800 finished with value: 0.11789312171577783 and parameters: {'lambda': 2.9571368127435993, 'alpha': 0.6699441019724719, 'colsample_bytree': 0.9334831110077586, 'subsample': 0.7580419557166771, 'learning_rate': 0.027663721433617193, 'n_estimators': 1056, 'max_depth': 3, 'min_child_weight': 10, 'num_parallel_tree': 1}. Best is trial 173 with value: 0.09909467168372289.\u001b[0m\n",
      "\u001b[32m[I 2023-06-06 08:56:27,015]\u001b[0m Trial 801 finished with value: 0.13010901036334604 and parameters: {'lambda': 1.581446661398123, 'alpha': 5.245051105481689, 'colsample_bytree': 0.9404977457792215, 'subsample': 0.7458431890747128, 'learning_rate': 0.022829059345206466, 'n_estimators': 972, 'max_depth': 6, 'min_child_weight': 10, 'num_parallel_tree': 1}. Best is trial 173 with value: 0.09909467168372289.\u001b[0m\n",
      "\u001b[32m[I 2023-06-06 08:56:29,503]\u001b[0m Trial 802 finished with value: 0.1538425616943315 and parameters: {'lambda': 2.6954517465645997, 'alpha': 9.255381341516557, 'colsample_bytree': 0.9557433173872737, 'subsample': 0.7331538233147066, 'learning_rate': 0.06799516721048202, 'n_estimators': 836, 'max_depth': 9, 'min_child_weight': 10, 'num_parallel_tree': 1}. Best is trial 173 with value: 0.09909467168372289.\u001b[0m\n",
      "\u001b[32m[I 2023-06-06 08:56:32,274]\u001b[0m Trial 803 finished with value: 0.11625000498092218 and parameters: {'lambda': 3.136926551158315, 'alpha': 1.0628583190754401, 'colsample_bytree': 0.894668445807135, 'subsample': 0.641341515856748, 'learning_rate': 0.011912023706423969, 'n_estimators': 714, 'max_depth': 6, 'min_child_weight': 10, 'num_parallel_tree': 1}. Best is trial 173 with value: 0.09909467168372289.\u001b[0m\n",
      "\u001b[32m[I 2023-06-06 08:56:34,951]\u001b[0m Trial 804 finished with value: 0.14541907487335576 and parameters: {'lambda': 2.6836756314852455, 'alpha': 9.964797337326953, 'colsample_bytree': 0.9376189527716655, 'subsample': 0.6184332341086398, 'learning_rate': 0.029308375488948896, 'n_estimators': 899, 'max_depth': 4, 'min_child_weight': 10, 'num_parallel_tree': 1}. Best is trial 173 with value: 0.09909467168372289.\u001b[0m\n",
      "\u001b[32m[I 2023-06-06 08:56:38,748]\u001b[0m Trial 805 finished with value: 0.1123546663699085 and parameters: {'lambda': 3.462790554448416, 'alpha': 4.311779012669364, 'colsample_bytree': 0.9685591079898135, 'subsample': 0.7372187826239162, 'learning_rate': 0.02423616558399044, 'n_estimators': 1092, 'max_depth': 6, 'min_child_weight': 10, 'num_parallel_tree': 1}. Best is trial 173 with value: 0.09909467168372289.\u001b[0m\n",
      "\u001b[32m[I 2023-06-06 08:56:40,322]\u001b[0m Trial 806 finished with value: 0.14009265729616474 and parameters: {'lambda': 0.767617998748332, 'alpha': 1.3092290235935236, 'colsample_bytree': 0.985803072109879, 'subsample': 0.798649441607974, 'learning_rate': 0.02101051415073438, 'n_estimators': 351, 'max_depth': 6, 'min_child_weight': 10, 'num_parallel_tree': 1}. Best is trial 173 with value: 0.09909467168372289.\u001b[0m\n",
      "\u001b[32m[I 2023-06-06 08:56:42,978]\u001b[0m Trial 807 finished with value: 7.122228644908048 and parameters: {'lambda': 2.4262088887914364, 'alpha': 0.5206678500496551, 'colsample_bytree': 0.9198349050270437, 'subsample': 0.9936097510441224, 'learning_rate': 0.0004750945425592082, 'n_estimators': 1012, 'max_depth': 6, 'min_child_weight': 10, 'num_parallel_tree': 1}. Best is trial 173 with value: 0.09909467168372289.\u001b[0m\n",
      "\u001b[32m[I 2023-06-06 08:56:46,465]\u001b[0m Trial 808 finished with value: 0.11492008942437233 and parameters: {'lambda': 2.5041894902315276, 'alpha': 0.8956848589237487, 'colsample_bytree': 0.8784959107833693, 'subsample': 0.6003144150247417, 'learning_rate': 0.01618128997057684, 'n_estimators': 959, 'max_depth': 6, 'min_child_weight': 10, 'num_parallel_tree': 1}. Best is trial 173 with value: 0.09909467168372289.\u001b[0m\n",
      "\u001b[32m[I 2023-06-06 08:56:49,081]\u001b[0m Trial 809 finished with value: 0.154581750032908 and parameters: {'lambda': 1.688011153751406, 'alpha': 8.639396022994333, 'colsample_bytree': 0.9447145005988089, 'subsample': 0.5627549375837724, 'learning_rate': 0.04815678807041402, 'n_estimators': 1056, 'max_depth': 6, 'min_child_weight': 10, 'num_parallel_tree': 1}. Best is trial 173 with value: 0.09909467168372289.\u001b[0m\n",
      "\u001b[32m[I 2023-06-06 08:56:51,822]\u001b[0m Trial 810 finished with value: 0.1440275322268375 and parameters: {'lambda': 2.9423969729156463, 'alpha': 7.345245271705187, 'colsample_bytree': 0.9598504071283365, 'subsample': 0.7842881809397857, 'learning_rate': 0.05342684904020033, 'n_estimators': 1082, 'max_depth': 6, 'min_child_weight': 10, 'num_parallel_tree': 1}. Best is trial 173 with value: 0.09909467168372289.\u001b[0m\n",
      "\u001b[32m[I 2023-06-06 08:56:54,913]\u001b[0m Trial 811 finished with value: 0.11656846237354998 and parameters: {'lambda': 2.3154410985743734, 'alpha': 4.149798491651913, 'colsample_bytree': 0.918300046422959, 'subsample': 0.5865291212371444, 'learning_rate': 0.019577039132742488, 'n_estimators': 993, 'max_depth': 9, 'min_child_weight': 10, 'num_parallel_tree': 1}. Best is trial 173 with value: 0.09909467168372289.\u001b[0m\n",
      "\u001b[32m[I 2023-06-06 08:56:58,016]\u001b[0m Trial 812 finished with value: 0.12084048984528394 and parameters: {'lambda': 3.260053415857804, 'alpha': 3.8699282504013945, 'colsample_bytree': 0.8442082737948605, 'subsample': 0.7696375569406563, 'learning_rate': 0.013389953386586492, 'n_estimators': 907, 'max_depth': 6, 'min_child_weight': 5, 'num_parallel_tree': 1}. Best is trial 173 with value: 0.09909467168372289.\u001b[0m\n",
      "\u001b[32m[I 2023-06-06 08:57:04,646]\u001b[0m Trial 813 finished with value: 0.13181735604090977 and parameters: {'lambda': 1.214675317503777, 'alpha': 3.563968748041739, 'colsample_bytree': 0.9908137429049253, 'subsample': 0.7246412744376038, 'learning_rate': 0.026340375779031006, 'n_estimators': 2532, 'max_depth': 6, 'min_child_weight': 5, 'num_parallel_tree': 1}. Best is trial 173 with value: 0.09909467168372289.\u001b[0m\n",
      "\u001b[32m[I 2023-06-06 08:57:07,498]\u001b[0m Trial 814 finished with value: 0.12591275862360535 and parameters: {'lambda': 2.7822525007928975, 'alpha': 1.1792556723434164, 'colsample_bytree': 0.888936100406813, 'subsample': 0.9593175505129544, 'learning_rate': 0.02963420035692481, 'n_estimators': 1036, 'max_depth': 3, 'min_child_weight': 1, 'num_parallel_tree': 1}. Best is trial 173 with value: 0.09909467168372289.\u001b[0m\n",
      "\u001b[32m[I 2023-06-06 08:57:10,182]\u001b[0m Trial 815 finished with value: 0.125690893878982 and parameters: {'lambda': 2.172602060715441, 'alpha': 0.7462076785042611, 'colsample_bytree': 0.8392026117924563, 'subsample': 0.7612574128850634, 'learning_rate': 0.017981500129411458, 'n_estimators': 782, 'max_depth': 6, 'min_child_weight': 3, 'num_parallel_tree': 1}. Best is trial 173 with value: 0.09909467168372289.\u001b[0m\n",
      "\u001b[32m[I 2023-06-06 08:57:13,402]\u001b[0m Trial 816 finished with value: 0.1456515854394821 and parameters: {'lambda': 2.573235342792785, 'alpha': 1.4730150189727804, 'colsample_bytree': 0.8886536652601845, 'subsample': 0.2801287913257346, 'learning_rate': 0.0659986901120218, 'n_estimators': 1085, 'max_depth': 6, 'min_child_weight': 5, 'num_parallel_tree': 1}. Best is trial 173 with value: 0.09909467168372289.\u001b[0m\n",
      "\u001b[32m[I 2023-06-06 08:57:20,099]\u001b[0m Trial 817 finished with value: 0.10708000017370278 and parameters: {'lambda': 1.0406993434164142, 'alpha': 1.0008022644717889, 'colsample_bytree': 0.8850616949424658, 'subsample': 0.6275088926871172, 'learning_rate': 0.031484967086171024, 'n_estimators': 2117, 'max_depth': 6, 'min_child_weight': 4, 'num_parallel_tree': 1}. Best is trial 173 with value: 0.09909467168372289.\u001b[0m\n",
      "\u001b[32m[I 2023-06-06 08:57:27,358]\u001b[0m Trial 818 finished with value: 0.12396057262778191 and parameters: {'lambda': 1.7978878129686147, 'alpha': 1.0386378846431679, 'colsample_bytree': 0.8806113972064769, 'subsample': 0.636063340301515, 'learning_rate': 0.030870362618561773, 'n_estimators': 2155, 'max_depth': 6, 'min_child_weight': 3, 'num_parallel_tree': 1}. Best is trial 173 with value: 0.09909467168372289.\u001b[0m\n",
      "\u001b[32m[I 2023-06-06 08:57:35,646]\u001b[0m Trial 819 finished with value: 0.12488485930196545 and parameters: {'lambda': 1.0168181168657806, 'alpha': 0.8749626492543793, 'colsample_bytree': 0.899443604901095, 'subsample': 0.6247848538421109, 'learning_rate': 0.027881926882317862, 'n_estimators': 2131, 'max_depth': 6, 'min_child_weight': 4, 'num_parallel_tree': 1}. Best is trial 173 with value: 0.09909467168372289.\u001b[0m\n"
     ]
    },
    {
     "name": "stderr",
     "output_type": "stream",
     "text": [
      "\u001b[32m[I 2023-06-06 08:57:42,889]\u001b[0m Trial 820 finished with value: 0.12986521362184894 and parameters: {'lambda': 0.5527214223572383, 'alpha': 1.2626992601763376, 'colsample_bytree': 0.9990146217665805, 'subsample': 0.6591531173327908, 'learning_rate': 0.031289555187320066, 'n_estimators': 2026, 'max_depth': 6, 'min_child_weight': 4, 'num_parallel_tree': 1}. Best is trial 173 with value: 0.09909467168372289.\u001b[0m\n",
      "\u001b[32m[I 2023-06-06 08:57:53,580]\u001b[0m Trial 821 finished with value: 0.12400561707747045 and parameters: {'lambda': 0.9012354638426585, 'alpha': 0.3821793884240299, 'colsample_bytree': 0.8325634580339796, 'subsample': 0.61071473289133, 'learning_rate': 0.025256555626461553, 'n_estimators': 2226, 'max_depth': 9, 'min_child_weight': 4, 'num_parallel_tree': 1}. Best is trial 173 with value: 0.09909467168372289.\u001b[0m\n",
      "\u001b[32m[I 2023-06-06 08:58:01,769]\u001b[0m Trial 822 finished with value: 0.14531764898064156 and parameters: {'lambda': 1.327459125062348, 'alpha': 0.6638385047435342, 'colsample_bytree': 0.8075652868926829, 'subsample': 0.6371745855952337, 'learning_rate': 0.03292618197647126, 'n_estimators': 2155, 'max_depth': 6, 'min_child_weight': 10, 'num_parallel_tree': 1}. Best is trial 173 with value: 0.09909467168372289.\u001b[0m\n",
      "\u001b[32m[I 2023-06-06 08:58:07,299]\u001b[0m Trial 823 finished with value: 0.14112557339139015 and parameters: {'lambda': 1.0547731535160478, 'alpha': 8.47360235993432, 'colsample_bytree': 0.9021135339228171, 'subsample': 0.6744416868574316, 'learning_rate': 0.02841529037667048, 'n_estimators': 2288, 'max_depth': 6, 'min_child_weight': 5, 'num_parallel_tree': 1}. Best is trial 173 with value: 0.09909467168372289.\u001b[0m\n",
      "\u001b[32m[I 2023-06-06 08:58:15,247]\u001b[0m Trial 824 finished with value: 0.11832412738974254 and parameters: {'lambda': 1.4217218857109883, 'alpha': 1.091682169225227, 'colsample_bytree': 0.7667156978674183, 'subsample': 0.6098420389688025, 'learning_rate': 0.02295467918912826, 'n_estimators': 2218, 'max_depth': 6, 'min_child_weight': 4, 'num_parallel_tree': 1}. Best is trial 173 with value: 0.09909467168372289.\u001b[0m\n",
      "\u001b[32m[I 2023-06-06 08:58:18,222]\u001b[0m Trial 825 finished with value: 0.17314898025114828 and parameters: {'lambda': 0.706171963365466, 'alpha': 8.27904314263727, 'colsample_bytree': 0.8011690110281808, 'subsample': 0.5948210364003444, 'learning_rate': 0.03007813517759099, 'n_estimators': 968, 'max_depth': 6, 'min_child_weight': 4, 'num_parallel_tree': 1}. Best is trial 173 with value: 0.09909467168372289.\u001b[0m\n",
      "\u001b[32m[I 2023-06-06 08:58:23,651]\u001b[0m Trial 826 finished with value: 0.12464711529049129 and parameters: {'lambda': 0.8717730588515445, 'alpha': 1.4593291378028828, 'colsample_bytree': 0.8524896853382512, 'subsample': 0.2115492227681427, 'learning_rate': 0.020218044115283634, 'n_estimators': 2059, 'max_depth': 3, 'min_child_weight': 4, 'num_parallel_tree': 1}. Best is trial 173 with value: 0.09909467168372289.\u001b[0m\n",
      "\u001b[32m[I 2023-06-06 08:58:28,875]\u001b[0m Trial 827 finished with value: 0.15239054812060324 and parameters: {'lambda': 0.19467639785548918, 'alpha': 9.400718276127204, 'colsample_bytree': 0.8637075779868972, 'subsample': 0.6243327855985547, 'learning_rate': 0.046774163488783285, 'n_estimators': 2094, 'max_depth': 6, 'min_child_weight': 4, 'num_parallel_tree': 1}. Best is trial 173 with value: 0.09909467168372289.\u001b[0m\n",
      "\u001b[32m[I 2023-06-06 08:58:37,011]\u001b[0m Trial 828 finished with value: 0.1350643481765998 and parameters: {'lambda': 1.1367944975663866, 'alpha': 0.9547376697717517, 'colsample_bytree': 0.9325345154137699, 'subsample': 0.5756645475707097, 'learning_rate': 0.010030395284255499, 'n_estimators': 2100, 'max_depth': 6, 'min_child_weight': 4, 'num_parallel_tree': 1}. Best is trial 173 with value: 0.09909467168372289.\u001b[0m\n",
      "\u001b[32m[I 2023-06-06 08:58:43,228]\u001b[0m Trial 829 finished with value: 0.10644587932608224 and parameters: {'lambda': 1.5705841424365714, 'alpha': 0.5672782380889492, 'colsample_bytree': 0.7800853064621902, 'subsample': 0.6944666397704863, 'learning_rate': 0.07865923127456155, 'n_estimators': 2157, 'max_depth': 4, 'min_child_weight': 5, 'num_parallel_tree': 1}. Best is trial 173 with value: 0.09909467168372289.\u001b[0m\n",
      "\u001b[32m[I 2023-06-06 08:58:49,501]\u001b[0m Trial 830 finished with value: 0.11438807267836987 and parameters: {'lambda': 1.5414407736770606, 'alpha': 0.5182849697751508, 'colsample_bytree': 0.8729812520271844, 'subsample': 0.6950394431923947, 'learning_rate': 0.0734552918758417, 'n_estimators': 2122, 'max_depth': 4, 'min_child_weight': 4, 'num_parallel_tree': 1}. Best is trial 173 with value: 0.09909467168372289.\u001b[0m\n",
      "\u001b[32m[I 2023-06-06 08:58:56,076]\u001b[0m Trial 831 finished with value: 0.12824361315480973 and parameters: {'lambda': 1.1950900939250482, 'alpha': 0.22615736901186168, 'colsample_bytree': 0.8245771761561349, 'subsample': 0.692969282821557, 'learning_rate': 0.05223590730561711, 'n_estimators': 2214, 'max_depth': 4, 'min_child_weight': 4, 'num_parallel_tree': 1}. Best is trial 173 with value: 0.09909467168372289.\u001b[0m\n",
      "\u001b[32m[I 2023-06-06 08:59:01,569]\u001b[0m Trial 832 finished with value: 0.13628631731753477 and parameters: {'lambda': 1.5064800606913018, 'alpha': 6.6339510149097904, 'colsample_bytree': 0.94664767913161, 'subsample': 0.6717517770811774, 'learning_rate': 0.05580487874334175, 'n_estimators': 2159, 'max_depth': 4, 'min_child_weight': 5, 'num_parallel_tree': 1}. Best is trial 173 with value: 0.09909467168372289.\u001b[0m\n",
      "\u001b[32m[I 2023-06-06 08:59:08,660]\u001b[0m Trial 833 finished with value: 0.12270666326424395 and parameters: {'lambda': 1.6291318543847009, 'alpha': 0.6057892571357562, 'colsample_bytree': 0.9062399036198387, 'subsample': 0.7344785420271052, 'learning_rate': 0.07247261696002182, 'n_estimators': 2045, 'max_depth': 4, 'min_child_weight': 5, 'num_parallel_tree': 1}. Best is trial 173 with value: 0.09909467168372289.\u001b[0m\n",
      "\u001b[32m[I 2023-06-06 08:59:16,105]\u001b[0m Trial 834 finished with value: 0.13485064724343568 and parameters: {'lambda': 1.2766035110108582, 'alpha': 0.3107771577595405, 'colsample_bytree': 0.8393551525461191, 'subsample': 0.7116403513188736, 'learning_rate': 0.08775818253616557, 'n_estimators': 2267, 'max_depth': 4, 'min_child_weight': 5, 'num_parallel_tree': 1}. Best is trial 173 with value: 0.09909467168372289.\u001b[0m\n",
      "\u001b[32m[I 2023-06-06 08:59:23,137]\u001b[0m Trial 835 finished with value: 0.1304947848875519 and parameters: {'lambda': 1.3740089063394225, 'alpha': 0.7813220609017547, 'colsample_bytree': 0.9156903156608323, 'subsample': 0.6498388036040951, 'learning_rate': 0.07956125054275937, 'n_estimators': 2016, 'max_depth': 4, 'min_child_weight': 4, 'num_parallel_tree': 1}. Best is trial 173 with value: 0.09909467168372289.\u001b[0m\n",
      "\u001b[32m[I 2023-06-06 08:59:30,135]\u001b[0m Trial 836 finished with value: 0.11616789704903663 and parameters: {'lambda': 4.8928039285148115, 'alpha': 0.5007110682097453, 'colsample_bytree': 0.8266695794909802, 'subsample': 0.6802800817866446, 'learning_rate': 0.09793344762487516, 'n_estimators': 2078, 'max_depth': 9, 'min_child_weight': 5, 'num_parallel_tree': 1}. Best is trial 173 with value: 0.09909467168372289.\u001b[0m\n",
      "\u001b[32m[I 2023-06-06 08:59:37,110]\u001b[0m Trial 837 finished with value: 0.11950841121310672 and parameters: {'lambda': 3.428288940030488, 'alpha': 0.007412940741760354, 'colsample_bytree': 0.8757488103911026, 'subsample': 0.7163964489211391, 'learning_rate': 0.05027016933011988, 'n_estimators': 2198, 'max_depth': 4, 'min_child_weight': 4, 'num_parallel_tree': 1}. Best is trial 173 with value: 0.09909467168372289.\u001b[0m\n",
      "\u001b[32m[I 2023-06-06 08:59:42,109]\u001b[0m Trial 838 finished with value: 0.13506141306196337 and parameters: {'lambda': 1.5259259994000771, 'alpha': 4.850362814748853, 'colsample_bytree': 0.7463607039877841, 'subsample': 0.7568983241889427, 'learning_rate': 0.06454444570232022, 'n_estimators': 1949, 'max_depth': 4, 'min_child_weight': 5, 'num_parallel_tree': 1}. Best is trial 173 with value: 0.09909467168372289.\u001b[0m\n",
      "\u001b[32m[I 2023-06-06 08:59:48,246]\u001b[0m Trial 839 finished with value: 0.11862378208663002 and parameters: {'lambda': 3.189369362297551, 'alpha': 0.8049860101282476, 'colsample_bytree': 0.8000723168272809, 'subsample': 0.4978014364793156, 'learning_rate': 0.08163962100685003, 'n_estimators': 2140, 'max_depth': 4, 'min_child_weight': 5, 'num_parallel_tree': 1}. Best is trial 173 with value: 0.09909467168372289.\u001b[0m\n"
     ]
    },
    {
     "name": "stderr",
     "output_type": "stream",
     "text": [
      "\u001b[32m[I 2023-06-06 08:59:54,326]\u001b[0m Trial 840 finished with value: 0.15603247914828877 and parameters: {'lambda': 3.040030050783623, 'alpha': 0.6183320996131387, 'colsample_bytree': 0.9341579258914131, 'subsample': 0.290825342013438, 'learning_rate': 0.051428567795271225, 'n_estimators': 1882, 'max_depth': 4, 'min_child_weight': 5, 'num_parallel_tree': 1}. Best is trial 173 with value: 0.09909467168372289.\u001b[0m\n",
      "\u001b[32m[I 2023-06-06 08:59:59,872]\u001b[0m Trial 841 finished with value: 0.14755343943743635 and parameters: {'lambda': 1.2331249371482098, 'alpha': 9.052555126032422, 'colsample_bytree': 0.9169782830544613, 'subsample': 0.7344042535174985, 'learning_rate': 0.09463246000784097, 'n_estimators': 2172, 'max_depth': 4, 'min_child_weight': 4, 'num_parallel_tree': 1}. Best is trial 173 with value: 0.09909467168372289.\u001b[0m\n",
      "\u001b[32m[I 2023-06-06 09:00:02,127]\u001b[0m Trial 842 finished with value: 0.13372268355594527 and parameters: {'lambda': 1.827978638123068, 'alpha': 1.005902891208609, 'colsample_bytree': 0.8796131369151948, 'subsample': 0.6593754409985156, 'learning_rate': 0.05987693253575275, 'n_estimators': 651, 'max_depth': 4, 'min_child_weight': 5, 'num_parallel_tree': 1}. Best is trial 173 with value: 0.09909467168372289.\u001b[0m\n",
      "\u001b[32m[I 2023-06-06 09:00:09,053]\u001b[0m Trial 843 finished with value: 0.1350023739668298 and parameters: {'lambda': 3.5070993977962512, 'alpha': 1.238271259546479, 'colsample_bytree': 0.8463208223537056, 'subsample': 0.7230936119810817, 'learning_rate': 0.08650452709834419, 'n_estimators': 1969, 'max_depth': 9, 'min_child_weight': 5, 'num_parallel_tree': 1}. Best is trial 173 with value: 0.09909467168372289.\u001b[0m\n",
      "\u001b[32m[I 2023-06-06 09:00:14,628]\u001b[0m Trial 844 finished with value: 0.14153334851518776 and parameters: {'lambda': 4.53006627061264, 'alpha': 7.936574195268773, 'colsample_bytree': 0.9138828572718736, 'subsample': 0.48267696004675714, 'learning_rate': 0.07806786706431723, 'n_estimators': 2299, 'max_depth': 3, 'min_child_weight': 4, 'num_parallel_tree': 1}. Best is trial 173 with value: 0.09909467168372289.\u001b[0m\n",
      "\u001b[32m[I 2023-06-06 09:00:19,840]\u001b[0m Trial 845 finished with value: 0.13423935562502498 and parameters: {'lambda': 0.4673184989306227, 'alpha': 6.4665718574998206, 'colsample_bytree': 0.8365537680464774, 'subsample': 0.9147528938537083, 'learning_rate': 0.05917911993268231, 'n_estimators': 2212, 'max_depth': 4, 'min_child_weight': 5, 'num_parallel_tree': 1}. Best is trial 173 with value: 0.09909467168372289.\u001b[0m\n",
      "\u001b[32m[I 2023-06-06 09:00:27,181]\u001b[0m Trial 846 finished with value: 0.11514738308461464 and parameters: {'lambda': 0.9907131740169322, 'alpha': 0.37503637162954595, 'colsample_bytree': 0.8813749795263895, 'subsample': 0.6926291324091212, 'learning_rate': 0.08454129949162281, 'n_estimators': 2079, 'max_depth': 6, 'min_child_weight': 5, 'num_parallel_tree': 1}. Best is trial 173 with value: 0.09909467168372289.\u001b[0m\n",
      "\u001b[32m[I 2023-06-06 09:00:34,630]\u001b[0m Trial 847 finished with value: 0.1097706456990298 and parameters: {'lambda': 4.014106716765303, 'alpha': 0.7309036197155223, 'colsample_bytree': 0.7920125649335872, 'subsample': 0.8124141855781056, 'learning_rate': 0.0503375141437909, 'n_estimators': 2180, 'max_depth': 6, 'min_child_weight': 5, 'num_parallel_tree': 1}. Best is trial 173 with value: 0.09909467168372289.\u001b[0m\n",
      "\u001b[32m[I 2023-06-06 09:00:41,513]\u001b[0m Trial 848 finished with value: 0.14941660999183623 and parameters: {'lambda': 2.877851699522667, 'alpha': 0.9628061890429194, 'colsample_bytree': 0.958921423135245, 'subsample': 0.3454673257771104, 'learning_rate': 0.09306719083279219, 'n_estimators': 2148, 'max_depth': 9, 'min_child_weight': 4, 'num_parallel_tree': 1}. Best is trial 173 with value: 0.09909467168372289.\u001b[0m\n",
      "\u001b[32m[I 2023-06-06 09:00:47,702]\u001b[0m Trial 849 finished with value: 0.14830381573690624 and parameters: {'lambda': 1.6890086777634838, 'alpha': 1.1164797122500294, 'colsample_bytree': 0.7876103845531972, 'subsample': 0.20589719875375034, 'learning_rate': 0.09116932427282737, 'n_estimators': 2366, 'max_depth': 6, 'min_child_weight': 5, 'num_parallel_tree': 1}. Best is trial 173 with value: 0.09909467168372289.\u001b[0m\n",
      "\u001b[32m[I 2023-06-06 09:00:52,920]\u001b[0m Trial 850 finished with value: 0.14160366512488215 and parameters: {'lambda': 3.054004838858759, 'alpha': 5.095081611069121, 'colsample_bytree': 0.7795054999927409, 'subsample': 0.6686198312908326, 'learning_rate': 0.08198140240188846, 'n_estimators': 2075, 'max_depth': 6, 'min_child_weight': 10, 'num_parallel_tree': 1}. Best is trial 173 with value: 0.09909467168372289.\u001b[0m\n",
      "\u001b[32m[I 2023-06-06 09:00:58,179]\u001b[0m Trial 851 finished with value: 0.15489395979311135 and parameters: {'lambda': 1.4138332927559154, 'alpha': 8.819289619924273, 'colsample_bytree': 0.9254581263301819, 'subsample': 0.7509443401845871, 'learning_rate': 0.07234689810049266, 'n_estimators': 1998, 'max_depth': 5, 'min_child_weight': 3, 'num_parallel_tree': 1}. Best is trial 173 with value: 0.09909467168372289.\u001b[0m\n",
      "\u001b[32m[I 2023-06-06 09:01:04,559]\u001b[0m Trial 852 finished with value: 0.11926779724821751 and parameters: {'lambda': 5.257643949116905, 'alpha': 0.8446863834979307, 'colsample_bytree': 0.7719896219163878, 'subsample': 0.9946883000609603, 'learning_rate': 0.05316059350931727, 'n_estimators': 2289, 'max_depth': 6, 'min_child_weight': 5, 'num_parallel_tree': 1}. Best is trial 173 with value: 0.09909467168372289.\u001b[0m\n",
      "\u001b[32m[I 2023-06-06 09:01:08,103]\u001b[0m Trial 853 finished with value: 0.12501659253955738 and parameters: {'lambda': 4.363064177389619, 'alpha': 1.2933279449208084, 'colsample_bytree': 0.7771133945597425, 'subsample': 0.6438438603418175, 'learning_rate': 0.08383162721258235, 'n_estimators': 946, 'max_depth': 6, 'min_child_weight': 1, 'num_parallel_tree': 1}. Best is trial 173 with value: 0.09909467168372289.\u001b[0m\n",
      "\u001b[32m[I 2023-06-06 09:01:14,403]\u001b[0m Trial 854 finished with value: 0.11937395002642052 and parameters: {'lambda': 3.655001783989089, 'alpha': 0.19938235855932207, 'colsample_bytree': 0.8197593322258014, 'subsample': 0.700217009010378, 'learning_rate': 0.0935441195271562, 'n_estimators': 2103, 'max_depth': 3, 'min_child_weight': 9, 'num_parallel_tree': 1}. Best is trial 173 with value: 0.09909467168372289.\u001b[0m\n",
      "\u001b[32m[I 2023-06-06 09:01:21,647]\u001b[0m Trial 855 finished with value: 0.1471480773891236 and parameters: {'lambda': 1.9981004842889367, 'alpha': 0.5081782204884238, 'colsample_bytree': 0.7284969454858403, 'subsample': 0.5032420320501301, 'learning_rate': 0.09561301879023949, 'n_estimators': 2244, 'max_depth': 6, 'min_child_weight': 5, 'num_parallel_tree': 1}. Best is trial 173 with value: 0.09909467168372289.\u001b[0m\n",
      "\u001b[32m[I 2023-06-06 09:01:24,859]\u001b[0m Trial 856 finished with value: 0.1465418343185731 and parameters: {'lambda': 4.672385838665208, 'alpha': 1.0327917071716448, 'colsample_bytree': 0.952793339796467, 'subsample': 0.7622009472428624, 'learning_rate': 0.08852647201869383, 'n_estimators': 871, 'max_depth': 6, 'min_child_weight': 4, 'num_parallel_tree': 1}. Best is trial 173 with value: 0.09909467168372289.\u001b[0m\n",
      "\u001b[32m[I 2023-06-06 09:01:30,859]\u001b[0m Trial 857 finished with value: 0.11932269942629933 and parameters: {'lambda': 2.7389752879801352, 'alpha': 0.7071124410482519, 'colsample_bytree': 0.7378695559221826, 'subsample': 0.48129947010130963, 'learning_rate': 0.09704414522167867, 'n_estimators': 1821, 'max_depth': 6, 'min_child_weight': 10, 'num_parallel_tree': 1}. Best is trial 173 with value: 0.09909467168372289.\u001b[0m\n",
      "\u001b[32m[I 2023-06-06 09:01:35,729]\u001b[0m Trial 858 finished with value: 0.14730190172152355 and parameters: {'lambda': 4.204717870187547, 'alpha': 7.889146427943374, 'colsample_bytree': 0.8122016051896712, 'subsample': 0.789910088401607, 'learning_rate': 0.08216086112211418, 'n_estimators': 2181, 'max_depth': 4, 'min_child_weight': 5, 'num_parallel_tree': 1}. Best is trial 173 with value: 0.09909467168372289.\u001b[0m\n",
      "\u001b[32m[I 2023-06-06 09:01:38,673]\u001b[0m Trial 859 finished with value: 0.12642584528038947 and parameters: {'lambda': 0.7283957786450658, 'alpha': 4.306373327677247, 'colsample_bytree': 0.8974247883727069, 'subsample': 0.7425316651949246, 'learning_rate': 0.04784573484443407, 'n_estimators': 1011, 'max_depth': 9, 'min_child_weight': 5, 'num_parallel_tree': 1}. Best is trial 173 with value: 0.09909467168372289.\u001b[0m\n"
     ]
    },
    {
     "name": "stderr",
     "output_type": "stream",
     "text": [
      "\u001b[32m[I 2023-06-06 09:01:43,713]\u001b[0m Trial 860 finished with value: 0.12008916139647394 and parameters: {'lambda': 3.300488913809845, 'alpha': 1.4884836735700562, 'colsample_bytree': 0.9784851031984495, 'subsample': 0.2288522520440851, 'learning_rate': 0.07129934189970624, 'n_estimators': 1914, 'max_depth': 6, 'min_child_weight': 9, 'num_parallel_tree': 1}. Best is trial 173 with value: 0.09909467168372289.\u001b[0m\n",
      "\u001b[32m[I 2023-06-06 09:01:48,926]\u001b[0m Trial 861 finished with value: 0.13048563238713828 and parameters: {'lambda': 2.444351358811627, 'alpha': 5.593905213137605, 'colsample_bytree': 0.47886865342361806, 'subsample': 0.5536715871086004, 'learning_rate': 0.06678701935706584, 'n_estimators': 2344, 'max_depth': 6, 'min_child_weight': 4, 'num_parallel_tree': 1}. Best is trial 173 with value: 0.09909467168372289.\u001b[0m\n",
      "\u001b[32m[I 2023-06-06 09:01:54,013]\u001b[0m Trial 862 finished with value: 0.14298096170926683 and parameters: {'lambda': 1.7619099174664825, 'alpha': 1.199441312644351, 'colsample_bytree': 0.8595314574874309, 'subsample': 0.9633403753901735, 'learning_rate': 0.06216137326575324, 'n_estimators': 2011, 'max_depth': 6, 'min_child_weight': 5, 'num_parallel_tree': 1}. Best is trial 173 with value: 0.09909467168372289.\u001b[0m\n",
      "\u001b[32m[I 2023-06-06 09:01:56,895]\u001b[0m Trial 863 finished with value: 0.12094082638217221 and parameters: {'lambda': 1.1253584075376808, 'alpha': 0.8847248930298215, 'colsample_bytree': 0.8910201164448455, 'subsample': 0.8626712544744749, 'learning_rate': 0.04480006989187264, 'n_estimators': 827, 'max_depth': 6, 'min_child_weight': 7, 'num_parallel_tree': 1}. Best is trial 173 with value: 0.09909467168372289.\u001b[0m\n",
      "\u001b[32m[I 2023-06-06 09:01:59,697]\u001b[0m Trial 864 finished with value: 0.14405418685518445 and parameters: {'lambda': 2.843610855205373, 'alpha': 3.999075968590768, 'colsample_bytree': 0.9294384589696547, 'subsample': 0.5162048249901793, 'learning_rate': 0.02707798810627593, 'n_estimators': 907, 'max_depth': 5, 'min_child_weight': 3, 'num_parallel_tree': 1}. Best is trial 173 with value: 0.09909467168372289.\u001b[0m\n",
      "\u001b[32m[I 2023-06-06 09:02:05,947]\u001b[0m Trial 865 finished with value: 0.11524074752451031 and parameters: {'lambda': 9.911937048822711, 'alpha': 1.3503944240000272, 'colsample_bytree': 0.7711795805036126, 'subsample': 0.8274400432063773, 'learning_rate': 0.04848891381836693, 'n_estimators': 2125, 'max_depth': 6, 'min_child_weight': 10, 'num_parallel_tree': 1}. Best is trial 173 with value: 0.09909467168372289.\u001b[0m\n",
      "\u001b[32m[I 2023-06-06 09:02:09,667]\u001b[0m Trial 866 finished with value: 0.13012031140696123 and parameters: {'lambda': 2.1755889070624344, 'alpha': 9.769108027745496, 'colsample_bytree': 0.5190583137717141, 'subsample': 0.6511613531583978, 'learning_rate': 0.09844937992621669, 'n_estimators': 1787, 'max_depth': 6, 'min_child_weight': 5, 'num_parallel_tree': 1}. Best is trial 173 with value: 0.09909467168372289.\u001b[0m\n",
      "\u001b[32m[I 2023-06-06 09:02:12,814]\u001b[0m Trial 867 finished with value: 0.1216595383842403 and parameters: {'lambda': 2.619159145110637, 'alpha': 0.38646236795107686, 'colsample_bytree': 0.9997647963051839, 'subsample': 0.7225326944579153, 'learning_rate': 0.055516006274379436, 'n_estimators': 1114, 'max_depth': 3, 'min_child_weight': 7, 'num_parallel_tree': 1}. Best is trial 173 with value: 0.09909467168372289.\u001b[0m\n",
      "\u001b[32m[I 2023-06-06 09:02:15,303]\u001b[0m Trial 868 finished with value: 0.1225024411421149 and parameters: {'lambda': 1.9129193833433156, 'alpha': 1.6623747285776713, 'colsample_bytree': 0.17507966002403602, 'subsample': 0.8814399177359725, 'learning_rate': 0.09176418577089947, 'n_estimators': 990, 'max_depth': 6, 'min_child_weight': 5, 'num_parallel_tree': 1}. Best is trial 173 with value: 0.09909467168372289.\u001b[0m\n",
      "\u001b[32m[I 2023-06-06 09:02:18,689]\u001b[0m Trial 869 finished with value: 0.1349668908490288 and parameters: {'lambda': 5.539065297113938, 'alpha': 1.0599224069035944, 'colsample_bytree': 0.9044390757098432, 'subsample': 0.5360935300951808, 'learning_rate': 0.02312039937335772, 'n_estimators': 759, 'max_depth': 9, 'min_child_weight': 1, 'num_parallel_tree': 1}. Best is trial 173 with value: 0.09909467168372289.\u001b[0m\n",
      "\u001b[32m[I 2023-06-06 09:02:22,264]\u001b[0m Trial 870 finished with value: 0.11689951054314048 and parameters: {'lambda': 1.5679161397100099, 'alpha': 0.5749052539271431, 'colsample_bytree': 0.8601473392752711, 'subsample': 0.6242235793168595, 'learning_rate': 0.04593009864020563, 'n_estimators': 937, 'max_depth': 6, 'min_child_weight': 4, 'num_parallel_tree': 1}. Best is trial 173 with value: 0.09909467168372289.\u001b[0m\n",
      "\u001b[32m[I 2023-06-06 09:02:24,345]\u001b[0m Trial 871 finished with value: 0.13616324418133569 and parameters: {'lambda': 0.94666451660001, 'alpha': 0.8545269302751722, 'colsample_bytree': 0.8174170299144199, 'subsample': 0.6821745673376698, 'learning_rate': 0.09549375281205105, 'n_estimators': 568, 'max_depth': 6, 'min_child_weight': 8, 'num_parallel_tree': 1}. Best is trial 173 with value: 0.09909467168372289.\u001b[0m\n",
      "\u001b[32m[I 2023-06-06 09:02:30,360]\u001b[0m Trial 872 finished with value: 0.14019970084485486 and parameters: {'lambda': 3.0836962062033297, 'alpha': 3.701209326614799, 'colsample_bytree': 0.8998834136841893, 'subsample': 0.9754759169288946, 'learning_rate': 0.05704597449827942, 'n_estimators': 2234, 'max_depth': 6, 'min_child_weight': 7, 'num_parallel_tree': 1}. Best is trial 173 with value: 0.09909467168372289.\u001b[0m\n",
      "\u001b[32m[I 2023-06-06 09:02:33,274]\u001b[0m Trial 873 finished with value: 0.14664560689158337 and parameters: {'lambda': 2.3054451619943537, 'alpha': 4.911779999632218, 'colsample_bytree': 0.15721748403754865, 'subsample': 0.7072266696957564, 'learning_rate': 0.06541466921121303, 'n_estimators': 1040, 'max_depth': 4, 'min_child_weight': 5, 'num_parallel_tree': 1}. Best is trial 173 with value: 0.09909467168372289.\u001b[0m\n",
      "\u001b[32m[I 2023-06-06 09:02:41,219]\u001b[0m Trial 874 finished with value: 0.1316746405522148 and parameters: {'lambda': 2.6242492823338113, 'alpha': 1.19303098008711, 'colsample_bytree': 0.8620253833060069, 'subsample': 0.5710271844742915, 'learning_rate': 0.0536522245211804, 'n_estimators': 2057, 'max_depth': 6, 'min_child_weight': 10, 'num_parallel_tree': 1}. Best is trial 173 with value: 0.09909467168372289.\u001b[0m\n",
      "\u001b[32m[I 2023-06-06 09:02:46,669]\u001b[0m Trial 875 finished with value: 0.14848904059584436 and parameters: {'lambda': 1.3246182548163812, 'alpha': 1.4394279512695642, 'colsample_bytree': 0.8474821809128439, 'subsample': 0.30929844956353286, 'learning_rate': 0.07544633510086277, 'n_estimators': 1763, 'max_depth': 6, 'min_child_weight': 5, 'num_parallel_tree': 1}. Best is trial 173 with value: 0.09909467168372289.\u001b[0m\n",
      "\u001b[32m[I 2023-06-06 09:02:49,486]\u001b[0m Trial 876 finished with value: 0.13065498434013498 and parameters: {'lambda': 3.9124528708358386, 'alpha': 1.794946171705467, 'colsample_bytree': 0.4965061719954137, 'subsample': 0.7412317813024638, 'learning_rate': 0.09151053212629359, 'n_estimators': 841, 'max_depth': 6, 'min_child_weight': 4, 'num_parallel_tree': 1}. Best is trial 173 with value: 0.09909467168372289.\u001b[0m\n",
      "\u001b[32m[I 2023-06-06 09:02:55,757]\u001b[0m Trial 877 finished with value: 0.1322145046023791 and parameters: {'lambda': 3.6949944809074493, 'alpha': 0.18876591611772753, 'colsample_bytree': 0.4825275585674084, 'subsample': 0.8998223317457086, 'learning_rate': 0.06387153376718416, 'n_estimators': 1973, 'max_depth': 9, 'min_child_weight': 3, 'num_parallel_tree': 1}. Best is trial 173 with value: 0.09909467168372289.\u001b[0m\n",
      "\u001b[32m[I 2023-06-06 09:02:59,631]\u001b[0m Trial 878 finished with value: 0.1309638759630285 and parameters: {'lambda': 0.3717658647453145, 'alpha': 0.6576862466577708, 'colsample_bytree': 0.9212432088737067, 'subsample': 0.5959065465697049, 'learning_rate': 0.08119617262777847, 'n_estimators': 1120, 'max_depth': 6, 'min_child_weight': 7, 'num_parallel_tree': 1}. Best is trial 173 with value: 0.09909467168372289.\u001b[0m\n",
      "\u001b[32m[I 2023-06-06 09:03:02,513]\u001b[0m Trial 879 finished with value: 0.13883125075968303 and parameters: {'lambda': 0.6594825388021003, 'alpha': 5.902583356422342, 'colsample_bytree': 0.9664117696114624, 'subsample': 0.4646390899750743, 'learning_rate': 0.016791786189230457, 'n_estimators': 1050, 'max_depth': 5, 'min_child_weight': 5, 'num_parallel_tree': 1}. Best is trial 173 with value: 0.09909467168372289.\u001b[0m\n"
     ]
    },
    {
     "name": "stderr",
     "output_type": "stream",
     "text": [
      "\u001b[32m[I 2023-06-06 09:03:07,521]\u001b[0m Trial 880 finished with value: 0.13405242237221687 and parameters: {'lambda': 2.841330445831444, 'alpha': 0.9962912812044689, 'colsample_bytree': 0.3087827216512449, 'subsample': 0.37251700322489156, 'learning_rate': 0.025188499956197263, 'n_estimators': 1846, 'max_depth': 6, 'min_child_weight': 10, 'num_parallel_tree': 1}. Best is trial 173 with value: 0.09909467168372289.\u001b[0m\n",
      "\u001b[32m[I 2023-06-06 09:03:13,853]\u001b[0m Trial 881 finished with value: 0.11501841562419132 and parameters: {'lambda': 3.363165659860298, 'alpha': 1.5475915647693308, 'colsample_bytree': 0.8741108890209884, 'subsample': 0.7657419371929568, 'learning_rate': 0.03214911728471133, 'n_estimators': 2132, 'max_depth': 6, 'min_child_weight': 2, 'num_parallel_tree': 1}. Best is trial 173 with value: 0.09909467168372289.\u001b[0m\n",
      "\u001b[32m[I 2023-06-06 09:03:16,121]\u001b[0m Trial 882 finished with value: 0.11924033623116467 and parameters: {'lambda': 9.591518445137504, 'alpha': 1.3201918252332454, 'colsample_bytree': 0.4506894695583841, 'subsample': 0.5001451027808264, 'learning_rate': 0.05637942870920196, 'n_estimators': 914, 'max_depth': 3, 'min_child_weight': 7, 'num_parallel_tree': 1}. Best is trial 173 with value: 0.09909467168372289.\u001b[0m\n",
      "\u001b[32m[I 2023-06-06 09:03:19,318]\u001b[0m Trial 883 finished with value: 0.1285253078640479 and parameters: {'lambda': 2.4579451058779695, 'alpha': 2.097094675422007, 'colsample_bytree': 0.7460158292833327, 'subsample': 0.8037304337036492, 'learning_rate': 0.021556414457017763, 'n_estimators': 1006, 'max_depth': 6, 'min_child_weight': 4, 'num_parallel_tree': 1}. Best is trial 173 with value: 0.09909467168372289.\u001b[0m\n",
      "\u001b[32m[I 2023-06-06 09:03:23,959]\u001b[0m Trial 884 finished with value: 0.12088522190702931 and parameters: {'lambda': 2.0077032190771877, 'alpha': 5.310204545255175, 'colsample_bytree': 0.9363028000206578, 'subsample': 0.6371999225216944, 'learning_rate': 0.014291580400860359, 'n_estimators': 1685, 'max_depth': 6, 'min_child_weight': 5, 'num_parallel_tree': 1}. Best is trial 173 with value: 0.09909467168372289.\u001b[0m\n",
      "\u001b[32m[I 2023-06-06 09:03:30,503]\u001b[0m Trial 885 finished with value: 0.1224035587422921 and parameters: {'lambda': 4.9112538896141364, 'alpha': 0.8739683558457729, 'colsample_bytree': 0.7656919816069404, 'subsample': 0.9400929470981046, 'learning_rate': 0.018979308018869934, 'n_estimators': 2200, 'max_depth': 6, 'min_child_weight': 5, 'num_parallel_tree': 1}. Best is trial 173 with value: 0.09909467168372289.\u001b[0m\n",
      "\u001b[32m[I 2023-06-06 09:03:33,148]\u001b[0m Trial 886 finished with value: 0.10844100334678934 and parameters: {'lambda': 2.959352503980857, 'alpha': 1.099141996921475, 'colsample_bytree': 0.8085407439192583, 'subsample': 0.7812363884293729, 'learning_rate': 0.08923027596558786, 'n_estimators': 880, 'max_depth': 4, 'min_child_weight': 9, 'num_parallel_tree': 1}. Best is trial 173 with value: 0.09909467168372289.\u001b[0m\n",
      "\u001b[32m[I 2023-06-06 09:03:35,841]\u001b[0m Trial 887 finished with value: 0.11291140007632033 and parameters: {'lambda': 2.975569378545413, 'alpha': 1.165968185930432, 'colsample_bytree': 0.8470237422157416, 'subsample': 0.7815126404394666, 'learning_rate': 0.07953526781795604, 'n_estimators': 820, 'max_depth': 4, 'min_child_weight': 9, 'num_parallel_tree': 1}. Best is trial 173 with value: 0.09909467168372289.\u001b[0m\n",
      "\u001b[32m[I 2023-06-06 09:03:38,663]\u001b[0m Trial 888 finished with value: 0.11378420140913666 and parameters: {'lambda': 3.1910176209416643, 'alpha': 1.104536403408816, 'colsample_bytree': 0.8011430348396931, 'subsample': 0.7821581119981217, 'learning_rate': 0.08139574597471805, 'n_estimators': 763, 'max_depth': 4, 'min_child_weight': 9, 'num_parallel_tree': 1}. Best is trial 173 with value: 0.09909467168372289.\u001b[0m\n",
      "\u001b[32m[I 2023-06-06 09:03:41,149]\u001b[0m Trial 889 finished with value: 0.12756925499184088 and parameters: {'lambda': 2.980795822420334, 'alpha': 0.8100737771331008, 'colsample_bytree': 0.7927012189156164, 'subsample': 0.7615982185784911, 'learning_rate': 0.07002595469131338, 'n_estimators': 707, 'max_depth': 4, 'min_child_weight': 10, 'num_parallel_tree': 1}. Best is trial 173 with value: 0.09909467168372289.\u001b[0m\n",
      "\u001b[32m[I 2023-06-06 09:03:43,656]\u001b[0m Trial 890 finished with value: 0.15991402489735504 and parameters: {'lambda': 3.245721452479756, 'alpha': 6.780969646693473, 'colsample_bytree': 0.8366848481405508, 'subsample': 0.615935970297866, 'learning_rate': 0.07695020484105927, 'n_estimators': 915, 'max_depth': 4, 'min_child_weight': 9, 'num_parallel_tree': 1}. Best is trial 173 with value: 0.09909467168372289.\u001b[0m\n",
      "\u001b[32m[I 2023-06-06 09:03:46,379]\u001b[0m Trial 891 finished with value: 0.12246812515707005 and parameters: {'lambda': 2.7729486734048816, 'alpha': 1.3095346966654786, 'colsample_bytree': 0.5452021370002545, 'subsample': 0.471085923961968, 'learning_rate': 0.09052247507690442, 'n_estimators': 867, 'max_depth': 4, 'min_child_weight': 9, 'num_parallel_tree': 1}. Best is trial 173 with value: 0.09909467168372289.\u001b[0m\n",
      "\u001b[32m[I 2023-06-06 09:03:49,340]\u001b[0m Trial 892 finished with value: 0.12687214859792836 and parameters: {'lambda': 3.0161382749256664, 'alpha': 0.6670320964608792, 'colsample_bytree': 0.8009078173989844, 'subsample': 0.7978927780272118, 'learning_rate': 0.07560024828446159, 'n_estimators': 824, 'max_depth': 4, 'min_child_weight': 9, 'num_parallel_tree': 1}. Best is trial 173 with value: 0.09909467168372289.\u001b[0m\n",
      "\u001b[32m[I 2023-06-06 09:03:52,680]\u001b[0m Trial 893 finished with value: 0.13748027643480173 and parameters: {'lambda': 3.393084176855792, 'alpha': 1.6516583858417255, 'colsample_bytree': 0.8639742220754425, 'subsample': 0.6650332797271804, 'learning_rate': 0.030483536027249448, 'n_estimators': 947, 'max_depth': 4, 'min_child_weight': 8, 'num_parallel_tree': 1}. Best is trial 173 with value: 0.09909467168372289.\u001b[0m\n",
      "\u001b[32m[I 2023-06-06 09:03:55,419]\u001b[0m Trial 894 finished with value: 0.13393660675236574 and parameters: {'lambda': 0.01320060065876727, 'alpha': 0.43796246997444693, 'colsample_bytree': 0.22032207190028755, 'subsample': 0.6053246971586446, 'learning_rate': 0.07024728758454343, 'n_estimators': 902, 'max_depth': 4, 'min_child_weight': 10, 'num_parallel_tree': 1}. Best is trial 173 with value: 0.09909467168372289.\u001b[0m\n",
      "\u001b[32m[I 2023-06-06 09:03:58,506]\u001b[0m Trial 895 finished with value: 0.14310719873567426 and parameters: {'lambda': 4.473481739108816, 'alpha': 1.0069231440071482, 'colsample_bytree': 0.8259677320041342, 'subsample': 0.7715827336966063, 'learning_rate': 0.08481455272184853, 'n_estimators': 963, 'max_depth': 4, 'min_child_weight': 9, 'num_parallel_tree': 1}. Best is trial 173 with value: 0.09909467168372289.\u001b[0m\n",
      "\u001b[32m[I 2023-06-06 09:04:01,137]\u001b[0m Trial 896 finished with value: 0.1340161390695215 and parameters: {'lambda': 2.6790698311333765, 'alpha': 1.385505052191181, 'colsample_bytree': 0.8857915686076698, 'subsample': 0.48460715131896903, 'learning_rate': 0.0808293887630711, 'n_estimators': 839, 'max_depth': 4, 'min_child_weight': 9, 'num_parallel_tree': 1}. Best is trial 173 with value: 0.09909467168372289.\u001b[0m\n",
      "\u001b[32m[I 2023-06-06 09:04:04,003]\u001b[0m Trial 897 finished with value: 0.1328918185714679 and parameters: {'lambda': 2.833099710184742, 'alpha': 1.1257857404057943, 'colsample_bytree': 0.5269367304457478, 'subsample': 0.8158918267032581, 'learning_rate': 0.08835152142997282, 'n_estimators': 994, 'max_depth': 4, 'min_child_weight': 10, 'num_parallel_tree': 1}. Best is trial 173 with value: 0.09909467168372289.\u001b[0m\n",
      "\u001b[32m[I 2023-06-06 09:04:06,632]\u001b[0m Trial 898 finished with value: 0.13492061513133877 and parameters: {'lambda': 3.564194614640755, 'alpha': 0.9047984108879522, 'colsample_bytree': 0.7291042702052004, 'subsample': 0.9247916650326393, 'learning_rate': 0.012369494593073214, 'n_estimators': 883, 'max_depth': 4, 'min_child_weight': 8, 'num_parallel_tree': 1}. Best is trial 173 with value: 0.09909467168372289.\u001b[0m\n",
      "\u001b[32m[I 2023-06-06 09:04:09,544]\u001b[0m Trial 899 finished with value: 0.1379263834837391 and parameters: {'lambda': 4.144742909648561, 'alpha': 7.1832002603684835, 'colsample_bytree': 0.8136710789989579, 'subsample': 0.6345322783802094, 'learning_rate': 0.028984937368002565, 'n_estimators': 1070, 'max_depth': 4, 'min_child_weight': 10, 'num_parallel_tree': 1}. Best is trial 173 with value: 0.09909467168372289.\u001b[0m\n"
     ]
    },
    {
     "name": "stderr",
     "output_type": "stream",
     "text": [
      "\u001b[32m[I 2023-06-06 09:04:12,142]\u001b[0m Trial 900 finished with value: 0.12375859230412514 and parameters: {'lambda': 1.2554182725692247, 'alpha': 0.6562245301416509, 'colsample_bytree': 0.8310361874430192, 'subsample': 0.4485801555949963, 'learning_rate': 0.04516910551462326, 'n_estimators': 745, 'max_depth': 6, 'min_child_weight': 10, 'num_parallel_tree': 1}. Best is trial 173 with value: 0.09909467168372289.\u001b[0m\n",
      "\u001b[32m[I 2023-06-06 09:04:14,505]\u001b[0m Trial 901 finished with value: 0.14348385730513727 and parameters: {'lambda': 1.04942661618703, 'alpha': 6.17558491840124, 'colsample_bytree': 0.7658845312859902, 'subsample': 0.7504516050956441, 'learning_rate': 0.07387769340536078, 'n_estimators': 962, 'max_depth': 6, 'min_child_weight': 8, 'num_parallel_tree': 1}. Best is trial 173 with value: 0.09909467168372289.\u001b[0m\n",
      "\u001b[32m[I 2023-06-06 09:04:19,293]\u001b[0m Trial 902 finished with value: 0.11698028798630132 and parameters: {'lambda': 3.0671345999293758, 'alpha': 5.849859643839812, 'colsample_bytree': 0.29999093055914233, 'subsample': 0.589177092016242, 'learning_rate': 0.07783328771081181, 'n_estimators': 2270, 'max_depth': 6, 'min_child_weight': 9, 'num_parallel_tree': 1}. Best is trial 173 with value: 0.09909467168372289.\u001b[0m\n",
      "\u001b[32m[I 2023-06-06 09:04:21,623]\u001b[0m Trial 903 finished with value: 0.12913102592326178 and parameters: {'lambda': 2.524658806846737, 'alpha': 1.8541245991012743, 'colsample_bytree': 0.3219739629053004, 'subsample': 0.6537996315720936, 'learning_rate': 0.09471764608681062, 'n_estimators': 870, 'max_depth': 6, 'min_child_weight': 10, 'num_parallel_tree': 1}. Best is trial 173 with value: 0.09909467168372289.\u001b[0m\n",
      "\u001b[32m[I 2023-06-06 09:04:23,782]\u001b[0m Trial 904 finished with value: 0.12005941791816309 and parameters: {'lambda': 1.4992222017767323, 'alpha': 1.497969461886407, 'colsample_bytree': 0.7801457938045396, 'subsample': 0.7940045194842764, 'learning_rate': 0.0985742972293374, 'n_estimators': 668, 'max_depth': 5, 'min_child_weight': 8, 'num_parallel_tree': 1}. Best is trial 173 with value: 0.09909467168372289.\u001b[0m\n",
      "\u001b[32m[I 2023-06-06 09:04:26,804]\u001b[0m Trial 905 finished with value: 0.14212268503135883 and parameters: {'lambda': 3.779869567541924, 'alpha': 1.2120867182478317, 'colsample_bytree': 0.8752517778718608, 'subsample': 0.2525230808099056, 'learning_rate': 0.08712288860260453, 'n_estimators': 1005, 'max_depth': 6, 'min_child_weight': 10, 'num_parallel_tree': 1}. Best is trial 173 with value: 0.09909467168372289.\u001b[0m\n",
      "\u001b[32m[I 2023-06-06 09:04:29,357]\u001b[0m Trial 906 finished with value: 0.14582521126510323 and parameters: {'lambda': 2.6647325396376162, 'alpha': 8.715191022691176, 'colsample_bytree': 0.7530723596224838, 'subsample': 0.6300458083771817, 'learning_rate': 0.09049071787601462, 'n_estimators': 1067, 'max_depth': 4, 'min_child_weight': 5, 'num_parallel_tree': 1}. Best is trial 173 with value: 0.09909467168372289.\u001b[0m\n",
      "\u001b[32m[I 2023-06-06 09:04:31,311]\u001b[0m Trial 907 finished with value: 0.163782125742431 and parameters: {'lambda': 1.7120213402004225, 'alpha': 6.448468493313509, 'colsample_bytree': 0.5572623940992073, 'subsample': 0.6076950788259892, 'learning_rate': 0.07738240678412067, 'n_estimators': 773, 'max_depth': 6, 'min_child_weight': 9, 'num_parallel_tree': 1}. Best is trial 173 with value: 0.09909467168372289.\u001b[0m\n",
      "\u001b[32m[I 2023-06-06 09:04:33,625]\u001b[0m Trial 908 finished with value: 0.12898645047505478 and parameters: {'lambda': 3.163451988858721, 'alpha': 0.817362213684925, 'colsample_bytree': 0.28744599356074285, 'subsample': 0.4188761713949337, 'learning_rate': 0.008439616124920196, 'n_estimators': 902, 'max_depth': 6, 'min_child_weight': 8, 'num_parallel_tree': 1}. Best is trial 173 with value: 0.09909467168372289.\u001b[0m\n",
      "\u001b[32m[I 2023-06-06 09:04:39,405]\u001b[0m Trial 909 finished with value: 0.11103754290268752 and parameters: {'lambda': 2.88798353663584, 'alpha': 0.4278574663489152, 'colsample_bytree': 0.2027190108538572, 'subsample': 0.7388653047671003, 'learning_rate': 0.08392207742816, 'n_estimators': 2079, 'max_depth': 6, 'min_child_weight': 1, 'num_parallel_tree': 1}. Best is trial 173 with value: 0.09909467168372289.\u001b[0m\n",
      "\u001b[32m[I 2023-06-06 09:04:43,735]\u001b[0m Trial 910 finished with value: 0.11740309029184 and parameters: {'lambda': 5.345596196837663, 'alpha': 1.6931477209026118, 'colsample_bytree': 0.8038347176780545, 'subsample': 0.7787463754557505, 'learning_rate': 0.07263468162596479, 'n_estimators': 1136, 'max_depth': 6, 'min_child_weight': 10, 'num_parallel_tree': 1}. Best is trial 173 with value: 0.09909467168372289.\u001b[0m\n",
      "\u001b[32m[I 2023-06-06 09:04:46,491]\u001b[0m Trial 911 finished with value: 0.12410097708691291 and parameters: {'lambda': 5.05482661186218, 'alpha': 0.04850834181391639, 'colsample_bytree': 0.4744965667620104, 'subsample': 0.4910773656185031, 'learning_rate': 0.08519409290940452, 'n_estimators': 952, 'max_depth': 3, 'min_child_weight': 5, 'num_parallel_tree': 1}. Best is trial 173 with value: 0.09909467168372289.\u001b[0m\n",
      "\u001b[32m[I 2023-06-06 09:04:52,525]\u001b[0m Trial 912 finished with value: 0.12268417622788205 and parameters: {'lambda': 2.3559949450232005, 'alpha': 1.0177203024943353, 'colsample_bytree': 0.27326916129710954, 'subsample': 0.5810330808763746, 'learning_rate': 0.0940576686479945, 'n_estimators': 2174, 'max_depth': 6, 'min_child_weight': 10, 'num_parallel_tree': 1}. Best is trial 173 with value: 0.09909467168372289.\u001b[0m\n",
      "\u001b[32m[I 2023-06-06 09:04:55,533]\u001b[0m Trial 913 finished with value: 0.12567502142743608 and parameters: {'lambda': 4.775040216306919, 'alpha': 4.774890309381726, 'colsample_bytree': 0.24765692983330678, 'subsample': 0.7580777964508433, 'learning_rate': 0.08717761697495488, 'n_estimators': 1044, 'max_depth': 10, 'min_child_weight': 4, 'num_parallel_tree': 1}. Best is trial 173 with value: 0.09909467168372289.\u001b[0m\n",
      "\u001b[32m[I 2023-06-06 09:04:58,918]\u001b[0m Trial 914 finished with value: 0.1246813756031529 and parameters: {'lambda': 9.070250191546013, 'alpha': 1.4069389754848638, 'colsample_bytree': 0.8922641008121803, 'subsample': 0.32304060075851665, 'learning_rate': 0.09132042532458212, 'n_estimators': 796, 'max_depth': 6, 'min_child_weight': 5, 'num_parallel_tree': 1}. Best is trial 173 with value: 0.09909467168372289.\u001b[0m\n",
      "\u001b[32m[I 2023-06-06 09:05:05,281]\u001b[0m Trial 915 finished with value: 0.12399173870135059 and parameters: {'lambda': 8.87243478505049, 'alpha': 1.9235415114314984, 'colsample_bytree': 0.3245115829837182, 'subsample': 0.7310799503214038, 'learning_rate': 0.07851016913694131, 'n_estimators': 2324, 'max_depth': 6, 'min_child_weight': 8, 'num_parallel_tree': 1}. Best is trial 173 with value: 0.09909467168372289.\u001b[0m\n",
      "\u001b[32m[I 2023-06-06 09:05:08,509]\u001b[0m Trial 916 finished with value: 0.12926422881252786 and parameters: {'lambda': 3.523152730508121, 'alpha': 2.4122830159279305, 'colsample_bytree': 0.853397712788218, 'subsample': 0.6659069814954284, 'learning_rate': 0.06298308423429469, 'n_estimators': 1108, 'max_depth': 4, 'min_child_weight': 4, 'num_parallel_tree': 1}. Best is trial 173 with value: 0.09909467168372289.\u001b[0m\n",
      "\u001b[32m[I 2023-06-06 09:05:14,194]\u001b[0m Trial 917 finished with value: 0.12492088672713014 and parameters: {'lambda': 2.581178857271964, 'alpha': 1.1900017182056357, 'colsample_bytree': 0.5129513955340402, 'subsample': 0.6202195122923778, 'learning_rate': 0.0963114976011119, 'n_estimators': 1916, 'max_depth': 6, 'min_child_weight': 5, 'num_parallel_tree': 1}. Best is trial 173 with value: 0.09909467168372289.\u001b[0m\n",
      "\u001b[32m[I 2023-06-06 09:05:16,857]\u001b[0m Trial 918 finished with value: 0.12145186738826329 and parameters: {'lambda': 0.8487315654895604, 'alpha': 4.678307535472111, 'colsample_bytree': 0.9797313582794495, 'subsample': 0.8197924043515026, 'learning_rate': 0.07419187283507346, 'n_estimators': 985, 'max_depth': 6, 'min_child_weight': 9, 'num_parallel_tree': 1}. Best is trial 173 with value: 0.09909467168372289.\u001b[0m\n",
      "\u001b[32m[I 2023-06-06 09:05:19,203]\u001b[0m Trial 919 finished with value: 0.15156571439669206 and parameters: {'lambda': 1.3600460433946533, 'alpha': 4.457947376269448, 'colsample_bytree': 0.7887408818237432, 'subsample': 0.8025099838393767, 'learning_rate': 0.09318477057740614, 'n_estimators': 934, 'max_depth': 5, 'min_child_weight': 3, 'num_parallel_tree': 1}. Best is trial 173 with value: 0.09909467168372289.\u001b[0m\n"
     ]
    },
    {
     "name": "stderr",
     "output_type": "stream",
     "text": [
      "\u001b[32m[I 2023-06-06 09:05:22,464]\u001b[0m Trial 920 finished with value: 0.11951212343413994 and parameters: {'lambda': 1.1454992955868548, 'alpha': 0.6551125031619827, 'colsample_bytree': 0.9459801253329516, 'subsample': 0.34149844484134756, 'learning_rate': 0.08416169037591989, 'n_estimators': 1018, 'max_depth': 6, 'min_child_weight': 5, 'num_parallel_tree': 1}. Best is trial 173 with value: 0.09909467168372289.\u001b[0m\n",
      "\u001b[32m[I 2023-06-06 09:05:28,290]\u001b[0m Trial 921 finished with value: 0.11668940378741083 and parameters: {'lambda': 9.47253281624242, 'alpha': 1.0068867777481922, 'colsample_bytree': 0.458919205147025, 'subsample': 0.38648342789123113, 'learning_rate': 0.03183808731295597, 'n_estimators': 2152, 'max_depth': 6, 'min_child_weight': 10, 'num_parallel_tree': 1}. Best is trial 173 with value: 0.09909467168372289.\u001b[0m\n",
      "\u001b[32m[I 2023-06-06 09:05:33,224]\u001b[0m Trial 922 finished with value: 0.13728937813723052 and parameters: {'lambda': 3.282746851128523, 'alpha': 2.204496909340925, 'colsample_bytree': 0.7602481606777884, 'subsample': 0.5171853490868886, 'learning_rate': 0.09739360150696057, 'n_estimators': 2015, 'max_depth': 3, 'min_child_weight': 2, 'num_parallel_tree': 1}. Best is trial 173 with value: 0.09909467168372289.\u001b[0m\n",
      "\u001b[32m[I 2023-06-06 09:05:35,785]\u001b[0m Trial 923 finished with value: 0.1246839166288604 and parameters: {'lambda': 2.726558093902872, 'alpha': 1.5727177059025368, 'colsample_bytree': 0.6731473623763479, 'subsample': 0.4579627521240527, 'learning_rate': 0.07985465160513845, 'n_estimators': 882, 'max_depth': 6, 'min_child_weight': 1, 'num_parallel_tree': 1}. Best is trial 173 with value: 0.09909467168372289.\u001b[0m\n",
      "\u001b[32m[I 2023-06-06 09:05:36,221]\u001b[0m Trial 924 finished with value: 0.7903656901728462 and parameters: {'lambda': 3.9927588633127384, 'alpha': 6.149269746934576, 'colsample_bytree': 0.41921500641976545, 'subsample': 0.2698409772685765, 'learning_rate': 0.027349306301274863, 'n_estimators': 104, 'max_depth': 6, 'min_child_weight': 5, 'num_parallel_tree': 1}. Best is trial 173 with value: 0.09909467168372289.\u001b[0m\n",
      "\u001b[32m[I 2023-06-06 09:05:38,735]\u001b[0m Trial 925 finished with value: 0.14265245754884312 and parameters: {'lambda': 2.396201224616957, 'alpha': 8.440456107308293, 'colsample_bytree': 0.5338503362130466, 'subsample': 0.5992518718885239, 'learning_rate': 0.0986472535003041, 'n_estimators': 1154, 'max_depth': 6, 'min_child_weight': 5, 'num_parallel_tree': 1}. Best is trial 173 with value: 0.09909467168372289.\u001b[0m\n",
      "\u001b[32m[I 2023-06-06 09:05:43,362]\u001b[0m Trial 926 finished with value: 0.14238818158992245 and parameters: {'lambda': 4.628812482677981, 'alpha': 8.426217472324694, 'colsample_bytree': 0.3461252845721726, 'subsample': 0.6829155343822318, 'learning_rate': 0.046310407471597155, 'n_estimators': 2264, 'max_depth': 6, 'min_child_weight': 4, 'num_parallel_tree': 1}. Best is trial 173 with value: 0.09909467168372289.\u001b[0m\n",
      "\u001b[32m[I 2023-06-06 09:05:46,259]\u001b[0m Trial 927 finished with value: 0.13442298383792894 and parameters: {'lambda': 2.9181962387623464, 'alpha': 0.2796911361315473, 'colsample_bytree': 0.8180554711831849, 'subsample': 0.7070082599649241, 'learning_rate': 0.0847119951036939, 'n_estimators': 845, 'max_depth': 4, 'min_child_weight': 10, 'num_parallel_tree': 1}. Best is trial 173 with value: 0.09909467168372289.\u001b[0m\n",
      "\u001b[32m[I 2023-06-06 09:05:49,733]\u001b[0m Trial 928 finished with value: 0.13945873900089928 and parameters: {'lambda': 1.6088823313913143, 'alpha': 0.8102043515832286, 'colsample_bytree': 0.8991561285553625, 'subsample': 0.6467977143158792, 'learning_rate': 0.0785950566457522, 'n_estimators': 1072, 'max_depth': 6, 'min_child_weight': 5, 'num_parallel_tree': 1}. Best is trial 173 with value: 0.09909467168372289.\u001b[0m\n",
      "\u001b[32m[I 2023-06-06 09:05:55,031]\u001b[0m Trial 929 finished with value: 0.1541941928529124 and parameters: {'lambda': 2.1349756869902494, 'alpha': 9.090837020447694, 'colsample_bytree': 0.18389678234775625, 'subsample': 0.3222829090071787, 'learning_rate': 0.08535876430764562, 'n_estimators': 2821, 'max_depth': 6, 'min_child_weight': 9, 'num_parallel_tree': 1}. Best is trial 173 with value: 0.09909467168372289.\u001b[0m\n",
      "\u001b[32m[I 2023-06-06 09:06:00,969]\u001b[0m Trial 930 finished with value: 0.13215183656369656 and parameters: {'lambda': 3.0693569989880274, 'alpha': 1.3467044277061344, 'colsample_bytree': 0.7082422044010607, 'subsample': 0.4770433999847974, 'learning_rate': 0.06981636534611042, 'n_estimators': 2122, 'max_depth': 6, 'min_child_weight': 5, 'num_parallel_tree': 1}. Best is trial 173 with value: 0.09909467168372289.\u001b[0m\n",
      "\u001b[32m[I 2023-06-06 09:06:05,096]\u001b[0m Trial 931 finished with value: 0.1575280499824795 and parameters: {'lambda': 9.890115316853082, 'alpha': 4.173070366679433, 'colsample_bytree': 0.4384541981770499, 'subsample': 0.4013310438854811, 'learning_rate': 0.0746720696052511, 'n_estimators': 1738, 'max_depth': 5, 'min_child_weight': 8, 'num_parallel_tree': 1}. Best is trial 173 with value: 0.09909467168372289.\u001b[0m\n",
      "\u001b[32m[I 2023-06-06 09:06:07,600]\u001b[0m Trial 932 finished with value: 0.1413575268078455 and parameters: {'lambda': 4.2661732855511305, 'alpha': 7.108027375863317, 'colsample_bytree': 0.3167865411669006, 'subsample': 0.753335206648705, 'learning_rate': 0.06890056547599342, 'n_estimators': 948, 'max_depth': 6, 'min_child_weight': 4, 'num_parallel_tree': 1}. Best is trial 173 with value: 0.09909467168372289.\u001b[0m\n",
      "\u001b[32m[I 2023-06-06 09:06:11,633]\u001b[0m Trial 933 finished with value: 0.17529274606764758 and parameters: {'lambda': 1.8669550741600238, 'alpha': 8.024493932354673, 'colsample_bytree': 0.9166168890688271, 'subsample': 0.31122960300790775, 'learning_rate': 0.06638585896768598, 'n_estimators': 1633, 'max_depth': 6, 'min_child_weight': 3, 'num_parallel_tree': 1}. Best is trial 173 with value: 0.09909467168372289.\u001b[0m\n",
      "\u001b[32m[I 2023-06-06 09:06:14,957]\u001b[0m Trial 934 finished with value: 0.1267411573521287 and parameters: {'lambda': 0.6842760542327921, 'alpha': 0.514718508932053, 'colsample_bytree': 0.3377005693834029, 'subsample': 0.7783446351889023, 'learning_rate': 0.09427568250854507, 'n_estimators': 1020, 'max_depth': 6, 'min_child_weight': 10, 'num_parallel_tree': 1}. Best is trial 173 with value: 0.09909467168372289.\u001b[0m\n",
      "\u001b[32m[I 2023-06-06 09:06:19,682]\u001b[0m Trial 935 finished with value: 0.15074509661682456 and parameters: {'lambda': 2.5226008503494888, 'alpha': 9.838586420783997, 'colsample_bytree': 0.8460239842042231, 'subsample': 0.43786928870289255, 'learning_rate': 0.07775172368896138, 'n_estimators': 1813, 'max_depth': 3, 'min_child_weight': 5, 'num_parallel_tree': 1}. Best is trial 173 with value: 0.09909467168372289.\u001b[0m\n",
      "\u001b[32m[I 2023-06-06 09:06:25,922]\u001b[0m Trial 936 finished with value: 0.12866070092292345 and parameters: {'lambda': 2.7257593348005296, 'alpha': 1.162618475962504, 'colsample_bytree': 0.493632941840214, 'subsample': 0.8512770182297553, 'learning_rate': 0.08994370554304043, 'n_estimators': 2231, 'max_depth': 4, 'min_child_weight': 2, 'num_parallel_tree': 1}. Best is trial 173 with value: 0.09909467168372289.\u001b[0m\n",
      "\u001b[32m[I 2023-06-06 09:06:29,239]\u001b[0m Trial 937 finished with value: 0.13177029533694612 and parameters: {'lambda': 2.2293257644509246, 'alpha': 1.7621212257810233, 'colsample_bytree': 0.407350155905387, 'subsample': 0.6224156760230916, 'learning_rate': 0.08184868826818256, 'n_estimators': 1115, 'max_depth': 6, 'min_child_weight': 5, 'num_parallel_tree': 1}. Best is trial 173 with value: 0.09909467168372289.\u001b[0m\n",
      "\u001b[32m[I 2023-06-06 09:06:32,927]\u001b[0m Trial 938 finished with value: 0.13494416527403294 and parameters: {'lambda': 1.049089609288822, 'alpha': 0.8669193501353525, 'colsample_bytree': 0.7375451381810161, 'subsample': 0.970936034750356, 'learning_rate': 0.014799920099113309, 'n_estimators': 878, 'max_depth': 6, 'min_child_weight': 10, 'num_parallel_tree': 1}. Best is trial 173 with value: 0.09909467168372289.\u001b[0m\n",
      "\u001b[32m[I 2023-06-06 09:06:35,856]\u001b[0m Trial 939 finished with value: 0.131090162900745 and parameters: {'lambda': 6.132292881034771, 'alpha': 2.0176013153383465, 'colsample_bytree': 0.3589536839597134, 'subsample': 0.23522425958994514, 'learning_rate': 0.060525286375892585, 'n_estimators': 987, 'max_depth': 6, 'min_child_weight': 5, 'num_parallel_tree': 1}. Best is trial 173 with value: 0.09909467168372289.\u001b[0m\n"
     ]
    },
    {
     "name": "stderr",
     "output_type": "stream",
     "text": [
      "\u001b[32m[I 2023-06-06 09:06:41,198]\u001b[0m Trial 940 finished with value: 0.1260186890880539 and parameters: {'lambda': 1.4134276373290333, 'alpha': 1.5572406384633097, 'colsample_bytree': 0.2613760203126053, 'subsample': 0.5630882354300253, 'learning_rate': 0.07509516955420019, 'n_estimators': 1888, 'max_depth': 6, 'min_child_weight': 5, 'num_parallel_tree': 1}. Best is trial 173 with value: 0.09909467168372289.\u001b[0m\n",
      "\u001b[32m[I 2023-06-06 09:06:42,001]\u001b[0m Trial 941 finished with value: 0.14340988489761958 and parameters: {'lambda': 3.4052382676833446, 'alpha': 5.199467358436928, 'colsample_bytree': 0.30112650968135674, 'subsample': 0.5852550079066619, 'learning_rate': 0.05135512543881216, 'n_estimators': 183, 'max_depth': 10, 'min_child_weight': 1, 'num_parallel_tree': 1}. Best is trial 173 with value: 0.09909467168372289.\u001b[0m\n",
      "\u001b[32m[I 2023-06-06 09:06:46,771]\u001b[0m Trial 942 finished with value: 0.12891210356617733 and parameters: {'lambda': 2.824051199299805, 'alpha': 2.520485247262162, 'colsample_bytree': 0.8666836823260651, 'subsample': 0.49852723741979815, 'learning_rate': 0.04921614917953217, 'n_estimators': 1594, 'max_depth': 6, 'min_child_weight': 4, 'num_parallel_tree': 1}. Best is trial 173 with value: 0.09909467168372289.\u001b[0m\n",
      "\u001b[32m[I 2023-06-06 09:06:53,131]\u001b[0m Trial 943 finished with value: 0.13006792540278478 and parameters: {'lambda': 0.390186756971147, 'alpha': 1.015949943295623, 'colsample_bytree': 0.7104501144261312, 'subsample': 0.7314906388735136, 'learning_rate': 0.09157161226931933, 'n_estimators': 2073, 'max_depth': 7, 'min_child_weight': 9, 'num_parallel_tree': 1}. Best is trial 173 with value: 0.09909467168372289.\u001b[0m\n",
      "\u001b[32m[I 2023-06-06 09:06:57,305]\u001b[0m Trial 944 finished with value: 0.1314096195154432 and parameters: {'lambda': 5.8936643620915, 'alpha': 1.3117082586637714, 'colsample_bytree': 0.4705453712089779, 'subsample': 0.28609568652726475, 'learning_rate': 0.09230690021661749, 'n_estimators': 1689, 'max_depth': 6, 'min_child_weight': 5, 'num_parallel_tree': 1}. Best is trial 173 with value: 0.09909467168372289.\u001b[0m\n",
      "\u001b[32m[I 2023-06-06 09:07:00,124]\u001b[0m Trial 945 finished with value: 0.1314286119476354 and parameters: {'lambda': 2.3651894243704765, 'alpha': 0.5891584723780253, 'colsample_bytree': 0.4203892149177583, 'subsample': 0.7650132916973272, 'learning_rate': 0.0692494754014612, 'n_estimators': 1063, 'max_depth': 4, 'min_child_weight': 8, 'num_parallel_tree': 1}. Best is trial 173 with value: 0.09909467168372289.\u001b[0m\n",
      "\u001b[32m[I 2023-06-06 09:07:03,749]\u001b[0m Trial 946 finished with value: 0.16555466605393931 and parameters: {'lambda': 1.683850312359427, 'alpha': 7.718980352528092, 'colsample_bytree': 0.8356753825964742, 'subsample': 0.8295901332391497, 'learning_rate': 0.08270942636979821, 'n_estimators': 1639, 'max_depth': 6, 'min_child_weight': 4, 'num_parallel_tree': 1}. Best is trial 173 with value: 0.09909467168372289.\u001b[0m\n",
      "\u001b[32m[I 2023-06-06 09:07:07,669]\u001b[0m Trial 947 finished with value: 0.13356597309199486 and parameters: {'lambda': 3.7921214109976074, 'alpha': 5.045935615509864, 'colsample_bytree': 0.5963257993524536, 'subsample': 0.6387869852835357, 'learning_rate': 0.07625955538937729, 'n_estimators': 1751, 'max_depth': 5, 'min_child_weight': 10, 'num_parallel_tree': 1}. Best is trial 173 with value: 0.09909467168372289.\u001b[0m\n",
      "\u001b[32m[I 2023-06-06 09:07:10,301]\u001b[0m Trial 948 finished with value: 0.1177742477026511 and parameters: {'lambda': 3.133286742692314, 'alpha': 0.7568542570038677, 'colsample_bytree': 0.686813730352688, 'subsample': 0.7164251972868076, 'learning_rate': 0.0568287801367745, 'n_estimators': 812, 'max_depth': 6, 'min_child_weight': 5, 'num_parallel_tree': 1}. Best is trial 173 with value: 0.09909467168372289.\u001b[0m\n",
      "\u001b[32m[I 2023-06-06 09:07:13,119]\u001b[0m Trial 949 finished with value: 0.11541321885523023 and parameters: {'lambda': 2.0850788811098218, 'alpha': 0.0015342047193430686, 'colsample_bytree': 0.5678349396036912, 'subsample': 0.6122975007105167, 'learning_rate': 0.016343259486159667, 'n_estimators': 926, 'max_depth': 6, 'min_child_weight': 4, 'num_parallel_tree': 1}. Best is trial 173 with value: 0.09909467168372289.\u001b[0m\n",
      "\u001b[32m[I 2023-06-06 09:07:16,512]\u001b[0m Trial 950 finished with value: 0.1371267352950673 and parameters: {'lambda': 2.5530874409790703, 'alpha': 5.438251421552176, 'colsample_bytree': 0.3335686428209272, 'subsample': 0.9436204854510677, 'learning_rate': 0.03221753327962809, 'n_estimators': 1573, 'max_depth': 6, 'min_child_weight': 5, 'num_parallel_tree': 1}. Best is trial 173 with value: 0.09909467168372289.\u001b[0m\n",
      "\u001b[32m[I 2023-06-06 09:07:18,695]\u001b[0m Trial 951 finished with value: 0.12800656244656275 and parameters: {'lambda': 5.714257671157233, 'alpha': 7.801443612024322, 'colsample_bytree': 0.3624156660619342, 'subsample': 0.5307738527405057, 'learning_rate': 0.029550610504129014, 'n_estimators': 984, 'max_depth': 3, 'min_child_weight': 3, 'num_parallel_tree': 1}. Best is trial 173 with value: 0.09909467168372289.\u001b[0m\n",
      "\u001b[32m[I 2023-06-06 09:07:24,600]\u001b[0m Trial 952 finished with value: 0.1398692693620928 and parameters: {'lambda': 1.1686445355528594, 'alpha': 1.1629007930355593, 'colsample_bytree': 0.38930575342046514, 'subsample': 0.35834071924653715, 'learning_rate': 0.006059897857670367, 'n_estimators': 2173, 'max_depth': 6, 'min_child_weight': 10, 'num_parallel_tree': 1}. Best is trial 173 with value: 0.09909467168372289.\u001b[0m\n",
      "\u001b[32m[I 2023-06-06 09:07:32,843]\u001b[0m Trial 953 finished with value: 0.1324750960907804 and parameters: {'lambda': 2.8744984621677276, 'alpha': 0.3256116057465661, 'colsample_bytree': 0.7528298319909892, 'subsample': 0.6743560406894822, 'learning_rate': 0.08999689178334115, 'n_estimators': 2438, 'max_depth': 6, 'min_child_weight': 9, 'num_parallel_tree': 1}. Best is trial 173 with value: 0.09909467168372289.\u001b[0m\n",
      "\u001b[32m[I 2023-06-06 09:07:35,660]\u001b[0m Trial 954 finished with value: 0.133248556308519 and parameters: {'lambda': 1.9547640135691873, 'alpha': 6.276699041651785, 'colsample_bytree': 0.6549034682714171, 'subsample': 0.29191731417796835, 'learning_rate': 0.01052262681175977, 'n_estimators': 1085, 'max_depth': 2, 'min_child_weight': 5, 'num_parallel_tree': 1}. Best is trial 173 with value: 0.09909467168372289.\u001b[0m\n",
      "\u001b[32m[I 2023-06-06 09:07:39,329]\u001b[0m Trial 955 finished with value: 0.13595245317220953 and parameters: {'lambda': 0.7955396012022765, 'alpha': 3.9524164639605535, 'colsample_bytree': 0.8849806754204059, 'subsample': 0.5107300681060306, 'learning_rate': 0.07053566056257776, 'n_estimators': 1161, 'max_depth': 6, 'min_child_weight': 1, 'num_parallel_tree': 1}. Best is trial 173 with value: 0.09909467168372289.\u001b[0m\n",
      "\u001b[32m[I 2023-06-06 09:07:43,550]\u001b[0m Trial 956 finished with value: 0.13230217026266955 and parameters: {'lambda': 8.181378391619202, 'alpha': 4.46872837086317, 'colsample_bytree': 0.7906477921501466, 'subsample': 0.3267918389608773, 'learning_rate': 0.025562846823209678, 'n_estimators': 1641, 'max_depth': 4, 'min_child_weight': 2, 'num_parallel_tree': 1}. Best is trial 173 with value: 0.09909467168372289.\u001b[0m\n",
      "\u001b[32m[I 2023-06-06 09:07:46,607]\u001b[0m Trial 957 finished with value: 0.1281083382321822 and parameters: {'lambda': 3.56286978626843, 'alpha': 2.216229247955461, 'colsample_bytree': 0.9233687732038465, 'subsample': 0.24523973352662742, 'learning_rate': 0.06661574253480915, 'n_estimators': 1038, 'max_depth': 6, 'min_child_weight': 5, 'num_parallel_tree': 1}. Best is trial 173 with value: 0.09909467168372289.\u001b[0m\n",
      "\u001b[32m[I 2023-06-06 09:07:51,553]\u001b[0m Trial 958 finished with value: 0.1302741623198517 and parameters: {'lambda': 5.293538434132024, 'alpha': 6.785920901602685, 'colsample_bytree': 0.973456029580214, 'subsample': 0.697514558044546, 'learning_rate': 0.043448176371830155, 'n_estimators': 1958, 'max_depth': 6, 'min_child_weight': 4, 'num_parallel_tree': 1}. Best is trial 173 with value: 0.09909467168372289.\u001b[0m\n",
      "\u001b[32m[I 2023-06-06 09:07:54,608]\u001b[0m Trial 959 finished with value: 0.12886030472199259 and parameters: {'lambda': 1.5032454915260278, 'alpha': 1.4140946264709142, 'colsample_bytree': 0.28566647710438176, 'subsample': 0.6528541842479865, 'learning_rate': 0.08874742404378477, 'n_estimators': 888, 'max_depth': 7, 'min_child_weight': 8, 'num_parallel_tree': 1}. Best is trial 173 with value: 0.09909467168372289.\u001b[0m\n"
     ]
    },
    {
     "name": "stderr",
     "output_type": "stream",
     "text": [
      "\u001b[32m[I 2023-06-06 09:07:59,426]\u001b[0m Trial 960 finished with value: 0.12595104249373462 and parameters: {'lambda': 5.105348135167411, 'alpha': 9.187319215140963, 'colsample_bytree': 0.3160875829109166, 'subsample': 0.7401945151694266, 'learning_rate': 0.06746443479535177, 'n_estimators': 2116, 'max_depth': 6, 'min_child_weight': 10, 'num_parallel_tree': 1}. Best is trial 173 with value: 0.09909467168372289.\u001b[0m\n",
      "\u001b[32m[I 2023-06-06 09:08:04,687]\u001b[0m Trial 961 finished with value: 0.12747634367857952 and parameters: {'lambda': 2.6529286444748874, 'alpha': 0.9577665105316276, 'colsample_bytree': 0.238036900447376, 'subsample': 0.8055874870530412, 'learning_rate': 0.08598386417015848, 'n_estimators': 2048, 'max_depth': 5, 'min_child_weight': 5, 'num_parallel_tree': 1}. Best is trial 173 with value: 0.09909467168372289.\u001b[0m\n",
      "\u001b[32m[I 2023-06-06 09:08:08,859]\u001b[0m Trial 962 finished with value: 0.11654195782895242 and parameters: {'lambda': 4.063458752641315, 'alpha': 1.803974473278013, 'colsample_bytree': 0.3782130016914927, 'subsample': 0.46397813082356815, 'learning_rate': 0.05756908247723847, 'n_estimators': 1570, 'max_depth': 6, 'min_child_weight': 9, 'num_parallel_tree': 1}. Best is trial 173 with value: 0.09909467168372289.\u001b[0m\n",
      "\u001b[32m[I 2023-06-06 09:08:13,158]\u001b[0m Trial 963 finished with value: 0.11554306519610648 and parameters: {'lambda': 4.4213905223009595, 'alpha': 1.5688407385099636, 'colsample_bytree': 0.4514290788889493, 'subsample': 0.2012628830347048, 'learning_rate': 0.018171301680999664, 'n_estimators': 1713, 'max_depth': 6, 'min_child_weight': 5, 'num_parallel_tree': 1}. Best is trial 173 with value: 0.09909467168372289.\u001b[0m\n",
      "\u001b[32m[I 2023-06-06 09:08:16,529]\u001b[0m Trial 964 finished with value: 0.14661607827887516 and parameters: {'lambda': 2.3505815575738014, 'alpha': 5.744085552885332, 'colsample_bytree': 0.40465623464259126, 'subsample': 0.6006055945598099, 'learning_rate': 0.03371323341753341, 'n_estimators': 1526, 'max_depth': 6, 'min_child_weight': 10, 'num_parallel_tree': 1}. Best is trial 173 with value: 0.09909467168372289.\u001b[0m\n",
      "\u001b[32m[I 2023-06-06 09:08:18,750]\u001b[0m Trial 965 finished with value: 0.13150404190229203 and parameters: {'lambda': 8.624385507554127, 'alpha': 1.2004674984975594, 'colsample_bytree': 0.19119629294703305, 'subsample': 0.5732812676713227, 'learning_rate': 0.07205086628104464, 'n_estimators': 948, 'max_depth': 3, 'min_child_weight': 4, 'num_parallel_tree': 1}. Best is trial 173 with value: 0.09909467168372289.\u001b[0m\n",
      "\u001b[32m[I 2023-06-06 09:08:21,915]\u001b[0m Trial 966 finished with value: 0.11584694545984388 and parameters: {'lambda': 3.134535793307835, 'alpha': 0.7704506360699839, 'colsample_bytree': 0.9486294362161771, 'subsample': 0.9515522658038496, 'learning_rate': 0.054097799924806664, 'n_estimators': 1023, 'max_depth': 6, 'min_child_weight': 6, 'num_parallel_tree': 1}. Best is trial 173 with value: 0.09909467168372289.\u001b[0m\n",
      "\u001b[32m[I 2023-06-06 09:08:26,389]\u001b[0m Trial 967 finished with value: 0.12109885780066486 and parameters: {'lambda': 1.7719331636173548, 'alpha': 0.5241028740527313, 'colsample_bytree': 0.6264631657869378, 'subsample': 0.7910687014418982, 'learning_rate': 0.09644616193613698, 'n_estimators': 1594, 'max_depth': 4, 'min_child_weight': 5, 'num_parallel_tree': 1}. Best is trial 173 with value: 0.09909467168372289.\u001b[0m\n",
      "\u001b[32m[I 2023-06-06 09:08:30,680]\u001b[0m Trial 968 finished with value: 0.1497186220131688 and parameters: {'lambda': 2.94225714352367, 'alpha': 8.639643690262524, 'colsample_bytree': 0.3471022712277364, 'subsample': 0.49145329164918355, 'learning_rate': 0.09973028371933078, 'n_estimators': 2215, 'max_depth': 6, 'min_child_weight': 6, 'num_parallel_tree': 1}. Best is trial 173 with value: 0.09909467168372289.\u001b[0m\n",
      "\u001b[32m[I 2023-06-06 09:08:33,759]\u001b[0m Trial 969 finished with value: 0.14058921841316604 and parameters: {'lambda': 1.3162217391529938, 'alpha': 1.009352072535121, 'colsample_bytree': 0.42851371468263294, 'subsample': 0.7526038261489889, 'learning_rate': 0.011957077820002306, 'n_estimators': 868, 'max_depth': 10, 'min_child_weight': 2, 'num_parallel_tree': 1}. Best is trial 173 with value: 0.09909467168372289.\u001b[0m\n",
      "\u001b[32m[I 2023-06-06 09:08:37,554]\u001b[0m Trial 970 finished with value: 0.15790326011347636 and parameters: {'lambda': 3.2954745565395887, 'alpha': 7.652761763722734, 'colsample_bytree': 0.3314302229024709, 'subsample': 0.5514841874717775, 'learning_rate': 0.027535426903035697, 'n_estimators': 1654, 'max_depth': 6, 'min_child_weight': 6, 'num_parallel_tree': 1}. Best is trial 173 with value: 0.09909467168372289.\u001b[0m\n",
      "\u001b[32m[I 2023-06-06 09:08:40,484]\u001b[0m Trial 971 finished with value: 0.13051811329985658 and parameters: {'lambda': 0.9281479660982654, 'alpha': 5.9773651312232285, 'colsample_bytree': 0.8187639041840178, 'subsample': 0.6306847599994503, 'learning_rate': 0.030323548448834364, 'n_estimators': 971, 'max_depth': 6, 'min_child_weight': 8, 'num_parallel_tree': 1}. Best is trial 173 with value: 0.09909467168372289.\u001b[0m\n",
      "\u001b[32m[I 2023-06-06 09:08:48,167]\u001b[0m Trial 972 finished with value: 0.13043754733639434 and parameters: {'lambda': 2.4854616293936465, 'alpha': 1.3456204326063947, 'colsample_bytree': 0.8545809817834618, 'subsample': 0.5905203954807287, 'learning_rate': 0.02120080953864963, 'n_estimators': 1837, 'max_depth': 7, 'min_child_weight': 5, 'num_parallel_tree': 1}. Best is trial 173 with value: 0.09909467168372289.\u001b[0m\n",
      "\u001b[32m[I 2023-06-06 09:08:51,807]\u001b[0m Trial 973 finished with value: 0.14098143580312397 and parameters: {'lambda': 7.46137693531939, 'alpha': 1.9940332848440765, 'colsample_bytree': 0.3567015441188159, 'subsample': 0.7661072448493379, 'learning_rate': 0.06390149372836815, 'n_estimators': 1114, 'max_depth': 6, 'min_child_weight': 10, 'num_parallel_tree': 1}. Best is trial 173 with value: 0.09909467168372289.\u001b[0m\n",
      "\u001b[32m[I 2023-06-06 09:08:56,217]\u001b[0m Trial 974 finished with value: 0.13260726645355045 and parameters: {'lambda': 0.2475889708215383, 'alpha': 7.223910863106116, 'colsample_bytree': 0.9028062133952861, 'subsample': 0.8403169021706064, 'learning_rate': 0.02424068576410915, 'n_estimators': 1534, 'max_depth': 6, 'min_child_weight': 4, 'num_parallel_tree': 1}. Best is trial 173 with value: 0.09909467168372289.\u001b[0m\n",
      "\u001b[32m[I 2023-06-06 09:09:03,302]\u001b[0m Trial 975 finished with value: 0.12994290913838846 and parameters: {'lambda': 2.6710651291193246, 'alpha': 2.385387567044441, 'colsample_bytree': 0.8678879964561653, 'subsample': 0.7246349526174355, 'learning_rate': 0.04779907876517497, 'n_estimators': 2340, 'max_depth': 6, 'min_child_weight': 6, 'num_parallel_tree': 1}. Best is trial 173 with value: 0.09909467168372289.\u001b[0m\n",
      "\u001b[32m[I 2023-06-06 09:09:05,869]\u001b[0m Trial 976 finished with value: 0.13802773119605863 and parameters: {'lambda': 2.2746109566134716, 'alpha': 5.520495426864455, 'colsample_bytree': 0.581110535679736, 'subsample': 0.8851132747964643, 'learning_rate': 0.015639983920907746, 'n_estimators': 801, 'max_depth': 5, 'min_child_weight': 5, 'num_parallel_tree': 1}. Best is trial 173 with value: 0.09909467168372289.\u001b[0m\n",
      "\u001b[32m[I 2023-06-06 09:09:10,972]\u001b[0m Trial 977 finished with value: 0.13966365836786487 and parameters: {'lambda': 5.468462169737558, 'alpha': 1.67946317553534, 'colsample_bytree': 0.5288224489570554, 'subsample': 0.6517349770331483, 'learning_rate': 0.08006940316978087, 'n_estimators': 1777, 'max_depth': 4, 'min_child_weight': 6, 'num_parallel_tree': 1}. Best is trial 173 with value: 0.09909467168372289.\u001b[0m\n",
      "\u001b[32m[I 2023-06-06 09:09:13,271]\u001b[0m Trial 978 finished with value: 1.4869955381993307 and parameters: {'lambda': 3.8119383459348564, 'alpha': 7.4482036617982175, 'colsample_bytree': 0.39822334886763017, 'subsample': 0.61919782403949, 'learning_rate': 0.00231229458565628, 'n_estimators': 904, 'max_depth': 6, 'min_child_weight': 5, 'num_parallel_tree': 1}. Best is trial 173 with value: 0.09909467168372289.\u001b[0m\n",
      "\u001b[32m[I 2023-06-06 09:09:18,638]\u001b[0m Trial 979 finished with value: 0.13541004321256178 and parameters: {'lambda': 0.6010059802622871, 'alpha': 0.9095408579543314, 'colsample_bytree': 0.4918506989995475, 'subsample': 0.5190766288464216, 'learning_rate': 0.018969048566586738, 'n_estimators': 1615, 'max_depth': 6, 'min_child_weight': 9, 'num_parallel_tree': 1}. Best is trial 173 with value: 0.09909467168372289.\u001b[0m\n"
     ]
    },
    {
     "name": "stderr",
     "output_type": "stream",
     "text": [
      "\u001b[32m[I 2023-06-06 09:09:21,759]\u001b[0m Trial 980 finished with value: 0.14296306042259949 and parameters: {'lambda': 2.0106902365070383, 'alpha': 1.1414471817085006, 'colsample_bytree': 0.5529730980960956, 'subsample': 0.8587219834766833, 'learning_rate': 0.0333226847498769, 'n_estimators': 1058, 'max_depth': 3, 'min_child_weight': 3, 'num_parallel_tree': 1}. Best is trial 173 with value: 0.09909467168372289.\u001b[0m\n",
      "\u001b[32m[I 2023-06-06 09:09:26,342]\u001b[0m Trial 981 finished with value: 0.1299011692135734 and parameters: {'lambda': 2.970463134224524, 'alpha': 2.6133868281943626, 'colsample_bytree': 0.36993416764433146, 'subsample': 0.7768779889606006, 'learning_rate': 0.028394779129190306, 'n_estimators': 1695, 'max_depth': 6, 'min_child_weight': 4, 'num_parallel_tree': 1}. Best is trial 173 with value: 0.09909467168372289.\u001b[0m\n",
      "\u001b[32m[I 2023-06-06 09:09:27,918]\u001b[0m Trial 982 finished with value: 0.1277912448878613 and parameters: {'lambda': 4.8012841808924165, 'alpha': 0.7080502884954265, 'colsample_bytree': 0.2613811843823692, 'subsample': 0.6691824839463396, 'learning_rate': 0.017228010001090036, 'n_estimators': 493, 'max_depth': 6, 'min_child_weight': 5, 'num_parallel_tree': 1}. Best is trial 173 with value: 0.09909467168372289.\u001b[0m\n",
      "\u001b[32m[I 2023-06-06 09:09:30,464]\u001b[0m Trial 983 finished with value: 0.14000844857873027 and parameters: {'lambda': 1.6260252365099883, 'alpha': 0.3924474842325325, 'colsample_bytree': 0.7211993188709616, 'subsample': 0.6946069504853224, 'learning_rate': 0.06829863587846878, 'n_estimators': 599, 'max_depth': 6, 'min_child_weight': 1, 'num_parallel_tree': 1}. Best is trial 173 with value: 0.09909467168372289.\u001b[0m\n",
      "\u001b[32m[I 2023-06-06 09:09:36,171]\u001b[0m Trial 984 finished with value: 0.14529600554099428 and parameters: {'lambda': 2.228722875349351, 'alpha': 1.4640424941584984, 'colsample_bytree': 0.30181794200851025, 'subsample': 0.47176333076010385, 'learning_rate': 0.014220583773019777, 'n_estimators': 2187, 'max_depth': 6, 'min_child_weight': 6, 'num_parallel_tree': 1}. Best is trial 173 with value: 0.09909467168372289.\u001b[0m\n",
      "\u001b[32m[I 2023-06-06 09:09:38,740]\u001b[0m Trial 985 finished with value: 0.11922432485326019 and parameters: {'lambda': 2.7402703479740924, 'alpha': 1.2746578773362494, 'colsample_bytree': 0.31816887272844685, 'subsample': 0.22662021743702732, 'learning_rate': 0.05008594518308787, 'n_estimators': 1166, 'max_depth': 2, 'min_child_weight': 10, 'num_parallel_tree': 1}. Best is trial 173 with value: 0.09909467168372289.\u001b[0m\n",
      "\u001b[32m[I 2023-06-06 09:09:41,386]\u001b[0m Trial 986 finished with value: 0.12642951598107574 and parameters: {'lambda': 1.133233849148987, 'alpha': 1.9039290285997572, 'colsample_bytree': 0.44312209423382376, 'subsample': 0.743331670510337, 'learning_rate': 0.07710757609347489, 'n_estimators': 1012, 'max_depth': 4, 'min_child_weight': 5, 'num_parallel_tree': 1}. Best is trial 173 with value: 0.09909467168372289.\u001b[0m\n",
      "\u001b[32m[I 2023-06-06 09:09:45,481]\u001b[0m Trial 987 finished with value: 0.11780761560279696 and parameters: {'lambda': 2.450987534439232, 'alpha': 1.04410615525581, 'colsample_bytree': 0.13899399936864965, 'subsample': 0.5688985016056993, 'learning_rate': 0.04333096164521023, 'n_estimators': 1550, 'max_depth': 6, 'min_child_weight': 6, 'num_parallel_tree': 1}. Best is trial 173 with value: 0.09909467168372289.\u001b[0m\n",
      "\u001b[32m[I 2023-06-06 09:09:48,097]\u001b[0m Trial 988 finished with value: 0.13166618795579738 and parameters: {'lambda': 4.216572135456164, 'alpha': 2.2084921598366494, 'colsample_bytree': 0.3428085970201886, 'subsample': 0.5329533433331735, 'learning_rate': 0.026330071488503304, 'n_estimators': 937, 'max_depth': 7, 'min_child_weight': 6, 'num_parallel_tree': 1}. Best is trial 173 with value: 0.09909467168372289.\u001b[0m\n",
      "\u001b[32m[I 2023-06-06 09:09:54,222]\u001b[0m Trial 989 finished with value: 0.11087867507968345 and parameters: {'lambda': 3.418799230981108, 'alpha': 0.15377000290555187, 'colsample_bytree': 0.41596517992922255, 'subsample': 0.42943937022024486, 'learning_rate': 0.02015183683131497, 'n_estimators': 2260, 'max_depth': 6, 'min_child_weight': 10, 'num_parallel_tree': 1}. Best is trial 173 with value: 0.09909467168372289.\u001b[0m\n",
      "\u001b[32m[I 2023-06-06 09:09:57,625]\u001b[0m Trial 990 finished with value: 0.1518451158614791 and parameters: {'lambda': 1.8448503036877, 'alpha': 9.72741588295792, 'colsample_bytree': 0.17052833125561756, 'subsample': 0.8257370538074386, 'learning_rate': 0.022938688702533096, 'n_estimators': 1654, 'max_depth': 6, 'min_child_weight': 8, 'num_parallel_tree': 1}. Best is trial 173 with value: 0.09909467168372289.\u001b[0m\n",
      "\u001b[32m[I 2023-06-06 09:10:03,608]\u001b[0m Trial 991 finished with value: 0.1264748734842007 and parameters: {'lambda': 1.382882916572734, 'alpha': 0.5861648451845425, 'colsample_bytree': 0.829367746292256, 'subsample': 0.60596533807955, 'learning_rate': 0.08970391380954372, 'n_estimators': 1980, 'max_depth': 6, 'min_child_weight': 4, 'num_parallel_tree': 1}. Best is trial 173 with value: 0.09909467168372289.\u001b[0m\n",
      "\u001b[32m[I 2023-06-06 09:10:06,500]\u001b[0m Trial 992 finished with value: 0.13663710644297447 and parameters: {'lambda': 7.093145446517694, 'alpha': 0.854630544196376, 'colsample_bytree': 0.3768176609047632, 'subsample': 0.6288491968063812, 'learning_rate': 0.0466347473644001, 'n_estimators': 1096, 'max_depth': 5, 'min_child_weight': 5, 'num_parallel_tree': 1}. Best is trial 173 with value: 0.09909467168372289.\u001b[0m\n",
      "\u001b[32m[I 2023-06-06 09:10:10,665]\u001b[0m Trial 993 finished with value: 0.14025759762280143 and parameters: {'lambda': 2.108383219641764, 'alpha': 4.2243139036889, 'colsample_bytree': 0.22927188391830194, 'subsample': 0.7127757173943725, 'learning_rate': 0.08693762725894472, 'n_estimators': 2103, 'max_depth': 6, 'min_child_weight': 3, 'num_parallel_tree': 1}. Best is trial 173 with value: 0.09909467168372289.\u001b[0m\n",
      "\u001b[32m[I 2023-06-06 09:10:13,027]\u001b[0m Trial 994 finished with value: 0.12385049803563314 and parameters: {'lambda': 3.1066324332073294, 'alpha': 3.8485904705843472, 'colsample_bytree': 0.7850584419529326, 'subsample': 0.8115549940703211, 'learning_rate': 0.030708933587232062, 'n_estimators': 842, 'max_depth': 6, 'min_child_weight': 6, 'num_parallel_tree': 1}. Best is trial 173 with value: 0.09909467168372289.\u001b[0m\n",
      "\u001b[32m[I 2023-06-06 09:10:18,034]\u001b[0m Trial 995 finished with value: 0.1259045518783999 and parameters: {'lambda': 2.809598632632792, 'alpha': 1.5909724294311283, 'colsample_bytree': 0.9199151984205315, 'subsample': 0.4907069373460377, 'learning_rate': 0.024421188748264083, 'n_estimators': 1503, 'max_depth': 6, 'min_child_weight': 5, 'num_parallel_tree': 1}. Best is trial 173 with value: 0.09909467168372289.\u001b[0m\n",
      "\u001b[32m[I 2023-06-06 09:10:21,642]\u001b[0m Trial 996 finished with value: 0.13567482129930447 and parameters: {'lambda': 4.604640545568879, 'alpha': 8.080043789430677, 'colsample_bytree': 0.2104564114922842, 'subsample': 0.6393329066099191, 'learning_rate': 0.03410901589833361, 'n_estimators': 1600, 'max_depth': 3, 'min_child_weight': 9, 'num_parallel_tree': 1}. Best is trial 173 with value: 0.09909467168372289.\u001b[0m\n",
      "\u001b[32m[I 2023-06-06 09:10:26,162]\u001b[0m Trial 997 finished with value: 0.13488038851399098 and parameters: {'lambda': 2.5545478958917656, 'alpha': 1.2985678625473693, 'colsample_bytree': 0.28438848795857974, 'subsample': 0.9312092912515133, 'learning_rate': 0.07941180606398622, 'n_estimators': 1731, 'max_depth': 4, 'min_child_weight': 6, 'num_parallel_tree': 1}. Best is trial 173 with value: 0.09909467168372289.\u001b[0m\n",
      "\u001b[32m[I 2023-06-06 09:10:29,022]\u001b[0m Trial 998 finished with value: 0.12258078807750873 and parameters: {'lambda': 8.429595931169388, 'alpha': 0.9904214386270023, 'colsample_bytree': 0.39153518488608113, 'subsample': 0.2663644674074226, 'learning_rate': 0.028769606006109016, 'n_estimators': 979, 'max_depth': 6, 'min_child_weight': 10, 'num_parallel_tree': 1}. Best is trial 173 with value: 0.09909467168372289.\u001b[0m\n",
      "\u001b[32m[I 2023-06-06 09:10:31,502]\u001b[0m Trial 999 finished with value: 0.14016532099618112 and parameters: {'lambda': 1.2580280700502688, 'alpha': 4.561903329532177, 'colsample_bytree': 0.3343584851943359, 'subsample': 0.785819250231237, 'learning_rate': 0.013044432733554578, 'n_estimators': 748, 'max_depth': 10, 'min_child_weight': 2, 'num_parallel_tree': 1}. Best is trial 173 with value: 0.09909467168372289.\u001b[0m\n"
     ]
    },
    {
     "name": "stdout",
     "output_type": "stream",
     "text": [
      "Number of finished trials: 1000\n",
      "Best trial: {'lambda': 1.32754289013568, 'alpha': 1.580513088436275, 'colsample_bytree': 0.34112979113700337, 'subsample': 0.49829211790557504, 'learning_rate': 0.04245317476432714, 'n_estimators': 1145, 'max_depth': 6, 'min_child_weight': 6, 'num_parallel_tree': 1}\n"
     ]
    }
   ],
   "source": [
    "'''study_xgb = optuna.create_study(sampler=TPESampler(), direction='minimize')\n",
    "study_xgb.optimize(xgb_objective, n_trials=1000)\n",
    "print('Number of finished trials:', len(study_xgb.trials))\n",
    "print('Best trial:', study_xgb.best_trial.params)'''"
   ]
  },
  {
   "cell_type": "code",
   "execution_count": null,
   "id": "31234b7b",
   "metadata": {},
   "outputs": [],
   "source": []
  },
  {
   "cell_type": "code",
   "execution_count": 26,
   "id": "039b618c",
   "metadata": {},
   "outputs": [],
   "source": [
    "X,y = shuffle(X,y, random_state=42)\n",
    "X = X.reset_index(drop=True)\n",
    "y = y.reset_index(drop=True)"
   ]
  },
  {
   "cell_type": "code",
   "execution_count": 27,
   "id": "44fd6059",
   "metadata": {},
   "outputs": [],
   "source": [
    "def rmse_cv(model,X,y):\n",
    "    rmse = np.sqrt(-cross_val_score(model, X, y, scoring=\"neg_mean_squared_error\", cv=6))\n",
    "    return rmse"
   ]
  },
  {
   "cell_type": "code",
   "execution_count": 28,
   "id": "196c7792",
   "metadata": {},
   "outputs": [],
   "source": [
    "params_xgb= {'lambda': 1.32754289013568, \n",
    "             'alpha': 1.580513088436275, \n",
    "             'colsample_bytree': 0.34112979113700337, \n",
    "             'subsample': 0.49829211790557504, \n",
    "             'learning_rate': 0.04245317476432714, \n",
    "             'n_estimators': 1145,\n",
    "             'max_depth': 6, \n",
    "             'min_child_weight': 6, \n",
    "             'num_parallel_tree': 1}"
   ]
  },
  {
   "cell_type": "code",
   "execution_count": null,
   "id": "4cfb1bba",
   "metadata": {},
   "outputs": [],
   "source": []
  },
  {
   "cell_type": "code",
   "execution_count": null,
   "id": "1b384a10",
   "metadata": {},
   "outputs": [],
   "source": []
  },
  {
   "cell_type": "code",
   "execution_count": 29,
   "id": "f4feb173",
   "metadata": {},
   "outputs": [],
   "source": [
    "xgb_model = xgb.XGBRegressor(**params_xgb)"
   ]
  },
  {
   "cell_type": "code",
   "execution_count": 30,
   "id": "af8a9926",
   "metadata": {},
   "outputs": [
    {
     "name": "stdout",
     "output_type": "stream",
     "text": [
      "0.12540821139707464\n"
     ]
    }
   ],
   "source": [
    "print(rmse_cv(xgb_model,X,y).mean())"
   ]
  },
  {
   "cell_type": "code",
   "execution_count": 31,
   "id": "971bed74",
   "metadata": {},
   "outputs": [],
   "source": [
    "submit = test[['Id']]\n",
    "submit = submit.reset_index(drop=True)"
   ]
  },
  {
   "cell_type": "code",
   "execution_count": 32,
   "id": "307d593d",
   "metadata": {},
   "outputs": [
    {
     "data": {
      "text/plain": [
       "XGBRegressor(alpha=1.580513088436275, base_score=None, booster=None,\n",
       "             callbacks=None, colsample_bylevel=None, colsample_bynode=None,\n",
       "             colsample_bytree=0.34112979113700337, early_stopping_rounds=None,\n",
       "             enable_categorical=False, eval_metric=None, feature_types=None,\n",
       "             gamma=None, gpu_id=None, grow_policy=None, importance_type=None,\n",
       "             interaction_constraints=None, lambda=1.32754289013568,\n",
       "             learning_rate=0.04245317476432714, max_bin=None,\n",
       "             max_cat_threshold=None, max_cat_to_onehot=None,\n",
       "             max_delta_step=None, max_depth=6, max_leaves=None,\n",
       "             min_child_weight=6, missing=nan, monotone_constraints=None,\n",
       "             n_estimators=1145, n_jobs=None, num_parallel_tree=1, ...)"
      ]
     },
     "execution_count": 32,
     "metadata": {},
     "output_type": "execute_result"
    }
   ],
   "source": [
    "xgb_model.fit(X,y)"
   ]
  },
  {
   "cell_type": "code",
   "execution_count": 33,
   "id": "c0e70573",
   "metadata": {},
   "outputs": [],
   "source": [
    "submit_predict = xgb_model.predict(test)\n",
    "submit_predict = np.exp(submit_predict)"
   ]
  },
  {
   "cell_type": "code",
   "execution_count": 34,
   "id": "0342d3fb",
   "metadata": {},
   "outputs": [],
   "source": [
    "submit['SalePrice'] = submit_predict"
   ]
  },
  {
   "cell_type": "code",
   "execution_count": 35,
   "id": "395cc685",
   "metadata": {},
   "outputs": [],
   "source": [
    "submit.to_csv('submit_xgb_optuna.csv', index=False)"
   ]
  },
  {
   "cell_type": "markdown",
   "id": "6608dff0",
   "metadata": {},
   "source": [
    "Reducing feature skewness actually slightly increased the Kaggle score. "
   ]
  },
  {
   "cell_type": "code",
   "execution_count": null,
   "id": "c2330e12",
   "metadata": {},
   "outputs": [],
   "source": []
  }
 ],
 "metadata": {
  "kernelspec": {
   "display_name": "Python 3 (ipykernel)",
   "language": "python",
   "name": "python3"
  },
  "language_info": {
   "codemirror_mode": {
    "name": "ipython",
    "version": 3
   },
   "file_extension": ".py",
   "mimetype": "text/x-python",
   "name": "python",
   "nbconvert_exporter": "python",
   "pygments_lexer": "ipython3",
   "version": "3.9.13"
  }
 },
 "nbformat": 4,
 "nbformat_minor": 5
}
