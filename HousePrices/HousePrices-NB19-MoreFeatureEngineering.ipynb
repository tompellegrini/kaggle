{
 "cells": [
  {
   "cell_type": "markdown",
   "id": "a13b007f",
   "metadata": {},
   "source": [
    "# Data Preprocessing "
   ]
  },
  {
   "cell_type": "code",
   "execution_count": 68,
   "id": "789f7c1e",
   "metadata": {},
   "outputs": [],
   "source": [
    "import pandas as pd\n",
    "import numpy as np\n",
    "import matplotlib.pyplot as plt\n",
    "import seaborn as sns\n",
    "\n",
    "from sklearn.impute import SimpleImputer\n",
    "from numpy import random\n",
    "from sklearn.utils import shuffle\n",
    "from sklearn.metrics import mean_squared_error\n",
    "from sklearn.metrics import mean_squared_log_error\n",
    "from sklearn import metrics\n",
    "from sklearn.model_selection import KFold, cross_val_score\n",
    "\n",
    "from scipy.stats import skew, norm\n",
    "from feature_engine.transformation import YeoJohnsonTransformer\n",
    "from category_encoders.binary import BinaryEncoder\n",
    "\n",
    "import warnings\n",
    "warnings.simplefilter(action='ignore', category=FutureWarning)"
   ]
  },
  {
   "cell_type": "code",
   "execution_count": 69,
   "id": "ef65eb9a",
   "metadata": {},
   "outputs": [],
   "source": [
    "import xgboost as xgb\n",
    "from sklearn.svm import SVR\n",
    "from lightgbm import LGBMRegressor\n",
    "from catboost import CatBoostRegressor\n",
    "from sklearn.tree import DecisionTreeRegressor\n",
    "from mlxtend.regressor import StackingRegressor\n",
    "from sklearn.linear_model import LinearRegression, BayesianRidge\n",
    "from sklearn.model_selection import RepeatedKFold\n",
    "from sklearn.ensemble import GradientBoostingRegressor, RandomForestRegressor\n",
    "from sklearn.model_selection import GridSearchCV, RandomizedSearchCV\n",
    "from sklearn.kernel_ridge import KernelRidge\n",
    "from sklearn.preprocessing import RobustScaler\n",
    "from sklearn.pipeline import make_pipeline\n",
    "from sklearn.preprocessing import scale\n",
    "from sklearn.preprocessing import StandardScaler\n",
    "from sklearn.preprocessing import RobustScaler\n",
    "from sklearn.decomposition import PCA\n",
    "from mlxtend.regressor import StackingCVRegressor"
   ]
  },
  {
   "cell_type": "markdown",
   "id": "e3f07dc5",
   "metadata": {},
   "source": [
    "NEW: To set up feature engineering functions"
   ]
  },
  {
   "cell_type": "code",
   "execution_count": 146,
   "id": "bee0e511",
   "metadata": {},
   "outputs": [],
   "source": [
    "from sklearn.feature_selection import mutual_info_regression\n",
    "from sklearn.cluster import KMeans\n",
    "from sklearn.decomposition import PCA"
   ]
  },
  {
   "cell_type": "markdown",
   "id": "850676a5",
   "metadata": {},
   "source": [
    "NEW: To set up the printing parameters"
   ]
  },
  {
   "cell_type": "code",
   "execution_count": 143,
   "id": "50156a21",
   "metadata": {},
   "outputs": [],
   "source": [
    "import matplotlib.pyplot as plt\n",
    "import seaborn as sns\n",
    "\n",
    "plt.style.use(\"seaborn-whitegrid\")\n",
    "plt.rc(\"figure\", autolayout=True)\n",
    "plt.rc(\n",
    "    \"axes\",\n",
    "    labelweight=\"bold\",\n",
    "    labelsize=\"large\",\n",
    "    titleweight=\"bold\",\n",
    "    titlesize=14,\n",
    "    titlepad=10,\n",
    ")"
   ]
  },
  {
   "cell_type": "code",
   "execution_count": 386,
   "id": "3af42dbb",
   "metadata": {},
   "outputs": [],
   "source": [
    "test = pd.read_csv('test.csv')\n",
    "sample = pd.read_csv('sample_submission.csv')\n",
    "train = pd.read_csv('train.csv')"
   ]
  },
  {
   "cell_type": "code",
   "execution_count": 387,
   "id": "1e7680c5",
   "metadata": {},
   "outputs": [
    {
     "data": {
      "text/plain": [
       "((1460, 81), (1459, 80))"
      ]
     },
     "execution_count": 387,
     "metadata": {},
     "output_type": "execute_result"
    }
   ],
   "source": [
    "train.shape, test.shape"
   ]
  },
  {
   "cell_type": "markdown",
   "id": "50c5e835",
   "metadata": {},
   "source": [
    "Based on an initial analysis the train and test datasets have similar characteristics, so it will be easier to combine them for the data preprocessing work. "
   ]
  },
  {
   "cell_type": "code",
   "execution_count": 388,
   "id": "e1e76d26",
   "metadata": {},
   "outputs": [],
   "source": [
    "train_test = pd.concat([train, test], ignore_index=True)"
   ]
  },
  {
   "cell_type": "code",
   "execution_count": 389,
   "id": "d3aec0de",
   "metadata": {},
   "outputs": [
    {
     "data": {
      "text/plain": [
       "(2919, 81)"
      ]
     },
     "execution_count": 389,
     "metadata": {},
     "output_type": "execute_result"
    }
   ],
   "source": [
    "train_test.shape"
   ]
  },
  {
   "cell_type": "markdown",
   "id": "5ade7251",
   "metadata": {},
   "source": [
    "To show the amount of 'NaN' values in each column of the dataset. "
   ]
  },
  {
   "cell_type": "code",
   "execution_count": 390,
   "id": "331f1180",
   "metadata": {},
   "outputs": [
    {
     "data": {
      "text/plain": [
       "MSZoning           4\n",
       "LotFrontage      486\n",
       "Alley           2721\n",
       "Utilities          2\n",
       "Exterior1st        1\n",
       "Exterior2nd        1\n",
       "MasVnrType        24\n",
       "MasVnrArea        23\n",
       "BsmtQual          81\n",
       "BsmtCond          82\n",
       "BsmtExposure      82\n",
       "BsmtFinType1      79\n",
       "BsmtFinSF1         1\n",
       "BsmtFinType2      80\n",
       "BsmtFinSF2         1\n",
       "BsmtUnfSF          1\n",
       "TotalBsmtSF        1\n",
       "Electrical         1\n",
       "BsmtFullBath       2\n",
       "BsmtHalfBath       2\n",
       "KitchenQual        1\n",
       "Functional         2\n",
       "FireplaceQu     1420\n",
       "GarageType       157\n",
       "GarageYrBlt      159\n",
       "GarageFinish     159\n",
       "GarageCars         1\n",
       "GarageArea         1\n",
       "GarageQual       159\n",
       "GarageCond       159\n",
       "PoolQC          2909\n",
       "Fence           2348\n",
       "MiscFeature     2814\n",
       "SaleType           1\n",
       "SalePrice       1459\n",
       "dtype: int64"
      ]
     },
     "execution_count": 390,
     "metadata": {},
     "output_type": "execute_result"
    }
   ],
   "source": [
    "pd.isnull(train_test).sum()[pd.isnull(train_test).sum() > 0]"
   ]
  },
  {
   "cell_type": "markdown",
   "id": "c0d0316a",
   "metadata": {},
   "source": [
    "It looks like Alley, FireplaceQu, PoolQC, Fence and MiscFeature have significant numbers of missing data. At first those columns were eliminated. However, the results were better if these columns were retained and the missing data were coded as 'None', assuming these features didn't exist for their related houses. \n",
    "\n",
    "There are a number of rows that have less than 5 rows with missing data. Since some of these are categorical and some are continuous data, their missing data will be replaced with the most frequent value. "
   ]
  },
  {
   "cell_type": "code",
   "execution_count": 391,
   "id": "29ab3f4c",
   "metadata": {},
   "outputs": [],
   "source": [
    "drop_high_nan=['Alley','FireplaceQu','PoolQC','Fence','MiscFeature']\n",
    "train_test[drop_high_nan] = train_test[drop_high_nan].fillna('None')\n",
    "\n",
    "small_nan_cols = ['MSZoning', 'Utilities', 'Exterior1st', 'Exterior2nd', 'BsmtFinSF1', 'BsmtFinSF2', 'BsmtUnfSF', \n",
    "                  'TotalBsmtSF', 'Electrical', 'BsmtFullBath', 'BsmtHalfBath', 'KitchenQual', 'Functional', 'GarageCars', \n",
    "                  'GarageArea','SaleType', 'SaleCondition']\n",
    "small_impute = SimpleImputer(strategy='most_frequent')\n",
    "train_test[small_nan_cols] = pd.DataFrame(small_impute.fit_transform(train_test[small_nan_cols]),columns=small_nan_cols)"
   ]
  },
  {
   "cell_type": "markdown",
   "id": "4f1be893",
   "metadata": {},
   "source": [
    "The following columns seem to have one value significantly larger than the rest, and it would probably be best to use the mode, or most common, value to feel each NaN value: MasVnrType, MasVnrArea, BsmtCond, BsmtExposure, BsmtFinType2, GarageType, GarageFinish, GarageQual, and GarageCond. That represents 9 out of the 13 columns. \n",
    "\n",
    "BsmtQual has two values larger than the rest: Gd and TA. But it only has 2.8% NaNs, so simply using the mode might be good enough.  \n",
    "\n",
    "GarageYrBlt has 59 NaNs out 2919 rows which is only 2%. It has a dispersed set of values, so it might be easiest just to have any NaNs have the same value as YearBuilt. \n",
    "\n",
    "BsmtFinType1 has only 2.7% value of NaNs, and most two of its largest values are GLQ and Unf. It might be easiest to use the mode here. \n",
    "\n",
    "LotFrontage has 486 NaNs out of 2919 rows which is a pretty high 16.7%. It has a dispersed range of values, but looking at its characteristics from the describe function above, it seems to have a pretty even distribution with a mean of 10,168 and a median of 9,453. So using the mean to fill in the NaNs seems reasonable."
   ]
  },
  {
   "cell_type": "code",
   "execution_count": 392,
   "id": "c4271ecc",
   "metadata": {},
   "outputs": [],
   "source": [
    "mode_cols = ['MasVnrType', 'MasVnrArea', 'BsmtCond', 'BsmtExposure', 'BsmtFinType2', 'BsmtQual', 'BsmtFinType1']\n",
    "mode_impute = SimpleImputer(strategy='most_frequent')\n",
    "train_test[mode_cols] = pd.DataFrame(mode_impute.fit_transform(train_test[mode_cols]),columns=mode_cols)\n",
    "\n",
    "garage_cols = ['GarageType', 'GarageFinish', 'GarageQual','GarageCond', 'GarageYrBlt']\n",
    "train_test[garage_cols] = train_test[garage_cols].fillna('None')\n",
    "\n",
    "train_test['LotFrontage'].fillna((train_test['LotFrontage'].mean()), inplace=True)"
   ]
  },
  {
   "cell_type": "markdown",
   "id": "7bfd9313",
   "metadata": {},
   "source": [
    "A final check to ensure that the only missing values are the expected SalePrice data from the test dataset. "
   ]
  },
  {
   "cell_type": "code",
   "execution_count": 393,
   "id": "80091d42",
   "metadata": {},
   "outputs": [
    {
     "data": {
      "text/plain": [
       "SalePrice    1459\n",
       "dtype: int64"
      ]
     },
     "execution_count": 393,
     "metadata": {},
     "output_type": "execute_result"
    }
   ],
   "source": [
    "pd.isnull(train_test).sum()[pd.isnull(train_test).sum() > 0]"
   ]
  },
  {
   "cell_type": "markdown",
   "id": "c6dd5817",
   "metadata": {},
   "source": [
    "The BsmtQual and BsmtFinType1 have ordinal scaled categorical values with an inherent order. So the conversion from categorical to numerical was done manually. "
   ]
  },
  {
   "cell_type": "code",
   "execution_count": 394,
   "id": "46b9042f",
   "metadata": {},
   "outputs": [
    {
     "data": {
      "text/plain": [
       "array(['Gd', 'TA', 'Ex', 'Fa'], dtype=object)"
      ]
     },
     "execution_count": 394,
     "metadata": {},
     "output_type": "execute_result"
    }
   ],
   "source": [
    "train_test['BsmtQual'].unique()"
   ]
  },
  {
   "cell_type": "code",
   "execution_count": 395,
   "id": "68371091",
   "metadata": {},
   "outputs": [
    {
     "data": {
      "text/plain": [
       "array(['GLQ', 'ALQ', 'Unf', 'Rec', 'BLQ', 'LwQ'], dtype=object)"
      ]
     },
     "execution_count": 395,
     "metadata": {},
     "output_type": "execute_result"
    }
   ],
   "source": [
    "train_test['BsmtFinType1'].unique()"
   ]
  },
  {
   "cell_type": "code",
   "execution_count": 396,
   "id": "12457a45",
   "metadata": {},
   "outputs": [],
   "source": [
    "train_test.BsmtQual = train_test.BsmtQual.replace({\"Ex\": 110, \"Gd\": 95, \"TA\": 85, \"Fa\": 75, \"Po\": 60, \"NA\": 0})\n",
    "train_test.BsmtFinType1 = train_test.BsmtFinType1.replace({\"GLQ\": 6, \"ALQ\": 5, \"BLQ\": 4, \"Rec\": 3, \"LwQ\": 2, \"Unf\": 1,\n",
    "                                                         \"NA\": 0})"
   ]
  },
  {
   "cell_type": "markdown",
   "id": "3a231025",
   "metadata": {},
   "source": [
    "To look at how many features have a skew above 0.6, since high skew can be an issue in regression analysis. For some reason, the results were better with a skew limit of 0.6 than the more standard value of 0.5. Skewness measures how symmetrical a distribution of data is. Data with a skew of 0 is perfectly symmetrical."
   ]
  },
  {
   "cell_type": "code",
   "execution_count": 397,
   "id": "cc1a4abf",
   "metadata": {},
   "outputs": [],
   "source": [
    "number_cols = train_test.select_dtypes(include=np.number).columns.tolist()"
   ]
  },
  {
   "cell_type": "code",
   "execution_count": 398,
   "id": "96c88d9f",
   "metadata": {},
   "outputs": [
    {
     "data": {
      "text/plain": [
       "Index(['MiscVal', 'PoolArea', 'LotArea', 'LowQualFinSF', '3SsnPorch',\n",
       "       'KitchenAbvGr', 'EnclosedPorch', 'ScreenPorch', 'OpenPorchSF',\n",
       "       'WoodDeckSF', 'LotFrontage', '1stFlrSF', 'MSSubClass', 'GrLivArea',\n",
       "       '2ndFlrSF', 'BsmtQual', 'TotRmsAbvGrd', 'Fireplaces', 'HalfBath'],\n",
       "      dtype='object')"
      ]
     },
     "execution_count": 398,
     "metadata": {},
     "output_type": "execute_result"
    }
   ],
   "source": [
    "skew_features = train_test[number_cols].apply(lambda x: skew(x)).sort_values(ascending=False)\n",
    "high_skew = skew_features[skew_features > 0.6]\n",
    "skew_index = high_skew.index\n",
    "skew_index"
   ]
  },
  {
   "cell_type": "code",
   "execution_count": 399,
   "id": "d624c669",
   "metadata": {},
   "outputs": [
    {
     "name": "stdout",
     "output_type": "stream",
     "text": [
      "There are 19 numerical features with Skew > 0.6 :\n"
     ]
    },
    {
     "data": {
      "text/html": [
       "<div>\n",
       "<style scoped>\n",
       "    .dataframe tbody tr th:only-of-type {\n",
       "        vertical-align: middle;\n",
       "    }\n",
       "\n",
       "    .dataframe tbody tr th {\n",
       "        vertical-align: top;\n",
       "    }\n",
       "\n",
       "    .dataframe thead th {\n",
       "        text-align: right;\n",
       "    }\n",
       "</style>\n",
       "<table border=\"1\" class=\"dataframe\">\n",
       "  <thead>\n",
       "    <tr style=\"text-align: right;\">\n",
       "      <th></th>\n",
       "      <th>Skew</th>\n",
       "    </tr>\n",
       "  </thead>\n",
       "  <tbody>\n",
       "    <tr>\n",
       "      <th>MiscVal</th>\n",
       "      <td>21.947195</td>\n",
       "    </tr>\n",
       "    <tr>\n",
       "      <th>PoolArea</th>\n",
       "      <td>16.898328</td>\n",
       "    </tr>\n",
       "    <tr>\n",
       "      <th>LotArea</th>\n",
       "      <td>12.822431</td>\n",
       "    </tr>\n",
       "    <tr>\n",
       "      <th>LowQualFinSF</th>\n",
       "      <td>12.088761</td>\n",
       "    </tr>\n",
       "    <tr>\n",
       "      <th>3SsnPorch</th>\n",
       "      <td>11.376065</td>\n",
       "    </tr>\n",
       "    <tr>\n",
       "      <th>KitchenAbvGr</th>\n",
       "      <td>4.302254</td>\n",
       "    </tr>\n",
       "    <tr>\n",
       "      <th>EnclosedPorch</th>\n",
       "      <td>4.003891</td>\n",
       "    </tr>\n",
       "    <tr>\n",
       "      <th>ScreenPorch</th>\n",
       "      <td>3.946694</td>\n",
       "    </tr>\n",
       "    <tr>\n",
       "      <th>OpenPorchSF</th>\n",
       "      <td>2.535114</td>\n",
       "    </tr>\n",
       "    <tr>\n",
       "      <th>WoodDeckSF</th>\n",
       "      <td>1.842433</td>\n",
       "    </tr>\n",
       "    <tr>\n",
       "      <th>LotFrontage</th>\n",
       "      <td>1.645574</td>\n",
       "    </tr>\n",
       "    <tr>\n",
       "      <th>1stFlrSF</th>\n",
       "      <td>1.469604</td>\n",
       "    </tr>\n",
       "    <tr>\n",
       "      <th>MSSubClass</th>\n",
       "      <td>1.375457</td>\n",
       "    </tr>\n",
       "    <tr>\n",
       "      <th>GrLivArea</th>\n",
       "      <td>1.269358</td>\n",
       "    </tr>\n",
       "    <tr>\n",
       "      <th>2ndFlrSF</th>\n",
       "      <td>0.861675</td>\n",
       "    </tr>\n",
       "    <tr>\n",
       "      <th>BsmtQual</th>\n",
       "      <td>0.796302</td>\n",
       "    </tr>\n",
       "    <tr>\n",
       "      <th>TotRmsAbvGrd</th>\n",
       "      <td>0.758367</td>\n",
       "    </tr>\n",
       "    <tr>\n",
       "      <th>Fireplaces</th>\n",
       "      <td>0.733495</td>\n",
       "    </tr>\n",
       "    <tr>\n",
       "      <th>HalfBath</th>\n",
       "      <td>0.694566</td>\n",
       "    </tr>\n",
       "  </tbody>\n",
       "</table>\n",
       "</div>"
      ],
      "text/plain": [
       "                    Skew\n",
       "MiscVal        21.947195\n",
       "PoolArea       16.898328\n",
       "LotArea        12.822431\n",
       "LowQualFinSF   12.088761\n",
       "3SsnPorch      11.376065\n",
       "KitchenAbvGr    4.302254\n",
       "EnclosedPorch   4.003891\n",
       "ScreenPorch     3.946694\n",
       "OpenPorchSF     2.535114\n",
       "WoodDeckSF      1.842433\n",
       "LotFrontage     1.645574\n",
       "1stFlrSF        1.469604\n",
       "MSSubClass      1.375457\n",
       "GrLivArea       1.269358\n",
       "2ndFlrSF        0.861675\n",
       "BsmtQual        0.796302\n",
       "TotRmsAbvGrd    0.758367\n",
       "Fireplaces      0.733495\n",
       "HalfBath        0.694566"
      ]
     },
     "execution_count": 399,
     "metadata": {},
     "output_type": "execute_result"
    }
   ],
   "source": [
    "print(\"There are {} numerical features with Skew > 0.6 :\".format(high_skew.shape[0]))\n",
    "skewness = pd.DataFrame({'Skew' :high_skew})\n",
    "skewness"
   ]
  },
  {
   "cell_type": "markdown",
   "id": "dd9ecf2b",
   "metadata": {},
   "source": [
    "To normalize the features with skew above 0.6 the Yeo-Johnson Transformation is used since data with negative values or values of zero can be included. This transformation is a way to transform a continuous variable so that the output looks more normally distributed. "
   ]
  },
  {
   "cell_type": "code",
   "execution_count": 400,
   "id": "ca19eae1",
   "metadata": {},
   "outputs": [],
   "source": [
    "yjt = YeoJohnsonTransformer()\n",
    "yjt.fit(train_test[skew_index])\n",
    "train_test[skew_index] = yjt.transform(train_test[skew_index])"
   ]
  },
  {
   "cell_type": "markdown",
   "id": "b2cd0509",
   "metadata": {},
   "source": [
    "Since most models cannot work with categorical data, it will be necessary to identify all the columns that have non-numeric object values and then convert them to numeric values. The best approach for this conversion seems to be the straightforward python factorize function. "
   ]
  },
  {
   "cell_type": "code",
   "execution_count": 401,
   "id": "80aaa6ef",
   "metadata": {},
   "outputs": [],
   "source": [
    "obj_cols = list(train_test.select_dtypes(['object']).columns)"
   ]
  },
  {
   "cell_type": "code",
   "execution_count": 402,
   "id": "62baae01",
   "metadata": {},
   "outputs": [],
   "source": [
    "for column in obj_cols:\n",
    "     train_test[column] = pd.factorize(train_test[column], sort=True)[0]"
   ]
  },
  {
   "cell_type": "markdown",
   "id": "086c88f7",
   "metadata": {},
   "source": [
    "To create some new columns that might compound the effects of some of the existing columns which have higher impacts the score. eli5 (https://eli5.readthedocs.io/en/latest/overview.html) was used with an xgbregressor model with its default parameters on an earlier workbook version to measure the impact of each column on the overall score. "
   ]
  },
  {
   "cell_type": "code",
   "execution_count": 403,
   "id": "36eb99a9",
   "metadata": {},
   "outputs": [],
   "source": [
    "train_test['QualCondSum'] = train_test['OverallQual'] + train_test['OverallCond'] + train_test['KitchenQual']\n",
    "train_test['RemodTime'] = train_test['YearRemodAdd'] - train_test['YearBuilt']\n",
    "train_test['BsmtFinTypeSF1'] = train_test['BsmtFinType1'] * train_test['BsmtFinSF1']\n",
    "train_test['TotalFlrSF'] = train_test['1stFlrSF'] + train_test['2ndFlrSF']\n",
    "train_test['TotalFinSF'] = train_test['GrLivArea'] + train_test['BsmtFinSF1']\n",
    "train_test['GarageCarArea'] = train_test['GarageArea'] * train_test['GarageCars']\n",
    "train_test['TotalSF'] = train_test['1stFlrSF'] + train_test['2ndFlrSF'] + train_test['TotalBsmtSF']"
   ]
  },
  {
   "cell_type": "code",
   "execution_count": 404,
   "id": "505ab611",
   "metadata": {},
   "outputs": [],
   "source": [
    "Features = ['TotalBsmtSF', 'CentralAir', '2ndFlrSF', 'Fireplaces', 'GarageArea', 'WoodDeckSF', 'PoolArea', 'MiscVal']\n",
    "train_test['Features'] = train_test[Features].gt(0).sum(axis=1)\n",
    "\n",
    "train_test['MedNhbdArea'] = (train_test.groupby('Neighborhood')['GrLivArea'].transform('median'))  "
   ]
  },
  {
   "cell_type": "markdown",
   "id": "b96d02a2",
   "metadata": {},
   "source": [
    "To use K-Means to create a new feature. First to identify the features to measure against, then to scale them down, and then run the K-means operation."
   ]
  },
  {
   "cell_type": "code",
   "execution_count": 405,
   "id": "c152e140",
   "metadata": {},
   "outputs": [],
   "source": [
    "space = ['LotArea', 'TotalBsmtSF', '1stFlrSF', '2ndFlrSF', 'GrLivArea', 'GarageArea']\n",
    "\n",
    "train_test_scaled = train_test.loc[:, space]\n",
    "train_test_scaled = (train_test_scaled - train_test_scaled.mean(axis=0)) / train_test_scaled.std(axis=0)\n",
    "\n",
    "kmeans = KMeans(n_clusters=10, random_state=0)\n",
    "train_test['Cluster'] = kmeans.fit_predict(train_test_scaled)"
   ]
  },
  {
   "cell_type": "markdown",
   "id": "c1fb7a96",
   "metadata": {},
   "source": [
    "To create a K-means cluster distance feature from the space features above to create 10 new Centroid features. "
   ]
  },
  {
   "cell_type": "code",
   "execution_count": 406,
   "id": "5d7ecdbc",
   "metadata": {},
   "outputs": [],
   "source": [
    "train_test_cd = kmeans.fit_transform(train_test_scaled)\n",
    "\n",
    "train_test_cd = pd.DataFrame(train_test_cd, columns=[f\"Centroid_{i}\" for i in range(train_test_cd.shape[1])])\n",
    "train_test = train_test.join(train_test_cd)"
   ]
  },
  {
   "cell_type": "code",
   "execution_count": 407,
   "id": "3b5a1362",
   "metadata": {},
   "outputs": [
    {
     "data": {
      "text/html": [
       "<div>\n",
       "<style scoped>\n",
       "    .dataframe tbody tr th:only-of-type {\n",
       "        vertical-align: middle;\n",
       "    }\n",
       "\n",
       "    .dataframe tbody tr th {\n",
       "        vertical-align: top;\n",
       "    }\n",
       "\n",
       "    .dataframe thead th {\n",
       "        text-align: right;\n",
       "    }\n",
       "</style>\n",
       "<table border=\"1\" class=\"dataframe\">\n",
       "  <thead>\n",
       "    <tr style=\"text-align: right;\">\n",
       "      <th></th>\n",
       "      <th>Centroid_0</th>\n",
       "      <th>Centroid_1</th>\n",
       "      <th>Centroid_2</th>\n",
       "      <th>Centroid_3</th>\n",
       "      <th>Centroid_4</th>\n",
       "      <th>Centroid_5</th>\n",
       "      <th>Centroid_6</th>\n",
       "      <th>Centroid_7</th>\n",
       "      <th>Centroid_8</th>\n",
       "      <th>Centroid_9</th>\n",
       "    </tr>\n",
       "  </thead>\n",
       "  <tbody>\n",
       "    <tr>\n",
       "      <th>0</th>\n",
       "      <td>2.805477</td>\n",
       "      <td>4.056948</td>\n",
       "      <td>2.918934</td>\n",
       "      <td>1.371359</td>\n",
       "      <td>3.092016</td>\n",
       "      <td>3.354219</td>\n",
       "      <td>2.737796</td>\n",
       "      <td>4.613459</td>\n",
       "      <td>2.630429</td>\n",
       "      <td>0.727621</td>\n",
       "    </tr>\n",
       "    <tr>\n",
       "      <th>1</th>\n",
       "      <td>4.203703</td>\n",
       "      <td>2.481990</td>\n",
       "      <td>1.163126</td>\n",
       "      <td>2.948924</td>\n",
       "      <td>0.781183</td>\n",
       "      <td>2.571052</td>\n",
       "      <td>3.407897</td>\n",
       "      <td>3.729459</td>\n",
       "      <td>1.440709</td>\n",
       "      <td>2.752441</td>\n",
       "    </tr>\n",
       "    <tr>\n",
       "      <th>2</th>\n",
       "      <td>3.536584</td>\n",
       "      <td>3.683415</td>\n",
       "      <td>3.077031</td>\n",
       "      <td>1.904208</td>\n",
       "      <td>3.041460</td>\n",
       "      <td>3.746463</td>\n",
       "      <td>2.217210</td>\n",
       "      <td>4.016120</td>\n",
       "      <td>2.690726</td>\n",
       "      <td>0.576227</td>\n",
       "    </tr>\n",
       "    <tr>\n",
       "      <th>3</th>\n",
       "      <td>3.320031</td>\n",
       "      <td>3.894243</td>\n",
       "      <td>3.161313</td>\n",
       "      <td>1.941166</td>\n",
       "      <td>3.178007</td>\n",
       "      <td>3.675633</td>\n",
       "      <td>2.500895</td>\n",
       "      <td>4.346580</td>\n",
       "      <td>2.627652</td>\n",
       "      <td>0.844579</td>\n",
       "    </tr>\n",
       "    <tr>\n",
       "      <th>4</th>\n",
       "      <td>4.968461</td>\n",
       "      <td>3.005393</td>\n",
       "      <td>4.072529</td>\n",
       "      <td>3.502604</td>\n",
       "      <td>3.319298</td>\n",
       "      <td>5.060120</td>\n",
       "      <td>1.077796</td>\n",
       "      <td>3.402015</td>\n",
       "      <td>3.517645</td>\n",
       "      <td>1.913878</td>\n",
       "    </tr>\n",
       "  </tbody>\n",
       "</table>\n",
       "</div>"
      ],
      "text/plain": [
       "   Centroid_0  Centroid_1  Centroid_2  Centroid_3  Centroid_4  Centroid_5  \\\n",
       "0    2.805477    4.056948    2.918934    1.371359    3.092016    3.354219   \n",
       "1    4.203703    2.481990    1.163126    2.948924    0.781183    2.571052   \n",
       "2    3.536584    3.683415    3.077031    1.904208    3.041460    3.746463   \n",
       "3    3.320031    3.894243    3.161313    1.941166    3.178007    3.675633   \n",
       "4    4.968461    3.005393    4.072529    3.502604    3.319298    5.060120   \n",
       "\n",
       "   Centroid_6  Centroid_7  Centroid_8  Centroid_9  \n",
       "0    2.737796    4.613459    2.630429    0.727621  \n",
       "1    3.407897    3.729459    1.440709    2.752441  \n",
       "2    2.217210    4.016120    2.690726    0.576227  \n",
       "3    2.500895    4.346580    2.627652    0.844579  \n",
       "4    1.077796    3.402015    3.517645    1.913878  "
      ]
     },
     "execution_count": 407,
     "metadata": {},
     "output_type": "execute_result"
    }
   ],
   "source": [
    "train_test_cd.head()"
   ]
  },
  {
   "cell_type": "markdown",
   "id": "6fd21a00",
   "metadata": {},
   "source": [
    "To set up the Principle Component Analysis Function"
   ]
  },
  {
   "cell_type": "code",
   "execution_count": 408,
   "id": "ffca40b2",
   "metadata": {},
   "outputs": [],
   "source": [
    "def apply_pca(X, standardize=True):\n",
    "    # Standardize\n",
    "    if standardize:\n",
    "        X = (X - X.mean(axis=0)) / X.std(axis=0)\n",
    "    # Create principal components\n",
    "    pca = PCA()\n",
    "    X_pca = pca.fit_transform(X)\n",
    "    # Convert to dataframe\n",
    "    component_names = [f\"PC{i+1}\" for i in range(X_pca.shape[1])]\n",
    "    X_pca = pd.DataFrame(X_pca, columns=component_names)\n",
    "    # Create loadings\n",
    "    loadings = pd.DataFrame(\n",
    "        pca.components_.T,  # transpose the matrix of loadings\n",
    "        columns=component_names,  # so the columns are the principal components\n",
    "        index=X.columns,  # and the rows are the original features\n",
    "    )\n",
    "    return pca, X_pca, loadings"
   ]
  },
  {
   "cell_type": "code",
   "execution_count": 409,
   "id": "2bafa7c4",
   "metadata": {},
   "outputs": [
    {
     "name": "stdout",
     "output_type": "stream",
     "text": [
      "                   PC1       PC2       PC3       PC4       PC5\n",
      "OverallQual   0.537033  0.130036  0.056504 -0.106121 -0.824762\n",
      "Neighborhood  0.229456 -0.968511 -0.017691 -0.094679  0.007677\n",
      "GrLivArea     0.477156  0.184109 -0.468866 -0.608047  0.385836\n",
      "GarageArea    0.483240  0.045932 -0.339726  0.780826  0.198156\n",
      "KitchenQual  -0.444687 -0.095239 -0.813170  0.019067 -0.362731\n"
     ]
    }
   ],
   "source": [
    "pca_features = ['OverallQual', 'Neighborhood', 'GrLivArea', 'GarageArea', 'KitchenQual']\n",
    "\n",
    "pca, X_pca, loadings = apply_pca(train_test[pca_features])\n",
    "print(loadings)"
   ]
  },
  {
   "cell_type": "code",
   "execution_count": 410,
   "id": "ac140051",
   "metadata": {},
   "outputs": [
    {
     "name": "stdout",
     "output_type": "stream",
     "text": [
      "                   PC1       PC2       PC3       PC4       PC5       PC6  \\\n",
      "OverallQual   0.434180 -0.072700  0.008969  0.129446  0.324256 -0.015019   \n",
      "Neighborhood  0.150541  0.590865 -0.779603 -0.074241  0.088942 -0.070357   \n",
      "GrLivArea     0.350983  0.335006  0.412273  0.088996  0.617178 -0.026382   \n",
      "GarageArea    0.383047  0.115635  0.089148 -0.308257 -0.245647  0.811864   \n",
      "YearBuilt     0.365493 -0.467402 -0.223303 -0.355340 -0.054683 -0.136110   \n",
      "KitchenQual  -0.337976  0.078467  0.109071 -0.833750  0.346380 -0.087019   \n",
      "BsmtQual      0.402110 -0.376713 -0.160681 -0.104154  0.111008 -0.248124   \n",
      "1stFlrSF      0.330765  0.391737  0.355870 -0.206242 -0.557140 -0.497334   \n",
      "\n",
      "                   PC7       PC8  \n",
      "OverallQual  -0.782897  0.266590  \n",
      "Neighborhood  0.036300 -0.027311  \n",
      "GrLivArea     0.335537 -0.304143  \n",
      "GarageArea    0.072139  0.110738  \n",
      "YearBuilt    -0.062751 -0.668106  \n",
      "KitchenQual  -0.128761  0.168668  \n",
      "BsmtQual      0.489908  0.588074  \n",
      "1stFlrSF     -0.086245  0.052660  \n"
     ]
    }
   ],
   "source": [
    "pca_8_features = ['OverallQual', 'Neighborhood', 'GrLivArea', 'GarageArea', 'YearBuilt', 'KitchenQual', \n",
    "                'BsmtQual', '1stFlrSF']\n",
    "\n",
    "pca, X_pca, loadings = apply_pca(train_test[pca_8_features])\n",
    "print(loadings)"
   ]
  },
  {
   "cell_type": "code",
   "execution_count": null,
   "id": "993672d5",
   "metadata": {},
   "outputs": [],
   "source": []
  },
  {
   "cell_type": "code",
   "execution_count": 366,
   "id": "5e2274cf",
   "metadata": {},
   "outputs": [],
   "source": [
    "#train_test = train_test.join(X_pca)"
   ]
  },
  {
   "cell_type": "code",
   "execution_count": 367,
   "id": "53575ded",
   "metadata": {},
   "outputs": [
    {
     "data": {
      "text/html": [
       "<div>\n",
       "<style scoped>\n",
       "    .dataframe tbody tr th:only-of-type {\n",
       "        vertical-align: middle;\n",
       "    }\n",
       "\n",
       "    .dataframe tbody tr th {\n",
       "        vertical-align: top;\n",
       "    }\n",
       "\n",
       "    .dataframe thead th {\n",
       "        text-align: right;\n",
       "    }\n",
       "</style>\n",
       "<table border=\"1\" class=\"dataframe\">\n",
       "  <thead>\n",
       "    <tr style=\"text-align: right;\">\n",
       "      <th></th>\n",
       "      <th>Id</th>\n",
       "      <th>MSSubClass</th>\n",
       "      <th>MSZoning</th>\n",
       "      <th>LotFrontage</th>\n",
       "      <th>LotArea</th>\n",
       "      <th>Street</th>\n",
       "      <th>Alley</th>\n",
       "      <th>LotShape</th>\n",
       "      <th>LandContour</th>\n",
       "      <th>Utilities</th>\n",
       "      <th>...</th>\n",
       "      <th>Centroid_8</th>\n",
       "      <th>Centroid_9</th>\n",
       "      <th>PC1</th>\n",
       "      <th>PC2</th>\n",
       "      <th>PC3</th>\n",
       "      <th>PC4</th>\n",
       "      <th>PC5</th>\n",
       "      <th>PC6</th>\n",
       "      <th>PC7</th>\n",
       "      <th>PC8</th>\n",
       "    </tr>\n",
       "  </thead>\n",
       "  <tbody>\n",
       "    <tr>\n",
       "      <th>0</th>\n",
       "      <td>1</td>\n",
       "      <td>2.664197</td>\n",
       "      <td>3</td>\n",
       "      <td>15.967598</td>\n",
       "      <td>17.222845</td>\n",
       "      <td>1</td>\n",
       "      <td>1</td>\n",
       "      <td>3</td>\n",
       "      <td>3</td>\n",
       "      <td>0</td>\n",
       "      <td>...</td>\n",
       "      <td>2.630429</td>\n",
       "      <td>0.727621</td>\n",
       "      <td>0.960533</td>\n",
       "      <td>-1.606602</td>\n",
       "      <td>0.594178</td>\n",
       "      <td>0.173491</td>\n",
       "      <td>0.647924</td>\n",
       "      <td>0.512502</td>\n",
       "      <td>0.025688</td>\n",
       "      <td>-0.367022</td>\n",
       "    </tr>\n",
       "    <tr>\n",
       "      <th>1</th>\n",
       "      <td>2</td>\n",
       "      <td>2.192747</td>\n",
       "      <td>3</td>\n",
       "      <td>18.053783</td>\n",
       "      <td>17.639401</td>\n",
       "      <td>1</td>\n",
       "      <td>1</td>\n",
       "      <td>3</td>\n",
       "      <td>3</td>\n",
       "      <td>0</td>\n",
       "      <td>...</td>\n",
       "      <td>1.440709</td>\n",
       "      <td>2.752441</td>\n",
       "      <td>0.265310</td>\n",
       "      <td>0.936850</td>\n",
       "      <td>-1.572727</td>\n",
       "      <td>-1.002519</td>\n",
       "      <td>0.049585</td>\n",
       "      <td>-0.699815</td>\n",
       "      <td>0.141590</td>\n",
       "      <td>0.442192</td>\n",
       "    </tr>\n",
       "    <tr>\n",
       "      <th>2</th>\n",
       "      <td>3</td>\n",
       "      <td>2.664197</td>\n",
       "      <td>3</td>\n",
       "      <td>16.400996</td>\n",
       "      <td>18.166915</td>\n",
       "      <td>1</td>\n",
       "      <td>1</td>\n",
       "      <td>0</td>\n",
       "      <td>3</td>\n",
       "      <td>0</td>\n",
       "      <td>...</td>\n",
       "      <td>2.690726</td>\n",
       "      <td>0.576227</td>\n",
       "      <td>1.196566</td>\n",
       "      <td>-1.400557</td>\n",
       "      <td>0.776728</td>\n",
       "      <td>0.050736</td>\n",
       "      <td>0.519023</td>\n",
       "      <td>0.698819</td>\n",
       "      <td>0.081171</td>\n",
       "      <td>-0.311566</td>\n",
       "    </tr>\n",
       "    <tr>\n",
       "      <th>3</th>\n",
       "      <td>4</td>\n",
       "      <td>2.722440</td>\n",
       "      <td>3</td>\n",
       "      <td>15.224624</td>\n",
       "      <td>17.622217</td>\n",
       "      <td>1</td>\n",
       "      <td>1</td>\n",
       "      <td>0</td>\n",
       "      <td>3</td>\n",
       "      <td>0</td>\n",
       "      <td>...</td>\n",
       "      <td>2.627652</td>\n",
       "      <td>0.844579</td>\n",
       "      <td>-0.289799</td>\n",
       "      <td>0.577144</td>\n",
       "      <td>1.516000</td>\n",
       "      <td>1.091104</td>\n",
       "      <td>0.338788</td>\n",
       "      <td>1.506363</td>\n",
       "      <td>-0.444203</td>\n",
       "      <td>0.840333</td>\n",
       "    </tr>\n",
       "    <tr>\n",
       "      <th>4</th>\n",
       "      <td>5</td>\n",
       "      <td>2.664197</td>\n",
       "      <td>3</td>\n",
       "      <td>18.579309</td>\n",
       "      <td>18.976034</td>\n",
       "      <td>1</td>\n",
       "      <td>1</td>\n",
       "      <td>0</td>\n",
       "      <td>3</td>\n",
       "      <td>0</td>\n",
       "      <td>...</td>\n",
       "      <td>3.517645</td>\n",
       "      <td>1.913878</td>\n",
       "      <td>2.598619</td>\n",
       "      <td>0.157085</td>\n",
       "      <td>0.080754</td>\n",
       "      <td>-0.380072</td>\n",
       "      <td>0.653756</td>\n",
       "      <td>1.077821</td>\n",
       "      <td>-0.180042</td>\n",
       "      <td>-0.186823</td>\n",
       "    </tr>\n",
       "  </tbody>\n",
       "</table>\n",
       "<p>5 rows × 109 columns</p>\n",
       "</div>"
      ],
      "text/plain": [
       "   Id  MSSubClass  MSZoning  LotFrontage    LotArea  Street  Alley  LotShape  \\\n",
       "0   1    2.664197         3    15.967598  17.222845       1      1         3   \n",
       "1   2    2.192747         3    18.053783  17.639401       1      1         3   \n",
       "2   3    2.664197         3    16.400996  18.166915       1      1         0   \n",
       "3   4    2.722440         3    15.224624  17.622217       1      1         0   \n",
       "4   5    2.664197         3    18.579309  18.976034       1      1         0   \n",
       "\n",
       "   LandContour  Utilities  ...  Centroid_8  Centroid_9       PC1       PC2  \\\n",
       "0            3          0  ...    2.630429    0.727621  0.960533 -1.606602   \n",
       "1            3          0  ...    1.440709    2.752441  0.265310  0.936850   \n",
       "2            3          0  ...    2.690726    0.576227  1.196566 -1.400557   \n",
       "3            3          0  ...    2.627652    0.844579 -0.289799  0.577144   \n",
       "4            3          0  ...    3.517645    1.913878  2.598619  0.157085   \n",
       "\n",
       "        PC3       PC4       PC5       PC6       PC7       PC8  \n",
       "0  0.594178  0.173491  0.647924  0.512502  0.025688 -0.367022  \n",
       "1 -1.572727 -1.002519  0.049585 -0.699815  0.141590  0.442192  \n",
       "2  0.776728  0.050736  0.519023  0.698819  0.081171 -0.311566  \n",
       "3  1.516000  1.091104  0.338788  1.506363 -0.444203  0.840333  \n",
       "4  0.080754 -0.380072  0.653756  1.077821 -0.180042 -0.186823  \n",
       "\n",
       "[5 rows x 109 columns]"
      ]
     },
     "execution_count": 367,
     "metadata": {},
     "output_type": "execute_result"
    }
   ],
   "source": [
    "train_test.head()"
   ]
  },
  {
   "cell_type": "code",
   "execution_count": 411,
   "id": "a11e95ca",
   "metadata": {},
   "outputs": [],
   "source": [
    "train_test['Neighbor_or_YearBlt'] = train_test['Neighborhood'] * train_test['YearBuilt']\n",
    "train_test['GrLivArea_or_1stFlrSF'] = train_test['GrLivArea'] * train_test['1stFlrSF']\n",
    "train_test['YearBlt_or_BsmtQual'] = train_test['YearBuilt'] * train_test['BsmtQual']\n",
    "train_test['BrLivArea_or_GarageArea'] = train_test['GrLivArea'] * train_test['GarageArea']\n"
   ]
  },
  {
   "cell_type": "markdown",
   "id": "48390e60",
   "metadata": {},
   "source": [
    "To create a column with the log of the SalePrice to match the evaluation metric in the contest. "
   ]
  },
  {
   "cell_type": "code",
   "execution_count": 412,
   "id": "77ad85f3",
   "metadata": {},
   "outputs": [],
   "source": [
    "train_test['LogSalePrice'] = train_test['SalePrice'].apply(np.log)"
   ]
  },
  {
   "cell_type": "markdown",
   "id": "423bcc24",
   "metadata": {},
   "source": [
    "#  Setting Up and Running the Models"
   ]
  },
  {
   "cell_type": "markdown",
   "id": "1baca8c9",
   "metadata": {},
   "source": [
    "To separate the train_test dataset back into the train and test datasets and identify the independent and dependent columns. Because the dataset is so small, the cross fold validation process seemed to have much less overfitting than creating the separate validation and training sets. "
   ]
  },
  {
   "cell_type": "code",
   "execution_count": 413,
   "id": "c5bba200",
   "metadata": {},
   "outputs": [],
   "source": [
    "train = train_test[train_test['SalePrice'].notnull()].copy()\n",
    "test = train_test[train_test['SalePrice'].isnull()].drop(['SalePrice','LogSalePrice'],axis=1)\n",
    "X = train.drop(['SalePrice','LogSalePrice'],axis=1)\n",
    "y = train.LogSalePrice"
   ]
  },
  {
   "cell_type": "code",
   "execution_count": 414,
   "id": "039b618c",
   "metadata": {},
   "outputs": [],
   "source": [
    "X,y = shuffle(X,y, random_state=42)\n",
    "X = X.reset_index(drop=True)\n",
    "y = y.reset_index(drop=True)"
   ]
  },
  {
   "cell_type": "code",
   "execution_count": 415,
   "id": "52aa3b55",
   "metadata": {},
   "outputs": [
    {
     "data": {
      "text/plain": [
       "(1460, 104)"
      ]
     },
     "execution_count": 415,
     "metadata": {},
     "output_type": "execute_result"
    }
   ],
   "source": [
    "X.shape"
   ]
  },
  {
   "cell_type": "markdown",
   "id": "8e47870c",
   "metadata": {},
   "source": [
    "To set up matplot parameters"
   ]
  },
  {
   "cell_type": "code",
   "execution_count": 416,
   "id": "6a5e30a3",
   "metadata": {},
   "outputs": [],
   "source": [
    "Xy = X.copy()\n",
    "Xy['Cluster'] = Xy.Cluster.astype(\"category\")\n",
    "Xy[\"LogSalePrice\"] = y\n",
    "sns.relplot(\n",
    "    x=\"value\", y='LogSalePrice', hue='Cluster', col=\"variable\",\n",
    "    height=4, aspect=1, facet_kws={'sharex': False}, col_wrap=3,\n",
    "    data=Xy.melt(\n",
    "        value_vars=space, id_vars=['LogSalePrice', 'Cluster'],\n",
    "    ),\n",
    ");"
   ]
  },
  {
   "cell_type": "markdown",
   "id": "47fa5501",
   "metadata": {},
   "source": [
    "To set up the functions for Mutual Information scores."
   ]
  },
  {
   "cell_type": "code",
   "execution_count": 417,
   "id": "b4786fba",
   "metadata": {},
   "outputs": [],
   "source": [
    "discrete_features = X.dtypes == int\n",
    "\n",
    "def mi_scores(X, y, discrete_features):\n",
    "    mi_scores = mutual_info_regression(X, y, discrete_features=discrete_features)\n",
    "    mi_scores = pd.Series(mi_scores, name=\"MI Scores\", index=X.columns)\n",
    "    mi_scores = mi_scores.sort_values(ascending=False)\n",
    "    return mi_scores"
   ]
  },
  {
   "cell_type": "code",
   "execution_count": 418,
   "id": "c92f12c4",
   "metadata": {},
   "outputs": [
    {
     "data": {
      "text/plain": [
       "pandas.core.frame.DataFrame"
      ]
     },
     "execution_count": 418,
     "metadata": {},
     "output_type": "execute_result"
    }
   ],
   "source": [
    "type(X)"
   ]
  },
  {
   "cell_type": "code",
   "execution_count": 419,
   "id": "12eda9f4",
   "metadata": {},
   "outputs": [
    {
     "data": {
      "text/plain": [
       "Centroid_5                 0.603281\n",
       "TotalFlrSF                 0.571691\n",
       "OverallQual                0.567742\n",
       "Cluster                    0.547245\n",
       "GrLivArea_or_1stFlrSF      0.546692\n",
       "Centroid_6                 0.510210\n",
       "Neighborhood               0.499822\n",
       "Neighbor_or_YearBlt        0.486574\n",
       "GrLivArea                  0.478270\n",
       "MedNhbdArea                0.472585\n",
       "GarageCarArea              0.397313\n",
       "Centroid_3                 0.377931\n",
       "BrLivArea_or_GarageArea    0.377908\n",
       "GarageArea                 0.371306\n",
       "YearBlt_or_BsmtQual        0.365790\n",
       "YearBuilt                  0.364661\n",
       "TotalBsmtSF                0.364305\n",
       "GarageCars                 0.361493\n",
       "TotalSF                    0.356510\n",
       "Centroid_2                 0.349897\n",
       "Centroid_1                 0.348842\n",
       "Centroid_0                 0.336061\n",
       "Centroid_7                 0.328447\n",
       "ExterQual                  0.325330\n",
       "KitchenQual                0.323876\n",
       "Centroid_8                 0.311006\n",
       "BsmtQual                   0.307389\n",
       "GarageYrBlt                0.301387\n",
       "1stFlrSF                   0.297859\n",
       "MSSubClass                 0.275029\n",
       "Centroid_9                 0.266609\n",
       "GarageFinish               0.265630\n",
       "FullBath                   0.261255\n",
       "Features                   0.253775\n",
       "YearRemodAdd               0.231675\n",
       "Name: MI Scores, dtype: float64"
      ]
     },
     "execution_count": 419,
     "metadata": {},
     "output_type": "execute_result"
    }
   ],
   "source": [
    "mi_scores = mi_scores(X, y, discrete_features)\n",
    "mi_scores[0:35]"
   ]
  },
  {
   "cell_type": "markdown",
   "id": "b1c2a0b5",
   "metadata": {},
   "source": [
    "To set up the function for Principle Component Analysis"
   ]
  },
  {
   "cell_type": "code",
   "execution_count": null,
   "id": "c6766f68",
   "metadata": {},
   "outputs": [],
   "source": []
  },
  {
   "cell_type": "code",
   "execution_count": null,
   "id": "419478ac",
   "metadata": {},
   "outputs": [],
   "source": []
  },
  {
   "cell_type": "code",
   "execution_count": null,
   "id": "d14b4d7b",
   "metadata": {},
   "outputs": [],
   "source": []
  },
  {
   "cell_type": "markdown",
   "id": "34d28dd1",
   "metadata": {},
   "source": [
    "To set up the cross validation folds."
   ]
  },
  {
   "cell_type": "code",
   "execution_count": 420,
   "id": "15938fbe",
   "metadata": {},
   "outputs": [],
   "source": [
    "kf = KFold(n_splits=12, random_state=42, shuffle=True)"
   ]
  },
  {
   "cell_type": "markdown",
   "id": "b9ef82ec",
   "metadata": {},
   "source": [
    "In a separate workbook, Optuna (https://optuna.org/) was used to find the optimal parameters for a wide selection of regression models. It was interesting that the results using Optuna on this dataset were not significantly better than using the default parameters for most of the models. "
   ]
  },
  {
   "cell_type": "code",
   "execution_count": 421,
   "id": "8f3e93ea",
   "metadata": {},
   "outputs": [],
   "source": [
    "cat_model = CatBoostRegressor(colsample_bylevel= 0.08309602563537534, learning_rate= 0.08286145675756133, depth= 4, \n",
    "                              l2_leaf_reg= 14.555249413444315, subsample= 0.9097411584295835, \n",
    "                              bagging_temperature= 3.177590955252409, model_size_reg= 0.3808343022980778, \n",
    "                              boosting_type= 'Plain', verbose=False, random_state=42)"
   ]
  },
  {
   "cell_type": "markdown",
   "id": "851c2b84",
   "metadata": {},
   "source": [
    "To define the scoring metric. "
   ]
  },
  {
   "cell_type": "code",
   "execution_count": 422,
   "id": "44fd6059",
   "metadata": {},
   "outputs": [],
   "source": [
    "def rmse_cv(model,X,y):\n",
    "    rmse = np.sqrt(-cross_val_score(model, X, y, scoring=\"neg_mean_squared_error\", cv=kf))\n",
    "    return rmse"
   ]
  },
  {
   "cell_type": "code",
   "execution_count": 423,
   "id": "7f5256ad",
   "metadata": {},
   "outputs": [
    {
     "name": "stdout",
     "output_type": "stream",
     "text": [
      "0.11700880869696308\n"
     ]
    }
   ],
   "source": [
    "print(rmse_cv(cat_model,X,y).mean())"
   ]
  },
  {
   "cell_type": "code",
   "execution_count": null,
   "id": "675955f6",
   "metadata": {},
   "outputs": [],
   "source": []
  },
  {
   "cell_type": "markdown",
   "id": "3ab20e20",
   "metadata": {},
   "source": [
    "Base score for CatBoost = 0.12337\n",
    "\n",
    "With features Features and MedNhbdArea = 0.12058\n",
    "\n",
    "With feature Cluster = 0.12061\n",
    "\n",
    "With 10 new Centroid features = 0.11888\n",
    "\n",
    "With the PCA features = 0.11701 Kaggle = 0.12557\n",
    "\n",
    "With PCA features and PCA components = 0.1173 Kaggle = 0.12695"
   ]
  },
  {
   "cell_type": "code",
   "execution_count": 424,
   "id": "eaf27bdd",
   "metadata": {},
   "outputs": [],
   "source": [
    "submit = test[['Id']]\n",
    "submit = submit.reset_index(drop=True)"
   ]
  },
  {
   "cell_type": "code",
   "execution_count": 425,
   "id": "a195babe",
   "metadata": {},
   "outputs": [
    {
     "data": {
      "text/plain": [
       "<catboost.core.CatBoostRegressor at 0x2b6046f48e0>"
      ]
     },
     "execution_count": 425,
     "metadata": {},
     "output_type": "execute_result"
    }
   ],
   "source": [
    "cat_model.fit(X,y)"
   ]
  },
  {
   "cell_type": "code",
   "execution_count": 426,
   "id": "444f08d1",
   "metadata": {},
   "outputs": [],
   "source": [
    "submit_predict = cat_model.predict(test)\n",
    "submit_predict = np.exp(submit_predict)"
   ]
  },
  {
   "cell_type": "code",
   "execution_count": 427,
   "id": "0342d3fb",
   "metadata": {},
   "outputs": [],
   "source": [
    "submit['SalePrice'] = submit_predict"
   ]
  },
  {
   "cell_type": "code",
   "execution_count": 428,
   "id": "395cc685",
   "metadata": {},
   "outputs": [],
   "source": [
    "submit.to_csv('submit_cat_more_features.csv', index=False)"
   ]
  },
  {
   "cell_type": "code",
   "execution_count": null,
   "id": "9e90f94b",
   "metadata": {},
   "outputs": [],
   "source": []
  }
 ],
 "metadata": {
  "kernelspec": {
   "display_name": "Python 3 (ipykernel)",
   "language": "python",
   "name": "python3"
  },
  "language_info": {
   "codemirror_mode": {
    "name": "ipython",
    "version": 3
   },
   "file_extension": ".py",
   "mimetype": "text/x-python",
   "name": "python",
   "nbconvert_exporter": "python",
   "pygments_lexer": "ipython3",
   "version": "3.9.13"
  }
 },
 "nbformat": 4,
 "nbformat_minor": 5
}
