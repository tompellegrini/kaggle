{
 "cells": [
  {
   "cell_type": "code",
   "execution_count": 4,
   "id": "2c729565",
   "metadata": {
    "_cell_guid": "b1076dfc-b9ad-4769-8c92-a6c4dae69d19",
    "_uuid": "8f2839f25d086af736a60e9eeb907d3b93b6e0e5",
    "execution": {
     "iopub.execute_input": "2023-01-20T23:46:52.788586Z",
     "iopub.status.busy": "2023-01-20T23:46:52.787085Z",
     "iopub.status.idle": "2023-01-20T23:46:53.769330Z",
     "shell.execute_reply": "2023-01-20T23:46:53.768705Z",
     "shell.execute_reply.started": "2023-01-20T23:05:36.302339Z"
    },
    "papermill": {
     "duration": 1.041756,
     "end_time": "2023-01-20T23:46:53.769505",
     "exception": false,
     "start_time": "2023-01-20T23:46:52.727749",
     "status": "completed"
    },
    "tags": []
   },
   "outputs": [],
   "source": [
    "import numpy as np \n",
    "import pandas as pd \n",
    "import matplotlib.pyplot as plt\n",
    "\n",
    "import seaborn as sns\n",
    "\n",
    "from sklearn.metrics import mean_squared_error\n",
    "from sklearn.metrics import mean_squared_log_error\n",
    "color_pal = sns.color_palette()\n",
    "plt.style.use('fivethirtyeight')"
   ]
  },
  {
   "cell_type": "code",
   "execution_count": 2,
   "id": "f25906f1",
   "metadata": {
    "execution": {
     "iopub.execute_input": "2023-01-20T23:46:53.882121Z",
     "iopub.status.busy": "2023-01-20T23:46:53.881238Z",
     "iopub.status.idle": "2023-01-20T23:46:57.191278Z",
     "shell.execute_reply": "2023-01-20T23:46:57.190385Z",
     "shell.execute_reply.started": "2023-01-20T23:05:37.261250Z"
    },
    "papermill": {
     "duration": 3.367617,
     "end_time": "2023-01-20T23:46:57.191426",
     "exception": false,
     "start_time": "2023-01-20T23:46:53.823809",
     "status": "completed"
    },
    "tags": []
   },
   "outputs": [],
   "source": [
    "train_df = pd.read_csv('train.csv',index_col='id')\n",
    "test_df = pd.read_csv('test.csv',index_col='id')"
   ]
  },
  {
   "cell_type": "code",
   "execution_count": 5,
   "id": "74e9aafe",
   "metadata": {
    "execution": {
     "iopub.execute_input": "2023-01-20T23:46:57.683722Z",
     "iopub.status.busy": "2023-01-20T23:46:57.682956Z",
     "iopub.status.idle": "2023-01-20T23:47:11.929045Z",
     "shell.execute_reply": "2023-01-20T23:47:11.928500Z",
     "shell.execute_reply.started": "2023-01-20T23:05:40.061013Z"
    },
    "papermill": {
     "duration": 14.447539,
     "end_time": "2023-01-20T23:47:11.929199",
     "exception": false,
     "start_time": "2023-01-20T23:46:57.481660",
     "status": "completed"
    },
    "tags": []
   },
   "outputs": [],
   "source": [
    "#change date datatype as datetime\n",
    "train_df.date = pd.to_datetime(train_df.date)\n",
    "test_df.date= pd.to_datetime(test_df.date)\n",
    "\n",
    "train_df['year'] = train_df.date.dt.year\n",
    "test_df['year'] = test_df.date.dt.year\n",
    "\n",
    "train_df['month'] = train_df.date.dt.month\n",
    "test_df['month'] = test_df.date.dt.month\n",
    "\n",
    "train_df['dayofmonth'] = train_df.date.dt.day\n",
    "test_df['dayofmonth'] = test_df.date.dt.day\n",
    "\n",
    "train_df['dayofweek'] = train_df.date.dt.dayofweek\n",
    "test_df['dayofweek'] = test_df.date.dt.dayofweek\n",
    "\n",
    "train_df['dayname'] = train_df.date.dt.strftime('%A')\n",
    "test_df['dayname'] = test_df.date.dt.strftime('%A')"
   ]
  },
  {
   "cell_type": "code",
   "execution_count": 6,
   "id": "49481369",
   "metadata": {
    "execution": {
     "iopub.execute_input": "2023-01-20T23:47:45.187058Z",
     "iopub.status.busy": "2023-01-20T23:47:45.186100Z",
     "iopub.status.idle": "2023-01-20T23:47:45.412240Z",
     "shell.execute_reply": "2023-01-20T23:47:45.412707Z",
     "shell.execute_reply.started": "2023-01-20T23:06:25.088568Z"
    },
    "papermill": {
     "duration": 0.319879,
     "end_time": "2023-01-20T23:47:45.412883",
     "exception": false,
     "start_time": "2023-01-20T23:47:45.093004",
     "status": "completed"
    },
    "tags": []
   },
   "outputs": [
    {
     "name": "stdout",
     "output_type": "stream",
     "text": [
      "date           0\n",
      "store_nbr      0\n",
      "family         0\n",
      "sales          0\n",
      "onpromotion    0\n",
      "year           0\n",
      "month          0\n",
      "dayofmonth     0\n",
      "dayofweek      0\n",
      "dayname        0\n",
      "dtype: int64\n",
      "date           0\n",
      "store_nbr      0\n",
      "family         0\n",
      "onpromotion    0\n",
      "year           0\n",
      "month          0\n",
      "dayofmonth     0\n",
      "dayofweek      0\n",
      "dayname        0\n",
      "dtype: int64\n"
     ]
    }
   ],
   "source": [
    "print(train_df.isna().sum())\n",
    "print(test_df.isna().sum())"
   ]
  },
  {
   "cell_type": "code",
   "execution_count": 7,
   "id": "797fc450",
   "metadata": {
    "execution": {
     "iopub.execute_input": "2023-01-20T23:47:51.082817Z",
     "iopub.status.busy": "2023-01-20T23:47:51.082034Z",
     "iopub.status.idle": "2023-01-20T23:47:51.315970Z",
     "shell.execute_reply": "2023-01-20T23:47:51.316451Z",
     "shell.execute_reply.started": "2023-01-20T23:06:28.451903Z"
    },
    "papermill": {
     "duration": 0.339143,
     "end_time": "2023-01-20T23:47:51.316639",
     "exception": false,
     "start_time": "2023-01-20T23:47:50.977496",
     "status": "completed"
    },
    "tags": []
   },
   "outputs": [],
   "source": [
    "oil = pd.read_csv('oil.csv',index_col='date')\n",
    "#filling missing data\n",
    "oil = oil.interpolate(method='linear')\n",
    "#the first row is still missing the value\n",
    "oil.iloc[0] = oil.iloc[1]\n"
   ]
  },
  {
   "cell_type": "code",
   "execution_count": 8,
   "id": "dcee8a03",
   "metadata": {
    "execution": {
     "iopub.execute_input": "2023-01-20T23:47:51.524657Z",
     "iopub.status.busy": "2023-01-20T23:47:51.523742Z",
     "iopub.status.idle": "2023-01-20T23:47:51.560992Z",
     "shell.execute_reply": "2023-01-20T23:47:51.560462Z",
     "shell.execute_reply.started": "2023-01-20T23:06:28.668472Z"
    },
    "papermill": {
     "duration": 0.141789,
     "end_time": "2023-01-20T23:47:51.561135",
     "exception": false,
     "start_time": "2023-01-20T23:47:51.419346",
     "status": "completed"
    },
    "tags": []
   },
   "outputs": [],
   "source": [
    "import datetime\n",
    "\n",
    "#some days are skipped. Filling up the gap.\n",
    "\n",
    "start_date = train_df.date.min() \n",
    "# from beggining of the train date and the end of test date\n",
    "number_of_days = 1704 #1703\n",
    "date_list = [(start_date + datetime.timedelta(days = day)).isoformat() for day in range(number_of_days)]\n",
    "\n",
    "date = (pd.Series(date_list)).to_frame()\n",
    "date.columns = ['date']\n",
    "date.date = pd.to_datetime(date.date)\n",
    "date['date_str'] = date.date.astype(str)\n",
    "oil['date_str'] = oil.index.astype(str)\n",
    "\n",
    "oil = pd.merge(date,oil,how='left',on='date_str')\n",
    "\n"
   ]
  },
  {
   "cell_type": "code",
   "execution_count": 9,
   "id": "9a71ed43",
   "metadata": {
    "execution": {
     "iopub.execute_input": "2023-01-20T23:47:52.212165Z",
     "iopub.status.busy": "2023-01-20T23:47:52.210948Z",
     "iopub.status.idle": "2023-01-20T23:47:52.214598Z",
     "shell.execute_reply": "2023-01-20T23:47:52.214172Z",
     "shell.execute_reply.started": "2023-01-20T23:06:28.957102Z"
    },
    "papermill": {
     "duration": 0.107978,
     "end_time": "2023-01-20T23:47:52.214715",
     "exception": false,
     "start_time": "2023-01-20T23:47:52.106737",
     "status": "completed"
    },
    "tags": []
   },
   "outputs": [],
   "source": [
    "oil = oil.set_index('date').dcoilwtico.interpolate(method='linear').to_frame()\n",
    "oil['date_str'] = oil.index.astype(str)"
   ]
  },
  {
   "cell_type": "code",
   "execution_count": 10,
   "id": "e98e889d",
   "metadata": {
    "execution": {
     "iopub.execute_input": "2023-01-20T23:47:52.639164Z",
     "iopub.status.busy": "2023-01-20T23:47:52.638278Z",
     "iopub.status.idle": "2023-01-20T23:48:07.711645Z",
     "shell.execute_reply": "2023-01-20T23:48:07.711147Z",
     "shell.execute_reply.started": "2023-01-20T23:06:28.984045Z"
    },
    "papermill": {
     "duration": 15.175646,
     "end_time": "2023-01-20T23:48:07.711787",
     "exception": false,
     "start_time": "2023-01-20T23:47:52.536141",
     "status": "completed"
    },
    "tags": []
   },
   "outputs": [],
   "source": [
    "# add oil price to the train date\n",
    "train_df['date_str'] = train_df.date.astype(str)\n",
    "\n",
    "train_df = pd.merge(train_df,oil,how='left',on='date_str')\n",
    "train_df.drop(columns='date_str',axis=1,inplace=True)\n"
   ]
  },
  {
   "cell_type": "code",
   "execution_count": 11,
   "id": "9ed2d5de",
   "metadata": {
    "execution": {
     "iopub.execute_input": "2023-01-20T23:48:07.913593Z",
     "iopub.status.busy": "2023-01-20T23:48:07.912750Z",
     "iopub.status.idle": "2023-01-20T23:48:08.049861Z",
     "shell.execute_reply": "2023-01-20T23:48:08.049361Z",
     "shell.execute_reply.started": "2023-01-20T23:06:43.479196Z"
    },
    "papermill": {
     "duration": 0.240721,
     "end_time": "2023-01-20T23:48:08.050009",
     "exception": false,
     "start_time": "2023-01-20T23:48:07.809288",
     "status": "completed"
    },
    "tags": []
   },
   "outputs": [],
   "source": [
    "test_df['date_str'] = test_df.date.astype(str)\n",
    "test_df = pd.merge(test_df,oil,how='left', on='date_str')\n",
    "\n",
    "test_df.drop(columns='date_str',axis=1,inplace=True)"
   ]
  },
  {
   "cell_type": "code",
   "execution_count": 13,
   "id": "f89c2e7c",
   "metadata": {
    "execution": {
     "iopub.execute_input": "2023-01-20T23:48:09.373673Z",
     "iopub.status.busy": "2023-01-20T23:48:09.373061Z",
     "iopub.status.idle": "2023-01-20T23:48:10.343104Z",
     "shell.execute_reply": "2023-01-20T23:48:10.342263Z",
     "shell.execute_reply.started": "2023-01-20T23:06:44.157754Z"
    },
    "papermill": {
     "duration": 1.075317,
     "end_time": "2023-01-20T23:48:10.343245",
     "exception": false,
     "start_time": "2023-01-20T23:48:09.267928",
     "status": "completed"
    },
    "tags": []
   },
   "outputs": [],
   "source": [
    "stores = pd.read_csv('stores.csv',index_col='store_nbr')\n",
    "train_df = pd.merge(train_df,stores,how='left',on='store_nbr')\n",
    "test_df = pd.merge(test_df,stores,how='left',on='store_nbr')"
   ]
  },
  {
   "cell_type": "code",
   "execution_count": 14,
   "id": "c0109bdd",
   "metadata": {},
   "outputs": [
    {
     "data": {
      "text/html": [
       "<div>\n",
       "<style scoped>\n",
       "    .dataframe tbody tr th:only-of-type {\n",
       "        vertical-align: middle;\n",
       "    }\n",
       "\n",
       "    .dataframe tbody tr th {\n",
       "        vertical-align: top;\n",
       "    }\n",
       "\n",
       "    .dataframe thead th {\n",
       "        text-align: right;\n",
       "    }\n",
       "</style>\n",
       "<table border=\"1\" class=\"dataframe\">\n",
       "  <thead>\n",
       "    <tr style=\"text-align: right;\">\n",
       "      <th></th>\n",
       "      <th>date</th>\n",
       "      <th>store_nbr</th>\n",
       "      <th>family</th>\n",
       "      <th>sales</th>\n",
       "      <th>onpromotion</th>\n",
       "      <th>year</th>\n",
       "      <th>month</th>\n",
       "      <th>dayofmonth</th>\n",
       "      <th>dayofweek</th>\n",
       "      <th>dayname</th>\n",
       "      <th>dcoilwtico</th>\n",
       "      <th>city</th>\n",
       "      <th>state</th>\n",
       "      <th>type</th>\n",
       "      <th>cluster</th>\n",
       "    </tr>\n",
       "  </thead>\n",
       "  <tbody>\n",
       "    <tr>\n",
       "      <th>0</th>\n",
       "      <td>2013-01-01</td>\n",
       "      <td>1</td>\n",
       "      <td>AUTOMOTIVE</td>\n",
       "      <td>0.000</td>\n",
       "      <td>0</td>\n",
       "      <td>2013</td>\n",
       "      <td>1</td>\n",
       "      <td>1</td>\n",
       "      <td>1</td>\n",
       "      <td>Tuesday</td>\n",
       "      <td>93.14</td>\n",
       "      <td>Quito</td>\n",
       "      <td>Pichincha</td>\n",
       "      <td>D</td>\n",
       "      <td>13</td>\n",
       "    </tr>\n",
       "    <tr>\n",
       "      <th>1</th>\n",
       "      <td>2013-01-01</td>\n",
       "      <td>1</td>\n",
       "      <td>BABY CARE</td>\n",
       "      <td>0.000</td>\n",
       "      <td>0</td>\n",
       "      <td>2013</td>\n",
       "      <td>1</td>\n",
       "      <td>1</td>\n",
       "      <td>1</td>\n",
       "      <td>Tuesday</td>\n",
       "      <td>93.14</td>\n",
       "      <td>Quito</td>\n",
       "      <td>Pichincha</td>\n",
       "      <td>D</td>\n",
       "      <td>13</td>\n",
       "    </tr>\n",
       "    <tr>\n",
       "      <th>2</th>\n",
       "      <td>2013-01-01</td>\n",
       "      <td>1</td>\n",
       "      <td>BEAUTY</td>\n",
       "      <td>0.000</td>\n",
       "      <td>0</td>\n",
       "      <td>2013</td>\n",
       "      <td>1</td>\n",
       "      <td>1</td>\n",
       "      <td>1</td>\n",
       "      <td>Tuesday</td>\n",
       "      <td>93.14</td>\n",
       "      <td>Quito</td>\n",
       "      <td>Pichincha</td>\n",
       "      <td>D</td>\n",
       "      <td>13</td>\n",
       "    </tr>\n",
       "    <tr>\n",
       "      <th>3</th>\n",
       "      <td>2013-01-01</td>\n",
       "      <td>1</td>\n",
       "      <td>BEVERAGES</td>\n",
       "      <td>0.000</td>\n",
       "      <td>0</td>\n",
       "      <td>2013</td>\n",
       "      <td>1</td>\n",
       "      <td>1</td>\n",
       "      <td>1</td>\n",
       "      <td>Tuesday</td>\n",
       "      <td>93.14</td>\n",
       "      <td>Quito</td>\n",
       "      <td>Pichincha</td>\n",
       "      <td>D</td>\n",
       "      <td>13</td>\n",
       "    </tr>\n",
       "    <tr>\n",
       "      <th>4</th>\n",
       "      <td>2013-01-01</td>\n",
       "      <td>1</td>\n",
       "      <td>BOOKS</td>\n",
       "      <td>0.000</td>\n",
       "      <td>0</td>\n",
       "      <td>2013</td>\n",
       "      <td>1</td>\n",
       "      <td>1</td>\n",
       "      <td>1</td>\n",
       "      <td>Tuesday</td>\n",
       "      <td>93.14</td>\n",
       "      <td>Quito</td>\n",
       "      <td>Pichincha</td>\n",
       "      <td>D</td>\n",
       "      <td>13</td>\n",
       "    </tr>\n",
       "    <tr>\n",
       "      <th>...</th>\n",
       "      <td>...</td>\n",
       "      <td>...</td>\n",
       "      <td>...</td>\n",
       "      <td>...</td>\n",
       "      <td>...</td>\n",
       "      <td>...</td>\n",
       "      <td>...</td>\n",
       "      <td>...</td>\n",
       "      <td>...</td>\n",
       "      <td>...</td>\n",
       "      <td>...</td>\n",
       "      <td>...</td>\n",
       "      <td>...</td>\n",
       "      <td>...</td>\n",
       "      <td>...</td>\n",
       "    </tr>\n",
       "    <tr>\n",
       "      <th>3000883</th>\n",
       "      <td>2017-08-15</td>\n",
       "      <td>9</td>\n",
       "      <td>POULTRY</td>\n",
       "      <td>438.133</td>\n",
       "      <td>0</td>\n",
       "      <td>2017</td>\n",
       "      <td>8</td>\n",
       "      <td>15</td>\n",
       "      <td>1</td>\n",
       "      <td>Tuesday</td>\n",
       "      <td>47.57</td>\n",
       "      <td>Quito</td>\n",
       "      <td>Pichincha</td>\n",
       "      <td>B</td>\n",
       "      <td>6</td>\n",
       "    </tr>\n",
       "    <tr>\n",
       "      <th>3000884</th>\n",
       "      <td>2017-08-15</td>\n",
       "      <td>9</td>\n",
       "      <td>PREPARED FOODS</td>\n",
       "      <td>154.553</td>\n",
       "      <td>1</td>\n",
       "      <td>2017</td>\n",
       "      <td>8</td>\n",
       "      <td>15</td>\n",
       "      <td>1</td>\n",
       "      <td>Tuesday</td>\n",
       "      <td>47.57</td>\n",
       "      <td>Quito</td>\n",
       "      <td>Pichincha</td>\n",
       "      <td>B</td>\n",
       "      <td>6</td>\n",
       "    </tr>\n",
       "    <tr>\n",
       "      <th>3000885</th>\n",
       "      <td>2017-08-15</td>\n",
       "      <td>9</td>\n",
       "      <td>PRODUCE</td>\n",
       "      <td>2419.729</td>\n",
       "      <td>148</td>\n",
       "      <td>2017</td>\n",
       "      <td>8</td>\n",
       "      <td>15</td>\n",
       "      <td>1</td>\n",
       "      <td>Tuesday</td>\n",
       "      <td>47.57</td>\n",
       "      <td>Quito</td>\n",
       "      <td>Pichincha</td>\n",
       "      <td>B</td>\n",
       "      <td>6</td>\n",
       "    </tr>\n",
       "    <tr>\n",
       "      <th>3000886</th>\n",
       "      <td>2017-08-15</td>\n",
       "      <td>9</td>\n",
       "      <td>SCHOOL AND OFFICE SUPPLIES</td>\n",
       "      <td>121.000</td>\n",
       "      <td>8</td>\n",
       "      <td>2017</td>\n",
       "      <td>8</td>\n",
       "      <td>15</td>\n",
       "      <td>1</td>\n",
       "      <td>Tuesday</td>\n",
       "      <td>47.57</td>\n",
       "      <td>Quito</td>\n",
       "      <td>Pichincha</td>\n",
       "      <td>B</td>\n",
       "      <td>6</td>\n",
       "    </tr>\n",
       "    <tr>\n",
       "      <th>3000887</th>\n",
       "      <td>2017-08-15</td>\n",
       "      <td>9</td>\n",
       "      <td>SEAFOOD</td>\n",
       "      <td>16.000</td>\n",
       "      <td>0</td>\n",
       "      <td>2017</td>\n",
       "      <td>8</td>\n",
       "      <td>15</td>\n",
       "      <td>1</td>\n",
       "      <td>Tuesday</td>\n",
       "      <td>47.57</td>\n",
       "      <td>Quito</td>\n",
       "      <td>Pichincha</td>\n",
       "      <td>B</td>\n",
       "      <td>6</td>\n",
       "    </tr>\n",
       "  </tbody>\n",
       "</table>\n",
       "<p>3000888 rows × 15 columns</p>\n",
       "</div>"
      ],
      "text/plain": [
       "              date  store_nbr                      family     sales  \\\n",
       "0       2013-01-01          1                  AUTOMOTIVE     0.000   \n",
       "1       2013-01-01          1                   BABY CARE     0.000   \n",
       "2       2013-01-01          1                      BEAUTY     0.000   \n",
       "3       2013-01-01          1                   BEVERAGES     0.000   \n",
       "4       2013-01-01          1                       BOOKS     0.000   \n",
       "...            ...        ...                         ...       ...   \n",
       "3000883 2017-08-15          9                     POULTRY   438.133   \n",
       "3000884 2017-08-15          9              PREPARED FOODS   154.553   \n",
       "3000885 2017-08-15          9                     PRODUCE  2419.729   \n",
       "3000886 2017-08-15          9  SCHOOL AND OFFICE SUPPLIES   121.000   \n",
       "3000887 2017-08-15          9                     SEAFOOD    16.000   \n",
       "\n",
       "         onpromotion  year  month  dayofmonth  dayofweek  dayname  dcoilwtico  \\\n",
       "0                  0  2013      1           1          1  Tuesday       93.14   \n",
       "1                  0  2013      1           1          1  Tuesday       93.14   \n",
       "2                  0  2013      1           1          1  Tuesday       93.14   \n",
       "3                  0  2013      1           1          1  Tuesday       93.14   \n",
       "4                  0  2013      1           1          1  Tuesday       93.14   \n",
       "...              ...   ...    ...         ...        ...      ...         ...   \n",
       "3000883            0  2017      8          15          1  Tuesday       47.57   \n",
       "3000884            1  2017      8          15          1  Tuesday       47.57   \n",
       "3000885          148  2017      8          15          1  Tuesday       47.57   \n",
       "3000886            8  2017      8          15          1  Tuesday       47.57   \n",
       "3000887            0  2017      8          15          1  Tuesday       47.57   \n",
       "\n",
       "          city      state type  cluster  \n",
       "0        Quito  Pichincha    D       13  \n",
       "1        Quito  Pichincha    D       13  \n",
       "2        Quito  Pichincha    D       13  \n",
       "3        Quito  Pichincha    D       13  \n",
       "4        Quito  Pichincha    D       13  \n",
       "...        ...        ...  ...      ...  \n",
       "3000883  Quito  Pichincha    B        6  \n",
       "3000884  Quito  Pichincha    B        6  \n",
       "3000885  Quito  Pichincha    B        6  \n",
       "3000886  Quito  Pichincha    B        6  \n",
       "3000887  Quito  Pichincha    B        6  \n",
       "\n",
       "[3000888 rows x 15 columns]"
      ]
     },
     "execution_count": 14,
     "metadata": {},
     "output_type": "execute_result"
    }
   ],
   "source": [
    "train_df"
   ]
  },
  {
   "cell_type": "code",
   "execution_count": 15,
   "id": "37071f2d",
   "metadata": {
    "execution": {
     "iopub.execute_input": "2023-01-20T23:48:18.612303Z",
     "iopub.status.busy": "2023-01-20T23:48:18.611715Z",
     "iopub.status.idle": "2023-01-20T23:48:36.465704Z",
     "shell.execute_reply": "2023-01-20T23:48:36.465225Z",
     "shell.execute_reply.started": "2023-01-20T23:06:51.723289Z"
    },
    "papermill": {
     "duration": 17.967119,
     "end_time": "2023-01-20T23:48:36.465865",
     "exception": false,
     "start_time": "2023-01-20T23:48:18.498746",
     "status": "completed"
    },
    "tags": []
   },
   "outputs": [],
   "source": [
    "holiday_df = pd.read_csv('holidays_events.csv')\n",
    "holiday_df.query('transferred==True')\n",
    "\n",
    "# transferred day is not celebrated\n",
    "holiday_df = holiday_df.query('transferred ==False')\n",
    "holiday_df.description = holiday_df.description.str.replace('Traslado ','')\n",
    "\n",
    "#national\n",
    "national = holiday_df.query('locale==\"National\"')\n",
    "\n",
    "day_off = national.query('type!=\"Work Day\" or type!=\"Event\"').set_index('date')['description'].to_dict()\n",
    "\n",
    "train_df['date_str'] = train_df.date.astype(str)\n",
    "test_df['date_str'] = test_df.date.astype(str)\n",
    "\n",
    "train_df['national_holiday'] = [1 if a in day_off else 0 for a in train_df.date_str]\n",
    "test_df['national_holiday'] = [1 if a in day_off else 0 for a in test_df.date_str]\n",
    "\n",
    "event = national.query('type==\"Event\"').set_index('date')['description'].to_dict()\n",
    "\n",
    "train_df['national_event'] =[1 if a in event else 0 for a in train_df.date_str]\n",
    "test_df['national_event'] =[1 if a in event else 0 for a in test_df.date_str]\n",
    "\n",
    "work_day = national.query('type==\"Work Day\"').set_index('date')['description'].to_dict()\n",
    "train_df['national_workday'] = [1 if a in work_day else 0 for a in train_df.date_str]\n",
    "test_df['national_workday'] = [1 if a in work_day else 0 for a in test_df.date_str]\n",
    "\n",
    "#weekend\n",
    "train_df['weekend'] = [1 if a>=5 else 0 for a in train_df.dayofweek]\n",
    "test_df['weekend'] = [1 if a>=5 else 0 for a in test_df.dayofweek]"
   ]
  },
  {
   "cell_type": "code",
   "execution_count": 16,
   "id": "44b6cd97",
   "metadata": {
    "execution": {
     "iopub.execute_input": "2023-01-20T23:48:36.912717Z",
     "iopub.status.busy": "2023-01-20T23:48:36.911900Z",
     "iopub.status.idle": "2023-01-20T23:48:38.172495Z",
     "shell.execute_reply": "2023-01-20T23:48:38.171916Z",
     "shell.execute_reply.started": "2023-01-20T23:07:08.767981Z"
    },
    "papermill": {
     "duration": 1.383934,
     "end_time": "2023-01-20T23:48:38.172651",
     "exception": false,
     "start_time": "2023-01-20T23:48:36.788717",
     "status": "completed"
    },
    "tags": []
   },
   "outputs": [],
   "source": [
    "#locale\n",
    "#locale is corresponding to city of train_df\n",
    "local = holiday_df.query('locale==\"Local\"')\n",
    "local_dic = local.set_index('date').locale_name.to_dict()\n",
    "train_df['local_holiday']=[1 if b in local_dic and local_dic[b]== a else 0 for a,b in zip(train_df.city,train_df.date_str)]\n",
    "test_df['local_holiday']=[1 if b in local_dic and local_dic[b]== a else 0 for a,b in zip(test_df.city,test_df.date_str)]"
   ]
  },
  {
   "cell_type": "code",
   "execution_count": 17,
   "id": "2634c462",
   "metadata": {
    "execution": {
     "iopub.execute_input": "2023-01-20T23:48:38.438728Z",
     "iopub.status.busy": "2023-01-20T23:48:38.428492Z",
     "iopub.status.idle": "2023-01-20T23:48:39.670757Z",
     "shell.execute_reply": "2023-01-20T23:48:39.670272Z",
     "shell.execute_reply.started": "2023-01-20T23:07:10.375695Z"
    },
    "papermill": {
     "duration": 1.394909,
     "end_time": "2023-01-20T23:48:39.670911",
     "exception": false,
     "start_time": "2023-01-20T23:48:38.276002",
     "status": "completed"
    },
    "tags": []
   },
   "outputs": [],
   "source": [
    "#Regional\n",
    "#Regional is corresonding to state of train_df\n",
    "regional = holiday_df.query('locale==\"Regional\"')\n",
    "regional_dic = regional.set_index('date').locale_name.to_dict()\n",
    "train_df['regional_holiday']= [1 if b in regional_dic and regional_dic[b]== a else 0 for a,b in zip(train_df.state,train_df.date_str)]\n",
    "test_df['regional_holiday']= [1 if b in regional_dic and regional_dic[b]== a else 0 for a,b in zip(test_df.state,test_df.date_str)]"
   ]
  },
  {
   "cell_type": "markdown",
   "id": "b86963bd",
   "metadata": {
    "papermill": {
     "duration": 0.146157,
     "end_time": "2023-01-20T23:48:50.672484",
     "exception": false,
     "start_time": "2023-01-20T23:48:50.526327",
     "status": "completed"
    },
    "tags": []
   },
   "source": [
    "<fond size=4>\n",
    "    Every store have peak days in Christmas season. Some stores show upper trends."
   ]
  },
  {
   "cell_type": "markdown",
   "id": "c845ddc8",
   "metadata": {
    "papermill": {
     "duration": 0.141388,
     "end_time": "2023-01-20T23:48:50.955679",
     "exception": false,
     "start_time": "2023-01-20T23:48:50.814291",
     "status": "completed"
    },
    "tags": []
   },
   "source": [
    "# Preparing Data"
   ]
  },
  {
   "cell_type": "code",
   "execution_count": 18,
   "id": "f5d93e3e",
   "metadata": {
    "execution": {
     "iopub.execute_input": "2023-01-20T23:48:51.249436Z",
     "iopub.status.busy": "2023-01-20T23:48:51.247784Z",
     "iopub.status.idle": "2023-01-20T23:48:52.176737Z",
     "shell.execute_reply": "2023-01-20T23:48:52.177339Z",
     "shell.execute_reply.started": "2023-01-20T23:07:21.768577Z"
    },
    "papermill": {
     "duration": 1.078434,
     "end_time": "2023-01-20T23:48:52.177509",
     "exception": false,
     "start_time": "2023-01-20T23:48:51.099075",
     "status": "completed"
    },
    "tags": []
   },
   "outputs": [
    {
     "data": {
      "text/plain": [
       "1782"
      ]
     },
     "execution_count": 18,
     "metadata": {},
     "output_type": "execute_result"
    }
   ],
   "source": [
    "len(train_df.query('date_str==\"2013-01-01\"'))"
   ]
  },
  {
   "cell_type": "code",
   "execution_count": 19,
   "id": "01dbe433",
   "metadata": {
    "execution": {
     "iopub.execute_input": "2023-01-20T23:48:52.508153Z",
     "iopub.status.busy": "2023-01-20T23:48:52.507342Z",
     "iopub.status.idle": "2023-01-20T23:48:52.562413Z",
     "shell.execute_reply": "2023-01-20T23:48:52.561886Z",
     "shell.execute_reply.started": "2023-01-20T23:07:22.699872Z"
    },
    "papermill": {
     "duration": 0.219708,
     "end_time": "2023-01-20T23:48:52.562550",
     "exception": false,
     "start_time": "2023-01-20T23:48:52.342842",
     "status": "completed"
    },
    "tags": []
   },
   "outputs": [],
   "source": [
    "#https://www.kaggle.com/c/store-sales-time-series-forecasting/discussion/291165\n",
    "# idea and codes comes from this discussion \n",
    "\n",
    "train_df.sales = np.log1p(train_df.sales)\n"
   ]
  },
  {
   "cell_type": "code",
   "execution_count": null,
   "id": "d07750b3",
   "metadata": {
    "papermill": {
     "duration": 0.144082,
     "end_time": "2023-01-20T23:48:52.853734",
     "exception": false,
     "start_time": "2023-01-20T23:48:52.709652",
     "status": "completed"
    },
    "tags": []
   },
   "outputs": [],
   "source": []
  },
  {
   "cell_type": "code",
   "execution_count": 20,
   "id": "4a841af8",
   "metadata": {
    "execution": {
     "iopub.execute_input": "2023-01-20T23:48:53.150796Z",
     "iopub.status.busy": "2023-01-20T23:48:53.149926Z",
     "iopub.status.idle": "2023-01-20T23:48:55.894582Z",
     "shell.execute_reply": "2023-01-20T23:48:55.893759Z",
     "shell.execute_reply.started": "2023-01-20T23:07:22.756386Z"
    },
    "papermill": {
     "duration": 2.894423,
     "end_time": "2023-01-20T23:48:55.894720",
     "exception": false,
     "start_time": "2023-01-20T23:48:53.000297",
     "status": "completed"
    },
    "tags": []
   },
   "outputs": [],
   "source": [
    "train_df['Istest'] = False\n",
    "test_df['Istest'] = True\n",
    "\n",
    "full = pd.concat((train_df,test_df))\n",
    "\n",
    "#remove leap year day\n",
    "#full = full.query('date_str !=\"2016-02-29\"')\n",
    "\n",
    "\n",
    "full['Lag_16'] = full['sales'].shift(1782*16)\n",
    "full['Lag_17'] = full['sales'].shift(1782*17)\n",
    "full['Lag_18'] = full['sales'].shift(1782*18)\n",
    "full['Lag_19'] = full['sales'].shift(1782*19)\n",
    "full['Lag_20'] = full['sales'].shift(1782*20)\n",
    "full[\"Lag_21\"] = full['sales'].shift(1782*21)\n",
    "full['Lag_22'] = full['sales'].shift(1782*22)\n",
    "full['Lag_28'] = full['sales'].shift(1782*28)\n",
    "full['Lag_31'] = full['sales'].shift(1782*31)\n",
    "\n",
    "full['Lag_365'] = full['sales'].shift(1782*365)\n",
    "\n",
    "\n",
    "train_df = full.query('Istest==False')\n",
    "test_df = full.query('Istest ==True')\n"
   ]
  },
  {
   "cell_type": "code",
   "execution_count": 21,
   "id": "071e3494",
   "metadata": {
    "execution": {
     "iopub.execute_input": "2023-01-20T23:48:56.192664Z",
     "iopub.status.busy": "2023-01-20T23:48:56.191867Z",
     "iopub.status.idle": "2023-01-20T23:48:56.787594Z",
     "shell.execute_reply": "2023-01-20T23:48:56.787016Z",
     "shell.execute_reply.started": "2023-01-20T23:07:25.343736Z"
    },
    "papermill": {
     "duration": 0.74947,
     "end_time": "2023-01-20T23:48:56.787726",
     "exception": false,
     "start_time": "2023-01-20T23:48:56.038256",
     "status": "completed"
    },
    "tags": []
   },
   "outputs": [],
   "source": [
    "train_df = train_df.dropna(subset=['Lag_365'],axis=0)"
   ]
  },
  {
   "cell_type": "code",
   "execution_count": 22,
   "id": "21e273f1",
   "metadata": {
    "execution": {
     "iopub.execute_input": "2023-01-20T23:48:57.080123Z",
     "iopub.status.busy": "2023-01-20T23:48:57.077319Z",
     "iopub.status.idle": "2023-01-20T23:48:57.082490Z",
     "shell.execute_reply": "2023-01-20T23:48:57.081975Z",
     "shell.execute_reply.started": "2023-01-20T23:07:25.945220Z"
    },
    "papermill": {
     "duration": 0.153407,
     "end_time": "2023-01-20T23:48:57.082616",
     "exception": false,
     "start_time": "2023-01-20T23:48:56.929209",
     "status": "completed"
    },
    "tags": []
   },
   "outputs": [],
   "source": [
    "FEATURES = ['store_nbr','family','onpromotion', 'year', 'month',\n",
    "       'dayofmonth', 'dayofweek','dcoilwtico', 'city', 'state',\n",
    "       'type', 'cluster', 'national_holiday', 'national_event',\n",
    "       'national_workday', 'weekend', 'local_holiday', 'regional_holiday','Lag_16','Lag_17','Lag_18','Lag_19','Lag_20','Lag_21','Lag_22','Lag_28','Lag_31','Lag_365']\n",
    "TARGET =['sales']\n",
    "\n"
   ]
  },
  {
   "cell_type": "code",
   "execution_count": 23,
   "id": "eb65e9a6",
   "metadata": {
    "execution": {
     "iopub.execute_input": "2023-01-20T23:48:57.457883Z",
     "iopub.status.busy": "2023-01-20T23:48:57.447699Z",
     "iopub.status.idle": "2023-01-20T23:48:59.580914Z",
     "shell.execute_reply": "2023-01-20T23:48:59.580401Z",
     "shell.execute_reply.started": "2023-01-20T23:07:25.951212Z"
    },
    "papermill": {
     "duration": 2.352576,
     "end_time": "2023-01-20T23:48:59.581060",
     "exception": false,
     "start_time": "2023-01-20T23:48:57.228484",
     "status": "completed"
    },
    "tags": []
   },
   "outputs": [
    {
     "name": "stderr",
     "output_type": "stream",
     "text": [
      "C:\\Users\\tompe\\AppData\\Local\\Temp\\ipykernel_16008\\931374174.py:6: SettingWithCopyWarning: \n",
      "A value is trying to be set on a copy of a slice from a DataFrame.\n",
      "Try using .loc[row_indexer,col_indexer] = value instead\n",
      "\n",
      "See the caveats in the documentation: https://pandas.pydata.org/pandas-docs/stable/user_guide/indexing.html#returning-a-view-versus-a-copy\n",
      "  test_df[i] =  encoder.transform(test_df[i])\n"
     ]
    }
   ],
   "source": [
    "from sklearn import preprocessing\n",
    "categories = ['family','city','state','type']\n",
    "for i in categories:\n",
    "    encoder = preprocessing.LabelEncoder()\n",
    "    train_df[i] = encoder.fit_transform(train_df[i])\n",
    "    test_df[i] =  encoder.transform(test_df[i])"
   ]
  },
  {
   "cell_type": "code",
   "execution_count": 24,
   "id": "cc4ab405",
   "metadata": {
    "execution": {
     "iopub.execute_input": "2023-01-20T23:48:59.868294Z",
     "iopub.status.busy": "2023-01-20T23:48:59.867516Z",
     "iopub.status.idle": "2023-01-20T23:49:00.514738Z",
     "shell.execute_reply": "2023-01-20T23:49:00.514228Z",
     "shell.execute_reply.started": "2023-01-20T23:07:28.098807Z"
    },
    "papermill": {
     "duration": 0.792984,
     "end_time": "2023-01-20T23:49:00.514890",
     "exception": false,
     "start_time": "2023-01-20T23:48:59.721906",
     "status": "completed"
    },
    "tags": []
   },
   "outputs": [],
   "source": [
    "from sklearn.model_selection import train_test_split\n",
    "X_train,X_val,y_train,y_val = train_test_split(train_df,train_df[TARGET],test_size=0.05,shuffle=False)"
   ]
  },
  {
   "cell_type": "code",
   "execution_count": 25,
   "id": "833ef565",
   "metadata": {
    "execution": {
     "iopub.execute_input": "2023-01-20T23:49:00.804219Z",
     "iopub.status.busy": "2023-01-20T23:49:00.803468Z",
     "iopub.status.idle": "2023-01-20T23:49:04.457319Z",
     "shell.execute_reply": "2023-01-20T23:49:04.457914Z",
     "shell.execute_reply.started": "2023-01-20T23:07:28.732362Z"
    },
    "papermill": {
     "duration": 3.803965,
     "end_time": "2023-01-20T23:49:04.458111",
     "exception": false,
     "start_time": "2023-01-20T23:49:00.654146",
     "status": "completed"
    },
    "tags": []
   },
   "outputs": [
    {
     "name": "stdout",
     "output_type": "stream",
     "text": [
      "MSLE: 0.03772247906110787\n",
      "RMSLE: 0.19422275629057445\n"
     ]
    },
    {
     "name": "stderr",
     "output_type": "stream",
     "text": [
      "C:\\Users\\tompe\\anaconda3\\lib\\site-packages\\sklearn\\utils\\validation.py:746: VisibleDeprecationWarning: Creating an ndarray from ragged nested sequences (which is a list-or-tuple of lists-or-tuples-or ndarrays with different lengths or shapes) is deprecated. If you meant to do this, you must specify 'dtype=object' when creating the ndarray.\n",
      "  array = np.asarray(array, order=order, dtype=dtype)\n",
      "C:\\Users\\tompe\\anaconda3\\lib\\site-packages\\sklearn\\metrics\\_regression.py:96: FutureWarning: Arrays of bytes/strings is being converted to decimal numbers if dtype='numeric'. This behavior is deprecated in 0.24 and will be removed in 1.1 (renaming of 0.26). Please convert your data to numeric values explicitly instead.\n",
      "  y_pred = check_array(y_pred, ensure_2d=False, dtype=dtype)\n",
      "C:\\Users\\tompe\\anaconda3\\lib\\site-packages\\sklearn\\utils\\validation.py:746: VisibleDeprecationWarning: Creating an ndarray from ragged nested sequences (which is a list-or-tuple of lists-or-tuples-or ndarrays with different lengths or shapes) is deprecated. If you meant to do this, you must specify 'dtype=object' when creating the ndarray.\n",
      "  array = np.asarray(array, order=order, dtype=dtype)\n",
      "C:\\Users\\tompe\\anaconda3\\lib\\site-packages\\sklearn\\metrics\\_regression.py:96: FutureWarning: Arrays of bytes/strings is being converted to decimal numbers if dtype='numeric'. This behavior is deprecated in 0.24 and will be removed in 1.1 (renaming of 0.26). Please convert your data to numeric values explicitly instead.\n",
      "  y_pred = check_array(y_pred, ensure_2d=False, dtype=dtype)\n"
     ]
    }
   ],
   "source": [
    "from sklearn.linear_model import LinearRegression, HuberRegressor\n",
    "from sklearn.metrics import mean_squared_log_error\n",
    "\n",
    "linear = LinearRegression()\n",
    "model = linear.fit(X_train[FEATURES],y_train)\n",
    "\n",
    "\n",
    "#plt.scatter(X_val.date,model.predict(X_val[FEATURES]))\n",
    "#plt.xticks(rotation=45)\n",
    "\n",
    "predictions= model.predict(X_val[FEATURES])\n",
    "predictions = [a if a>0 else 0 for a in predictions]\n",
    "print('MSLE: ' + str(mean_squared_log_error(y_val,predictions)))\n",
    "print('RMSLE:', np.sqrt(mean_squared_log_error(y_val, predictions)))"
   ]
  },
  {
   "cell_type": "code",
   "execution_count": 26,
   "id": "d2e8a5c1",
   "metadata": {
    "execution": {
     "iopub.execute_input": "2023-01-20T23:49:04.751758Z",
     "iopub.status.busy": "2023-01-20T23:49:04.750980Z",
     "iopub.status.idle": "2023-01-20T23:49:16.245798Z",
     "shell.execute_reply": "2023-01-20T23:49:16.246448Z",
     "shell.execute_reply.started": "2023-01-20T23:07:32.105785Z"
    },
    "papermill": {
     "duration": 11.644649,
     "end_time": "2023-01-20T23:49:16.246649",
     "exception": false,
     "start_time": "2023-01-20T23:49:04.602000",
     "status": "completed"
    },
    "tags": []
   },
   "outputs": [
    {
     "name": "stderr",
     "output_type": "stream",
     "text": [
      "C:\\Users\\tompe\\anaconda3\\lib\\site-packages\\xgboost\\sklearn.py:835: UserWarning: `early_stopping_rounds` in `fit` method is deprecated for better compatibility with scikit-learn, use `early_stopping_rounds` in constructor or`set_params` instead.\n",
      "  warnings.warn(\n"
     ]
    },
    {
     "name": "stdout",
     "output_type": "stream",
     "text": [
      "MSLE:  0.03227692025729828\n",
      "RMSLE: 0.17965778652009012\n"
     ]
    }
   ],
   "source": [
    "from xgboost import XGBRegressor\n",
    "\n",
    "#xgb = XGBRegressor(tree_method='gpu_hist',n_estimators=500)\n",
    "xgb = XGBRegressor(n_estimators=500)\n",
    "xgb.fit(X_train[FEATURES], y_train,\n",
    "        eval_set=[(X_train[FEATURES],y_train),(X_val[FEATURES], y_val)],\n",
    "       verbose=False,early_stopping_rounds=10)\n",
    "\n",
    "#plt.scatter(X_val.date,xgb.predict(X_val[FEATURES]))\n",
    "#plt.xticks(rotation=45)\n",
    "\n",
    "#predictions have negative. Changed negative values to 0.\n",
    "predictions= xgb.predict(X_val[FEATURES])\n",
    "predictions = [a if a>0 else 0 for a in predictions]\n",
    "print('MSLE: ',mean_squared_log_error(y_val,predictions))\n",
    "print('RMSLE:', np.sqrt(mean_squared_log_error(y_val,predictions)))"
   ]
  },
  {
   "cell_type": "code",
   "execution_count": 27,
   "id": "e245eecc",
   "metadata": {
    "execution": {
     "iopub.execute_input": "2023-01-20T23:49:16.544424Z",
     "iopub.status.busy": "2023-01-20T23:49:16.543586Z",
     "iopub.status.idle": "2023-01-20T23:51:11.267112Z",
     "shell.execute_reply": "2023-01-20T23:51:11.267978Z",
     "shell.execute_reply.started": "2023-01-20T23:15:36.408854Z"
    },
    "papermill": {
     "duration": 114.876413,
     "end_time": "2023-01-20T23:51:11.268364",
     "exception": false,
     "start_time": "2023-01-20T23:49:16.391951",
     "status": "completed"
    },
    "tags": []
   },
   "outputs": [
    {
     "name": "stdout",
     "output_type": "stream",
     "text": [
      "MSLE:  0.03142457863019637\n",
      "RMSLE: 0.1772697905177201\n"
     ]
    }
   ],
   "source": [
    "from catboost import CatBoostRegressor\n",
    "\n",
    "cat = CatBoostRegressor()\n",
    "cat.fit(X_train[FEATURES], y_train,\n",
    "        eval_set=[(X_train[FEATURES],y_train),(X_val[FEATURES], y_val)],\n",
    "       verbose=False,early_stopping_rounds=10)\n",
    "\n",
    "\n",
    "#predictions have negative. Changed negative values to 0.\n",
    "cat_predictions= cat.predict(X_val[FEATURES])\n",
    "cat_predictions = [a if a>0 else 0 for a in cat_predictions]\n",
    "print('MSLE: ',mean_squared_log_error(y_val,cat_predictions))\n",
    "print('RMSLE:', np.sqrt(mean_squared_log_error(y_val, cat_predictions)))"
   ]
  },
  {
   "cell_type": "code",
   "execution_count": null,
   "id": "02037c9c",
   "metadata": {},
   "outputs": [],
   "source": []
  },
  {
   "cell_type": "code",
   "execution_count": 46,
   "id": "7721b7f7",
   "metadata": {
    "execution": {
     "iopub.execute_input": "2023-01-20T23:51:11.570272Z",
     "iopub.status.busy": "2023-01-20T23:51:11.569355Z",
     "iopub.status.idle": "2023-01-20T23:51:11.571133Z",
     "shell.execute_reply": "2023-01-20T23:51:11.571579Z",
     "shell.execute_reply.started": "2023-01-20T23:07:43.656517Z"
    },
    "papermill": {
     "duration": 0.158776,
     "end_time": "2023-01-20T23:51:11.571719",
     "exception": false,
     "start_time": "2023-01-20T23:51:11.412943",
     "status": "completed"
    },
    "tags": []
   },
   "outputs": [],
   "source": [
    "'''def objective(trial,X,y, name='xgb'):\n",
    "    params = param = {\n",
    "        #'tree_method':'gpu_hist',  \n",
    "        #'eval_metrics': 'rmse',\n",
    "        'lambda': trial.suggest_loguniform(\n",
    "            'lambda', 1e-3, 10.0\n",
    "        ),\n",
    "        'alpha': trial.suggest_loguniform(\n",
    "            'alpha', 1e-3, 10.0\n",
    "        ),\n",
    "        'eta': trial.suggest_float('eta', 1e-5, 0.1),\n",
    "        'colsample_bytree': trial.suggest_categorical(\n",
    "            'colsample_bytree', [0.5,0.6,0.7,0.8,0.9,1.0]\n",
    "        ),\n",
    "        'subsample': trial.suggest_categorical( \n",
    "            'subsample', [0.6,0.7,0.8,1.0]\n",
    "        ),\n",
    "        'learning_rate': trial.suggest_categorical(\n",
    "            'learning_rate', [0.009,0.01,0.012,0.016, 0.02]\n",
    "        ),\n",
    "        'n_estimators': trial.suggest_categorical(\n",
    "            \"n_estimators\", [150, 200, 300,500,1000]\n",
    "        ),\n",
    "        'max_depth': trial.suggest_categorical(\n",
    "            'max_depth', [4,5,7,9,11,13,17]\n",
    "        ),\n",
    "        'random_state': 42,\n",
    "        'min_child_weight': trial.suggest_int(\n",
    "            'min_child_weight', 1, 300\n",
    "        ),\n",
    "        'random_state':10\n",
    "        }\n",
    "\n",
    "    model =  XGBRegressor(**params)\n",
    "    model.fit(X_train[FEATURES],y_train,eval_set=[(X_val[FEATURES],y_val)],early_stopping_rounds=50,verbose=False)\n",
    "\n",
    "    predictions_train = [a if a>0 else 0 for a in model.predict(X_train[FEATURES])]\n",
    "    predictions_val  = [a if a>0 else 0 for a in model.predict(X_val[FEATURES])]           \n",
    "    \n",
    "    train_score = np.round(mean_squared_log_error(y_train, predictions_train), 5)\n",
    "    test_score = np.round(mean_squared_log_error(y_val, predictions_val), 5)\n",
    "                  \n",
    "    print(f'TRAIN MSLE : {train_score} || TEST MSLE : {test_score}')\n",
    "                  \n",
    "    return test_score'''"
   ]
  },
  {
   "cell_type": "code",
   "execution_count": 48,
   "id": "fdb64b35",
   "metadata": {
    "execution": {
     "iopub.execute_input": "2023-01-20T23:51:11.863172Z",
     "iopub.status.busy": "2023-01-20T23:51:11.862543Z",
     "iopub.status.idle": "2023-01-20T23:51:11.866044Z",
     "shell.execute_reply": "2023-01-20T23:51:11.865567Z",
     "shell.execute_reply.started": "2023-01-20T23:07:43.670517Z"
    },
    "papermill": {
     "duration": 0.152157,
     "end_time": "2023-01-20T23:51:11.866170",
     "exception": false,
     "start_time": "2023-01-20T23:51:11.714013",
     "status": "completed"
    },
    "tags": []
   },
   "outputs": [],
   "source": [
    "#%%time\n",
    "\n",
    "#from functools import partial\n",
    "#import optuna\n",
    "\n",
    "#optimize = partial(objective,X=X_train,y=y_train)\n",
    "\n",
    "#study_lgbm = optuna.create_study(direction ='minimize')\n",
    "#study_lgbm.optimize(optimize,n_trials=50)"
   ]
  },
  {
   "cell_type": "code",
   "execution_count": 28,
   "id": "9106a002",
   "metadata": {
    "execution": {
     "iopub.execute_input": "2023-01-20T23:51:12.159455Z",
     "iopub.status.busy": "2023-01-20T23:51:12.158908Z",
     "iopub.status.idle": "2023-01-20T23:51:12.162847Z",
     "shell.execute_reply": "2023-01-20T23:51:12.162407Z",
     "shell.execute_reply.started": "2023-01-20T23:07:43.682165Z"
    },
    "papermill": {
     "duration": 0.153484,
     "end_time": "2023-01-20T23:51:12.162971",
     "exception": false,
     "start_time": "2023-01-20T23:51:12.009487",
     "status": "completed"
    },
    "tags": []
   },
   "outputs": [],
   "source": [
    "params = {'lambda': 6.105970537016599, 'alpha': 0.874716179324655, 'eta': 0.047228549789593455, 'colsample_bytree': 0.5, 'subsample': 0.7, 'learning_rate': 0.012, 'n_estimators': 1000, 'max_depth': 17, 'min_child_weight': 155}"
   ]
  },
  {
   "cell_type": "code",
   "execution_count": null,
   "id": "dcc041d7",
   "metadata": {},
   "outputs": [],
   "source": []
  },
  {
   "cell_type": "markdown",
   "id": "d00e8599",
   "metadata": {
    "papermill": {
     "duration": 0.145303,
     "end_time": "2023-01-20T23:51:12.459622",
     "exception": false,
     "start_time": "2023-01-20T23:51:12.314319",
     "status": "completed"
    },
    "tags": []
   },
   "source": [
    "# Making a submission file"
   ]
  },
  {
   "cell_type": "code",
   "execution_count": 29,
   "id": "e4c4d683",
   "metadata": {},
   "outputs": [],
   "source": [
    "#xgb = XGBRegressor(tree_method='gpu_hist',**params)\n",
    "xgb = XGBRegressor(**params)\n",
    "#xgb = XGBRegressor(n_estimators=500)\n",
    "xgb.fit(train_df[FEATURES], train_df[TARGET],verbose=False)\n",
    "\n",
    "xgb_predictions= xgb.predict(test_df[FEATURES])\n",
    "xgb_predictions = [a if a>0 else 0 for a in xgb_predictions]\n",
    "\n",
    "cat_predictions = cat.predict((test_df[FEATURES]))\n",
    "cat_predictions = [a if a>0 else 0 for a in cat_predictions]"
   ]
  },
  {
   "cell_type": "code",
   "execution_count": 30,
   "id": "34143188",
   "metadata": {
    "execution": {
     "iopub.execute_input": "2023-01-20T23:55:00.935001Z",
     "iopub.status.busy": "2023-01-20T23:55:00.927956Z",
     "iopub.status.idle": "2023-01-20T23:55:00.936747Z",
     "shell.execute_reply": "2023-01-20T23:55:00.937279Z",
     "shell.execute_reply.started": "2023-01-20T23:19:11.360147Z"
    },
    "papermill": {
     "duration": 0.222714,
     "end_time": "2023-01-20T23:55:00.937430",
     "exception": false,
     "start_time": "2023-01-20T23:55:00.714716",
     "status": "completed"
    },
    "tags": []
   },
   "outputs": [],
   "source": [
    "predictions = [0.5* a + 0.5 * b for a,b in zip(xgb_predictions,cat_predictions)] "
   ]
  },
  {
   "cell_type": "code",
   "execution_count": 31,
   "id": "a9c7148f",
   "metadata": {},
   "outputs": [],
   "source": [
    "output = pd.read_csv('sample_submission.csv',index_col='id')\n",
    "output['sales']= np.expm1(predictions)"
   ]
  },
  {
   "cell_type": "code",
   "execution_count": 32,
   "id": "008ada81",
   "metadata": {},
   "outputs": [],
   "source": [
    "output.to_csv('./submissions/submit-edaxgb-baseline.csv')"
   ]
  },
  {
   "cell_type": "markdown",
   "id": "e5522c24",
   "metadata": {
    "papermill": {
     "duration": 0.144877,
     "end_time": "2023-01-20T23:55:01.909618",
     "exception": false,
     "start_time": "2023-01-20T23:55:01.764741",
     "status": "completed"
    },
    "tags": []
   },
   "source": [
    "# References\n",
    "Referred how to make graphs: [Kaggle merchandise EDA with baseline linear model](https://www.kaggle.com/lucamassaron/kaggle-merchandise-eda-with-baseline-linear-model)\n",
    "\n",
    "Time series course on Kaggle https://www.kaggle.com/learn/time-series\n",
    "\n"
   ]
  },
  {
   "cell_type": "markdown",
   "id": "8be6c7f5",
   "metadata": {
    "papermill": {
     "duration": 0.143651,
     "end_time": "2023-01-20T23:55:02.199644",
     "exception": false,
     "start_time": "2023-01-20T23:55:02.055993",
     "status": "completed"
    },
    "tags": []
   },
   "source": [
    "# To be continued.\n",
    "<font size=4> I will work on modeling part more. </font>"
   ]
  }
 ],
 "metadata": {
  "kernelspec": {
   "display_name": "Python 3 (ipykernel)",
   "language": "python",
   "name": "python3"
  },
  "language_info": {
   "codemirror_mode": {
    "name": "ipython",
    "version": 3
   },
   "file_extension": ".py",
   "mimetype": "text/x-python",
   "name": "python",
   "nbconvert_exporter": "python",
   "pygments_lexer": "ipython3",
   "version": "3.9.13"
  },
  "papermill": {
   "default_parameters": {},
   "duration": 499.547794,
   "end_time": "2023-01-20T23:55:04.367104",
   "environment_variables": {},
   "exception": null,
   "input_path": "__notebook__.ipynb",
   "output_path": "__notebook__.ipynb",
   "parameters": {},
   "start_time": "2023-01-20T23:46:44.819310",
   "version": "2.3.3"
  }
 },
 "nbformat": 4,
 "nbformat_minor": 5
}
