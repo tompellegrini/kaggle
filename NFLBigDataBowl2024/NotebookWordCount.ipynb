{
 "cells": [
  {
   "cell_type": "markdown",
   "id": "9067c910",
   "metadata": {},
   "source": [
    "One of the requirements of this contest is to not exceed a limit of 2,000 words in your final submission. Counting this by hand would be a difficult process. I found the following solution in Stack Overflow: https://stackoverflow.com/questions/71194571/word-count-of-markdown-cells-in-jupyter-notebook. And I mentioned it as part of this discussion thread: https://www.kaggle.com/competitions/nfl-big-data-bowl-2024/discussion/454039\n",
    "\n",
    "I decided to finally test it out on a notebook I submitted about a question I had with the data: https://www.kaggle.com/code/twinpilgrim/play-result-not-matching-the-frames-ball-movement"
   ]
  },
  {
   "cell_type": "code",
   "execution_count": 1,
   "id": "16f98481",
   "metadata": {},
   "outputs": [],
   "source": [
    "import numpy as np \n",
    "import pandas as pd \n",
    "import json"
   ]
  },
  {
   "cell_type": "markdown",
   "id": "2a363612",
   "metadata": {},
   "source": [
    "Since the code needed an ipynb file, I needed to download this notebook to my computer and run this code there. I couldn't find a way to do this with a Kaggle notebook. "
   ]
  },
  {
   "cell_type": "code",
   "execution_count": 10,
   "id": "8afe080e",
   "metadata": {},
   "outputs": [],
   "source": [
    "with open('SubmissionFile.ipynb') as json_file:\n",
    "    data = json.load(json_file)\n"
   ]
  },
  {
   "cell_type": "code",
   "execution_count": 11,
   "id": "29de7472",
   "metadata": {},
   "outputs": [
    {
     "name": "stdout",
     "output_type": "stream",
     "text": [
      "1751\n"
     ]
    }
   ],
   "source": [
    "wordCount = 0\n",
    "for each in data['cells']:\n",
    "    cellType = each['cell_type']\n",
    "    if cellType == \"markdown\":\n",
    "        content = each['source']\n",
    "        for line in content:\n",
    "            temp = [word for word in line.split() if \"#\" not in word] # we might need to filter for more markdown keywords here\n",
    "            wordCount = wordCount + len(temp)\n",
    "            \n",
    "print(wordCount)"
   ]
  },
  {
   "cell_type": "markdown",
   "id": "eb3dcb53",
   "metadata": {},
   "source": [
    "This word count of 544 words matched what I counted manually. \n",
    "\n",
    "Hopefully this could be helpful to many of you. "
   ]
  },
  {
   "cell_type": "code",
   "execution_count": null,
   "id": "eb583290",
   "metadata": {},
   "outputs": [],
   "source": []
  }
 ],
 "metadata": {
  "kernelspec": {
   "display_name": "Python 3 (ipykernel)",
   "language": "python",
   "name": "python3"
  },
  "language_info": {
   "codemirror_mode": {
    "name": "ipython",
    "version": 3
   },
   "file_extension": ".py",
   "mimetype": "text/x-python",
   "name": "python",
   "nbconvert_exporter": "python",
   "pygments_lexer": "ipython3",
   "version": "3.9.13"
  }
 },
 "nbformat": 4,
 "nbformat_minor": 5
}
