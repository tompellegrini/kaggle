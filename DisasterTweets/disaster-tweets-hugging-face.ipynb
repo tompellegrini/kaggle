{
 "cells": [
  {
   "cell_type": "markdown",
   "id": "10687fb8",
   "metadata": {
    "papermill": {
     "duration": 0.021428,
     "end_time": "2023-08-30T09:13:42.540294",
     "exception": false,
     "start_time": "2023-08-30T09:13:42.518866",
     "status": "completed"
    },
    "tags": []
   },
   "source": [
    "This will use Hugging Face transformers on the Disaster Tweets dataset. The basis for this work is from the fast.ai course on NLP at: https://course.fast.ai/Lessons/lesson4.html "
   ]
  },
  {
   "cell_type": "code",
   "execution_count": 1,
   "id": "84af93bb",
   "metadata": {
    "execution": {
     "iopub.execute_input": "2023-08-30T09:13:42.580498Z",
     "iopub.status.busy": "2023-08-30T09:13:42.580084Z",
     "iopub.status.idle": "2023-08-30T09:14:07.829700Z",
     "shell.execute_reply": "2023-08-30T09:14:07.828580Z"
    },
    "papermill": {
     "duration": 25.272429,
     "end_time": "2023-08-30T09:14:07.832151",
     "exception": false,
     "start_time": "2023-08-30T09:13:42.559722",
     "status": "completed"
    },
    "tags": []
   },
   "outputs": [
    {
     "name": "stdout",
     "output_type": "stream",
     "text": [
      "Collecting evaluate\r\n",
      "  Downloading evaluate-0.4.0-py3-none-any.whl (81 kB)\r\n",
      "\u001b[2K     \u001b[90m━━━━━━━━━━━━━━━━━━━━━━━━━━━━━━━━━━━━━━━━\u001b[0m \u001b[32m81.4/81.4 kB\u001b[0m \u001b[31m2.7 MB/s\u001b[0m eta \u001b[36m0:00:00\u001b[0m\r\n",
      "\u001b[?25hRequirement already satisfied: datasets>=2.0.0 in /opt/conda/lib/python3.10/site-packages (from evaluate) (2.1.0)\r\n",
      "Requirement already satisfied: numpy>=1.17 in /opt/conda/lib/python3.10/site-packages (from evaluate) (1.23.5)\r\n",
      "Requirement already satisfied: dill in /opt/conda/lib/python3.10/site-packages (from evaluate) (0.3.6)\r\n",
      "Requirement already satisfied: pandas in /opt/conda/lib/python3.10/site-packages (from evaluate) (1.5.3)\r\n",
      "Requirement already satisfied: requests>=2.19.0 in /opt/conda/lib/python3.10/site-packages (from evaluate) (2.31.0)\r\n",
      "Requirement already satisfied: tqdm>=4.62.1 in /opt/conda/lib/python3.10/site-packages (from evaluate) (4.65.0)\r\n",
      "Requirement already satisfied: xxhash in /opt/conda/lib/python3.10/site-packages (from evaluate) (3.2.0)\r\n",
      "Requirement already satisfied: multiprocess in /opt/conda/lib/python3.10/site-packages (from evaluate) (0.70.14)\r\n",
      "Requirement already satisfied: fsspec[http]>=2021.05.0 in /opt/conda/lib/python3.10/site-packages (from evaluate) (2023.6.0)\r\n",
      "Requirement already satisfied: huggingface-hub>=0.7.0 in /opt/conda/lib/python3.10/site-packages (from evaluate) (0.16.4)\r\n",
      "Requirement already satisfied: packaging in /opt/conda/lib/python3.10/site-packages (from evaluate) (21.3)\r\n",
      "Requirement already satisfied: responses<0.19 in /opt/conda/lib/python3.10/site-packages (from evaluate) (0.18.0)\r\n",
      "Requirement already satisfied: pyarrow>=5.0.0 in /opt/conda/lib/python3.10/site-packages (from datasets>=2.0.0->evaluate) (11.0.0)\r\n",
      "Requirement already satisfied: aiohttp in /opt/conda/lib/python3.10/site-packages (from datasets>=2.0.0->evaluate) (3.8.4)\r\n",
      "Requirement already satisfied: filelock in /opt/conda/lib/python3.10/site-packages (from huggingface-hub>=0.7.0->evaluate) (3.12.2)\r\n",
      "Requirement already satisfied: pyyaml>=5.1 in /opt/conda/lib/python3.10/site-packages (from huggingface-hub>=0.7.0->evaluate) (6.0)\r\n",
      "Requirement already satisfied: typing-extensions>=3.7.4.3 in /opt/conda/lib/python3.10/site-packages (from huggingface-hub>=0.7.0->evaluate) (4.6.3)\r\n",
      "Requirement already satisfied: pyparsing!=3.0.5,>=2.0.2 in /opt/conda/lib/python3.10/site-packages (from packaging->evaluate) (3.0.9)\r\n",
      "Requirement already satisfied: charset-normalizer<4,>=2 in /opt/conda/lib/python3.10/site-packages (from requests>=2.19.0->evaluate) (3.1.0)\r\n",
      "Requirement already satisfied: idna<4,>=2.5 in /opt/conda/lib/python3.10/site-packages (from requests>=2.19.0->evaluate) (3.4)\r\n",
      "Requirement already satisfied: urllib3<3,>=1.21.1 in /opt/conda/lib/python3.10/site-packages (from requests>=2.19.0->evaluate) (1.26.15)\r\n",
      "Requirement already satisfied: certifi>=2017.4.17 in /opt/conda/lib/python3.10/site-packages (from requests>=2.19.0->evaluate) (2023.5.7)\r\n",
      "Requirement already satisfied: python-dateutil>=2.8.1 in /opt/conda/lib/python3.10/site-packages (from pandas->evaluate) (2.8.2)\r\n",
      "Requirement already satisfied: pytz>=2020.1 in /opt/conda/lib/python3.10/site-packages (from pandas->evaluate) (2023.3)\r\n",
      "Requirement already satisfied: attrs>=17.3.0 in /opt/conda/lib/python3.10/site-packages (from aiohttp->datasets>=2.0.0->evaluate) (23.1.0)\r\n",
      "Requirement already satisfied: multidict<7.0,>=4.5 in /opt/conda/lib/python3.10/site-packages (from aiohttp->datasets>=2.0.0->evaluate) (6.0.4)\r\n",
      "Requirement already satisfied: async-timeout<5.0,>=4.0.0a3 in /opt/conda/lib/python3.10/site-packages (from aiohttp->datasets>=2.0.0->evaluate) (4.0.2)\r\n",
      "Requirement already satisfied: yarl<2.0,>=1.0 in /opt/conda/lib/python3.10/site-packages (from aiohttp->datasets>=2.0.0->evaluate) (1.9.2)\r\n",
      "Requirement already satisfied: frozenlist>=1.1.1 in /opt/conda/lib/python3.10/site-packages (from aiohttp->datasets>=2.0.0->evaluate) (1.3.3)\r\n",
      "Requirement already satisfied: aiosignal>=1.1.2 in /opt/conda/lib/python3.10/site-packages (from aiohttp->datasets>=2.0.0->evaluate) (1.3.1)\r\n",
      "Requirement already satisfied: six>=1.5 in /opt/conda/lib/python3.10/site-packages (from python-dateutil>=2.8.1->pandas->evaluate) (1.16.0)\r\n",
      "Installing collected packages: evaluate\r\n",
      "Successfully installed evaluate-0.4.0\r\n"
     ]
    }
   ],
   "source": [
    "# To install the Hugging Face datasets\n",
    "! pip install -q datasets\n",
    "! pip install evaluate"
   ]
  },
  {
   "cell_type": "code",
   "execution_count": 2,
   "id": "9d11244e",
   "metadata": {
    "_cell_guid": "b1076dfc-b9ad-4769-8c92-a6c4dae69d19",
    "_uuid": "8f2839f25d086af736a60e9eeb907d3b93b6e0e5",
    "execution": {
     "iopub.execute_input": "2023-08-30T09:14:07.876595Z",
     "iopub.status.busy": "2023-08-30T09:14:07.875027Z",
     "iopub.status.idle": "2023-08-30T09:14:26.008920Z",
     "shell.execute_reply": "2023-08-30T09:14:26.007979Z"
    },
    "papermill": {
     "duration": 18.157853,
     "end_time": "2023-08-30T09:14:26.011271",
     "exception": false,
     "start_time": "2023-08-30T09:14:07.853418",
     "status": "completed"
    },
    "tags": []
   },
   "outputs": [
    {
     "name": "stderr",
     "output_type": "stream",
     "text": [
      "/opt/conda/lib/python3.10/site-packages/scipy/__init__.py:146: UserWarning: A NumPy version >=1.16.5 and <1.23.0 is required for this version of SciPy (detected version 1.23.5\n",
      "  warnings.warn(f\"A NumPy version >={np_minversion} and <{np_maxversion}\"\n",
      "/opt/conda/lib/python3.10/site-packages/tensorflow_io/python/ops/__init__.py:98: UserWarning: unable to load libtensorflow_io_plugins.so: unable to open file: libtensorflow_io_plugins.so, from paths: ['/opt/conda/lib/python3.10/site-packages/tensorflow_io/python/ops/libtensorflow_io_plugins.so']\n",
      "caused by: ['/opt/conda/lib/python3.10/site-packages/tensorflow_io/python/ops/libtensorflow_io_plugins.so: undefined symbol: _ZN3tsl6StatusC1EN10tensorflow5error4CodeESt17basic_string_viewIcSt11char_traitsIcEENS_14SourceLocationE']\n",
      "  warnings.warn(f\"unable to load libtensorflow_io_plugins.so: {e}\")\n",
      "/opt/conda/lib/python3.10/site-packages/tensorflow_io/python/ops/__init__.py:104: UserWarning: file system plugins are not loaded: unable to open file: libtensorflow_io.so, from paths: ['/opt/conda/lib/python3.10/site-packages/tensorflow_io/python/ops/libtensorflow_io.so']\n",
      "caused by: ['/opt/conda/lib/python3.10/site-packages/tensorflow_io/python/ops/libtensorflow_io.so: undefined symbol: _ZTVN10tensorflow13GcsFileSystemE']\n",
      "  warnings.warn(f\"file system plugins are not loaded: {e}\")\n"
     ]
    }
   ],
   "source": [
    "import pandas as pd \n",
    "import numpy as np\n",
    "from sklearn.linear_model import LinearRegression\n",
    "\n",
    "import datasets\n",
    "from datasets import Dataset,DatasetDict\n",
    "from datasets import load_metric\n",
    "import evaluate\n",
    "\n",
    "import re\n",
    "import emoji\n",
    "import nltk\n",
    "\n",
    "from transformers import AutoModelForSequenceClassification,AutoTokenizer\n",
    "from transformers import TrainingArguments,Trainer\n",
    "from transformers import set_seed\n",
    "\n",
    "import warnings, logging\n",
    "warnings.simplefilter('ignore')\n",
    "logging.disable(logging.WARNING)"
   ]
  },
  {
   "cell_type": "code",
   "execution_count": 3,
   "id": "07973a90",
   "metadata": {
    "execution": {
     "iopub.execute_input": "2023-08-30T09:14:26.054956Z",
     "iopub.status.busy": "2023-08-30T09:14:26.054149Z",
     "iopub.status.idle": "2023-08-30T09:14:26.126032Z",
     "shell.execute_reply": "2023-08-30T09:14:26.124613Z"
    },
    "papermill": {
     "duration": 0.095848,
     "end_time": "2023-08-30T09:14:26.128272",
     "exception": false,
     "start_time": "2023-08-30T09:14:26.032424",
     "status": "completed"
    },
    "tags": []
   },
   "outputs": [
    {
     "name": "stdout",
     "output_type": "stream",
     "text": [
      "Training Set Shape = (7613, 5)\n",
      "Training Set Memory Usage = 0.29 MB\n",
      "Test Set Shape = (3263, 4)\n",
      "Test Set Memory Usage = 0.10 MB\n"
     ]
    }
   ],
   "source": [
    "train = pd.read_csv(\"/kaggle/input/nlp-getting-started/train.csv\")\n",
    "test = pd.read_csv(\"/kaggle/input/nlp-getting-started/test.csv\")\n",
    "\n",
    "print('Training Set Shape = {}'.format(train.shape))\n",
    "print('Training Set Memory Usage = {:.2f} MB'.format(train.memory_usage().sum() / 1024**2))\n",
    "print('Test Set Shape = {}'.format(test.shape))\n",
    "print('Test Set Memory Usage = {:.2f} MB'.format(test.memory_usage().sum() / 1024**2))"
   ]
  },
  {
   "cell_type": "code",
   "execution_count": 4,
   "id": "6943047c",
   "metadata": {
    "execution": {
     "iopub.execute_input": "2023-08-30T09:14:26.174330Z",
     "iopub.status.busy": "2023-08-30T09:14:26.173410Z",
     "iopub.status.idle": "2023-08-30T09:14:26.194671Z",
     "shell.execute_reply": "2023-08-30T09:14:26.193771Z"
    },
    "papermill": {
     "duration": 0.047426,
     "end_time": "2023-08-30T09:14:26.197114",
     "exception": false,
     "start_time": "2023-08-30T09:14:26.149688",
     "status": "completed"
    },
    "tags": []
   },
   "outputs": [
    {
     "data": {
      "text/html": [
       "<div>\n",
       "<style scoped>\n",
       "    .dataframe tbody tr th:only-of-type {\n",
       "        vertical-align: middle;\n",
       "    }\n",
       "\n",
       "    .dataframe tbody tr th {\n",
       "        vertical-align: top;\n",
       "    }\n",
       "\n",
       "    .dataframe thead th {\n",
       "        text-align: right;\n",
       "    }\n",
       "</style>\n",
       "<table border=\"1\" class=\"dataframe\">\n",
       "  <thead>\n",
       "    <tr style=\"text-align: right;\">\n",
       "      <th></th>\n",
       "      <th>id</th>\n",
       "      <th>keyword</th>\n",
       "      <th>location</th>\n",
       "      <th>text</th>\n",
       "      <th>target</th>\n",
       "    </tr>\n",
       "  </thead>\n",
       "  <tbody>\n",
       "    <tr>\n",
       "      <th>0</th>\n",
       "      <td>1</td>\n",
       "      <td>NaN</td>\n",
       "      <td>NaN</td>\n",
       "      <td>Our Deeds are the Reason of this #earthquake M...</td>\n",
       "      <td>1</td>\n",
       "    </tr>\n",
       "    <tr>\n",
       "      <th>1</th>\n",
       "      <td>4</td>\n",
       "      <td>NaN</td>\n",
       "      <td>NaN</td>\n",
       "      <td>Forest fire near La Ronge Sask. Canada</td>\n",
       "      <td>1</td>\n",
       "    </tr>\n",
       "    <tr>\n",
       "      <th>2</th>\n",
       "      <td>5</td>\n",
       "      <td>NaN</td>\n",
       "      <td>NaN</td>\n",
       "      <td>All residents asked to 'shelter in place' are ...</td>\n",
       "      <td>1</td>\n",
       "    </tr>\n",
       "    <tr>\n",
       "      <th>3</th>\n",
       "      <td>6</td>\n",
       "      <td>NaN</td>\n",
       "      <td>NaN</td>\n",
       "      <td>13,000 people receive #wildfires evacuation or...</td>\n",
       "      <td>1</td>\n",
       "    </tr>\n",
       "    <tr>\n",
       "      <th>4</th>\n",
       "      <td>7</td>\n",
       "      <td>NaN</td>\n",
       "      <td>NaN</td>\n",
       "      <td>Just got sent this photo from Ruby #Alaska as ...</td>\n",
       "      <td>1</td>\n",
       "    </tr>\n",
       "    <tr>\n",
       "      <th>...</th>\n",
       "      <td>...</td>\n",
       "      <td>...</td>\n",
       "      <td>...</td>\n",
       "      <td>...</td>\n",
       "      <td>...</td>\n",
       "    </tr>\n",
       "    <tr>\n",
       "      <th>7608</th>\n",
       "      <td>10869</td>\n",
       "      <td>NaN</td>\n",
       "      <td>NaN</td>\n",
       "      <td>Two giant cranes holding a bridge collapse int...</td>\n",
       "      <td>1</td>\n",
       "    </tr>\n",
       "    <tr>\n",
       "      <th>7609</th>\n",
       "      <td>10870</td>\n",
       "      <td>NaN</td>\n",
       "      <td>NaN</td>\n",
       "      <td>@aria_ahrary @TheTawniest The out of control w...</td>\n",
       "      <td>1</td>\n",
       "    </tr>\n",
       "    <tr>\n",
       "      <th>7610</th>\n",
       "      <td>10871</td>\n",
       "      <td>NaN</td>\n",
       "      <td>NaN</td>\n",
       "      <td>M1.94 [01:04 UTC]?5km S of Volcano Hawaii. htt...</td>\n",
       "      <td>1</td>\n",
       "    </tr>\n",
       "    <tr>\n",
       "      <th>7611</th>\n",
       "      <td>10872</td>\n",
       "      <td>NaN</td>\n",
       "      <td>NaN</td>\n",
       "      <td>Police investigating after an e-bike collided ...</td>\n",
       "      <td>1</td>\n",
       "    </tr>\n",
       "    <tr>\n",
       "      <th>7612</th>\n",
       "      <td>10873</td>\n",
       "      <td>NaN</td>\n",
       "      <td>NaN</td>\n",
       "      <td>The Latest: More Homes Razed by Northern Calif...</td>\n",
       "      <td>1</td>\n",
       "    </tr>\n",
       "  </tbody>\n",
       "</table>\n",
       "<p>7613 rows × 5 columns</p>\n",
       "</div>"
      ],
      "text/plain": [
       "         id keyword location  \\\n",
       "0         1     NaN      NaN   \n",
       "1         4     NaN      NaN   \n",
       "2         5     NaN      NaN   \n",
       "3         6     NaN      NaN   \n",
       "4         7     NaN      NaN   \n",
       "...     ...     ...      ...   \n",
       "7608  10869     NaN      NaN   \n",
       "7609  10870     NaN      NaN   \n",
       "7610  10871     NaN      NaN   \n",
       "7611  10872     NaN      NaN   \n",
       "7612  10873     NaN      NaN   \n",
       "\n",
       "                                                   text  target  \n",
       "0     Our Deeds are the Reason of this #earthquake M...       1  \n",
       "1                Forest fire near La Ronge Sask. Canada       1  \n",
       "2     All residents asked to 'shelter in place' are ...       1  \n",
       "3     13,000 people receive #wildfires evacuation or...       1  \n",
       "4     Just got sent this photo from Ruby #Alaska as ...       1  \n",
       "...                                                 ...     ...  \n",
       "7608  Two giant cranes holding a bridge collapse int...       1  \n",
       "7609  @aria_ahrary @TheTawniest The out of control w...       1  \n",
       "7610  M1.94 [01:04 UTC]?5km S of Volcano Hawaii. htt...       1  \n",
       "7611  Police investigating after an e-bike collided ...       1  \n",
       "7612  The Latest: More Homes Razed by Northern Calif...       1  \n",
       "\n",
       "[7613 rows x 5 columns]"
      ]
     },
     "execution_count": 4,
     "metadata": {},
     "output_type": "execute_result"
    }
   ],
   "source": [
    "train"
   ]
  },
  {
   "cell_type": "code",
   "execution_count": 5,
   "id": "95f6e16a",
   "metadata": {
    "execution": {
     "iopub.execute_input": "2023-08-30T09:14:26.244239Z",
     "iopub.status.busy": "2023-08-30T09:14:26.244034Z",
     "iopub.status.idle": "2023-08-30T09:14:26.257482Z",
     "shell.execute_reply": "2023-08-30T09:14:26.256349Z"
    },
    "papermill": {
     "duration": 0.039866,
     "end_time": "2023-08-30T09:14:26.261335",
     "exception": false,
     "start_time": "2023-08-30T09:14:26.221469",
     "status": "completed"
    },
    "tags": []
   },
   "outputs": [
    {
     "data": {
      "text/html": [
       "<div>\n",
       "<style scoped>\n",
       "    .dataframe tbody tr th:only-of-type {\n",
       "        vertical-align: middle;\n",
       "    }\n",
       "\n",
       "    .dataframe tbody tr th {\n",
       "        vertical-align: top;\n",
       "    }\n",
       "\n",
       "    .dataframe thead th {\n",
       "        text-align: right;\n",
       "    }\n",
       "</style>\n",
       "<table border=\"1\" class=\"dataframe\">\n",
       "  <thead>\n",
       "    <tr style=\"text-align: right;\">\n",
       "      <th></th>\n",
       "      <th>id</th>\n",
       "      <th>keyword</th>\n",
       "      <th>location</th>\n",
       "      <th>text</th>\n",
       "    </tr>\n",
       "  </thead>\n",
       "  <tbody>\n",
       "    <tr>\n",
       "      <th>0</th>\n",
       "      <td>0</td>\n",
       "      <td>NaN</td>\n",
       "      <td>NaN</td>\n",
       "      <td>Just happened a terrible car crash</td>\n",
       "    </tr>\n",
       "    <tr>\n",
       "      <th>1</th>\n",
       "      <td>2</td>\n",
       "      <td>NaN</td>\n",
       "      <td>NaN</td>\n",
       "      <td>Heard about #earthquake is different cities, s...</td>\n",
       "    </tr>\n",
       "    <tr>\n",
       "      <th>2</th>\n",
       "      <td>3</td>\n",
       "      <td>NaN</td>\n",
       "      <td>NaN</td>\n",
       "      <td>there is a forest fire at spot pond, geese are...</td>\n",
       "    </tr>\n",
       "    <tr>\n",
       "      <th>3</th>\n",
       "      <td>9</td>\n",
       "      <td>NaN</td>\n",
       "      <td>NaN</td>\n",
       "      <td>Apocalypse lighting. #Spokane #wildfires</td>\n",
       "    </tr>\n",
       "    <tr>\n",
       "      <th>4</th>\n",
       "      <td>11</td>\n",
       "      <td>NaN</td>\n",
       "      <td>NaN</td>\n",
       "      <td>Typhoon Soudelor kills 28 in China and Taiwan</td>\n",
       "    </tr>\n",
       "    <tr>\n",
       "      <th>...</th>\n",
       "      <td>...</td>\n",
       "      <td>...</td>\n",
       "      <td>...</td>\n",
       "      <td>...</td>\n",
       "    </tr>\n",
       "    <tr>\n",
       "      <th>3258</th>\n",
       "      <td>10861</td>\n",
       "      <td>NaN</td>\n",
       "      <td>NaN</td>\n",
       "      <td>EARTHQUAKE SAFETY LOS ANGELES ÛÒ SAFETY FASTE...</td>\n",
       "    </tr>\n",
       "    <tr>\n",
       "      <th>3259</th>\n",
       "      <td>10865</td>\n",
       "      <td>NaN</td>\n",
       "      <td>NaN</td>\n",
       "      <td>Storm in RI worse than last hurricane. My city...</td>\n",
       "    </tr>\n",
       "    <tr>\n",
       "      <th>3260</th>\n",
       "      <td>10868</td>\n",
       "      <td>NaN</td>\n",
       "      <td>NaN</td>\n",
       "      <td>Green Line derailment in Chicago http://t.co/U...</td>\n",
       "    </tr>\n",
       "    <tr>\n",
       "      <th>3261</th>\n",
       "      <td>10874</td>\n",
       "      <td>NaN</td>\n",
       "      <td>NaN</td>\n",
       "      <td>MEG issues Hazardous Weather Outlook (HWO) htt...</td>\n",
       "    </tr>\n",
       "    <tr>\n",
       "      <th>3262</th>\n",
       "      <td>10875</td>\n",
       "      <td>NaN</td>\n",
       "      <td>NaN</td>\n",
       "      <td>#CityofCalgary has activated its Municipal Eme...</td>\n",
       "    </tr>\n",
       "  </tbody>\n",
       "</table>\n",
       "<p>3263 rows × 4 columns</p>\n",
       "</div>"
      ],
      "text/plain": [
       "         id keyword location  \\\n",
       "0         0     NaN      NaN   \n",
       "1         2     NaN      NaN   \n",
       "2         3     NaN      NaN   \n",
       "3         9     NaN      NaN   \n",
       "4        11     NaN      NaN   \n",
       "...     ...     ...      ...   \n",
       "3258  10861     NaN      NaN   \n",
       "3259  10865     NaN      NaN   \n",
       "3260  10868     NaN      NaN   \n",
       "3261  10874     NaN      NaN   \n",
       "3262  10875     NaN      NaN   \n",
       "\n",
       "                                                   text  \n",
       "0                    Just happened a terrible car crash  \n",
       "1     Heard about #earthquake is different cities, s...  \n",
       "2     there is a forest fire at spot pond, geese are...  \n",
       "3              Apocalypse lighting. #Spokane #wildfires  \n",
       "4         Typhoon Soudelor kills 28 in China and Taiwan  \n",
       "...                                                 ...  \n",
       "3258  EARTHQUAKE SAFETY LOS ANGELES ÛÒ SAFETY FASTE...  \n",
       "3259  Storm in RI worse than last hurricane. My city...  \n",
       "3260  Green Line derailment in Chicago http://t.co/U...  \n",
       "3261  MEG issues Hazardous Weather Outlook (HWO) htt...  \n",
       "3262  #CityofCalgary has activated its Municipal Eme...  \n",
       "\n",
       "[3263 rows x 4 columns]"
      ]
     },
     "execution_count": 5,
     "metadata": {},
     "output_type": "execute_result"
    }
   ],
   "source": [
    "test"
   ]
  },
  {
   "cell_type": "markdown",
   "id": "a55ac873",
   "metadata": {
    "papermill": {
     "duration": 0.021892,
     "end_time": "2023-08-30T09:14:26.306310",
     "exception": false,
     "start_time": "2023-08-30T09:14:26.284418",
     "status": "completed"
    },
    "tags": []
   },
   "source": [
    "In researching a way to clean up the text in these tweets, the following Stack Overflow post was extremely helpful: https://stackoverflow.com/questions/64719706/cleaning-twitter-data-pandas-python"
   ]
  },
  {
   "cell_type": "code",
   "execution_count": 6,
   "id": "9979ec4e",
   "metadata": {
    "execution": {
     "iopub.execute_input": "2023-08-30T09:14:26.351844Z",
     "iopub.status.busy": "2023-08-30T09:14:26.351103Z",
     "iopub.status.idle": "2023-08-30T09:14:27.580957Z",
     "shell.execute_reply": "2023-08-30T09:14:27.579854Z"
    },
    "papermill": {
     "duration": 1.255321,
     "end_time": "2023-08-30T09:14:27.583503",
     "exception": false,
     "start_time": "2023-08-30T09:14:26.328182",
     "status": "completed"
    },
    "tags": []
   },
   "outputs": [],
   "source": [
    "train_clean_tweets = []\n",
    "for tweet in train['text']:\n",
    "    tweet = re.sub(\"@[A-Za-z0-9]+\",\"\",tweet) #Remove @ sign\n",
    "    tweet = re.sub(r\"(?:\\@|http?\\://|https?\\://|www)\\S+\", \"\", tweet) #Remove http links\n",
    "    tweet = \" \".join(tweet.split())\n",
    "    emojis = emoji.distinct_emoji_list(tweet)\n",
    "    tweet = ''.join(c for c in tweet if c not in emojis) #Remove Emojis\n",
    "    tweet = tweet.replace(\"#\", \"\").replace(\"_\", \" \") #Remove hashtag sign but keep the text\n",
    "    #tweet = \" \".join(w for w in nltk.wordpunct_tokenize(tweet) \\\n",
    "         #if w.lower() in tweet or not w.isalpha())\n",
    "    train_clean_tweets.append(tweet)\n",
    "    \n",
    "train['clean_text'] = train_clean_tweets"
   ]
  },
  {
   "cell_type": "code",
   "execution_count": 7,
   "id": "20ce3f1d",
   "metadata": {
    "execution": {
     "iopub.execute_input": "2023-08-30T09:14:27.633203Z",
     "iopub.status.busy": "2023-08-30T09:14:27.632443Z",
     "iopub.status.idle": "2023-08-30T09:14:27.647917Z",
     "shell.execute_reply": "2023-08-30T09:14:27.646809Z"
    },
    "papermill": {
     "duration": 0.042557,
     "end_time": "2023-08-30T09:14:27.650973",
     "exception": false,
     "start_time": "2023-08-30T09:14:27.608416",
     "status": "completed"
    },
    "tags": []
   },
   "outputs": [
    {
     "data": {
      "text/html": [
       "<div>\n",
       "<style scoped>\n",
       "    .dataframe tbody tr th:only-of-type {\n",
       "        vertical-align: middle;\n",
       "    }\n",
       "\n",
       "    .dataframe tbody tr th {\n",
       "        vertical-align: top;\n",
       "    }\n",
       "\n",
       "    .dataframe thead th {\n",
       "        text-align: right;\n",
       "    }\n",
       "</style>\n",
       "<table border=\"1\" class=\"dataframe\">\n",
       "  <thead>\n",
       "    <tr style=\"text-align: right;\">\n",
       "      <th></th>\n",
       "      <th>id</th>\n",
       "      <th>keyword</th>\n",
       "      <th>location</th>\n",
       "      <th>text</th>\n",
       "      <th>target</th>\n",
       "      <th>clean_text</th>\n",
       "    </tr>\n",
       "  </thead>\n",
       "  <tbody>\n",
       "    <tr>\n",
       "      <th>0</th>\n",
       "      <td>1</td>\n",
       "      <td>NaN</td>\n",
       "      <td>NaN</td>\n",
       "      <td>Our Deeds are the Reason of this #earthquake M...</td>\n",
       "      <td>1</td>\n",
       "      <td>Our Deeds are the Reason of this earthquake Ma...</td>\n",
       "    </tr>\n",
       "    <tr>\n",
       "      <th>1</th>\n",
       "      <td>4</td>\n",
       "      <td>NaN</td>\n",
       "      <td>NaN</td>\n",
       "      <td>Forest fire near La Ronge Sask. Canada</td>\n",
       "      <td>1</td>\n",
       "      <td>Forest fire near La Ronge Sask. Canada</td>\n",
       "    </tr>\n",
       "    <tr>\n",
       "      <th>2</th>\n",
       "      <td>5</td>\n",
       "      <td>NaN</td>\n",
       "      <td>NaN</td>\n",
       "      <td>All residents asked to 'shelter in place' are ...</td>\n",
       "      <td>1</td>\n",
       "      <td>All residents asked to 'shelter in place' are ...</td>\n",
       "    </tr>\n",
       "    <tr>\n",
       "      <th>3</th>\n",
       "      <td>6</td>\n",
       "      <td>NaN</td>\n",
       "      <td>NaN</td>\n",
       "      <td>13,000 people receive #wildfires evacuation or...</td>\n",
       "      <td>1</td>\n",
       "      <td>13,000 people receive wildfires evacuation ord...</td>\n",
       "    </tr>\n",
       "    <tr>\n",
       "      <th>4</th>\n",
       "      <td>7</td>\n",
       "      <td>NaN</td>\n",
       "      <td>NaN</td>\n",
       "      <td>Just got sent this photo from Ruby #Alaska as ...</td>\n",
       "      <td>1</td>\n",
       "      <td>Just got sent this photo from Ruby Alaska as s...</td>\n",
       "    </tr>\n",
       "    <tr>\n",
       "      <th>5</th>\n",
       "      <td>8</td>\n",
       "      <td>NaN</td>\n",
       "      <td>NaN</td>\n",
       "      <td>#RockyFire Update =&gt; California Hwy. 20 closed...</td>\n",
       "      <td>1</td>\n",
       "      <td>RockyFire Update =&gt; California Hwy. 20 closed ...</td>\n",
       "    </tr>\n",
       "    <tr>\n",
       "      <th>6</th>\n",
       "      <td>10</td>\n",
       "      <td>NaN</td>\n",
       "      <td>NaN</td>\n",
       "      <td>#flood #disaster Heavy rain causes flash flood...</td>\n",
       "      <td>1</td>\n",
       "      <td>flood disaster Heavy rain causes flash floodin...</td>\n",
       "    </tr>\n",
       "    <tr>\n",
       "      <th>7</th>\n",
       "      <td>13</td>\n",
       "      <td>NaN</td>\n",
       "      <td>NaN</td>\n",
       "      <td>I'm on top of the hill and I can see a fire in...</td>\n",
       "      <td>1</td>\n",
       "      <td>I'm on top of the hill and I can see a fire in...</td>\n",
       "    </tr>\n",
       "    <tr>\n",
       "      <th>8</th>\n",
       "      <td>14</td>\n",
       "      <td>NaN</td>\n",
       "      <td>NaN</td>\n",
       "      <td>There's an emergency evacuation happening now ...</td>\n",
       "      <td>1</td>\n",
       "      <td>There's an emergency evacuation happening now ...</td>\n",
       "    </tr>\n",
       "    <tr>\n",
       "      <th>9</th>\n",
       "      <td>15</td>\n",
       "      <td>NaN</td>\n",
       "      <td>NaN</td>\n",
       "      <td>I'm afraid that the tornado is coming to our a...</td>\n",
       "      <td>1</td>\n",
       "      <td>I'm afraid that the tornado is coming to our a...</td>\n",
       "    </tr>\n",
       "    <tr>\n",
       "      <th>10</th>\n",
       "      <td>16</td>\n",
       "      <td>NaN</td>\n",
       "      <td>NaN</td>\n",
       "      <td>Three people died from the heat wave so far</td>\n",
       "      <td>1</td>\n",
       "      <td>Three people died from the heat wave so far</td>\n",
       "    </tr>\n",
       "    <tr>\n",
       "      <th>11</th>\n",
       "      <td>17</td>\n",
       "      <td>NaN</td>\n",
       "      <td>NaN</td>\n",
       "      <td>Haha South Tampa is getting flooded hah- WAIT ...</td>\n",
       "      <td>1</td>\n",
       "      <td>Haha South Tampa is getting flooded hah- WAIT ...</td>\n",
       "    </tr>\n",
       "    <tr>\n",
       "      <th>12</th>\n",
       "      <td>18</td>\n",
       "      <td>NaN</td>\n",
       "      <td>NaN</td>\n",
       "      <td>#raining #flooding #Florida #TampaBay #Tampa 1...</td>\n",
       "      <td>1</td>\n",
       "      <td>raining flooding Florida TampaBay Tampa 18 or ...</td>\n",
       "    </tr>\n",
       "    <tr>\n",
       "      <th>13</th>\n",
       "      <td>19</td>\n",
       "      <td>NaN</td>\n",
       "      <td>NaN</td>\n",
       "      <td>#Flood in Bago Myanmar #We arrived Bago</td>\n",
       "      <td>1</td>\n",
       "      <td>Flood in Bago Myanmar We arrived Bago</td>\n",
       "    </tr>\n",
       "    <tr>\n",
       "      <th>14</th>\n",
       "      <td>20</td>\n",
       "      <td>NaN</td>\n",
       "      <td>NaN</td>\n",
       "      <td>Damage to school bus on 80 in multi car crash ...</td>\n",
       "      <td>1</td>\n",
       "      <td>Damage to school bus on 80 in multi car crash ...</td>\n",
       "    </tr>\n",
       "    <tr>\n",
       "      <th>15</th>\n",
       "      <td>23</td>\n",
       "      <td>NaN</td>\n",
       "      <td>NaN</td>\n",
       "      <td>What's up man?</td>\n",
       "      <td>0</td>\n",
       "      <td>What's up man?</td>\n",
       "    </tr>\n",
       "    <tr>\n",
       "      <th>16</th>\n",
       "      <td>24</td>\n",
       "      <td>NaN</td>\n",
       "      <td>NaN</td>\n",
       "      <td>I love fruits</td>\n",
       "      <td>0</td>\n",
       "      <td>I love fruits</td>\n",
       "    </tr>\n",
       "    <tr>\n",
       "      <th>17</th>\n",
       "      <td>25</td>\n",
       "      <td>NaN</td>\n",
       "      <td>NaN</td>\n",
       "      <td>Summer is lovely</td>\n",
       "      <td>0</td>\n",
       "      <td>Summer is lovely</td>\n",
       "    </tr>\n",
       "    <tr>\n",
       "      <th>18</th>\n",
       "      <td>26</td>\n",
       "      <td>NaN</td>\n",
       "      <td>NaN</td>\n",
       "      <td>My car is so fast</td>\n",
       "      <td>0</td>\n",
       "      <td>My car is so fast</td>\n",
       "    </tr>\n",
       "    <tr>\n",
       "      <th>19</th>\n",
       "      <td>28</td>\n",
       "      <td>NaN</td>\n",
       "      <td>NaN</td>\n",
       "      <td>What a goooooooaaaaaal!!!!!!</td>\n",
       "      <td>0</td>\n",
       "      <td>What a goooooooaaaaaal!!!!!!</td>\n",
       "    </tr>\n",
       "    <tr>\n",
       "      <th>20</th>\n",
       "      <td>31</td>\n",
       "      <td>NaN</td>\n",
       "      <td>NaN</td>\n",
       "      <td>this is ridiculous....</td>\n",
       "      <td>0</td>\n",
       "      <td>this is ridiculous....</td>\n",
       "    </tr>\n",
       "    <tr>\n",
       "      <th>21</th>\n",
       "      <td>32</td>\n",
       "      <td>NaN</td>\n",
       "      <td>NaN</td>\n",
       "      <td>London is cool ;)</td>\n",
       "      <td>0</td>\n",
       "      <td>London is cool ;)</td>\n",
       "    </tr>\n",
       "    <tr>\n",
       "      <th>22</th>\n",
       "      <td>33</td>\n",
       "      <td>NaN</td>\n",
       "      <td>NaN</td>\n",
       "      <td>Love skiing</td>\n",
       "      <td>0</td>\n",
       "      <td>Love skiing</td>\n",
       "    </tr>\n",
       "    <tr>\n",
       "      <th>23</th>\n",
       "      <td>34</td>\n",
       "      <td>NaN</td>\n",
       "      <td>NaN</td>\n",
       "      <td>What a wonderful day!</td>\n",
       "      <td>0</td>\n",
       "      <td>What a wonderful day!</td>\n",
       "    </tr>\n",
       "    <tr>\n",
       "      <th>24</th>\n",
       "      <td>36</td>\n",
       "      <td>NaN</td>\n",
       "      <td>NaN</td>\n",
       "      <td>LOOOOOOL</td>\n",
       "      <td>0</td>\n",
       "      <td>LOOOOOOL</td>\n",
       "    </tr>\n",
       "  </tbody>\n",
       "</table>\n",
       "</div>"
      ],
      "text/plain": [
       "    id keyword location                                               text  \\\n",
       "0    1     NaN      NaN  Our Deeds are the Reason of this #earthquake M...   \n",
       "1    4     NaN      NaN             Forest fire near La Ronge Sask. Canada   \n",
       "2    5     NaN      NaN  All residents asked to 'shelter in place' are ...   \n",
       "3    6     NaN      NaN  13,000 people receive #wildfires evacuation or...   \n",
       "4    7     NaN      NaN  Just got sent this photo from Ruby #Alaska as ...   \n",
       "5    8     NaN      NaN  #RockyFire Update => California Hwy. 20 closed...   \n",
       "6   10     NaN      NaN  #flood #disaster Heavy rain causes flash flood...   \n",
       "7   13     NaN      NaN  I'm on top of the hill and I can see a fire in...   \n",
       "8   14     NaN      NaN  There's an emergency evacuation happening now ...   \n",
       "9   15     NaN      NaN  I'm afraid that the tornado is coming to our a...   \n",
       "10  16     NaN      NaN        Three people died from the heat wave so far   \n",
       "11  17     NaN      NaN  Haha South Tampa is getting flooded hah- WAIT ...   \n",
       "12  18     NaN      NaN  #raining #flooding #Florida #TampaBay #Tampa 1...   \n",
       "13  19     NaN      NaN            #Flood in Bago Myanmar #We arrived Bago   \n",
       "14  20     NaN      NaN  Damage to school bus on 80 in multi car crash ...   \n",
       "15  23     NaN      NaN                                     What's up man?   \n",
       "16  24     NaN      NaN                                      I love fruits   \n",
       "17  25     NaN      NaN                                   Summer is lovely   \n",
       "18  26     NaN      NaN                                  My car is so fast   \n",
       "19  28     NaN      NaN                       What a goooooooaaaaaal!!!!!!   \n",
       "20  31     NaN      NaN                             this is ridiculous....   \n",
       "21  32     NaN      NaN                                  London is cool ;)   \n",
       "22  33     NaN      NaN                                        Love skiing   \n",
       "23  34     NaN      NaN                              What a wonderful day!   \n",
       "24  36     NaN      NaN                                           LOOOOOOL   \n",
       "\n",
       "    target                                         clean_text  \n",
       "0        1  Our Deeds are the Reason of this earthquake Ma...  \n",
       "1        1             Forest fire near La Ronge Sask. Canada  \n",
       "2        1  All residents asked to 'shelter in place' are ...  \n",
       "3        1  13,000 people receive wildfires evacuation ord...  \n",
       "4        1  Just got sent this photo from Ruby Alaska as s...  \n",
       "5        1  RockyFire Update => California Hwy. 20 closed ...  \n",
       "6        1  flood disaster Heavy rain causes flash floodin...  \n",
       "7        1  I'm on top of the hill and I can see a fire in...  \n",
       "8        1  There's an emergency evacuation happening now ...  \n",
       "9        1  I'm afraid that the tornado is coming to our a...  \n",
       "10       1        Three people died from the heat wave so far  \n",
       "11       1  Haha South Tampa is getting flooded hah- WAIT ...  \n",
       "12       1  raining flooding Florida TampaBay Tampa 18 or ...  \n",
       "13       1              Flood in Bago Myanmar We arrived Bago  \n",
       "14       1  Damage to school bus on 80 in multi car crash ...  \n",
       "15       0                                     What's up man?  \n",
       "16       0                                      I love fruits  \n",
       "17       0                                   Summer is lovely  \n",
       "18       0                                  My car is so fast  \n",
       "19       0                       What a goooooooaaaaaal!!!!!!  \n",
       "20       0                             this is ridiculous....  \n",
       "21       0                                  London is cool ;)  \n",
       "22       0                                        Love skiing  \n",
       "23       0                              What a wonderful day!  \n",
       "24       0                                           LOOOOOOL  "
      ]
     },
     "execution_count": 7,
     "metadata": {},
     "output_type": "execute_result"
    }
   ],
   "source": [
    "train.head(25)"
   ]
  },
  {
   "cell_type": "code",
   "execution_count": 8,
   "id": "dd37d6aa",
   "metadata": {
    "execution": {
     "iopub.execute_input": "2023-08-30T09:14:27.701907Z",
     "iopub.status.busy": "2023-08-30T09:14:27.701670Z",
     "iopub.status.idle": "2023-08-30T09:14:28.226189Z",
     "shell.execute_reply": "2023-08-30T09:14:28.225243Z"
    },
    "papermill": {
     "duration": 0.550632,
     "end_time": "2023-08-30T09:14:28.228658",
     "exception": false,
     "start_time": "2023-08-30T09:14:27.678026",
     "status": "completed"
    },
    "tags": []
   },
   "outputs": [],
   "source": [
    "test_clean_tweets = []\n",
    "for tweet in test['text']:\n",
    "    tweet = re.sub(\"@[A-Za-z0-9]+\",\"\",tweet) #Remove @ sign\n",
    "    tweet = re.sub(r\"(?:\\@|http?\\://|https?\\://|www)\\S+\", \"\", tweet) #Remove http links\n",
    "    tweet = \" \".join(tweet.split())\n",
    "    emojis = emoji.distinct_emoji_list(tweet)\n",
    "    tweet = ''.join(c for c in tweet if c not in emojis) #Remove Emojis\n",
    "    tweet = tweet.replace(\"#\", \"\").replace(\"_\", \" \") #Remove hashtag sign but keep the text\n",
    "    #tweet = \" \".join(w for w in nltk.wordpunct_tokenize(tweet) \\\n",
    "         #if w.lower() in tweet or not w.isalpha())\n",
    "    test_clean_tweets.append(tweet)\n",
    "    \n",
    "test['clean_text'] = test_clean_tweets"
   ]
  },
  {
   "cell_type": "code",
   "execution_count": 9,
   "id": "0336fb98",
   "metadata": {
    "execution": {
     "iopub.execute_input": "2023-08-30T09:14:28.274507Z",
     "iopub.status.busy": "2023-08-30T09:14:28.273860Z",
     "iopub.status.idle": "2023-08-30T09:14:28.287815Z",
     "shell.execute_reply": "2023-08-30T09:14:28.286923Z"
    },
    "papermill": {
     "duration": 0.03855,
     "end_time": "2023-08-30T09:14:28.289892",
     "exception": false,
     "start_time": "2023-08-30T09:14:28.251342",
     "status": "completed"
    },
    "tags": []
   },
   "outputs": [
    {
     "data": {
      "text/html": [
       "<div>\n",
       "<style scoped>\n",
       "    .dataframe tbody tr th:only-of-type {\n",
       "        vertical-align: middle;\n",
       "    }\n",
       "\n",
       "    .dataframe tbody tr th {\n",
       "        vertical-align: top;\n",
       "    }\n",
       "\n",
       "    .dataframe thead th {\n",
       "        text-align: right;\n",
       "    }\n",
       "</style>\n",
       "<table border=\"1\" class=\"dataframe\">\n",
       "  <thead>\n",
       "    <tr style=\"text-align: right;\">\n",
       "      <th></th>\n",
       "      <th>id</th>\n",
       "      <th>keyword</th>\n",
       "      <th>location</th>\n",
       "      <th>text</th>\n",
       "      <th>clean_text</th>\n",
       "    </tr>\n",
       "  </thead>\n",
       "  <tbody>\n",
       "    <tr>\n",
       "      <th>0</th>\n",
       "      <td>0</td>\n",
       "      <td>NaN</td>\n",
       "      <td>NaN</td>\n",
       "      <td>Just happened a terrible car crash</td>\n",
       "      <td>Just happened a terrible car crash</td>\n",
       "    </tr>\n",
       "    <tr>\n",
       "      <th>1</th>\n",
       "      <td>2</td>\n",
       "      <td>NaN</td>\n",
       "      <td>NaN</td>\n",
       "      <td>Heard about #earthquake is different cities, s...</td>\n",
       "      <td>Heard about earthquake is different cities, st...</td>\n",
       "    </tr>\n",
       "    <tr>\n",
       "      <th>2</th>\n",
       "      <td>3</td>\n",
       "      <td>NaN</td>\n",
       "      <td>NaN</td>\n",
       "      <td>there is a forest fire at spot pond, geese are...</td>\n",
       "      <td>there is a forest fire at spot pond, geese are...</td>\n",
       "    </tr>\n",
       "    <tr>\n",
       "      <th>3</th>\n",
       "      <td>9</td>\n",
       "      <td>NaN</td>\n",
       "      <td>NaN</td>\n",
       "      <td>Apocalypse lighting. #Spokane #wildfires</td>\n",
       "      <td>Apocalypse lighting. Spokane wildfires</td>\n",
       "    </tr>\n",
       "    <tr>\n",
       "      <th>4</th>\n",
       "      <td>11</td>\n",
       "      <td>NaN</td>\n",
       "      <td>NaN</td>\n",
       "      <td>Typhoon Soudelor kills 28 in China and Taiwan</td>\n",
       "      <td>Typhoon Soudelor kills 28 in China and Taiwan</td>\n",
       "    </tr>\n",
       "    <tr>\n",
       "      <th>...</th>\n",
       "      <td>...</td>\n",
       "      <td>...</td>\n",
       "      <td>...</td>\n",
       "      <td>...</td>\n",
       "      <td>...</td>\n",
       "    </tr>\n",
       "    <tr>\n",
       "      <th>3258</th>\n",
       "      <td>10861</td>\n",
       "      <td>NaN</td>\n",
       "      <td>NaN</td>\n",
       "      <td>EARTHQUAKE SAFETY LOS ANGELES ÛÒ SAFETY FASTE...</td>\n",
       "      <td>EARTHQUAKE SAFETY LOS ANGELES ÛÒ SAFETY FASTE...</td>\n",
       "    </tr>\n",
       "    <tr>\n",
       "      <th>3259</th>\n",
       "      <td>10865</td>\n",
       "      <td>NaN</td>\n",
       "      <td>NaN</td>\n",
       "      <td>Storm in RI worse than last hurricane. My city...</td>\n",
       "      <td>Storm in RI worse than last hurricane. My city...</td>\n",
       "    </tr>\n",
       "    <tr>\n",
       "      <th>3260</th>\n",
       "      <td>10868</td>\n",
       "      <td>NaN</td>\n",
       "      <td>NaN</td>\n",
       "      <td>Green Line derailment in Chicago http://t.co/U...</td>\n",
       "      <td>Green Line derailment in Chicago</td>\n",
       "    </tr>\n",
       "    <tr>\n",
       "      <th>3261</th>\n",
       "      <td>10874</td>\n",
       "      <td>NaN</td>\n",
       "      <td>NaN</td>\n",
       "      <td>MEG issues Hazardous Weather Outlook (HWO) htt...</td>\n",
       "      <td>MEG issues Hazardous Weather Outlook (HWO)</td>\n",
       "    </tr>\n",
       "    <tr>\n",
       "      <th>3262</th>\n",
       "      <td>10875</td>\n",
       "      <td>NaN</td>\n",
       "      <td>NaN</td>\n",
       "      <td>#CityofCalgary has activated its Municipal Eme...</td>\n",
       "      <td>CityofCalgary has activated its Municipal Emer...</td>\n",
       "    </tr>\n",
       "  </tbody>\n",
       "</table>\n",
       "<p>3263 rows × 5 columns</p>\n",
       "</div>"
      ],
      "text/plain": [
       "         id keyword location  \\\n",
       "0         0     NaN      NaN   \n",
       "1         2     NaN      NaN   \n",
       "2         3     NaN      NaN   \n",
       "3         9     NaN      NaN   \n",
       "4        11     NaN      NaN   \n",
       "...     ...     ...      ...   \n",
       "3258  10861     NaN      NaN   \n",
       "3259  10865     NaN      NaN   \n",
       "3260  10868     NaN      NaN   \n",
       "3261  10874     NaN      NaN   \n",
       "3262  10875     NaN      NaN   \n",
       "\n",
       "                                                   text  \\\n",
       "0                    Just happened a terrible car crash   \n",
       "1     Heard about #earthquake is different cities, s...   \n",
       "2     there is a forest fire at spot pond, geese are...   \n",
       "3              Apocalypse lighting. #Spokane #wildfires   \n",
       "4         Typhoon Soudelor kills 28 in China and Taiwan   \n",
       "...                                                 ...   \n",
       "3258  EARTHQUAKE SAFETY LOS ANGELES ÛÒ SAFETY FASTE...   \n",
       "3259  Storm in RI worse than last hurricane. My city...   \n",
       "3260  Green Line derailment in Chicago http://t.co/U...   \n",
       "3261  MEG issues Hazardous Weather Outlook (HWO) htt...   \n",
       "3262  #CityofCalgary has activated its Municipal Eme...   \n",
       "\n",
       "                                             clean_text  \n",
       "0                    Just happened a terrible car crash  \n",
       "1     Heard about earthquake is different cities, st...  \n",
       "2     there is a forest fire at spot pond, geese are...  \n",
       "3                Apocalypse lighting. Spokane wildfires  \n",
       "4         Typhoon Soudelor kills 28 in China and Taiwan  \n",
       "...                                                 ...  \n",
       "3258  EARTHQUAKE SAFETY LOS ANGELES ÛÒ SAFETY FASTE...  \n",
       "3259  Storm in RI worse than last hurricane. My city...  \n",
       "3260                   Green Line derailment in Chicago  \n",
       "3261         MEG issues Hazardous Weather Outlook (HWO)  \n",
       "3262  CityofCalgary has activated its Municipal Emer...  \n",
       "\n",
       "[3263 rows x 5 columns]"
      ]
     },
     "execution_count": 9,
     "metadata": {},
     "output_type": "execute_result"
    }
   ],
   "source": [
    "test"
   ]
  },
  {
   "cell_type": "markdown",
   "id": "d1ae0224",
   "metadata": {
    "papermill": {
     "duration": 0.021664,
     "end_time": "2023-08-30T09:14:28.335817",
     "exception": false,
     "start_time": "2023-08-30T09:14:28.314153",
     "status": "completed"
    },
    "tags": []
   },
   "source": [
    "The following error was received when starting the trainer: \"RuntimeError: \"mse_cuda\" not implemented for 'Long'\". From a Google search it appears the target data needs to be a float datatype. "
   ]
  },
  {
   "cell_type": "code",
   "execution_count": 10,
   "id": "7b3c610b",
   "metadata": {
    "execution": {
     "iopub.execute_input": "2023-08-30T09:14:28.407673Z",
     "iopub.status.busy": "2023-08-30T09:14:28.407420Z",
     "iopub.status.idle": "2023-08-30T09:14:28.416028Z",
     "shell.execute_reply": "2023-08-30T09:14:28.414012Z"
    },
    "papermill": {
     "duration": 0.055675,
     "end_time": "2023-08-30T09:14:28.422294",
     "exception": false,
     "start_time": "2023-08-30T09:14:28.366619",
     "status": "completed"
    },
    "tags": []
   },
   "outputs": [],
   "source": [
    "train['target'] = train['target'].astype(float)"
   ]
  },
  {
   "cell_type": "code",
   "execution_count": 11,
   "id": "591ec3c4",
   "metadata": {
    "execution": {
     "iopub.execute_input": "2023-08-30T09:14:28.469853Z",
     "iopub.status.busy": "2023-08-30T09:14:28.469619Z",
     "iopub.status.idle": "2023-08-30T09:14:28.476751Z",
     "shell.execute_reply": "2023-08-30T09:14:28.475885Z"
    },
    "papermill": {
     "duration": 0.033042,
     "end_time": "2023-08-30T09:14:28.478700",
     "exception": false,
     "start_time": "2023-08-30T09:14:28.445658",
     "status": "completed"
    },
    "tags": []
   },
   "outputs": [
    {
     "data": {
      "text/plain": [
       "id              int64\n",
       "keyword        object\n",
       "location       object\n",
       "text           object\n",
       "target        float64\n",
       "clean_text     object\n",
       "dtype: object"
      ]
     },
     "execution_count": 11,
     "metadata": {},
     "output_type": "execute_result"
    }
   ],
   "source": [
    "train.dtypes"
   ]
  },
  {
   "cell_type": "markdown",
   "id": "f9d6ea87",
   "metadata": {
    "papermill": {
     "duration": 0.02198,
     "end_time": "2023-08-30T09:14:28.523613",
     "exception": false,
     "start_time": "2023-08-30T09:14:28.501633",
     "status": "completed"
    },
    "tags": []
   },
   "source": [
    "There are no missing values for the text and target in the train dataset and the text in the test dataset. There are a large amount of missing values in location while there are a small amount for keyword."
   ]
  },
  {
   "cell_type": "code",
   "execution_count": 12,
   "id": "926735bb",
   "metadata": {
    "execution": {
     "iopub.execute_input": "2023-08-30T09:14:28.576857Z",
     "iopub.status.busy": "2023-08-30T09:14:28.576538Z",
     "iopub.status.idle": "2023-08-30T09:14:28.607443Z",
     "shell.execute_reply": "2023-08-30T09:14:28.606455Z"
    },
    "papermill": {
     "duration": 0.065596,
     "end_time": "2023-08-30T09:14:28.611489",
     "exception": false,
     "start_time": "2023-08-30T09:14:28.545893",
     "status": "completed"
    },
    "tags": []
   },
   "outputs": [
    {
     "data": {
      "text/plain": [
       "id               0\n",
       "keyword         61\n",
       "location      2533\n",
       "text             0\n",
       "target           0\n",
       "clean_text       0\n",
       "dtype: int64"
      ]
     },
     "execution_count": 12,
     "metadata": {},
     "output_type": "execute_result"
    }
   ],
   "source": [
    "train.isna().sum()"
   ]
  },
  {
   "cell_type": "code",
   "execution_count": 13,
   "id": "23c0440d",
   "metadata": {
    "execution": {
     "iopub.execute_input": "2023-08-30T09:14:28.682789Z",
     "iopub.status.busy": "2023-08-30T09:14:28.682534Z",
     "iopub.status.idle": "2023-08-30T09:14:28.694442Z",
     "shell.execute_reply": "2023-08-30T09:14:28.693563Z"
    },
    "papermill": {
     "duration": 0.042773,
     "end_time": "2023-08-30T09:14:28.696585",
     "exception": false,
     "start_time": "2023-08-30T09:14:28.653812",
     "status": "completed"
    },
    "tags": []
   },
   "outputs": [
    {
     "data": {
      "text/plain": [
       "id               0\n",
       "keyword         26\n",
       "location      1105\n",
       "text             0\n",
       "clean_text       0\n",
       "dtype: int64"
      ]
     },
     "execution_count": 13,
     "metadata": {},
     "output_type": "execute_result"
    }
   ],
   "source": [
    "test.isna().sum()"
   ]
  },
  {
   "cell_type": "markdown",
   "id": "fa292eee",
   "metadata": {
    "papermill": {
     "duration": 0.021892,
     "end_time": "2023-08-30T09:14:28.741155",
     "exception": false,
     "start_time": "2023-08-30T09:14:28.719263",
     "status": "completed"
    },
    "tags": []
   },
   "source": [
    "Hugging Faces expects the input data to actually be titled 'input', so the text column headings are changed. "
   ]
  },
  {
   "cell_type": "code",
   "execution_count": 14,
   "id": "8b78609e",
   "metadata": {
    "execution": {
     "iopub.execute_input": "2023-08-30T09:14:28.788854Z",
     "iopub.status.busy": "2023-08-30T09:14:28.787419Z",
     "iopub.status.idle": "2023-08-30T09:14:28.793634Z",
     "shell.execute_reply": "2023-08-30T09:14:28.792799Z"
    },
    "papermill": {
     "duration": 0.031911,
     "end_time": "2023-08-30T09:14:28.795588",
     "exception": false,
     "start_time": "2023-08-30T09:14:28.763677",
     "status": "completed"
    },
    "tags": []
   },
   "outputs": [],
   "source": [
    "train.rename(columns={'clean_text':'input'}, inplace=True)\n",
    "test.rename(columns={'clean_text':'input'}, inplace=True)"
   ]
  },
  {
   "cell_type": "code",
   "execution_count": 15,
   "id": "d4108106",
   "metadata": {
    "execution": {
     "iopub.execute_input": "2023-08-30T09:14:28.841920Z",
     "iopub.status.busy": "2023-08-30T09:14:28.841231Z",
     "iopub.status.idle": "2023-08-30T09:14:28.857092Z",
     "shell.execute_reply": "2023-08-30T09:14:28.856152Z"
    },
    "papermill": {
     "duration": 0.041731,
     "end_time": "2023-08-30T09:14:28.859390",
     "exception": false,
     "start_time": "2023-08-30T09:14:28.817659",
     "status": "completed"
    },
    "tags": []
   },
   "outputs": [
    {
     "data": {
      "text/html": [
       "<div>\n",
       "<style scoped>\n",
       "    .dataframe tbody tr th:only-of-type {\n",
       "        vertical-align: middle;\n",
       "    }\n",
       "\n",
       "    .dataframe tbody tr th {\n",
       "        vertical-align: top;\n",
       "    }\n",
       "\n",
       "    .dataframe thead th {\n",
       "        text-align: right;\n",
       "    }\n",
       "</style>\n",
       "<table border=\"1\" class=\"dataframe\">\n",
       "  <thead>\n",
       "    <tr style=\"text-align: right;\">\n",
       "      <th></th>\n",
       "      <th>id</th>\n",
       "      <th>keyword</th>\n",
       "      <th>location</th>\n",
       "      <th>text</th>\n",
       "      <th>target</th>\n",
       "      <th>input</th>\n",
       "    </tr>\n",
       "  </thead>\n",
       "  <tbody>\n",
       "    <tr>\n",
       "      <th>0</th>\n",
       "      <td>1</td>\n",
       "      <td>NaN</td>\n",
       "      <td>NaN</td>\n",
       "      <td>Our Deeds are the Reason of this #earthquake M...</td>\n",
       "      <td>1.0</td>\n",
       "      <td>Our Deeds are the Reason of this earthquake Ma...</td>\n",
       "    </tr>\n",
       "    <tr>\n",
       "      <th>1</th>\n",
       "      <td>4</td>\n",
       "      <td>NaN</td>\n",
       "      <td>NaN</td>\n",
       "      <td>Forest fire near La Ronge Sask. Canada</td>\n",
       "      <td>1.0</td>\n",
       "      <td>Forest fire near La Ronge Sask. Canada</td>\n",
       "    </tr>\n",
       "    <tr>\n",
       "      <th>2</th>\n",
       "      <td>5</td>\n",
       "      <td>NaN</td>\n",
       "      <td>NaN</td>\n",
       "      <td>All residents asked to 'shelter in place' are ...</td>\n",
       "      <td>1.0</td>\n",
       "      <td>All residents asked to 'shelter in place' are ...</td>\n",
       "    </tr>\n",
       "    <tr>\n",
       "      <th>3</th>\n",
       "      <td>6</td>\n",
       "      <td>NaN</td>\n",
       "      <td>NaN</td>\n",
       "      <td>13,000 people receive #wildfires evacuation or...</td>\n",
       "      <td>1.0</td>\n",
       "      <td>13,000 people receive wildfires evacuation ord...</td>\n",
       "    </tr>\n",
       "    <tr>\n",
       "      <th>4</th>\n",
       "      <td>7</td>\n",
       "      <td>NaN</td>\n",
       "      <td>NaN</td>\n",
       "      <td>Just got sent this photo from Ruby #Alaska as ...</td>\n",
       "      <td>1.0</td>\n",
       "      <td>Just got sent this photo from Ruby Alaska as s...</td>\n",
       "    </tr>\n",
       "    <tr>\n",
       "      <th>...</th>\n",
       "      <td>...</td>\n",
       "      <td>...</td>\n",
       "      <td>...</td>\n",
       "      <td>...</td>\n",
       "      <td>...</td>\n",
       "      <td>...</td>\n",
       "    </tr>\n",
       "    <tr>\n",
       "      <th>7608</th>\n",
       "      <td>10869</td>\n",
       "      <td>NaN</td>\n",
       "      <td>NaN</td>\n",
       "      <td>Two giant cranes holding a bridge collapse int...</td>\n",
       "      <td>1.0</td>\n",
       "      <td>Two giant cranes holding a bridge collapse int...</td>\n",
       "    </tr>\n",
       "    <tr>\n",
       "      <th>7609</th>\n",
       "      <td>10870</td>\n",
       "      <td>NaN</td>\n",
       "      <td>NaN</td>\n",
       "      <td>@aria_ahrary @TheTawniest The out of control w...</td>\n",
       "      <td>1.0</td>\n",
       "      <td>ahrary The out of control wild fires in Calif...</td>\n",
       "    </tr>\n",
       "    <tr>\n",
       "      <th>7610</th>\n",
       "      <td>10871</td>\n",
       "      <td>NaN</td>\n",
       "      <td>NaN</td>\n",
       "      <td>M1.94 [01:04 UTC]?5km S of Volcano Hawaii. htt...</td>\n",
       "      <td>1.0</td>\n",
       "      <td>M1.94 [01:04 UTC]?5km S of Volcano Hawaii.</td>\n",
       "    </tr>\n",
       "    <tr>\n",
       "      <th>7611</th>\n",
       "      <td>10872</td>\n",
       "      <td>NaN</td>\n",
       "      <td>NaN</td>\n",
       "      <td>Police investigating after an e-bike collided ...</td>\n",
       "      <td>1.0</td>\n",
       "      <td>Police investigating after an e-bike collided ...</td>\n",
       "    </tr>\n",
       "    <tr>\n",
       "      <th>7612</th>\n",
       "      <td>10873</td>\n",
       "      <td>NaN</td>\n",
       "      <td>NaN</td>\n",
       "      <td>The Latest: More Homes Razed by Northern Calif...</td>\n",
       "      <td>1.0</td>\n",
       "      <td>The Latest: More Homes Razed by Northern Calif...</td>\n",
       "    </tr>\n",
       "  </tbody>\n",
       "</table>\n",
       "<p>7613 rows × 6 columns</p>\n",
       "</div>"
      ],
      "text/plain": [
       "         id keyword location  \\\n",
       "0         1     NaN      NaN   \n",
       "1         4     NaN      NaN   \n",
       "2         5     NaN      NaN   \n",
       "3         6     NaN      NaN   \n",
       "4         7     NaN      NaN   \n",
       "...     ...     ...      ...   \n",
       "7608  10869     NaN      NaN   \n",
       "7609  10870     NaN      NaN   \n",
       "7610  10871     NaN      NaN   \n",
       "7611  10872     NaN      NaN   \n",
       "7612  10873     NaN      NaN   \n",
       "\n",
       "                                                   text  target  \\\n",
       "0     Our Deeds are the Reason of this #earthquake M...     1.0   \n",
       "1                Forest fire near La Ronge Sask. Canada     1.0   \n",
       "2     All residents asked to 'shelter in place' are ...     1.0   \n",
       "3     13,000 people receive #wildfires evacuation or...     1.0   \n",
       "4     Just got sent this photo from Ruby #Alaska as ...     1.0   \n",
       "...                                                 ...     ...   \n",
       "7608  Two giant cranes holding a bridge collapse int...     1.0   \n",
       "7609  @aria_ahrary @TheTawniest The out of control w...     1.0   \n",
       "7610  M1.94 [01:04 UTC]?5km S of Volcano Hawaii. htt...     1.0   \n",
       "7611  Police investigating after an e-bike collided ...     1.0   \n",
       "7612  The Latest: More Homes Razed by Northern Calif...     1.0   \n",
       "\n",
       "                                                  input  \n",
       "0     Our Deeds are the Reason of this earthquake Ma...  \n",
       "1                Forest fire near La Ronge Sask. Canada  \n",
       "2     All residents asked to 'shelter in place' are ...  \n",
       "3     13,000 people receive wildfires evacuation ord...  \n",
       "4     Just got sent this photo from Ruby Alaska as s...  \n",
       "...                                                 ...  \n",
       "7608  Two giant cranes holding a bridge collapse int...  \n",
       "7609   ahrary The out of control wild fires in Calif...  \n",
       "7610         M1.94 [01:04 UTC]?5km S of Volcano Hawaii.  \n",
       "7611  Police investigating after an e-bike collided ...  \n",
       "7612  The Latest: More Homes Razed by Northern Calif...  \n",
       "\n",
       "[7613 rows x 6 columns]"
      ]
     },
     "execution_count": 15,
     "metadata": {},
     "output_type": "execute_result"
    }
   ],
   "source": [
    "train"
   ]
  },
  {
   "cell_type": "markdown",
   "id": "9a3118b3",
   "metadata": {
    "papermill": {
     "duration": 0.022786,
     "end_time": "2023-08-30T09:14:28.905561",
     "exception": false,
     "start_time": "2023-08-30T09:14:28.882775",
     "status": "completed"
    },
    "tags": []
   },
   "source": [
    "Looking at the number of unique values in each column of the train dataset it shows that there are 7613 total columns, but only 6922 of the input columns are unique, which is a total of 791 rows. That is a lot. The question whether a unique input value with many occurances are all labeled with the same target values.   "
   ]
  },
  {
   "cell_type": "code",
   "execution_count": 16,
   "id": "f81fafdb",
   "metadata": {
    "execution": {
     "iopub.execute_input": "2023-08-30T09:14:28.953323Z",
     "iopub.status.busy": "2023-08-30T09:14:28.953101Z",
     "iopub.status.idle": "2023-08-30T09:14:28.972742Z",
     "shell.execute_reply": "2023-08-30T09:14:28.971806Z"
    },
    "papermill": {
     "duration": 0.046916,
     "end_time": "2023-08-30T09:14:28.974951",
     "exception": false,
     "start_time": "2023-08-30T09:14:28.928035",
     "status": "completed"
    },
    "tags": []
   },
   "outputs": [
    {
     "data": {
      "text/plain": [
       "id          7613\n",
       "keyword      221\n",
       "location    3341\n",
       "text        7503\n",
       "target         2\n",
       "input       6922\n",
       "dtype: int64"
      ]
     },
     "execution_count": 16,
     "metadata": {},
     "output_type": "execute_result"
    }
   ],
   "source": [
    "train.nunique()"
   ]
  },
  {
   "cell_type": "markdown",
   "id": "361465b4",
   "metadata": {
    "papermill": {
     "duration": 0.022474,
     "end_time": "2023-08-30T09:14:29.020059",
     "exception": false,
     "start_time": "2023-08-30T09:14:28.997585",
     "status": "completed"
    },
    "tags": []
   },
   "source": [
    "To explore this a new column called 'unique_input' is created to be able to explore some of the larger occurances and then possible be used as a basis to correct any issues. "
   ]
  },
  {
   "cell_type": "code",
   "execution_count": 17,
   "id": "49d0fabe",
   "metadata": {
    "execution": {
     "iopub.execute_input": "2023-08-30T09:14:29.067057Z",
     "iopub.status.busy": "2023-08-30T09:14:29.066376Z",
     "iopub.status.idle": "2023-08-30T09:14:29.074263Z",
     "shell.execute_reply": "2023-08-30T09:14:29.073322Z"
    },
    "papermill": {
     "duration": 0.033741,
     "end_time": "2023-08-30T09:14:29.076304",
     "exception": false,
     "start_time": "2023-08-30T09:14:29.042563",
     "status": "completed"
    },
    "tags": []
   },
   "outputs": [],
   "source": [
    "train['unique_input'] = pd.factorize(train['input'])[0] + 1"
   ]
  },
  {
   "cell_type": "code",
   "execution_count": 18,
   "id": "507dc835",
   "metadata": {
    "execution": {
     "iopub.execute_input": "2023-08-30T09:14:29.123793Z",
     "iopub.status.busy": "2023-08-30T09:14:29.123117Z",
     "iopub.status.idle": "2023-08-30T09:14:29.139207Z",
     "shell.execute_reply": "2023-08-30T09:14:29.138296Z"
    },
    "papermill": {
     "duration": 0.042147,
     "end_time": "2023-08-30T09:14:29.141450",
     "exception": false,
     "start_time": "2023-08-30T09:14:29.099303",
     "status": "completed"
    },
    "tags": []
   },
   "outputs": [
    {
     "data": {
      "text/html": [
       "<div>\n",
       "<style scoped>\n",
       "    .dataframe tbody tr th:only-of-type {\n",
       "        vertical-align: middle;\n",
       "    }\n",
       "\n",
       "    .dataframe tbody tr th {\n",
       "        vertical-align: top;\n",
       "    }\n",
       "\n",
       "    .dataframe thead th {\n",
       "        text-align: right;\n",
       "    }\n",
       "</style>\n",
       "<table border=\"1\" class=\"dataframe\">\n",
       "  <thead>\n",
       "    <tr style=\"text-align: right;\">\n",
       "      <th></th>\n",
       "      <th>id</th>\n",
       "      <th>keyword</th>\n",
       "      <th>location</th>\n",
       "      <th>text</th>\n",
       "      <th>target</th>\n",
       "      <th>input</th>\n",
       "      <th>unique_input</th>\n",
       "    </tr>\n",
       "  </thead>\n",
       "  <tbody>\n",
       "    <tr>\n",
       "      <th>0</th>\n",
       "      <td>1</td>\n",
       "      <td>NaN</td>\n",
       "      <td>NaN</td>\n",
       "      <td>Our Deeds are the Reason of this #earthquake M...</td>\n",
       "      <td>1.0</td>\n",
       "      <td>Our Deeds are the Reason of this earthquake Ma...</td>\n",
       "      <td>1</td>\n",
       "    </tr>\n",
       "    <tr>\n",
       "      <th>1</th>\n",
       "      <td>4</td>\n",
       "      <td>NaN</td>\n",
       "      <td>NaN</td>\n",
       "      <td>Forest fire near La Ronge Sask. Canada</td>\n",
       "      <td>1.0</td>\n",
       "      <td>Forest fire near La Ronge Sask. Canada</td>\n",
       "      <td>2</td>\n",
       "    </tr>\n",
       "    <tr>\n",
       "      <th>2</th>\n",
       "      <td>5</td>\n",
       "      <td>NaN</td>\n",
       "      <td>NaN</td>\n",
       "      <td>All residents asked to 'shelter in place' are ...</td>\n",
       "      <td>1.0</td>\n",
       "      <td>All residents asked to 'shelter in place' are ...</td>\n",
       "      <td>3</td>\n",
       "    </tr>\n",
       "    <tr>\n",
       "      <th>3</th>\n",
       "      <td>6</td>\n",
       "      <td>NaN</td>\n",
       "      <td>NaN</td>\n",
       "      <td>13,000 people receive #wildfires evacuation or...</td>\n",
       "      <td>1.0</td>\n",
       "      <td>13,000 people receive wildfires evacuation ord...</td>\n",
       "      <td>4</td>\n",
       "    </tr>\n",
       "    <tr>\n",
       "      <th>4</th>\n",
       "      <td>7</td>\n",
       "      <td>NaN</td>\n",
       "      <td>NaN</td>\n",
       "      <td>Just got sent this photo from Ruby #Alaska as ...</td>\n",
       "      <td>1.0</td>\n",
       "      <td>Just got sent this photo from Ruby Alaska as s...</td>\n",
       "      <td>5</td>\n",
       "    </tr>\n",
       "    <tr>\n",
       "      <th>...</th>\n",
       "      <td>...</td>\n",
       "      <td>...</td>\n",
       "      <td>...</td>\n",
       "      <td>...</td>\n",
       "      <td>...</td>\n",
       "      <td>...</td>\n",
       "      <td>...</td>\n",
       "    </tr>\n",
       "    <tr>\n",
       "      <th>7608</th>\n",
       "      <td>10869</td>\n",
       "      <td>NaN</td>\n",
       "      <td>NaN</td>\n",
       "      <td>Two giant cranes holding a bridge collapse int...</td>\n",
       "      <td>1.0</td>\n",
       "      <td>Two giant cranes holding a bridge collapse int...</td>\n",
       "      <td>1080</td>\n",
       "    </tr>\n",
       "    <tr>\n",
       "      <th>7609</th>\n",
       "      <td>10870</td>\n",
       "      <td>NaN</td>\n",
       "      <td>NaN</td>\n",
       "      <td>@aria_ahrary @TheTawniest The out of control w...</td>\n",
       "      <td>1.0</td>\n",
       "      <td>ahrary The out of control wild fires in Calif...</td>\n",
       "      <td>6667</td>\n",
       "    </tr>\n",
       "    <tr>\n",
       "      <th>7610</th>\n",
       "      <td>10871</td>\n",
       "      <td>NaN</td>\n",
       "      <td>NaN</td>\n",
       "      <td>M1.94 [01:04 UTC]?5km S of Volcano Hawaii. htt...</td>\n",
       "      <td>1.0</td>\n",
       "      <td>M1.94 [01:04 UTC]?5km S of Volcano Hawaii.</td>\n",
       "      <td>6497</td>\n",
       "    </tr>\n",
       "    <tr>\n",
       "      <th>7611</th>\n",
       "      <td>10872</td>\n",
       "      <td>NaN</td>\n",
       "      <td>NaN</td>\n",
       "      <td>Police investigating after an e-bike collided ...</td>\n",
       "      <td>1.0</td>\n",
       "      <td>Police investigating after an e-bike collided ...</td>\n",
       "      <td>1573</td>\n",
       "    </tr>\n",
       "    <tr>\n",
       "      <th>7612</th>\n",
       "      <td>10873</td>\n",
       "      <td>NaN</td>\n",
       "      <td>NaN</td>\n",
       "      <td>The Latest: More Homes Razed by Northern Calif...</td>\n",
       "      <td>1.0</td>\n",
       "      <td>The Latest: More Homes Razed by Northern Calif...</td>\n",
       "      <td>5102</td>\n",
       "    </tr>\n",
       "  </tbody>\n",
       "</table>\n",
       "<p>7613 rows × 7 columns</p>\n",
       "</div>"
      ],
      "text/plain": [
       "         id keyword location  \\\n",
       "0         1     NaN      NaN   \n",
       "1         4     NaN      NaN   \n",
       "2         5     NaN      NaN   \n",
       "3         6     NaN      NaN   \n",
       "4         7     NaN      NaN   \n",
       "...     ...     ...      ...   \n",
       "7608  10869     NaN      NaN   \n",
       "7609  10870     NaN      NaN   \n",
       "7610  10871     NaN      NaN   \n",
       "7611  10872     NaN      NaN   \n",
       "7612  10873     NaN      NaN   \n",
       "\n",
       "                                                   text  target  \\\n",
       "0     Our Deeds are the Reason of this #earthquake M...     1.0   \n",
       "1                Forest fire near La Ronge Sask. Canada     1.0   \n",
       "2     All residents asked to 'shelter in place' are ...     1.0   \n",
       "3     13,000 people receive #wildfires evacuation or...     1.0   \n",
       "4     Just got sent this photo from Ruby #Alaska as ...     1.0   \n",
       "...                                                 ...     ...   \n",
       "7608  Two giant cranes holding a bridge collapse int...     1.0   \n",
       "7609  @aria_ahrary @TheTawniest The out of control w...     1.0   \n",
       "7610  M1.94 [01:04 UTC]?5km S of Volcano Hawaii. htt...     1.0   \n",
       "7611  Police investigating after an e-bike collided ...     1.0   \n",
       "7612  The Latest: More Homes Razed by Northern Calif...     1.0   \n",
       "\n",
       "                                                  input  unique_input  \n",
       "0     Our Deeds are the Reason of this earthquake Ma...             1  \n",
       "1                Forest fire near La Ronge Sask. Canada             2  \n",
       "2     All residents asked to 'shelter in place' are ...             3  \n",
       "3     13,000 people receive wildfires evacuation ord...             4  \n",
       "4     Just got sent this photo from Ruby Alaska as s...             5  \n",
       "...                                                 ...           ...  \n",
       "7608  Two giant cranes holding a bridge collapse int...          1080  \n",
       "7609   ahrary The out of control wild fires in Calif...          6667  \n",
       "7610         M1.94 [01:04 UTC]?5km S of Volcano Hawaii.          6497  \n",
       "7611  Police investigating after an e-bike collided ...          1573  \n",
       "7612  The Latest: More Homes Razed by Northern Calif...          5102  \n",
       "\n",
       "[7613 rows x 7 columns]"
      ]
     },
     "execution_count": 18,
     "metadata": {},
     "output_type": "execute_result"
    }
   ],
   "source": [
    "train"
   ]
  },
  {
   "cell_type": "markdown",
   "id": "2a26041f",
   "metadata": {
    "papermill": {
     "duration": 0.025009,
     "end_time": "2023-08-30T09:14:29.192336",
     "exception": false,
     "start_time": "2023-08-30T09:14:29.167327",
     "status": "completed"
    },
    "tags": []
   },
   "source": [
    "Looking at the top five unique occurances, only the 4th one, 4061, had variations in the target values. It doesn't appear to be a disaster, but 5 out of 17 occurances were coded as a disaster. "
   ]
  },
  {
   "cell_type": "code",
   "execution_count": 19,
   "id": "f9fdf804",
   "metadata": {
    "execution": {
     "iopub.execute_input": "2023-08-30T09:14:29.241123Z",
     "iopub.status.busy": "2023-08-30T09:14:29.240351Z",
     "iopub.status.idle": "2023-08-30T09:14:29.253097Z",
     "shell.execute_reply": "2023-08-30T09:14:29.252207Z"
    },
    "papermill": {
     "duration": 0.039085,
     "end_time": "2023-08-30T09:14:29.255111",
     "exception": false,
     "start_time": "2023-08-30T09:14:29.216026",
     "status": "completed"
    },
    "tags": []
   },
   "outputs": [
    {
     "data": {
      "text/plain": [
       "5351    24\n",
       "6848    20\n",
       "4862    19\n",
       "4061    17\n",
       "447     15\n",
       "Name: unique_input, dtype: int64"
      ]
     },
     "execution_count": 19,
     "metadata": {},
     "output_type": "execute_result"
    }
   ],
   "source": [
    "train['unique_input'].value_counts().nlargest(5)"
   ]
  },
  {
   "cell_type": "code",
   "execution_count": 20,
   "id": "03485866",
   "metadata": {
    "execution": {
     "iopub.execute_input": "2023-08-30T09:14:29.304787Z",
     "iopub.status.busy": "2023-08-30T09:14:29.303288Z",
     "iopub.status.idle": "2023-08-30T09:14:29.316563Z",
     "shell.execute_reply": "2023-08-30T09:14:29.314304Z"
    },
    "papermill": {
     "duration": 0.040381,
     "end_time": "2023-08-30T09:14:29.318999",
     "exception": false,
     "start_time": "2023-08-30T09:14:29.278618",
     "status": "completed"
    },
    "tags": []
   },
   "outputs": [
    {
     "name": "stdout",
     "output_type": "stream",
     "text": [
      "        id    keyword             location  \\\n",
      "4391  6243  hijacking    perth, australia    \n",
      "4392  6244  hijacking             Mongolia   \n",
      "4393  6245  hijacking  brisbane, australia   \n",
      "4394  6246  hijacking                China   \n",
      "4396  6248  hijacking  Chiyoda Ward, Tokyo   \n",
      "4397  6253  hijacking                 rome   \n",
      "4399  6255  hijacking         EastCarolina   \n",
      "4400  6256  hijacking               Brazil   \n",
      "4403  6259  hijacking                  NaN   \n",
      "4404  6261  hijacking               France   \n",
      "4405  6262  hijacking                  NaN   \n",
      "4407  6265  hijacking                tokyo   \n",
      "4408  6267  hijacking                china   \n",
      "4412  6272  hijacking               Brazil   \n",
      "4414  6274  hijacking                  NaN   \n",
      "4415  6276  hijacking                Japan   \n",
      "4420  6283  hijacking                  NaN   \n",
      "\n",
      "                                                   text  target  \\\n",
      "4391  #hot  Funtenna: hijacking computers to send da...     0.0   \n",
      "4392  #hot  Funtenna: hijacking computers to send da...     1.0   \n",
      "4393  #hot  Funtenna: hijacking computers to send da...     0.0   \n",
      "4394  #hot  Funtenna: hijacking computers to send da...     0.0   \n",
      "4396  #hot  Funtenna: hijacking computers to send da...     0.0   \n",
      "4397  #hot  Funtenna: hijacking computers to send da...     0.0   \n",
      "4399  #hot  Funtenna: hijacking computers to send da...     0.0   \n",
      "4400  #hot  Funtenna: hijacking computers to send da...     0.0   \n",
      "4403  #hot  Funtenna: hijacking computers to send da...     1.0   \n",
      "4404  #hot  Funtenna: hijacking computers to send da...     0.0   \n",
      "4405  #hot  Funtenna: hijacking computers to send da...     0.0   \n",
      "4407  #hot  Funtenna: hijacking computers to send da...     0.0   \n",
      "4408  #hot  Funtenna: hijacking computers to send da...     0.0   \n",
      "4412  #hot  Funtenna: hijacking computers to send da...     0.0   \n",
      "4414  #hot  Funtenna: hijacking computers to send da...     1.0   \n",
      "4415  #hot  Funtenna: hijacking computers to send da...     1.0   \n",
      "4420  #hot  Funtenna: hijacking computers to send da...     1.0   \n",
      "\n",
      "                                                  input  unique_input  \n",
      "4391  hot Funtenna: hijacking computers to send data...          4061  \n",
      "4392  hot Funtenna: hijacking computers to send data...          4061  \n",
      "4393  hot Funtenna: hijacking computers to send data...          4061  \n",
      "4394  hot Funtenna: hijacking computers to send data...          4061  \n",
      "4396  hot Funtenna: hijacking computers to send data...          4061  \n",
      "4397  hot Funtenna: hijacking computers to send data...          4061  \n",
      "4399  hot Funtenna: hijacking computers to send data...          4061  \n",
      "4400  hot Funtenna: hijacking computers to send data...          4061  \n",
      "4403  hot Funtenna: hijacking computers to send data...          4061  \n",
      "4404  hot Funtenna: hijacking computers to send data...          4061  \n",
      "4405  hot Funtenna: hijacking computers to send data...          4061  \n",
      "4407  hot Funtenna: hijacking computers to send data...          4061  \n",
      "4408  hot Funtenna: hijacking computers to send data...          4061  \n",
      "4412  hot Funtenna: hijacking computers to send data...          4061  \n",
      "4414  hot Funtenna: hijacking computers to send data...          4061  \n",
      "4415  hot Funtenna: hijacking computers to send data...          4061  \n",
      "4420  hot Funtenna: hijacking computers to send data...          4061  \n"
     ]
    }
   ],
   "source": [
    "print(train.loc[train['unique_input'] == 4061])"
   ]
  },
  {
   "cell_type": "code",
   "execution_count": 21,
   "id": "a939a330",
   "metadata": {
    "execution": {
     "iopub.execute_input": "2023-08-30T09:14:29.372626Z",
     "iopub.status.busy": "2023-08-30T09:14:29.371866Z",
     "iopub.status.idle": "2023-08-30T09:14:29.381589Z",
     "shell.execute_reply": "2023-08-30T09:14:29.380505Z"
    },
    "papermill": {
     "duration": 0.037655,
     "end_time": "2023-08-30T09:14:29.383701",
     "exception": false,
     "start_time": "2023-08-30T09:14:29.346046",
     "status": "completed"
    },
    "tags": []
   },
   "outputs": [
    {
     "data": {
      "text/plain": [
       "314"
      ]
     },
     "execution_count": 21,
     "metadata": {},
     "output_type": "execute_result"
    }
   ],
   "source": [
    "train['unique_input'].value_counts().ne(1).sum()"
   ]
  },
  {
   "cell_type": "code",
   "execution_count": 22,
   "id": "2aa90bf2",
   "metadata": {
    "execution": {
     "iopub.execute_input": "2023-08-30T09:14:29.437892Z",
     "iopub.status.busy": "2023-08-30T09:14:29.437626Z",
     "iopub.status.idle": "2023-08-30T09:14:31.586176Z",
     "shell.execute_reply": "2023-08-30T09:14:31.585287Z"
    },
    "papermill": {
     "duration": 2.179721,
     "end_time": "2023-08-30T09:14:31.588504",
     "exception": false,
     "start_time": "2023-08-30T09:14:29.408783",
     "status": "completed"
    },
    "tags": []
   },
   "outputs": [],
   "source": [
    "train_unique_mode = train.groupby('unique_input').agg({'target': lambda x: x.value_counts().index[0]}).reset_index()"
   ]
  },
  {
   "cell_type": "code",
   "execution_count": 23,
   "id": "9fbef716",
   "metadata": {
    "execution": {
     "iopub.execute_input": "2023-08-30T09:14:31.640914Z",
     "iopub.status.busy": "2023-08-30T09:14:31.640639Z",
     "iopub.status.idle": "2023-08-30T09:14:31.660043Z",
     "shell.execute_reply": "2023-08-30T09:14:31.659096Z"
    },
    "papermill": {
     "duration": 0.049664,
     "end_time": "2023-08-30T09:14:31.662365",
     "exception": false,
     "start_time": "2023-08-30T09:14:31.612701",
     "status": "completed"
    },
    "tags": []
   },
   "outputs": [
    {
     "data": {
      "text/html": [
       "<div>\n",
       "<style scoped>\n",
       "    .dataframe tbody tr th:only-of-type {\n",
       "        vertical-align: middle;\n",
       "    }\n",
       "\n",
       "    .dataframe tbody tr th {\n",
       "        vertical-align: top;\n",
       "    }\n",
       "\n",
       "    .dataframe thead th {\n",
       "        text-align: right;\n",
       "    }\n",
       "</style>\n",
       "<table border=\"1\" class=\"dataframe\">\n",
       "  <thead>\n",
       "    <tr style=\"text-align: right;\">\n",
       "      <th></th>\n",
       "      <th>id</th>\n",
       "      <th>keyword</th>\n",
       "      <th>location</th>\n",
       "      <th>text</th>\n",
       "      <th>target</th>\n",
       "      <th>input</th>\n",
       "      <th>unique_input</th>\n",
       "    </tr>\n",
       "  </thead>\n",
       "  <tbody>\n",
       "    <tr>\n",
       "      <th>0</th>\n",
       "      <td>1</td>\n",
       "      <td>NaN</td>\n",
       "      <td>NaN</td>\n",
       "      <td>Our Deeds are the Reason of this #earthquake M...</td>\n",
       "      <td>1.0</td>\n",
       "      <td>Our Deeds are the Reason of this earthquake Ma...</td>\n",
       "      <td>1</td>\n",
       "    </tr>\n",
       "    <tr>\n",
       "      <th>1</th>\n",
       "      <td>4</td>\n",
       "      <td>NaN</td>\n",
       "      <td>NaN</td>\n",
       "      <td>Forest fire near La Ronge Sask. Canada</td>\n",
       "      <td>1.0</td>\n",
       "      <td>Forest fire near La Ronge Sask. Canada</td>\n",
       "      <td>2</td>\n",
       "    </tr>\n",
       "    <tr>\n",
       "      <th>2</th>\n",
       "      <td>5</td>\n",
       "      <td>NaN</td>\n",
       "      <td>NaN</td>\n",
       "      <td>All residents asked to 'shelter in place' are ...</td>\n",
       "      <td>1.0</td>\n",
       "      <td>All residents asked to 'shelter in place' are ...</td>\n",
       "      <td>3</td>\n",
       "    </tr>\n",
       "    <tr>\n",
       "      <th>3</th>\n",
       "      <td>6</td>\n",
       "      <td>NaN</td>\n",
       "      <td>NaN</td>\n",
       "      <td>13,000 people receive #wildfires evacuation or...</td>\n",
       "      <td>1.0</td>\n",
       "      <td>13,000 people receive wildfires evacuation ord...</td>\n",
       "      <td>4</td>\n",
       "    </tr>\n",
       "    <tr>\n",
       "      <th>4</th>\n",
       "      <td>7</td>\n",
       "      <td>NaN</td>\n",
       "      <td>NaN</td>\n",
       "      <td>Just got sent this photo from Ruby #Alaska as ...</td>\n",
       "      <td>1.0</td>\n",
       "      <td>Just got sent this photo from Ruby Alaska as s...</td>\n",
       "      <td>5</td>\n",
       "    </tr>\n",
       "    <tr>\n",
       "      <th>...</th>\n",
       "      <td>...</td>\n",
       "      <td>...</td>\n",
       "      <td>...</td>\n",
       "      <td>...</td>\n",
       "      <td>...</td>\n",
       "      <td>...</td>\n",
       "      <td>...</td>\n",
       "    </tr>\n",
       "    <tr>\n",
       "      <th>7608</th>\n",
       "      <td>10869</td>\n",
       "      <td>NaN</td>\n",
       "      <td>NaN</td>\n",
       "      <td>Two giant cranes holding a bridge collapse int...</td>\n",
       "      <td>1.0</td>\n",
       "      <td>Two giant cranes holding a bridge collapse int...</td>\n",
       "      <td>1080</td>\n",
       "    </tr>\n",
       "    <tr>\n",
       "      <th>7609</th>\n",
       "      <td>10870</td>\n",
       "      <td>NaN</td>\n",
       "      <td>NaN</td>\n",
       "      <td>@aria_ahrary @TheTawniest The out of control w...</td>\n",
       "      <td>1.0</td>\n",
       "      <td>ahrary The out of control wild fires in Calif...</td>\n",
       "      <td>6667</td>\n",
       "    </tr>\n",
       "    <tr>\n",
       "      <th>7610</th>\n",
       "      <td>10871</td>\n",
       "      <td>NaN</td>\n",
       "      <td>NaN</td>\n",
       "      <td>M1.94 [01:04 UTC]?5km S of Volcano Hawaii. htt...</td>\n",
       "      <td>1.0</td>\n",
       "      <td>M1.94 [01:04 UTC]?5km S of Volcano Hawaii.</td>\n",
       "      <td>6497</td>\n",
       "    </tr>\n",
       "    <tr>\n",
       "      <th>7611</th>\n",
       "      <td>10872</td>\n",
       "      <td>NaN</td>\n",
       "      <td>NaN</td>\n",
       "      <td>Police investigating after an e-bike collided ...</td>\n",
       "      <td>1.0</td>\n",
       "      <td>Police investigating after an e-bike collided ...</td>\n",
       "      <td>1573</td>\n",
       "    </tr>\n",
       "    <tr>\n",
       "      <th>7612</th>\n",
       "      <td>10873</td>\n",
       "      <td>NaN</td>\n",
       "      <td>NaN</td>\n",
       "      <td>The Latest: More Homes Razed by Northern Calif...</td>\n",
       "      <td>1.0</td>\n",
       "      <td>The Latest: More Homes Razed by Northern Calif...</td>\n",
       "      <td>5102</td>\n",
       "    </tr>\n",
       "  </tbody>\n",
       "</table>\n",
       "<p>7613 rows × 7 columns</p>\n",
       "</div>"
      ],
      "text/plain": [
       "         id keyword location  \\\n",
       "0         1     NaN      NaN   \n",
       "1         4     NaN      NaN   \n",
       "2         5     NaN      NaN   \n",
       "3         6     NaN      NaN   \n",
       "4         7     NaN      NaN   \n",
       "...     ...     ...      ...   \n",
       "7608  10869     NaN      NaN   \n",
       "7609  10870     NaN      NaN   \n",
       "7610  10871     NaN      NaN   \n",
       "7611  10872     NaN      NaN   \n",
       "7612  10873     NaN      NaN   \n",
       "\n",
       "                                                   text  target  \\\n",
       "0     Our Deeds are the Reason of this #earthquake M...     1.0   \n",
       "1                Forest fire near La Ronge Sask. Canada     1.0   \n",
       "2     All residents asked to 'shelter in place' are ...     1.0   \n",
       "3     13,000 people receive #wildfires evacuation or...     1.0   \n",
       "4     Just got sent this photo from Ruby #Alaska as ...     1.0   \n",
       "...                                                 ...     ...   \n",
       "7608  Two giant cranes holding a bridge collapse int...     1.0   \n",
       "7609  @aria_ahrary @TheTawniest The out of control w...     1.0   \n",
       "7610  M1.94 [01:04 UTC]?5km S of Volcano Hawaii. htt...     1.0   \n",
       "7611  Police investigating after an e-bike collided ...     1.0   \n",
       "7612  The Latest: More Homes Razed by Northern Calif...     1.0   \n",
       "\n",
       "                                                  input  unique_input  \n",
       "0     Our Deeds are the Reason of this earthquake Ma...             1  \n",
       "1                Forest fire near La Ronge Sask. Canada             2  \n",
       "2     All residents asked to 'shelter in place' are ...             3  \n",
       "3     13,000 people receive wildfires evacuation ord...             4  \n",
       "4     Just got sent this photo from Ruby Alaska as s...             5  \n",
       "...                                                 ...           ...  \n",
       "7608  Two giant cranes holding a bridge collapse int...          1080  \n",
       "7609   ahrary The out of control wild fires in Calif...          6667  \n",
       "7610         M1.94 [01:04 UTC]?5km S of Volcano Hawaii.          6497  \n",
       "7611  Police investigating after an e-bike collided ...          1573  \n",
       "7612  The Latest: More Homes Razed by Northern Calif...          5102  \n",
       "\n",
       "[7613 rows x 7 columns]"
      ]
     },
     "execution_count": 23,
     "metadata": {},
     "output_type": "execute_result"
    }
   ],
   "source": [
    "train"
   ]
  },
  {
   "cell_type": "code",
   "execution_count": 24,
   "id": "c07bb9b5",
   "metadata": {
    "execution": {
     "iopub.execute_input": "2023-08-30T09:14:31.720141Z",
     "iopub.status.busy": "2023-08-30T09:14:31.719920Z",
     "iopub.status.idle": "2023-08-30T09:14:31.732158Z",
     "shell.execute_reply": "2023-08-30T09:14:31.731152Z"
    },
    "papermill": {
     "duration": 0.039714,
     "end_time": "2023-08-30T09:14:31.734367",
     "exception": false,
     "start_time": "2023-08-30T09:14:31.694653",
     "status": "completed"
    },
    "tags": []
   },
   "outputs": [
    {
     "data": {
      "text/html": [
       "<div>\n",
       "<style scoped>\n",
       "    .dataframe tbody tr th:only-of-type {\n",
       "        vertical-align: middle;\n",
       "    }\n",
       "\n",
       "    .dataframe tbody tr th {\n",
       "        vertical-align: top;\n",
       "    }\n",
       "\n",
       "    .dataframe thead th {\n",
       "        text-align: right;\n",
       "    }\n",
       "</style>\n",
       "<table border=\"1\" class=\"dataframe\">\n",
       "  <thead>\n",
       "    <tr style=\"text-align: right;\">\n",
       "      <th></th>\n",
       "      <th>unique_input</th>\n",
       "      <th>target</th>\n",
       "    </tr>\n",
       "  </thead>\n",
       "  <tbody>\n",
       "    <tr>\n",
       "      <th>0</th>\n",
       "      <td>1</td>\n",
       "      <td>1.0</td>\n",
       "    </tr>\n",
       "    <tr>\n",
       "      <th>1</th>\n",
       "      <td>2</td>\n",
       "      <td>1.0</td>\n",
       "    </tr>\n",
       "    <tr>\n",
       "      <th>2</th>\n",
       "      <td>3</td>\n",
       "      <td>1.0</td>\n",
       "    </tr>\n",
       "    <tr>\n",
       "      <th>3</th>\n",
       "      <td>4</td>\n",
       "      <td>1.0</td>\n",
       "    </tr>\n",
       "    <tr>\n",
       "      <th>4</th>\n",
       "      <td>5</td>\n",
       "      <td>1.0</td>\n",
       "    </tr>\n",
       "    <tr>\n",
       "      <th>...</th>\n",
       "      <td>...</td>\n",
       "      <td>...</td>\n",
       "    </tr>\n",
       "    <tr>\n",
       "      <th>6917</th>\n",
       "      <td>6918</td>\n",
       "      <td>1.0</td>\n",
       "    </tr>\n",
       "    <tr>\n",
       "      <th>6918</th>\n",
       "      <td>6919</td>\n",
       "      <td>1.0</td>\n",
       "    </tr>\n",
       "    <tr>\n",
       "      <th>6919</th>\n",
       "      <td>6920</td>\n",
       "      <td>1.0</td>\n",
       "    </tr>\n",
       "    <tr>\n",
       "      <th>6920</th>\n",
       "      <td>6921</td>\n",
       "      <td>1.0</td>\n",
       "    </tr>\n",
       "    <tr>\n",
       "      <th>6921</th>\n",
       "      <td>6922</td>\n",
       "      <td>1.0</td>\n",
       "    </tr>\n",
       "  </tbody>\n",
       "</table>\n",
       "<p>6922 rows × 2 columns</p>\n",
       "</div>"
      ],
      "text/plain": [
       "      unique_input  target\n",
       "0                1     1.0\n",
       "1                2     1.0\n",
       "2                3     1.0\n",
       "3                4     1.0\n",
       "4                5     1.0\n",
       "...            ...     ...\n",
       "6917          6918     1.0\n",
       "6918          6919     1.0\n",
       "6919          6920     1.0\n",
       "6920          6921     1.0\n",
       "6921          6922     1.0\n",
       "\n",
       "[6922 rows x 2 columns]"
      ]
     },
     "execution_count": 24,
     "metadata": {},
     "output_type": "execute_result"
    }
   ],
   "source": [
    "train_unique_mode"
   ]
  },
  {
   "cell_type": "code",
   "execution_count": 25,
   "id": "3b1743c0",
   "metadata": {
    "execution": {
     "iopub.execute_input": "2023-08-30T09:14:31.787761Z",
     "iopub.status.busy": "2023-08-30T09:14:31.787079Z",
     "iopub.status.idle": "2023-08-30T09:14:31.793697Z",
     "shell.execute_reply": "2023-08-30T09:14:31.792854Z"
    },
    "papermill": {
     "duration": 0.034422,
     "end_time": "2023-08-30T09:14:31.795706",
     "exception": false,
     "start_time": "2023-08-30T09:14:31.761284",
     "status": "completed"
    },
    "tags": []
   },
   "outputs": [],
   "source": [
    "train['new_target'] = train['unique_input'].map(train_unique_mode.set_index('unique_input')['target'])"
   ]
  },
  {
   "cell_type": "code",
   "execution_count": 26,
   "id": "8d84d84f",
   "metadata": {
    "execution": {
     "iopub.execute_input": "2023-08-30T09:14:31.846691Z",
     "iopub.status.busy": "2023-08-30T09:14:31.845929Z",
     "iopub.status.idle": "2023-08-30T09:14:31.867680Z",
     "shell.execute_reply": "2023-08-30T09:14:31.866813Z"
    },
    "papermill": {
     "duration": 0.049674,
     "end_time": "2023-08-30T09:14:31.869920",
     "exception": false,
     "start_time": "2023-08-30T09:14:31.820246",
     "status": "completed"
    },
    "tags": []
   },
   "outputs": [
    {
     "data": {
      "text/html": [
       "<div>\n",
       "<style scoped>\n",
       "    .dataframe tbody tr th:only-of-type {\n",
       "        vertical-align: middle;\n",
       "    }\n",
       "\n",
       "    .dataframe tbody tr th {\n",
       "        vertical-align: top;\n",
       "    }\n",
       "\n",
       "    .dataframe thead th {\n",
       "        text-align: right;\n",
       "    }\n",
       "</style>\n",
       "<table border=\"1\" class=\"dataframe\">\n",
       "  <thead>\n",
       "    <tr style=\"text-align: right;\">\n",
       "      <th></th>\n",
       "      <th>id</th>\n",
       "      <th>keyword</th>\n",
       "      <th>location</th>\n",
       "      <th>text</th>\n",
       "      <th>target</th>\n",
       "      <th>input</th>\n",
       "      <th>unique_input</th>\n",
       "      <th>new_target</th>\n",
       "    </tr>\n",
       "  </thead>\n",
       "  <tbody>\n",
       "    <tr>\n",
       "      <th>0</th>\n",
       "      <td>1</td>\n",
       "      <td>NaN</td>\n",
       "      <td>NaN</td>\n",
       "      <td>Our Deeds are the Reason of this #earthquake M...</td>\n",
       "      <td>1.0</td>\n",
       "      <td>Our Deeds are the Reason of this earthquake Ma...</td>\n",
       "      <td>1</td>\n",
       "      <td>1.0</td>\n",
       "    </tr>\n",
       "    <tr>\n",
       "      <th>1</th>\n",
       "      <td>4</td>\n",
       "      <td>NaN</td>\n",
       "      <td>NaN</td>\n",
       "      <td>Forest fire near La Ronge Sask. Canada</td>\n",
       "      <td>1.0</td>\n",
       "      <td>Forest fire near La Ronge Sask. Canada</td>\n",
       "      <td>2</td>\n",
       "      <td>1.0</td>\n",
       "    </tr>\n",
       "    <tr>\n",
       "      <th>2</th>\n",
       "      <td>5</td>\n",
       "      <td>NaN</td>\n",
       "      <td>NaN</td>\n",
       "      <td>All residents asked to 'shelter in place' are ...</td>\n",
       "      <td>1.0</td>\n",
       "      <td>All residents asked to 'shelter in place' are ...</td>\n",
       "      <td>3</td>\n",
       "      <td>1.0</td>\n",
       "    </tr>\n",
       "    <tr>\n",
       "      <th>3</th>\n",
       "      <td>6</td>\n",
       "      <td>NaN</td>\n",
       "      <td>NaN</td>\n",
       "      <td>13,000 people receive #wildfires evacuation or...</td>\n",
       "      <td>1.0</td>\n",
       "      <td>13,000 people receive wildfires evacuation ord...</td>\n",
       "      <td>4</td>\n",
       "      <td>1.0</td>\n",
       "    </tr>\n",
       "    <tr>\n",
       "      <th>4</th>\n",
       "      <td>7</td>\n",
       "      <td>NaN</td>\n",
       "      <td>NaN</td>\n",
       "      <td>Just got sent this photo from Ruby #Alaska as ...</td>\n",
       "      <td>1.0</td>\n",
       "      <td>Just got sent this photo from Ruby Alaska as s...</td>\n",
       "      <td>5</td>\n",
       "      <td>1.0</td>\n",
       "    </tr>\n",
       "    <tr>\n",
       "      <th>5</th>\n",
       "      <td>8</td>\n",
       "      <td>NaN</td>\n",
       "      <td>NaN</td>\n",
       "      <td>#RockyFire Update =&gt; California Hwy. 20 closed...</td>\n",
       "      <td>1.0</td>\n",
       "      <td>RockyFire Update =&gt; California Hwy. 20 closed ...</td>\n",
       "      <td>6</td>\n",
       "      <td>1.0</td>\n",
       "    </tr>\n",
       "    <tr>\n",
       "      <th>6</th>\n",
       "      <td>10</td>\n",
       "      <td>NaN</td>\n",
       "      <td>NaN</td>\n",
       "      <td>#flood #disaster Heavy rain causes flash flood...</td>\n",
       "      <td>1.0</td>\n",
       "      <td>flood disaster Heavy rain causes flash floodin...</td>\n",
       "      <td>7</td>\n",
       "      <td>1.0</td>\n",
       "    </tr>\n",
       "    <tr>\n",
       "      <th>7</th>\n",
       "      <td>13</td>\n",
       "      <td>NaN</td>\n",
       "      <td>NaN</td>\n",
       "      <td>I'm on top of the hill and I can see a fire in...</td>\n",
       "      <td>1.0</td>\n",
       "      <td>I'm on top of the hill and I can see a fire in...</td>\n",
       "      <td>8</td>\n",
       "      <td>1.0</td>\n",
       "    </tr>\n",
       "    <tr>\n",
       "      <th>8</th>\n",
       "      <td>14</td>\n",
       "      <td>NaN</td>\n",
       "      <td>NaN</td>\n",
       "      <td>There's an emergency evacuation happening now ...</td>\n",
       "      <td>1.0</td>\n",
       "      <td>There's an emergency evacuation happening now ...</td>\n",
       "      <td>9</td>\n",
       "      <td>1.0</td>\n",
       "    </tr>\n",
       "    <tr>\n",
       "      <th>9</th>\n",
       "      <td>15</td>\n",
       "      <td>NaN</td>\n",
       "      <td>NaN</td>\n",
       "      <td>I'm afraid that the tornado is coming to our a...</td>\n",
       "      <td>1.0</td>\n",
       "      <td>I'm afraid that the tornado is coming to our a...</td>\n",
       "      <td>10</td>\n",
       "      <td>1.0</td>\n",
       "    </tr>\n",
       "    <tr>\n",
       "      <th>10</th>\n",
       "      <td>16</td>\n",
       "      <td>NaN</td>\n",
       "      <td>NaN</td>\n",
       "      <td>Three people died from the heat wave so far</td>\n",
       "      <td>1.0</td>\n",
       "      <td>Three people died from the heat wave so far</td>\n",
       "      <td>11</td>\n",
       "      <td>1.0</td>\n",
       "    </tr>\n",
       "    <tr>\n",
       "      <th>11</th>\n",
       "      <td>17</td>\n",
       "      <td>NaN</td>\n",
       "      <td>NaN</td>\n",
       "      <td>Haha South Tampa is getting flooded hah- WAIT ...</td>\n",
       "      <td>1.0</td>\n",
       "      <td>Haha South Tampa is getting flooded hah- WAIT ...</td>\n",
       "      <td>12</td>\n",
       "      <td>1.0</td>\n",
       "    </tr>\n",
       "    <tr>\n",
       "      <th>12</th>\n",
       "      <td>18</td>\n",
       "      <td>NaN</td>\n",
       "      <td>NaN</td>\n",
       "      <td>#raining #flooding #Florida #TampaBay #Tampa 1...</td>\n",
       "      <td>1.0</td>\n",
       "      <td>raining flooding Florida TampaBay Tampa 18 or ...</td>\n",
       "      <td>13</td>\n",
       "      <td>1.0</td>\n",
       "    </tr>\n",
       "    <tr>\n",
       "      <th>13</th>\n",
       "      <td>19</td>\n",
       "      <td>NaN</td>\n",
       "      <td>NaN</td>\n",
       "      <td>#Flood in Bago Myanmar #We arrived Bago</td>\n",
       "      <td>1.0</td>\n",
       "      <td>Flood in Bago Myanmar We arrived Bago</td>\n",
       "      <td>14</td>\n",
       "      <td>1.0</td>\n",
       "    </tr>\n",
       "    <tr>\n",
       "      <th>14</th>\n",
       "      <td>20</td>\n",
       "      <td>NaN</td>\n",
       "      <td>NaN</td>\n",
       "      <td>Damage to school bus on 80 in multi car crash ...</td>\n",
       "      <td>1.0</td>\n",
       "      <td>Damage to school bus on 80 in multi car crash ...</td>\n",
       "      <td>15</td>\n",
       "      <td>1.0</td>\n",
       "    </tr>\n",
       "    <tr>\n",
       "      <th>15</th>\n",
       "      <td>23</td>\n",
       "      <td>NaN</td>\n",
       "      <td>NaN</td>\n",
       "      <td>What's up man?</td>\n",
       "      <td>0.0</td>\n",
       "      <td>What's up man?</td>\n",
       "      <td>16</td>\n",
       "      <td>0.0</td>\n",
       "    </tr>\n",
       "    <tr>\n",
       "      <th>16</th>\n",
       "      <td>24</td>\n",
       "      <td>NaN</td>\n",
       "      <td>NaN</td>\n",
       "      <td>I love fruits</td>\n",
       "      <td>0.0</td>\n",
       "      <td>I love fruits</td>\n",
       "      <td>17</td>\n",
       "      <td>0.0</td>\n",
       "    </tr>\n",
       "    <tr>\n",
       "      <th>17</th>\n",
       "      <td>25</td>\n",
       "      <td>NaN</td>\n",
       "      <td>NaN</td>\n",
       "      <td>Summer is lovely</td>\n",
       "      <td>0.0</td>\n",
       "      <td>Summer is lovely</td>\n",
       "      <td>18</td>\n",
       "      <td>0.0</td>\n",
       "    </tr>\n",
       "    <tr>\n",
       "      <th>18</th>\n",
       "      <td>26</td>\n",
       "      <td>NaN</td>\n",
       "      <td>NaN</td>\n",
       "      <td>My car is so fast</td>\n",
       "      <td>0.0</td>\n",
       "      <td>My car is so fast</td>\n",
       "      <td>19</td>\n",
       "      <td>0.0</td>\n",
       "    </tr>\n",
       "    <tr>\n",
       "      <th>19</th>\n",
       "      <td>28</td>\n",
       "      <td>NaN</td>\n",
       "      <td>NaN</td>\n",
       "      <td>What a goooooooaaaaaal!!!!!!</td>\n",
       "      <td>0.0</td>\n",
       "      <td>What a goooooooaaaaaal!!!!!!</td>\n",
       "      <td>20</td>\n",
       "      <td>0.0</td>\n",
       "    </tr>\n",
       "    <tr>\n",
       "      <th>20</th>\n",
       "      <td>31</td>\n",
       "      <td>NaN</td>\n",
       "      <td>NaN</td>\n",
       "      <td>this is ridiculous....</td>\n",
       "      <td>0.0</td>\n",
       "      <td>this is ridiculous....</td>\n",
       "      <td>21</td>\n",
       "      <td>0.0</td>\n",
       "    </tr>\n",
       "    <tr>\n",
       "      <th>21</th>\n",
       "      <td>32</td>\n",
       "      <td>NaN</td>\n",
       "      <td>NaN</td>\n",
       "      <td>London is cool ;)</td>\n",
       "      <td>0.0</td>\n",
       "      <td>London is cool ;)</td>\n",
       "      <td>22</td>\n",
       "      <td>0.0</td>\n",
       "    </tr>\n",
       "    <tr>\n",
       "      <th>22</th>\n",
       "      <td>33</td>\n",
       "      <td>NaN</td>\n",
       "      <td>NaN</td>\n",
       "      <td>Love skiing</td>\n",
       "      <td>0.0</td>\n",
       "      <td>Love skiing</td>\n",
       "      <td>23</td>\n",
       "      <td>0.0</td>\n",
       "    </tr>\n",
       "    <tr>\n",
       "      <th>23</th>\n",
       "      <td>34</td>\n",
       "      <td>NaN</td>\n",
       "      <td>NaN</td>\n",
       "      <td>What a wonderful day!</td>\n",
       "      <td>0.0</td>\n",
       "      <td>What a wonderful day!</td>\n",
       "      <td>24</td>\n",
       "      <td>0.0</td>\n",
       "    </tr>\n",
       "    <tr>\n",
       "      <th>24</th>\n",
       "      <td>36</td>\n",
       "      <td>NaN</td>\n",
       "      <td>NaN</td>\n",
       "      <td>LOOOOOOL</td>\n",
       "      <td>0.0</td>\n",
       "      <td>LOOOOOOL</td>\n",
       "      <td>25</td>\n",
       "      <td>0.0</td>\n",
       "    </tr>\n",
       "  </tbody>\n",
       "</table>\n",
       "</div>"
      ],
      "text/plain": [
       "    id keyword location                                               text  \\\n",
       "0    1     NaN      NaN  Our Deeds are the Reason of this #earthquake M...   \n",
       "1    4     NaN      NaN             Forest fire near La Ronge Sask. Canada   \n",
       "2    5     NaN      NaN  All residents asked to 'shelter in place' are ...   \n",
       "3    6     NaN      NaN  13,000 people receive #wildfires evacuation or...   \n",
       "4    7     NaN      NaN  Just got sent this photo from Ruby #Alaska as ...   \n",
       "5    8     NaN      NaN  #RockyFire Update => California Hwy. 20 closed...   \n",
       "6   10     NaN      NaN  #flood #disaster Heavy rain causes flash flood...   \n",
       "7   13     NaN      NaN  I'm on top of the hill and I can see a fire in...   \n",
       "8   14     NaN      NaN  There's an emergency evacuation happening now ...   \n",
       "9   15     NaN      NaN  I'm afraid that the tornado is coming to our a...   \n",
       "10  16     NaN      NaN        Three people died from the heat wave so far   \n",
       "11  17     NaN      NaN  Haha South Tampa is getting flooded hah- WAIT ...   \n",
       "12  18     NaN      NaN  #raining #flooding #Florida #TampaBay #Tampa 1...   \n",
       "13  19     NaN      NaN            #Flood in Bago Myanmar #We arrived Bago   \n",
       "14  20     NaN      NaN  Damage to school bus on 80 in multi car crash ...   \n",
       "15  23     NaN      NaN                                     What's up man?   \n",
       "16  24     NaN      NaN                                      I love fruits   \n",
       "17  25     NaN      NaN                                   Summer is lovely   \n",
       "18  26     NaN      NaN                                  My car is so fast   \n",
       "19  28     NaN      NaN                       What a goooooooaaaaaal!!!!!!   \n",
       "20  31     NaN      NaN                             this is ridiculous....   \n",
       "21  32     NaN      NaN                                  London is cool ;)   \n",
       "22  33     NaN      NaN                                        Love skiing   \n",
       "23  34     NaN      NaN                              What a wonderful day!   \n",
       "24  36     NaN      NaN                                           LOOOOOOL   \n",
       "\n",
       "    target                                              input  unique_input  \\\n",
       "0      1.0  Our Deeds are the Reason of this earthquake Ma...             1   \n",
       "1      1.0             Forest fire near La Ronge Sask. Canada             2   \n",
       "2      1.0  All residents asked to 'shelter in place' are ...             3   \n",
       "3      1.0  13,000 people receive wildfires evacuation ord...             4   \n",
       "4      1.0  Just got sent this photo from Ruby Alaska as s...             5   \n",
       "5      1.0  RockyFire Update => California Hwy. 20 closed ...             6   \n",
       "6      1.0  flood disaster Heavy rain causes flash floodin...             7   \n",
       "7      1.0  I'm on top of the hill and I can see a fire in...             8   \n",
       "8      1.0  There's an emergency evacuation happening now ...             9   \n",
       "9      1.0  I'm afraid that the tornado is coming to our a...            10   \n",
       "10     1.0        Three people died from the heat wave so far            11   \n",
       "11     1.0  Haha South Tampa is getting flooded hah- WAIT ...            12   \n",
       "12     1.0  raining flooding Florida TampaBay Tampa 18 or ...            13   \n",
       "13     1.0              Flood in Bago Myanmar We arrived Bago            14   \n",
       "14     1.0  Damage to school bus on 80 in multi car crash ...            15   \n",
       "15     0.0                                     What's up man?            16   \n",
       "16     0.0                                      I love fruits            17   \n",
       "17     0.0                                   Summer is lovely            18   \n",
       "18     0.0                                  My car is so fast            19   \n",
       "19     0.0                       What a goooooooaaaaaal!!!!!!            20   \n",
       "20     0.0                             this is ridiculous....            21   \n",
       "21     0.0                                  London is cool ;)            22   \n",
       "22     0.0                                        Love skiing            23   \n",
       "23     0.0                              What a wonderful day!            24   \n",
       "24     0.0                                           LOOOOOOL            25   \n",
       "\n",
       "    new_target  \n",
       "0          1.0  \n",
       "1          1.0  \n",
       "2          1.0  \n",
       "3          1.0  \n",
       "4          1.0  \n",
       "5          1.0  \n",
       "6          1.0  \n",
       "7          1.0  \n",
       "8          1.0  \n",
       "9          1.0  \n",
       "10         1.0  \n",
       "11         1.0  \n",
       "12         1.0  \n",
       "13         1.0  \n",
       "14         1.0  \n",
       "15         0.0  \n",
       "16         0.0  \n",
       "17         0.0  \n",
       "18         0.0  \n",
       "19         0.0  \n",
       "20         0.0  \n",
       "21         0.0  \n",
       "22         0.0  \n",
       "23         0.0  \n",
       "24         0.0  "
      ]
     },
     "execution_count": 26,
     "metadata": {},
     "output_type": "execute_result"
    }
   ],
   "source": [
    "train.head(25)"
   ]
  },
  {
   "cell_type": "markdown",
   "id": "97d70f46",
   "metadata": {
    "papermill": {
     "duration": 0.025036,
     "end_time": "2023-08-30T09:14:31.922079",
     "exception": false,
     "start_time": "2023-08-30T09:14:31.897043",
     "status": "completed"
    },
    "tags": []
   },
   "source": [
    "It looks like there are 89 rows where the new target is not equal to the original target, which means 89 rows were changed based on looking at the mode of unique tweets with more than one occurance. "
   ]
  },
  {
   "cell_type": "code",
   "execution_count": 27,
   "id": "17890c41",
   "metadata": {
    "execution": {
     "iopub.execute_input": "2023-08-30T09:14:31.974298Z",
     "iopub.status.busy": "2023-08-30T09:14:31.974060Z",
     "iopub.status.idle": "2023-08-30T09:14:31.986118Z",
     "shell.execute_reply": "2023-08-30T09:14:31.985034Z"
    },
    "papermill": {
     "duration": 0.041049,
     "end_time": "2023-08-30T09:14:31.988412",
     "exception": false,
     "start_time": "2023-08-30T09:14:31.947363",
     "status": "completed"
    },
    "tags": []
   },
   "outputs": [
    {
     "data": {
      "text/plain": [
       "89"
      ]
     },
     "execution_count": 27,
     "metadata": {},
     "output_type": "execute_result"
    }
   ],
   "source": [
    "len(train.query('new_target != target'))"
   ]
  },
  {
   "cell_type": "markdown",
   "id": "27f06014",
   "metadata": {
    "papermill": {
     "duration": 0.025585,
     "end_time": "2023-08-30T09:14:32.041250",
     "exception": false,
     "start_time": "2023-08-30T09:14:32.015665",
     "status": "completed"
    },
    "tags": []
   },
   "source": [
    "Need to convert the new target values to floating values. "
   ]
  },
  {
   "cell_type": "code",
   "execution_count": 28,
   "id": "d95b9a92",
   "metadata": {
    "execution": {
     "iopub.execute_input": "2023-08-30T09:14:32.095484Z",
     "iopub.status.busy": "2023-08-30T09:14:32.095251Z",
     "iopub.status.idle": "2023-08-30T09:14:32.100689Z",
     "shell.execute_reply": "2023-08-30T09:14:32.099781Z"
    },
    "papermill": {
     "duration": 0.035607,
     "end_time": "2023-08-30T09:14:32.102789",
     "exception": false,
     "start_time": "2023-08-30T09:14:32.067182",
     "status": "completed"
    },
    "tags": []
   },
   "outputs": [],
   "source": [
    "train['new_target'] = train['new_target'].astype(float)"
   ]
  },
  {
   "cell_type": "markdown",
   "id": "cbafe8be",
   "metadata": {
    "papermill": {
     "duration": 0.024992,
     "end_time": "2023-08-30T09:14:32.153423",
     "exception": false,
     "start_time": "2023-08-30T09:14:32.128431",
     "status": "completed"
    },
    "tags": []
   },
   "source": [
    "To turn the train and test dataframes into Hugging Face datasets."
   ]
  },
  {
   "cell_type": "code",
   "execution_count": 29,
   "id": "2b8a176d",
   "metadata": {
    "execution": {
     "iopub.execute_input": "2023-08-30T09:14:32.207141Z",
     "iopub.status.busy": "2023-08-30T09:14:32.206344Z",
     "iopub.status.idle": "2023-08-30T09:14:32.240127Z",
     "shell.execute_reply": "2023-08-30T09:14:32.239184Z"
    },
    "papermill": {
     "duration": 0.062847,
     "end_time": "2023-08-30T09:14:32.242318",
     "exception": false,
     "start_time": "2023-08-30T09:14:32.179471",
     "status": "completed"
    },
    "tags": []
   },
   "outputs": [],
   "source": [
    "train_dataset = Dataset.from_pandas(train)\n",
    "test_dataset = Dataset.from_pandas(test)"
   ]
  },
  {
   "cell_type": "code",
   "execution_count": 30,
   "id": "a9c57a7f",
   "metadata": {
    "execution": {
     "iopub.execute_input": "2023-08-30T09:14:32.293478Z",
     "iopub.status.busy": "2023-08-30T09:14:32.293239Z",
     "iopub.status.idle": "2023-08-30T09:14:32.299204Z",
     "shell.execute_reply": "2023-08-30T09:14:32.298369Z"
    },
    "papermill": {
     "duration": 0.034092,
     "end_time": "2023-08-30T09:14:32.301284",
     "exception": false,
     "start_time": "2023-08-30T09:14:32.267192",
     "status": "completed"
    },
    "tags": []
   },
   "outputs": [
    {
     "data": {
      "text/plain": [
       "Dataset({\n",
       "    features: ['id', 'keyword', 'location', 'text', 'target', 'input', 'unique_input', 'new_target'],\n",
       "    num_rows: 7613\n",
       "})"
      ]
     },
     "execution_count": 30,
     "metadata": {},
     "output_type": "execute_result"
    }
   ],
   "source": [
    "train_dataset"
   ]
  },
  {
   "cell_type": "code",
   "execution_count": 31,
   "id": "7b248385",
   "metadata": {
    "execution": {
     "iopub.execute_input": "2023-08-30T09:14:32.353144Z",
     "iopub.status.busy": "2023-08-30T09:14:32.352469Z",
     "iopub.status.idle": "2023-08-30T09:14:32.358694Z",
     "shell.execute_reply": "2023-08-30T09:14:32.357780Z"
    },
    "papermill": {
     "duration": 0.034657,
     "end_time": "2023-08-30T09:14:32.360699",
     "exception": false,
     "start_time": "2023-08-30T09:14:32.326042",
     "status": "completed"
    },
    "tags": []
   },
   "outputs": [
    {
     "data": {
      "text/plain": [
       "Dataset({\n",
       "    features: ['id', 'keyword', 'location', 'text', 'input'],\n",
       "    num_rows: 3263\n",
       "})"
      ]
     },
     "execution_count": 31,
     "metadata": {},
     "output_type": "execute_result"
    }
   ],
   "source": [
    "test_dataset"
   ]
  },
  {
   "cell_type": "markdown",
   "id": "9149e83a",
   "metadata": {
    "papermill": {
     "duration": 0.024984,
     "end_time": "2023-08-30T09:14:32.411085",
     "exception": false,
     "start_time": "2023-08-30T09:14:32.386101",
     "status": "completed"
    },
    "tags": []
   },
   "source": [
    "Neural networks work with numbers. So the tokenization and numericilization do that. First tokenization splits the text strings into separate words. Each unique word then gets a number; which is numerilization.\n",
    "\n",
    "The challenge is that the larger the vocabulary, the more memory it will use and the slower the ML process could be. So now these words are broken into subwords so that there is less overall vocabulary used. Overall we call these distinct vocabulary pieces 'tokens'.\n",
    "\n",
    "The details on how to tokenize and numericilize depends on what model is used. Hugging Face has a libary of hundreds of pretrained models. It actually has over 128k models at: https://huggingface.co/models\n",
    "\n",
    "These models vary in a number of ways. There's a variety of different architectures and each of these architectures could be trained on different corpuses to solve different problems. So you can go to this Hugging Face site and \n",
    "type in 'disasters' and find that 2 different models come up. More can come up on other subjects. For example, if 'law' is typed in, 224 models are retrieved. \n",
    "\n",
    "However there are just a lot of good models that work for a lot of things a lot of the time. Deberta V3 is one of them. So a small version is used below as a starting point (so it will be faster to try things with)."
   ]
  },
  {
   "cell_type": "code",
   "execution_count": 32,
   "id": "c8bfdc0e",
   "metadata": {
    "execution": {
     "iopub.execute_input": "2023-08-30T09:14:32.463976Z",
     "iopub.status.busy": "2023-08-30T09:14:32.463130Z",
     "iopub.status.idle": "2023-08-30T09:14:32.467654Z",
     "shell.execute_reply": "2023-08-30T09:14:32.466838Z"
    },
    "papermill": {
     "duration": 0.032871,
     "end_time": "2023-08-30T09:14:32.469563",
     "exception": false,
     "start_time": "2023-08-30T09:14:32.436692",
     "status": "completed"
    },
    "tags": []
   },
   "outputs": [],
   "source": [
    "model_nm = 'microsoft/deberta-v3-small'"
   ]
  },
  {
   "cell_type": "markdown",
   "id": "c546ae11",
   "metadata": {
    "papermill": {
     "duration": 0.025513,
     "end_time": "2023-08-30T09:14:32.520267",
     "exception": false,
     "start_time": "2023-08-30T09:14:32.494754",
     "status": "completed"
    },
    "tags": []
   },
   "source": [
    "To tell Hugging Face to tokenize something the same way as it was originally done in the model, we use AutoTokenizer. That way what is done here will match what was originally done on the pretrained model. "
   ]
  },
  {
   "cell_type": "code",
   "execution_count": 33,
   "id": "8bc80357",
   "metadata": {
    "execution": {
     "iopub.execute_input": "2023-08-30T09:14:32.571991Z",
     "iopub.status.busy": "2023-08-30T09:14:32.571775Z",
     "iopub.status.idle": "2023-08-30T09:14:35.246175Z",
     "shell.execute_reply": "2023-08-30T09:14:35.245178Z"
    },
    "papermill": {
     "duration": 2.70282,
     "end_time": "2023-08-30T09:14:35.248729",
     "exception": false,
     "start_time": "2023-08-30T09:14:32.545909",
     "status": "completed"
    },
    "tags": []
   },
   "outputs": [
    {
     "data": {
      "application/vnd.jupyter.widget-view+json": {
       "model_id": "31f63c02612f4f60b49bdeff9af4b177",
       "version_major": 2,
       "version_minor": 0
      },
      "text/plain": [
       "Downloading (…)okenizer_config.json:   0%|          | 0.00/52.0 [00:00<?, ?B/s]"
      ]
     },
     "metadata": {},
     "output_type": "display_data"
    },
    {
     "data": {
      "application/vnd.jupyter.widget-view+json": {
       "model_id": "9b4de32ad51d4d928ff43580c2cbf930",
       "version_major": 2,
       "version_minor": 0
      },
      "text/plain": [
       "Downloading (…)lve/main/config.json:   0%|          | 0.00/578 [00:00<?, ?B/s]"
      ]
     },
     "metadata": {},
     "output_type": "display_data"
    },
    {
     "data": {
      "application/vnd.jupyter.widget-view+json": {
       "model_id": "785632435c9b47ffa5f5db3cbb73d2b1",
       "version_major": 2,
       "version_minor": 0
      },
      "text/plain": [
       "Downloading spm.model:   0%|          | 0.00/2.46M [00:00<?, ?B/s]"
      ]
     },
     "metadata": {},
     "output_type": "display_data"
    }
   ],
   "source": [
    "tokz = AutoTokenizer.from_pretrained(model_nm)"
   ]
  },
  {
   "cell_type": "markdown",
   "id": "c0533d0c",
   "metadata": {
    "execution": {
     "iopub.execute_input": "2023-08-23T03:55:41.432005Z",
     "iopub.status.busy": "2023-08-23T03:55:41.431663Z",
     "iopub.status.idle": "2023-08-23T03:55:41.438966Z",
     "shell.execute_reply": "2023-08-23T03:55:41.43793Z",
     "shell.execute_reply.started": "2023-08-23T03:55:41.431976Z"
    },
    "papermill": {
     "duration": 0.026733,
     "end_time": "2023-08-30T09:14:35.302136",
     "exception": false,
     "start_time": "2023-08-30T09:14:35.275403",
     "status": "completed"
    },
    "tags": []
   },
   "source": [
    "To see how it works, you can pass a string in and see how it tokenizes the string. It puts some things into words and many things into subsets of those words as it categorizes parts of the text as tokens. The underscores below represent the start of a word. For the second sentence below we can see how it breaks down (or doesn't break down) more complicated words. These are all part of the unique tokens that were created when this model was first trained. And each of these tokens have their own number."
   ]
  },
  {
   "cell_type": "code",
   "execution_count": 34,
   "id": "2d49c130",
   "metadata": {
    "execution": {
     "iopub.execute_input": "2023-08-30T09:14:35.355149Z",
     "iopub.status.busy": "2023-08-30T09:14:35.354266Z",
     "iopub.status.idle": "2023-08-30T09:14:35.367070Z",
     "shell.execute_reply": "2023-08-30T09:14:35.366283Z"
    },
    "papermill": {
     "duration": 0.041562,
     "end_time": "2023-08-30T09:14:35.369247",
     "exception": false,
     "start_time": "2023-08-30T09:14:35.327685",
     "status": "completed"
    },
    "tags": []
   },
   "outputs": [
    {
     "data": {
      "text/plain": [
       "['▁Welcome',\n",
       " '▁to',\n",
       " '▁one',\n",
       " '▁of',\n",
       " '▁our',\n",
       " \"▁'\",\n",
       " 'Getting',\n",
       " '▁Started',\n",
       " \"'\",\n",
       " '▁competitions',\n",
       " '!']"
      ]
     },
     "execution_count": 34,
     "metadata": {},
     "output_type": "execute_result"
    }
   ],
   "source": [
    "tokz.tokenize(\"Welcome to one of our 'Getting Started' competitions!\")"
   ]
  },
  {
   "cell_type": "markdown",
   "id": "450efc1a",
   "metadata": {
    "papermill": {
     "duration": 0.025782,
     "end_time": "2023-08-30T09:14:35.421382",
     "exception": false,
     "start_time": "2023-08-30T09:14:35.395600",
     "status": "completed"
    },
    "tags": []
   },
   "source": [
    "Below is a simple function that takes a document x and tokenizes its 'input' column if it has one. "
   ]
  },
  {
   "cell_type": "code",
   "execution_count": 35,
   "id": "8647bfd1",
   "metadata": {
    "execution": {
     "iopub.execute_input": "2023-08-30T09:14:35.473656Z",
     "iopub.status.busy": "2023-08-30T09:14:35.472914Z",
     "iopub.status.idle": "2023-08-30T09:14:35.477526Z",
     "shell.execute_reply": "2023-08-30T09:14:35.476771Z"
    },
    "papermill": {
     "duration": 0.032568,
     "end_time": "2023-08-30T09:14:35.479513",
     "exception": false,
     "start_time": "2023-08-30T09:14:35.446945",
     "status": "completed"
    },
    "tags": []
   },
   "outputs": [],
   "source": [
    "def tok_func(x): return tokz(x['input'])"
   ]
  },
  {
   "cell_type": "markdown",
   "id": "b9245d41",
   "metadata": {
    "papermill": {
     "duration": 0.025915,
     "end_time": "2023-08-30T09:14:35.531296",
     "exception": false,
     "start_time": "2023-08-30T09:14:35.505381",
     "status": "completed"
    },
    "tags": []
   },
   "source": [
    "The .map will parallize this function since tokenization can take a long time. Batched=True sets up the batching process so it can do a bunch at a time. This will be done for both the train and test Hugging Face datasets. "
   ]
  },
  {
   "cell_type": "code",
   "execution_count": 36,
   "id": "e9db2ac8",
   "metadata": {
    "execution": {
     "iopub.execute_input": "2023-08-30T09:14:35.585184Z",
     "iopub.status.busy": "2023-08-30T09:14:35.584968Z",
     "iopub.status.idle": "2023-08-30T09:14:36.697007Z",
     "shell.execute_reply": "2023-08-30T09:14:36.696380Z"
    },
    "papermill": {
     "duration": 1.140985,
     "end_time": "2023-08-30T09:14:36.699005",
     "exception": false,
     "start_time": "2023-08-30T09:14:35.558020",
     "status": "completed"
    },
    "tags": []
   },
   "outputs": [
    {
     "data": {
      "application/vnd.jupyter.widget-view+json": {
       "model_id": "d11b014919be4bf186fa3a39aba22996",
       "version_major": 2,
       "version_minor": 0
      },
      "text/plain": [
       "  0%|          | 0/8 [00:00<?, ?ba/s]"
      ]
     },
     "metadata": {},
     "output_type": "display_data"
    }
   ],
   "source": [
    "tok_ds_train = train_dataset.map(tok_func, batched=True)"
   ]
  },
  {
   "cell_type": "code",
   "execution_count": 37,
   "id": "66f52bde",
   "metadata": {
    "execution": {
     "iopub.execute_input": "2023-08-30T09:14:36.761399Z",
     "iopub.status.busy": "2023-08-30T09:14:36.761145Z",
     "iopub.status.idle": "2023-08-30T09:14:37.074869Z",
     "shell.execute_reply": "2023-08-30T09:14:37.074219Z"
    },
    "papermill": {
     "duration": 0.34587,
     "end_time": "2023-08-30T09:14:37.076894",
     "exception": false,
     "start_time": "2023-08-30T09:14:36.731024",
     "status": "completed"
    },
    "tags": []
   },
   "outputs": [
    {
     "data": {
      "application/vnd.jupyter.widget-view+json": {
       "model_id": "49d221e4ceb54b0ca5b71fc64b864e37",
       "version_major": 2,
       "version_minor": 0
      },
      "text/plain": [
       "  0%|          | 0/4 [00:00<?, ?ba/s]"
      ]
     },
     "metadata": {},
     "output_type": "display_data"
    }
   ],
   "source": [
    "tok_ds_test = test_dataset.map(tok_func, batched=True)"
   ]
  },
  {
   "cell_type": "code",
   "execution_count": 38,
   "id": "127b3902",
   "metadata": {
    "execution": {
     "iopub.execute_input": "2023-08-30T09:14:37.133818Z",
     "iopub.status.busy": "2023-08-30T09:14:37.132250Z",
     "iopub.status.idle": "2023-08-30T09:14:37.138983Z",
     "shell.execute_reply": "2023-08-30T09:14:37.138010Z"
    },
    "papermill": {
     "duration": 0.036563,
     "end_time": "2023-08-30T09:14:37.140946",
     "exception": false,
     "start_time": "2023-08-30T09:14:37.104383",
     "status": "completed"
    },
    "tags": []
   },
   "outputs": [
    {
     "data": {
      "text/plain": [
       "Dataset({\n",
       "    features: ['id', 'keyword', 'location', 'text', 'target', 'input', 'unique_input', 'new_target', 'input_ids', 'token_type_ids', 'attention_mask'],\n",
       "    num_rows: 7613\n",
       "})"
      ]
     },
     "execution_count": 38,
     "metadata": {},
     "output_type": "execute_result"
    }
   ],
   "source": [
    "tok_ds_train"
   ]
  },
  {
   "cell_type": "markdown",
   "id": "15e6e178",
   "metadata": {
    "papermill": {
     "duration": 0.026014,
     "end_time": "2023-08-30T09:14:37.193597",
     "exception": false,
     "start_time": "2023-08-30T09:14:37.167583",
     "status": "completed"
    },
    "tags": []
   },
   "source": [
    "This process creates a new row with its IDs. Here it's called 'input_ids'. Creating the variable below allows us to see these two columns for the first row. These numbers are the position in the vocabulary of the model for each of the tokens. So here we've turned a string into a list of numbers."
   ]
  },
  {
   "cell_type": "code",
   "execution_count": 39,
   "id": "a871f596",
   "metadata": {
    "execution": {
     "iopub.execute_input": "2023-08-30T09:14:37.248711Z",
     "iopub.status.busy": "2023-08-30T09:14:37.247942Z",
     "iopub.status.idle": "2023-08-30T09:14:37.255408Z",
     "shell.execute_reply": "2023-08-30T09:14:37.254481Z"
    },
    "papermill": {
     "duration": 0.036917,
     "end_time": "2023-08-30T09:14:37.257463",
     "exception": false,
     "start_time": "2023-08-30T09:14:37.220546",
     "status": "completed"
    },
    "tags": []
   },
   "outputs": [
    {
     "data": {
      "text/plain": [
       "('Our Deeds are the Reason of this earthquake May ALLAH Forgive us all',\n",
       " [1,\n",
       "  581,\n",
       "  65453,\n",
       "  281,\n",
       "  262,\n",
       "  18037,\n",
       "  265,\n",
       "  291,\n",
       "  10612,\n",
       "  903,\n",
       "  4924,\n",
       "  17018,\n",
       "  43632,\n",
       "  381,\n",
       "  305,\n",
       "  2])"
      ]
     },
     "execution_count": 39,
     "metadata": {},
     "output_type": "execute_result"
    }
   ],
   "source": [
    "row = tok_ds_train[0]\n",
    "row['input'], row['input_ids']"
   ]
  },
  {
   "cell_type": "markdown",
   "id": "df0a6add",
   "metadata": {
    "papermill": {
     "duration": 0.026687,
     "end_time": "2023-08-30T09:14:37.311073",
     "exception": false,
     "start_time": "2023-08-30T09:14:37.284386",
     "status": "completed"
    },
    "tags": []
   },
   "source": [
    "Hugging Face expects that your target is a column called 'labels'. So we have to rename our 'new_target' column as 'labels' as done below."
   ]
  },
  {
   "cell_type": "code",
   "execution_count": 40,
   "id": "b476b1bb",
   "metadata": {
    "execution": {
     "iopub.execute_input": "2023-08-30T09:14:37.366215Z",
     "iopub.status.busy": "2023-08-30T09:14:37.365366Z",
     "iopub.status.idle": "2023-08-30T09:14:37.372472Z",
     "shell.execute_reply": "2023-08-30T09:14:37.371619Z"
    },
    "papermill": {
     "duration": 0.03667,
     "end_time": "2023-08-30T09:14:37.374555",
     "exception": false,
     "start_time": "2023-08-30T09:14:37.337885",
     "status": "completed"
    },
    "tags": []
   },
   "outputs": [],
   "source": [
    "tok_ds_train = tok_ds_train.rename_columns({'new_target':'labels'})"
   ]
  },
  {
   "cell_type": "markdown",
   "id": "46b6566e",
   "metadata": {
    "papermill": {
     "duration": 0.027892,
     "end_time": "2023-08-30T09:14:37.428906",
     "exception": false,
     "start_time": "2023-08-30T09:14:37.401014",
     "status": "completed"
    },
    "tags": []
   },
   "source": [
    "To prevent against overfitting we remove a certain percent of our datapoints from the testing dataset and call that a validation dataset. We then fit our model against only the testing datapoints; those datapoints we haven't removed.\n",
    "\n",
    "Fastai always makes sure you have a validation dataset. Below we use Hugging Faces function to do this.\n",
    "\n",
    "We will hold out 25% of the data as a validation set. Here we are using a random split just to keep things simple. We'll use what's labeled below as 'train' to actually train with. And then it will measure the results on the 'test' dataset which is composed of the seperated out 25% of the original data. It's really a validation set, but Hugging Faces calls it 'test'."
   ]
  },
  {
   "cell_type": "code",
   "execution_count": 41,
   "id": "9c6d3316",
   "metadata": {
    "execution": {
     "iopub.execute_input": "2023-08-30T09:14:37.485610Z",
     "iopub.status.busy": "2023-08-30T09:14:37.484854Z",
     "iopub.status.idle": "2023-08-30T09:14:37.502158Z",
     "shell.execute_reply": "2023-08-30T09:14:37.501195Z"
    },
    "papermill": {
     "duration": 0.047564,
     "end_time": "2023-08-30T09:14:37.504194",
     "exception": false,
     "start_time": "2023-08-30T09:14:37.456630",
     "status": "completed"
    },
    "tags": []
   },
   "outputs": [
    {
     "data": {
      "text/plain": [
       "DatasetDict({\n",
       "    train: Dataset({\n",
       "        features: ['id', 'keyword', 'location', 'text', 'target', 'input', 'unique_input', 'labels', 'input_ids', 'token_type_ids', 'attention_mask'],\n",
       "        num_rows: 5709\n",
       "    })\n",
       "    test: Dataset({\n",
       "        features: ['id', 'keyword', 'location', 'text', 'target', 'input', 'unique_input', 'labels', 'input_ids', 'token_type_ids', 'attention_mask'],\n",
       "        num_rows: 1904\n",
       "    })\n",
       "})"
      ]
     },
     "execution_count": 41,
     "metadata": {},
     "output_type": "execute_result"
    }
   ],
   "source": [
    "train_dds = tok_ds_train.train_test_split(0.25, seed=42)\n",
    "train_dds"
   ]
  },
  {
   "cell_type": "markdown",
   "id": "55f0fd5e",
   "metadata": {
    "papermill": {
     "duration": 0.026499,
     "end_time": "2023-08-30T09:14:37.557866",
     "exception": false,
     "start_time": "2023-08-30T09:14:37.531367",
     "status": "completed"
    },
    "tags": []
   },
   "source": [
    "For the patent dataset we want to report the correlation after each epoch because we want to know how our training is going. Also, Transformers expects metrics to be returned as a dict, since that way the trainer knows what data to use. It will use the keys of the dictionary to label each metric.\n",
    "\n",
    "So he created this function to do that. It takes the correlation and ties it to the label 'pearson'."
   ]
  },
  {
   "cell_type": "code",
   "execution_count": 42,
   "id": "e31dc4b5",
   "metadata": {
    "execution": {
     "iopub.execute_input": "2023-08-30T09:14:37.612205Z",
     "iopub.status.busy": "2023-08-30T09:14:37.611494Z",
     "iopub.status.idle": "2023-08-30T09:14:37.987998Z",
     "shell.execute_reply": "2023-08-30T09:14:37.987099Z"
    },
    "papermill": {
     "duration": 0.405887,
     "end_time": "2023-08-30T09:14:37.990122",
     "exception": false,
     "start_time": "2023-08-30T09:14:37.584235",
     "status": "completed"
    },
    "tags": []
   },
   "outputs": [
    {
     "data": {
      "application/vnd.jupyter.widget-view+json": {
       "model_id": "3c93d9bd3a1f48d7b3f98bc0d033289e",
       "version_major": 2,
       "version_minor": 0
      },
      "text/plain": [
       "Downloading builder script:   0%|          | 0.00/2.06k [00:00<?, ?B/s]"
      ]
     },
     "metadata": {},
     "output_type": "display_data"
    }
   ],
   "source": [
    "metric = load_metric(\"f1\")"
   ]
  },
  {
   "cell_type": "code",
   "execution_count": 43,
   "id": "686942d6",
   "metadata": {
    "execution": {
     "iopub.execute_input": "2023-08-30T09:14:38.046803Z",
     "iopub.status.busy": "2023-08-30T09:14:38.046563Z",
     "iopub.status.idle": "2023-08-30T09:14:38.051258Z",
     "shell.execute_reply": "2023-08-30T09:14:38.050272Z"
    },
    "papermill": {
     "duration": 0.035742,
     "end_time": "2023-08-30T09:14:38.053631",
     "exception": false,
     "start_time": "2023-08-30T09:14:38.017889",
     "status": "completed"
    },
    "tags": []
   },
   "outputs": [],
   "source": [
    "def compute_metrics(eval_pred):\n",
    "    preds, labels = eval_pred\n",
    "    return metric.compute(predictions=preds, references=labels)"
   ]
  },
  {
   "cell_type": "markdown",
   "id": "3dc24a3e",
   "metadata": {
    "papermill": {
     "duration": 0.027623,
     "end_time": "2023-08-30T09:14:38.110134",
     "exception": false,
     "start_time": "2023-08-30T09:14:38.082511",
     "status": "completed"
    },
    "tags": []
   },
   "source": [
    "We want to pick a batch size that fits our GPU and a small number of epochs so we can run experiments quickly. So here we will pass on 128 rows at a time to our GPU as it processes the dataset in parallel. The larger your batch size the more it can process in parallel and will be faster. But if you make it too big, you'll get an 'out of memory' error on you GPU."
   ]
  },
  {
   "cell_type": "code",
   "execution_count": 44,
   "id": "0665e487",
   "metadata": {
    "execution": {
     "iopub.execute_input": "2023-08-30T09:14:38.166107Z",
     "iopub.status.busy": "2023-08-30T09:14:38.165863Z",
     "iopub.status.idle": "2023-08-30T09:14:38.170121Z",
     "shell.execute_reply": "2023-08-30T09:14:38.169165Z"
    },
    "papermill": {
     "duration": 0.034854,
     "end_time": "2023-08-30T09:14:38.172417",
     "exception": false,
     "start_time": "2023-08-30T09:14:38.137563",
     "status": "completed"
    },
    "tags": []
   },
   "outputs": [],
   "source": [
    "bs = 128\n",
    "epochs = 4"
   ]
  },
  {
   "cell_type": "markdown",
   "id": "5012fca5",
   "metadata": {
    "papermill": {
     "duration": 0.0272,
     "end_time": "2023-08-30T09:14:38.225923",
     "exception": false,
     "start_time": "2023-08-30T09:14:38.198723",
     "status": "completed"
    },
    "tags": []
   },
   "source": [
    "Learning rate is the most important hyperparameter. Fastai can figure out the best learning rate for you. Hugging Face doesn't do this, so you'll have to use trial and error. Below he uses one he found that works best.\n",
    "\n",
    "What he does is use a really low training rate and then double it and keep doubling it until it falls apart. Then use that last highest value that worked."
   ]
  },
  {
   "cell_type": "code",
   "execution_count": 45,
   "id": "296c3e7f",
   "metadata": {
    "execution": {
     "iopub.execute_input": "2023-08-30T09:14:38.281254Z",
     "iopub.status.busy": "2023-08-30T09:14:38.281049Z",
     "iopub.status.idle": "2023-08-30T09:14:38.284933Z",
     "shell.execute_reply": "2023-08-30T09:14:38.284034Z"
    },
    "papermill": {
     "duration": 0.033605,
     "end_time": "2023-08-30T09:14:38.286824",
     "exception": false,
     "start_time": "2023-08-30T09:14:38.253219",
     "status": "completed"
    },
    "tags": []
   },
   "outputs": [],
   "source": [
    "lr = 8e-5"
   ]
  },
  {
   "cell_type": "code",
   "execution_count": 46,
   "id": "0fc89e51",
   "metadata": {
    "execution": {
     "iopub.execute_input": "2023-08-30T09:14:38.341986Z",
     "iopub.status.busy": "2023-08-30T09:14:38.341710Z",
     "iopub.status.idle": "2023-08-30T09:14:38.353082Z",
     "shell.execute_reply": "2023-08-30T09:14:38.352249Z"
    },
    "papermill": {
     "duration": 0.043501,
     "end_time": "2023-08-30T09:14:38.356966",
     "exception": false,
     "start_time": "2023-08-30T09:14:38.313465",
     "status": "completed"
    },
    "tags": []
   },
   "outputs": [],
   "source": [
    "set_seed(42)"
   ]
  },
  {
   "cell_type": "markdown",
   "id": "b1ac6e63",
   "metadata": {
    "papermill": {
     "duration": 0.027438,
     "end_time": "2023-08-30T09:14:38.419165",
     "exception": false,
     "start_time": "2023-08-30T09:14:38.391727",
     "status": "completed"
    },
    "tags": []
   },
   "source": [
    "Transformers uses the TrainingArguments class to set up arguments. He says that most the values below can be used for most situations. The only ones we really need to worry about are what we set up above: batches, epochs and learning rate."
   ]
  },
  {
   "cell_type": "code",
   "execution_count": 47,
   "id": "c6baef91",
   "metadata": {
    "execution": {
     "iopub.execute_input": "2023-08-30T09:14:38.475102Z",
     "iopub.status.busy": "2023-08-30T09:14:38.474310Z",
     "iopub.status.idle": "2023-08-30T09:14:38.612694Z",
     "shell.execute_reply": "2023-08-30T09:14:38.611646Z"
    },
    "papermill": {
     "duration": 0.171602,
     "end_time": "2023-08-30T09:14:38.618462",
     "exception": false,
     "start_time": "2023-08-30T09:14:38.446860",
     "status": "completed"
    },
    "tags": []
   },
   "outputs": [],
   "source": [
    "args = TrainingArguments('outputs', learning_rate=lr, warmup_ratio=0.1, \n",
    "                         lr_scheduler_type='cosine', fp16=True,\n",
    "                         evaluation_strategy=\"epoch\", \n",
    "                         per_device_train_batch_size=bs, \n",
    "                         per_device_eval_batch_size=bs*2,\n",
    "                         num_train_epochs=epochs, weight_decay=0.01, \n",
    "                         report_to='none')"
   ]
  },
  {
   "cell_type": "markdown",
   "id": "a3c4f448",
   "metadata": {
    "papermill": {
     "duration": 0.028966,
     "end_time": "2023-08-30T09:14:38.695819",
     "exception": false,
     "start_time": "2023-08-30T09:14:38.666853",
     "status": "completed"
    },
    "tags": []
   },
   "source": [
    "We can now create our model using the Deberta V3 pretrained model we found earlier. Since we are trying to do classification of sequences, we use the appropriate process from Hugging Face. Here it will create a classifcation of sequences from a pretrained model. We have one label, which is the score, so num_labels=1.\n",
    "\n",
    "Then we create the trainer using the training dataset we labeled 'dds' that has been split between the testing data called 'train' and the validation data called 'test'. For compute_metrics we are using the corr_d function that we created earlier."
   ]
  },
  {
   "cell_type": "code",
   "execution_count": 48,
   "id": "22ea5a95",
   "metadata": {
    "execution": {
     "iopub.execute_input": "2023-08-30T09:14:38.757933Z",
     "iopub.status.busy": "2023-08-30T09:14:38.757634Z",
     "iopub.status.idle": "2023-08-30T09:14:47.757358Z",
     "shell.execute_reply": "2023-08-30T09:14:47.756277Z"
    },
    "papermill": {
     "duration": 9.032342,
     "end_time": "2023-08-30T09:14:47.760149",
     "exception": false,
     "start_time": "2023-08-30T09:14:38.727807",
     "status": "completed"
    },
    "tags": []
   },
   "outputs": [
    {
     "data": {
      "application/vnd.jupyter.widget-view+json": {
       "model_id": "749b0fb2cd094b3e80f484ad45028b02",
       "version_major": 2,
       "version_minor": 0
      },
      "text/plain": [
       "Downloading pytorch_model.bin:   0%|          | 0.00/286M [00:00<?, ?B/s]"
      ]
     },
     "metadata": {},
     "output_type": "display_data"
    }
   ],
   "source": [
    "model = AutoModelForSequenceClassification.from_pretrained(model_nm, num_labels=1)\n",
    "trainer = Trainer(model, args, train_dataset=train_dds['train'], \n",
    "                  eval_dataset=train_dds['test'],\n",
    "                  tokenizer=tokz, compute_metrics=compute_metrics)\n",
    "                  #compute_metrics=corr_d)"
   ]
  },
  {
   "cell_type": "markdown",
   "id": "84a0e72d",
   "metadata": {
    "papermill": {
     "duration": 0.027062,
     "end_time": "2023-08-30T09:14:47.815595",
     "exception": false,
     "start_time": "2023-08-30T09:14:47.788533",
     "status": "completed"
    },
    "tags": []
   },
   "source": [
    "And we can train the data."
   ]
  },
  {
   "cell_type": "code",
   "execution_count": 49,
   "id": "03b1983a",
   "metadata": {
    "execution": {
     "iopub.execute_input": "2023-08-30T09:14:47.871869Z",
     "iopub.status.busy": "2023-08-30T09:14:47.871611Z",
     "iopub.status.idle": "2023-08-30T09:16:13.833702Z",
     "shell.execute_reply": "2023-08-30T09:16:13.832520Z"
    },
    "papermill": {
     "duration": 85.99326,
     "end_time": "2023-08-30T09:16:13.836135",
     "exception": false,
     "start_time": "2023-08-30T09:14:47.842875",
     "status": "completed"
    },
    "tags": []
   },
   "outputs": [
    {
     "data": {
      "text/html": [
       "\n",
       "    <div>\n",
       "      \n",
       "      <progress value='92' max='92' style='width:300px; height:20px; vertical-align: middle;'></progress>\n",
       "      [92/92 01:18, Epoch 4/4]\n",
       "    </div>\n",
       "    <table border=\"1\" class=\"dataframe\">\n",
       "  <thead>\n",
       " <tr style=\"text-align: left;\">\n",
       "      <th>Epoch</th>\n",
       "      <th>Training Loss</th>\n",
       "      <th>Validation Loss</th>\n",
       "      <th>F1</th>\n",
       "    </tr>\n",
       "  </thead>\n",
       "  <tbody>\n",
       "    <tr>\n",
       "      <td>1</td>\n",
       "      <td>No log</td>\n",
       "      <td>0.145391</td>\n",
       "      <td>0.516712</td>\n",
       "    </tr>\n",
       "    <tr>\n",
       "      <td>2</td>\n",
       "      <td>No log</td>\n",
       "      <td>0.124519</td>\n",
       "      <td>0.367470</td>\n",
       "    </tr>\n",
       "    <tr>\n",
       "      <td>3</td>\n",
       "      <td>No log</td>\n",
       "      <td>0.117715</td>\n",
       "      <td>0.087059</td>\n",
       "    </tr>\n",
       "    <tr>\n",
       "      <td>4</td>\n",
       "      <td>No log</td>\n",
       "      <td>0.126504</td>\n",
       "      <td>0.715724</td>\n",
       "    </tr>\n",
       "  </tbody>\n",
       "</table><p>"
      ],
      "text/plain": [
       "<IPython.core.display.HTML object>"
      ]
     },
     "metadata": {},
     "output_type": "display_data"
    }
   ],
   "source": [
    "trainer.train();"
   ]
  },
  {
   "cell_type": "markdown",
   "id": "a1757cf8",
   "metadata": {
    "papermill": {
     "duration": 0.029359,
     "end_time": "2023-08-30T09:16:13.895965",
     "exception": false,
     "start_time": "2023-08-30T09:16:13.866606",
     "status": "completed"
    },
    "tags": []
   },
   "source": [
    "Now that we have a trained model, now we want to submit our predictions to Kaggle. So we want to pass in our predictions from the Kaggle test file that we've trained as a floating number."
   ]
  },
  {
   "cell_type": "code",
   "execution_count": 50,
   "id": "4def9181",
   "metadata": {
    "execution": {
     "iopub.execute_input": "2023-08-30T09:16:13.952093Z",
     "iopub.status.busy": "2023-08-30T09:16:13.951875Z",
     "iopub.status.idle": "2023-08-30T09:16:17.656846Z",
     "shell.execute_reply": "2023-08-30T09:16:17.655787Z"
    },
    "papermill": {
     "duration": 3.735559,
     "end_time": "2023-08-30T09:16:17.659158",
     "exception": false,
     "start_time": "2023-08-30T09:16:13.923599",
     "status": "completed"
    },
    "tags": []
   },
   "outputs": [
    {
     "data": {
      "text/html": [],
      "text/plain": [
       "<IPython.core.display.HTML object>"
      ]
     },
     "metadata": {},
     "output_type": "display_data"
    },
    {
     "data": {
      "text/plain": [
       "array([[1.11184776],\n",
       "       [1.01712143],\n",
       "       [1.04776537],\n",
       "       ...,\n",
       "       [1.13682044],\n",
       "       [1.06740928],\n",
       "       [0.95314896]])"
      ]
     },
     "execution_count": 50,
     "metadata": {},
     "output_type": "execute_result"
    }
   ],
   "source": [
    "preds = trainer.predict(tok_ds_test).predictions.astype(float)\n",
    "preds"
   ]
  },
  {
   "cell_type": "markdown",
   "id": "8a26aef5",
   "metadata": {
    "papermill": {
     "duration": 0.028899,
     "end_time": "2023-08-30T09:16:17.720774",
     "exception": false,
     "start_time": "2023-08-30T09:16:17.691875",
     "status": "completed"
    },
    "tags": []
   },
   "source": [
    "The first submission failed, possibly because the results were not integers. "
   ]
  },
  {
   "cell_type": "code",
   "execution_count": 51,
   "id": "3788c274",
   "metadata": {
    "execution": {
     "iopub.execute_input": "2023-08-30T09:16:17.778724Z",
     "iopub.status.busy": "2023-08-30T09:16:17.778470Z",
     "iopub.status.idle": "2023-08-30T09:16:17.786118Z",
     "shell.execute_reply": "2023-08-30T09:16:17.785122Z"
    },
    "papermill": {
     "duration": 0.040077,
     "end_time": "2023-08-30T09:16:17.788794",
     "exception": false,
     "start_time": "2023-08-30T09:16:17.748717",
     "status": "completed"
    },
    "tags": []
   },
   "outputs": [
    {
     "data": {
      "text/plain": [
       "array([1, 1, 1, ..., 1, 1, 1])"
      ]
     },
     "execution_count": 51,
     "metadata": {},
     "output_type": "execute_result"
    }
   ],
   "source": [
    "preds = preds.round().astype(int).squeeze()\n",
    "preds"
   ]
  },
  {
   "cell_type": "markdown",
   "id": "3b1bf389",
   "metadata": {
    "papermill": {
     "duration": 0.029162,
     "end_time": "2023-08-30T09:16:17.848735",
     "exception": false,
     "start_time": "2023-08-30T09:16:17.819573",
     "status": "completed"
    },
    "tags": []
   },
   "source": [
    "Now we need to convert the Hugging Face dataset back to a csv file, add in the IDs from the testing data IDs, and add in the predictions as a 'score' column."
   ]
  },
  {
   "cell_type": "code",
   "execution_count": 52,
   "id": "56598a83",
   "metadata": {
    "execution": {
     "iopub.execute_input": "2023-08-30T09:16:17.907247Z",
     "iopub.status.busy": "2023-08-30T09:16:17.906604Z",
     "iopub.status.idle": "2023-08-30T09:16:17.956811Z",
     "shell.execute_reply": "2023-08-30T09:16:17.955905Z"
    },
    "papermill": {
     "duration": 0.082434,
     "end_time": "2023-08-30T09:16:17.959209",
     "exception": false,
     "start_time": "2023-08-30T09:16:17.876775",
     "status": "completed"
    },
    "tags": []
   },
   "outputs": [
    {
     "data": {
      "application/vnd.jupyter.widget-view+json": {
       "model_id": "e5c40216d00445f5b3fcf2321c99833a",
       "version_major": 2,
       "version_minor": 0
      },
      "text/plain": [
       "Creating CSV from Arrow format:   0%|          | 0/1 [00:00<?, ?ba/s]"
      ]
     },
     "metadata": {},
     "output_type": "display_data"
    },
    {
     "data": {
      "text/plain": [
       "22746"
      ]
     },
     "execution_count": 52,
     "metadata": {},
     "output_type": "execute_result"
    }
   ],
   "source": [
    "submission = datasets.Dataset.from_dict({\n",
    "    'id': tok_ds_test['id'],\n",
    "    'target': preds\n",
    "})\n",
    "\n",
    "submission.to_csv('submission.csv', index=False)"
   ]
  },
  {
   "cell_type": "code",
   "execution_count": null,
   "id": "9e80c524",
   "metadata": {
    "papermill": {
     "duration": 0.027365,
     "end_time": "2023-08-30T09:16:18.014411",
     "exception": false,
     "start_time": "2023-08-30T09:16:17.987046",
     "status": "completed"
    },
    "tags": []
   },
   "outputs": [],
   "source": []
  }
 ],
 "kernelspec": {
  "display_name": "Python 3",
  "language": "python",
  "name": "python3"
 },
 "language_info": {
  "codemirror_mode": {
   "name": "ipython",
   "version": 3
  },
  "file_extension": ".py",
  "mimetype": "text/x-python",
  "name": "python",
  "nbconvert_exporter": "python",
  "pygments_lexer": "ipython3",
  "version": "3.6.4"
 },
 "metadata": {
  "kernelspec": {
   "display_name": "Python 3",
   "language": "python",
   "name": "python3"
  },
  "language_info": {
   "codemirror_mode": {
    "name": "ipython",
    "version": 3
   },
   "file_extension": ".py",
   "mimetype": "text/x-python",
   "name": "python",
   "nbconvert_exporter": "python",
   "pygments_lexer": "ipython3",
   "version": "3.10.12"
  },
  "papermill": {
   "default_parameters": {},
   "duration": 169.970219,
   "end_time": "2023-08-30T09:16:22.015708",
   "environment_variables": {},
   "exception": null,
   "input_path": "__notebook__.ipynb",
   "output_path": "__notebook__.ipynb",
   "parameters": {},
   "start_time": "2023-08-30T09:13:32.045489",
   "version": "2.4.0"
  },
  "widgets": {
   "application/vnd.jupyter.widget-state+json": {
    "state": {
     "010e254a36d94703bc179ea4a41cc742": {
      "model_module": "@jupyter-widgets/controls",
      "model_module_version": "1.5.0",
      "model_name": "HTMLModel",
      "state": {
       "_dom_classes": [],
       "_model_module": "@jupyter-widgets/controls",
       "_model_module_version": "1.5.0",
       "_model_name": "HTMLModel",
       "_view_count": null,
       "_view_module": "@jupyter-widgets/controls",
       "_view_module_version": "1.5.0",
       "_view_name": "HTMLView",
       "description": "",
       "description_tooltip": null,
       "layout": "IPY_MODEL_8f2d754495914233a8fa1d43fe0edc0d",
       "placeholder": "​",
       "style": "IPY_MODEL_be3e5464694b4c49a4648fad103af079",
       "value": "Downloading pytorch_model.bin: 100%"
      }
     },
     "023a640d53694c59b8ac86c04550e465": {
      "model_module": "@jupyter-widgets/base",
      "model_module_version": "1.2.0",
      "model_name": "LayoutModel",
      "state": {
       "_model_module": "@jupyter-widgets/base",
       "_model_module_version": "1.2.0",
       "_model_name": "LayoutModel",
       "_view_count": null,
       "_view_module": "@jupyter-widgets/base",
       "_view_module_version": "1.2.0",
       "_view_name": "LayoutView",
       "align_content": null,
       "align_items": null,
       "align_self": null,
       "border": null,
       "bottom": null,
       "display": null,
       "flex": null,
       "flex_flow": null,
       "grid_area": null,
       "grid_auto_columns": null,
       "grid_auto_flow": null,
       "grid_auto_rows": null,
       "grid_column": null,
       "grid_gap": null,
       "grid_row": null,
       "grid_template_areas": null,
       "grid_template_columns": null,
       "grid_template_rows": null,
       "height": null,
       "justify_content": null,
       "justify_items": null,
       "left": null,
       "margin": null,
       "max_height": null,
       "max_width": null,
       "min_height": null,
       "min_width": null,
       "object_fit": null,
       "object_position": null,
       "order": null,
       "overflow": null,
       "overflow_x": null,
       "overflow_y": null,
       "padding": null,
       "right": null,
       "top": null,
       "visibility": null,
       "width": null
      }
     },
     "0433280e6cb942449dc5e22c0f6449d7": {
      "model_module": "@jupyter-widgets/base",
      "model_module_version": "1.2.0",
      "model_name": "LayoutModel",
      "state": {
       "_model_module": "@jupyter-widgets/base",
       "_model_module_version": "1.2.0",
       "_model_name": "LayoutModel",
       "_view_count": null,
       "_view_module": "@jupyter-widgets/base",
       "_view_module_version": "1.2.0",
       "_view_name": "LayoutView",
       "align_content": null,
       "align_items": null,
       "align_self": null,
       "border": null,
       "bottom": null,
       "display": null,
       "flex": null,
       "flex_flow": null,
       "grid_area": null,
       "grid_auto_columns": null,
       "grid_auto_flow": null,
       "grid_auto_rows": null,
       "grid_column": null,
       "grid_gap": null,
       "grid_row": null,
       "grid_template_areas": null,
       "grid_template_columns": null,
       "grid_template_rows": null,
       "height": null,
       "justify_content": null,
       "justify_items": null,
       "left": null,
       "margin": null,
       "max_height": null,
       "max_width": null,
       "min_height": null,
       "min_width": null,
       "object_fit": null,
       "object_position": null,
       "order": null,
       "overflow": null,
       "overflow_x": null,
       "overflow_y": null,
       "padding": null,
       "right": null,
       "top": null,
       "visibility": null,
       "width": null
      }
     },
     "06db08ba1de24edc9f3e39750a0bf4c4": {
      "model_module": "@jupyter-widgets/controls",
      "model_module_version": "1.5.0",
      "model_name": "HTMLModel",
      "state": {
       "_dom_classes": [],
       "_model_module": "@jupyter-widgets/controls",
       "_model_module_version": "1.5.0",
       "_model_name": "HTMLModel",
       "_view_count": null,
       "_view_module": "@jupyter-widgets/controls",
       "_view_module_version": "1.5.0",
       "_view_name": "HTMLView",
       "description": "",
       "description_tooltip": null,
       "layout": "IPY_MODEL_bc9936800396459aab41f61f8477ffd7",
       "placeholder": "​",
       "style": "IPY_MODEL_38bd6147348b4d519c8f3b9222f923a0",
       "value": " 8/8 [00:01&lt;00:00,  6.08ba/s]"
      }
     },
     "0ad071fccb2c4d2fb492da268678c8d8": {
      "model_module": "@jupyter-widgets/controls",
      "model_module_version": "1.5.0",
      "model_name": "HTMLModel",
      "state": {
       "_dom_classes": [],
       "_model_module": "@jupyter-widgets/controls",
       "_model_module_version": "1.5.0",
       "_model_name": "HTMLModel",
       "_view_count": null,
       "_view_module": "@jupyter-widgets/controls",
       "_view_module_version": "1.5.0",
       "_view_name": "HTMLView",
       "description": "",
       "description_tooltip": null,
       "layout": "IPY_MODEL_25e448324c0c41f7a83ef78b24f9770a",
       "placeholder": "​",
       "style": "IPY_MODEL_d2fe82f21ab64196a1249a7ed4ad9f7b",
       "value": "Downloading builder script: "
      }
     },
     "0af2ceecdd3e4859b9ead60acaa64c2c": {
      "model_module": "@jupyter-widgets/controls",
      "model_module_version": "1.5.0",
      "model_name": "HTMLModel",
      "state": {
       "_dom_classes": [],
       "_model_module": "@jupyter-widgets/controls",
       "_model_module_version": "1.5.0",
       "_model_name": "HTMLModel",
       "_view_count": null,
       "_view_module": "@jupyter-widgets/controls",
       "_view_module_version": "1.5.0",
       "_view_name": "HTMLView",
       "description": "",
       "description_tooltip": null,
       "layout": "IPY_MODEL_cba95e325a8842ffaa29bf27ca7e5aeb",
       "placeholder": "​",
       "style": "IPY_MODEL_1ff9a22fae8245d99598a2b73b0c1070",
       "value": " 1/1 [00:00&lt;00:00, 32.66ba/s]"
      }
     },
     "14f295701996485d871c08588702d797": {
      "model_module": "@jupyter-widgets/base",
      "model_module_version": "1.2.0",
      "model_name": "LayoutModel",
      "state": {
       "_model_module": "@jupyter-widgets/base",
       "_model_module_version": "1.2.0",
       "_model_name": "LayoutModel",
       "_view_count": null,
       "_view_module": "@jupyter-widgets/base",
       "_view_module_version": "1.2.0",
       "_view_name": "LayoutView",
       "align_content": null,
       "align_items": null,
       "align_self": null,
       "border": null,
       "bottom": null,
       "display": null,
       "flex": null,
       "flex_flow": null,
       "grid_area": null,
       "grid_auto_columns": null,
       "grid_auto_flow": null,
       "grid_auto_rows": null,
       "grid_column": null,
       "grid_gap": null,
       "grid_row": null,
       "grid_template_areas": null,
       "grid_template_columns": null,
       "grid_template_rows": null,
       "height": null,
       "justify_content": null,
       "justify_items": null,
       "left": null,
       "margin": null,
       "max_height": null,
       "max_width": null,
       "min_height": null,
       "min_width": null,
       "object_fit": null,
       "object_position": null,
       "order": null,
       "overflow": null,
       "overflow_x": null,
       "overflow_y": null,
       "padding": null,
       "right": null,
       "top": null,
       "visibility": null,
       "width": null
      }
     },
     "15b0d830a6fd408695688b79dd387a18": {
      "model_module": "@jupyter-widgets/controls",
      "model_module_version": "1.5.0",
      "model_name": "FloatProgressModel",
      "state": {
       "_dom_classes": [],
       "_model_module": "@jupyter-widgets/controls",
       "_model_module_version": "1.5.0",
       "_model_name": "FloatProgressModel",
       "_view_count": null,
       "_view_module": "@jupyter-widgets/controls",
       "_view_module_version": "1.5.0",
       "_view_name": "ProgressView",
       "bar_style": "success",
       "description": "",
       "description_tooltip": null,
       "layout": "IPY_MODEL_ca22b2f05c3c4d3c80b508bbc87d0652",
       "max": 2059.0,
       "min": 0.0,
       "orientation": "horizontal",
       "style": "IPY_MODEL_64edddb37fc64cad9bfbdf1877371d1b",
       "value": 2059.0
      }
     },
     "16aa4c0817c042c49dbd6156805cbd92": {
      "model_module": "@jupyter-widgets/controls",
      "model_module_version": "1.5.0",
      "model_name": "FloatProgressModel",
      "state": {
       "_dom_classes": [],
       "_model_module": "@jupyter-widgets/controls",
       "_model_module_version": "1.5.0",
       "_model_name": "FloatProgressModel",
       "_view_count": null,
       "_view_module": "@jupyter-widgets/controls",
       "_view_module_version": "1.5.0",
       "_view_name": "ProgressView",
       "bar_style": "success",
       "description": "",
       "description_tooltip": null,
       "layout": "IPY_MODEL_023a640d53694c59b8ac86c04550e465",
       "max": 1.0,
       "min": 0.0,
       "orientation": "horizontal",
       "style": "IPY_MODEL_f81b444d4e4a405aa5d5ea17bc7e1840",
       "value": 1.0
      }
     },
     "1abd2ab08b3d4576a0d18849b8157111": {
      "model_module": "@jupyter-widgets/controls",
      "model_module_version": "1.5.0",
      "model_name": "HTMLModel",
      "state": {
       "_dom_classes": [],
       "_model_module": "@jupyter-widgets/controls",
       "_model_module_version": "1.5.0",
       "_model_name": "HTMLModel",
       "_view_count": null,
       "_view_module": "@jupyter-widgets/controls",
       "_view_module_version": "1.5.0",
       "_view_name": "HTMLView",
       "description": "",
       "description_tooltip": null,
       "layout": "IPY_MODEL_f59c44123e0d4577af1a78f9f2f6dcf4",
       "placeholder": "​",
       "style": "IPY_MODEL_c0e12d2325f54042b3953f82adbbe880",
       "value": "Downloading (…)okenizer_config.json: 100%"
      }
     },
     "1ff9a22fae8245d99598a2b73b0c1070": {
      "model_module": "@jupyter-widgets/controls",
      "model_module_version": "1.5.0",
      "model_name": "DescriptionStyleModel",
      "state": {
       "_model_module": "@jupyter-widgets/controls",
       "_model_module_version": "1.5.0",
       "_model_name": "DescriptionStyleModel",
       "_view_count": null,
       "_view_module": "@jupyter-widgets/base",
       "_view_module_version": "1.2.0",
       "_view_name": "StyleView",
       "description_width": ""
      }
     },
     "213ffce0daab41798d858be5a685f6d0": {
      "model_module": "@jupyter-widgets/controls",
      "model_module_version": "1.5.0",
      "model_name": "FloatProgressModel",
      "state": {
       "_dom_classes": [],
       "_model_module": "@jupyter-widgets/controls",
       "_model_module_version": "1.5.0",
       "_model_name": "FloatProgressModel",
       "_view_count": null,
       "_view_module": "@jupyter-widgets/controls",
       "_view_module_version": "1.5.0",
       "_view_name": "ProgressView",
       "bar_style": "success",
       "description": "",
       "description_tooltip": null,
       "layout": "IPY_MODEL_da8c1e54a44b42bf8358481f84f5275d",
       "max": 286059269.0,
       "min": 0.0,
       "orientation": "horizontal",
       "style": "IPY_MODEL_9fc114f1caf34c04af071dd21afbd115",
       "value": 286059269.0
      }
     },
     "2254dfd2451d4554a58abd2c886c4b63": {
      "model_module": "@jupyter-widgets/controls",
      "model_module_version": "1.5.0",
      "model_name": "DescriptionStyleModel",
      "state": {
       "_model_module": "@jupyter-widgets/controls",
       "_model_module_version": "1.5.0",
       "_model_name": "DescriptionStyleModel",
       "_view_count": null,
       "_view_module": "@jupyter-widgets/base",
       "_view_module_version": "1.2.0",
       "_view_name": "StyleView",
       "description_width": ""
      }
     },
     "25e448324c0c41f7a83ef78b24f9770a": {
      "model_module": "@jupyter-widgets/base",
      "model_module_version": "1.2.0",
      "model_name": "LayoutModel",
      "state": {
       "_model_module": "@jupyter-widgets/base",
       "_model_module_version": "1.2.0",
       "_model_name": "LayoutModel",
       "_view_count": null,
       "_view_module": "@jupyter-widgets/base",
       "_view_module_version": "1.2.0",
       "_view_name": "LayoutView",
       "align_content": null,
       "align_items": null,
       "align_self": null,
       "border": null,
       "bottom": null,
       "display": null,
       "flex": null,
       "flex_flow": null,
       "grid_area": null,
       "grid_auto_columns": null,
       "grid_auto_flow": null,
       "grid_auto_rows": null,
       "grid_column": null,
       "grid_gap": null,
       "grid_row": null,
       "grid_template_areas": null,
       "grid_template_columns": null,
       "grid_template_rows": null,
       "height": null,
       "justify_content": null,
       "justify_items": null,
       "left": null,
       "margin": null,
       "max_height": null,
       "max_width": null,
       "min_height": null,
       "min_width": null,
       "object_fit": null,
       "object_position": null,
       "order": null,
       "overflow": null,
       "overflow_x": null,
       "overflow_y": null,
       "padding": null,
       "right": null,
       "top": null,
       "visibility": null,
       "width": null
      }
     },
     "284c1c8af2fd444a92eed0a9f5d31797": {
      "model_module": "@jupyter-widgets/controls",
      "model_module_version": "1.5.0",
      "model_name": "HTMLModel",
      "state": {
       "_dom_classes": [],
       "_model_module": "@jupyter-widgets/controls",
       "_model_module_version": "1.5.0",
       "_model_name": "HTMLModel",
       "_view_count": null,
       "_view_module": "@jupyter-widgets/controls",
       "_view_module_version": "1.5.0",
       "_view_name": "HTMLView",
       "description": "",
       "description_tooltip": null,
       "layout": "IPY_MODEL_4bf6089d93f44c9aac896c5e0e078859",
       "placeholder": "​",
       "style": "IPY_MODEL_33a631290b5f4494a1b19182d9136f18",
       "value": " 52.0/52.0 [00:00&lt;00:00, 3.42kB/s]"
      }
     },
     "2e5af733e162428c8e2fcfc3563340bc": {
      "model_module": "@jupyter-widgets/base",
      "model_module_version": "1.2.0",
      "model_name": "LayoutModel",
      "state": {
       "_model_module": "@jupyter-widgets/base",
       "_model_module_version": "1.2.0",
       "_model_name": "LayoutModel",
       "_view_count": null,
       "_view_module": "@jupyter-widgets/base",
       "_view_module_version": "1.2.0",
       "_view_name": "LayoutView",
       "align_content": null,
       "align_items": null,
       "align_self": null,
       "border": null,
       "bottom": null,
       "display": null,
       "flex": null,
       "flex_flow": null,
       "grid_area": null,
       "grid_auto_columns": null,
       "grid_auto_flow": null,
       "grid_auto_rows": null,
       "grid_column": null,
       "grid_gap": null,
       "grid_row": null,
       "grid_template_areas": null,
       "grid_template_columns": null,
       "grid_template_rows": null,
       "height": null,
       "justify_content": null,
       "justify_items": null,
       "left": null,
       "margin": null,
       "max_height": null,
       "max_width": null,
       "min_height": null,
       "min_width": null,
       "object_fit": null,
       "object_position": null,
       "order": null,
       "overflow": null,
       "overflow_x": null,
       "overflow_y": null,
       "padding": null,
       "right": null,
       "top": null,
       "visibility": null,
       "width": null
      }
     },
     "31f63c02612f4f60b49bdeff9af4b177": {
      "model_module": "@jupyter-widgets/controls",
      "model_module_version": "1.5.0",
      "model_name": "HBoxModel",
      "state": {
       "_dom_classes": [],
       "_model_module": "@jupyter-widgets/controls",
       "_model_module_version": "1.5.0",
       "_model_name": "HBoxModel",
       "_view_count": null,
       "_view_module": "@jupyter-widgets/controls",
       "_view_module_version": "1.5.0",
       "_view_name": "HBoxView",
       "box_style": "",
       "children": [
        "IPY_MODEL_1abd2ab08b3d4576a0d18849b8157111",
        "IPY_MODEL_34d1cfc46aae48b1b2f265d350c0cd1a",
        "IPY_MODEL_284c1c8af2fd444a92eed0a9f5d31797"
       ],
       "layout": "IPY_MODEL_9eaf3044851744bea13dc2935efcd135"
      }
     },
     "320f6d68ed094bc0b7f689c99b0139b6": {
      "model_module": "@jupyter-widgets/controls",
      "model_module_version": "1.5.0",
      "model_name": "HTMLModel",
      "state": {
       "_dom_classes": [],
       "_model_module": "@jupyter-widgets/controls",
       "_model_module_version": "1.5.0",
       "_model_name": "HTMLModel",
       "_view_count": null,
       "_view_module": "@jupyter-widgets/controls",
       "_view_module_version": "1.5.0",
       "_view_name": "HTMLView",
       "description": "",
       "description_tooltip": null,
       "layout": "IPY_MODEL_f24a1c1171af440eb2060dbef08e3245",
       "placeholder": "​",
       "style": "IPY_MODEL_a2b19c234dfe4feeae2a50566d1987bb",
       "value": "100%"
      }
     },
     "326f30cd72494d9eac4bd4c8671c0aec": {
      "model_module": "@jupyter-widgets/controls",
      "model_module_version": "1.5.0",
      "model_name": "FloatProgressModel",
      "state": {
       "_dom_classes": [],
       "_model_module": "@jupyter-widgets/controls",
       "_model_module_version": "1.5.0",
       "_model_name": "FloatProgressModel",
       "_view_count": null,
       "_view_module": "@jupyter-widgets/controls",
       "_view_module_version": "1.5.0",
       "_view_name": "ProgressView",
       "bar_style": "success",
       "description": "",
       "description_tooltip": null,
       "layout": "IPY_MODEL_457251f77b714c9cbb46bf5043bb0d62",
       "max": 578.0,
       "min": 0.0,
       "orientation": "horizontal",
       "style": "IPY_MODEL_47e8490153104316b765c99a2487eea1",
       "value": 578.0
      }
     },
     "33a631290b5f4494a1b19182d9136f18": {
      "model_module": "@jupyter-widgets/controls",
      "model_module_version": "1.5.0",
      "model_name": "DescriptionStyleModel",
      "state": {
       "_model_module": "@jupyter-widgets/controls",
       "_model_module_version": "1.5.0",
       "_model_name": "DescriptionStyleModel",
       "_view_count": null,
       "_view_module": "@jupyter-widgets/base",
       "_view_module_version": "1.2.0",
       "_view_name": "StyleView",
       "description_width": ""
      }
     },
     "34d1cfc46aae48b1b2f265d350c0cd1a": {
      "model_module": "@jupyter-widgets/controls",
      "model_module_version": "1.5.0",
      "model_name": "FloatProgressModel",
      "state": {
       "_dom_classes": [],
       "_model_module": "@jupyter-widgets/controls",
       "_model_module_version": "1.5.0",
       "_model_name": "FloatProgressModel",
       "_view_count": null,
       "_view_module": "@jupyter-widgets/controls",
       "_view_module_version": "1.5.0",
       "_view_name": "ProgressView",
       "bar_style": "success",
       "description": "",
       "description_tooltip": null,
       "layout": "IPY_MODEL_14f295701996485d871c08588702d797",
       "max": 52.0,
       "min": 0.0,
       "orientation": "horizontal",
       "style": "IPY_MODEL_b2a710825e214d0d8538dd4b11bdb5b7",
       "value": 52.0
      }
     },
     "38bd6147348b4d519c8f3b9222f923a0": {
      "model_module": "@jupyter-widgets/controls",
      "model_module_version": "1.5.0",
      "model_name": "DescriptionStyleModel",
      "state": {
       "_model_module": "@jupyter-widgets/controls",
       "_model_module_version": "1.5.0",
       "_model_name": "DescriptionStyleModel",
       "_view_count": null,
       "_view_module": "@jupyter-widgets/base",
       "_view_module_version": "1.2.0",
       "_view_name": "StyleView",
       "description_width": ""
      }
     },
     "3c81bf1cffde46a7944412062126a7b5": {
      "model_module": "@jupyter-widgets/base",
      "model_module_version": "1.2.0",
      "model_name": "LayoutModel",
      "state": {
       "_model_module": "@jupyter-widgets/base",
       "_model_module_version": "1.2.0",
       "_model_name": "LayoutModel",
       "_view_count": null,
       "_view_module": "@jupyter-widgets/base",
       "_view_module_version": "1.2.0",
       "_view_name": "LayoutView",
       "align_content": null,
       "align_items": null,
       "align_self": null,
       "border": null,
       "bottom": null,
       "display": null,
       "flex": null,
       "flex_flow": null,
       "grid_area": null,
       "grid_auto_columns": null,
       "grid_auto_flow": null,
       "grid_auto_rows": null,
       "grid_column": null,
       "grid_gap": null,
       "grid_row": null,
       "grid_template_areas": null,
       "grid_template_columns": null,
       "grid_template_rows": null,
       "height": null,
       "justify_content": null,
       "justify_items": null,
       "left": null,
       "margin": null,
       "max_height": null,
       "max_width": null,
       "min_height": null,
       "min_width": null,
       "object_fit": null,
       "object_position": null,
       "order": null,
       "overflow": null,
       "overflow_x": null,
       "overflow_y": null,
       "padding": null,
       "right": null,
       "top": null,
       "visibility": null,
       "width": null
      }
     },
     "3c93d9bd3a1f48d7b3f98bc0d033289e": {
      "model_module": "@jupyter-widgets/controls",
      "model_module_version": "1.5.0",
      "model_name": "HBoxModel",
      "state": {
       "_dom_classes": [],
       "_model_module": "@jupyter-widgets/controls",
       "_model_module_version": "1.5.0",
       "_model_name": "HBoxModel",
       "_view_count": null,
       "_view_module": "@jupyter-widgets/controls",
       "_view_module_version": "1.5.0",
       "_view_name": "HBoxView",
       "box_style": "",
       "children": [
        "IPY_MODEL_0ad071fccb2c4d2fb492da268678c8d8",
        "IPY_MODEL_15b0d830a6fd408695688b79dd387a18",
        "IPY_MODEL_d061a29ef80142d2ba022dbc2f93eeac"
       ],
       "layout": "IPY_MODEL_cadbdcecd096480eb7581c5140dd1813"
      }
     },
     "44289c90d26145a1a81f7915faa0ae45": {
      "model_module": "@jupyter-widgets/base",
      "model_module_version": "1.2.0",
      "model_name": "LayoutModel",
      "state": {
       "_model_module": "@jupyter-widgets/base",
       "_model_module_version": "1.2.0",
       "_model_name": "LayoutModel",
       "_view_count": null,
       "_view_module": "@jupyter-widgets/base",
       "_view_module_version": "1.2.0",
       "_view_name": "LayoutView",
       "align_content": null,
       "align_items": null,
       "align_self": null,
       "border": null,
       "bottom": null,
       "display": null,
       "flex": null,
       "flex_flow": null,
       "grid_area": null,
       "grid_auto_columns": null,
       "grid_auto_flow": null,
       "grid_auto_rows": null,
       "grid_column": null,
       "grid_gap": null,
       "grid_row": null,
       "grid_template_areas": null,
       "grid_template_columns": null,
       "grid_template_rows": null,
       "height": null,
       "justify_content": null,
       "justify_items": null,
       "left": null,
       "margin": null,
       "max_height": null,
       "max_width": null,
       "min_height": null,
       "min_width": null,
       "object_fit": null,
       "object_position": null,
       "order": null,
       "overflow": null,
       "overflow_x": null,
       "overflow_y": null,
       "padding": null,
       "right": null,
       "top": null,
       "visibility": null,
       "width": null
      }
     },
     "457251f77b714c9cbb46bf5043bb0d62": {
      "model_module": "@jupyter-widgets/base",
      "model_module_version": "1.2.0",
      "model_name": "LayoutModel",
      "state": {
       "_model_module": "@jupyter-widgets/base",
       "_model_module_version": "1.2.0",
       "_model_name": "LayoutModel",
       "_view_count": null,
       "_view_module": "@jupyter-widgets/base",
       "_view_module_version": "1.2.0",
       "_view_name": "LayoutView",
       "align_content": null,
       "align_items": null,
       "align_self": null,
       "border": null,
       "bottom": null,
       "display": null,
       "flex": null,
       "flex_flow": null,
       "grid_area": null,
       "grid_auto_columns": null,
       "grid_auto_flow": null,
       "grid_auto_rows": null,
       "grid_column": null,
       "grid_gap": null,
       "grid_row": null,
       "grid_template_areas": null,
       "grid_template_columns": null,
       "grid_template_rows": null,
       "height": null,
       "justify_content": null,
       "justify_items": null,
       "left": null,
       "margin": null,
       "max_height": null,
       "max_width": null,
       "min_height": null,
       "min_width": null,
       "object_fit": null,
       "object_position": null,
       "order": null,
       "overflow": null,
       "overflow_x": null,
       "overflow_y": null,
       "padding": null,
       "right": null,
       "top": null,
       "visibility": null,
       "width": null
      }
     },
     "47e8490153104316b765c99a2487eea1": {
      "model_module": "@jupyter-widgets/controls",
      "model_module_version": "1.5.0",
      "model_name": "ProgressStyleModel",
      "state": {
       "_model_module": "@jupyter-widgets/controls",
       "_model_module_version": "1.5.0",
       "_model_name": "ProgressStyleModel",
       "_view_count": null,
       "_view_module": "@jupyter-widgets/base",
       "_view_module_version": "1.2.0",
       "_view_name": "StyleView",
       "bar_color": null,
       "description_width": ""
      }
     },
     "49d221e4ceb54b0ca5b71fc64b864e37": {
      "model_module": "@jupyter-widgets/controls",
      "model_module_version": "1.5.0",
      "model_name": "HBoxModel",
      "state": {
       "_dom_classes": [],
       "_model_module": "@jupyter-widgets/controls",
       "_model_module_version": "1.5.0",
       "_model_name": "HBoxModel",
       "_view_count": null,
       "_view_module": "@jupyter-widgets/controls",
       "_view_module_version": "1.5.0",
       "_view_name": "HBoxView",
       "box_style": "",
       "children": [
        "IPY_MODEL_549dc9355feb4b1abc9bf84cc0a40e0f",
        "IPY_MODEL_d32aafd8e60f484c85c5066126259dc5",
        "IPY_MODEL_ec5631a2da13414ca84e2e5a171a3a68"
       ],
       "layout": "IPY_MODEL_5b5d02dcce8242999a176e37d59b7666"
      }
     },
     "4bf6089d93f44c9aac896c5e0e078859": {
      "model_module": "@jupyter-widgets/base",
      "model_module_version": "1.2.0",
      "model_name": "LayoutModel",
      "state": {
       "_model_module": "@jupyter-widgets/base",
       "_model_module_version": "1.2.0",
       "_model_name": "LayoutModel",
       "_view_count": null,
       "_view_module": "@jupyter-widgets/base",
       "_view_module_version": "1.2.0",
       "_view_name": "LayoutView",
       "align_content": null,
       "align_items": null,
       "align_self": null,
       "border": null,
       "bottom": null,
       "display": null,
       "flex": null,
       "flex_flow": null,
       "grid_area": null,
       "grid_auto_columns": null,
       "grid_auto_flow": null,
       "grid_auto_rows": null,
       "grid_column": null,
       "grid_gap": null,
       "grid_row": null,
       "grid_template_areas": null,
       "grid_template_columns": null,
       "grid_template_rows": null,
       "height": null,
       "justify_content": null,
       "justify_items": null,
       "left": null,
       "margin": null,
       "max_height": null,
       "max_width": null,
       "min_height": null,
       "min_width": null,
       "object_fit": null,
       "object_position": null,
       "order": null,
       "overflow": null,
       "overflow_x": null,
       "overflow_y": null,
       "padding": null,
       "right": null,
       "top": null,
       "visibility": null,
       "width": null
      }
     },
     "4d16bff6a1bf49819b9a460cb559d29f": {
      "model_module": "@jupyter-widgets/controls",
      "model_module_version": "1.5.0",
      "model_name": "HTMLModel",
      "state": {
       "_dom_classes": [],
       "_model_module": "@jupyter-widgets/controls",
       "_model_module_version": "1.5.0",
       "_model_name": "HTMLModel",
       "_view_count": null,
       "_view_module": "@jupyter-widgets/controls",
       "_view_module_version": "1.5.0",
       "_view_name": "HTMLView",
       "description": "",
       "description_tooltip": null,
       "layout": "IPY_MODEL_f48d6ec05543407caf09c815ded2f604",
       "placeholder": "​",
       "style": "IPY_MODEL_cd5ef0f991704b26af29fcc25690fce6",
       "value": " 578/578 [00:00&lt;00:00, 37.6kB/s]"
      }
     },
     "51e7d7bc37c249f2b5648e0374d92bbb": {
      "model_module": "@jupyter-widgets/controls",
      "model_module_version": "1.5.0",
      "model_name": "HTMLModel",
      "state": {
       "_dom_classes": [],
       "_model_module": "@jupyter-widgets/controls",
       "_model_module_version": "1.5.0",
       "_model_name": "HTMLModel",
       "_view_count": null,
       "_view_module": "@jupyter-widgets/controls",
       "_view_module_version": "1.5.0",
       "_view_name": "HTMLView",
       "description": "",
       "description_tooltip": null,
       "layout": "IPY_MODEL_e2cf58eb5e5445349e34c66b656082d1",
       "placeholder": "​",
       "style": "IPY_MODEL_bf8b096081c44b9b8749502361d5e303",
       "value": "Downloading spm.model: 100%"
      }
     },
     "530c975e6f044ea7bcb50b9bb305fc0d": {
      "model_module": "@jupyter-widgets/controls",
      "model_module_version": "1.5.0",
      "model_name": "DescriptionStyleModel",
      "state": {
       "_model_module": "@jupyter-widgets/controls",
       "_model_module_version": "1.5.0",
       "_model_name": "DescriptionStyleModel",
       "_view_count": null,
       "_view_module": "@jupyter-widgets/base",
       "_view_module_version": "1.2.0",
       "_view_name": "StyleView",
       "description_width": ""
      }
     },
     "549dc9355feb4b1abc9bf84cc0a40e0f": {
      "model_module": "@jupyter-widgets/controls",
      "model_module_version": "1.5.0",
      "model_name": "HTMLModel",
      "state": {
       "_dom_classes": [],
       "_model_module": "@jupyter-widgets/controls",
       "_model_module_version": "1.5.0",
       "_model_name": "HTMLModel",
       "_view_count": null,
       "_view_module": "@jupyter-widgets/controls",
       "_view_module_version": "1.5.0",
       "_view_name": "HTMLView",
       "description": "",
       "description_tooltip": null,
       "layout": "IPY_MODEL_2e5af733e162428c8e2fcfc3563340bc",
       "placeholder": "​",
       "style": "IPY_MODEL_db92e182a37e4dd69ff6517bd54026d1",
       "value": "100%"
      }
     },
     "56c181e2cda746f2848372124bd59167": {
      "model_module": "@jupyter-widgets/base",
      "model_module_version": "1.2.0",
      "model_name": "LayoutModel",
      "state": {
       "_model_module": "@jupyter-widgets/base",
       "_model_module_version": "1.2.0",
       "_model_name": "LayoutModel",
       "_view_count": null,
       "_view_module": "@jupyter-widgets/base",
       "_view_module_version": "1.2.0",
       "_view_name": "LayoutView",
       "align_content": null,
       "align_items": null,
       "align_self": null,
       "border": null,
       "bottom": null,
       "display": null,
       "flex": null,
       "flex_flow": null,
       "grid_area": null,
       "grid_auto_columns": null,
       "grid_auto_flow": null,
       "grid_auto_rows": null,
       "grid_column": null,
       "grid_gap": null,
       "grid_row": null,
       "grid_template_areas": null,
       "grid_template_columns": null,
       "grid_template_rows": null,
       "height": null,
       "justify_content": null,
       "justify_items": null,
       "left": null,
       "margin": null,
       "max_height": null,
       "max_width": null,
       "min_height": null,
       "min_width": null,
       "object_fit": null,
       "object_position": null,
       "order": null,
       "overflow": null,
       "overflow_x": null,
       "overflow_y": null,
       "padding": null,
       "right": null,
       "top": null,
       "visibility": null,
       "width": null
      }
     },
     "5b5d02dcce8242999a176e37d59b7666": {
      "model_module": "@jupyter-widgets/base",
      "model_module_version": "1.2.0",
      "model_name": "LayoutModel",
      "state": {
       "_model_module": "@jupyter-widgets/base",
       "_model_module_version": "1.2.0",
       "_model_name": "LayoutModel",
       "_view_count": null,
       "_view_module": "@jupyter-widgets/base",
       "_view_module_version": "1.2.0",
       "_view_name": "LayoutView",
       "align_content": null,
       "align_items": null,
       "align_self": null,
       "border": null,
       "bottom": null,
       "display": null,
       "flex": null,
       "flex_flow": null,
       "grid_area": null,
       "grid_auto_columns": null,
       "grid_auto_flow": null,
       "grid_auto_rows": null,
       "grid_column": null,
       "grid_gap": null,
       "grid_row": null,
       "grid_template_areas": null,
       "grid_template_columns": null,
       "grid_template_rows": null,
       "height": null,
       "justify_content": null,
       "justify_items": null,
       "left": null,
       "margin": null,
       "max_height": null,
       "max_width": null,
       "min_height": null,
       "min_width": null,
       "object_fit": null,
       "object_position": null,
       "order": null,
       "overflow": null,
       "overflow_x": null,
       "overflow_y": null,
       "padding": null,
       "right": null,
       "top": null,
       "visibility": null,
       "width": null
      }
     },
     "64edddb37fc64cad9bfbdf1877371d1b": {
      "model_module": "@jupyter-widgets/controls",
      "model_module_version": "1.5.0",
      "model_name": "ProgressStyleModel",
      "state": {
       "_model_module": "@jupyter-widgets/controls",
       "_model_module_version": "1.5.0",
       "_model_name": "ProgressStyleModel",
       "_view_count": null,
       "_view_module": "@jupyter-widgets/base",
       "_view_module_version": "1.2.0",
       "_view_name": "StyleView",
       "bar_color": null,
       "description_width": ""
      }
     },
     "68c47999c01d4c73bbf3076bd22c937a": {
      "model_module": "@jupyter-widgets/base",
      "model_module_version": "1.2.0",
      "model_name": "LayoutModel",
      "state": {
       "_model_module": "@jupyter-widgets/base",
       "_model_module_version": "1.2.0",
       "_model_name": "LayoutModel",
       "_view_count": null,
       "_view_module": "@jupyter-widgets/base",
       "_view_module_version": "1.2.0",
       "_view_name": "LayoutView",
       "align_content": null,
       "align_items": null,
       "align_self": null,
       "border": null,
       "bottom": null,
       "display": null,
       "flex": null,
       "flex_flow": null,
       "grid_area": null,
       "grid_auto_columns": null,
       "grid_auto_flow": null,
       "grid_auto_rows": null,
       "grid_column": null,
       "grid_gap": null,
       "grid_row": null,
       "grid_template_areas": null,
       "grid_template_columns": null,
       "grid_template_rows": null,
       "height": null,
       "justify_content": null,
       "justify_items": null,
       "left": null,
       "margin": null,
       "max_height": null,
       "max_width": null,
       "min_height": null,
       "min_width": null,
       "object_fit": null,
       "object_position": null,
       "order": null,
       "overflow": null,
       "overflow_x": null,
       "overflow_y": null,
       "padding": null,
       "right": null,
       "top": null,
       "visibility": null,
       "width": null
      }
     },
     "749b0fb2cd094b3e80f484ad45028b02": {
      "model_module": "@jupyter-widgets/controls",
      "model_module_version": "1.5.0",
      "model_name": "HBoxModel",
      "state": {
       "_dom_classes": [],
       "_model_module": "@jupyter-widgets/controls",
       "_model_module_version": "1.5.0",
       "_model_name": "HBoxModel",
       "_view_count": null,
       "_view_module": "@jupyter-widgets/controls",
       "_view_module_version": "1.5.0",
       "_view_name": "HBoxView",
       "box_style": "",
       "children": [
        "IPY_MODEL_010e254a36d94703bc179ea4a41cc742",
        "IPY_MODEL_213ffce0daab41798d858be5a685f6d0",
        "IPY_MODEL_90194cb23f974fcc878b81612e4132d2"
       ],
       "layout": "IPY_MODEL_3c81bf1cffde46a7944412062126a7b5"
      }
     },
     "785632435c9b47ffa5f5db3cbb73d2b1": {
      "model_module": "@jupyter-widgets/controls",
      "model_module_version": "1.5.0",
      "model_name": "HBoxModel",
      "state": {
       "_dom_classes": [],
       "_model_module": "@jupyter-widgets/controls",
       "_model_module_version": "1.5.0",
       "_model_name": "HBoxModel",
       "_view_count": null,
       "_view_module": "@jupyter-widgets/controls",
       "_view_module_version": "1.5.0",
       "_view_name": "HBoxView",
       "box_style": "",
       "children": [
        "IPY_MODEL_51e7d7bc37c249f2b5648e0374d92bbb",
        "IPY_MODEL_7fa5cd87698d4b73adb42713ca5aef5a",
        "IPY_MODEL_af64ca3a835e431bbcaf4e468ff684f9"
       ],
       "layout": "IPY_MODEL_808137612ad74a62a675d6c0f5bc4f06"
      }
     },
     "7c42d7dc582642babd80dd0fb151b6a0": {
      "model_module": "@jupyter-widgets/base",
      "model_module_version": "1.2.0",
      "model_name": "LayoutModel",
      "state": {
       "_model_module": "@jupyter-widgets/base",
       "_model_module_version": "1.2.0",
       "_model_name": "LayoutModel",
       "_view_count": null,
       "_view_module": "@jupyter-widgets/base",
       "_view_module_version": "1.2.0",
       "_view_name": "LayoutView",
       "align_content": null,
       "align_items": null,
       "align_self": null,
       "border": null,
       "bottom": null,
       "display": null,
       "flex": null,
       "flex_flow": null,
       "grid_area": null,
       "grid_auto_columns": null,
       "grid_auto_flow": null,
       "grid_auto_rows": null,
       "grid_column": null,
       "grid_gap": null,
       "grid_row": null,
       "grid_template_areas": null,
       "grid_template_columns": null,
       "grid_template_rows": null,
       "height": null,
       "justify_content": null,
       "justify_items": null,
       "left": null,
       "margin": null,
       "max_height": null,
       "max_width": null,
       "min_height": null,
       "min_width": null,
       "object_fit": null,
       "object_position": null,
       "order": null,
       "overflow": null,
       "overflow_x": null,
       "overflow_y": null,
       "padding": null,
       "right": null,
       "top": null,
       "visibility": null,
       "width": null
      }
     },
     "7cf94956622f428490bbfbfe1604fa54": {
      "model_module": "@jupyter-widgets/base",
      "model_module_version": "1.2.0",
      "model_name": "LayoutModel",
      "state": {
       "_model_module": "@jupyter-widgets/base",
       "_model_module_version": "1.2.0",
       "_model_name": "LayoutModel",
       "_view_count": null,
       "_view_module": "@jupyter-widgets/base",
       "_view_module_version": "1.2.0",
       "_view_name": "LayoutView",
       "align_content": null,
       "align_items": null,
       "align_self": null,
       "border": null,
       "bottom": null,
       "display": null,
       "flex": null,
       "flex_flow": null,
       "grid_area": null,
       "grid_auto_columns": null,
       "grid_auto_flow": null,
       "grid_auto_rows": null,
       "grid_column": null,
       "grid_gap": null,
       "grid_row": null,
       "grid_template_areas": null,
       "grid_template_columns": null,
       "grid_template_rows": null,
       "height": null,
       "justify_content": null,
       "justify_items": null,
       "left": null,
       "margin": null,
       "max_height": null,
       "max_width": null,
       "min_height": null,
       "min_width": null,
       "object_fit": null,
       "object_position": null,
       "order": null,
       "overflow": null,
       "overflow_x": null,
       "overflow_y": null,
       "padding": null,
       "right": null,
       "top": null,
       "visibility": null,
       "width": null
      }
     },
     "7fa5cd87698d4b73adb42713ca5aef5a": {
      "model_module": "@jupyter-widgets/controls",
      "model_module_version": "1.5.0",
      "model_name": "FloatProgressModel",
      "state": {
       "_dom_classes": [],
       "_model_module": "@jupyter-widgets/controls",
       "_model_module_version": "1.5.0",
       "_model_name": "FloatProgressModel",
       "_view_count": null,
       "_view_module": "@jupyter-widgets/controls",
       "_view_module_version": "1.5.0",
       "_view_name": "ProgressView",
       "bar_style": "success",
       "description": "",
       "description_tooltip": null,
       "layout": "IPY_MODEL_8991adc32de547c3a1262e2d1af62375",
       "max": 2464616.0,
       "min": 0.0,
       "orientation": "horizontal",
       "style": "IPY_MODEL_a109db6c1f1d42539c72ba5976b9de92",
       "value": 2464616.0
      }
     },
     "808137612ad74a62a675d6c0f5bc4f06": {
      "model_module": "@jupyter-widgets/base",
      "model_module_version": "1.2.0",
      "model_name": "LayoutModel",
      "state": {
       "_model_module": "@jupyter-widgets/base",
       "_model_module_version": "1.2.0",
       "_model_name": "LayoutModel",
       "_view_count": null,
       "_view_module": "@jupyter-widgets/base",
       "_view_module_version": "1.2.0",
       "_view_name": "LayoutView",
       "align_content": null,
       "align_items": null,
       "align_self": null,
       "border": null,
       "bottom": null,
       "display": null,
       "flex": null,
       "flex_flow": null,
       "grid_area": null,
       "grid_auto_columns": null,
       "grid_auto_flow": null,
       "grid_auto_rows": null,
       "grid_column": null,
       "grid_gap": null,
       "grid_row": null,
       "grid_template_areas": null,
       "grid_template_columns": null,
       "grid_template_rows": null,
       "height": null,
       "justify_content": null,
       "justify_items": null,
       "left": null,
       "margin": null,
       "max_height": null,
       "max_width": null,
       "min_height": null,
       "min_width": null,
       "object_fit": null,
       "object_position": null,
       "order": null,
       "overflow": null,
       "overflow_x": null,
       "overflow_y": null,
       "padding": null,
       "right": null,
       "top": null,
       "visibility": null,
       "width": null
      }
     },
     "8322cb218f2d4db69c621a79eb653f7a": {
      "model_module": "@jupyter-widgets/controls",
      "model_module_version": "1.5.0",
      "model_name": "DescriptionStyleModel",
      "state": {
       "_model_module": "@jupyter-widgets/controls",
       "_model_module_version": "1.5.0",
       "_model_name": "DescriptionStyleModel",
       "_view_count": null,
       "_view_module": "@jupyter-widgets/base",
       "_view_module_version": "1.2.0",
       "_view_name": "StyleView",
       "description_width": ""
      }
     },
     "8694b7d7efe647f887bfc3b8f04071c6": {
      "model_module": "@jupyter-widgets/base",
      "model_module_version": "1.2.0",
      "model_name": "LayoutModel",
      "state": {
       "_model_module": "@jupyter-widgets/base",
       "_model_module_version": "1.2.0",
       "_model_name": "LayoutModel",
       "_view_count": null,
       "_view_module": "@jupyter-widgets/base",
       "_view_module_version": "1.2.0",
       "_view_name": "LayoutView",
       "align_content": null,
       "align_items": null,
       "align_self": null,
       "border": null,
       "bottom": null,
       "display": null,
       "flex": null,
       "flex_flow": null,
       "grid_area": null,
       "grid_auto_columns": null,
       "grid_auto_flow": null,
       "grid_auto_rows": null,
       "grid_column": null,
       "grid_gap": null,
       "grid_row": null,
       "grid_template_areas": null,
       "grid_template_columns": null,
       "grid_template_rows": null,
       "height": null,
       "justify_content": null,
       "justify_items": null,
       "left": null,
       "margin": null,
       "max_height": null,
       "max_width": null,
       "min_height": null,
       "min_width": null,
       "object_fit": null,
       "object_position": null,
       "order": null,
       "overflow": null,
       "overflow_x": null,
       "overflow_y": null,
       "padding": null,
       "right": null,
       "top": null,
       "visibility": null,
       "width": null
      }
     },
     "8991adc32de547c3a1262e2d1af62375": {
      "model_module": "@jupyter-widgets/base",
      "model_module_version": "1.2.0",
      "model_name": "LayoutModel",
      "state": {
       "_model_module": "@jupyter-widgets/base",
       "_model_module_version": "1.2.0",
       "_model_name": "LayoutModel",
       "_view_count": null,
       "_view_module": "@jupyter-widgets/base",
       "_view_module_version": "1.2.0",
       "_view_name": "LayoutView",
       "align_content": null,
       "align_items": null,
       "align_self": null,
       "border": null,
       "bottom": null,
       "display": null,
       "flex": null,
       "flex_flow": null,
       "grid_area": null,
       "grid_auto_columns": null,
       "grid_auto_flow": null,
       "grid_auto_rows": null,
       "grid_column": null,
       "grid_gap": null,
       "grid_row": null,
       "grid_template_areas": null,
       "grid_template_columns": null,
       "grid_template_rows": null,
       "height": null,
       "justify_content": null,
       "justify_items": null,
       "left": null,
       "margin": null,
       "max_height": null,
       "max_width": null,
       "min_height": null,
       "min_width": null,
       "object_fit": null,
       "object_position": null,
       "order": null,
       "overflow": null,
       "overflow_x": null,
       "overflow_y": null,
       "padding": null,
       "right": null,
       "top": null,
       "visibility": null,
       "width": null
      }
     },
     "8b9ca0e9429642f28a9ee8c0a66222de": {
      "model_module": "@jupyter-widgets/base",
      "model_module_version": "1.2.0",
      "model_name": "LayoutModel",
      "state": {
       "_model_module": "@jupyter-widgets/base",
       "_model_module_version": "1.2.0",
       "_model_name": "LayoutModel",
       "_view_count": null,
       "_view_module": "@jupyter-widgets/base",
       "_view_module_version": "1.2.0",
       "_view_name": "LayoutView",
       "align_content": null,
       "align_items": null,
       "align_self": null,
       "border": null,
       "bottom": null,
       "display": null,
       "flex": null,
       "flex_flow": null,
       "grid_area": null,
       "grid_auto_columns": null,
       "grid_auto_flow": null,
       "grid_auto_rows": null,
       "grid_column": null,
       "grid_gap": null,
       "grid_row": null,
       "grid_template_areas": null,
       "grid_template_columns": null,
       "grid_template_rows": null,
       "height": null,
       "justify_content": null,
       "justify_items": null,
       "left": null,
       "margin": null,
       "max_height": null,
       "max_width": null,
       "min_height": null,
       "min_width": null,
       "object_fit": null,
       "object_position": null,
       "order": null,
       "overflow": null,
       "overflow_x": null,
       "overflow_y": null,
       "padding": null,
       "right": null,
       "top": null,
       "visibility": null,
       "width": null
      }
     },
     "8f2d754495914233a8fa1d43fe0edc0d": {
      "model_module": "@jupyter-widgets/base",
      "model_module_version": "1.2.0",
      "model_name": "LayoutModel",
      "state": {
       "_model_module": "@jupyter-widgets/base",
       "_model_module_version": "1.2.0",
       "_model_name": "LayoutModel",
       "_view_count": null,
       "_view_module": "@jupyter-widgets/base",
       "_view_module_version": "1.2.0",
       "_view_name": "LayoutView",
       "align_content": null,
       "align_items": null,
       "align_self": null,
       "border": null,
       "bottom": null,
       "display": null,
       "flex": null,
       "flex_flow": null,
       "grid_area": null,
       "grid_auto_columns": null,
       "grid_auto_flow": null,
       "grid_auto_rows": null,
       "grid_column": null,
       "grid_gap": null,
       "grid_row": null,
       "grid_template_areas": null,
       "grid_template_columns": null,
       "grid_template_rows": null,
       "height": null,
       "justify_content": null,
       "justify_items": null,
       "left": null,
       "margin": null,
       "max_height": null,
       "max_width": null,
       "min_height": null,
       "min_width": null,
       "object_fit": null,
       "object_position": null,
       "order": null,
       "overflow": null,
       "overflow_x": null,
       "overflow_y": null,
       "padding": null,
       "right": null,
       "top": null,
       "visibility": null,
       "width": null
      }
     },
     "90194cb23f974fcc878b81612e4132d2": {
      "model_module": "@jupyter-widgets/controls",
      "model_module_version": "1.5.0",
      "model_name": "HTMLModel",
      "state": {
       "_dom_classes": [],
       "_model_module": "@jupyter-widgets/controls",
       "_model_module_version": "1.5.0",
       "_model_name": "HTMLModel",
       "_view_count": null,
       "_view_module": "@jupyter-widgets/controls",
       "_view_module_version": "1.5.0",
       "_view_name": "HTMLView",
       "description": "",
       "description_tooltip": null,
       "layout": "IPY_MODEL_e0300b92b95a4c01b2628d833cc5bc93",
       "placeholder": "​",
       "style": "IPY_MODEL_530c975e6f044ea7bcb50b9bb305fc0d",
       "value": " 286M/286M [00:01&lt;00:00, 210MB/s]"
      }
     },
     "9b4de32ad51d4d928ff43580c2cbf930": {
      "model_module": "@jupyter-widgets/controls",
      "model_module_version": "1.5.0",
      "model_name": "HBoxModel",
      "state": {
       "_dom_classes": [],
       "_model_module": "@jupyter-widgets/controls",
       "_model_module_version": "1.5.0",
       "_model_name": "HBoxModel",
       "_view_count": null,
       "_view_module": "@jupyter-widgets/controls",
       "_view_module_version": "1.5.0",
       "_view_name": "HBoxView",
       "box_style": "",
       "children": [
        "IPY_MODEL_e3ab719663204fa1a404689e0cb2a672",
        "IPY_MODEL_326f30cd72494d9eac4bd4c8671c0aec",
        "IPY_MODEL_4d16bff6a1bf49819b9a460cb559d29f"
       ],
       "layout": "IPY_MODEL_ef7c9c58aee24755a0354430b48dcd3a"
      }
     },
     "9eaf3044851744bea13dc2935efcd135": {
      "model_module": "@jupyter-widgets/base",
      "model_module_version": "1.2.0",
      "model_name": "LayoutModel",
      "state": {
       "_model_module": "@jupyter-widgets/base",
       "_model_module_version": "1.2.0",
       "_model_name": "LayoutModel",
       "_view_count": null,
       "_view_module": "@jupyter-widgets/base",
       "_view_module_version": "1.2.0",
       "_view_name": "LayoutView",
       "align_content": null,
       "align_items": null,
       "align_self": null,
       "border": null,
       "bottom": null,
       "display": null,
       "flex": null,
       "flex_flow": null,
       "grid_area": null,
       "grid_auto_columns": null,
       "grid_auto_flow": null,
       "grid_auto_rows": null,
       "grid_column": null,
       "grid_gap": null,
       "grid_row": null,
       "grid_template_areas": null,
       "grid_template_columns": null,
       "grid_template_rows": null,
       "height": null,
       "justify_content": null,
       "justify_items": null,
       "left": null,
       "margin": null,
       "max_height": null,
       "max_width": null,
       "min_height": null,
       "min_width": null,
       "object_fit": null,
       "object_position": null,
       "order": null,
       "overflow": null,
       "overflow_x": null,
       "overflow_y": null,
       "padding": null,
       "right": null,
       "top": null,
       "visibility": null,
       "width": null
      }
     },
     "9fc114f1caf34c04af071dd21afbd115": {
      "model_module": "@jupyter-widgets/controls",
      "model_module_version": "1.5.0",
      "model_name": "ProgressStyleModel",
      "state": {
       "_model_module": "@jupyter-widgets/controls",
       "_model_module_version": "1.5.0",
       "_model_name": "ProgressStyleModel",
       "_view_count": null,
       "_view_module": "@jupyter-widgets/base",
       "_view_module_version": "1.2.0",
       "_view_name": "StyleView",
       "bar_color": null,
       "description_width": ""
      }
     },
     "a109db6c1f1d42539c72ba5976b9de92": {
      "model_module": "@jupyter-widgets/controls",
      "model_module_version": "1.5.0",
      "model_name": "ProgressStyleModel",
      "state": {
       "_model_module": "@jupyter-widgets/controls",
       "_model_module_version": "1.5.0",
       "_model_name": "ProgressStyleModel",
       "_view_count": null,
       "_view_module": "@jupyter-widgets/base",
       "_view_module_version": "1.2.0",
       "_view_name": "StyleView",
       "bar_color": null,
       "description_width": ""
      }
     },
     "a2b19c234dfe4feeae2a50566d1987bb": {
      "model_module": "@jupyter-widgets/controls",
      "model_module_version": "1.5.0",
      "model_name": "DescriptionStyleModel",
      "state": {
       "_model_module": "@jupyter-widgets/controls",
       "_model_module_version": "1.5.0",
       "_model_name": "DescriptionStyleModel",
       "_view_count": null,
       "_view_module": "@jupyter-widgets/base",
       "_view_module_version": "1.2.0",
       "_view_name": "StyleView",
       "description_width": ""
      }
     },
     "a36c5c0b99174e5f9fa66ffac6f30fbe": {
      "model_module": "@jupyter-widgets/controls",
      "model_module_version": "1.5.0",
      "model_name": "HTMLModel",
      "state": {
       "_dom_classes": [],
       "_model_module": "@jupyter-widgets/controls",
       "_model_module_version": "1.5.0",
       "_model_name": "HTMLModel",
       "_view_count": null,
       "_view_module": "@jupyter-widgets/controls",
       "_view_module_version": "1.5.0",
       "_view_name": "HTMLView",
       "description": "",
       "description_tooltip": null,
       "layout": "IPY_MODEL_68c47999c01d4c73bbf3076bd22c937a",
       "placeholder": "​",
       "style": "IPY_MODEL_c1359b4ce6e442bb998d866ff3d7b3fc",
       "value": "Creating CSV from Arrow format: 100%"
      }
     },
     "ab64ce19d04f46fc95aa99b7c0adb014": {
      "model_module": "@jupyter-widgets/base",
      "model_module_version": "1.2.0",
      "model_name": "LayoutModel",
      "state": {
       "_model_module": "@jupyter-widgets/base",
       "_model_module_version": "1.2.0",
       "_model_name": "LayoutModel",
       "_view_count": null,
       "_view_module": "@jupyter-widgets/base",
       "_view_module_version": "1.2.0",
       "_view_name": "LayoutView",
       "align_content": null,
       "align_items": null,
       "align_self": null,
       "border": null,
       "bottom": null,
       "display": null,
       "flex": null,
       "flex_flow": null,
       "grid_area": null,
       "grid_auto_columns": null,
       "grid_auto_flow": null,
       "grid_auto_rows": null,
       "grid_column": null,
       "grid_gap": null,
       "grid_row": null,
       "grid_template_areas": null,
       "grid_template_columns": null,
       "grid_template_rows": null,
       "height": null,
       "justify_content": null,
       "justify_items": null,
       "left": null,
       "margin": null,
       "max_height": null,
       "max_width": null,
       "min_height": null,
       "min_width": null,
       "object_fit": null,
       "object_position": null,
       "order": null,
       "overflow": null,
       "overflow_x": null,
       "overflow_y": null,
       "padding": null,
       "right": null,
       "top": null,
       "visibility": null,
       "width": null
      }
     },
     "af64ca3a835e431bbcaf4e468ff684f9": {
      "model_module": "@jupyter-widgets/controls",
      "model_module_version": "1.5.0",
      "model_name": "HTMLModel",
      "state": {
       "_dom_classes": [],
       "_model_module": "@jupyter-widgets/controls",
       "_model_module_version": "1.5.0",
       "_model_name": "HTMLModel",
       "_view_count": null,
       "_view_module": "@jupyter-widgets/controls",
       "_view_module_version": "1.5.0",
       "_view_name": "HTMLView",
       "description": "",
       "description_tooltip": null,
       "layout": "IPY_MODEL_8b9ca0e9429642f28a9ee8c0a66222de",
       "placeholder": "​",
       "style": "IPY_MODEL_db42d7feafaa48f3ade2fa65f5ed5f08",
       "value": " 2.46M/2.46M [00:00&lt;00:00, 6.35MB/s]"
      }
     },
     "b205ee8ab109401cb9223da37bf5c691": {
      "model_module": "@jupyter-widgets/controls",
      "model_module_version": "1.5.0",
      "model_name": "DescriptionStyleModel",
      "state": {
       "_model_module": "@jupyter-widgets/controls",
       "_model_module_version": "1.5.0",
       "_model_name": "DescriptionStyleModel",
       "_view_count": null,
       "_view_module": "@jupyter-widgets/base",
       "_view_module_version": "1.2.0",
       "_view_name": "StyleView",
       "description_width": ""
      }
     },
     "b2a710825e214d0d8538dd4b11bdb5b7": {
      "model_module": "@jupyter-widgets/controls",
      "model_module_version": "1.5.0",
      "model_name": "ProgressStyleModel",
      "state": {
       "_model_module": "@jupyter-widgets/controls",
       "_model_module_version": "1.5.0",
       "_model_name": "ProgressStyleModel",
       "_view_count": null,
       "_view_module": "@jupyter-widgets/base",
       "_view_module_version": "1.2.0",
       "_view_name": "StyleView",
       "bar_color": null,
       "description_width": ""
      }
     },
     "bc9936800396459aab41f61f8477ffd7": {
      "model_module": "@jupyter-widgets/base",
      "model_module_version": "1.2.0",
      "model_name": "LayoutModel",
      "state": {
       "_model_module": "@jupyter-widgets/base",
       "_model_module_version": "1.2.0",
       "_model_name": "LayoutModel",
       "_view_count": null,
       "_view_module": "@jupyter-widgets/base",
       "_view_module_version": "1.2.0",
       "_view_name": "LayoutView",
       "align_content": null,
       "align_items": null,
       "align_self": null,
       "border": null,
       "bottom": null,
       "display": null,
       "flex": null,
       "flex_flow": null,
       "grid_area": null,
       "grid_auto_columns": null,
       "grid_auto_flow": null,
       "grid_auto_rows": null,
       "grid_column": null,
       "grid_gap": null,
       "grid_row": null,
       "grid_template_areas": null,
       "grid_template_columns": null,
       "grid_template_rows": null,
       "height": null,
       "justify_content": null,
       "justify_items": null,
       "left": null,
       "margin": null,
       "max_height": null,
       "max_width": null,
       "min_height": null,
       "min_width": null,
       "object_fit": null,
       "object_position": null,
       "order": null,
       "overflow": null,
       "overflow_x": null,
       "overflow_y": null,
       "padding": null,
       "right": null,
       "top": null,
       "visibility": null,
       "width": null
      }
     },
     "be3e5464694b4c49a4648fad103af079": {
      "model_module": "@jupyter-widgets/controls",
      "model_module_version": "1.5.0",
      "model_name": "DescriptionStyleModel",
      "state": {
       "_model_module": "@jupyter-widgets/controls",
       "_model_module_version": "1.5.0",
       "_model_name": "DescriptionStyleModel",
       "_view_count": null,
       "_view_module": "@jupyter-widgets/base",
       "_view_module_version": "1.2.0",
       "_view_name": "StyleView",
       "description_width": ""
      }
     },
     "bf8b096081c44b9b8749502361d5e303": {
      "model_module": "@jupyter-widgets/controls",
      "model_module_version": "1.5.0",
      "model_name": "DescriptionStyleModel",
      "state": {
       "_model_module": "@jupyter-widgets/controls",
       "_model_module_version": "1.5.0",
       "_model_name": "DescriptionStyleModel",
       "_view_count": null,
       "_view_module": "@jupyter-widgets/base",
       "_view_module_version": "1.2.0",
       "_view_name": "StyleView",
       "description_width": ""
      }
     },
     "c0e12d2325f54042b3953f82adbbe880": {
      "model_module": "@jupyter-widgets/controls",
      "model_module_version": "1.5.0",
      "model_name": "DescriptionStyleModel",
      "state": {
       "_model_module": "@jupyter-widgets/controls",
       "_model_module_version": "1.5.0",
       "_model_name": "DescriptionStyleModel",
       "_view_count": null,
       "_view_module": "@jupyter-widgets/base",
       "_view_module_version": "1.2.0",
       "_view_name": "StyleView",
       "description_width": ""
      }
     },
     "c1359b4ce6e442bb998d866ff3d7b3fc": {
      "model_module": "@jupyter-widgets/controls",
      "model_module_version": "1.5.0",
      "model_name": "DescriptionStyleModel",
      "state": {
       "_model_module": "@jupyter-widgets/controls",
       "_model_module_version": "1.5.0",
       "_model_name": "DescriptionStyleModel",
       "_view_count": null,
       "_view_module": "@jupyter-widgets/base",
       "_view_module_version": "1.2.0",
       "_view_name": "StyleView",
       "description_width": ""
      }
     },
     "c2adaa90726d45e79485059a70968c13": {
      "model_module": "@jupyter-widgets/controls",
      "model_module_version": "1.5.0",
      "model_name": "ProgressStyleModel",
      "state": {
       "_model_module": "@jupyter-widgets/controls",
       "_model_module_version": "1.5.0",
       "_model_name": "ProgressStyleModel",
       "_view_count": null,
       "_view_module": "@jupyter-widgets/base",
       "_view_module_version": "1.2.0",
       "_view_name": "StyleView",
       "bar_color": null,
       "description_width": ""
      }
     },
     "ca22b2f05c3c4d3c80b508bbc87d0652": {
      "model_module": "@jupyter-widgets/base",
      "model_module_version": "1.2.0",
      "model_name": "LayoutModel",
      "state": {
       "_model_module": "@jupyter-widgets/base",
       "_model_module_version": "1.2.0",
       "_model_name": "LayoutModel",
       "_view_count": null,
       "_view_module": "@jupyter-widgets/base",
       "_view_module_version": "1.2.0",
       "_view_name": "LayoutView",
       "align_content": null,
       "align_items": null,
       "align_self": null,
       "border": null,
       "bottom": null,
       "display": null,
       "flex": null,
       "flex_flow": null,
       "grid_area": null,
       "grid_auto_columns": null,
       "grid_auto_flow": null,
       "grid_auto_rows": null,
       "grid_column": null,
       "grid_gap": null,
       "grid_row": null,
       "grid_template_areas": null,
       "grid_template_columns": null,
       "grid_template_rows": null,
       "height": null,
       "justify_content": null,
       "justify_items": null,
       "left": null,
       "margin": null,
       "max_height": null,
       "max_width": null,
       "min_height": null,
       "min_width": null,
       "object_fit": null,
       "object_position": null,
       "order": null,
       "overflow": null,
       "overflow_x": null,
       "overflow_y": null,
       "padding": null,
       "right": null,
       "top": null,
       "visibility": null,
       "width": null
      }
     },
     "cadbdcecd096480eb7581c5140dd1813": {
      "model_module": "@jupyter-widgets/base",
      "model_module_version": "1.2.0",
      "model_name": "LayoutModel",
      "state": {
       "_model_module": "@jupyter-widgets/base",
       "_model_module_version": "1.2.0",
       "_model_name": "LayoutModel",
       "_view_count": null,
       "_view_module": "@jupyter-widgets/base",
       "_view_module_version": "1.2.0",
       "_view_name": "LayoutView",
       "align_content": null,
       "align_items": null,
       "align_self": null,
       "border": null,
       "bottom": null,
       "display": null,
       "flex": null,
       "flex_flow": null,
       "grid_area": null,
       "grid_auto_columns": null,
       "grid_auto_flow": null,
       "grid_auto_rows": null,
       "grid_column": null,
       "grid_gap": null,
       "grid_row": null,
       "grid_template_areas": null,
       "grid_template_columns": null,
       "grid_template_rows": null,
       "height": null,
       "justify_content": null,
       "justify_items": null,
       "left": null,
       "margin": null,
       "max_height": null,
       "max_width": null,
       "min_height": null,
       "min_width": null,
       "object_fit": null,
       "object_position": null,
       "order": null,
       "overflow": null,
       "overflow_x": null,
       "overflow_y": null,
       "padding": null,
       "right": null,
       "top": null,
       "visibility": null,
       "width": null
      }
     },
     "cb1a4608763e4d8a95a37be9ad8d49b6": {
      "model_module": "@jupyter-widgets/controls",
      "model_module_version": "1.5.0",
      "model_name": "FloatProgressModel",
      "state": {
       "_dom_classes": [],
       "_model_module": "@jupyter-widgets/controls",
       "_model_module_version": "1.5.0",
       "_model_name": "FloatProgressModel",
       "_view_count": null,
       "_view_module": "@jupyter-widgets/controls",
       "_view_module_version": "1.5.0",
       "_view_name": "ProgressView",
       "bar_style": "success",
       "description": "",
       "description_tooltip": null,
       "layout": "IPY_MODEL_ab64ce19d04f46fc95aa99b7c0adb014",
       "max": 8.0,
       "min": 0.0,
       "orientation": "horizontal",
       "style": "IPY_MODEL_c2adaa90726d45e79485059a70968c13",
       "value": 8.0
      }
     },
     "cba95e325a8842ffaa29bf27ca7e5aeb": {
      "model_module": "@jupyter-widgets/base",
      "model_module_version": "1.2.0",
      "model_name": "LayoutModel",
      "state": {
       "_model_module": "@jupyter-widgets/base",
       "_model_module_version": "1.2.0",
       "_model_name": "LayoutModel",
       "_view_count": null,
       "_view_module": "@jupyter-widgets/base",
       "_view_module_version": "1.2.0",
       "_view_name": "LayoutView",
       "align_content": null,
       "align_items": null,
       "align_self": null,
       "border": null,
       "bottom": null,
       "display": null,
       "flex": null,
       "flex_flow": null,
       "grid_area": null,
       "grid_auto_columns": null,
       "grid_auto_flow": null,
       "grid_auto_rows": null,
       "grid_column": null,
       "grid_gap": null,
       "grid_row": null,
       "grid_template_areas": null,
       "grid_template_columns": null,
       "grid_template_rows": null,
       "height": null,
       "justify_content": null,
       "justify_items": null,
       "left": null,
       "margin": null,
       "max_height": null,
       "max_width": null,
       "min_height": null,
       "min_width": null,
       "object_fit": null,
       "object_position": null,
       "order": null,
       "overflow": null,
       "overflow_x": null,
       "overflow_y": null,
       "padding": null,
       "right": null,
       "top": null,
       "visibility": null,
       "width": null
      }
     },
     "cd5ef0f991704b26af29fcc25690fce6": {
      "model_module": "@jupyter-widgets/controls",
      "model_module_version": "1.5.0",
      "model_name": "DescriptionStyleModel",
      "state": {
       "_model_module": "@jupyter-widgets/controls",
       "_model_module_version": "1.5.0",
       "_model_name": "DescriptionStyleModel",
       "_view_count": null,
       "_view_module": "@jupyter-widgets/base",
       "_view_module_version": "1.2.0",
       "_view_name": "StyleView",
       "description_width": ""
      }
     },
     "d061a29ef80142d2ba022dbc2f93eeac": {
      "model_module": "@jupyter-widgets/controls",
      "model_module_version": "1.5.0",
      "model_name": "HTMLModel",
      "state": {
       "_dom_classes": [],
       "_model_module": "@jupyter-widgets/controls",
       "_model_module_version": "1.5.0",
       "_model_name": "HTMLModel",
       "_view_count": null,
       "_view_module": "@jupyter-widgets/controls",
       "_view_module_version": "1.5.0",
       "_view_name": "HTMLView",
       "description": "",
       "description_tooltip": null,
       "layout": "IPY_MODEL_8694b7d7efe647f887bfc3b8f04071c6",
       "placeholder": "​",
       "style": "IPY_MODEL_2254dfd2451d4554a58abd2c886c4b63",
       "value": " 5.27k/? [00:00&lt;00:00, 269kB/s]"
      }
     },
     "d11b014919be4bf186fa3a39aba22996": {
      "model_module": "@jupyter-widgets/controls",
      "model_module_version": "1.5.0",
      "model_name": "HBoxModel",
      "state": {
       "_dom_classes": [],
       "_model_module": "@jupyter-widgets/controls",
       "_model_module_version": "1.5.0",
       "_model_name": "HBoxModel",
       "_view_count": null,
       "_view_module": "@jupyter-widgets/controls",
       "_view_module_version": "1.5.0",
       "_view_name": "HBoxView",
       "box_style": "",
       "children": [
        "IPY_MODEL_320f6d68ed094bc0b7f689c99b0139b6",
        "IPY_MODEL_cb1a4608763e4d8a95a37be9ad8d49b6",
        "IPY_MODEL_06db08ba1de24edc9f3e39750a0bf4c4"
       ],
       "layout": "IPY_MODEL_44289c90d26145a1a81f7915faa0ae45"
      }
     },
     "d2fe82f21ab64196a1249a7ed4ad9f7b": {
      "model_module": "@jupyter-widgets/controls",
      "model_module_version": "1.5.0",
      "model_name": "DescriptionStyleModel",
      "state": {
       "_model_module": "@jupyter-widgets/controls",
       "_model_module_version": "1.5.0",
       "_model_name": "DescriptionStyleModel",
       "_view_count": null,
       "_view_module": "@jupyter-widgets/base",
       "_view_module_version": "1.2.0",
       "_view_name": "StyleView",
       "description_width": ""
      }
     },
     "d32aafd8e60f484c85c5066126259dc5": {
      "model_module": "@jupyter-widgets/controls",
      "model_module_version": "1.5.0",
      "model_name": "FloatProgressModel",
      "state": {
       "_dom_classes": [],
       "_model_module": "@jupyter-widgets/controls",
       "_model_module_version": "1.5.0",
       "_model_name": "FloatProgressModel",
       "_view_count": null,
       "_view_module": "@jupyter-widgets/controls",
       "_view_module_version": "1.5.0",
       "_view_name": "ProgressView",
       "bar_style": "success",
       "description": "",
       "description_tooltip": null,
       "layout": "IPY_MODEL_7c42d7dc582642babd80dd0fb151b6a0",
       "max": 4.0,
       "min": 0.0,
       "orientation": "horizontal",
       "style": "IPY_MODEL_d4161d381bae44e4b4283918fbc862cc",
       "value": 4.0
      }
     },
     "d4161d381bae44e4b4283918fbc862cc": {
      "model_module": "@jupyter-widgets/controls",
      "model_module_version": "1.5.0",
      "model_name": "ProgressStyleModel",
      "state": {
       "_model_module": "@jupyter-widgets/controls",
       "_model_module_version": "1.5.0",
       "_model_name": "ProgressStyleModel",
       "_view_count": null,
       "_view_module": "@jupyter-widgets/base",
       "_view_module_version": "1.2.0",
       "_view_name": "StyleView",
       "bar_color": null,
       "description_width": ""
      }
     },
     "da8c1e54a44b42bf8358481f84f5275d": {
      "model_module": "@jupyter-widgets/base",
      "model_module_version": "1.2.0",
      "model_name": "LayoutModel",
      "state": {
       "_model_module": "@jupyter-widgets/base",
       "_model_module_version": "1.2.0",
       "_model_name": "LayoutModel",
       "_view_count": null,
       "_view_module": "@jupyter-widgets/base",
       "_view_module_version": "1.2.0",
       "_view_name": "LayoutView",
       "align_content": null,
       "align_items": null,
       "align_self": null,
       "border": null,
       "bottom": null,
       "display": null,
       "flex": null,
       "flex_flow": null,
       "grid_area": null,
       "grid_auto_columns": null,
       "grid_auto_flow": null,
       "grid_auto_rows": null,
       "grid_column": null,
       "grid_gap": null,
       "grid_row": null,
       "grid_template_areas": null,
       "grid_template_columns": null,
       "grid_template_rows": null,
       "height": null,
       "justify_content": null,
       "justify_items": null,
       "left": null,
       "margin": null,
       "max_height": null,
       "max_width": null,
       "min_height": null,
       "min_width": null,
       "object_fit": null,
       "object_position": null,
       "order": null,
       "overflow": null,
       "overflow_x": null,
       "overflow_y": null,
       "padding": null,
       "right": null,
       "top": null,
       "visibility": null,
       "width": null
      }
     },
     "db42d7feafaa48f3ade2fa65f5ed5f08": {
      "model_module": "@jupyter-widgets/controls",
      "model_module_version": "1.5.0",
      "model_name": "DescriptionStyleModel",
      "state": {
       "_model_module": "@jupyter-widgets/controls",
       "_model_module_version": "1.5.0",
       "_model_name": "DescriptionStyleModel",
       "_view_count": null,
       "_view_module": "@jupyter-widgets/base",
       "_view_module_version": "1.2.0",
       "_view_name": "StyleView",
       "description_width": ""
      }
     },
     "db92e182a37e4dd69ff6517bd54026d1": {
      "model_module": "@jupyter-widgets/controls",
      "model_module_version": "1.5.0",
      "model_name": "DescriptionStyleModel",
      "state": {
       "_model_module": "@jupyter-widgets/controls",
       "_model_module_version": "1.5.0",
       "_model_name": "DescriptionStyleModel",
       "_view_count": null,
       "_view_module": "@jupyter-widgets/base",
       "_view_module_version": "1.2.0",
       "_view_name": "StyleView",
       "description_width": ""
      }
     },
     "e0300b92b95a4c01b2628d833cc5bc93": {
      "model_module": "@jupyter-widgets/base",
      "model_module_version": "1.2.0",
      "model_name": "LayoutModel",
      "state": {
       "_model_module": "@jupyter-widgets/base",
       "_model_module_version": "1.2.0",
       "_model_name": "LayoutModel",
       "_view_count": null,
       "_view_module": "@jupyter-widgets/base",
       "_view_module_version": "1.2.0",
       "_view_name": "LayoutView",
       "align_content": null,
       "align_items": null,
       "align_self": null,
       "border": null,
       "bottom": null,
       "display": null,
       "flex": null,
       "flex_flow": null,
       "grid_area": null,
       "grid_auto_columns": null,
       "grid_auto_flow": null,
       "grid_auto_rows": null,
       "grid_column": null,
       "grid_gap": null,
       "grid_row": null,
       "grid_template_areas": null,
       "grid_template_columns": null,
       "grid_template_rows": null,
       "height": null,
       "justify_content": null,
       "justify_items": null,
       "left": null,
       "margin": null,
       "max_height": null,
       "max_width": null,
       "min_height": null,
       "min_width": null,
       "object_fit": null,
       "object_position": null,
       "order": null,
       "overflow": null,
       "overflow_x": null,
       "overflow_y": null,
       "padding": null,
       "right": null,
       "top": null,
       "visibility": null,
       "width": null
      }
     },
     "e2cf58eb5e5445349e34c66b656082d1": {
      "model_module": "@jupyter-widgets/base",
      "model_module_version": "1.2.0",
      "model_name": "LayoutModel",
      "state": {
       "_model_module": "@jupyter-widgets/base",
       "_model_module_version": "1.2.0",
       "_model_name": "LayoutModel",
       "_view_count": null,
       "_view_module": "@jupyter-widgets/base",
       "_view_module_version": "1.2.0",
       "_view_name": "LayoutView",
       "align_content": null,
       "align_items": null,
       "align_self": null,
       "border": null,
       "bottom": null,
       "display": null,
       "flex": null,
       "flex_flow": null,
       "grid_area": null,
       "grid_auto_columns": null,
       "grid_auto_flow": null,
       "grid_auto_rows": null,
       "grid_column": null,
       "grid_gap": null,
       "grid_row": null,
       "grid_template_areas": null,
       "grid_template_columns": null,
       "grid_template_rows": null,
       "height": null,
       "justify_content": null,
       "justify_items": null,
       "left": null,
       "margin": null,
       "max_height": null,
       "max_width": null,
       "min_height": null,
       "min_width": null,
       "object_fit": null,
       "object_position": null,
       "order": null,
       "overflow": null,
       "overflow_x": null,
       "overflow_y": null,
       "padding": null,
       "right": null,
       "top": null,
       "visibility": null,
       "width": null
      }
     },
     "e3ab719663204fa1a404689e0cb2a672": {
      "model_module": "@jupyter-widgets/controls",
      "model_module_version": "1.5.0",
      "model_name": "HTMLModel",
      "state": {
       "_dom_classes": [],
       "_model_module": "@jupyter-widgets/controls",
       "_model_module_version": "1.5.0",
       "_model_name": "HTMLModel",
       "_view_count": null,
       "_view_module": "@jupyter-widgets/controls",
       "_view_module_version": "1.5.0",
       "_view_name": "HTMLView",
       "description": "",
       "description_tooltip": null,
       "layout": "IPY_MODEL_7cf94956622f428490bbfbfe1604fa54",
       "placeholder": "​",
       "style": "IPY_MODEL_8322cb218f2d4db69c621a79eb653f7a",
       "value": "Downloading (…)lve/main/config.json: 100%"
      }
     },
     "e5c40216d00445f5b3fcf2321c99833a": {
      "model_module": "@jupyter-widgets/controls",
      "model_module_version": "1.5.0",
      "model_name": "HBoxModel",
      "state": {
       "_dom_classes": [],
       "_model_module": "@jupyter-widgets/controls",
       "_model_module_version": "1.5.0",
       "_model_name": "HBoxModel",
       "_view_count": null,
       "_view_module": "@jupyter-widgets/controls",
       "_view_module_version": "1.5.0",
       "_view_name": "HBoxView",
       "box_style": "",
       "children": [
        "IPY_MODEL_a36c5c0b99174e5f9fa66ffac6f30fbe",
        "IPY_MODEL_16aa4c0817c042c49dbd6156805cbd92",
        "IPY_MODEL_0af2ceecdd3e4859b9ead60acaa64c2c"
       ],
       "layout": "IPY_MODEL_0433280e6cb942449dc5e22c0f6449d7"
      }
     },
     "ec5631a2da13414ca84e2e5a171a3a68": {
      "model_module": "@jupyter-widgets/controls",
      "model_module_version": "1.5.0",
      "model_name": "HTMLModel",
      "state": {
       "_dom_classes": [],
       "_model_module": "@jupyter-widgets/controls",
       "_model_module_version": "1.5.0",
       "_model_name": "HTMLModel",
       "_view_count": null,
       "_view_module": "@jupyter-widgets/controls",
       "_view_module_version": "1.5.0",
       "_view_name": "HTMLView",
       "description": "",
       "description_tooltip": null,
       "layout": "IPY_MODEL_56c181e2cda746f2848372124bd59167",
       "placeholder": "​",
       "style": "IPY_MODEL_b205ee8ab109401cb9223da37bf5c691",
       "value": " 4/4 [00:00&lt;00:00, 10.99ba/s]"
      }
     },
     "ef7c9c58aee24755a0354430b48dcd3a": {
      "model_module": "@jupyter-widgets/base",
      "model_module_version": "1.2.0",
      "model_name": "LayoutModel",
      "state": {
       "_model_module": "@jupyter-widgets/base",
       "_model_module_version": "1.2.0",
       "_model_name": "LayoutModel",
       "_view_count": null,
       "_view_module": "@jupyter-widgets/base",
       "_view_module_version": "1.2.0",
       "_view_name": "LayoutView",
       "align_content": null,
       "align_items": null,
       "align_self": null,
       "border": null,
       "bottom": null,
       "display": null,
       "flex": null,
       "flex_flow": null,
       "grid_area": null,
       "grid_auto_columns": null,
       "grid_auto_flow": null,
       "grid_auto_rows": null,
       "grid_column": null,
       "grid_gap": null,
       "grid_row": null,
       "grid_template_areas": null,
       "grid_template_columns": null,
       "grid_template_rows": null,
       "height": null,
       "justify_content": null,
       "justify_items": null,
       "left": null,
       "margin": null,
       "max_height": null,
       "max_width": null,
       "min_height": null,
       "min_width": null,
       "object_fit": null,
       "object_position": null,
       "order": null,
       "overflow": null,
       "overflow_x": null,
       "overflow_y": null,
       "padding": null,
       "right": null,
       "top": null,
       "visibility": null,
       "width": null
      }
     },
     "f24a1c1171af440eb2060dbef08e3245": {
      "model_module": "@jupyter-widgets/base",
      "model_module_version": "1.2.0",
      "model_name": "LayoutModel",
      "state": {
       "_model_module": "@jupyter-widgets/base",
       "_model_module_version": "1.2.0",
       "_model_name": "LayoutModel",
       "_view_count": null,
       "_view_module": "@jupyter-widgets/base",
       "_view_module_version": "1.2.0",
       "_view_name": "LayoutView",
       "align_content": null,
       "align_items": null,
       "align_self": null,
       "border": null,
       "bottom": null,
       "display": null,
       "flex": null,
       "flex_flow": null,
       "grid_area": null,
       "grid_auto_columns": null,
       "grid_auto_flow": null,
       "grid_auto_rows": null,
       "grid_column": null,
       "grid_gap": null,
       "grid_row": null,
       "grid_template_areas": null,
       "grid_template_columns": null,
       "grid_template_rows": null,
       "height": null,
       "justify_content": null,
       "justify_items": null,
       "left": null,
       "margin": null,
       "max_height": null,
       "max_width": null,
       "min_height": null,
       "min_width": null,
       "object_fit": null,
       "object_position": null,
       "order": null,
       "overflow": null,
       "overflow_x": null,
       "overflow_y": null,
       "padding": null,
       "right": null,
       "top": null,
       "visibility": null,
       "width": null
      }
     },
     "f48d6ec05543407caf09c815ded2f604": {
      "model_module": "@jupyter-widgets/base",
      "model_module_version": "1.2.0",
      "model_name": "LayoutModel",
      "state": {
       "_model_module": "@jupyter-widgets/base",
       "_model_module_version": "1.2.0",
       "_model_name": "LayoutModel",
       "_view_count": null,
       "_view_module": "@jupyter-widgets/base",
       "_view_module_version": "1.2.0",
       "_view_name": "LayoutView",
       "align_content": null,
       "align_items": null,
       "align_self": null,
       "border": null,
       "bottom": null,
       "display": null,
       "flex": null,
       "flex_flow": null,
       "grid_area": null,
       "grid_auto_columns": null,
       "grid_auto_flow": null,
       "grid_auto_rows": null,
       "grid_column": null,
       "grid_gap": null,
       "grid_row": null,
       "grid_template_areas": null,
       "grid_template_columns": null,
       "grid_template_rows": null,
       "height": null,
       "justify_content": null,
       "justify_items": null,
       "left": null,
       "margin": null,
       "max_height": null,
       "max_width": null,
       "min_height": null,
       "min_width": null,
       "object_fit": null,
       "object_position": null,
       "order": null,
       "overflow": null,
       "overflow_x": null,
       "overflow_y": null,
       "padding": null,
       "right": null,
       "top": null,
       "visibility": null,
       "width": null
      }
     },
     "f59c44123e0d4577af1a78f9f2f6dcf4": {
      "model_module": "@jupyter-widgets/base",
      "model_module_version": "1.2.0",
      "model_name": "LayoutModel",
      "state": {
       "_model_module": "@jupyter-widgets/base",
       "_model_module_version": "1.2.0",
       "_model_name": "LayoutModel",
       "_view_count": null,
       "_view_module": "@jupyter-widgets/base",
       "_view_module_version": "1.2.0",
       "_view_name": "LayoutView",
       "align_content": null,
       "align_items": null,
       "align_self": null,
       "border": null,
       "bottom": null,
       "display": null,
       "flex": null,
       "flex_flow": null,
       "grid_area": null,
       "grid_auto_columns": null,
       "grid_auto_flow": null,
       "grid_auto_rows": null,
       "grid_column": null,
       "grid_gap": null,
       "grid_row": null,
       "grid_template_areas": null,
       "grid_template_columns": null,
       "grid_template_rows": null,
       "height": null,
       "justify_content": null,
       "justify_items": null,
       "left": null,
       "margin": null,
       "max_height": null,
       "max_width": null,
       "min_height": null,
       "min_width": null,
       "object_fit": null,
       "object_position": null,
       "order": null,
       "overflow": null,
       "overflow_x": null,
       "overflow_y": null,
       "padding": null,
       "right": null,
       "top": null,
       "visibility": null,
       "width": null
      }
     },
     "f81b444d4e4a405aa5d5ea17bc7e1840": {
      "model_module": "@jupyter-widgets/controls",
      "model_module_version": "1.5.0",
      "model_name": "ProgressStyleModel",
      "state": {
       "_model_module": "@jupyter-widgets/controls",
       "_model_module_version": "1.5.0",
       "_model_name": "ProgressStyleModel",
       "_view_count": null,
       "_view_module": "@jupyter-widgets/base",
       "_view_module_version": "1.2.0",
       "_view_name": "StyleView",
       "bar_color": null,
       "description_width": ""
      }
     }
    },
    "version_major": 2,
    "version_minor": 0
   }
  }
 },
 "nbformat": 4,
 "nbformat_minor": 5
}
